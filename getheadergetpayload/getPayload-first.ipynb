{
 "cells": [
  {
   "cell_type": "code",
   "execution_count": 31,
   "metadata": {},
   "outputs": [],
   "source": [
    "import numpy as np\n",
    "import pandas as pd\n",
    "import matplotlib.pyplot as plt\n",
    "import json\n",
    "import requests\n",
    "import time\n",
    "from datetime import datetime\n",
    "from google.cloud.logging import DESCENDING, Client\n",
    "plt.rcParams['axes.grid'] = True\n",
    "plt.rcParams['grid.alpha'] = 0.3\n",
    "plt.rcParams['axes.titlesize'] = 18\n",
    "plt.rcParams['font.family'] = 'monospace'"
   ]
  },
  {
   "cell_type": "code",
   "execution_count": 2,
   "metadata": {},
   "outputs": [
    {
     "name": "stderr",
     "output_type": "stream",
     "text": [
      "/usr/local/lib/python3.8/site-packages/google/auth/_default.py:78: UserWarning: Your application has authenticated using end user credentials from Google Cloud SDK without a quota project. You might receive a \"quota exceeded\" or \"API not enabled\" error. See the following page for troubleshooting: https://cloud.google.com/docs/authentication/adc-troubleshooting/user-creds. \n",
      "  warnings.warn(_CLOUD_SDK_CREDENTIALS_WARNING)\n"
     ]
    }
   ],
   "source": [
    "# fixTime = \"2023-04-13T01:00:00.000000Z\"\n",
    "client = Client(project='ultra-sound-relay')"
   ]
  },
  {
   "cell_type": "code",
   "execution_count": 15,
   "metadata": {},
   "outputs": [
    {
     "data": {
      "text/html": [
       "<div>\n",
       "<style scoped>\n",
       "    .dataframe tbody tr th:only-of-type {\n",
       "        vertical-align: middle;\n",
       "    }\n",
       "\n",
       "    .dataframe tbody tr th {\n",
       "        vertical-align: top;\n",
       "    }\n",
       "\n",
       "    .dataframe thead th {\n",
       "        text-align: right;\n",
       "    }\n",
       "</style>\n",
       "<table border=\"1\" class=\"dataframe\">\n",
       "  <thead>\n",
       "    <tr style=\"text-align: right;\">\n",
       "      <th></th>\n",
       "      <th>timestampRequestStart</th>\n",
       "      <th>blockNumber</th>\n",
       "      <th>timestampAfterDecode</th>\n",
       "      <th>method</th>\n",
       "      <th>timestampAfterAlreadyDelivered</th>\n",
       "      <th>proposerPubkey</th>\n",
       "      <th>slotStartSec</th>\n",
       "      <th>slot</th>\n",
       "      <th>mevBoostV</th>\n",
       "      <th>timestampAfterSignatureVerify</th>\n",
       "      <th>...</th>\n",
       "      <th>version</th>\n",
       "      <th>headSlot</th>\n",
       "      <th>timestampAfterPublishing</th>\n",
       "      <th>msIntoSlot</th>\n",
       "      <th>idArg</th>\n",
       "      <th>service</th>\n",
       "      <th>level</th>\n",
       "      <th>msg</th>\n",
       "      <th>numTx</th>\n",
       "      <th>ua</th>\n",
       "    </tr>\n",
       "  </thead>\n",
       "  <tbody>\n",
       "    <tr>\n",
       "      <th>0</th>\n",
       "      <td>1.681421e+12</td>\n",
       "      <td>17041034.0</td>\n",
       "      <td>1.681421e+12</td>\n",
       "      <td>getPayload</td>\n",
       "      <td>1.681421e+12</td>\n",
       "      <td>0x98ffffdbab43394475b9379723e260fa66ab76fb90a4...</td>\n",
       "      <td>1.681421e+09</td>\n",
       "      <td>6216447</td>\n",
       "      <td>v1.5.0</td>\n",
       "      <td>1.681421e+12</td>\n",
       "      <td>...</td>\n",
       "      <td></td>\n",
       "      <td>6216446.0</td>\n",
       "      <td>1.681421e+12</td>\n",
       "      <td>2373.0</td>\n",
       "      <td>btcs</td>\n",
       "      <td>relay/api</td>\n",
       "      <td>info</td>\n",
       "      <td>execution payload delivered</td>\n",
       "      <td>142.0</td>\n",
       "      <td>mev-boost/v1.5.0 okhttp/4.10.0</td>\n",
       "    </tr>\n",
       "    <tr>\n",
       "      <th>1</th>\n",
       "      <td>1.681421e+12</td>\n",
       "      <td>17041037.0</td>\n",
       "      <td>1.681421e+12</td>\n",
       "      <td>getPayload</td>\n",
       "      <td>1.681421e+12</td>\n",
       "      <td>0xae6494560be1b5104c7d465b2d89e68e84a2ea6cb157...</td>\n",
       "      <td>1.681421e+09</td>\n",
       "      <td>6216450</td>\n",
       "      <td>v1.5.0</td>\n",
       "      <td>1.681421e+12</td>\n",
       "      <td>...</td>\n",
       "      <td></td>\n",
       "      <td>6216449.0</td>\n",
       "      <td>1.681421e+12</td>\n",
       "      <td>3433.0</td>\n",
       "      <td></td>\n",
       "      <td>relay/api</td>\n",
       "      <td>info</td>\n",
       "      <td>execution payload delivered</td>\n",
       "      <td>511.0</td>\n",
       "      <td>mev-boost/v1.5.0 okhttp/4.10.0</td>\n",
       "    </tr>\n",
       "    <tr>\n",
       "      <th>2</th>\n",
       "      <td>1.681421e+12</td>\n",
       "      <td>17041041.0</td>\n",
       "      <td>1.681421e+12</td>\n",
       "      <td>getPayload</td>\n",
       "      <td>1.681421e+12</td>\n",
       "      <td>0xa7af3a3b7a4fa89b231befbe7d9d12cb98bf36a32503...</td>\n",
       "      <td>1.681421e+09</td>\n",
       "      <td>6216455</td>\n",
       "      <td>v1.5.0</td>\n",
       "      <td>1.681421e+12</td>\n",
       "      <td>...</td>\n",
       "      <td></td>\n",
       "      <td>6216454.0</td>\n",
       "      <td>1.681421e+12</td>\n",
       "      <td>940.0</td>\n",
       "      <td></td>\n",
       "      <td>relay/api</td>\n",
       "      <td>info</td>\n",
       "      <td>execution payload delivered</td>\n",
       "      <td>107.0</td>\n",
       "      <td>mev-boost/v1.5.0</td>\n",
       "    </tr>\n",
       "    <tr>\n",
       "      <th>3</th>\n",
       "      <td>1.681421e+12</td>\n",
       "      <td>17041042.0</td>\n",
       "      <td>1.681421e+12</td>\n",
       "      <td>getPayload</td>\n",
       "      <td>1.681421e+12</td>\n",
       "      <td>0x89e6ece670e05611b63bf39f6a1d702ea903f5c47e10...</td>\n",
       "      <td>1.681421e+09</td>\n",
       "      <td>6216456</td>\n",
       "      <td>v1.5.0</td>\n",
       "      <td>1.681421e+12</td>\n",
       "      <td>...</td>\n",
       "      <td></td>\n",
       "      <td>6216455.0</td>\n",
       "      <td>1.681421e+12</td>\n",
       "      <td>2684.0</td>\n",
       "      <td></td>\n",
       "      <td>relay/api</td>\n",
       "      <td>info</td>\n",
       "      <td>execution payload delivered</td>\n",
       "      <td>191.0</td>\n",
       "      <td>mev-boost/v1.5.0 okhttp/4.10.0</td>\n",
       "    </tr>\n",
       "    <tr>\n",
       "      <th>4</th>\n",
       "      <td>1.681422e+12</td>\n",
       "      <td>17041044.0</td>\n",
       "      <td>1.681422e+12</td>\n",
       "      <td>getPayload</td>\n",
       "      <td>1.681422e+12</td>\n",
       "      <td>0xb66ebe0aad5e96aeaf25cd1e088aefa51a32d944b861...</td>\n",
       "      <td>1.681422e+09</td>\n",
       "      <td>6216458</td>\n",
       "      <td>v1.5.0</td>\n",
       "      <td>1.681422e+12</td>\n",
       "      <td>...</td>\n",
       "      <td></td>\n",
       "      <td>6216457.0</td>\n",
       "      <td>1.681422e+12</td>\n",
       "      <td>1109.0</td>\n",
       "      <td></td>\n",
       "      <td>relay/api</td>\n",
       "      <td>info</td>\n",
       "      <td>execution payload delivered</td>\n",
       "      <td>146.0</td>\n",
       "      <td>mev-boost/v1.5.0 Prysm/v4.0.2/75338dd83d943ed5...</td>\n",
       "    </tr>\n",
       "  </tbody>\n",
       "</table>\n",
       "<p>5 rows × 23 columns</p>\n",
       "</div>"
      ],
      "text/plain": [
       "   timestampRequestStart  blockNumber  timestampAfterDecode      method  \\\n",
       "0           1.681421e+12   17041034.0          1.681421e+12  getPayload   \n",
       "1           1.681421e+12   17041037.0          1.681421e+12  getPayload   \n",
       "2           1.681421e+12   17041041.0          1.681421e+12  getPayload   \n",
       "3           1.681421e+12   17041042.0          1.681421e+12  getPayload   \n",
       "4           1.681422e+12   17041044.0          1.681422e+12  getPayload   \n",
       "\n",
       "   timestampAfterAlreadyDelivered  \\\n",
       "0                    1.681421e+12   \n",
       "1                    1.681421e+12   \n",
       "2                    1.681421e+12   \n",
       "3                    1.681421e+12   \n",
       "4                    1.681422e+12   \n",
       "\n",
       "                                      proposerPubkey  slotStartSec     slot  \\\n",
       "0  0x98ffffdbab43394475b9379723e260fa66ab76fb90a4...  1.681421e+09  6216447   \n",
       "1  0xae6494560be1b5104c7d465b2d89e68e84a2ea6cb157...  1.681421e+09  6216450   \n",
       "2  0xa7af3a3b7a4fa89b231befbe7d9d12cb98bf36a32503...  1.681421e+09  6216455   \n",
       "3  0x89e6ece670e05611b63bf39f6a1d702ea903f5c47e10...  1.681421e+09  6216456   \n",
       "4  0xb66ebe0aad5e96aeaf25cd1e088aefa51a32d944b861...  1.681422e+09  6216458   \n",
       "\n",
       "  mevBoostV  timestampAfterSignatureVerify  ... version   headSlot  \\\n",
       "0    v1.5.0                   1.681421e+12  ...          6216446.0   \n",
       "1    v1.5.0                   1.681421e+12  ...          6216449.0   \n",
       "2    v1.5.0                   1.681421e+12  ...          6216454.0   \n",
       "3    v1.5.0                   1.681421e+12  ...          6216455.0   \n",
       "4    v1.5.0                   1.681422e+12  ...          6216457.0   \n",
       "\n",
       "   timestampAfterPublishing msIntoSlot  idArg    service  level  \\\n",
       "0              1.681421e+12     2373.0   btcs  relay/api   info   \n",
       "1              1.681421e+12     3433.0         relay/api   info   \n",
       "2              1.681421e+12      940.0         relay/api   info   \n",
       "3              1.681421e+12     2684.0         relay/api   info   \n",
       "4              1.681422e+12     1109.0         relay/api   info   \n",
       "\n",
       "                           msg  numTx  \\\n",
       "0  execution payload delivered  142.0   \n",
       "1  execution payload delivered  511.0   \n",
       "2  execution payload delivered  107.0   \n",
       "3  execution payload delivered  191.0   \n",
       "4  execution payload delivered  146.0   \n",
       "\n",
       "                                                  ua  \n",
       "0                     mev-boost/v1.5.0 okhttp/4.10.0  \n",
       "1                     mev-boost/v1.5.0 okhttp/4.10.0  \n",
       "2                                   mev-boost/v1.5.0  \n",
       "3                     mev-boost/v1.5.0 okhttp/4.10.0  \n",
       "4  mev-boost/v1.5.0 Prysm/v4.0.2/75338dd83d943ed5...  \n",
       "\n",
       "[5 rows x 23 columns]"
      ]
     },
     "execution_count": 15,
     "metadata": {},
     "output_type": "execute_result"
    }
   ],
   "source": [
    "# construct query\n",
    "now = pd.Timestamp.utcnow()\n",
    "prev = now - pd.Timedelta('24h')\n",
    "logFilter = 'jsonPayload.method=\"getPayload\" AND \"execution payload delivered\" ' + \\\n",
    "        'AND timestamp>=' + '\\\"' + (prev).strftime('%Y-%m-%dT%H:%M:%S.%fZ') + '\\\" ' + \\\n",
    "        'AND timestamp<=' + '\\\"' + (now).strftime('%Y-%m-%dT%H:%M:%S.%fZ') + '\\\"'\n",
    "\n",
    "# read results into a df\n",
    "payloads = []\n",
    "for e in client.list_entries(filter_=logFilter):\n",
    "    payloads.append(e.to_api_repr()['jsonPayload'])\n",
    "payloads = pd.DataFrame(payloads)\n",
    "payloads = payloads.astype({'slot': 'int32'})\n",
    "\n",
    "payloads.head()"
   ]
  },
  {
   "cell_type": "code",
   "execution_count": 17,
   "metadata": {},
   "outputs": [
    {
     "data": {
      "text/plain": [
       "Index(['timestampRequestStart', 'blockNumber', 'timestampAfterDecode',\n",
       "       'method', 'timestampAfterAlreadyDelivered', 'proposerPubkey',\n",
       "       'slotStartSec', 'slot', 'mevBoostV', 'timestampAfterSignatureVerify',\n",
       "       'blockHash', 'timestampBeforePublishing', 'contentLength', 'version',\n",
       "       'headSlot', 'timestampAfterPublishing', 'msIntoSlot', 'idArg',\n",
       "       'service', 'level', 'msg', 'numTx', 'ua'],\n",
       "      dtype='object')"
      ]
     },
     "execution_count": 17,
     "metadata": {},
     "output_type": "execute_result"
    }
   ],
   "source": [
    "payloads.keys()"
   ]
  },
  {
   "cell_type": "code",
   "execution_count": 18,
   "metadata": {},
   "outputs": [
    {
     "data": {
      "text/plain": [
       "(2146, 2117)"
      ]
     },
     "execution_count": 18,
     "metadata": {},
     "output_type": "execute_result"
    }
   ],
   "source": [
    "len(payloads.slot), len(set(payloads.slot))"
   ]
  },
  {
   "cell_type": "code",
   "execution_count": 19,
   "metadata": {},
   "outputs": [
    {
     "data": {
      "text/plain": [
       "2117"
      ]
     },
     "execution_count": 19,
     "metadata": {},
     "output_type": "execute_result"
    }
   ],
   "source": [
    "payloads = payloads.sort_values('msIntoSlot', ascending=True).drop_duplicates('slot').sort_index()\n",
    "len(payloads)"
   ]
  },
  {
   "cell_type": "code",
   "execution_count": 20,
   "metadata": {},
   "outputs": [
    {
     "data": {
      "text/plain": [
       "0       2373.0\n",
       "1       3433.0\n",
       "2        940.0\n",
       "3       2684.0\n",
       "4       1109.0\n",
       "         ...  \n",
       "2141     835.0\n",
       "2142     897.0\n",
       "2143     828.0\n",
       "2144    1374.0\n",
       "2145    1853.0\n",
       "Name: msIntoSlot, Length: 2117, dtype: float64"
      ]
     },
     "execution_count": 20,
     "metadata": {},
     "output_type": "execute_result"
    }
   ],
   "source": [
    "payloads.msIntoSlot"
   ]
  },
  {
   "cell_type": "code",
   "execution_count": 52,
   "metadata": {},
   "outputs": [
    {
     "data": {
      "image/png": "[encoded data removed]",
      "text/plain": [
       "<Figure size 576x360 with 1 Axes>"
      ]
     },
     "metadata": {
      "needs_background": "light"
     },
     "output_type": "display_data"
    }
   ],
   "source": [
    "f, ax = plt.subplots(figsize=(8,5))\n",
    "# ax2 = ax.twinx()\n",
    "\n",
    "percs = [(int(i*100), np.quantile(payloads.msIntoSlot, i)) for i in [.50, .90, .99]]\n",
    "linestyle = ['-', '--', ':']\n",
    "for i, v in enumerate(percs):\n",
    "    ax.axvline(v[1], label='p{}={:0.0f}'.format(v[0], v[1]), color='k', linestyle=linestyle[i], linewidth=3, alpha=0.7)\n",
    "\n",
    "ax.hist(payloads.msIntoSlot, bins=500, density=True, alpha=0.9, cumulative=True, color='tomato')\n",
    "# ax.hist(payloads.msIntoSlot, bins=500, density=True, alpha=0.9, color='tomato', label='pdf')\n",
    "ax.set_xlabel('ms into slot', size=15)\n",
    "ax.set_title('getPayload arrival time; $\\mu$={:0.0f}ms'.format(payloads.msIntoSlot.mean()), size=17)\n",
    "ax.legend(loc=4)\n",
    "plt.show()"
   ]
  }
 ],
 "metadata": {
  "kernelspec": {
   "display_name": "Python 3",
   "language": "python",
   "name": "python3"
  },
  "language_info": {
   "codemirror_mode": {
    "name": "ipython",
    "version": 3
   },
   "file_extension": ".py",
   "mimetype": "text/x-python",
   "name": "python",
   "nbconvert_exporter": "python",
   "pygments_lexer": "ipython3",
   "version": "3.8.16"
  }
 },
 "nbformat": 4,
 "nbformat_minor": 4
}

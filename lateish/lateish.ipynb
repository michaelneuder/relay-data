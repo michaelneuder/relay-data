{
 "cells": [
  {
   "cell_type": "code",
   "execution_count": 64,
   "metadata": {},
   "outputs": [],
   "source": [
    "import numpy as np\n",
    "import pandas as pd\n",
    "import matplotlib.pyplot as plt\n",
    "import json\n",
    "import requests\n",
    "import time\n",
    "import tqdm\n",
    "from datetime import datetime\n",
    "plt.rcParams['axes.grid'] = True\n",
    "plt.rcParams['grid.alpha'] = 0.3\n",
    "plt.rcParams['axes.titlesize'] = 18\n",
    "genesis = 1606824023"
   ]
  },
  {
   "cell_type": "code",
   "execution_count": 42,
   "metadata": {},
   "outputs": [],
   "source": [
    "stakers = pd.read_parquet('stakers.parquet.gzip')"
   ]
  },
  {
   "cell_type": "code",
   "execution_count": 23,
   "metadata": {},
   "outputs": [
    {
     "data": {
      "text/html": [
       "<div>\n",
       "<style scoped>\n",
       "    .dataframe tbody tr th:only-of-type {\n",
       "        vertical-align: middle;\n",
       "    }\n",
       "\n",
       "    .dataframe tbody tr th {\n",
       "        vertical-align: top;\n",
       "    }\n",
       "\n",
       "    .dataframe thead th {\n",
       "        text-align: right;\n",
       "    }\n",
       "</style>\n",
       "<table border=\"1\" class=\"dataframe\">\n",
       "  <thead>\n",
       "    <tr style=\"text-align: right;\">\n",
       "      <th></th>\n",
       "      <th>signed_at</th>\n",
       "      <th>inserted_at</th>\n",
       "      <th>proposer_fee_recipient</th>\n",
       "      <th>proposer_pubkey</th>\n",
       "      <th>slot</th>\n",
       "      <th>slot_boundary</th>\n",
       "      <th>diff</th>\n",
       "    </tr>\n",
       "  </thead>\n",
       "  <tbody>\n",
       "    <tr>\n",
       "      <th>0</th>\n",
       "      <td>2023-04-06 12:13:59.684712</td>\n",
       "      <td>2023-04-06 12:14:00.989273</td>\n",
       "      <td>0xffee087852cb4898e6c3532e776e68bc68b1143b</td>\n",
       "      <td>0x8aa08624111e95b8ff3c5ea27129e791f8be18e98f95...</td>\n",
       "      <td>6163268</td>\n",
       "      <td>2023-04-06 12:13:59</td>\n",
       "      <td>0.684712</td>\n",
       "    </tr>\n",
       "    <tr>\n",
       "      <th>1</th>\n",
       "      <td>2023-04-06 12:14:23.724199</td>\n",
       "      <td>2023-04-06 12:14:25.068471</td>\n",
       "      <td>0xebec795c9c8bbd61ffc14a6662944748f299cacf</td>\n",
       "      <td>0x856fe483c902592f23bc0b90b16975e224e2354332a7...</td>\n",
       "      <td>6163270</td>\n",
       "      <td>2023-04-06 12:14:23</td>\n",
       "      <td>0.724199</td>\n",
       "    </tr>\n",
       "    <tr>\n",
       "      <th>2</th>\n",
       "      <td>2023-04-06 12:15:47.822904</td>\n",
       "      <td>2023-04-06 12:15:49.173361</td>\n",
       "      <td>0xffee087852cb4898e6c3532e776e68bc68b1143b</td>\n",
       "      <td>0x80d1862cce3979eedb809de383a630ce225c96509127...</td>\n",
       "      <td>6163277</td>\n",
       "      <td>2023-04-06 12:15:47</td>\n",
       "      <td>0.822904</td>\n",
       "    </tr>\n",
       "    <tr>\n",
       "      <th>3</th>\n",
       "      <td>2023-04-06 12:17:24.791384</td>\n",
       "      <td>2023-04-06 12:17:27.006807</td>\n",
       "      <td>0xebec795c9c8bbd61ffc14a6662944748f299cacf</td>\n",
       "      <td>0xb379cadcf137a1dd500f7ba64e8f22f834398dfe05c7...</td>\n",
       "      <td>6163285</td>\n",
       "      <td>2023-04-06 12:17:23</td>\n",
       "      <td>1.791384</td>\n",
       "    </tr>\n",
       "    <tr>\n",
       "      <th>4</th>\n",
       "      <td>2023-04-06 12:18:35.976799</td>\n",
       "      <td>2023-04-06 12:18:37.356851</td>\n",
       "      <td>0x388c818ca8b9251b393131c08a736a67ccb19297</td>\n",
       "      <td>0xaac4ffd599340ab2d8ac038156126f4f9aca3bfa7911...</td>\n",
       "      <td>6163291</td>\n",
       "      <td>2023-04-06 12:18:35</td>\n",
       "      <td>0.976799</td>\n",
       "    </tr>\n",
       "  </tbody>\n",
       "</table>\n",
       "</div>"
      ],
      "text/plain": [
       "                   signed_at                inserted_at  \\\n",
       "0 2023-04-06 12:13:59.684712 2023-04-06 12:14:00.989273   \n",
       "1 2023-04-06 12:14:23.724199 2023-04-06 12:14:25.068471   \n",
       "2 2023-04-06 12:15:47.822904 2023-04-06 12:15:49.173361   \n",
       "3 2023-04-06 12:17:24.791384 2023-04-06 12:17:27.006807   \n",
       "4 2023-04-06 12:18:35.976799 2023-04-06 12:18:37.356851   \n",
       "\n",
       "                       proposer_fee_recipient  \\\n",
       "0  0xffee087852cb4898e6c3532e776e68bc68b1143b   \n",
       "1  0xebec795c9c8bbd61ffc14a6662944748f299cacf   \n",
       "2  0xffee087852cb4898e6c3532e776e68bc68b1143b   \n",
       "3  0xebec795c9c8bbd61ffc14a6662944748f299cacf   \n",
       "4  0x388c818ca8b9251b393131c08a736a67ccb19297   \n",
       "\n",
       "                                     proposer_pubkey     slot  \\\n",
       "0  0x8aa08624111e95b8ff3c5ea27129e791f8be18e98f95...  6163268   \n",
       "1  0x856fe483c902592f23bc0b90b16975e224e2354332a7...  6163270   \n",
       "2  0x80d1862cce3979eedb809de383a630ce225c96509127...  6163277   \n",
       "3  0xb379cadcf137a1dd500f7ba64e8f22f834398dfe05c7...  6163285   \n",
       "4  0xaac4ffd599340ab2d8ac038156126f4f9aca3bfa7911...  6163291   \n",
       "\n",
       "        slot_boundary      diff  \n",
       "0 2023-04-06 12:13:59  0.684712  \n",
       "1 2023-04-06 12:14:23  0.724199  \n",
       "2 2023-04-06 12:15:47  0.822904  \n",
       "3 2023-04-06 12:17:23  1.791384  \n",
       "4 2023-04-06 12:18:35  0.976799  "
      ]
     },
     "execution_count": 23,
     "metadata": {},
     "output_type": "execute_result"
    }
   ],
   "source": [
    "delivered = pd.read_csv('delivered24.txt', delimiter='|', \n",
    "                        names=['signed_at','inserted_at','proposer_fee_recipient','proposer_pubkey','slot'])\n",
    "delivered['signed_at'] = pd.to_datetime(delivered['signed_at'], format=\"%Y-%m-%d%H:%M:%S.%f\")\n",
    "delivered['inserted_at'] = pd.to_datetime(delivered['inserted_at'], format=\"%Y-%m-%d%H:%M:%S.%f\")\n",
    "delivered['slot_boundary'] = np.asarray([pd.Timestamp(x).round(freq='12S')-pd.Timedelta(seconds=1)\n",
    "                                         for x in delivered['signed_at'].values])\n",
    "delivered['diff'] = [v.total_seconds() for v in delivered['signed_at']-delivered['slot_boundary']]\n",
    "\n",
    "delivered.head()"
   ]
  },
  {
   "cell_type": "code",
   "execution_count": 31,
   "metadata": {},
   "outputs": [
    {
     "data": {
      "text/html": [
       "<div>\n",
       "<style scoped>\n",
       "    .dataframe tbody tr th:only-of-type {\n",
       "        vertical-align: middle;\n",
       "    }\n",
       "\n",
       "    .dataframe tbody tr th {\n",
       "        vertical-align: top;\n",
       "    }\n",
       "\n",
       "    .dataframe thead th {\n",
       "        text-align: right;\n",
       "    }\n",
       "</style>\n",
       "<table border=\"1\" class=\"dataframe\">\n",
       "  <thead>\n",
       "    <tr style=\"text-align: right;\">\n",
       "      <th></th>\n",
       "      <th>signed_at</th>\n",
       "      <th>slot_boundary</th>\n",
       "      <th>diff</th>\n",
       "    </tr>\n",
       "  </thead>\n",
       "  <tbody>\n",
       "    <tr>\n",
       "      <th>0</th>\n",
       "      <td>2023-04-06 12:13:59.684712</td>\n",
       "      <td>2023-04-06 12:13:59</td>\n",
       "      <td>0.684712</td>\n",
       "    </tr>\n",
       "    <tr>\n",
       "      <th>1</th>\n",
       "      <td>2023-04-06 12:14:23.724199</td>\n",
       "      <td>2023-04-06 12:14:23</td>\n",
       "      <td>0.724199</td>\n",
       "    </tr>\n",
       "    <tr>\n",
       "      <th>2</th>\n",
       "      <td>2023-04-06 12:15:47.822904</td>\n",
       "      <td>2023-04-06 12:15:47</td>\n",
       "      <td>0.822904</td>\n",
       "    </tr>\n",
       "    <tr>\n",
       "      <th>3</th>\n",
       "      <td>2023-04-06 12:17:24.791384</td>\n",
       "      <td>2023-04-06 12:17:23</td>\n",
       "      <td>1.791384</td>\n",
       "    </tr>\n",
       "    <tr>\n",
       "      <th>4</th>\n",
       "      <td>2023-04-06 12:18:35.976799</td>\n",
       "      <td>2023-04-06 12:18:35</td>\n",
       "      <td>0.976799</td>\n",
       "    </tr>\n",
       "    <tr>\n",
       "      <th>...</th>\n",
       "      <td>...</td>\n",
       "      <td>...</td>\n",
       "      <td>...</td>\n",
       "    </tr>\n",
       "    <tr>\n",
       "      <th>2670</th>\n",
       "      <td>2023-04-07 12:14:47.715672</td>\n",
       "      <td>2023-04-07 12:14:47</td>\n",
       "      <td>0.715672</td>\n",
       "    </tr>\n",
       "    <tr>\n",
       "      <th>2671</th>\n",
       "      <td>2023-04-07 12:14:59.817935</td>\n",
       "      <td>2023-04-07 12:14:59</td>\n",
       "      <td>0.817935</td>\n",
       "    </tr>\n",
       "    <tr>\n",
       "      <th>2672</th>\n",
       "      <td>2023-04-07 12:15:47.580455</td>\n",
       "      <td>2023-04-07 12:15:47</td>\n",
       "      <td>0.580455</td>\n",
       "    </tr>\n",
       "    <tr>\n",
       "      <th>2673</th>\n",
       "      <td>2023-04-07 12:16:12.555995</td>\n",
       "      <td>2023-04-07 12:16:11</td>\n",
       "      <td>1.555995</td>\n",
       "    </tr>\n",
       "    <tr>\n",
       "      <th>2674</th>\n",
       "      <td>2023-04-07 12:16:35.845596</td>\n",
       "      <td>2023-04-07 12:16:35</td>\n",
       "      <td>0.845596</td>\n",
       "    </tr>\n",
       "  </tbody>\n",
       "</table>\n",
       "<p>2675 rows × 3 columns</p>\n",
       "</div>"
      ],
      "text/plain": [
       "                      signed_at       slot_boundary      diff\n",
       "0    2023-04-06 12:13:59.684712 2023-04-06 12:13:59  0.684712\n",
       "1    2023-04-06 12:14:23.724199 2023-04-06 12:14:23  0.724199\n",
       "2    2023-04-06 12:15:47.822904 2023-04-06 12:15:47  0.822904\n",
       "3    2023-04-06 12:17:24.791384 2023-04-06 12:17:23  1.791384\n",
       "4    2023-04-06 12:18:35.976799 2023-04-06 12:18:35  0.976799\n",
       "...                         ...                 ...       ...\n",
       "2670 2023-04-07 12:14:47.715672 2023-04-07 12:14:47  0.715672\n",
       "2671 2023-04-07 12:14:59.817935 2023-04-07 12:14:59  0.817935\n",
       "2672 2023-04-07 12:15:47.580455 2023-04-07 12:15:47  0.580455\n",
       "2673 2023-04-07 12:16:12.555995 2023-04-07 12:16:11  1.555995\n",
       "2674 2023-04-07 12:16:35.845596 2023-04-07 12:16:35  0.845596\n",
       "\n",
       "[2675 rows x 3 columns]"
      ]
     },
     "execution_count": 31,
     "metadata": {},
     "output_type": "execute_result"
    }
   ],
   "source": [
    "delivered[['signed_at','slot_boundary', 'diff']]"
   ]
  },
  {
   "cell_type": "code",
   "execution_count": 33,
   "metadata": {},
   "outputs": [
    {
     "data": {
      "image/png": "[encoded data removed]",
      "text/plain": [
       "<Figure size 720x432 with 1 Axes>"
      ]
     },
     "metadata": {
      "needs_background": "light"
     },
     "output_type": "display_data"
    }
   ],
   "source": [
    "f, ax = plt.subplots(figsize=(10,6))\n",
    "\n",
    "bins = np.histogram(delivered['diff'], bins=600)[1]\n",
    "\n",
    "ax.hist(delivered['diff'], bins, color='g', alpha=0.5, cumulative=1, density=True, label='cdf')\n",
    "percs = [(int(i*100), np.quantile(delivered['diff'], i)) for i in [.50, .90, .99]]\n",
    "linestyle = ['-', '--', ':']\n",
    "for i, v in enumerate(percs):\n",
    "    ax.axvline(v[1], label='p{}={:0.3f}'.format(v[0], v[1]), color='k', linestyle=linestyle[i], linewidth=3, alpha=0.7)\n",
    "\n",
    "ax.set_xlabel('time into slot $(s)$', size=16)\n",
    "ax.set_title('getPayload arrival into slot; $\\mu={:0.3f}$s'.format(delivered['diff'].mean()), size=18)\n",
    "plt.legend(loc=4)\n",
    "plt.show()"
   ]
  },
  {
   "cell_type": "code",
   "execution_count": 34,
   "metadata": {},
   "outputs": [
    {
     "data": {
      "text/html": [
       "<div>\n",
       "<style scoped>\n",
       "    .dataframe tbody tr th:only-of-type {\n",
       "        vertical-align: middle;\n",
       "    }\n",
       "\n",
       "    .dataframe tbody tr th {\n",
       "        vertical-align: top;\n",
       "    }\n",
       "\n",
       "    .dataframe thead th {\n",
       "        text-align: right;\n",
       "    }\n",
       "</style>\n",
       "<table border=\"1\" class=\"dataframe\">\n",
       "  <thead>\n",
       "    <tr style=\"text-align: right;\">\n",
       "      <th></th>\n",
       "      <th>signed_at</th>\n",
       "      <th>inserted_at</th>\n",
       "      <th>proposer_fee_recipient</th>\n",
       "      <th>proposer_pubkey</th>\n",
       "      <th>slot</th>\n",
       "      <th>slot_boundary</th>\n",
       "      <th>diff</th>\n",
       "    </tr>\n",
       "  </thead>\n",
       "  <tbody>\n",
       "    <tr>\n",
       "      <th>6</th>\n",
       "      <td>2023-04-06 12:19:37.708393</td>\n",
       "      <td>2023-04-06 12:19:39.312535</td>\n",
       "      <td>0x4675c7e5baafbffbca748158becba61ef3b0a263</td>\n",
       "      <td>0xac7564cc41026f2e5e267dc88ac10e9ba45bd360a6dc...</td>\n",
       "      <td>6163296</td>\n",
       "      <td>2023-04-06 12:19:35</td>\n",
       "      <td>2.708393</td>\n",
       "    </tr>\n",
       "    <tr>\n",
       "      <th>30</th>\n",
       "      <td>2023-04-06 12:30:26.485719</td>\n",
       "      <td>2023-04-06 12:30:27.961698</td>\n",
       "      <td>0x388c818ca8b9251b393131c08a736a67ccb19297</td>\n",
       "      <td>0x91da2ba76af5228c0a8fa702f530b839609ac4ee853f...</td>\n",
       "      <td>6163350</td>\n",
       "      <td>2023-04-06 12:30:23</td>\n",
       "      <td>3.485719</td>\n",
       "    </tr>\n",
       "    <tr>\n",
       "      <th>36</th>\n",
       "      <td>2023-04-06 12:32:25.153372</td>\n",
       "      <td>2023-04-06 12:32:26.760679</td>\n",
       "      <td>0xebec795c9c8bbd61ffc14a6662944748f299cacf</td>\n",
       "      <td>0x80883208b47d370a1e60b95d4e6b280ca576767d2ebb...</td>\n",
       "      <td>6163360</td>\n",
       "      <td>2023-04-06 12:32:23</td>\n",
       "      <td>2.153372</td>\n",
       "    </tr>\n",
       "    <tr>\n",
       "      <th>66</th>\n",
       "      <td>2023-04-06 12:47:25.537436</td>\n",
       "      <td>2023-04-06 12:47:26.840860</td>\n",
       "      <td>0x4675c7e5baafbffbca748158becba61ef3b0a263</td>\n",
       "      <td>0x908c3f20bcfaa86fa727272769552372671d4fb3f565...</td>\n",
       "      <td>6163435</td>\n",
       "      <td>2023-04-06 12:47:23</td>\n",
       "      <td>2.537436</td>\n",
       "    </tr>\n",
       "    <tr>\n",
       "      <th>74</th>\n",
       "      <td>2023-04-06 12:50:13.480466</td>\n",
       "      <td>2023-04-06 12:50:14.808521</td>\n",
       "      <td>0x90b0c836a19a74195d45fad2d2d3895a7a3eab08</td>\n",
       "      <td>0xaf9f39f7fbdf879f6967171bbb4ad82448c3c5a339c7...</td>\n",
       "      <td>6163449</td>\n",
       "      <td>2023-04-06 12:50:11</td>\n",
       "      <td>2.480466</td>\n",
       "    </tr>\n",
       "    <tr>\n",
       "      <th>...</th>\n",
       "      <td>...</td>\n",
       "      <td>...</td>\n",
       "      <td>...</td>\n",
       "      <td>...</td>\n",
       "      <td>...</td>\n",
       "      <td>...</td>\n",
       "      <td>...</td>\n",
       "    </tr>\n",
       "    <tr>\n",
       "      <th>2560</th>\n",
       "      <td>2023-04-07 11:20:01.172694</td>\n",
       "      <td>2023-04-07 11:20:03.364819</td>\n",
       "      <td>0x1d15a60073b81e658e40bcc500be409d581927d7</td>\n",
       "      <td>0x81847df5fa3a39109a8a756835312955b0c23f42f195...</td>\n",
       "      <td>6170198</td>\n",
       "      <td>2023-04-07 11:19:59</td>\n",
       "      <td>2.172694</td>\n",
       "    </tr>\n",
       "    <tr>\n",
       "      <th>2563</th>\n",
       "      <td>2023-04-07 11:22:01.938405</td>\n",
       "      <td>2023-04-07 11:22:03.708464</td>\n",
       "      <td>0x4675c7e5baafbffbca748158becba61ef3b0a263</td>\n",
       "      <td>0xa0715286b27cfb29ad8f2ce0338d6398f267b4efceb3...</td>\n",
       "      <td>6170208</td>\n",
       "      <td>2023-04-07 11:21:59</td>\n",
       "      <td>2.938405</td>\n",
       "    </tr>\n",
       "    <tr>\n",
       "      <th>2605</th>\n",
       "      <td>2023-04-07 11:41:13.815484</td>\n",
       "      <td>2023-04-07 11:41:15.399621</td>\n",
       "      <td>0x6d2e03b7effeae98bd302a9f836d0d6ab0002766</td>\n",
       "      <td>0x96843477b6bbdb244a96dc32f0484d3a41036d183574...</td>\n",
       "      <td>6170304</td>\n",
       "      <td>2023-04-07 11:41:11</td>\n",
       "      <td>2.815484</td>\n",
       "    </tr>\n",
       "    <tr>\n",
       "      <th>2637</th>\n",
       "      <td>2023-04-07 11:57:01.196228</td>\n",
       "      <td>2023-04-07 11:57:02.601597</td>\n",
       "      <td>0x4675c7e5baafbffbca748158becba61ef3b0a263</td>\n",
       "      <td>0x9072cf61b03b729d9c6ab83d59001ff93d963ffe1458...</td>\n",
       "      <td>6170383</td>\n",
       "      <td>2023-04-07 11:56:59</td>\n",
       "      <td>2.196228</td>\n",
       "    </tr>\n",
       "    <tr>\n",
       "      <th>2643</th>\n",
       "      <td>2023-04-07 11:59:49.265168</td>\n",
       "      <td>2023-04-07 11:59:50.563037</td>\n",
       "      <td>0x4675c7e5baafbffbca748158becba61ef3b0a263</td>\n",
       "      <td>0x80f1e7c61d6a068e12f3191c23ef1a699d6a94b3d0e6...</td>\n",
       "      <td>6170397</td>\n",
       "      <td>2023-04-07 11:59:47</td>\n",
       "      <td>2.265168</td>\n",
       "    </tr>\n",
       "  </tbody>\n",
       "</table>\n",
       "<p>94 rows × 7 columns</p>\n",
       "</div>"
      ],
      "text/plain": [
       "                      signed_at                inserted_at  \\\n",
       "6    2023-04-06 12:19:37.708393 2023-04-06 12:19:39.312535   \n",
       "30   2023-04-06 12:30:26.485719 2023-04-06 12:30:27.961698   \n",
       "36   2023-04-06 12:32:25.153372 2023-04-06 12:32:26.760679   \n",
       "66   2023-04-06 12:47:25.537436 2023-04-06 12:47:26.840860   \n",
       "74   2023-04-06 12:50:13.480466 2023-04-06 12:50:14.808521   \n",
       "...                         ...                        ...   \n",
       "2560 2023-04-07 11:20:01.172694 2023-04-07 11:20:03.364819   \n",
       "2563 2023-04-07 11:22:01.938405 2023-04-07 11:22:03.708464   \n",
       "2605 2023-04-07 11:41:13.815484 2023-04-07 11:41:15.399621   \n",
       "2637 2023-04-07 11:57:01.196228 2023-04-07 11:57:02.601597   \n",
       "2643 2023-04-07 11:59:49.265168 2023-04-07 11:59:50.563037   \n",
       "\n",
       "                          proposer_fee_recipient  \\\n",
       "6     0x4675c7e5baafbffbca748158becba61ef3b0a263   \n",
       "30    0x388c818ca8b9251b393131c08a736a67ccb19297   \n",
       "36    0xebec795c9c8bbd61ffc14a6662944748f299cacf   \n",
       "66    0x4675c7e5baafbffbca748158becba61ef3b0a263   \n",
       "74    0x90b0c836a19a74195d45fad2d2d3895a7a3eab08   \n",
       "...                                          ...   \n",
       "2560  0x1d15a60073b81e658e40bcc500be409d581927d7   \n",
       "2563  0x4675c7e5baafbffbca748158becba61ef3b0a263   \n",
       "2605  0x6d2e03b7effeae98bd302a9f836d0d6ab0002766   \n",
       "2637  0x4675c7e5baafbffbca748158becba61ef3b0a263   \n",
       "2643  0x4675c7e5baafbffbca748158becba61ef3b0a263   \n",
       "\n",
       "                                        proposer_pubkey     slot  \\\n",
       "6     0xac7564cc41026f2e5e267dc88ac10e9ba45bd360a6dc...  6163296   \n",
       "30    0x91da2ba76af5228c0a8fa702f530b839609ac4ee853f...  6163350   \n",
       "36    0x80883208b47d370a1e60b95d4e6b280ca576767d2ebb...  6163360   \n",
       "66    0x908c3f20bcfaa86fa727272769552372671d4fb3f565...  6163435   \n",
       "74    0xaf9f39f7fbdf879f6967171bbb4ad82448c3c5a339c7...  6163449   \n",
       "...                                                 ...      ...   \n",
       "2560  0x81847df5fa3a39109a8a756835312955b0c23f42f195...  6170198   \n",
       "2563  0xa0715286b27cfb29ad8f2ce0338d6398f267b4efceb3...  6170208   \n",
       "2605  0x96843477b6bbdb244a96dc32f0484d3a41036d183574...  6170304   \n",
       "2637  0x9072cf61b03b729d9c6ab83d59001ff93d963ffe1458...  6170383   \n",
       "2643  0x80f1e7c61d6a068e12f3191c23ef1a699d6a94b3d0e6...  6170397   \n",
       "\n",
       "           slot_boundary      diff  \n",
       "6    2023-04-06 12:19:35  2.708393  \n",
       "30   2023-04-06 12:30:23  3.485719  \n",
       "36   2023-04-06 12:32:23  2.153372  \n",
       "66   2023-04-06 12:47:23  2.537436  \n",
       "74   2023-04-06 12:50:11  2.480466  \n",
       "...                  ...       ...  \n",
       "2560 2023-04-07 11:19:59  2.172694  \n",
       "2563 2023-04-07 11:21:59  2.938405  \n",
       "2605 2023-04-07 11:41:11  2.815484  \n",
       "2637 2023-04-07 11:56:59  2.196228  \n",
       "2643 2023-04-07 11:59:47  2.265168  \n",
       "\n",
       "[94 rows x 7 columns]"
      ]
     },
     "execution_count": 34,
     "metadata": {},
     "output_type": "execute_result"
    }
   ],
   "source": [
    "lateish = delivered[delivered['diff'] >= 2]\n",
    "lateish"
   ]
  },
  {
   "cell_type": "code",
   "execution_count": 36,
   "metadata": {},
   "outputs": [
    {
     "data": {
      "text/plain": [
       "0x4675c7e5baafbffbca748158becba61ef3b0a263    26\n",
       "0x388c818ca8b9251b393131c08a736a67ccb19297    23\n",
       "0xebec795c9c8bbd61ffc14a6662944748f299cacf    12\n",
       "0x6d2e03b7effeae98bd302a9f836d0d6ab0002766     4\n",
       "0xe94f1fa4f27d9d288ffea234bb62e1fbc086ca0c     3\n",
       "0xf8636377b7a998b51a3cf2bd711b870b3ab0ad56     2\n",
       "0x91da5bf3f8eb72724e6f50ec6c3d199c6355c59c     2\n",
       "0xd4e96ef8eee8678dbff4d535e033ed1a4f7605b7     2\n",
       "0x07f20b1265059feb39d605e8476aa51595483ec6     2\n",
       "0x3bdea606effc7ba0f50ebaa2bac328dccc08d37f     1\n",
       "0x0038598ecb3b308ebc6c6e2c635bacaa3c5298a3     1\n",
       "0x4c992ec2d310ad988ed4b6874f6c3ca129358cfa     1\n",
       "0x87129f59a6b09b83a2695c8aa7d96540b74826ab     1\n",
       "0x0dd1607e8c911e07f29f23bad8cd22b2a3df9785     1\n",
       "0xf7c2aea111990e706c34444c32687243b90dad9e     1\n",
       "0x9695ee4778bdeb13b217979d93c4670cbf41cc65     1\n",
       "0x87d92cb7d006f82ea05c70d20b2fcce501a8c1b0     1\n",
       "0xab6b4b11378a57933333e4acfdc45567dd78f14e     1\n",
       "0xca9152c5bdcc094f3f7defbba803c92931cad4ba     1\n",
       "0x115b5736b5afcc6deca11cd13a85cae887887c89     1\n",
       "0x1d15a60073b81e658e40bcc500be409d581927d7     1\n",
       "0x960d86b400f3dfe8fa1f4f4adae8a769399e97ca     1\n",
       "0x51784975a392a8f24d33f81e9d4bc7f7c6155c5f     1\n",
       "0x51a1449b3b6d635eddec781cd47a99221712de97     1\n",
       "0x555481772cda9c4646b00f9c8822a031cb1859f0     1\n",
       "0x90b0c836a19a74195d45fad2d2d3895a7a3eab08     1\n",
       "0x2194331af2cf9de9adb36cf09654fad65cafb58b     1\n",
       "Name: proposer_fee_recipient, dtype: int64"
      ]
     },
     "execution_count": 36,
     "metadata": {},
     "output_type": "execute_result"
    }
   ],
   "source": [
    "lateish['proposer_fee_recipient'].value_counts()"
   ]
  },
  {
   "cell_type": "code",
   "execution_count": 43,
   "metadata": {},
   "outputs": [
    {
     "data": {
      "text/html": [
       "<div>\n",
       "<style scoped>\n",
       "    .dataframe tbody tr th:only-of-type {\n",
       "        vertical-align: middle;\n",
       "    }\n",
       "\n",
       "    .dataframe tbody tr th {\n",
       "        vertical-align: top;\n",
       "    }\n",
       "\n",
       "    .dataframe thead th {\n",
       "        text-align: right;\n",
       "    }\n",
       "</style>\n",
       "<table border=\"1\" class=\"dataframe\">\n",
       "  <thead>\n",
       "    <tr style=\"text-align: right;\">\n",
       "      <th></th>\n",
       "      <th>pubkey</th>\n",
       "      <th>address</th>\n",
       "      <th>label</th>\n",
       "    </tr>\n",
       "  </thead>\n",
       "  <tbody>\n",
       "    <tr>\n",
       "      <th>301705</th>\n",
       "      <td>0xac7564cc41026f2e5e267dc88ac10e9ba45bd360a6dc...</td>\n",
       "      <td>0x8d0f588e3fd89ec1f75a923eac169bc191e18531</td>\n",
       "      <td>coinbase</td>\n",
       "    </tr>\n",
       "  </tbody>\n",
       "</table>\n",
       "</div>"
      ],
      "text/plain": [
       "                                                   pubkey  \\\n",
       "301705  0xac7564cc41026f2e5e267dc88ac10e9ba45bd360a6dc...   \n",
       "\n",
       "                                           address     label  \n",
       "301705  0x8d0f588e3fd89ec1f75a923eac169bc191e18531  coinbase  "
      ]
     },
     "execution_count": 43,
     "metadata": {},
     "output_type": "execute_result"
    }
   ],
   "source": [
    "stakers[stakers['pubkey']=='0xac7564cc41026f2e5e267dc88ac10e9ba45bd360a6dc00079254f2a6ae01fefa71d893c67c3103922a57f5baf5fd0f9d']"
   ]
  },
  {
   "cell_type": "code",
   "execution_count": 57,
   "metadata": {},
   "outputs": [],
   "source": [
    "stakers_count = {}\n",
    "for pk in lateish['proposer_pubkey']:\n",
    "    entry = stakers[stakers['pubkey']==pk]\n",
    "    if len(entry) == 1:\n",
    "        try: \n",
    "            stakers_count[entry['label'].values[0]] += 1\n",
    "        except KeyError:\n",
    "            stakers_count[entry['label'].values[0]] = 1\n",
    "    else:\n",
    "        try: \n",
    "            stakers_count['unknown'] += 1\n",
    "        except KeyError:\n",
    "            stakers_count['unknown'] = 1\n",
    "#         print(entry)"
   ]
  },
  {
   "cell_type": "code",
   "execution_count": 59,
   "metadata": {},
   "outputs": [
    {
     "data": {
      "text/plain": [
       "{'coinbase': 22,\n",
       " 'lido': 22,\n",
       " 'unknown': 20,\n",
       " 'kraken': 12,\n",
       " 'stakefish': 7,\n",
       " 'bitcoin suisse': 4,\n",
       " 'huobi': 2,\n",
       " 'stkr': 1,\n",
       " 'rocketpool': 1,\n",
       " 'poloniex': 1,\n",
       " 'stakehound': 1,\n",
       " 'staked.us': 1}"
      ]
     },
     "execution_count": 59,
     "metadata": {},
     "output_type": "execute_result"
    }
   ],
   "source": [
    "dict(sorted(stakers_count.items(), key=lambda item: item[1], reverse=True))"
   ]
  },
  {
   "cell_type": "code",
   "execution_count": 60,
   "metadata": {},
   "outputs": [],
   "source": [
    "notlate = delivered[delivered['diff'] < 2]"
   ]
  },
  {
   "cell_type": "code",
   "execution_count": 66,
   "metadata": {},
   "outputs": [
    {
     "name": "stderr",
     "output_type": "stream",
     "text": [
      "100%|██████████| 2581/2581 [01:05<00:00, 39.64it/s]\n"
     ]
    }
   ],
   "source": [
    "stakers_count = {}\n",
    "for pk in tqdm.tqdm(notlate['proposer_pubkey']):\n",
    "    entry = stakers[stakers['pubkey']==pk]\n",
    "    if len(entry) == 1:\n",
    "        try: \n",
    "            stakers_count[entry['label'].values[0]] += 1\n",
    "        except KeyError:\n",
    "            stakers_count[entry['label'].values[0]] = 1\n",
    "    else:\n",
    "        try: \n",
    "            stakers_count['unknown'] += 1\n",
    "        except KeyError:\n",
    "            stakers_count['unknown'] = 1\n",
    "#         print(entry)"
   ]
  },
  {
   "cell_type": "code",
   "execution_count": 67,
   "metadata": {},
   "outputs": [
    {
     "data": {
      "text/plain": [
       "{'lido': 1050,\n",
       " 'unknown': 603,\n",
       " 'coinbase': 294,\n",
       " 'kraken': 148,\n",
       " 'bitcoin suisse': 123,\n",
       " 'stakefish': 99,\n",
       " 'staked.us': 76,\n",
       " 'rocketpool': 36,\n",
       " 'figment': 27,\n",
       " 'huobi': 25,\n",
       " 'frax finance': 23,\n",
       " 'stakewise': 16,\n",
       " 'stakehound': 14,\n",
       " 'abyss finance': 11,\n",
       " 'stkr': 9,\n",
       " 'poloniex': 6,\n",
       " 'bitstamp': 5,\n",
       " 'wex exchange': 4,\n",
       " 'cake defi': 3,\n",
       " 'everstake pool': 3,\n",
       " 'bitfinex': 2,\n",
       " 'stakewise solos': 1,\n",
       " 'sharedstake': 1,\n",
       " 'blox staking': 1,\n",
       " 'mintdice.com': 1}"
      ]
     },
     "execution_count": 67,
     "metadata": {},
     "output_type": "execute_result"
    }
   ],
   "source": [
    "dict(sorted(stakers_count.items(), key=lambda item: item[1], reverse=True))"
   ]
  },
  {
   "cell_type": "code",
   "execution_count": 71,
   "metadata": {},
   "outputs": [
    {
     "data": {
      "text/plain": [
       "(2581, 94, 2675)"
      ]
     },
     "execution_count": 71,
     "metadata": {},
     "output_type": "execute_result"
    }
   ],
   "source": [
    "len(notlate), len(lateish), len(notlate)+len(lateish)"
   ]
  },
  {
   "cell_type": "code",
   "execution_count": 72,
   "metadata": {},
   "outputs": [
    {
     "data": {
      "text/plain": [
       "{'coinbase': (0.23404255319148937, 0.11390933746609841),\n",
       " 'lido': (0.23404255319148937, 0.4068190623789229),\n",
       " 'unknown': (0.2127659574468085, 0.2336303758233243),\n",
       " 'kraken': (0.1276595744680851, 0.05734211545912437),\n",
       " 'stakefish': (0.07446808510638298, 0.038357225881441304),\n",
       " 'bitcoin suisse': (0.0425531914893617, 0.047655947307245254),\n",
       " 'huobi': (0.02127659574468085, 0.009686168151879117),\n",
       " 'stkr': (0.010638297872340425, 0.003487020534676482),\n",
       " 'rocketpool': (0.010638297872340425, 0.013948082138705927),\n",
       " 'poloniex': (0.010638297872340425, 0.002324680356450988),\n",
       " 'stakehound': (0.010638297872340425, 0.005424254165052305),\n",
       " 'staked.us': (0.010638297872340425, 0.029445951181712515)}"
      ]
     },
     "execution_count": 72,
     "metadata": {},
     "output_type": "execute_result"
    }
   ],
   "source": [
    "percs = {}\n",
    "for k in lateish_counts:\n",
    "    percs[k] = (lateish_counts[k] / len(lateish), stakers_count[k]/len(notlate))\n",
    "percs"
   ]
  },
  {
   "cell_type": "code",
   "execution_count": 74,
   "metadata": {},
   "outputs": [],
   "source": [
    "lates = [0.23404255319148937, 0.23404255319148937, 0.2127659574468085, \n",
    "        0.1276595744680851, 0.07446808510638298, 0.0425531914893617]\n",
    "nonlates = [0.11390933746609841, 0.4068190623789229, 0.2336303758233243,\n",
    "            0.05734211545912437, 0.038357225881441304, 0.047655947307245254]"
   ]
  },
  {
   "cell_type": "code",
   "execution_count": 93,
   "metadata": {},
   "outputs": [
    {
     "data": {
      "image/png": "[encoded data removed]",
      "text/plain": [
       "<Figure size 576x288 with 1 Axes>"
      ]
     },
     "metadata": {
      "needs_background": "light"
     },
     "output_type": "display_data"
    }
   ],
   "source": [
    "fig, ax = plt.subplots(figsize=(8,4))\n",
    "\n",
    "ax.bar(np.arange(6)-0.15, lates, width=0.3, label='late', color='teal')\n",
    "ax.bar(np.arange(6)+0.15, nonlates, width=0.3, label='not late', color='tan')\n",
    "\n",
    "ax.set_xticks(np.arange(6))\n",
    "ax.set_xticklabels(['coinbase', 'lido', 'unknown', 'kraken', 'stakefish', 'bitcoin suisse'], size=12)\n",
    "ax.legend()\n",
    "ax.set_ylabel('proportion', size=12)\n",
    "plt.show()"
   ]
  },
  {
   "cell_type": "markdown",
   "metadata": {},
   "source": [
    "'coinbase': 22,\n",
    " 'lido': 22,\n",
    " 'unknown': 20,\n",
    " 'kraken': 12,\n",
    " 'stakefish': 7,\n",
    " 'bitcoin suisse': 4,"
   ]
  },
  {
   "cell_type": "code",
   "execution_count": 68,
   "metadata": {},
   "outputs": [],
   "source": [
    "lateish_counts = {'coinbase': 22,\n",
    " 'lido': 22,\n",
    " 'unknown': 20,\n",
    " 'kraken': 12,\n",
    " 'stakefish': 7,\n",
    " 'bitcoin suisse': 4,\n",
    " 'huobi': 2,\n",
    " 'stkr': 1,\n",
    " 'rocketpool': 1,\n",
    " 'poloniex': 1,\n",
    " 'stakehound': 1,\n",
    " 'staked.us': 1}"
   ]
  },
  {
   "cell_type": "code",
   "execution_count": 95,
   "metadata": {},
   "outputs": [
    {
     "data": {
      "text/plain": [
       "{'lido': 1050,\n",
       " 'unknown': 603,\n",
       " 'coinbase': 294,\n",
       " 'kraken': 148,\n",
       " 'bitcoin suisse': 123,\n",
       " 'stakefish': 99,\n",
       " 'staked.us': 76,\n",
       " 'rocketpool': 36,\n",
       " 'figment': 27,\n",
       " 'huobi': 25,\n",
       " 'frax finance': 23,\n",
       " 'stakewise': 16,\n",
       " 'stakehound': 14,\n",
       " 'abyss finance': 11,\n",
       " 'stkr': 9,\n",
       " 'poloniex': 6,\n",
       " 'bitstamp': 5,\n",
       " 'wex exchange': 4,\n",
       " 'cake defi': 3,\n",
       " 'everstake pool': 3,\n",
       " 'bitfinex': 2,\n",
       " 'stakewise solos': 1,\n",
       " 'sharedstake': 1,\n",
       " 'blox staking': 1,\n",
       " 'mintdice.com': 1}"
      ]
     },
     "execution_count": 95,
     "metadata": {},
     "output_type": "execute_result"
    }
   ],
   "source": [
    "dict(sorted(stakers_count.items(), key=lambda item: item[1], reverse=True))"
   ]
  },
  {
   "cell_type": "code",
   "execution_count": 97,
   "metadata": {},
   "outputs": [],
   "source": [
    "relative = [22/(294+22), 22/(1050+22), 20/(603+20), 12/(148+12), 7/(7+99), 4/(4+123)]"
   ]
  },
  {
   "cell_type": "code",
   "execution_count": 98,
   "metadata": {},
   "outputs": [
    {
     "data": {
      "image/png": "[encoded data removed]",
      "text/plain": [
       "<Figure size 576x288 with 1 Axes>"
      ]
     },
     "metadata": {
      "needs_background": "light"
     },
     "output_type": "display_data"
    }
   ],
   "source": [
    "fig, ax = plt.subplots(figsize=(8,4))\n",
    "\n",
    "ax.bar(np.arange(6), relative, width=0.3, label='late proportion', color='teal')\n",
    "\n",
    "ax.set_xticks(np.arange(6))\n",
    "ax.set_xticklabels(['coinbase', 'lido', 'unknown', 'kraken', 'stakefish', 'bitcoin suisse'], size=12)\n",
    "ax.legend()\n",
    "ax.set_ylabel('proportion', size=12)\n",
    "plt.show()"
   ]
  }
 ],
 "metadata": {
  "kernelspec": {
   "display_name": "Python 3",
   "language": "python",
   "name": "python3"
  },
  "language_info": {
   "codemirror_mode": {
    "name": "ipython",
    "version": 3
   },
   "file_extension": ".py",
   "mimetype": "text/x-python",
   "name": "python",
   "nbconvert_exporter": "python",
   "pygments_lexer": "ipython3",
   "version": "3.8.16"
  }
 },
 "nbformat": 4,
 "nbformat_minor": 4
}

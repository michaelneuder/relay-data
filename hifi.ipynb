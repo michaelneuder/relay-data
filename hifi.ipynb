{
 "cells": [
  {
   "cell_type": "code",
   "execution_count": 2,
   "metadata": {},
   "outputs": [],
   "source": [
    "import numpy as np\n",
    "import pandas as pd\n",
    "import matplotlib.pyplot as plt\n",
    "import json"
   ]
  },
  {
   "cell_type": "code",
   "execution_count": 13,
   "metadata": {},
   "outputs": [],
   "source": [
    "df = pd.read_csv('hifi-non-opt.csv')\n",
    "df2 = pd.read_csv('hifi-opt.csv')"
   ]
  },
  {
   "cell_type": "code",
   "execution_count": 23,
   "metadata": {},
   "outputs": [
    {
     "data": {
      "text/plain": [
       "(137850.12021857922, 158601.1723237598)"
      ]
     },
     "execution_count": 23,
     "metadata": {},
     "output_type": "execute_result"
    }
   ],
   "source": [
    "noptmics = df['submission_duration'].values\n",
    "optmics = df2['submission_duration'].values\n",
    "optmics.mean(), noptmics.mean()"
   ]
  },
  {
   "cell_type": "code",
   "execution_count": 24,
   "metadata": {},
   "outputs": [
    {
     "data": {
      "text/plain": [
       "(122516.22364310356, 115954.99243441995)"
      ]
     },
     "execution_count": 24,
     "metadata": {},
     "output_type": "execute_result"
    }
   ],
   "source": [
    "optmics.std(), noptmics.std()"
   ]
  },
  {
   "cell_type": "code",
   "execution_count": 19,
   "metadata": {},
   "outputs": [
    {
     "data": {
      "image/png": "[encoded data removed]",
      "text/plain": [
       "<Figure size 720x504 with 1 Axes>"
      ]
     },
     "metadata": {
      "needs_background": "light"
     },
     "output_type": "display_data"
    }
   ],
   "source": [
    "f, ax = plt.subplots(figsize=(10,7))\n",
    "\n",
    "bins=np.histogram(np.hstack((optmics/1000,noptmics/1000)), bins=40)[1]\n",
    "\n",
    "ctsopt = ax.hist(optmics/1000, bins=bins, label='optimistic, n={}'.format(len(optmics)), color='g', alpha=0.5, density=True)\n",
    "ctsnopt = ax.hist(noptmics/1000, bins=bins, label='non-optimistic, n={}'.format(len(noptmics)), color='b', alpha=0.5, density=True)\n",
    "\n",
    "# ax.set_xlim(int(1e2), int(8e2))\n",
    "ax.grid(alpha=0.4)\n",
    "ax.legend()\n",
    "\n",
    "ax.set_xlabel('block submission time (ms)', size=16)\n",
    "ax.set_ylabel('density', size=16)\n",
    "plt.show()"
   ]
  },
  {
   "cell_type": "code",
   "execution_count": 22,
   "metadata": {},
   "outputs": [
    {
     "data": {
      "text/plain": [
       "[<matplotlib.lines.Line2D at 0x11c64b5b0>]"
      ]
     },
     "execution_count": 22,
     "metadata": {},
     "output_type": "execute_result"
    },
    {
     "data": {
      "image/png": "[encoded data removed]",
      "text/plain": [
       "<Figure size 432x288 with 1 Axes>"
      ]
     },
     "metadata": {
      "needs_background": "light"
     },
     "output_type": "display_data"
    }
   ],
   "source": [
    "plt.plot(ctsnopt[0],ctsopt[0], 'b.')"
   ]
  },
  {
   "cell_type": "code",
   "execution_count": 16,
   "metadata": {},
   "outputs": [
    {
     "data": {
      "text/plain": [
       "array([  8.685   ,  30.697775,  52.71055 ,  74.723325,  96.7361  ,\n",
       "       118.748875, 140.76165 , 162.774425, 184.7872  , 206.799975,\n",
       "       228.81275 , 250.825525, 272.8383  , 294.851075, 316.86385 ,\n",
       "       338.876625, 360.8894  , 382.902175, 404.91495 , 426.927725,\n",
       "       448.9405  , 470.953275, 492.96605 , 514.978825, 536.9916  ,\n",
       "       559.004375, 581.01715 , 603.029925, 625.0427  , 647.055475,\n",
       "       669.06825 , 691.081025, 713.0938  , 735.106575, 757.11935 ,\n",
       "       779.132125, 801.1449  , 823.157675, 845.17045 , 867.183225,\n",
       "       889.196   ])"
      ]
     },
     "execution_count": 16,
     "metadata": {},
     "output_type": "execute_result"
    }
   ],
   "source": [
    "bins"
   ]
  },
  {
   "cell_type": "code",
   "execution_count": null,
   "metadata": {},
   "outputs": [],
   "source": []
  },
  {
   "cell_type": "code",
   "execution_count": 25,
   "metadata": {},
   "outputs": [
    {
     "data": {
      "text/html": [
       "<div>\n",
       "<style scoped>\n",
       "    .dataframe tbody tr th:only-of-type {\n",
       "        vertical-align: middle;\n",
       "    }\n",
       "\n",
       "    .dataframe tbody tr th {\n",
       "        vertical-align: top;\n",
       "    }\n",
       "\n",
       "    .dataframe thead th {\n",
       "        text-align: right;\n",
       "    }\n",
       "</style>\n",
       "<table border=\"1\" class=\"dataframe\">\n",
       "  <thead>\n",
       "    <tr style=\"text-align: right;\">\n",
       "      <th></th>\n",
       "      <th>precheck_duration</th>\n",
       "      <th>simulation_duration</th>\n",
       "      <th>redis_update_duration</th>\n",
       "      <th>submission_duration</th>\n",
       "      <th>optimistic_submission</th>\n",
       "    </tr>\n",
       "  </thead>\n",
       "  <tbody>\n",
       "    <tr>\n",
       "      <th>0</th>\n",
       "      <td>4927</td>\n",
       "      <td>18252</td>\n",
       "      <td>5862</td>\n",
       "      <td>29043</td>\n",
       "      <td>f</td>\n",
       "    </tr>\n",
       "    <tr>\n",
       "      <th>1</th>\n",
       "      <td>12329</td>\n",
       "      <td>12448</td>\n",
       "      <td>6345</td>\n",
       "      <td>31124</td>\n",
       "      <td>f</td>\n",
       "    </tr>\n",
       "    <tr>\n",
       "      <th>2</th>\n",
       "      <td>3615</td>\n",
       "      <td>11390</td>\n",
       "      <td>5797</td>\n",
       "      <td>20803</td>\n",
       "      <td>f</td>\n",
       "    </tr>\n",
       "    <tr>\n",
       "      <th>3</th>\n",
       "      <td>4191</td>\n",
       "      <td>10949</td>\n",
       "      <td>4233</td>\n",
       "      <td>19374</td>\n",
       "      <td>f</td>\n",
       "    </tr>\n",
       "    <tr>\n",
       "      <th>4</th>\n",
       "      <td>75291</td>\n",
       "      <td>12419</td>\n",
       "      <td>6911</td>\n",
       "      <td>94622</td>\n",
       "      <td>f</td>\n",
       "    </tr>\n",
       "  </tbody>\n",
       "</table>\n",
       "</div>"
      ],
      "text/plain": [
       "   precheck_duration  simulation_duration  redis_update_duration  \\\n",
       "0               4927                18252                   5862   \n",
       "1              12329                12448                   6345   \n",
       "2               3615                11390                   5797   \n",
       "3               4191                10949                   4233   \n",
       "4              75291                12419                   6911   \n",
       "\n",
       "   submission_duration optimistic_submission  \n",
       "0                29043                     f  \n",
       "1                31124                     f  \n",
       "2                20803                     f  \n",
       "3                19374                     f  \n",
       "4                94622                     f  "
      ]
     },
     "execution_count": 25,
     "metadata": {},
     "output_type": "execute_result"
    }
   ],
   "source": [
    "df = pd.read_csv('nopt-granular.csv')\n",
    "df2 = pd.read_csv('opt-granular.csv')\n",
    "df.head()"
   ]
  },
  {
   "cell_type": "code",
   "execution_count": 26,
   "metadata": {},
   "outputs": [
    {
     "data": {
      "text/plain": [
       "443"
      ]
     },
     "execution_count": 26,
     "metadata": {},
     "output_type": "execute_result"
    }
   ],
   "source": [
    "len(df2)"
   ]
  },
  {
   "cell_type": "code",
   "execution_count": 78,
   "metadata": {},
   "outputs": [
    {
     "data": {
      "text/plain": [
       "(155242.5588235294, 210165.17885010267)"
      ]
     },
     "execution_count": 78,
     "metadata": {},
     "output_type": "execute_result"
    }
   ],
   "source": [
    "noptmics = df['submission_duration'].values\n",
    "optmics = df2['submission_duration'].values\n",
    "optmics.mean(), noptmics.mean()"
   ]
  },
  {
   "cell_type": "code",
   "execution_count": 29,
   "metadata": {},
   "outputs": [
    {
     "name": "stdout",
     "output_type": "stream",
     "text": [
      "8893 & 12245 & 24789 & 316547 & "
     ]
    }
   ],
   "source": [
    "for i in [50, 75, 90, 99]:\n",
    "    print(int(np.percentile(df2['redis_update_duration'], i)), end=' & ')"
   ]
  },
  {
   "cell_type": "code",
   "execution_count": 54,
   "metadata": {},
   "outputs": [
    {
     "data": {
      "text/plain": [
       "array([36, 14, 47, 31,  9, 28, 21, 22, 30, 26, 75, 25, 20, 20, 18, 24, 19,\n",
       "       21, 12, 14, 20, 34, 16, 15, 25, 12, 51, 14, 18, 12, 12, 19, 22, 22,\n",
       "       29, 30, 19, 34, 10, 12, 14, 15, 18, 11, 11, 23, 19, 22, 18, 70, 17,\n",
       "       27, 36, 29, 15, 11, 17,  8, 10, 17, 22, 25, 19, 20, 12, 15, 10, 45,\n",
       "       27, 30, 19, 21, 14, 18,  7, 15, 15, 32, 21, 19, 18, 15, 34, 23, 29,\n",
       "       57, 28, 17, 12, 29,  9, 12, 18, 11, 15, 22, 12, 23, 32, 27, 15, 24])"
      ]
     },
     "execution_count": 54,
     "metadata": {},
     "output_type": "execute_result"
    }
   ],
   "source": [
    "df2['simulation_duration'].values"
   ]
  },
  {
   "cell_type": "code",
   "execution_count": 59,
   "metadata": {},
   "outputs": [
    {
     "data": {
      "image/png": "[encoded data removed]",
      "text/plain": [
       "<Figure size 1008x432 with 8 Axes>"
      ]
     },
     "metadata": {
      "needs_background": "light"
     },
     "output_type": "display_data"
    }
   ],
   "source": [
    "f, axarr = plt.subplots(nrows=2, ncols=4, figsize=(14,6))\n",
    "\n",
    "cols = ['precheck_duration', 'simulation_duration', 'redis_update_duration', 'submission_duration']\n",
    "for i in range(4):    \n",
    "    noptmics = df[cols[i]].values\n",
    "    optmics = df2[cols[i]].values\n",
    "    \n",
    "    bins=np.histogram(np.hstack((optmics,noptmics)), bins=40)[1]\n",
    "    \n",
    "    ctsopt = axarr[0,i].hist(noptmics, bins=bins, label='non-optimistic', color='g', alpha=0.5, density=True)\n",
    "    axarr[0,i].legend()\n",
    "    axarr[0,i].grid(alpha=0.3)\n",
    "    axarr[0,i].set_yticklabels([])\n",
    "    axarr[0,i].set_title(cols[i], size=14)\n",
    "\n",
    "    optmics = df2[cols[i]].values\n",
    "    ctsopt = axarr[1,i].hist(optmics, bins=bins, label='optimistic', color='b', alpha=0.5, density=True)\n",
    "    axarr[1,i].set_xlabel(\"time (microseconds)\")\n",
    "    axarr[1,i].legend()\n",
    "    axarr[1,i].grid(alpha=0.3)\n",
    "    axarr[1,i].set_yticklabels([])\n",
    "\n",
    "plt.show()"
   ]
  },
  {
   "cell_type": "code",
   "execution_count": 81,
   "metadata": {},
   "outputs": [
    {
     "data": {
      "text/plain": [
       "(57164.16981519507, 21.901960784313726, 91940.87829039682, 11.586426984751249)"
      ]
     },
     "execution_count": 81,
     "metadata": {},
     "output_type": "execute_result"
    }
   ],
   "source": [
    "noptmics = df['simulation_duration'].values\n",
    "optmics = df2['simulation_duration'].values\n",
    "noptmics.mean(), optmics.mean(), noptmics.std(), optmics.std(),"
   ]
  },
  {
   "cell_type": "code",
   "execution_count": 65,
   "metadata": {},
   "outputs": [
    {
     "data": {
      "text/plain": [
       "<AxesSubplot:label='8e387557-5638-4ae7-aaca-639832afe6c3'>"
      ]
     },
     "execution_count": 65,
     "metadata": {},
     "output_type": "execute_result"
    }
   ],
   "source": [
    "ax."
   ]
  },
  {
   "cell_type": "code",
   "execution_count": 77,
   "metadata": {},
   "outputs": [
    {
     "data": {
      "image/png": "[encoded data removed]",
      "text/plain": [
       "<Figure size 720x504 with 2 Axes>"
      ]
     },
     "metadata": {
      "needs_background": "light"
     },
     "output_type": "display_data"
    }
   ],
   "source": [
    "f, ax = plt.subplots(figsize=(10,7))\n",
    "ax2 = plt.twinx()\n",
    "\n",
    "\n",
    "noptmics = df['simulation_duration'].values\n",
    "optmics = df2['simulation_duration'].values\n",
    "bins1=np.histogram(noptmics, bins=40)[1]\n",
    "bins2=np.histogram(optmics, bins=40)[1]\n",
    "\n",
    "# ax.plot(bins1)\n",
    "\n",
    "ctsopt = ax.hist(optmics, bins=40, label='optimistic, n={}'.format(len(optmics)), color='g', alpha=0.5, density=True)\n",
    "# ctsnopt = ax2.hist(noptmics, bins=40, label='non-optimistic, n={}'.format(len(noptmics)), color='b', alpha=0.5)\n",
    "\n",
    "\n",
    "plt.show()"
   ]
  },
  {
   "cell_type": "code",
   "execution_count": 62,
   "metadata": {},
   "outputs": [
    {
     "data": {
      "image/png": "[encoded data removed]",
      "text/plain": [
       "<Figure size 720x504 with 1 Axes>"
      ]
     },
     "metadata": {
      "needs_background": "light"
     },
     "output_type": "display_data"
    }
   ],
   "source": [
    "f, ax = plt.subplots(figsize=(10,7))\n",
    "\n",
    "noptmics = df['simulation_duration'].values\n",
    "optmics = df2['simulation_duration'].values\n",
    "bins=np.histogram(np.hstack((optmics,noptmics)), bins=40)[1]\n",
    "\n",
    "ctsopt = ax.hist(optmics, bins=40, label='optimistic, n={}'.format(len(optmics)), color='g', alpha=0.5, density=True)\n",
    "ctsnopt = ax.hist(noptmics, bins=40, label='non-optimistic, n={}'.format(len(noptmics)), color='b', alpha=0.5, density=True)\n",
    "\n",
    "# ax.set_xlim(int(1e2), int(8e2))\n",
    "ax.grid(alpha=0.4)\n",
    "ax.legend()\n",
    "\n",
    "ax.set_xlabel('block submission time (ms)', size=16)\n",
    "ax.set_ylabel('density', size=16)\n",
    "plt.show()"
   ]
  }
 ],
 "metadata": {
  "kernelspec": {
   "display_name": "Python 3",
   "language": "python",
   "name": "python3"
  },
  "language_info": {
   "codemirror_mode": {
    "name": "ipython",
    "version": 3
   },
   "file_extension": ".py",
   "mimetype": "text/x-python",
   "name": "python",
   "nbconvert_exporter": "python",
   "pygments_lexer": "ipython3",
   "version": "3.8.16"
  }
 },
 "nbformat": 4,
 "nbformat_minor": 4
}

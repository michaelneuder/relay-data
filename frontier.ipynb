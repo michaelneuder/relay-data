{
 "cells": [
  {
   "cell_type": "code",
   "execution_count": 1,
   "metadata": {},
   "outputs": [],
   "source": [
    "import numpy as np\n",
    "from tqdm import tqdm\n",
    "import requests\n",
    "import pandas as pd\n",
    "import matplotlib.pyplot as plt\n",
    "import json\n",
    "from datetime import datetime\n",
    "from sklearn.linear_model import LinearRegression\n",
    "plt.rcParams['axes.grid'] = True\n",
    "plt.rcParams['grid.alpha'] = 0.3\n",
    "plt.rcParams['axes.titlesize'] = 18"
   ]
  },
  {
   "cell_type": "code",
   "execution_count": 2,
   "metadata": {},
   "outputs": [
    {
     "data": {
      "text/html": [
       "<div>\n",
       "<style scoped>\n",
       "    .dataframe tbody tr th:only-of-type {\n",
       "        vertical-align: middle;\n",
       "    }\n",
       "\n",
       "    .dataframe tbody tr th {\n",
       "        vertical-align: top;\n",
       "    }\n",
       "\n",
       "    .dataframe thead th {\n",
       "        text-align: right;\n",
       "    }\n",
       "</style>\n",
       "<table border=\"1\" class=\"dataframe\">\n",
       "  <thead>\n",
       "    <tr style=\"text-align: right;\">\n",
       "      <th></th>\n",
       "      <th>slot</th>\n",
       "      <th>value</th>\n",
       "      <th>inserted_at</th>\n",
       "      <th>pk</th>\n",
       "    </tr>\n",
       "  </thead>\n",
       "  <tbody>\n",
       "    <tr>\n",
       "      <th>0</th>\n",
       "      <td>5877441</td>\n",
       "      <td>4100751565914457</td>\n",
       "      <td>2023-02-25 19:28:24.879946</td>\n",
       "      <td>0xa1ee9e</td>\n",
       "    </tr>\n",
       "    <tr>\n",
       "      <th>1</th>\n",
       "      <td>5877441</td>\n",
       "      <td>3666426134683254</td>\n",
       "      <td>2023-02-25 19:28:25.068712</td>\n",
       "      <td>0xaa1488</td>\n",
       "    </tr>\n",
       "    <tr>\n",
       "      <th>2</th>\n",
       "      <td>5877441</td>\n",
       "      <td>4205695161447457</td>\n",
       "      <td>2023-02-25 19:28:25.138228</td>\n",
       "      <td>0xa1ee9e</td>\n",
       "    </tr>\n",
       "    <tr>\n",
       "      <th>3</th>\n",
       "      <td>5877441</td>\n",
       "      <td>4304797161447457</td>\n",
       "      <td>2023-02-25 19:28:25.403391</td>\n",
       "      <td>0xa1ee9e</td>\n",
       "    </tr>\n",
       "    <tr>\n",
       "      <th>4</th>\n",
       "      <td>5877441</td>\n",
       "      <td>3771369730216254</td>\n",
       "      <td>2023-02-25 19:28:25.414058</td>\n",
       "      <td>0xa85807</td>\n",
       "    </tr>\n",
       "  </tbody>\n",
       "</table>\n",
       "</div>"
      ],
      "text/plain": [
       "      slot             value                inserted_at        pk\n",
       "0  5877441  4100751565914457 2023-02-25 19:28:24.879946  0xa1ee9e\n",
       "1  5877441  3666426134683254 2023-02-25 19:28:25.068712  0xaa1488\n",
       "2  5877441  4205695161447457 2023-02-25 19:28:25.138228  0xa1ee9e\n",
       "3  5877441  4304797161447457 2023-02-25 19:28:25.403391  0xa1ee9e\n",
       "4  5877441  3771369730216254 2023-02-25 19:28:25.414058  0xa85807"
      ]
     },
     "execution_count": 2,
     "metadata": {},
     "output_type": "execute_result"
    }
   ],
   "source": [
    "monthly = pd.read_csv(\"frontier/monthlyinc1000.txt\", names=['slot', 'value', 'inserted_at', 'pk'], delimiter='|')\n",
    "monthly['inserted_at'] = pd.to_datetime(monthly['inserted_at'], format=\"%Y-%m-%d%H:%M:%S.%f\")\n",
    "monthly.head()"
   ]
  },
  {
   "cell_type": "code",
   "execution_count": 3,
   "metadata": {},
   "outputs": [
    {
     "data": {
      "text/plain": [
       "72255"
      ]
     },
     "execution_count": 3,
     "metadata": {},
     "output_type": "execute_result"
    }
   ],
   "source": [
    "len(monthly)"
   ]
  },
  {
   "cell_type": "code",
   "execution_count": 4,
   "metadata": {},
   "outputs": [
    {
     "data": {
      "text/plain": [
       "(98, 70)"
      ]
     },
     "execution_count": 4,
     "metadata": {},
     "output_type": "execute_result"
    }
   ],
   "source": [
    "slots = list(set(monthly['slot'].values))\n",
    "pks = list(set(monthly['pk'].values))\n",
    "len(slots), len(pks)"
   ]
  },
  {
   "cell_type": "code",
   "execution_count": 5,
   "metadata": {},
   "outputs": [
    {
     "name": "stderr",
     "output_type": "stream",
     "text": [
      "100%|██████████| 98/98 [00:06<00:00, 15.91it/s]\n"
     ]
    }
   ],
   "source": [
    "pkWeiPerMus = {}\n",
    "for p in pks:\n",
    "    pkWeiPerMus[p] = []\n",
    "\n",
    "for sl in tqdm(slots[:]):\n",
    "    slotdf = monthly[monthly['slot']==sl]\n",
    "    for pk in pks[:]:\n",
    "        pkdf = slotdf[slotdf['pk']==pk]\n",
    "        diffsTime = np.asarray([v.total_seconds() * 1000000 for v in pkdf['inserted_at'].diff()])\n",
    "        diffsVal = np.asarray([v for v in pkdf['value'].diff()])\n",
    "        for i in range(1, len(diffsTime)):\n",
    "            if diffsTime[i] <= 0:\n",
    "                raise ValueError(\"negative time diff\")\n",
    "            if diffsVal[i] < 0:\n",
    "                continue\n",
    "            pkWeiPerMus[pk].append(diffsVal[i] / diffsTime[i])"
   ]
  },
  {
   "cell_type": "code",
   "execution_count": 13,
   "metadata": {},
   "outputs": [
    {
     "data": {
      "text/plain": [
       "(58596,)"
      ]
     },
     "execution_count": 13,
     "metadata": {},
     "output_type": "execute_result"
    }
   ],
   "source": [
    "total = []\n",
    "for k in pkWeiPerMus.keys():\n",
    "    total.extend(pkWeiPerMus[k])\n",
    "total = np.asarray(total)\n",
    "total.shape"
   ]
  },
  {
   "cell_type": "code",
   "execution_count": 14,
   "metadata": {},
   "outputs": [
    {
     "data": {
      "text/plain": [
       "(55666,)"
      ]
     },
     "execution_count": 14,
     "metadata": {},
     "output_type": "execute_result"
    }
   ],
   "source": [
    "# total_plt = total[total > np.percentile(total, 5)]\n",
    "total_plt = total[total < np.percentile(total, 95)]\n",
    "total_plt.shape"
   ]
  },
  {
   "cell_type": "code",
   "execution_count": 58,
   "metadata": {},
   "outputs": [
    {
     "data": {
      "image/png": "[encoded data removed]",
      "text/plain": [
       "<Figure size 576x360 with 1 Axes>"
      ]
     },
     "metadata": {
      "needs_background": "light"
     },
     "output_type": "display_data"
    }
   ],
   "source": [
    "f, ax = plt.subplots(figsize=(8,5))\n",
    "percs = [(int(i*100), np.quantile(total_plt/int(1e9), i)) for i in [.50, .90, .99]]\n",
    "\n",
    "ax.hist(total_plt/int(1e9), bins=1000, color='g', alpha=0.5, cumulative=1, density=True, label='cdf')\n",
    "linestyle = ['-', '--', ':']\n",
    "for i, v in enumerate(percs):\n",
    "    ax.axvline(v[1], label='p{}={:0.3f}'.format(v[0], v[1]), color='k', linestyle=linestyle[i], linewidth=3, alpha=0.7)\n",
    "\n",
    "ax.set_xlim(0,60)\n",
    "ax.set_xlabel('utility (gwei/$\\mu s$)', size=16)\n",
    "ax.set_title('marginal utility of time; $\\mu={:0.0f}$ gwei$/\\mu s$'.format(total_plt.mean()/int(1e9)), size=18)\n",
    "plt.legend(loc=4)\n",
    "plt.show()"
   ]
  },
  {
   "cell_type": "code",
   "execution_count": 82,
   "metadata": {},
   "outputs": [
    {
     "name": "stdout",
     "output_type": "stream",
     "text": [
      "gwei per \\mu s & 0 & 3 & 20 & 74 & 961 & 19693 \\\\\n"
     ]
    }
   ],
   "source": [
    "percs(\"gwei per \\mu s\", total/int(1e9))"
   ]
  },
  {
   "cell_type": "code",
   "execution_count": 81,
   "metadata": {},
   "outputs": [],
   "source": [
    "def percs(label, arr):\n",
    "    print('{} & '.format(label), end='')\n",
    "    st = ''\n",
    "    for i in [.50, .75, .90, 0.95, .99, .999]:\n",
    "        st += str(int(np.quantile(arr, i)))\n",
    "        st += \" & \"\n",
    "    print(st[:-3] + ' \\\\\\\\')"
   ]
  },
  {
   "cell_type": "code",
   "execution_count": null,
   "metadata": {},
   "outputs": [],
   "source": []
  },
  {
   "cell_type": "markdown",
   "metadata": {},
   "source": [
    "## winner submission times"
   ]
  },
  {
   "cell_type": "code",
   "execution_count": 48,
   "metadata": {},
   "outputs": [
    {
     "data": {
      "text/html": [
       "<div>\n",
       "<style scoped>\n",
       "    .dataframe tbody tr th:only-of-type {\n",
       "        vertical-align: middle;\n",
       "    }\n",
       "\n",
       "    .dataframe tbody tr th {\n",
       "        vertical-align: top;\n",
       "    }\n",
       "\n",
       "    .dataframe thead th {\n",
       "        text-align: right;\n",
       "    }\n",
       "</style>\n",
       "<table border=\"1\" class=\"dataframe\">\n",
       "  <thead>\n",
       "    <tr style=\"text-align: right;\">\n",
       "      <th></th>\n",
       "      <th>slot</th>\n",
       "      <th>bh</th>\n",
       "      <th>received_at</th>\n",
       "      <th>eligible_at</th>\n",
       "    </tr>\n",
       "  </thead>\n",
       "  <tbody>\n",
       "    <tr>\n",
       "      <th>0</th>\n",
       "      <td>5992159</td>\n",
       "      <td>0x845b7b8844d4787da924b466c89e88d399ede24191f3...</td>\n",
       "      <td>2023-03-13 17:52:11.483072</td>\n",
       "      <td>2023-03-13 17:52:11.638520</td>\n",
       "    </tr>\n",
       "    <tr>\n",
       "      <th>1</th>\n",
       "      <td>5992160</td>\n",
       "      <td>0x7a17c8498b5cd6116b792095359e4d9dd2daa9726afd...</td>\n",
       "      <td>2023-03-13 17:52:24.239075</td>\n",
       "      <td>2023-03-13 17:52:24.508869</td>\n",
       "    </tr>\n",
       "    <tr>\n",
       "      <th>2</th>\n",
       "      <td>5992165</td>\n",
       "      <td>0xaaf01a06a1c7c73b5c1ade6e4b9fe22adfe283eacf0c...</td>\n",
       "      <td>2023-03-13 17:53:22.851942</td>\n",
       "      <td>2023-03-13 17:53:23.104399</td>\n",
       "    </tr>\n",
       "    <tr>\n",
       "      <th>3</th>\n",
       "      <td>5992167</td>\n",
       "      <td>0x1f18e6e2450b328fa548914b6cdcc41e09f64d6311ca...</td>\n",
       "      <td>2023-03-13 17:53:47.102979</td>\n",
       "      <td>2023-03-13 17:53:47.232045</td>\n",
       "    </tr>\n",
       "    <tr>\n",
       "      <th>4</th>\n",
       "      <td>5992169</td>\n",
       "      <td>0xf13d1bc828058e0b6150628330c39de5586e6c83e303...</td>\n",
       "      <td>2023-03-13 17:54:10.935878</td>\n",
       "      <td>2023-03-13 17:54:11.084660</td>\n",
       "    </tr>\n",
       "  </tbody>\n",
       "</table>\n",
       "</div>"
      ],
      "text/plain": [
       "      slot                                                 bh  \\\n",
       "0  5992159  0x845b7b8844d4787da924b466c89e88d399ede24191f3...   \n",
       "1  5992160  0x7a17c8498b5cd6116b792095359e4d9dd2daa9726afd...   \n",
       "2  5992165  0xaaf01a06a1c7c73b5c1ade6e4b9fe22adfe283eacf0c...   \n",
       "3  5992167  0x1f18e6e2450b328fa548914b6cdcc41e09f64d6311ca...   \n",
       "4  5992169  0xf13d1bc828058e0b6150628330c39de5586e6c83e303...   \n",
       "\n",
       "                 received_at                eligible_at  \n",
       "0 2023-03-13 17:52:11.483072 2023-03-13 17:52:11.638520  \n",
       "1 2023-03-13 17:52:24.239075 2023-03-13 17:52:24.508869  \n",
       "2 2023-03-13 17:53:22.851942 2023-03-13 17:53:23.104399  \n",
       "3 2023-03-13 17:53:47.102979 2023-03-13 17:53:47.232045  \n",
       "4 2023-03-13 17:54:10.935878 2023-03-13 17:54:11.084660  "
      ]
     },
     "execution_count": 48,
     "metadata": {},
     "output_type": "execute_result"
    }
   ],
   "source": [
    "mwins = pd.read_csv(\"frontier/winningrecvd.txt\", names=['slot', 'bh', 'received_at', 'eligible_at'], delimiter='|')\n",
    "mwins['received_at'] = pd.to_datetime(mwins['received_at'], format=\"%Y-%m-%d%H:%M:%S.%f\")\n",
    "mwins['eligible_at'] = pd.to_datetime(mwins['eligible_at'], format=\"%Y-%m-%d%H:%M:%S.%f\")\n",
    "mwins.head()"
   ]
  },
  {
   "cell_type": "code",
   "execution_count": 49,
   "metadata": {},
   "outputs": [
    {
     "data": {
      "text/plain": [
       "31273"
      ]
     },
     "execution_count": 49,
     "metadata": {},
     "output_type": "execute_result"
    }
   ],
   "source": [
    "len(mwins)"
   ]
  },
  {
   "cell_type": "code",
   "execution_count": 50,
   "metadata": {},
   "outputs": [
    {
     "data": {
      "text/html": [
       "<div>\n",
       "<style scoped>\n",
       "    .dataframe tbody tr th:only-of-type {\n",
       "        vertical-align: middle;\n",
       "    }\n",
       "\n",
       "    .dataframe tbody tr th {\n",
       "        vertical-align: top;\n",
       "    }\n",
       "\n",
       "    .dataframe thead th {\n",
       "        text-align: right;\n",
       "    }\n",
       "</style>\n",
       "<table border=\"1\" class=\"dataframe\">\n",
       "  <thead>\n",
       "    <tr style=\"text-align: right;\">\n",
       "      <th></th>\n",
       "      <th>slot</th>\n",
       "      <th>bh</th>\n",
       "      <th>received_at</th>\n",
       "      <th>eligible_at</th>\n",
       "    </tr>\n",
       "  </thead>\n",
       "  <tbody>\n",
       "    <tr>\n",
       "      <th>0</th>\n",
       "      <td>5992159</td>\n",
       "      <td>0x845b7b8844d4787da924b466c89e88d399ede24191f3...</td>\n",
       "      <td>2023-03-13 17:52:11.483072</td>\n",
       "      <td>2023-03-13 17:52:11.638520</td>\n",
       "    </tr>\n",
       "    <tr>\n",
       "      <th>1</th>\n",
       "      <td>5992160</td>\n",
       "      <td>0x7a17c8498b5cd6116b792095359e4d9dd2daa9726afd...</td>\n",
       "      <td>2023-03-13 17:52:24.239075</td>\n",
       "      <td>2023-03-13 17:52:24.508869</td>\n",
       "    </tr>\n",
       "    <tr>\n",
       "      <th>2</th>\n",
       "      <td>5992165</td>\n",
       "      <td>0xaaf01a06a1c7c73b5c1ade6e4b9fe22adfe283eacf0c...</td>\n",
       "      <td>2023-03-13 17:53:22.851942</td>\n",
       "      <td>2023-03-13 17:53:23.104399</td>\n",
       "    </tr>\n",
       "    <tr>\n",
       "      <th>3</th>\n",
       "      <td>5992167</td>\n",
       "      <td>0x1f18e6e2450b328fa548914b6cdcc41e09f64d6311ca...</td>\n",
       "      <td>2023-03-13 17:53:47.102979</td>\n",
       "      <td>2023-03-13 17:53:47.232045</td>\n",
       "    </tr>\n",
       "    <tr>\n",
       "      <th>4</th>\n",
       "      <td>5992169</td>\n",
       "      <td>0xf13d1bc828058e0b6150628330c39de5586e6c83e303...</td>\n",
       "      <td>2023-03-13 17:54:10.935878</td>\n",
       "      <td>2023-03-13 17:54:11.084660</td>\n",
       "    </tr>\n",
       "  </tbody>\n",
       "</table>\n",
       "</div>"
      ],
      "text/plain": [
       "      slot                                                 bh  \\\n",
       "0  5992159  0x845b7b8844d4787da924b466c89e88d399ede24191f3...   \n",
       "1  5992160  0x7a17c8498b5cd6116b792095359e4d9dd2daa9726afd...   \n",
       "2  5992165  0xaaf01a06a1c7c73b5c1ade6e4b9fe22adfe283eacf0c...   \n",
       "3  5992167  0x1f18e6e2450b328fa548914b6cdcc41e09f64d6311ca...   \n",
       "4  5992169  0xf13d1bc828058e0b6150628330c39de5586e6c83e303...   \n",
       "\n",
       "                 received_at                eligible_at  \n",
       "0 2023-03-13 17:52:11.483072 2023-03-13 17:52:11.638520  \n",
       "1 2023-03-13 17:52:24.239075 2023-03-13 17:52:24.508869  \n",
       "2 2023-03-13 17:53:22.851942 2023-03-13 17:53:23.104399  \n",
       "3 2023-03-13 17:53:47.102979 2023-03-13 17:53:47.232045  \n",
       "4 2023-03-13 17:54:10.935878 2023-03-13 17:54:11.084660  "
      ]
     },
     "execution_count": 50,
     "metadata": {},
     "output_type": "execute_result"
    }
   ],
   "source": [
    "mwins = mwins.sort_values('eligible_at', ascending=True).drop_duplicates('slot').sort_index()\n",
    "mwins.head()"
   ]
  },
  {
   "cell_type": "code",
   "execution_count": 51,
   "metadata": {},
   "outputs": [
    {
     "data": {
      "text/plain": [
       "27397"
      ]
     },
     "execution_count": 51,
     "metadata": {},
     "output_type": "execute_result"
    }
   ],
   "source": [
    "len(mwins)"
   ]
  },
  {
   "cell_type": "code",
   "execution_count": 52,
   "metadata": {},
   "outputs": [
    {
     "data": {
      "text/html": [
       "<div>\n",
       "<style scoped>\n",
       "    .dataframe tbody tr th:only-of-type {\n",
       "        vertical-align: middle;\n",
       "    }\n",
       "\n",
       "    .dataframe tbody tr th {\n",
       "        vertical-align: top;\n",
       "    }\n",
       "\n",
       "    .dataframe thead th {\n",
       "        text-align: right;\n",
       "    }\n",
       "</style>\n",
       "<table border=\"1\" class=\"dataframe\">\n",
       "  <thead>\n",
       "    <tr style=\"text-align: right;\">\n",
       "      <th></th>\n",
       "      <th>slot</th>\n",
       "      <th>bh</th>\n",
       "      <th>received_at</th>\n",
       "      <th>eligible_at</th>\n",
       "      <th>slot_boundary</th>\n",
       "      <th>diff</th>\n",
       "    </tr>\n",
       "  </thead>\n",
       "  <tbody>\n",
       "    <tr>\n",
       "      <th>0</th>\n",
       "      <td>5992159</td>\n",
       "      <td>0x845b7b8844d4787da924b466c89e88d399ede24191f3...</td>\n",
       "      <td>2023-03-13 17:52:11.483072</td>\n",
       "      <td>2023-03-13 17:52:11.638520</td>\n",
       "      <td>2023-03-13 17:52:12</td>\n",
       "      <td>0.516928</td>\n",
       "    </tr>\n",
       "    <tr>\n",
       "      <th>1</th>\n",
       "      <td>5992160</td>\n",
       "      <td>0x7a17c8498b5cd6116b792095359e4d9dd2daa9726afd...</td>\n",
       "      <td>2023-03-13 17:52:24.239075</td>\n",
       "      <td>2023-03-13 17:52:24.508869</td>\n",
       "      <td>2023-03-13 17:52:24</td>\n",
       "      <td>-0.239075</td>\n",
       "    </tr>\n",
       "    <tr>\n",
       "      <th>2</th>\n",
       "      <td>5992165</td>\n",
       "      <td>0xaaf01a06a1c7c73b5c1ade6e4b9fe22adfe283eacf0c...</td>\n",
       "      <td>2023-03-13 17:53:22.851942</td>\n",
       "      <td>2023-03-13 17:53:23.104399</td>\n",
       "      <td>2023-03-13 17:53:24</td>\n",
       "      <td>1.148058</td>\n",
       "    </tr>\n",
       "    <tr>\n",
       "      <th>3</th>\n",
       "      <td>5992167</td>\n",
       "      <td>0x1f18e6e2450b328fa548914b6cdcc41e09f64d6311ca...</td>\n",
       "      <td>2023-03-13 17:53:47.102979</td>\n",
       "      <td>2023-03-13 17:53:47.232045</td>\n",
       "      <td>2023-03-13 17:53:48</td>\n",
       "      <td>0.897021</td>\n",
       "    </tr>\n",
       "    <tr>\n",
       "      <th>4</th>\n",
       "      <td>5992169</td>\n",
       "      <td>0xf13d1bc828058e0b6150628330c39de5586e6c83e303...</td>\n",
       "      <td>2023-03-13 17:54:10.935878</td>\n",
       "      <td>2023-03-13 17:54:11.084660</td>\n",
       "      <td>2023-03-13 17:54:12</td>\n",
       "      <td>1.064122</td>\n",
       "    </tr>\n",
       "  </tbody>\n",
       "</table>\n",
       "</div>"
      ],
      "text/plain": [
       "      slot                                                 bh  \\\n",
       "0  5992159  0x845b7b8844d4787da924b466c89e88d399ede24191f3...   \n",
       "1  5992160  0x7a17c8498b5cd6116b792095359e4d9dd2daa9726afd...   \n",
       "2  5992165  0xaaf01a06a1c7c73b5c1ade6e4b9fe22adfe283eacf0c...   \n",
       "3  5992167  0x1f18e6e2450b328fa548914b6cdcc41e09f64d6311ca...   \n",
       "4  5992169  0xf13d1bc828058e0b6150628330c39de5586e6c83e303...   \n",
       "\n",
       "                 received_at                eligible_at       slot_boundary  \\\n",
       "0 2023-03-13 17:52:11.483072 2023-03-13 17:52:11.638520 2023-03-13 17:52:12   \n",
       "1 2023-03-13 17:52:24.239075 2023-03-13 17:52:24.508869 2023-03-13 17:52:24   \n",
       "2 2023-03-13 17:53:22.851942 2023-03-13 17:53:23.104399 2023-03-13 17:53:24   \n",
       "3 2023-03-13 17:53:47.102979 2023-03-13 17:53:47.232045 2023-03-13 17:53:48   \n",
       "4 2023-03-13 17:54:10.935878 2023-03-13 17:54:11.084660 2023-03-13 17:54:12   \n",
       "\n",
       "       diff  \n",
       "0  0.516928  \n",
       "1 -0.239075  \n",
       "2  1.148058  \n",
       "3  0.897021  \n",
       "4  1.064122  "
      ]
     },
     "execution_count": 52,
     "metadata": {},
     "output_type": "execute_result"
    }
   ],
   "source": [
    "mwins['slot_boundary'] = np.asarray([pd.Timestamp(x).round(freq='12S') for x in mwins['received_at'].values])\n",
    "mwins['diff'] = [v.total_seconds() for v in mwins['slot_boundary'] - mwins['received_at']]\n",
    "mwins.head()"
   ]
  },
  {
   "cell_type": "code",
   "execution_count": 65,
   "metadata": {},
   "outputs": [
    {
     "data": {
      "text/plain": [
       "[(50, 0.864746), (90, 1.3146894000000002), (99, 1.8900897600000028)]"
      ]
     },
     "execution_count": 65,
     "metadata": {},
     "output_type": "execute_result"
    }
   ],
   "source": [
    "percs = [(int(i*100), np.quantile(mwins['diff'], i)) for i in [.50, .90, .99]]\n",
    "percs"
   ]
  },
  {
   "cell_type": "code",
   "execution_count": 66,
   "metadata": {},
   "outputs": [
    {
     "data": {
      "image/png": "[encoded data removed]",
      "text/plain": [
       "<Figure size 576x360 with 1 Axes>"
      ]
     },
     "metadata": {
      "needs_background": "light"
     },
     "output_type": "display_data"
    }
   ],
   "source": [
    "f, ax = plt.subplots(figsize=(8,5))\n",
    "\n",
    "bins = np.histogram(mwins['diff'], bins=600)[1]\n",
    "# ax.hist(mwins['diff'], bins, color='b', alpha=0.5, cumulative=0, density=True, label='pdf')\n",
    "ax.hist(mwins['diff'], bins, color='g', alpha=0.5, cumulative=1, density=True, label='cdf')\n",
    "linestyle = ['-', '--', ':']\n",
    "for i, v in enumerate(percs):\n",
    "    ax.axvline(v[1], label='p{}={:0.3f}'.format(v[0], v[1]), color='k', linestyle=linestyle[i], linewidth=3, alpha=0.7)\n",
    "\n",
    "ax.set_xlim(-2,4)\n",
    "ax.set_xlabel('difference $(s)$', size=16)\n",
    "ax.set_title('slot boundary - winning bid arrival; $\\mu={:0.3f}$s'.format(mwins['diff'].mean()), size=18)\n",
    "plt.legend(loc=4)\n",
    "plt.show()"
   ]
  },
  {
   "cell_type": "markdown",
   "metadata": {},
   "source": [
    "## simulation durations "
   ]
  },
  {
   "cell_type": "code",
   "execution_count": 30,
   "metadata": {},
   "outputs": [
    {
     "data": {
      "text/html": [
       "<div>\n",
       "<style scoped>\n",
       "    .dataframe tbody tr th:only-of-type {\n",
       "        vertical-align: middle;\n",
       "    }\n",
       "\n",
       "    .dataframe tbody tr th {\n",
       "        vertical-align: top;\n",
       "    }\n",
       "\n",
       "    .dataframe thead th {\n",
       "        text-align: right;\n",
       "    }\n",
       "</style>\n",
       "<table border=\"1\" class=\"dataframe\">\n",
       "  <thead>\n",
       "    <tr style=\"text-align: right;\">\n",
       "      <th></th>\n",
       "      <th>received_at</th>\n",
       "      <th>optimistic_submission</th>\n",
       "      <th>decode_duration</th>\n",
       "      <th>prechecks_duration</th>\n",
       "      <th>simulation_duration</th>\n",
       "      <th>redis_update_duration</th>\n",
       "      <th>total_duration</th>\n",
       "      <th>substring</th>\n",
       "    </tr>\n",
       "  </thead>\n",
       "  <tbody>\n",
       "    <tr>\n",
       "      <th>0</th>\n",
       "      <td>2023-03-13 17:57:45.774553</td>\n",
       "      <td>f</td>\n",
       "      <td>12410</td>\n",
       "      <td>1786</td>\n",
       "      <td>75578</td>\n",
       "      <td>6903</td>\n",
       "      <td>96678</td>\n",
       "      <td>0x978a35</td>\n",
       "    </tr>\n",
       "    <tr>\n",
       "      <th>1</th>\n",
       "      <td>2023-03-13 17:57:45.698805</td>\n",
       "      <td>f</td>\n",
       "      <td>89843</td>\n",
       "      <td>1617</td>\n",
       "      <td>105741</td>\n",
       "      <td>6568</td>\n",
       "      <td>203771</td>\n",
       "      <td>0xa82f9a</td>\n",
       "    </tr>\n",
       "    <tr>\n",
       "      <th>2</th>\n",
       "      <td>2023-03-13 17:57:45.810121</td>\n",
       "      <td>f</td>\n",
       "      <td>7900</td>\n",
       "      <td>1768</td>\n",
       "      <td>96445</td>\n",
       "      <td>7302</td>\n",
       "      <td>113417</td>\n",
       "      <td>0x84b02b</td>\n",
       "    </tr>\n",
       "    <tr>\n",
       "      <th>3</th>\n",
       "      <td>2023-03-13 17:57:43.602490</td>\n",
       "      <td>f</td>\n",
       "      <td>90470</td>\n",
       "      <td>1353</td>\n",
       "      <td>98227</td>\n",
       "      <td>5276</td>\n",
       "      <td>195328</td>\n",
       "      <td>0xa1dead</td>\n",
       "    </tr>\n",
       "    <tr>\n",
       "      <th>4</th>\n",
       "      <td>2023-03-13 17:57:43.675843</td>\n",
       "      <td>f</td>\n",
       "      <td>87590</td>\n",
       "      <td>1465</td>\n",
       "      <td>101181</td>\n",
       "      <td>5469</td>\n",
       "      <td>195707</td>\n",
       "      <td>0xa85807</td>\n",
       "    </tr>\n",
       "  </tbody>\n",
       "</table>\n",
       "</div>"
      ],
      "text/plain": [
       "                 received_at optimistic_submission  decode_duration  \\\n",
       "0 2023-03-13 17:57:45.774553                     f            12410   \n",
       "1 2023-03-13 17:57:45.698805                     f            89843   \n",
       "2 2023-03-13 17:57:45.810121                     f             7900   \n",
       "3 2023-03-13 17:57:43.602490                     f            90470   \n",
       "4 2023-03-13 17:57:43.675843                     f            87590   \n",
       "\n",
       "   prechecks_duration  simulation_duration  redis_update_duration  \\\n",
       "0                1786                75578                   6903   \n",
       "1                1617               105741                   6568   \n",
       "2                1768                96445                   7302   \n",
       "3                1353                98227                   5276   \n",
       "4                1465               101181                   5469   \n",
       "\n",
       "   total_duration substring  \n",
       "0           96678  0x978a35  \n",
       "1          203771  0xa82f9a  \n",
       "2          113417  0x84b02b  \n",
       "3          195328  0xa1dead  \n",
       "4          195707  0xa85807  "
      ]
     },
     "execution_count": 30,
     "metadata": {},
     "output_type": "execute_result"
    }
   ],
   "source": [
    "nopts = pd.read_csv('rollout/big/noptsubs.txt', delimiter=\"|\")\n",
    "nopts['received_at'] = pd.to_datetime(nopts['received_at'], format=\"%Y-%m-%d%H:%M:%S.%f\")\n",
    "# nopts['slot_boundary'] = np.asarray([pd.Timestamp(x).round(freq='12S') for x in nopts['received_at'].values])\n",
    "nopts.head()"
   ]
  },
  {
   "cell_type": "code",
   "execution_count": 31,
   "metadata": {},
   "outputs": [
    {
     "data": {
      "text/plain": [
       "1000000"
      ]
     },
     "execution_count": 31,
     "metadata": {},
     "output_type": "execute_result"
    }
   ],
   "source": [
    "len(nopts)"
   ]
  },
  {
   "cell_type": "code",
   "execution_count": 32,
   "metadata": {},
   "outputs": [
    {
     "data": {
      "text/plain": [
       "96677"
      ]
     },
     "execution_count": 32,
     "metadata": {},
     "output_type": "execute_result"
    }
   ],
   "source": [
    "12410 + 1786 + 75578 + 6903"
   ]
  },
  {
   "cell_type": "code",
   "execution_count": 33,
   "metadata": {},
   "outputs": [
    {
     "data": {
      "text/plain": [
       "990000"
      ]
     },
     "execution_count": 33,
     "metadata": {},
     "output_type": "execute_result"
    }
   ],
   "source": [
    "nopts_plot = nopts[nopts['total_duration'] < np.quantile(nopts['total_duration'].values, 0.99)]\n",
    "len(nopts_plot)"
   ]
  },
  {
   "cell_type": "code",
   "execution_count": 34,
   "metadata": {},
   "outputs": [
    {
     "data": {
      "text/plain": [
       "1592421.026000001"
      ]
     },
     "execution_count": 34,
     "metadata": {},
     "output_type": "execute_result"
    }
   ],
   "source": [
    "np.quantile(nopts['simulation_duration'].values, 0.999)"
   ]
  },
  {
   "cell_type": "code",
   "execution_count": 32,
   "metadata": {},
   "outputs": [
    {
     "data": {
      "text/plain": [
       "(73041.164332, 17930.121351, 142992.88085, 35826.475345)"
      ]
     },
     "execution_count": 32,
     "metadata": {},
     "output_type": "execute_result"
    }
   ],
   "source": [
    "nopts['decode_duration'].mean(), nopts['prechecks_duration'].mean(),nopts['simulation_duration'].mean(),nopts['redis_update_duration'].mean()"
   ]
  },
  {
   "cell_type": "code",
   "execution_count": 56,
   "metadata": {},
   "outputs": [
    {
     "data": {
      "text/plain": [
       "(25923.84881855749, 0.26330497914869067)"
      ]
     },
     "execution_count": 56,
     "metadata": {},
     "output_type": "execute_result"
    }
   ],
   "source": [
    "yopts['redis_update_duration'].mean(), yopts['redis_update_duration'].mean() / yopts['total_duration'].mean(), "
   ]
  },
  {
   "cell_type": "code",
   "execution_count": 57,
   "metadata": {},
   "outputs": [
    {
     "data": {
      "text/plain": [
       "269790.641878"
      ]
     },
     "execution_count": 57,
     "metadata": {},
     "output_type": "execute_result"
    }
   ],
   "source": [
    "73041.164332 + 17930.121351 + 142992.88085 + 35826.475345"
   ]
  },
  {
   "cell_type": "code",
   "execution_count": 58,
   "metadata": {},
   "outputs": [
    {
     "data": {
      "text/plain": [
       "98455.59663312732"
      ]
     },
     "execution_count": 58,
     "metadata": {},
     "output_type": "execute_result"
    }
   ],
   "source": [
    "yopts['total_duration'].mean()"
   ]
  },
  {
   "cell_type": "code",
   "execution_count": 59,
   "metadata": {},
   "outputs": [
    {
     "data": {
      "text/plain": [
       "(53252.13336907648, 19247.562639861502, 30.55739570621766, 25923.84881855749)"
      ]
     },
     "execution_count": 59,
     "metadata": {},
     "output_type": "execute_result"
    }
   ],
   "source": [
    "yopts['decode_duration'].mean(), yopts['prechecks_duration'].mean(),yopts['simulation_duration'].mean(),yopts['redis_update_duration'].mean()"
   ]
  },
  {
   "cell_type": "code",
   "execution_count": 60,
   "metadata": {},
   "outputs": [
    {
     "data": {
      "text/plain": [
       "98455.59663312732"
      ]
     },
     "execution_count": 60,
     "metadata": {},
     "output_type": "execute_result"
    }
   ],
   "source": [
    "yopts['total_duration'].mean()"
   ]
  },
  {
   "cell_type": "code",
   "execution_count": 61,
   "metadata": {},
   "outputs": [
    {
     "data": {
      "text/plain": [
       "98454.10222320168"
      ]
     },
     "execution_count": 61,
     "metadata": {},
     "output_type": "execute_result"
    }
   ],
   "source": [
    "53252.13336907648 + 19247.562639861502 + 30.55739570621766 + 25923.84881855749"
   ]
  },
  {
   "cell_type": "code",
   "execution_count": 35,
   "metadata": {},
   "outputs": [
    {
     "data": {
      "image/png": "[encoded data removed]",
      "text/plain": [
       "<Figure size 576x360 with 1 Axes>"
      ]
     },
     "metadata": {
      "needs_background": "light"
     },
     "output_type": "display_data"
    }
   ],
   "source": [
    "f, ax = plt.subplots(figsize=(8,5))\n",
    "bins = np.histogram(nopts_plot['total_duration'], bins=1000)[1]\n",
    "# ax.hist(nopts_plot['simulation_duration'], bins=bins, color='darkviolet', alpha=0.9, density=True, \n",
    "#         label='simulation duration $(\\mu = {:0.0f})$'.format(nopts['simulation_duration'].values.mean()))\n",
    "ax.hist(nopts_plot['total_duration'], bins=bins, color='peru', alpha=0.9, density=True, \n",
    "        label='total duration $(\\mu = {:0.0f})$'.format(nopts['total_duration'].values.mean()))\n",
    "ax.set_xlim(0, int(1e6))\n",
    "# ax.legend(loc=0)\n",
    "ax.set_xlabel('duration $(\\mu s)$', size=14)\n",
    "# ax.set_title('non-optimistic block submission durations', size=16)\n",
    "ax.set_title('total duration; $\\mu = {:0.0f}$'.format(nopts['total_duration'].values.mean()), size=18)\n",
    "plt.show()"
   ]
  },
  {
   "cell_type": "code",
   "execution_count": 62,
   "metadata": {},
   "outputs": [
    {
     "data": {
      "image/png": "[encoded data removed]",
      "text/plain": [
       "<Figure size 576x360 with 1 Axes>"
      ]
     },
     "metadata": {
      "needs_background": "light"
     },
     "output_type": "display_data"
    }
   ],
   "source": [
    "f, ax = plt.subplots(figsize=(8,5))\n",
    "bins = np.histogram(nopts_plot['decode_duration'], bins=1000)[1]\n",
    "# ax.hist(nopts_plot['simulation_duration'], bins=bins, color='darkviolet', alpha=0.9, density=True, \n",
    "#         label='simulation duration $(\\mu = {:0.0f})$'.format(nopts['simulation_duration'].values.mean()))\n",
    "ax.hist(nopts_plot['decode_duration'], bins=bins, color='teal', alpha=0.9, density=True, \n",
    "        label='block propagation latency $(\\mu = {:0.0f})$'.format(nopts['decode_duration'].values.mean()))\n",
    "ax.set_xlim(0, int(8e5))\n",
    "# ax.legend(loc=0)\n",
    "ax.set_xlabel('duration $(\\mu s)$', size=16)\n",
    "# ax.set_title('non-optimistic block submission durations', size=16)\n",
    "ax.set_title('block propagation latency; $\\mu = {:0.0f} \\mu s$'.format(nopts['decode_duration'].values.mean()), size=18)\n",
    "ax.ticklabel_format(style='sci', axis='x', scilimits=(0,0))\n",
    "plt.show()"
   ]
  },
  {
   "cell_type": "code",
   "execution_count": 47,
   "metadata": {},
   "outputs": [
    {
     "data": {
      "text/plain": [
       "13625.140963068376"
      ]
     },
     "execution_count": 47,
     "metadata": {},
     "output_type": "execute_result"
    }
   ],
   "source": [
    "nopts[nopts['decode_duration'] < 75000]['decode_duration'].mean()"
   ]
  },
  {
   "cell_type": "code",
   "execution_count": 51,
   "metadata": {},
   "outputs": [
    {
     "name": "stderr",
     "output_type": "stream",
     "text": [
      "<ipython-input-51-5eeb003bb764>:1: UserWarning: Boolean Series key will be reindexed to match DataFrame index.\n",
      "  nopts[nopts['decode_duration'] > 75000][nopts['decode_duration'] < 200000]['decode_duration'].mean()\n"
     ]
    },
    {
     "data": {
      "text/plain": [
       "106997.97334487914"
      ]
     },
     "execution_count": 51,
     "metadata": {},
     "output_type": "execute_result"
    }
   ],
   "source": [
    "nopts[nopts['decode_duration'] > 75000][nopts['decode_duration'] < 200000]['decode_duration'].mean()"
   ]
  },
  {
   "cell_type": "code",
   "execution_count": 49,
   "metadata": {},
   "outputs": [
    {
     "data": {
      "text/plain": [
       "8.996281167683382"
      ]
     },
     "execution_count": 49,
     "metadata": {},
     "output_type": "execute_result"
    }
   ],
   "source": [
    "122575.59905308344/13625.140963068376"
   ]
  },
  {
   "cell_type": "code",
   "execution_count": 191,
   "metadata": {},
   "outputs": [
    {
     "data": {
      "text/plain": [
       "0.004962"
      ]
     },
     "execution_count": 191,
     "metadata": {},
     "output_type": "execute_result"
    }
   ],
   "source": [
    "len(nopts[nopts['simulation_duration'] > int(1e6)]) / len(nopts) "
   ]
  },
  {
   "cell_type": "code",
   "execution_count": 60,
   "metadata": {},
   "outputs": [
    {
     "data": {
      "text/plain": [
       "[(50, 113377.0), (90, 218973.0), (99, 744570.2900000003)]"
      ]
     },
     "execution_count": 60,
     "metadata": {},
     "output_type": "execute_result"
    }
   ],
   "source": [
    "percs = [(int(i*100), np.quantile(nopts['simulation_duration'], i)) for i in [.50, .90, .99]]\n",
    "percs"
   ]
  },
  {
   "cell_type": "code",
   "execution_count": 61,
   "metadata": {},
   "outputs": [
    {
     "data": {
      "image/png": "[encoded data removed]",
      "text/plain": [
       "<Figure size 576x360 with 1 Axes>"
      ]
     },
     "metadata": {
      "needs_background": "light"
     },
     "output_type": "display_data"
    }
   ],
   "source": [
    "f, ax = plt.subplots(figsize=(8,5))\n",
    "\n",
    "bins = np.histogram(nopts['simulation_duration'], bins=600)[1]\n",
    "# ax.hist(mwins['diff'], bins, color='b', alpha=0.5, cumulative=0, density=True, label='pdf')\n",
    "ax.hist(nopts['simulation_duration'], bins, color='g', alpha=0.5, cumulative=1, density=True, label='cdf')\n",
    "linestyle = ['-', '--', ':']\n",
    "for i, v in enumerate(percs):\n",
    "    ax.axvline(v[1], label='p{}={:0.0f}'.format(v[0], v[1]), color='k', linestyle=linestyle[i], linewidth=3, alpha=0.7)\n",
    "ax.set_xlim(0,int(8e5))\n",
    "ax.ticklabel_format(style='sci', axis='x', scilimits=(0,0))\n",
    "ax.set_xlabel('duration $(\\mu s)$', size=16)\n",
    "ax.set_title('simulation latency; $\\mu={:0.0f} \\mu s$'.format(nopts['simulation_duration'].mean()), size=18)\n",
    "plt.legend(loc=4)\n",
    "plt.show()"
   ]
  },
  {
   "cell_type": "markdown",
   "metadata": {},
   "source": [
    "## opt submissions"
   ]
  },
  {
   "cell_type": "code",
   "execution_count": 52,
   "metadata": {},
   "outputs": [
    {
     "data": {
      "text/html": [
       "<div>\n",
       "<style scoped>\n",
       "    .dataframe tbody tr th:only-of-type {\n",
       "        vertical-align: middle;\n",
       "    }\n",
       "\n",
       "    .dataframe tbody tr th {\n",
       "        vertical-align: top;\n",
       "    }\n",
       "\n",
       "    .dataframe thead th {\n",
       "        text-align: right;\n",
       "    }\n",
       "</style>\n",
       "<table border=\"1\" class=\"dataframe\">\n",
       "  <thead>\n",
       "    <tr style=\"text-align: right;\">\n",
       "      <th></th>\n",
       "      <th>received_at</th>\n",
       "      <th>optimistic_submission</th>\n",
       "      <th>decode_duration</th>\n",
       "      <th>prechecks_duration</th>\n",
       "      <th>simulation_duration</th>\n",
       "      <th>redis_update_duration</th>\n",
       "      <th>total_duration</th>\n",
       "      <th>substring</th>\n",
       "    </tr>\n",
       "  </thead>\n",
       "  <tbody>\n",
       "    <tr>\n",
       "      <th>0</th>\n",
       "      <td>2023-03-17 12:12:33.673550</td>\n",
       "      <td>t</td>\n",
       "      <td>12062</td>\n",
       "      <td>1407</td>\n",
       "      <td>11</td>\n",
       "      <td>5999</td>\n",
       "      <td>19481</td>\n",
       "      <td>0xb33333</td>\n",
       "    </tr>\n",
       "    <tr>\n",
       "      <th>1</th>\n",
       "      <td>2023-03-17 12:12:20.659166</td>\n",
       "      <td>t</td>\n",
       "      <td>101735</td>\n",
       "      <td>1449</td>\n",
       "      <td>7</td>\n",
       "      <td>5578</td>\n",
       "      <td>108770</td>\n",
       "      <td>0x83d349</td>\n",
       "    </tr>\n",
       "    <tr>\n",
       "      <th>2</th>\n",
       "      <td>2023-03-17 12:12:20.822450</td>\n",
       "      <td>t</td>\n",
       "      <td>11241</td>\n",
       "      <td>2096</td>\n",
       "      <td>10</td>\n",
       "      <td>6061</td>\n",
       "      <td>19409</td>\n",
       "      <td>0x978a35</td>\n",
       "    </tr>\n",
       "    <tr>\n",
       "      <th>3</th>\n",
       "      <td>2023-03-17 12:12:21.083129</td>\n",
       "      <td>t</td>\n",
       "      <td>135937</td>\n",
       "      <td>1408</td>\n",
       "      <td>10</td>\n",
       "      <td>8629</td>\n",
       "      <td>145986</td>\n",
       "      <td>0x83d349</td>\n",
       "    </tr>\n",
       "    <tr>\n",
       "      <th>4</th>\n",
       "      <td>2023-03-17 12:12:22.254343</td>\n",
       "      <td>t</td>\n",
       "      <td>234029</td>\n",
       "      <td>1672</td>\n",
       "      <td>7</td>\n",
       "      <td>5794</td>\n",
       "      <td>241504</td>\n",
       "      <td>0x83d349</td>\n",
       "    </tr>\n",
       "  </tbody>\n",
       "</table>\n",
       "</div>"
      ],
      "text/plain": [
       "                 received_at optimistic_submission  decode_duration  \\\n",
       "0 2023-03-17 12:12:33.673550                     t            12062   \n",
       "1 2023-03-17 12:12:20.659166                     t           101735   \n",
       "2 2023-03-17 12:12:20.822450                     t            11241   \n",
       "3 2023-03-17 12:12:21.083129                     t           135937   \n",
       "4 2023-03-17 12:12:22.254343                     t           234029   \n",
       "\n",
       "   prechecks_duration  simulation_duration  redis_update_duration  \\\n",
       "0                1407                   11                   5999   \n",
       "1                1449                    7                   5578   \n",
       "2                2096                   10                   6061   \n",
       "3                1408                   10                   8629   \n",
       "4                1672                    7                   5794   \n",
       "\n",
       "   total_duration substring  \n",
       "0           19481  0xb33333  \n",
       "1          108770  0x83d349  \n",
       "2           19409  0x978a35  \n",
       "3          145986  0x83d349  \n",
       "4          241504  0x83d349  "
      ]
     },
     "execution_count": 52,
     "metadata": {},
     "output_type": "execute_result"
    }
   ],
   "source": [
    "yopts = pd.read_csv('rollout/big/optsubs.txt', delimiter=\"|\")\n",
    "yopts['received_at'] = pd.to_datetime(yopts['received_at'], format=\"%Y-%m-%d%H:%M:%S.%f\")\n",
    "# nopts['slot_boundary'] = np.asarray([pd.Timestamp(x).round(freq='12S') for x in nopts['received_at'].values])\n",
    "yopts.head()"
   ]
  },
  {
   "cell_type": "code",
   "execution_count": 53,
   "metadata": {},
   "outputs": [
    {
     "data": {
      "text/plain": [
       "912063"
      ]
     },
     "execution_count": 53,
     "metadata": {},
     "output_type": "execute_result"
    }
   ],
   "source": [
    "len(yopts)"
   ]
  },
  {
   "cell_type": "code",
   "execution_count": 54,
   "metadata": {},
   "outputs": [
    {
     "data": {
      "text/plain": [
       "19479"
      ]
     },
     "execution_count": 54,
     "metadata": {},
     "output_type": "execute_result"
    }
   ],
   "source": [
    "12062 + 11 + 5999 + 1407"
   ]
  },
  {
   "cell_type": "code",
   "execution_count": 55,
   "metadata": {},
   "outputs": [
    {
     "data": {
      "text/plain": [
       "990000"
      ]
     },
     "execution_count": 55,
     "metadata": {},
     "output_type": "execute_result"
    }
   ],
   "source": [
    "yopts_plot = yopts[yopts['total_duration'] < np.quantile(yopts['total_duration'].values, 0.99)]\n",
    "len(nopts_plot)"
   ]
  },
  {
   "cell_type": "code",
   "execution_count": 161,
   "metadata": {},
   "outputs": [
    {
     "data": {
      "image/png": "[encoded data removed]",
      "text/plain": [
       "<Figure size 576x360 with 1 Axes>"
      ]
     },
     "metadata": {
      "needs_background": "light"
     },
     "output_type": "display_data"
    }
   ],
   "source": [
    "f, ax = plt.subplots(figsize=(8,5))\n",
    "bins = np.histogram(yopts_plot['total_duration'], bins=1000)[1]\n",
    "ax.hist(yopts_plot['simulation_duration'], bins=bins, color='darkviolet', alpha=0.9, density=True, \n",
    "        label='simulation duration $(\\mu = {:0.0f})$'.format(yopts['simulation_duration'].values.mean()))\n",
    "ax.hist(yopts_plot['total_duration'], bins=bins, color='peru', alpha=0.9, density=True, \n",
    "        label='total duration $(\\mu = {:0.0f})$'.format(yopts['total_duration'].values.mean()))\n",
    "ax.set_xlim(0, int(2e5))\n",
    "ax.legend(loc=0)\n",
    "ax.set_xlabel('duration $(\\mu s)$', size=14)\n",
    "ax.set_title('non-optimistic block submission durations', size=16)\n",
    "plt.show()"
   ]
  },
  {
   "cell_type": "markdown",
   "metadata": {},
   "source": [
    "## block size & latency"
   ]
  },
  {
   "cell_type": "code",
   "execution_count": 2,
   "metadata": {},
   "outputs": [
    {
     "data": {
      "text/html": [
       "<div>\n",
       "<style scoped>\n",
       "    .dataframe tbody tr th:only-of-type {\n",
       "        vertical-align: middle;\n",
       "    }\n",
       "\n",
       "    .dataframe tbody tr th {\n",
       "        vertical-align: top;\n",
       "    }\n",
       "\n",
       "    .dataframe thead th {\n",
       "        text-align: right;\n",
       "    }\n",
       "</style>\n",
       "<table border=\"1\" class=\"dataframe\">\n",
       "  <thead>\n",
       "    <tr style=\"text-align: right;\">\n",
       "      <th></th>\n",
       "      <th>bytes</th>\n",
       "      <th>decode_duration</th>\n",
       "      <th>pubkey</th>\n",
       "    </tr>\n",
       "  </thead>\n",
       "  <tbody>\n",
       "    <tr>\n",
       "      <th>0</th>\n",
       "      <td>55660</td>\n",
       "      <td>12369</td>\n",
       "      <td>0xa971c4ee4ac5d47e0fb9e16be05981bfe51458f14c06...</td>\n",
       "    </tr>\n",
       "    <tr>\n",
       "      <th>1</th>\n",
       "      <td>52714</td>\n",
       "      <td>31733</td>\n",
       "      <td>0x83d3495a2951065cf19c4d282afca0a635a39f6504bd...</td>\n",
       "    </tr>\n",
       "    <tr>\n",
       "      <th>2</th>\n",
       "      <td>56012</td>\n",
       "      <td>10890</td>\n",
       "      <td>0xa4fb63c2ceeee73d1f1711fadf1c5357ac98cecb999d...</td>\n",
       "    </tr>\n",
       "    <tr>\n",
       "      <th>3</th>\n",
       "      <td>53879</td>\n",
       "      <td>124424</td>\n",
       "      <td>0xa66f3abc04df65c16eb32151f2a92cb7921efdba4c25...</td>\n",
       "    </tr>\n",
       "    <tr>\n",
       "      <th>4</th>\n",
       "      <td>51754</td>\n",
       "      <td>255603</td>\n",
       "      <td>0x8cb3cb2fdc996d14bf30bc56c94d93f250245cfd4578...</td>\n",
       "    </tr>\n",
       "  </tbody>\n",
       "</table>\n",
       "</div>"
      ],
      "text/plain": [
       "   bytes  decode_duration                                             pubkey\n",
       "0  55660            12369  0xa971c4ee4ac5d47e0fb9e16be05981bfe51458f14c06...\n",
       "1  52714            31733  0x83d3495a2951065cf19c4d282afca0a635a39f6504bd...\n",
       "2  56012            10890  0xa4fb63c2ceeee73d1f1711fadf1c5357ac98cecb999d...\n",
       "3  53879           124424  0xa66f3abc04df65c16eb32151f2a92cb7921efdba4c25...\n",
       "4  51754           255603  0x8cb3cb2fdc996d14bf30bc56c94d93f250245cfd4578..."
      ]
     },
     "execution_count": 2,
     "metadata": {},
     "output_type": "execute_result"
    }
   ],
   "source": [
    "pdurs = pd.read_csv('frontier/payload_durs.txt', delimiter='|', names=['bytes', 'decode_duration', 'pubkey'])\n",
    "pdurs.head()"
   ]
  },
  {
   "cell_type": "code",
   "execution_count": 3,
   "metadata": {},
   "outputs": [
    {
     "data": {
      "image/png": "[encoded data removed]",
      "text/plain": [
       "<Figure size 504x360 with 1 Axes>"
      ]
     },
     "metadata": {
      "needs_background": "light"
     },
     "output_type": "display_data"
    }
   ],
   "source": [
    "f, ax = plt.subplots(figsize=(7,5))\n",
    "ax.plot(pdurs['bytes'], pdurs['decode_duration'], color='firebrick', marker=',', alpha=0.3, linestyle='None')\n",
    "ax.set_ylim(0, int(5e5))\n",
    "ax.set_xlim(0, int(5e5))\n",
    "# ax.set_xticks(np.arange(0, int(5e5), int(1e5)))\n",
    "# ax.set_xticklabels(np.arange(0, int(5e5), int(1e5)))\n",
    "ax.set_xlabel('execution payload size (bytes)', size=15)\n",
    "ax.set_ylabel('decode duration $(\\mu s)$', size=15)\n",
    "plt.show()"
   ]
  },
  {
   "cell_type": "code",
   "execution_count": 4,
   "metadata": {},
   "outputs": [
    {
     "data": {
      "text/plain": [
       "Index(['0xa66f3abc04df65c16eb32151f2a92cb7921efdba4c25ab61b969a2af24b61508783ceb48175ef252ec9f82c6cdf8d8fd',\n",
       "       '0x978a35c39c41aadbe35ea29712bccffb117cc6ebcad4d86ea463d712af1dc80131d0c650dc29ba29ef27c881f43bd587',\n",
       "       '0xb67eaa5efcfa1d17319c344e1e5167811afbfe7922a2cf01c9a361f465597a5dc3a5472bd98843bac88d2541a78eab08',\n",
       "       '0x8bc8d110f8b5207e7edc407e8fa033937ddfe8d2c6f18c12a6171400eb6e04d49238ba2b0a95e633d15558e6a706fbe4',\n",
       "       '0x96a59d355b1f65e270b29981dd113625732539e955a1beeecbc471dd0196c4804574ff871d47ed34ff6d921061e9fc27',\n",
       "       '0x83d3495a2951065cf19c4d282afca0a635a39f6504bd76282ed0138fe28680ec60fa3fd149e6d27a94a7d90e7b1fb640',\n",
       "       '0xb5d883565500910f3f10f0a2e3a031139d972117a3b67da191ff93ba00ba26502d9b65385b5bca5e7c587273e40f2319',\n",
       "       '0xa4fb63c2ceeee73d1f1711fadf1c5357ac98cecb999d053be613f469a48f7416999a4da35dd60a7824478661399e6772',\n",
       "       '0xa971c4ee4ac5d47e0fb9e16be05981bfe51458f14c06b7a020304099c23d2d9952d4254cc50f291c385d15e7cae0cf9d',\n",
       "       '0xb194b2b8ec91a71c18f8483825234679299d146495a08db3bf3fb955e1d85a5fca77e88de93a74f4e32320fc922d3027'],\n",
       "      dtype='object')"
      ]
     },
     "execution_count": 4,
     "metadata": {},
     "output_type": "execute_result"
    }
   ],
   "source": [
    "tops = pdurs['pubkey'].value_counts()[:10].index\n",
    "tops"
   ]
  },
  {
   "cell_type": "code",
   "execution_count": 5,
   "metadata": {},
   "outputs": [],
   "source": [
    "pk_durs = {}\n",
    "for i in tops:\n",
    "    pk_durs[i] = pdurs[pdurs['pubkey']==i]"
   ]
  },
  {
   "cell_type": "code",
   "execution_count": 6,
   "metadata": {},
   "outputs": [
    {
     "data": {
      "image/png": "[encoded data removed]",
      "text/plain": [
       "<Figure size 504x360 with 1 Axes>"
      ]
     },
     "metadata": {
      "needs_background": "light"
     },
     "output_type": "display_data"
    }
   ],
   "source": [
    "f, ax = plt.subplots(figsize=(7,5))\n",
    "colors = plt.cm.copper(np.linspace(0, 1, 10))\n",
    "for i,pk in enumerate(pk_durs):\n",
    "    val = pk_durs[pk]\n",
    "    ax.plot(val['bytes'], val['decode_duration'], color=colors[i], marker=',', alpha=0.3, linestyle='None')\n",
    "ax.set_ylim(0, int(2e5))\n",
    "ax.set_xlim(0, int(5e5))\n",
    "ax.set_xticks(np.arange(0, int(5e5), int(1e5)))\n",
    "ax.set_xticklabels(np.arange(0, int(5e5), int(1e5)))\n",
    "ax.set_xlabel('execution payload size (bytes)', size=15)\n",
    "ax.set_ylabel('decode duration $(\\mu s)$', size=15)\n",
    "plt.show()"
   ]
  },
  {
   "cell_type": "code",
   "execution_count": 7,
   "metadata": {},
   "outputs": [
    {
     "data": {
      "text/plain": [
       "'0xb67eaa5efcfa1d17319c344e1e5167811afbfe7922a2cf01c9a361f465597a5dc3a5472bd98843bac88d2541a78eab08'"
      ]
     },
     "execution_count": 7,
     "metadata": {},
     "output_type": "execute_result"
    }
   ],
   "source": [
    "tops[2]"
   ]
  },
  {
   "cell_type": "code",
   "execution_count": 8,
   "metadata": {},
   "outputs": [
    {
     "data": {
      "text/plain": [
       "'0x978a35c39c41aadbe35ea29712bccffb117cc6ebcad4d86ea463d712af1dc80131d0c650dc29ba29ef27c881f43bd587'"
      ]
     },
     "execution_count": 8,
     "metadata": {},
     "output_type": "execute_result"
    }
   ],
   "source": [
    "tops[1]"
   ]
  },
  {
   "cell_type": "code",
   "execution_count": 22,
   "metadata": {},
   "outputs": [
    {
     "data": {
      "text/plain": [
       "(array([0.21308517]), -8002.659109032313)"
      ]
     },
     "execution_count": 22,
     "metadata": {},
     "output_type": "execute_result"
    }
   ],
   "source": [
    "X, y = np.reshape(val['bytes'].values, (-1,1)), val['decode_duration']\n",
    "reg = LinearRegression().fit(X,y)\n",
    "reg.score(X,y)\n",
    "reg.coef_, reg.intercept_"
   ]
  },
  {
   "cell_type": "code",
   "execution_count": 26,
   "metadata": {},
   "outputs": [
    {
     "data": {
      "image/png": "[encoded data removed]",
      "text/plain": [
       "<Figure size 504x360 with 1 Axes>"
      ]
     },
     "metadata": {
      "needs_background": "light"
     },
     "output_type": "display_data"
    }
   ],
   "source": [
    "f, ax = plt.subplots(figsize=(7,5))\n",
    "# colors = plt.cm.copper(np.linspace(0, 1, 10))\n",
    "val = pk_durs[tops[2]]\n",
    "X, y = np.reshape(val['bytes'].values, (-1,1)), val['decode_duration']\n",
    "reg = LinearRegression().fit(X,y)\n",
    "# reg.score(X,y)\n",
    "reg.coef_, reg.intercept_\n",
    "ax.plot(np.arange(0, 500000) * reg.coef_ + reg.intercept_, color='firebrick', linewidth=3)\n",
    "ax.plot(val['bytes'], val['decode_duration'], color='firebrick', marker='.', alpha=0.1, linestyle='None', \n",
    "        markersize=3, label='pubkey 1')\n",
    "\n",
    "val = pk_durs[tops[1]]\n",
    "X, y = np.reshape(val['bytes'].values, (-1,1)), val['decode_duration']\n",
    "reg = LinearRegression().fit(X,y)\n",
    "# reg.score(X,y)\n",
    "reg.coef_, reg.intercept_\n",
    "ax.plot(np.arange(0, 500000) * reg.coef_ + reg.intercept_, color='navy', linewidth=3)\n",
    "ax.plot(val['bytes'], val['decode_duration'], color='navy', marker='.', alpha=0.1, linestyle='None', \n",
    "        markersize=3, label='pubkey 2')\n",
    "ax.set_ylim(0, int(3e5))\n",
    "ax.set_xlim(0, int(5e5))\n",
    "# ax.set_xticks(np.arange(0, int(5e5), int(1e5)))\n",
    "# ax.set_xticklabels(np.arange(0, int(5e5), int(1e5)))\n",
    "ax.set_xlabel('execution payload size (bytes)', size=15)\n",
    "ax.set_ylabel('decode duration $(\\mu s)$', size=15)\n",
    "lgnd = ax.legend(markerscale=6)\n",
    "plt.show()"
   ]
  },
  {
   "cell_type": "code",
   "execution_count": 265,
   "metadata": {},
   "outputs": [],
   "source": [
    "pk1 = pk_durs[tops[2]]\n",
    "pk2 = pk_durs[tops[1]]"
   ]
  },
  {
   "cell_type": "code",
   "execution_count": 266,
   "metadata": {},
   "outputs": [],
   "source": [
    "normalized1 = pk1['decode_duration'] / pk1['bytes']\n",
    "normalized2 = pk2['decode_duration'] / pk2['bytes']"
   ]
  },
  {
   "cell_type": "code",
   "execution_count": 274,
   "metadata": {},
   "outputs": [
    {
     "data": {
      "text/plain": [
       "1.32258861178476"
      ]
     },
     "execution_count": 274,
     "metadata": {},
     "output_type": "execute_result"
    }
   ],
   "source": [
    "normalized1.mean()"
   ]
  },
  {
   "cell_type": "code",
   "execution_count": 273,
   "metadata": {},
   "outputs": [
    {
     "data": {
      "text/plain": [
       "0.17164546399480177"
      ]
     },
     "execution_count": 273,
     "metadata": {},
     "output_type": "execute_result"
    }
   ],
   "source": [
    "normalized2.mean()"
   ]
  },
  {
   "cell_type": "code",
   "execution_count": 267,
   "metadata": {},
   "outputs": [
    {
     "data": {
      "text/plain": [
       "(4280, 5133)"
      ]
     },
     "execution_count": 267,
     "metadata": {},
     "output_type": "execute_result"
    }
   ],
   "source": [
    "len(normalized1), len(normalized2)"
   ]
  },
  {
   "cell_type": "code",
   "execution_count": 276,
   "metadata": {},
   "outputs": [
    {
     "data": {
      "image/png": "[encoded data removed]",
      "text/plain": [
       "<Figure size 576x360 with 1 Axes>"
      ]
     },
     "metadata": {
      "needs_background": "light"
     },
     "output_type": "display_data"
    }
   ],
   "source": [
    "f, ax = plt.subplots(figsize=(8,5))\n",
    "bins = np.histogram(normalized1, bins=300)[1]\n",
    "ax.hist(normalized2, bins=bins, color='navy', alpha=0.9, density=True, \n",
    "        label='decode duration $(\\mu = {:0.3f})$'.format(normalized1.mean()))\n",
    "ax.hist(normalized1, bins=bins, color='firebrick', alpha=0.9, density=True, \n",
    "        label='decode duration $(\\mu = {:0.3f})$'.format(normalized2.mean()))\n",
    "ax.set_xlim(0, 4)\n",
    "ax.legend(loc=0)\n",
    "# ax.set_xlabel('duration $(\\mu s)$', size=14)\n",
    "# ax.set_title('non-optimistic block submission durations', size=16)\n",
    "plt.show()"
   ]
  },
  {
   "cell_type": "markdown",
   "metadata": {},
   "source": [
    "## compare single builder"
   ]
  },
  {
   "cell_type": "code",
   "execution_count": 73,
   "metadata": {},
   "outputs": [
    {
     "name": "stdout",
     "output_type": "stream",
     "text": [
      "start=6100517\n",
      "start=6082372\n",
      "start=6071644\n",
      "start=6058748\n",
      "start=6045583\n",
      "start=6034920\n",
      "start=6022398\n",
      "start=6009294\n"
     ]
    },
    {
     "data": {
      "text/plain": [
       "1600"
      ]
     },
     "execution_count": 73,
     "metadata": {},
     "output_type": "execute_result"
    }
   ],
   "source": [
    "start = 6100517\n",
    "end = 5999717 # 14 days ago\n",
    "payload = {\n",
    "    'builder_pubkey': '0xb194b2b8ec91a71c18f8483825234679299d146495a08db3bf3fb955e1d85a5fca77e88de93a74f4e32320fc922d3027',\n",
    "}\n",
    "total_df = pd.DataFrame()\n",
    "while start > end:\n",
    "    print('start={}'.format(start))\n",
    "    payload['cursor'] = start\n",
    "    r = requests.get(\n",
    "#         'https://relay.ultrasound.money/relay/v1/data/bidtraces/proposer_payload_delivered',\n",
    "#         'https://agnostic-relay.net/relay/v1/data/bidtraces/proposer_payload_delivered',\n",
    "#         'https://boost-relay.flashbots.net/relay/v1/data/bidtraces/proposer_payload_delivered',\n",
    "        params=payload\n",
    "    )\n",
    "    out_df = pd.DataFrame(json.loads(r.text))\n",
    "    total_df = total_df.append(out_df)\n",
    "    total_df = total_df.sort_values('slot').reset_index(drop=True)\n",
    "    start = int(total_df['slot'].min())\n",
    "len(total_df)"
   ]
  },
  {
   "cell_type": "code",
   "execution_count": 75,
   "metadata": {},
   "outputs": [
    {
     "data": {
      "text/html": [
       "<div>\n",
       "<style scoped>\n",
       "    .dataframe tbody tr th:only-of-type {\n",
       "        vertical-align: middle;\n",
       "    }\n",
       "\n",
       "    .dataframe tbody tr th {\n",
       "        vertical-align: top;\n",
       "    }\n",
       "\n",
       "    .dataframe thead th {\n",
       "        text-align: right;\n",
       "    }\n",
       "</style>\n",
       "<table border=\"1\" class=\"dataframe\">\n",
       "  <thead>\n",
       "    <tr style=\"text-align: right;\">\n",
       "      <th></th>\n",
       "      <th>slot</th>\n",
       "      <th>parent_hash</th>\n",
       "      <th>block_hash</th>\n",
       "      <th>builder_pubkey</th>\n",
       "      <th>proposer_pubkey</th>\n",
       "      <th>proposer_fee_recipient</th>\n",
       "      <th>gas_limit</th>\n",
       "      <th>gas_used</th>\n",
       "      <th>value</th>\n",
       "      <th>num_tx</th>\n",
       "      <th>block_number</th>\n",
       "    </tr>\n",
       "  </thead>\n",
       "  <tbody>\n",
       "    <tr>\n",
       "      <th>0</th>\n",
       "      <td>5994935</td>\n",
       "      <td>0xd929a045b56d9ddae03400f6598eaa6a09e806839f39...</td>\n",
       "      <td>0x1e54f20dfc520ce4cbf56bcbde031f4cddc163d7977e...</td>\n",
       "      <td>0xb194b2b8ec91a71c18f8483825234679299d146495a0...</td>\n",
       "      <td>0xa75f1ae5b77603494c71377a3f159d16f70c81674d90...</td>\n",
       "      <td>0x4675c7e5baafbffbca748158becba61ef3b0a263</td>\n",
       "      <td>30000000</td>\n",
       "      <td>16044773</td>\n",
       "      <td>412502542411688249</td>\n",
       "      <td>140</td>\n",
       "      <td>16823415</td>\n",
       "    </tr>\n",
       "    <tr>\n",
       "      <th>1</th>\n",
       "      <td>5994955</td>\n",
       "      <td>0xd59f4fd112688086fcb7b592c539112b6afb380bc468...</td>\n",
       "      <td>0x1cc5d4814ba57ec547deb8113efd920f39e4dad0723f...</td>\n",
       "      <td>0xb194b2b8ec91a71c18f8483825234679299d146495a0...</td>\n",
       "      <td>0xb8b277ccbcb0b85bbbcb38de42c031337f8840bab914...</td>\n",
       "      <td>0x4675c7e5baafbffbca748158becba61ef3b0a263</td>\n",
       "      <td>30000000</td>\n",
       "      <td>11032899</td>\n",
       "      <td>27426987887121338</td>\n",
       "      <td>103</td>\n",
       "      <td>16823434</td>\n",
       "    </tr>\n",
       "    <tr>\n",
       "      <th>2</th>\n",
       "      <td>5994962</td>\n",
       "      <td>0x3797caaf25420f51975d3da334fa49122f059605e087...</td>\n",
       "      <td>0x23b2741fb9f4fa50e668c21979f718bf15620dfbe1b2...</td>\n",
       "      <td>0xb194b2b8ec91a71c18f8483825234679299d146495a0...</td>\n",
       "      <td>0x947c37888ecb8b16c4c7d29253f0d353c46fe2a24e10...</td>\n",
       "      <td>0xadae1798f761fa7fce29b6673d453d1a48a2931a</td>\n",
       "      <td>30000000</td>\n",
       "      <td>12771455</td>\n",
       "      <td>47840137646090635</td>\n",
       "      <td>130</td>\n",
       "      <td>16823441</td>\n",
       "    </tr>\n",
       "    <tr>\n",
       "      <th>3</th>\n",
       "      <td>5995043</td>\n",
       "      <td>0x5f126cc178be25d83b9f90c76ac719ccb5c65d2d7ec8...</td>\n",
       "      <td>0xe40bde108945c8184aeff36e0146c4e330509150eb56...</td>\n",
       "      <td>0xb194b2b8ec91a71c18f8483825234679299d146495a0...</td>\n",
       "      <td>0x927b5dd181a1c063dc1fce3db1cdcd8f504df95bdadc...</td>\n",
       "      <td>0x388c818ca8b9251b393131c08a736a67ccb19297</td>\n",
       "      <td>30000000</td>\n",
       "      <td>15561729</td>\n",
       "      <td>57625883334391253</td>\n",
       "      <td>182</td>\n",
       "      <td>16823521</td>\n",
       "    </tr>\n",
       "    <tr>\n",
       "      <th>4</th>\n",
       "      <td>5995048</td>\n",
       "      <td>0xbc651f4884a43a6a5880ccb6ccf567a272f7bd1eff39...</td>\n",
       "      <td>0xcf3d1e9bfcea4119195a9db5f3083bd6010d7211809a...</td>\n",
       "      <td>0xb194b2b8ec91a71c18f8483825234679299d146495a0...</td>\n",
       "      <td>0xa7bb7a5e1f4595456a1258b9d0f775d4199a80e09ca8...</td>\n",
       "      <td>0x4e9cc05f7f944d618de85396e669922c2cf6813e</td>\n",
       "      <td>30000000</td>\n",
       "      <td>11167279</td>\n",
       "      <td>49169925536058891</td>\n",
       "      <td>134</td>\n",
       "      <td>16823526</td>\n",
       "    </tr>\n",
       "  </tbody>\n",
       "</table>\n",
       "</div>"
      ],
      "text/plain": [
       "      slot                                        parent_hash  \\\n",
       "0  5994935  0xd929a045b56d9ddae03400f6598eaa6a09e806839f39...   \n",
       "1  5994955  0xd59f4fd112688086fcb7b592c539112b6afb380bc468...   \n",
       "2  5994962  0x3797caaf25420f51975d3da334fa49122f059605e087...   \n",
       "3  5995043  0x5f126cc178be25d83b9f90c76ac719ccb5c65d2d7ec8...   \n",
       "4  5995048  0xbc651f4884a43a6a5880ccb6ccf567a272f7bd1eff39...   \n",
       "\n",
       "                                          block_hash  \\\n",
       "0  0x1e54f20dfc520ce4cbf56bcbde031f4cddc163d7977e...   \n",
       "1  0x1cc5d4814ba57ec547deb8113efd920f39e4dad0723f...   \n",
       "2  0x23b2741fb9f4fa50e668c21979f718bf15620dfbe1b2...   \n",
       "3  0xe40bde108945c8184aeff36e0146c4e330509150eb56...   \n",
       "4  0xcf3d1e9bfcea4119195a9db5f3083bd6010d7211809a...   \n",
       "\n",
       "                                      builder_pubkey  \\\n",
       "0  0xb194b2b8ec91a71c18f8483825234679299d146495a0...   \n",
       "1  0xb194b2b8ec91a71c18f8483825234679299d146495a0...   \n",
       "2  0xb194b2b8ec91a71c18f8483825234679299d146495a0...   \n",
       "3  0xb194b2b8ec91a71c18f8483825234679299d146495a0...   \n",
       "4  0xb194b2b8ec91a71c18f8483825234679299d146495a0...   \n",
       "\n",
       "                                     proposer_pubkey  \\\n",
       "0  0xa75f1ae5b77603494c71377a3f159d16f70c81674d90...   \n",
       "1  0xb8b277ccbcb0b85bbbcb38de42c031337f8840bab914...   \n",
       "2  0x947c37888ecb8b16c4c7d29253f0d353c46fe2a24e10...   \n",
       "3  0x927b5dd181a1c063dc1fce3db1cdcd8f504df95bdadc...   \n",
       "4  0xa7bb7a5e1f4595456a1258b9d0f775d4199a80e09ca8...   \n",
       "\n",
       "                       proposer_fee_recipient gas_limit  gas_used  \\\n",
       "0  0x4675c7e5baafbffbca748158becba61ef3b0a263  30000000  16044773   \n",
       "1  0x4675c7e5baafbffbca748158becba61ef3b0a263  30000000  11032899   \n",
       "2  0xadae1798f761fa7fce29b6673d453d1a48a2931a  30000000  12771455   \n",
       "3  0x388c818ca8b9251b393131c08a736a67ccb19297  30000000  15561729   \n",
       "4  0x4e9cc05f7f944d618de85396e669922c2cf6813e  30000000  11167279   \n",
       "\n",
       "                value num_tx block_number  \n",
       "0  412502542411688249    140     16823415  \n",
       "1   27426987887121338    103     16823434  \n",
       "2   47840137646090635    130     16823441  \n",
       "3   57625883334391253    182     16823521  \n",
       "4   49169925536058891    134     16823526  "
      ]
     },
     "execution_count": 75,
     "metadata": {},
     "output_type": "execute_result"
    }
   ],
   "source": [
    "# fbs = total_df\n",
    "fbs.head()"
   ]
  },
  {
   "cell_type": "code",
   "execution_count": 72,
   "metadata": {},
   "outputs": [
    {
     "data": {
      "text/html": [
       "<div>\n",
       "<style scoped>\n",
       "    .dataframe tbody tr th:only-of-type {\n",
       "        vertical-align: middle;\n",
       "    }\n",
       "\n",
       "    .dataframe tbody tr th {\n",
       "        vertical-align: top;\n",
       "    }\n",
       "\n",
       "    .dataframe thead th {\n",
       "        text-align: right;\n",
       "    }\n",
       "</style>\n",
       "<table border=\"1\" class=\"dataframe\">\n",
       "  <thead>\n",
       "    <tr style=\"text-align: right;\">\n",
       "      <th></th>\n",
       "      <th>slot</th>\n",
       "      <th>parent_hash</th>\n",
       "      <th>block_hash</th>\n",
       "      <th>builder_pubkey</th>\n",
       "      <th>proposer_pubkey</th>\n",
       "      <th>proposer_fee_recipient</th>\n",
       "      <th>gas_limit</th>\n",
       "      <th>gas_used</th>\n",
       "      <th>value</th>\n",
       "      <th>num_tx</th>\n",
       "      <th>block_number</th>\n",
       "    </tr>\n",
       "  </thead>\n",
       "  <tbody>\n",
       "    <tr>\n",
       "      <th>0</th>\n",
       "      <td>5992184</td>\n",
       "      <td>0x0f726a5992e2224418eb937ff504b23d2276eb6eeec4...</td>\n",
       "      <td>0x5249fd223702c41990b711a462e76b6b902467396c4c...</td>\n",
       "      <td>0xb194b2b8ec91a71c18f8483825234679299d146495a0...</td>\n",
       "      <td>0x96d50e1f22b3db9953b795f5adf8aa9b130666916f08...</td>\n",
       "      <td>0x388c818ca8b9251b393131c08a736a67ccb19297</td>\n",
       "      <td>30000000</td>\n",
       "      <td>25034326</td>\n",
       "      <td>482899221788625971</td>\n",
       "      <td>215</td>\n",
       "      <td>16820693</td>\n",
       "    </tr>\n",
       "    <tr>\n",
       "      <th>1</th>\n",
       "      <td>5992306</td>\n",
       "      <td>0x845e8d5fb9fcbacd6e4cd7ba0a4bfaa29e945d200b0a...</td>\n",
       "      <td>0xb5aeebf7a5347822fd605e1900baa2387ed65cfb8289...</td>\n",
       "      <td>0xb194b2b8ec91a71c18f8483825234679299d146495a0...</td>\n",
       "      <td>0xb6b7215fc1b4ced0cb6dc19a50abd89249015ad31e8e...</td>\n",
       "      <td>0xebec795c9c8bbd61ffc14a6662944748f299cacf</td>\n",
       "      <td>30000000</td>\n",
       "      <td>14840215</td>\n",
       "      <td>173808637476014743</td>\n",
       "      <td>158</td>\n",
       "      <td>16820815</td>\n",
       "    </tr>\n",
       "    <tr>\n",
       "      <th>2</th>\n",
       "      <td>5992389</td>\n",
       "      <td>0x4483a0a448083389c08c7065c4c304c1829ad59ebb27...</td>\n",
       "      <td>0x0de8910900bdab730b055e195905394f32933aa41f22...</td>\n",
       "      <td>0xb194b2b8ec91a71c18f8483825234679299d146495a0...</td>\n",
       "      <td>0x948e318e8091a283dfa4ad12ade1adc7a80a4b5b6f7e...</td>\n",
       "      <td>0x388c818ca8b9251b393131c08a736a67ccb19297</td>\n",
       "      <td>30000000</td>\n",
       "      <td>14227521</td>\n",
       "      <td>52439484120006527</td>\n",
       "      <td>146</td>\n",
       "      <td>16820898</td>\n",
       "    </tr>\n",
       "    <tr>\n",
       "      <th>3</th>\n",
       "      <td>5992404</td>\n",
       "      <td>0xa904b30cf051632279da9a590c180c93cf3dc5759f92...</td>\n",
       "      <td>0x451493aa65a0a8f8d07a4a51b6038a36d9c60485601c...</td>\n",
       "      <td>0xb194b2b8ec91a71c18f8483825234679299d146495a0...</td>\n",
       "      <td>0xa5bdea976cf0260a5b6c8732dc6e28a44d6007d1c035...</td>\n",
       "      <td>0x388c818ca8b9251b393131c08a736a67ccb19297</td>\n",
       "      <td>30000000</td>\n",
       "      <td>14769451</td>\n",
       "      <td>50569531337484509</td>\n",
       "      <td>145</td>\n",
       "      <td>16820913</td>\n",
       "    </tr>\n",
       "    <tr>\n",
       "      <th>4</th>\n",
       "      <td>5992457</td>\n",
       "      <td>0x1b1336041c950d8a7e513ba746e75057fd1d4db36ce1...</td>\n",
       "      <td>0x1d6fca4f124f000566ea47105ab74f04c8f0daf37af1...</td>\n",
       "      <td>0xb194b2b8ec91a71c18f8483825234679299d146495a0...</td>\n",
       "      <td>0xae12c7c5ecf773b749dc243a7e9068db1b6dc183e8bb...</td>\n",
       "      <td>0x6d2e03b7effeae98bd302a9f836d0d6ab0002766</td>\n",
       "      <td>30000000</td>\n",
       "      <td>14324633</td>\n",
       "      <td>1990127884769134073</td>\n",
       "      <td>149</td>\n",
       "      <td>16820966</td>\n",
       "    </tr>\n",
       "  </tbody>\n",
       "</table>\n",
       "</div>"
      ],
      "text/plain": [
       "      slot                                        parent_hash  \\\n",
       "0  5992184  0x0f726a5992e2224418eb937ff504b23d2276eb6eeec4...   \n",
       "1  5992306  0x845e8d5fb9fcbacd6e4cd7ba0a4bfaa29e945d200b0a...   \n",
       "2  5992389  0x4483a0a448083389c08c7065c4c304c1829ad59ebb27...   \n",
       "3  5992404  0xa904b30cf051632279da9a590c180c93cf3dc5759f92...   \n",
       "4  5992457  0x1b1336041c950d8a7e513ba746e75057fd1d4db36ce1...   \n",
       "\n",
       "                                          block_hash  \\\n",
       "0  0x5249fd223702c41990b711a462e76b6b902467396c4c...   \n",
       "1  0xb5aeebf7a5347822fd605e1900baa2387ed65cfb8289...   \n",
       "2  0x0de8910900bdab730b055e195905394f32933aa41f22...   \n",
       "3  0x451493aa65a0a8f8d07a4a51b6038a36d9c60485601c...   \n",
       "4  0x1d6fca4f124f000566ea47105ab74f04c8f0daf37af1...   \n",
       "\n",
       "                                      builder_pubkey  \\\n",
       "0  0xb194b2b8ec91a71c18f8483825234679299d146495a0...   \n",
       "1  0xb194b2b8ec91a71c18f8483825234679299d146495a0...   \n",
       "2  0xb194b2b8ec91a71c18f8483825234679299d146495a0...   \n",
       "3  0xb194b2b8ec91a71c18f8483825234679299d146495a0...   \n",
       "4  0xb194b2b8ec91a71c18f8483825234679299d146495a0...   \n",
       "\n",
       "                                     proposer_pubkey  \\\n",
       "0  0x96d50e1f22b3db9953b795f5adf8aa9b130666916f08...   \n",
       "1  0xb6b7215fc1b4ced0cb6dc19a50abd89249015ad31e8e...   \n",
       "2  0x948e318e8091a283dfa4ad12ade1adc7a80a4b5b6f7e...   \n",
       "3  0xa5bdea976cf0260a5b6c8732dc6e28a44d6007d1c035...   \n",
       "4  0xae12c7c5ecf773b749dc243a7e9068db1b6dc183e8bb...   \n",
       "\n",
       "                       proposer_fee_recipient gas_limit  gas_used  \\\n",
       "0  0x388c818ca8b9251b393131c08a736a67ccb19297  30000000  25034326   \n",
       "1  0xebec795c9c8bbd61ffc14a6662944748f299cacf  30000000  14840215   \n",
       "2  0x388c818ca8b9251b393131c08a736a67ccb19297  30000000  14227521   \n",
       "3  0x388c818ca8b9251b393131c08a736a67ccb19297  30000000  14769451   \n",
       "4  0x6d2e03b7effeae98bd302a9f836d0d6ab0002766  30000000  14324633   \n",
       "\n",
       "                 value num_tx block_number  \n",
       "0   482899221788625971    215     16820693  \n",
       "1   173808637476014743    158     16820815  \n",
       "2    52439484120006527    146     16820898  \n",
       "3    50569531337484509    145     16820913  \n",
       "4  1990127884769134073    149     16820966  "
      ]
     },
     "execution_count": 72,
     "metadata": {},
     "output_type": "execute_result"
    }
   ],
   "source": [
    "# agn = total_df\n",
    "agn.head()"
   ]
  },
  {
   "cell_type": "code",
   "execution_count": 68,
   "metadata": {},
   "outputs": [
    {
     "data": {
      "text/html": [
       "<div>\n",
       "<style scoped>\n",
       "    .dataframe tbody tr th:only-of-type {\n",
       "        vertical-align: middle;\n",
       "    }\n",
       "\n",
       "    .dataframe tbody tr th {\n",
       "        vertical-align: top;\n",
       "    }\n",
       "\n",
       "    .dataframe thead th {\n",
       "        text-align: right;\n",
       "    }\n",
       "</style>\n",
       "<table border=\"1\" class=\"dataframe\">\n",
       "  <thead>\n",
       "    <tr style=\"text-align: right;\">\n",
       "      <th></th>\n",
       "      <th>slot</th>\n",
       "      <th>parent_hash</th>\n",
       "      <th>block_hash</th>\n",
       "      <th>builder_pubkey</th>\n",
       "      <th>proposer_pubkey</th>\n",
       "      <th>proposer_fee_recipient</th>\n",
       "      <th>gas_limit</th>\n",
       "      <th>gas_used</th>\n",
       "      <th>value</th>\n",
       "      <th>num_tx</th>\n",
       "      <th>block_number</th>\n",
       "    </tr>\n",
       "  </thead>\n",
       "  <tbody>\n",
       "    <tr>\n",
       "      <th>0</th>\n",
       "      <td>5991283</td>\n",
       "      <td>0x480e42d1aa78088090b4ea3fcb135a804f48439f9a53...</td>\n",
       "      <td>0x52384f2c7c0f1a31cea444d4e8e0f40d5c8f999e3c7c...</td>\n",
       "      <td>0xb194b2b8ec91a71c18f8483825234679299d146495a0...</td>\n",
       "      <td>0xac95bf5d4f6553c2ed154da97505dcba883b8b6ead36...</td>\n",
       "      <td>0x388c818ca8b9251b393131c08a736a67ccb19297</td>\n",
       "      <td>30000000</td>\n",
       "      <td>14144544</td>\n",
       "      <td>1032241691943322984</td>\n",
       "      <td>145</td>\n",
       "      <td>16819803</td>\n",
       "    </tr>\n",
       "    <tr>\n",
       "      <th>1</th>\n",
       "      <td>5991314</td>\n",
       "      <td>0x98d80977c4cd28b5443e9c4e112fc7314f60506866a9...</td>\n",
       "      <td>0xaa3212fa061a3890482ece0941fe52e7efacfcc5900e...</td>\n",
       "      <td>0xb194b2b8ec91a71c18f8483825234679299d146495a0...</td>\n",
       "      <td>0x8647aa613b3389b8766dbda66337ad3adb086118cc5b...</td>\n",
       "      <td>0x6d2e03b7effeae98bd302a9f836d0d6ab0002766</td>\n",
       "      <td>30000000</td>\n",
       "      <td>18479976</td>\n",
       "      <td>380530265510846604</td>\n",
       "      <td>180</td>\n",
       "      <td>16819834</td>\n",
       "    </tr>\n",
       "    <tr>\n",
       "      <th>2</th>\n",
       "      <td>5991353</td>\n",
       "      <td>0x1f067e92d6de0f6015b9764e64cbd45420266de1571b...</td>\n",
       "      <td>0x19206a643153c9a8aa836630de3f2680c727298ba225...</td>\n",
       "      <td>0xb194b2b8ec91a71c18f8483825234679299d146495a0...</td>\n",
       "      <td>0x910056c31d2e2be7139a2217b013b8aae5428cffec65...</td>\n",
       "      <td>0x388c818ca8b9251b393131c08a736a67ccb19297</td>\n",
       "      <td>30000000</td>\n",
       "      <td>12932371</td>\n",
       "      <td>298298206122585183</td>\n",
       "      <td>145</td>\n",
       "      <td>16819873</td>\n",
       "    </tr>\n",
       "    <tr>\n",
       "      <th>3</th>\n",
       "      <td>5991396</td>\n",
       "      <td>0xb0b6f505a9685ec283ddaad2bfdf89d60ed7d5858bcf...</td>\n",
       "      <td>0xf116d8e4d5bd0f3f8605528402757ff2e40da58ca779...</td>\n",
       "      <td>0xb194b2b8ec91a71c18f8483825234679299d146495a0...</td>\n",
       "      <td>0x8aa2ffa79109ab6c3406054c2a5d38e0295592134f4d...</td>\n",
       "      <td>0x388c818ca8b9251b393131c08a736a67ccb19297</td>\n",
       "      <td>30000000</td>\n",
       "      <td>26326049</td>\n",
       "      <td>302479987814998012</td>\n",
       "      <td>223</td>\n",
       "      <td>16819914</td>\n",
       "    </tr>\n",
       "    <tr>\n",
       "      <th>4</th>\n",
       "      <td>5991419</td>\n",
       "      <td>0xdcf7722eaca7b4063944265e70f6b214f2ae1b1b119b...</td>\n",
       "      <td>0xb74852ad3478bd5ede225dbaa5ec9e73f938f46a6ac1...</td>\n",
       "      <td>0xb194b2b8ec91a71c18f8483825234679299d146495a0...</td>\n",
       "      <td>0x864fdf3e347362d53e56416a9b90583afe6bc23c8a0b...</td>\n",
       "      <td>0x72a12caefc60ed89b87c2efcbce700e4a3fa9775</td>\n",
       "      <td>30000000</td>\n",
       "      <td>29978354</td>\n",
       "      <td>841100450029719214</td>\n",
       "      <td>328</td>\n",
       "      <td>16819937</td>\n",
       "    </tr>\n",
       "  </tbody>\n",
       "</table>\n",
       "</div>"
      ],
      "text/plain": [
       "      slot                                        parent_hash  \\\n",
       "0  5991283  0x480e42d1aa78088090b4ea3fcb135a804f48439f9a53...   \n",
       "1  5991314  0x98d80977c4cd28b5443e9c4e112fc7314f60506866a9...   \n",
       "2  5991353  0x1f067e92d6de0f6015b9764e64cbd45420266de1571b...   \n",
       "3  5991396  0xb0b6f505a9685ec283ddaad2bfdf89d60ed7d5858bcf...   \n",
       "4  5991419  0xdcf7722eaca7b4063944265e70f6b214f2ae1b1b119b...   \n",
       "\n",
       "                                          block_hash  \\\n",
       "0  0x52384f2c7c0f1a31cea444d4e8e0f40d5c8f999e3c7c...   \n",
       "1  0xaa3212fa061a3890482ece0941fe52e7efacfcc5900e...   \n",
       "2  0x19206a643153c9a8aa836630de3f2680c727298ba225...   \n",
       "3  0xf116d8e4d5bd0f3f8605528402757ff2e40da58ca779...   \n",
       "4  0xb74852ad3478bd5ede225dbaa5ec9e73f938f46a6ac1...   \n",
       "\n",
       "                                      builder_pubkey  \\\n",
       "0  0xb194b2b8ec91a71c18f8483825234679299d146495a0...   \n",
       "1  0xb194b2b8ec91a71c18f8483825234679299d146495a0...   \n",
       "2  0xb194b2b8ec91a71c18f8483825234679299d146495a0...   \n",
       "3  0xb194b2b8ec91a71c18f8483825234679299d146495a0...   \n",
       "4  0xb194b2b8ec91a71c18f8483825234679299d146495a0...   \n",
       "\n",
       "                                     proposer_pubkey  \\\n",
       "0  0xac95bf5d4f6553c2ed154da97505dcba883b8b6ead36...   \n",
       "1  0x8647aa613b3389b8766dbda66337ad3adb086118cc5b...   \n",
       "2  0x910056c31d2e2be7139a2217b013b8aae5428cffec65...   \n",
       "3  0x8aa2ffa79109ab6c3406054c2a5d38e0295592134f4d...   \n",
       "4  0x864fdf3e347362d53e56416a9b90583afe6bc23c8a0b...   \n",
       "\n",
       "                       proposer_fee_recipient gas_limit  gas_used  \\\n",
       "0  0x388c818ca8b9251b393131c08a736a67ccb19297  30000000  14144544   \n",
       "1  0x6d2e03b7effeae98bd302a9f836d0d6ab0002766  30000000  18479976   \n",
       "2  0x388c818ca8b9251b393131c08a736a67ccb19297  30000000  12932371   \n",
       "3  0x388c818ca8b9251b393131c08a736a67ccb19297  30000000  26326049   \n",
       "4  0x72a12caefc60ed89b87c2efcbce700e4a3fa9775  30000000  29978354   \n",
       "\n",
       "                 value num_tx block_number  \n",
       "0  1032241691943322984    145     16819803  \n",
       "1   380530265510846604    180     16819834  \n",
       "2   298298206122585183    145     16819873  \n",
       "3   302479987814998012    223     16819914  \n",
       "4   841100450029719214    328     16819937  "
      ]
     },
     "execution_count": 68,
     "metadata": {},
     "output_type": "execute_result"
    }
   ],
   "source": [
    "# usr = total_df\n",
    "usr.head()"
   ]
  },
  {
   "cell_type": "code",
   "execution_count": 78,
   "metadata": {},
   "outputs": [
    {
     "data": {
      "text/plain": [
       "(1600, 1400, 2600)"
      ]
     },
     "execution_count": 78,
     "metadata": {},
     "output_type": "execute_result"
    }
   ],
   "source": [
    "len(fbs), len(agn), len(usr)"
   ]
  },
  {
   "cell_type": "code",
   "execution_count": 79,
   "metadata": {},
   "outputs": [],
   "source": [
    "fbs['slot'] = pd.to_numeric(fbs['slot'])\n",
    "agn['slot'] = pd.to_numeric(agn['slot'])\n",
    "usr['slot'] = pd.to_numeric(usr['slot'])\n",
    "fbs['value'] = fbs['value'].astype(float)\n",
    "agn['value'] = agn['value'].astype(float)\n",
    "usr['value'] = usr['value'].astype(float)"
   ]
  },
  {
   "cell_type": "code",
   "execution_count": 81,
   "metadata": {},
   "outputs": [],
   "source": [
    "start = 6100517\n",
    "end = 5999717 \n",
    "hourly = np.arange(end, start, 900)\n",
    "\n",
    "fbs_hourly = []\n",
    "agn_hourly = []\n",
    "usr_hourly = []\n",
    "for i in range(1,len(hourly)):\n",
    "    lb, ub = hourly[i-1], hourly[i]\n",
    "#     print(lb,ub)\n",
    "    fbs_hourly.append(len(fbs[(fbs['slot'] >= lb) & (fbs['slot'] < ub)]))\n",
    "    agn_hourly.append(len(agn[(agn['slot'] >= lb) & (agn['slot'] < ub)]))\n",
    "    usr_hourly.append(len(usr[(usr['slot'] >= lb) & (usr['slot'] < ub)]))\n",
    "fbs_hourly = np.asarray(fbs_hourly)\n",
    "agn_hourly = np.asarray(agn_hourly)\n",
    "usr_hourly = np.asarray(usr_hourly)"
   ]
  },
  {
   "cell_type": "code",
   "execution_count": 83,
   "metadata": {},
   "outputs": [
    {
     "data": {
      "text/plain": [
       "(111, 111, 111, 112)"
      ]
     },
     "execution_count": 83,
     "metadata": {},
     "output_type": "execute_result"
    }
   ],
   "source": [
    "len(fbs_hourly), len(agn_hourly), len(usr_hourly), len(hourly)"
   ]
  },
  {
   "cell_type": "code",
   "execution_count": 86,
   "metadata": {},
   "outputs": [],
   "source": [
    "out = pd.DataFrame()\n",
    "out['start_slot'] = hourly[1:]\n",
    "out['fbs'] = fbs_hourly\n",
    "out['agn'] = agn_hourly\n",
    "out['usr'] = usr_hourly"
   ]
  },
  {
   "cell_type": "code",
   "execution_count": 90,
   "metadata": {},
   "outputs": [
    {
     "data": {
      "text/html": [
       "<div>\n",
       "<style scoped>\n",
       "    .dataframe tbody tr th:only-of-type {\n",
       "        vertical-align: middle;\n",
       "    }\n",
       "\n",
       "    .dataframe tbody tr th {\n",
       "        vertical-align: top;\n",
       "    }\n",
       "\n",
       "    .dataframe thead th {\n",
       "        text-align: right;\n",
       "    }\n",
       "</style>\n",
       "<table border=\"1\" class=\"dataframe\">\n",
       "  <thead>\n",
       "    <tr style=\"text-align: right;\">\n",
       "      <th></th>\n",
       "      <th>start_slot</th>\n",
       "      <th>fbs</th>\n",
       "      <th>agn</th>\n",
       "      <th>usr</th>\n",
       "    </tr>\n",
       "  </thead>\n",
       "  <tbody>\n",
       "    <tr>\n",
       "      <th>106</th>\n",
       "      <td>6096017</td>\n",
       "      <td>8</td>\n",
       "      <td>7</td>\n",
       "      <td>10</td>\n",
       "    </tr>\n",
       "    <tr>\n",
       "      <th>107</th>\n",
       "      <td>6096917</td>\n",
       "      <td>11</td>\n",
       "      <td>9</td>\n",
       "      <td>10</td>\n",
       "    </tr>\n",
       "    <tr>\n",
       "      <th>108</th>\n",
       "      <td>6097817</td>\n",
       "      <td>6</td>\n",
       "      <td>10</td>\n",
       "      <td>4</td>\n",
       "    </tr>\n",
       "    <tr>\n",
       "      <th>109</th>\n",
       "      <td>6098717</td>\n",
       "      <td>7</td>\n",
       "      <td>9</td>\n",
       "      <td>7</td>\n",
       "    </tr>\n",
       "    <tr>\n",
       "      <th>110</th>\n",
       "      <td>6099617</td>\n",
       "      <td>6</td>\n",
       "      <td>6</td>\n",
       "      <td>11</td>\n",
       "    </tr>\n",
       "  </tbody>\n",
       "</table>\n",
       "</div>"
      ],
      "text/plain": [
       "     start_slot  fbs  agn  usr\n",
       "106     6096017    8    7   10\n",
       "107     6096917   11    9   10\n",
       "108     6097817    6   10    4\n",
       "109     6098717    7    9    7\n",
       "110     6099617    6    6   11"
      ]
     },
     "execution_count": 90,
     "metadata": {},
     "output_type": "execute_result"
    }
   ],
   "source": [
    "out.tail()"
   ]
  },
  {
   "cell_type": "code",
   "execution_count": 89,
   "metadata": {},
   "outputs": [],
   "source": [
    "out.to_csv(\"hourly.csv\")"
   ]
  },
  {
   "cell_type": "code",
   "execution_count": null,
   "metadata": {},
   "outputs": [],
   "source": [
    "start = 6100517\n",
    "end = 5999717 \n",
    "hourly = np.arange(end, start, 300)\n",
    "\n",
    "fbs_hourly_v = []\n",
    "agn_hourly_v = []\n",
    "usr_hourly_v = []\n",
    "for i in range(1,len(hourly)):\n",
    "    lb, ub = hourly[i-1], hourly[i]\n",
    "    sub = fbs[(fbs['slot'] >= lb) & (fbs['slot'] < ub)]\n",
    "    fbs_hourly_v.append([\n",
    "        fbs[(fbs['slot'] >= lb) & (fbs['slot'] < ub)]['value']\n",
    "    agn_hourly_v.append(len(agn[(agn['slot'] >= lb) & (agn['slot'] < ub)]))\n",
    "    usr_hourly_v.append(len(usr[(usr['slot'] >= lb) & (usr['slot'] < ub)]))\n",
    "fbs_hourly = np.asarray(fbs_hourly)\n",
    "agn_hourly = np.asarray(agn_hourly)\n",
    "usr_hourly = np.asarray(usr_hourly)"
   ]
  },
  {
   "cell_type": "code",
   "execution_count": 135,
   "metadata": {},
   "outputs": [
    {
     "data": {
      "text/plain": [
       "336"
      ]
     },
     "execution_count": 135,
     "metadata": {},
     "output_type": "execute_result"
    }
   ],
   "source": [
    "len(hourly)"
   ]
  },
  {
   "cell_type": "code",
   "execution_count": 154,
   "metadata": {},
   "outputs": [
    {
     "data": {
      "image/png": "[encoded data removed]",
      "text/plain": [
       "<Figure size 504x360 with 1 Axes>"
      ]
     },
     "metadata": {
      "needs_background": "light"
     },
     "output_type": "display_data"
    }
   ],
   "source": [
    "f, ax = plt.subplots(figsize=(7,5))\n",
    "ax.plot(hourly[1:], fbs_hourly, linewidth=2, color='olive', label='flashbots', alpha=0.5)\n",
    "ax.plot(hourly[1:], agn_hourly, linewidth=2, color='fuchsia', label='agnostic', alpha=0.5)\n",
    "ax.plot(hourly[1:], usr_hourly, linewidth=2, color='slateblue', label='ultra sound', alpha=0.5)\n",
    "ax.set_xlim(5999717, 5999717+7200*6)\n",
    "ax.legend()\n",
    "ax.set_xlabel('slot', size=14)\n",
    "ax.set_ylabel('payloads per hour', size=14)\n",
    "ax.set_title('hourly payloads for 0xb194b2', size=17)\n",
    "plt.show()"
   ]
  },
  {
   "cell_type": "code",
   "execution_count": null,
   "metadata": {},
   "outputs": [],
   "source": []
  },
  {
   "cell_type": "code",
   "execution_count": 167,
   "metadata": {},
   "outputs": [
    {
     "data": {
      "image/png": "[encoded data removed]",
      "text/plain": [
       "<Figure size 504x360 with 1 Axes>"
      ]
     },
     "metadata": {
      "needs_background": "light"
     },
     "output_type": "display_data"
    }
   ],
   "source": [
    "f, ax = plt.subplots(figsize=(7,5))\n",
    "ax.plot(fbs['slot'], fbs['value'].rolling(10).quantile(0.9), linewidth=2, color='olive', label='flashbots', alpha=0.5)\n",
    "ax.plot(agn['slot'], agn['value'].rolling(10).quantile(0.9), linewidth=2, color='fuchsia', label='agnostic', alpha=0.5)\n",
    "ax.plot(usr['slot'], usr['value'].rolling(10).quantile(0.9), linewidth=2, color='slateblue', label='ultra sound', alpha=0.5)\n",
    "ax.set_xlim(5999717, 5999717+7200*6)\n",
    "# ax.set_ylim(0, int(1e18))\n",
    "ax.legend()\n",
    "ax.set_xlabel('slot', size=14)\n",
    "ax.set_ylabel('median value', size=14)\n",
    "ax.set_title('rolling median value for 0xb194b2', size=17)\n",
    "plt.show()"
   ]
  },
  {
   "cell_type": "markdown",
   "metadata": {},
   "source": [
    "## builder within slot"
   ]
  },
  {
   "cell_type": "code",
   "execution_count": 2,
   "metadata": {},
   "outputs": [
    {
     "name": "stdout",
     "output_type": "stream",
     "text": [
      "start=6100517\n",
      "start=6087458\n",
      "start=6081459\n",
      "start=6075112\n",
      "start=6068116\n",
      "start=6062130\n",
      "start=6056483\n",
      "start=6046974\n",
      "start=6038569\n",
      "start=6031809\n",
      "start=6026451\n",
      "start=6021720\n",
      "start=6010254\n"
     ]
    },
    {
     "data": {
      "text/plain": [
       "2600"
      ]
     },
     "execution_count": 2,
     "metadata": {},
     "output_type": "execute_result"
    }
   ],
   "source": [
    "start = 6100517\n",
    "end = 5999717 # 14 days ago\n",
    "payload = {\n",
    "    'builder_pubkey': '0xb194b2b8ec91a71c18f8483825234679299d146495a08db3bf3fb955e1d85a5fca77e88de93a74f4e32320fc922d3027',\n",
    "}\n",
    "total_df = pd.DataFrame()\n",
    "while start > end:\n",
    "    print('start={}'.format(start))\n",
    "    payload['cursor'] = start\n",
    "    r = requests.get(\n",
    "        'https://relay.ultrasound.money/relay/v1/data/bidtraces/proposer_payload_delivered',\n",
    "#         'https://agnostic-relay.net/relay/v1/data/bidtraces/proposer_payload_delivered',\n",
    "#         'https://boost-relay.flashbots.net/relay/v1/data/bidtraces/proposer_payload_delivered',\n",
    "        params=payload\n",
    "    )\n",
    "    out_df = pd.DataFrame(json.loads(r.text))\n",
    "    total_df = total_df.append(out_df)\n",
    "    total_df = total_df.sort_values('slot').reset_index(drop=True)\n",
    "    start = int(total_df['slot'].min())\n",
    "len(total_df)"
   ]
  },
  {
   "cell_type": "code",
   "execution_count": 3,
   "metadata": {},
   "outputs": [
    {
     "data": {
      "text/html": [
       "<div>\n",
       "<style scoped>\n",
       "    .dataframe tbody tr th:only-of-type {\n",
       "        vertical-align: middle;\n",
       "    }\n",
       "\n",
       "    .dataframe tbody tr th {\n",
       "        vertical-align: top;\n",
       "    }\n",
       "\n",
       "    .dataframe thead th {\n",
       "        text-align: right;\n",
       "    }\n",
       "</style>\n",
       "<table border=\"1\" class=\"dataframe\">\n",
       "  <thead>\n",
       "    <tr style=\"text-align: right;\">\n",
       "      <th></th>\n",
       "      <th>slot</th>\n",
       "      <th>parent_hash</th>\n",
       "      <th>block_hash</th>\n",
       "      <th>builder_pubkey</th>\n",
       "      <th>proposer_pubkey</th>\n",
       "      <th>proposer_fee_recipient</th>\n",
       "      <th>gas_limit</th>\n",
       "      <th>gas_used</th>\n",
       "      <th>value</th>\n",
       "      <th>num_tx</th>\n",
       "      <th>block_number</th>\n",
       "    </tr>\n",
       "  </thead>\n",
       "  <tbody>\n",
       "    <tr>\n",
       "      <th>0</th>\n",
       "      <td>5991283</td>\n",
       "      <td>0x480e42d1aa78088090b4ea3fcb135a804f48439f9a53...</td>\n",
       "      <td>0x52384f2c7c0f1a31cea444d4e8e0f40d5c8f999e3c7c...</td>\n",
       "      <td>0xb194b2b8ec91a71c18f8483825234679299d146495a0...</td>\n",
       "      <td>0xac95bf5d4f6553c2ed154da97505dcba883b8b6ead36...</td>\n",
       "      <td>0x388c818ca8b9251b393131c08a736a67ccb19297</td>\n",
       "      <td>30000000</td>\n",
       "      <td>14144544</td>\n",
       "      <td>1032241691943322984</td>\n",
       "      <td>145</td>\n",
       "      <td>16819803</td>\n",
       "    </tr>\n",
       "    <tr>\n",
       "      <th>1</th>\n",
       "      <td>5991314</td>\n",
       "      <td>0x98d80977c4cd28b5443e9c4e112fc7314f60506866a9...</td>\n",
       "      <td>0xaa3212fa061a3890482ece0941fe52e7efacfcc5900e...</td>\n",
       "      <td>0xb194b2b8ec91a71c18f8483825234679299d146495a0...</td>\n",
       "      <td>0x8647aa613b3389b8766dbda66337ad3adb086118cc5b...</td>\n",
       "      <td>0x6d2e03b7effeae98bd302a9f836d0d6ab0002766</td>\n",
       "      <td>30000000</td>\n",
       "      <td>18479976</td>\n",
       "      <td>380530265510846604</td>\n",
       "      <td>180</td>\n",
       "      <td>16819834</td>\n",
       "    </tr>\n",
       "    <tr>\n",
       "      <th>2</th>\n",
       "      <td>5991353</td>\n",
       "      <td>0x1f067e92d6de0f6015b9764e64cbd45420266de1571b...</td>\n",
       "      <td>0x19206a643153c9a8aa836630de3f2680c727298ba225...</td>\n",
       "      <td>0xb194b2b8ec91a71c18f8483825234679299d146495a0...</td>\n",
       "      <td>0x910056c31d2e2be7139a2217b013b8aae5428cffec65...</td>\n",
       "      <td>0x388c818ca8b9251b393131c08a736a67ccb19297</td>\n",
       "      <td>30000000</td>\n",
       "      <td>12932371</td>\n",
       "      <td>298298206122585183</td>\n",
       "      <td>145</td>\n",
       "      <td>16819873</td>\n",
       "    </tr>\n",
       "    <tr>\n",
       "      <th>3</th>\n",
       "      <td>5991396</td>\n",
       "      <td>0xb0b6f505a9685ec283ddaad2bfdf89d60ed7d5858bcf...</td>\n",
       "      <td>0xf116d8e4d5bd0f3f8605528402757ff2e40da58ca779...</td>\n",
       "      <td>0xb194b2b8ec91a71c18f8483825234679299d146495a0...</td>\n",
       "      <td>0x8aa2ffa79109ab6c3406054c2a5d38e0295592134f4d...</td>\n",
       "      <td>0x388c818ca8b9251b393131c08a736a67ccb19297</td>\n",
       "      <td>30000000</td>\n",
       "      <td>26326049</td>\n",
       "      <td>302479987814998012</td>\n",
       "      <td>223</td>\n",
       "      <td>16819914</td>\n",
       "    </tr>\n",
       "    <tr>\n",
       "      <th>4</th>\n",
       "      <td>5991419</td>\n",
       "      <td>0xdcf7722eaca7b4063944265e70f6b214f2ae1b1b119b...</td>\n",
       "      <td>0xb74852ad3478bd5ede225dbaa5ec9e73f938f46a6ac1...</td>\n",
       "      <td>0xb194b2b8ec91a71c18f8483825234679299d146495a0...</td>\n",
       "      <td>0x864fdf3e347362d53e56416a9b90583afe6bc23c8a0b...</td>\n",
       "      <td>0x72a12caefc60ed89b87c2efcbce700e4a3fa9775</td>\n",
       "      <td>30000000</td>\n",
       "      <td>29978354</td>\n",
       "      <td>841100450029719214</td>\n",
       "      <td>328</td>\n",
       "      <td>16819937</td>\n",
       "    </tr>\n",
       "  </tbody>\n",
       "</table>\n",
       "</div>"
      ],
      "text/plain": [
       "      slot                                        parent_hash  \\\n",
       "0  5991283  0x480e42d1aa78088090b4ea3fcb135a804f48439f9a53...   \n",
       "1  5991314  0x98d80977c4cd28b5443e9c4e112fc7314f60506866a9...   \n",
       "2  5991353  0x1f067e92d6de0f6015b9764e64cbd45420266de1571b...   \n",
       "3  5991396  0xb0b6f505a9685ec283ddaad2bfdf89d60ed7d5858bcf...   \n",
       "4  5991419  0xdcf7722eaca7b4063944265e70f6b214f2ae1b1b119b...   \n",
       "\n",
       "                                          block_hash  \\\n",
       "0  0x52384f2c7c0f1a31cea444d4e8e0f40d5c8f999e3c7c...   \n",
       "1  0xaa3212fa061a3890482ece0941fe52e7efacfcc5900e...   \n",
       "2  0x19206a643153c9a8aa836630de3f2680c727298ba225...   \n",
       "3  0xf116d8e4d5bd0f3f8605528402757ff2e40da58ca779...   \n",
       "4  0xb74852ad3478bd5ede225dbaa5ec9e73f938f46a6ac1...   \n",
       "\n",
       "                                      builder_pubkey  \\\n",
       "0  0xb194b2b8ec91a71c18f8483825234679299d146495a0...   \n",
       "1  0xb194b2b8ec91a71c18f8483825234679299d146495a0...   \n",
       "2  0xb194b2b8ec91a71c18f8483825234679299d146495a0...   \n",
       "3  0xb194b2b8ec91a71c18f8483825234679299d146495a0...   \n",
       "4  0xb194b2b8ec91a71c18f8483825234679299d146495a0...   \n",
       "\n",
       "                                     proposer_pubkey  \\\n",
       "0  0xac95bf5d4f6553c2ed154da97505dcba883b8b6ead36...   \n",
       "1  0x8647aa613b3389b8766dbda66337ad3adb086118cc5b...   \n",
       "2  0x910056c31d2e2be7139a2217b013b8aae5428cffec65...   \n",
       "3  0x8aa2ffa79109ab6c3406054c2a5d38e0295592134f4d...   \n",
       "4  0x864fdf3e347362d53e56416a9b90583afe6bc23c8a0b...   \n",
       "\n",
       "                       proposer_fee_recipient gas_limit  gas_used  \\\n",
       "0  0x388c818ca8b9251b393131c08a736a67ccb19297  30000000  14144544   \n",
       "1  0x6d2e03b7effeae98bd302a9f836d0d6ab0002766  30000000  18479976   \n",
       "2  0x388c818ca8b9251b393131c08a736a67ccb19297  30000000  12932371   \n",
       "3  0x388c818ca8b9251b393131c08a736a67ccb19297  30000000  26326049   \n",
       "4  0x72a12caefc60ed89b87c2efcbce700e4a3fa9775  30000000  29978354   \n",
       "\n",
       "                 value num_tx block_number  \n",
       "0  1032241691943322984    145     16819803  \n",
       "1   380530265510846604    180     16819834  \n",
       "2   298298206122585183    145     16819873  \n",
       "3   302479987814998012    223     16819914  \n",
       "4   841100450029719214    328     16819937  "
      ]
     },
     "execution_count": 3,
     "metadata": {},
     "output_type": "execute_result"
    }
   ],
   "source": [
    "usr = total_df\n",
    "usr.head()"
   ]
  },
  {
   "cell_type": "code",
   "execution_count": 28,
   "metadata": {},
   "outputs": [],
   "source": [
    "usr['slot'] = pd.to_numeric(usr['slot'])\n",
    "usr['value'] = usr['value'].astype(float)"
   ]
  },
  {
   "cell_type": "code",
   "execution_count": 4,
   "metadata": {},
   "outputs": [],
   "source": [
    "payload = {\n",
    "    'builder_pubkey': '0xb194b2b8ec91a71c18f8483825234679299d146495a08db3bf3fb955e1d85a5fca77e88de93a74f4e32320fc922d3027',\n",
    "}\n",
    "payload['slot'] = 5991283\n",
    "r = requests.get(\n",
    "#     'https://relay.ultrasound.money/relay/v1/data/bidtraces/proposer_payload_delivered',\n",
    "    'https://agnostic-relay.net/relay/v1/data/bidtraces/builder_blocks_received',\n",
    "#     'https://boost-relay.flashbots.net/relay/v1/data/bidtraces/proposer_payload_delivered',\n",
    "    params=payload\n",
    ")"
   ]
  },
  {
   "cell_type": "code",
   "execution_count": 12,
   "metadata": {},
   "outputs": [
    {
     "name": "stdout",
     "output_type": "stream",
     "text": [
      "6100441\r"
     ]
    }
   ],
   "source": [
    "total_df = pd.DataFrame()\n",
    "slots = usr['slot'].values\n",
    "maxs = []\n",
    "for s in slots:\n",
    "    print(s, end='\\r')\n",
    "    payload['slot'] = s\n",
    "    r = requests.get(\n",
    "#         'https://relay.ultrasound.money/relay/v1/data/bidtraces/proposer_payload_delivered',\n",
    "        'https://agnostic-relay.net/relay/v1/data/bidtraces/builder_blocks_received',\n",
    "#         'https://boost-relay.flashbots.net/relay/v1/data/bidtraces/proposer_payload_delivered',\n",
    "        params=payload\n",
    "    )\n",
    "    out_df = pd.DataFrame(json.loads(r.text))\n",
    "    if len(out_df) > 0:\n",
    "        out_df['value'] = out_df['value'].astype(float)\n",
    "        maxs.append((s, out_df['value'].values.max()))\n",
    "maxs = np.asarray(maxs)"
   ]
  },
  {
   "cell_type": "code",
   "execution_count": 13,
   "metadata": {},
   "outputs": [],
   "source": [
    "agn_maxs = maxs"
   ]
  },
  {
   "cell_type": "code",
   "execution_count": 19,
   "metadata": {},
   "outputs": [
    {
     "data": {
      "text/plain": [
       "array([[5.99128300e+06, 1.03852226e+18],\n",
       "       [5.99131400e+06, 3.84038128e+17],\n",
       "       [5.99135300e+06, 2.98298206e+17],\n",
       "       ...,\n",
       "       [6.10019900e+06, 5.89557457e+16],\n",
       "       [6.10029600e+06, 2.76412611e+16],\n",
       "       [6.10044100e+06, 8.18430666e+16]])"
      ]
     },
     "execution_count": 19,
     "metadata": {},
     "output_type": "execute_result"
    }
   ],
   "source": [
    "agn_maxs = agn_maxs.astype(float)\n",
    "agn_maxs"
   ]
  },
  {
   "cell_type": "code",
   "execution_count": 21,
   "metadata": {},
   "outputs": [
    {
     "data": {
      "text/plain": [
       "5991283.0"
      ]
     },
     "execution_count": 21,
     "metadata": {},
     "output_type": "execute_result"
    }
   ],
   "source": [
    "agn_maxs[0][0]"
   ]
  },
  {
   "cell_type": "code",
   "execution_count": 31,
   "metadata": {},
   "outputs": [],
   "source": [
    "usr_maxs = []\n",
    "for v in agn_maxs:\n",
    "    slot = v[0]\n",
    "    usr_maxs.append(usr[usr['slot']==int(slot)]['value'].values.max())\n",
    "usr_maxs = np.asarray(usr_maxs)\n",
    "usr_maxs = usr_maxs.astype(float)"
   ]
  },
  {
   "cell_type": "code",
   "execution_count": 32,
   "metadata": {},
   "outputs": [
    {
     "data": {
      "text/plain": [
       "array([1.03224169e+18, 3.80530266e+17, 2.98298206e+17, ...,\n",
       "       5.83460814e+16, 2.33164045e+16, 8.05813382e+16])"
      ]
     },
     "execution_count": 32,
     "metadata": {},
     "output_type": "execute_result"
    }
   ],
   "source": [
    "usr_maxs"
   ]
  },
  {
   "cell_type": "code",
   "execution_count": 34,
   "metadata": {},
   "outputs": [
    {
     "data": {
      "text/plain": [
       "array([1.03852226e+18, 3.84038128e+17, 2.98298206e+17, ...,\n",
       "       5.89557457e+16, 2.76412611e+16, 8.18430666e+16])"
      ]
     },
     "execution_count": 34,
     "metadata": {},
     "output_type": "execute_result"
    }
   ],
   "source": [
    "agn_maxs[:,1]"
   ]
  },
  {
   "cell_type": "code",
   "execution_count": 35,
   "metadata": {},
   "outputs": [],
   "source": [
    "diffs = usr_maxs - agn_maxs[:,1]"
   ]
  },
  {
   "cell_type": "code",
   "execution_count": 37,
   "metadata": {},
   "outputs": [
    {
     "data": {
      "text/plain": [
       "2069"
      ]
     },
     "execution_count": 37,
     "metadata": {},
     "output_type": "execute_result"
    }
   ],
   "source": [
    "len(diffs)"
   ]
  },
  {
   "cell_type": "code",
   "execution_count": 46,
   "metadata": {},
   "outputs": [
    {
     "data": {
      "text/plain": [
       "-5490683827922150.0"
      ]
     },
     "execution_count": 46,
     "metadata": {},
     "output_type": "execute_result"
    }
   ],
   "source": [
    "diffs.mean()"
   ]
  },
  {
   "cell_type": "code",
   "execution_count": 45,
   "metadata": {},
   "outputs": [
    {
     "data": {
      "text/plain": [
       "0.0"
      ]
     },
     "execution_count": 45,
     "metadata": {},
     "output_type": "execute_result"
    }
   ],
   "source": [
    "np.quantile(diffs, 0.99)"
   ]
  },
  {
   "cell_type": "code",
   "execution_count": 40,
   "metadata": {},
   "outputs": [
    {
     "data": {
      "image/png": "[encoded data removed]",
      "text/plain": [
       "<Figure size 576x360 with 1 Axes>"
      ]
     },
     "metadata": {
      "needs_background": "light"
     },
     "output_type": "display_data"
    }
   ],
   "source": [
    "f, ax = plt.subplots(figsize=(8,5))\n",
    "\n",
    "bins = np.histogram(diffs, bins=100)[1]\n",
    "# ax.hist(mwins['diff'], bins, color='b', alpha=0.5, cumulative=0, density=True, label='pdf')\n",
    "ax.hist(diffs, bins, color='g', alpha=0.5, density=True, label='cdf')\n",
    "# linestyle = ['-', '--', ':']\n",
    "# for i, v in enumerate(percs):\n",
    "#     ax.axvline(v[1], label='p{}={:0.0f}'.format(v[0], v[1]), color='k', linestyle=linestyle[i], linewidth=3, alpha=0.7)\n",
    "\n",
    "# ax.set_xlim(0,int(1e6))\n",
    "ax.set_xlabel('duration $(\\mu s)$', size=14)\n",
    "ax.set_title('simulation duration; $\\mu={:0.0f}s$'.format(diffs.mean()), size=18)\n",
    "plt.legend(loc=4)\n",
    "plt.show()"
   ]
  },
  {
   "cell_type": "markdown",
   "metadata": {},
   "source": [
    "## throughput"
   ]
  },
  {
   "cell_type": "code",
   "execution_count": null,
   "metadata": {},
   "outputs": [],
   "source": [
    "5938086"
   ]
  },
  {
   "cell_type": "code",
   "execution_count": 41,
   "metadata": {},
   "outputs": [
    {
     "data": {
      "text/plain": [
       "(5918450, 5968850)"
      ]
     },
     "execution_count": 41,
     "metadata": {},
     "output_type": "execute_result"
    }
   ],
   "source": [
    "6019250 - 7200 * 14, 6019250 - 7200 * 7 \n",
    "# 6019250 - 7200 * 7, 6019250\n",
    "# 6019250, 6019250 + 7200 * 7\n",
    "# 6019250 + 7200 * 7, 6019250 + 7200 * 14"
   ]
  },
  {
   "cell_type": "code",
   "execution_count": 9,
   "metadata": {},
   "outputs": [
    {
     "data": {
      "text/plain": [
       "array([[10.        , 20.18205924, 29.58382902, 16.03256588, 34.20154586],\n",
       "       [11.        , 20.90406886, 23.44208834, 20.73817419, 34.9156686 ],\n",
       "       [12.        , 26.2026937 , 22.29499696, 22.6182173 , 28.88409204],\n",
       "       [13.        , 28.36805961, 22.46534   , 20.48606866, 28.68053173]])"
      ]
     },
     "execution_count": 9,
     "metadata": {},
     "output_type": "execute_result"
    }
   ],
   "source": [
    "dominance = pd.read_csv(\"frontier/optimistic_relay.csv\")\n",
    "dominance.values"
   ]
  },
  {
   "cell_type": "code",
   "execution_count": 28,
   "metadata": {},
   "outputs": [],
   "source": [
    "vals = np.swapaxes(dominance.values[:,1:], 0, 1)"
   ]
  },
  {
   "cell_type": "code",
   "execution_count": 36,
   "metadata": {},
   "outputs": [
    {
     "data": {
      "text/plain": [
       "Index(['ultrasound', 'flashbots', 'bloxroute (combined)', 'other'], dtype='object')"
      ]
     },
     "execution_count": 36,
     "metadata": {},
     "output_type": "execute_result"
    }
   ],
   "source": [
    "dominance.head().keys()[1:]"
   ]
  },
  {
   "cell_type": "code",
   "execution_count": null,
   "metadata": {},
   "outputs": [],
   "source": [
    "throughput = [13209362, 17808762, 26875851]"
   ]
  },
  {
   "cell_type": "code",
   "execution_count": 29,
   "metadata": {},
   "outputs": [
    {
     "data": {
      "text/plain": [
       "97.78625431905633"
      ]
     },
     "execution_count": 29,
     "metadata": {},
     "output_type": "execute_result"
    }
   ],
   "source": [
    "vals[1].sum()"
   ]
  },
  {
   "cell_type": "code",
   "execution_count": 40,
   "metadata": {},
   "outputs": [
    {
     "data": {
      "image/png": "[encoded data removed]",
      "text/plain": [
       "<Figure size 576x360 with 1 Axes>"
      ]
     },
     "metadata": {
      "needs_background": "light"
     },
     "output_type": "display_data"
    }
   ],
   "source": [
    "width = 0.5\n",
    "\n",
    "fig, ax = plt.subplots(figsize=(8,5))\n",
    "bottom = np.zeros(4)\n",
    "\n",
    "vals = np.swapaxes(dominance.values[:,1:], 0, 1)\n",
    "ax.bar(np.arange(4), vals[0], width=0.4, bottom=bottom, label='ultra sound')\n",
    "ax.bar(np.arange(4), vals[1], width=0.4, bottom=vals[0], label='flashbots')\n",
    "ax.bar(np.arange(4), vals[2], width=0.4, bottom=vals[1]+vals[0], label='bloxroute')\n",
    "ax.bar(np.arange(4), vals[3], width=0.4, bottom=vals[2]+vals[1]+vals[0], label='other')\n",
    "\n",
    "ax.set_xticks(np.arange(4))\n",
    "ax.set_xticklabels(['week 10','week 11','week 12','week 13'])\n",
    "# ax.bar(np.arange(4), vals[0], width=0.4, bottom=bottom)\n",
    "# ax.bar(np.arange(4), vals[0], width=0.4, bottom=bottom)\n",
    "\n",
    "# for v in dominance.values[:,1:]:\n",
    "#     print(v)\n",
    "#     p = ax.bar(species, weight_count, width, label=boolean, bottom=bottom)\n",
    "#     bottom += weight_count\n",
    "\n",
    "# ax.set_title(\"Number of penguins with above average body mass\")\n",
    "# ax.legend(loc=\"upper right\")\n",
    "\n",
    "plt.legend()\n",
    "plt.show()"
   ]
  }
 ],
 "metadata": {
  "kernelspec": {
   "display_name": "Python 3",
   "language": "python",
   "name": "python3"
  },
  "language_info": {
   "codemirror_mode": {
    "name": "ipython",
    "version": 3
   },
   "file_extension": ".py",
   "mimetype": "text/x-python",
   "name": "python",
   "nbconvert_exporter": "python",
   "pygments_lexer": "ipython3",
   "version": "3.8.16"
  }
 },
 "nbformat": 4,
 "nbformat_minor": 4
}

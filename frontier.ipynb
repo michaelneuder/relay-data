{
 "cells": [
  {
   "cell_type": "code",
   "execution_count": 1,
   "metadata": {},
   "outputs": [],
   "source": [
    "import numpy as np\n",
    "from tqdm import tqdm\n",
    "import requests\n",
    "import pandas as pd\n",
    "import matplotlib.pyplot as plt\n",
    "import json\n",
    "from datetime import datetime\n",
    "from sklearn.linear_model import LinearRegression\n",
    "plt.rcParams['axes.grid'] = True\n",
    "plt.rcParams['grid.alpha'] = 0.3\n",
    "plt.rcParams['axes.titlesize'] = 18"
   ]
  },
  {
   "cell_type": "code",
   "execution_count": 2,
   "metadata": {},
   "outputs": [
    {
     "data": {
      "text/html": [
       "<div>\n",
       "<style scoped>\n",
       "    .dataframe tbody tr th:only-of-type {\n",
       "        vertical-align: middle;\n",
       "    }\n",
       "\n",
       "    .dataframe tbody tr th {\n",
       "        vertical-align: top;\n",
       "    }\n",
       "\n",
       "    .dataframe thead th {\n",
       "        text-align: right;\n",
       "    }\n",
       "</style>\n",
       "<table border=\"1\" class=\"dataframe\">\n",
       "  <thead>\n",
       "    <tr style=\"text-align: right;\">\n",
       "      <th></th>\n",
       "      <th>slot</th>\n",
       "      <th>value</th>\n",
       "      <th>inserted_at</th>\n",
       "      <th>pk</th>\n",
       "    </tr>\n",
       "  </thead>\n",
       "  <tbody>\n",
       "    <tr>\n",
       "      <th>0</th>\n",
       "      <td>5877441</td>\n",
       "      <td>4100751565914457</td>\n",
       "      <td>2023-02-25 19:28:24.879946</td>\n",
       "      <td>0xa1ee9e</td>\n",
       "    </tr>\n",
       "    <tr>\n",
       "      <th>1</th>\n",
       "      <td>5877441</td>\n",
       "      <td>3666426134683254</td>\n",
       "      <td>2023-02-25 19:28:25.068712</td>\n",
       "      <td>0xaa1488</td>\n",
       "    </tr>\n",
       "    <tr>\n",
       "      <th>2</th>\n",
       "      <td>5877441</td>\n",
       "      <td>4205695161447457</td>\n",
       "      <td>2023-02-25 19:28:25.138228</td>\n",
       "      <td>0xa1ee9e</td>\n",
       "    </tr>\n",
       "    <tr>\n",
       "      <th>3</th>\n",
       "      <td>5877441</td>\n",
       "      <td>4304797161447457</td>\n",
       "      <td>2023-02-25 19:28:25.403391</td>\n",
       "      <td>0xa1ee9e</td>\n",
       "    </tr>\n",
       "    <tr>\n",
       "      <th>4</th>\n",
       "      <td>5877441</td>\n",
       "      <td>3771369730216254</td>\n",
       "      <td>2023-02-25 19:28:25.414058</td>\n",
       "      <td>0xa85807</td>\n",
       "    </tr>\n",
       "  </tbody>\n",
       "</table>\n",
       "</div>"
      ],
      "text/plain": [
       "      slot             value                inserted_at        pk\n",
       "0  5877441  4100751565914457 2023-02-25 19:28:24.879946  0xa1ee9e\n",
       "1  5877441  3666426134683254 2023-02-25 19:28:25.068712  0xaa1488\n",
       "2  5877441  4205695161447457 2023-02-25 19:28:25.138228  0xa1ee9e\n",
       "3  5877441  4304797161447457 2023-02-25 19:28:25.403391  0xa1ee9e\n",
       "4  5877441  3771369730216254 2023-02-25 19:28:25.414058  0xa85807"
      ]
     },
     "execution_count": 2,
     "metadata": {},
     "output_type": "execute_result"
    }
   ],
   "source": [
    "monthly = pd.read_csv(\"frontier/monthlyinc1000.txt\", names=['slot', 'value', 'inserted_at', 'pk'], delimiter='|')\n",
    "monthly['inserted_at'] = pd.to_datetime(monthly['inserted_at'], format=\"%Y-%m-%d%H:%M:%S.%f\")\n",
    "monthly.head()"
   ]
  },
  {
   "cell_type": "code",
   "execution_count": 3,
   "metadata": {},
   "outputs": [
    {
     "data": {
      "text/plain": [
       "72255"
      ]
     },
     "execution_count": 3,
     "metadata": {},
     "output_type": "execute_result"
    }
   ],
   "source": [
    "len(monthly)"
   ]
  },
  {
   "cell_type": "code",
   "execution_count": 4,
   "metadata": {},
   "outputs": [
    {
     "data": {
      "text/plain": [
       "(98, 70)"
      ]
     },
     "execution_count": 4,
     "metadata": {},
     "output_type": "execute_result"
    }
   ],
   "source": [
    "slots = list(set(monthly['slot'].values))\n",
    "pks = list(set(monthly['pk'].values))\n",
    "len(slots), len(pks)"
   ]
  },
  {
   "cell_type": "code",
   "execution_count": 5,
   "metadata": {},
   "outputs": [
    {
     "name": "stderr",
     "output_type": "stream",
     "text": [
      "100%|██████████| 98/98 [00:06<00:00, 15.91it/s]\n"
     ]
    }
   ],
   "source": [
    "pkWeiPerMus = {}\n",
    "for p in pks:\n",
    "    pkWeiPerMus[p] = []\n",
    "\n",
    "for sl in tqdm(slots[:]):\n",
    "    slotdf = monthly[monthly['slot']==sl]\n",
    "    for pk in pks[:]:\n",
    "        pkdf = slotdf[slotdf['pk']==pk]\n",
    "        diffsTime = np.asarray([v.total_seconds() * 1000000 for v in pkdf['inserted_at'].diff()])\n",
    "        diffsVal = np.asarray([v for v in pkdf['value'].diff()])\n",
    "        for i in range(1, len(diffsTime)):\n",
    "            if diffsTime[i] <= 0:\n",
    "                raise ValueError(\"negative time diff\")\n",
    "            if diffsVal[i] < 0:\n",
    "                continue\n",
    "            pkWeiPerMus[pk].append(diffsVal[i] / diffsTime[i])"
   ]
  },
  {
   "cell_type": "code",
   "execution_count": 13,
   "metadata": {},
   "outputs": [
    {
     "data": {
      "text/plain": [
       "(58596,)"
      ]
     },
     "execution_count": 13,
     "metadata": {},
     "output_type": "execute_result"
    }
   ],
   "source": [
    "total = []\n",
    "for k in pkWeiPerMus.keys():\n",
    "    total.extend(pkWeiPerMus[k])\n",
    "total = np.asarray(total)\n",
    "total.shape"
   ]
  },
  {
   "cell_type": "code",
   "execution_count": 14,
   "metadata": {},
   "outputs": [
    {
     "data": {
      "text/plain": [
       "(55666,)"
      ]
     },
     "execution_count": 14,
     "metadata": {},
     "output_type": "execute_result"
    }
   ],
   "source": [
    "# total_plt = total[total > np.percentile(total, 5)]\n",
    "total_plt = total[total < np.percentile(total, 95)]\n",
    "total_plt.shape"
   ]
  },
  {
   "cell_type": "code",
   "execution_count": 58,
   "metadata": {},
   "outputs": [
    {
     "data": {
      "image/png": "[encoded data removed]",
      "text/plain": [
       "<Figure size 576x360 with 1 Axes>"
      ]
     },
     "metadata": {
      "needs_background": "light"
     },
     "output_type": "display_data"
    }
   ],
   "source": [
    "f, ax = plt.subplots(figsize=(8,5))\n",
    "percs = [(int(i*100), np.quantile(total_plt/int(1e9), i)) for i in [.50, .90, .99]]\n",
    "\n",
    "ax.hist(total_plt/int(1e9), bins=1000, color='g', alpha=0.5, cumulative=1, density=True, label='cdf')\n",
    "linestyle = ['-', '--', ':']\n",
    "for i, v in enumerate(percs):\n",
    "    ax.axvline(v[1], label='p{}={:0.3f}'.format(v[0], v[1]), color='k', linestyle=linestyle[i], linewidth=3, alpha=0.7)\n",
    "\n",
    "ax.set_xlim(0,60)\n",
    "ax.set_xlabel('utility (gwei/$\\mu s$)', size=16)\n",
    "ax.set_title('marginal utility of time; $\\mu={:0.0f}$ gwei$/\\mu s$'.format(total_plt.mean()/int(1e9)), size=18)\n",
    "plt.legend(loc=4)\n",
    "plt.show()"
   ]
  },
  {
   "cell_type": "code",
   "execution_count": 82,
   "metadata": {},
   "outputs": [
    {
     "name": "stdout",
     "output_type": "stream",
     "text": [
      "gwei per \\mu s & 0 & 3 & 20 & 74 & 961 & 19693 \\\\\n"
     ]
    }
   ],
   "source": [
    "percs(\"gwei per \\mu s\", total/int(1e9))"
   ]
  },
  {
   "cell_type": "code",
   "execution_count": 81,
   "metadata": {},
   "outputs": [],
   "source": [
    "def percs(label, arr):\n",
    "    print('{} & '.format(label), end='')\n",
    "    st = ''\n",
    "    for i in [.50, .75, .90, 0.95, .99, .999]:\n",
    "        st += str(int(np.quantile(arr, i)))\n",
    "        st += \" & \"\n",
    "    print(st[:-3] + ' \\\\\\\\')"
   ]
  },
  {
   "cell_type": "code",
   "execution_count": null,
   "metadata": {},
   "outputs": [],
   "source": []
  },
  {
   "cell_type": "markdown",
   "metadata": {},
   "source": [
    "## winner submission times"
   ]
  },
  {
   "cell_type": "code",
   "execution_count": 2,
   "metadata": {},
   "outputs": [
    {
     "data": {
      "text/html": [
       "<div>\n",
       "<style scoped>\n",
       "    .dataframe tbody tr th:only-of-type {\n",
       "        vertical-align: middle;\n",
       "    }\n",
       "\n",
       "    .dataframe tbody tr th {\n",
       "        vertical-align: top;\n",
       "    }\n",
       "\n",
       "    .dataframe thead th {\n",
       "        text-align: right;\n",
       "    }\n",
       "</style>\n",
       "<table border=\"1\" class=\"dataframe\">\n",
       "  <thead>\n",
       "    <tr style=\"text-align: right;\">\n",
       "      <th></th>\n",
       "      <th>slot</th>\n",
       "      <th>bh</th>\n",
       "      <th>received_at</th>\n",
       "      <th>eligible_at</th>\n",
       "    </tr>\n",
       "  </thead>\n",
       "  <tbody>\n",
       "    <tr>\n",
       "      <th>0</th>\n",
       "      <td>5992159</td>\n",
       "      <td>0x845b7b8844d4787da924b466c89e88d399ede24191f3...</td>\n",
       "      <td>2023-03-13 17:52:11.483072</td>\n",
       "      <td>2023-03-13 17:52:11.638520</td>\n",
       "    </tr>\n",
       "    <tr>\n",
       "      <th>1</th>\n",
       "      <td>5992160</td>\n",
       "      <td>0x7a17c8498b5cd6116b792095359e4d9dd2daa9726afd...</td>\n",
       "      <td>2023-03-13 17:52:24.239075</td>\n",
       "      <td>2023-03-13 17:52:24.508869</td>\n",
       "    </tr>\n",
       "    <tr>\n",
       "      <th>2</th>\n",
       "      <td>5992165</td>\n",
       "      <td>0xaaf01a06a1c7c73b5c1ade6e4b9fe22adfe283eacf0c...</td>\n",
       "      <td>2023-03-13 17:53:22.851942</td>\n",
       "      <td>2023-03-13 17:53:23.104399</td>\n",
       "    </tr>\n",
       "    <tr>\n",
       "      <th>3</th>\n",
       "      <td>5992167</td>\n",
       "      <td>0x1f18e6e2450b328fa548914b6cdcc41e09f64d6311ca...</td>\n",
       "      <td>2023-03-13 17:53:47.102979</td>\n",
       "      <td>2023-03-13 17:53:47.232045</td>\n",
       "    </tr>\n",
       "    <tr>\n",
       "      <th>4</th>\n",
       "      <td>5992169</td>\n",
       "      <td>0xf13d1bc828058e0b6150628330c39de5586e6c83e303...</td>\n",
       "      <td>2023-03-13 17:54:10.935878</td>\n",
       "      <td>2023-03-13 17:54:11.084660</td>\n",
       "    </tr>\n",
       "  </tbody>\n",
       "</table>\n",
       "</div>"
      ],
      "text/plain": [
       "      slot                                                 bh  \\\n",
       "0  5992159  0x845b7b8844d4787da924b466c89e88d399ede24191f3...   \n",
       "1  5992160  0x7a17c8498b5cd6116b792095359e4d9dd2daa9726afd...   \n",
       "2  5992165  0xaaf01a06a1c7c73b5c1ade6e4b9fe22adfe283eacf0c...   \n",
       "3  5992167  0x1f18e6e2450b328fa548914b6cdcc41e09f64d6311ca...   \n",
       "4  5992169  0xf13d1bc828058e0b6150628330c39de5586e6c83e303...   \n",
       "\n",
       "                 received_at                eligible_at  \n",
       "0 2023-03-13 17:52:11.483072 2023-03-13 17:52:11.638520  \n",
       "1 2023-03-13 17:52:24.239075 2023-03-13 17:52:24.508869  \n",
       "2 2023-03-13 17:53:22.851942 2023-03-13 17:53:23.104399  \n",
       "3 2023-03-13 17:53:47.102979 2023-03-13 17:53:47.232045  \n",
       "4 2023-03-13 17:54:10.935878 2023-03-13 17:54:11.084660  "
      ]
     },
     "execution_count": 2,
     "metadata": {},
     "output_type": "execute_result"
    }
   ],
   "source": [
    "mwins = pd.read_csv(\"frontier/winningrecvd.txt\", names=['slot', 'bh', 'received_at', 'eligible_at'], delimiter='|')\n",
    "mwins['received_at'] = pd.to_datetime(mwins['received_at'], format=\"%Y-%m-%d%H:%M:%S.%f\")\n",
    "mwins['eligible_at'] = pd.to_datetime(mwins['eligible_at'], format=\"%Y-%m-%d%H:%M:%S.%f\")\n",
    "mwins.head()"
   ]
  },
  {
   "cell_type": "code",
   "execution_count": 3,
   "metadata": {},
   "outputs": [
    {
     "data": {
      "text/plain": [
       "31273"
      ]
     },
     "execution_count": 3,
     "metadata": {},
     "output_type": "execute_result"
    }
   ],
   "source": [
    "len(mwins)"
   ]
  },
  {
   "cell_type": "code",
   "execution_count": 4,
   "metadata": {},
   "outputs": [
    {
     "data": {
      "text/html": [
       "<div>\n",
       "<style scoped>\n",
       "    .dataframe tbody tr th:only-of-type {\n",
       "        vertical-align: middle;\n",
       "    }\n",
       "\n",
       "    .dataframe tbody tr th {\n",
       "        vertical-align: top;\n",
       "    }\n",
       "\n",
       "    .dataframe thead th {\n",
       "        text-align: right;\n",
       "    }\n",
       "</style>\n",
       "<table border=\"1\" class=\"dataframe\">\n",
       "  <thead>\n",
       "    <tr style=\"text-align: right;\">\n",
       "      <th></th>\n",
       "      <th>slot</th>\n",
       "      <th>bh</th>\n",
       "      <th>received_at</th>\n",
       "      <th>eligible_at</th>\n",
       "    </tr>\n",
       "  </thead>\n",
       "  <tbody>\n",
       "    <tr>\n",
       "      <th>0</th>\n",
       "      <td>5992159</td>\n",
       "      <td>0x845b7b8844d4787da924b466c89e88d399ede24191f3...</td>\n",
       "      <td>2023-03-13 17:52:11.483072</td>\n",
       "      <td>2023-03-13 17:52:11.638520</td>\n",
       "    </tr>\n",
       "    <tr>\n",
       "      <th>1</th>\n",
       "      <td>5992160</td>\n",
       "      <td>0x7a17c8498b5cd6116b792095359e4d9dd2daa9726afd...</td>\n",
       "      <td>2023-03-13 17:52:24.239075</td>\n",
       "      <td>2023-03-13 17:52:24.508869</td>\n",
       "    </tr>\n",
       "    <tr>\n",
       "      <th>2</th>\n",
       "      <td>5992165</td>\n",
       "      <td>0xaaf01a06a1c7c73b5c1ade6e4b9fe22adfe283eacf0c...</td>\n",
       "      <td>2023-03-13 17:53:22.851942</td>\n",
       "      <td>2023-03-13 17:53:23.104399</td>\n",
       "    </tr>\n",
       "    <tr>\n",
       "      <th>3</th>\n",
       "      <td>5992167</td>\n",
       "      <td>0x1f18e6e2450b328fa548914b6cdcc41e09f64d6311ca...</td>\n",
       "      <td>2023-03-13 17:53:47.102979</td>\n",
       "      <td>2023-03-13 17:53:47.232045</td>\n",
       "    </tr>\n",
       "    <tr>\n",
       "      <th>4</th>\n",
       "      <td>5992169</td>\n",
       "      <td>0xf13d1bc828058e0b6150628330c39de5586e6c83e303...</td>\n",
       "      <td>2023-03-13 17:54:10.935878</td>\n",
       "      <td>2023-03-13 17:54:11.084660</td>\n",
       "    </tr>\n",
       "  </tbody>\n",
       "</table>\n",
       "</div>"
      ],
      "text/plain": [
       "      slot                                                 bh  \\\n",
       "0  5992159  0x845b7b8844d4787da924b466c89e88d399ede24191f3...   \n",
       "1  5992160  0x7a17c8498b5cd6116b792095359e4d9dd2daa9726afd...   \n",
       "2  5992165  0xaaf01a06a1c7c73b5c1ade6e4b9fe22adfe283eacf0c...   \n",
       "3  5992167  0x1f18e6e2450b328fa548914b6cdcc41e09f64d6311ca...   \n",
       "4  5992169  0xf13d1bc828058e0b6150628330c39de5586e6c83e303...   \n",
       "\n",
       "                 received_at                eligible_at  \n",
       "0 2023-03-13 17:52:11.483072 2023-03-13 17:52:11.638520  \n",
       "1 2023-03-13 17:52:24.239075 2023-03-13 17:52:24.508869  \n",
       "2 2023-03-13 17:53:22.851942 2023-03-13 17:53:23.104399  \n",
       "3 2023-03-13 17:53:47.102979 2023-03-13 17:53:47.232045  \n",
       "4 2023-03-13 17:54:10.935878 2023-03-13 17:54:11.084660  "
      ]
     },
     "execution_count": 4,
     "metadata": {},
     "output_type": "execute_result"
    }
   ],
   "source": [
    "mwins = mwins.sort_values('eligible_at', ascending=True).drop_duplicates('slot').sort_index()\n",
    "mwins.head()"
   ]
  },
  {
   "cell_type": "code",
   "execution_count": 5,
   "metadata": {},
   "outputs": [
    {
     "data": {
      "text/plain": [
       "27397"
      ]
     },
     "execution_count": 5,
     "metadata": {},
     "output_type": "execute_result"
    }
   ],
   "source": [
    "len(mwins)"
   ]
  },
  {
   "cell_type": "code",
   "execution_count": 17,
   "metadata": {},
   "outputs": [
    {
     "data": {
      "text/html": [
       "<div>\n",
       "<style scoped>\n",
       "    .dataframe tbody tr th:only-of-type {\n",
       "        vertical-align: middle;\n",
       "    }\n",
       "\n",
       "    .dataframe tbody tr th {\n",
       "        vertical-align: top;\n",
       "    }\n",
       "\n",
       "    .dataframe thead th {\n",
       "        text-align: right;\n",
       "    }\n",
       "</style>\n",
       "<table border=\"1\" class=\"dataframe\">\n",
       "  <thead>\n",
       "    <tr style=\"text-align: right;\">\n",
       "      <th></th>\n",
       "      <th>slot</th>\n",
       "      <th>bh</th>\n",
       "      <th>received_at</th>\n",
       "      <th>eligible_at</th>\n",
       "      <th>slot_boundary</th>\n",
       "      <th>diff</th>\n",
       "    </tr>\n",
       "  </thead>\n",
       "  <tbody>\n",
       "    <tr>\n",
       "      <th>0</th>\n",
       "      <td>5992159</td>\n",
       "      <td>0x845b7b8844d4787da924b466c89e88d399ede24191f3...</td>\n",
       "      <td>2023-03-13 17:52:11.483072</td>\n",
       "      <td>2023-03-13 17:52:11.638520</td>\n",
       "      <td>2023-03-13 17:52:12</td>\n",
       "      <td>0.483072</td>\n",
       "    </tr>\n",
       "    <tr>\n",
       "      <th>1</th>\n",
       "      <td>5992160</td>\n",
       "      <td>0x7a17c8498b5cd6116b792095359e4d9dd2daa9726afd...</td>\n",
       "      <td>2023-03-13 17:52:24.239075</td>\n",
       "      <td>2023-03-13 17:52:24.508869</td>\n",
       "      <td>2023-03-13 17:52:24</td>\n",
       "      <td>1.239075</td>\n",
       "    </tr>\n",
       "    <tr>\n",
       "      <th>2</th>\n",
       "      <td>5992165</td>\n",
       "      <td>0xaaf01a06a1c7c73b5c1ade6e4b9fe22adfe283eacf0c...</td>\n",
       "      <td>2023-03-13 17:53:22.851942</td>\n",
       "      <td>2023-03-13 17:53:23.104399</td>\n",
       "      <td>2023-03-13 17:53:24</td>\n",
       "      <td>-0.148058</td>\n",
       "    </tr>\n",
       "    <tr>\n",
       "      <th>3</th>\n",
       "      <td>5992167</td>\n",
       "      <td>0x1f18e6e2450b328fa548914b6cdcc41e09f64d6311ca...</td>\n",
       "      <td>2023-03-13 17:53:47.102979</td>\n",
       "      <td>2023-03-13 17:53:47.232045</td>\n",
       "      <td>2023-03-13 17:53:48</td>\n",
       "      <td>0.102979</td>\n",
       "    </tr>\n",
       "    <tr>\n",
       "      <th>4</th>\n",
       "      <td>5992169</td>\n",
       "      <td>0xf13d1bc828058e0b6150628330c39de5586e6c83e303...</td>\n",
       "      <td>2023-03-13 17:54:10.935878</td>\n",
       "      <td>2023-03-13 17:54:11.084660</td>\n",
       "      <td>2023-03-13 17:54:12</td>\n",
       "      <td>-0.064122</td>\n",
       "    </tr>\n",
       "  </tbody>\n",
       "</table>\n",
       "</div>"
      ],
      "text/plain": [
       "      slot                                                 bh  \\\n",
       "0  5992159  0x845b7b8844d4787da924b466c89e88d399ede24191f3...   \n",
       "1  5992160  0x7a17c8498b5cd6116b792095359e4d9dd2daa9726afd...   \n",
       "2  5992165  0xaaf01a06a1c7c73b5c1ade6e4b9fe22adfe283eacf0c...   \n",
       "3  5992167  0x1f18e6e2450b328fa548914b6cdcc41e09f64d6311ca...   \n",
       "4  5992169  0xf13d1bc828058e0b6150628330c39de5586e6c83e303...   \n",
       "\n",
       "                 received_at                eligible_at       slot_boundary  \\\n",
       "0 2023-03-13 17:52:11.483072 2023-03-13 17:52:11.638520 2023-03-13 17:52:12   \n",
       "1 2023-03-13 17:52:24.239075 2023-03-13 17:52:24.508869 2023-03-13 17:52:24   \n",
       "2 2023-03-13 17:53:22.851942 2023-03-13 17:53:23.104399 2023-03-13 17:53:24   \n",
       "3 2023-03-13 17:53:47.102979 2023-03-13 17:53:47.232045 2023-03-13 17:53:48   \n",
       "4 2023-03-13 17:54:10.935878 2023-03-13 17:54:11.084660 2023-03-13 17:54:12   \n",
       "\n",
       "       diff  \n",
       "0  0.483072  \n",
       "1  1.239075  \n",
       "2 -0.148058  \n",
       "3  0.102979  \n",
       "4 -0.064122  "
      ]
     },
     "execution_count": 17,
     "metadata": {},
     "output_type": "execute_result"
    }
   ],
   "source": [
    "mwins['slot_boundary'] = np.asarray([pd.Timestamp(x).round(freq='12S') for x in mwins['received_at'].values])\n",
    "mwins['diff'] = [v.total_seconds()+1 for v in mwins['received_at']-mwins['slot_boundary']]\n",
    "mwins.head()"
   ]
  },
  {
   "cell_type": "code",
   "execution_count": 18,
   "metadata": {},
   "outputs": [
    {
     "data": {
      "text/plain": [
       "[(50, 0.13525399999999999), (90, 0.4702178), (99, 1.3166002800000012)]"
      ]
     },
     "execution_count": 18,
     "metadata": {},
     "output_type": "execute_result"
    }
   ],
   "source": [
    "percs = [(int(i*100), np.quantile(mwins['diff'], i)) for i in [.50, .90, .99]]\n",
    "percs"
   ]
  },
  {
   "cell_type": "code",
   "execution_count": 20,
   "metadata": {},
   "outputs": [
    {
     "data": {
      "image/png": "[encoded data removed]",
      "text/plain": [
       "<Figure size 576x360 with 1 Axes>"
      ]
     },
     "metadata": {
      "needs_background": "light"
     },
     "output_type": "display_data"
    }
   ],
   "source": [
    "f, ax = plt.subplots(figsize=(8,5))\n",
    "\n",
    "bins = np.histogram(mwins['diff'], bins=600)[1]\n",
    "# ax.hist(mwins['diff'], bins, color='b', alpha=0.5, cumulative=0, density=True, label='pdf')\n",
    "ax.hist(mwins['diff'], bins, color='g', alpha=0.5, cumulative=1, density=True, label='cdf')\n",
    "linestyle = ['-', '--', ':']\n",
    "for i, v in enumerate(percs):\n",
    "    ax.axvline(v[1], label='p{}={:0.3f}'.format(v[0], v[1]), color='k', linestyle=linestyle[i], linewidth=3, alpha=0.7)\n",
    "\n",
    "ax.set_xlim(-2,4)\n",
    "ax.set_xlabel('difference $(s)$', size=16)\n",
    "ax.set_title('winning bid arrival - slot boundary; $\\mu={:0.3f}$s'.format(mwins['diff'].mean()), size=18)\n",
    "plt.legend(loc=4)\n",
    "plt.show()"
   ]
  },
  {
   "cell_type": "markdown",
   "metadata": {},
   "source": [
    "## simulation durations "
   ]
  },
  {
   "cell_type": "code",
   "execution_count": 30,
   "metadata": {},
   "outputs": [
    {
     "data": {
      "text/html": [
       "<div>\n",
       "<style scoped>\n",
       "    .dataframe tbody tr th:only-of-type {\n",
       "        vertical-align: middle;\n",
       "    }\n",
       "\n",
       "    .dataframe tbody tr th {\n",
       "        vertical-align: top;\n",
       "    }\n",
       "\n",
       "    .dataframe thead th {\n",
       "        text-align: right;\n",
       "    }\n",
       "</style>\n",
       "<table border=\"1\" class=\"dataframe\">\n",
       "  <thead>\n",
       "    <tr style=\"text-align: right;\">\n",
       "      <th></th>\n",
       "      <th>received_at</th>\n",
       "      <th>optimistic_submission</th>\n",
       "      <th>decode_duration</th>\n",
       "      <th>prechecks_duration</th>\n",
       "      <th>simulation_duration</th>\n",
       "      <th>redis_update_duration</th>\n",
       "      <th>total_duration</th>\n",
       "      <th>substring</th>\n",
       "    </tr>\n",
       "  </thead>\n",
       "  <tbody>\n",
       "    <tr>\n",
       "      <th>0</th>\n",
       "      <td>2023-03-13 17:57:45.774553</td>\n",
       "      <td>f</td>\n",
       "      <td>12410</td>\n",
       "      <td>1786</td>\n",
       "      <td>75578</td>\n",
       "      <td>6903</td>\n",
       "      <td>96678</td>\n",
       "      <td>0x978a35</td>\n",
       "    </tr>\n",
       "    <tr>\n",
       "      <th>1</th>\n",
       "      <td>2023-03-13 17:57:45.698805</td>\n",
       "      <td>f</td>\n",
       "      <td>89843</td>\n",
       "      <td>1617</td>\n",
       "      <td>105741</td>\n",
       "      <td>6568</td>\n",
       "      <td>203771</td>\n",
       "      <td>0xa82f9a</td>\n",
       "    </tr>\n",
       "    <tr>\n",
       "      <th>2</th>\n",
       "      <td>2023-03-13 17:57:45.810121</td>\n",
       "      <td>f</td>\n",
       "      <td>7900</td>\n",
       "      <td>1768</td>\n",
       "      <td>96445</td>\n",
       "      <td>7302</td>\n",
       "      <td>113417</td>\n",
       "      <td>0x84b02b</td>\n",
       "    </tr>\n",
       "    <tr>\n",
       "      <th>3</th>\n",
       "      <td>2023-03-13 17:57:43.602490</td>\n",
       "      <td>f</td>\n",
       "      <td>90470</td>\n",
       "      <td>1353</td>\n",
       "      <td>98227</td>\n",
       "      <td>5276</td>\n",
       "      <td>195328</td>\n",
       "      <td>0xa1dead</td>\n",
       "    </tr>\n",
       "    <tr>\n",
       "      <th>4</th>\n",
       "      <td>2023-03-13 17:57:43.675843</td>\n",
       "      <td>f</td>\n",
       "      <td>87590</td>\n",
       "      <td>1465</td>\n",
       "      <td>101181</td>\n",
       "      <td>5469</td>\n",
       "      <td>195707</td>\n",
       "      <td>0xa85807</td>\n",
       "    </tr>\n",
       "  </tbody>\n",
       "</table>\n",
       "</div>"
      ],
      "text/plain": [
       "                 received_at optimistic_submission  decode_duration  \\\n",
       "0 2023-03-13 17:57:45.774553                     f            12410   \n",
       "1 2023-03-13 17:57:45.698805                     f            89843   \n",
       "2 2023-03-13 17:57:45.810121                     f             7900   \n",
       "3 2023-03-13 17:57:43.602490                     f            90470   \n",
       "4 2023-03-13 17:57:43.675843                     f            87590   \n",
       "\n",
       "   prechecks_duration  simulation_duration  redis_update_duration  \\\n",
       "0                1786                75578                   6903   \n",
       "1                1617               105741                   6568   \n",
       "2                1768                96445                   7302   \n",
       "3                1353                98227                   5276   \n",
       "4                1465               101181                   5469   \n",
       "\n",
       "   total_duration substring  \n",
       "0           96678  0x978a35  \n",
       "1          203771  0xa82f9a  \n",
       "2          113417  0x84b02b  \n",
       "3          195328  0xa1dead  \n",
       "4          195707  0xa85807  "
      ]
     },
     "execution_count": 30,
     "metadata": {},
     "output_type": "execute_result"
    }
   ],
   "source": [
    "nopts = pd.read_csv('rollout/big/noptsubs.txt', delimiter=\"|\")\n",
    "nopts['received_at'] = pd.to_datetime(nopts['received_at'], format=\"%Y-%m-%d%H:%M:%S.%f\")\n",
    "# nopts['slot_boundary'] = np.asarray([pd.Timestamp(x).round(freq='12S') for x in nopts['received_at'].values])\n",
    "nopts.head()"
   ]
  },
  {
   "cell_type": "code",
   "execution_count": 31,
   "metadata": {},
   "outputs": [
    {
     "data": {
      "text/plain": [
       "1000000"
      ]
     },
     "execution_count": 31,
     "metadata": {},
     "output_type": "execute_result"
    }
   ],
   "source": [
    "len(nopts)"
   ]
  },
  {
   "cell_type": "code",
   "execution_count": 32,
   "metadata": {},
   "outputs": [
    {
     "data": {
      "text/plain": [
       "96677"
      ]
     },
     "execution_count": 32,
     "metadata": {},
     "output_type": "execute_result"
    }
   ],
   "source": [
    "12410 + 1786 + 75578 + 6903"
   ]
  },
  {
   "cell_type": "code",
   "execution_count": 33,
   "metadata": {},
   "outputs": [
    {
     "data": {
      "text/plain": [
       "990000"
      ]
     },
     "execution_count": 33,
     "metadata": {},
     "output_type": "execute_result"
    }
   ],
   "source": [
    "nopts_plot = nopts[nopts['total_duration'] < np.quantile(nopts['total_duration'].values, 0.99)]\n",
    "len(nopts_plot)"
   ]
  },
  {
   "cell_type": "code",
   "execution_count": 34,
   "metadata": {},
   "outputs": [
    {
     "data": {
      "text/plain": [
       "1592421.026000001"
      ]
     },
     "execution_count": 34,
     "metadata": {},
     "output_type": "execute_result"
    }
   ],
   "source": [
    "np.quantile(nopts['simulation_duration'].values, 0.999)"
   ]
  },
  {
   "cell_type": "code",
   "execution_count": 32,
   "metadata": {},
   "outputs": [
    {
     "data": {
      "text/plain": [
       "(73041.164332, 17930.121351, 142992.88085, 35826.475345)"
      ]
     },
     "execution_count": 32,
     "metadata": {},
     "output_type": "execute_result"
    }
   ],
   "source": [
    "nopts['decode_duration'].mean(), nopts['prechecks_duration'].mean(),nopts['simulation_duration'].mean(),nopts['redis_update_duration'].mean()"
   ]
  },
  {
   "cell_type": "code",
   "execution_count": 56,
   "metadata": {},
   "outputs": [
    {
     "data": {
      "text/plain": [
       "(25923.84881855749, 0.26330497914869067)"
      ]
     },
     "execution_count": 56,
     "metadata": {},
     "output_type": "execute_result"
    }
   ],
   "source": [
    "yopts['redis_update_duration'].mean(), yopts['redis_update_duration'].mean() / yopts['total_duration'].mean(), "
   ]
  },
  {
   "cell_type": "code",
   "execution_count": 57,
   "metadata": {},
   "outputs": [
    {
     "data": {
      "text/plain": [
       "269790.641878"
      ]
     },
     "execution_count": 57,
     "metadata": {},
     "output_type": "execute_result"
    }
   ],
   "source": [
    "73041.164332 + 17930.121351 + 142992.88085 + 35826.475345"
   ]
  },
  {
   "cell_type": "code",
   "execution_count": 58,
   "metadata": {},
   "outputs": [
    {
     "data": {
      "text/plain": [
       "98455.59663312732"
      ]
     },
     "execution_count": 58,
     "metadata": {},
     "output_type": "execute_result"
    }
   ],
   "source": [
    "yopts['total_duration'].mean()"
   ]
  },
  {
   "cell_type": "code",
   "execution_count": 59,
   "metadata": {},
   "outputs": [
    {
     "data": {
      "text/plain": [
       "(53252.13336907648, 19247.562639861502, 30.55739570621766, 25923.84881855749)"
      ]
     },
     "execution_count": 59,
     "metadata": {},
     "output_type": "execute_result"
    }
   ],
   "source": [
    "yopts['decode_duration'].mean(), yopts['prechecks_duration'].mean(),yopts['simulation_duration'].mean(),yopts['redis_update_duration'].mean()"
   ]
  },
  {
   "cell_type": "code",
   "execution_count": 60,
   "metadata": {},
   "outputs": [
    {
     "data": {
      "text/plain": [
       "98455.59663312732"
      ]
     },
     "execution_count": 60,
     "metadata": {},
     "output_type": "execute_result"
    }
   ],
   "source": [
    "yopts['total_duration'].mean()"
   ]
  },
  {
   "cell_type": "code",
   "execution_count": 61,
   "metadata": {},
   "outputs": [
    {
     "data": {
      "text/plain": [
       "98454.10222320168"
      ]
     },
     "execution_count": 61,
     "metadata": {},
     "output_type": "execute_result"
    }
   ],
   "source": [
    "53252.13336907648 + 19247.562639861502 + 30.55739570621766 + 25923.84881855749"
   ]
  },
  {
   "cell_type": "code",
   "execution_count": 35,
   "metadata": {},
   "outputs": [
    {
     "data": {
      "image/png": "[encoded data removed]",
      "text/plain": [
       "<Figure size 576x360 with 1 Axes>"
      ]
     },
     "metadata": {
      "needs_background": "light"
     },
     "output_type": "display_data"
    }
   ],
   "source": [
    "f, ax = plt.subplots(figsize=(8,5))\n",
    "bins = np.histogram(nopts_plot['total_duration'], bins=1000)[1]\n",
    "# ax.hist(nopts_plot['simulation_duration'], bins=bins, color='darkviolet', alpha=0.9, density=True, \n",
    "#         label='simulation duration $(\\mu = {:0.0f})$'.format(nopts['simulation_duration'].values.mean()))\n",
    "ax.hist(nopts_plot['total_duration'], bins=bins, color='peru', alpha=0.9, density=True, \n",
    "        label='total duration $(\\mu = {:0.0f})$'.format(nopts['total_duration'].values.mean()))\n",
    "ax.set_xlim(0, int(1e6))\n",
    "# ax.legend(loc=0)\n",
    "ax.set_xlabel('duration $(\\mu s)$', size=14)\n",
    "# ax.set_title('non-optimistic block submission durations', size=16)\n",
    "ax.set_title('total duration; $\\mu = {:0.0f}$'.format(nopts['total_duration'].values.mean()), size=18)\n",
    "plt.show()"
   ]
  },
  {
   "cell_type": "code",
   "execution_count": 62,
   "metadata": {},
   "outputs": [
    {
     "data": {
      "image/png": "[encoded data removed]",
      "text/plain": [
       "<Figure size 576x360 with 1 Axes>"
      ]
     },
     "metadata": {
      "needs_background": "light"
     },
     "output_type": "display_data"
    }
   ],
   "source": [
    "f, ax = plt.subplots(figsize=(8,5))\n",
    "bins = np.histogram(nopts_plot['decode_duration'], bins=1000)[1]\n",
    "# ax.hist(nopts_plot['simulation_duration'], bins=bins, color='darkviolet', alpha=0.9, density=True, \n",
    "#         label='simulation duration $(\\mu = {:0.0f})$'.format(nopts['simulation_duration'].values.mean()))\n",
    "ax.hist(nopts_plot['decode_duration'], bins=bins, color='teal', alpha=0.9, density=True, \n",
    "        label='block propagation latency $(\\mu = {:0.0f})$'.format(nopts['decode_duration'].values.mean()))\n",
    "ax.set_xlim(0, int(8e5))\n",
    "# ax.legend(loc=0)\n",
    "ax.set_xlabel('duration $(\\mu s)$', size=16)\n",
    "# ax.set_title('non-optimistic block submission durations', size=16)\n",
    "ax.set_title('block propagation latency; $\\mu = {:0.0f} \\mu s$'.format(nopts['decode_duration'].values.mean()), size=18)\n",
    "ax.ticklabel_format(style='sci', axis='x', scilimits=(0,0))\n",
    "plt.show()"
   ]
  },
  {
   "cell_type": "code",
   "execution_count": 47,
   "metadata": {},
   "outputs": [
    {
     "data": {
      "text/plain": [
       "13625.140963068376"
      ]
     },
     "execution_count": 47,
     "metadata": {},
     "output_type": "execute_result"
    }
   ],
   "source": [
    "nopts[nopts['decode_duration'] < 75000]['decode_duration'].mean()"
   ]
  },
  {
   "cell_type": "code",
   "execution_count": 51,
   "metadata": {},
   "outputs": [
    {
     "name": "stderr",
     "output_type": "stream",
     "text": [
      "<ipython-input-51-5eeb003bb764>:1: UserWarning: Boolean Series key will be reindexed to match DataFrame index.\n",
      "  nopts[nopts['decode_duration'] > 75000][nopts['decode_duration'] < 200000]['decode_duration'].mean()\n"
     ]
    },
    {
     "data": {
      "text/plain": [
       "106997.97334487914"
      ]
     },
     "execution_count": 51,
     "metadata": {},
     "output_type": "execute_result"
    }
   ],
   "source": [
    "nopts[nopts['decode_duration'] > 75000][nopts['decode_duration'] < 200000]['decode_duration'].mean()"
   ]
  },
  {
   "cell_type": "code",
   "execution_count": 49,
   "metadata": {},
   "outputs": [
    {
     "data": {
      "text/plain": [
       "8.996281167683382"
      ]
     },
     "execution_count": 49,
     "metadata": {},
     "output_type": "execute_result"
    }
   ],
   "source": [
    "122575.59905308344/13625.140963068376"
   ]
  },
  {
   "cell_type": "code",
   "execution_count": 191,
   "metadata": {},
   "outputs": [
    {
     "data": {
      "text/plain": [
       "0.004962"
      ]
     },
     "execution_count": 191,
     "metadata": {},
     "output_type": "execute_result"
    }
   ],
   "source": [
    "len(nopts[nopts['simulation_duration'] > int(1e6)]) / len(nopts) "
   ]
  },
  {
   "cell_type": "code",
   "execution_count": 60,
   "metadata": {},
   "outputs": [
    {
     "data": {
      "text/plain": [
       "[(50, 113377.0), (90, 218973.0), (99, 744570.2900000003)]"
      ]
     },
     "execution_count": 60,
     "metadata": {},
     "output_type": "execute_result"
    }
   ],
   "source": [
    "percs = [(int(i*100), np.quantile(nopts['simulation_duration'], i)) for i in [.50, .90, .99]]\n",
    "percs"
   ]
  },
  {
   "cell_type": "code",
   "execution_count": 61,
   "metadata": {},
   "outputs": [
    {
     "data": {
      "image/png": "[encoded data removed]",
      "text/plain": [
       "<Figure size 576x360 with 1 Axes>"
      ]
     },
     "metadata": {
      "needs_background": "light"
     },
     "output_type": "display_data"
    }
   ],
   "source": [
    "f, ax = plt.subplots(figsize=(8,5))\n",
    "\n",
    "bins = np.histogram(nopts['simulation_duration'], bins=600)[1]\n",
    "# ax.hist(mwins['diff'], bins, color='b', alpha=0.5, cumulative=0, density=True, label='pdf')\n",
    "ax.hist(nopts['simulation_duration'], bins, color='g', alpha=0.5, cumulative=1, density=True, label='cdf')\n",
    "linestyle = ['-', '--', ':']\n",
    "for i, v in enumerate(percs):\n",
    "    ax.axvline(v[1], label='p{}={:0.0f}'.format(v[0], v[1]), color='k', linestyle=linestyle[i], linewidth=3, alpha=0.7)\n",
    "ax.set_xlim(0,int(8e5))\n",
    "ax.ticklabel_format(style='sci', axis='x', scilimits=(0,0))\n",
    "ax.set_xlabel('duration $(\\mu s)$', size=16)\n",
    "ax.set_title('simulation latency; $\\mu={:0.0f} \\mu s$'.format(nopts['simulation_duration'].mean()), size=18)\n",
    "plt.legend(loc=4)\n",
    "plt.show()"
   ]
  },
  {
   "cell_type": "markdown",
   "metadata": {},
   "source": [
    "## opt submissions"
   ]
  },
  {
   "cell_type": "code",
   "execution_count": 52,
   "metadata": {},
   "outputs": [
    {
     "data": {
      "text/html": [
       "<div>\n",
       "<style scoped>\n",
       "    .dataframe tbody tr th:only-of-type {\n",
       "        vertical-align: middle;\n",
       "    }\n",
       "\n",
       "    .dataframe tbody tr th {\n",
       "        vertical-align: top;\n",
       "    }\n",
       "\n",
       "    .dataframe thead th {\n",
       "        text-align: right;\n",
       "    }\n",
       "</style>\n",
       "<table border=\"1\" class=\"dataframe\">\n",
       "  <thead>\n",
       "    <tr style=\"text-align: right;\">\n",
       "      <th></th>\n",
       "      <th>received_at</th>\n",
       "      <th>optimistic_submission</th>\n",
       "      <th>decode_duration</th>\n",
       "      <th>prechecks_duration</th>\n",
       "      <th>simulation_duration</th>\n",
       "      <th>redis_update_duration</th>\n",
       "      <th>total_duration</th>\n",
       "      <th>substring</th>\n",
       "    </tr>\n",
       "  </thead>\n",
       "  <tbody>\n",
       "    <tr>\n",
       "      <th>0</th>\n",
       "      <td>2023-03-17 12:12:33.673550</td>\n",
       "      <td>t</td>\n",
       "      <td>12062</td>\n",
       "      <td>1407</td>\n",
       "      <td>11</td>\n",
       "      <td>5999</td>\n",
       "      <td>19481</td>\n",
       "      <td>0xb33333</td>\n",
       "    </tr>\n",
       "    <tr>\n",
       "      <th>1</th>\n",
       "      <td>2023-03-17 12:12:20.659166</td>\n",
       "      <td>t</td>\n",
       "      <td>101735</td>\n",
       "      <td>1449</td>\n",
       "      <td>7</td>\n",
       "      <td>5578</td>\n",
       "      <td>108770</td>\n",
       "      <td>0x83d349</td>\n",
       "    </tr>\n",
       "    <tr>\n",
       "      <th>2</th>\n",
       "      <td>2023-03-17 12:12:20.822450</td>\n",
       "      <td>t</td>\n",
       "      <td>11241</td>\n",
       "      <td>2096</td>\n",
       "      <td>10</td>\n",
       "      <td>6061</td>\n",
       "      <td>19409</td>\n",
       "      <td>0x978a35</td>\n",
       "    </tr>\n",
       "    <tr>\n",
       "      <th>3</th>\n",
       "      <td>2023-03-17 12:12:21.083129</td>\n",
       "      <td>t</td>\n",
       "      <td>135937</td>\n",
       "      <td>1408</td>\n",
       "      <td>10</td>\n",
       "      <td>8629</td>\n",
       "      <td>145986</td>\n",
       "      <td>0x83d349</td>\n",
       "    </tr>\n",
       "    <tr>\n",
       "      <th>4</th>\n",
       "      <td>2023-03-17 12:12:22.254343</td>\n",
       "      <td>t</td>\n",
       "      <td>234029</td>\n",
       "      <td>1672</td>\n",
       "      <td>7</td>\n",
       "      <td>5794</td>\n",
       "      <td>241504</td>\n",
       "      <td>0x83d349</td>\n",
       "    </tr>\n",
       "  </tbody>\n",
       "</table>\n",
       "</div>"
      ],
      "text/plain": [
       "                 received_at optimistic_submission  decode_duration  \\\n",
       "0 2023-03-17 12:12:33.673550                     t            12062   \n",
       "1 2023-03-17 12:12:20.659166                     t           101735   \n",
       "2 2023-03-17 12:12:20.822450                     t            11241   \n",
       "3 2023-03-17 12:12:21.083129                     t           135937   \n",
       "4 2023-03-17 12:12:22.254343                     t           234029   \n",
       "\n",
       "   prechecks_duration  simulation_duration  redis_update_duration  \\\n",
       "0                1407                   11                   5999   \n",
       "1                1449                    7                   5578   \n",
       "2                2096                   10                   6061   \n",
       "3                1408                   10                   8629   \n",
       "4                1672                    7                   5794   \n",
       "\n",
       "   total_duration substring  \n",
       "0           19481  0xb33333  \n",
       "1          108770  0x83d349  \n",
       "2           19409  0x978a35  \n",
       "3          145986  0x83d349  \n",
       "4          241504  0x83d349  "
      ]
     },
     "execution_count": 52,
     "metadata": {},
     "output_type": "execute_result"
    }
   ],
   "source": [
    "yopts = pd.read_csv('rollout/big/optsubs.txt', delimiter=\"|\")\n",
    "yopts['received_at'] = pd.to_datetime(yopts['received_at'], format=\"%Y-%m-%d%H:%M:%S.%f\")\n",
    "# nopts['slot_boundary'] = np.asarray([pd.Timestamp(x).round(freq='12S') for x in nopts['received_at'].values])\n",
    "yopts.head()"
   ]
  },
  {
   "cell_type": "code",
   "execution_count": 53,
   "metadata": {},
   "outputs": [
    {
     "data": {
      "text/plain": [
       "912063"
      ]
     },
     "execution_count": 53,
     "metadata": {},
     "output_type": "execute_result"
    }
   ],
   "source": [
    "len(yopts)"
   ]
  },
  {
   "cell_type": "code",
   "execution_count": 54,
   "metadata": {},
   "outputs": [
    {
     "data": {
      "text/plain": [
       "19479"
      ]
     },
     "execution_count": 54,
     "metadata": {},
     "output_type": "execute_result"
    }
   ],
   "source": [
    "12062 + 11 + 5999 + 1407"
   ]
  },
  {
   "cell_type": "code",
   "execution_count": 55,
   "metadata": {},
   "outputs": [
    {
     "data": {
      "text/plain": [
       "990000"
      ]
     },
     "execution_count": 55,
     "metadata": {},
     "output_type": "execute_result"
    }
   ],
   "source": [
    "yopts_plot = yopts[yopts['total_duration'] < np.quantile(yopts['total_duration'].values, 0.99)]\n",
    "len(nopts_plot)"
   ]
  },
  {
   "cell_type": "code",
   "execution_count": 161,
   "metadata": {},
   "outputs": [
    {
     "data": {
      "image/png": "[encoded data removed]",
      "text/plain": [
       "<Figure size 576x360 with 1 Axes>"
      ]
     },
     "metadata": {
      "needs_background": "light"
     },
     "output_type": "display_data"
    }
   ],
   "source": [
    "f, ax = plt.subplots(figsize=(8,5))\n",
    "bins = np.histogram(yopts_plot['total_duration'], bins=1000)[1]\n",
    "ax.hist(yopts_plot['simulation_duration'], bins=bins, color='darkviolet', alpha=0.9, density=True, \n",
    "        label='simulation duration $(\\mu = {:0.0f})$'.format(yopts['simulation_duration'].values.mean()))\n",
    "ax.hist(yopts_plot['total_duration'], bins=bins, color='peru', alpha=0.9, density=True, \n",
    "        label='total duration $(\\mu = {:0.0f})$'.format(yopts['total_duration'].values.mean()))\n",
    "ax.set_xlim(0, int(2e5))\n",
    "ax.legend(loc=0)\n",
    "ax.set_xlabel('duration $(\\mu s)$', size=14)\n",
    "ax.set_title('non-optimistic block submission durations', size=16)\n",
    "plt.show()"
   ]
  },
  {
   "cell_type": "markdown",
   "metadata": {},
   "source": [
    "## block size & latency"
   ]
  },
  {
   "cell_type": "code",
   "execution_count": 2,
   "metadata": {},
   "outputs": [
    {
     "data": {
      "text/html": [
       "<div>\n",
       "<style scoped>\n",
       "    .dataframe tbody tr th:only-of-type {\n",
       "        vertical-align: middle;\n",
       "    }\n",
       "\n",
       "    .dataframe tbody tr th {\n",
       "        vertical-align: top;\n",
       "    }\n",
       "\n",
       "    .dataframe thead th {\n",
       "        text-align: right;\n",
       "    }\n",
       "</style>\n",
       "<table border=\"1\" class=\"dataframe\">\n",
       "  <thead>\n",
       "    <tr style=\"text-align: right;\">\n",
       "      <th></th>\n",
       "      <th>bytes</th>\n",
       "      <th>decode_duration</th>\n",
       "      <th>pubkey</th>\n",
       "    </tr>\n",
       "  </thead>\n",
       "  <tbody>\n",
       "    <tr>\n",
       "      <th>0</th>\n",
       "      <td>55660</td>\n",
       "      <td>12369</td>\n",
       "      <td>0xa971c4ee4ac5d47e0fb9e16be05981bfe51458f14c06...</td>\n",
       "    </tr>\n",
       "    <tr>\n",
       "      <th>1</th>\n",
       "      <td>52714</td>\n",
       "      <td>31733</td>\n",
       "      <td>0x83d3495a2951065cf19c4d282afca0a635a39f6504bd...</td>\n",
       "    </tr>\n",
       "    <tr>\n",
       "      <th>2</th>\n",
       "      <td>56012</td>\n",
       "      <td>10890</td>\n",
       "      <td>0xa4fb63c2ceeee73d1f1711fadf1c5357ac98cecb999d...</td>\n",
       "    </tr>\n",
       "    <tr>\n",
       "      <th>3</th>\n",
       "      <td>53879</td>\n",
       "      <td>124424</td>\n",
       "      <td>0xa66f3abc04df65c16eb32151f2a92cb7921efdba4c25...</td>\n",
       "    </tr>\n",
       "    <tr>\n",
       "      <th>4</th>\n",
       "      <td>51754</td>\n",
       "      <td>255603</td>\n",
       "      <td>0x8cb3cb2fdc996d14bf30bc56c94d93f250245cfd4578...</td>\n",
       "    </tr>\n",
       "  </tbody>\n",
       "</table>\n",
       "</div>"
      ],
      "text/plain": [
       "   bytes  decode_duration                                             pubkey\n",
       "0  55660            12369  0xa971c4ee4ac5d47e0fb9e16be05981bfe51458f14c06...\n",
       "1  52714            31733  0x83d3495a2951065cf19c4d282afca0a635a39f6504bd...\n",
       "2  56012            10890  0xa4fb63c2ceeee73d1f1711fadf1c5357ac98cecb999d...\n",
       "3  53879           124424  0xa66f3abc04df65c16eb32151f2a92cb7921efdba4c25...\n",
       "4  51754           255603  0x8cb3cb2fdc996d14bf30bc56c94d93f250245cfd4578..."
      ]
     },
     "execution_count": 2,
     "metadata": {},
     "output_type": "execute_result"
    }
   ],
   "source": [
    "pdurs = pd.read_csv('frontier/payload_durs.txt', delimiter='|', names=['bytes', 'decode_duration', 'pubkey'])\n",
    "pdurs.head()"
   ]
  },
  {
   "cell_type": "code",
   "execution_count": 3,
   "metadata": {},
   "outputs": [
    {
     "data": {
      "image/png": "[encoded data removed]",
      "text/plain": [
       "<Figure size 504x360 with 1 Axes>"
      ]
     },
     "metadata": {
      "needs_background": "light"
     },
     "output_type": "display_data"
    }
   ],
   "source": [
    "f, ax = plt.subplots(figsize=(7,5))\n",
    "ax.plot(pdurs['bytes'], pdurs['decode_duration'], color='firebrick', marker=',', alpha=0.3, linestyle='None')\n",
    "ax.set_ylim(0, int(5e5))\n",
    "ax.set_xlim(0, int(5e5))\n",
    "# ax.set_xticks(np.arange(0, int(5e5), int(1e5)))\n",
    "# ax.set_xticklabels(np.arange(0, int(5e5), int(1e5)))\n",
    "ax.set_xlabel('execution payload size (bytes)', size=15)\n",
    "ax.set_ylabel('decode duration $(\\mu s)$', size=15)\n",
    "plt.show()"
   ]
  },
  {
   "cell_type": "code",
   "execution_count": 4,
   "metadata": {},
   "outputs": [
    {
     "data": {
      "text/plain": [
       "Index(['0xa66f3abc04df65c16eb32151f2a92cb7921efdba4c25ab61b969a2af24b61508783ceb48175ef252ec9f82c6cdf8d8fd',\n",
       "       '0x978a35c39c41aadbe35ea29712bccffb117cc6ebcad4d86ea463d712af1dc80131d0c650dc29ba29ef27c881f43bd587',\n",
       "       '0xb67eaa5efcfa1d17319c344e1e5167811afbfe7922a2cf01c9a361f465597a5dc3a5472bd98843bac88d2541a78eab08',\n",
       "       '0x8bc8d110f8b5207e7edc407e8fa033937ddfe8d2c6f18c12a6171400eb6e04d49238ba2b0a95e633d15558e6a706fbe4',\n",
       "       '0x96a59d355b1f65e270b29981dd113625732539e955a1beeecbc471dd0196c4804574ff871d47ed34ff6d921061e9fc27',\n",
       "       '0x83d3495a2951065cf19c4d282afca0a635a39f6504bd76282ed0138fe28680ec60fa3fd149e6d27a94a7d90e7b1fb640',\n",
       "       '0xb5d883565500910f3f10f0a2e3a031139d972117a3b67da191ff93ba00ba26502d9b65385b5bca5e7c587273e40f2319',\n",
       "       '0xa4fb63c2ceeee73d1f1711fadf1c5357ac98cecb999d053be613f469a48f7416999a4da35dd60a7824478661399e6772',\n",
       "       '0xa971c4ee4ac5d47e0fb9e16be05981bfe51458f14c06b7a020304099c23d2d9952d4254cc50f291c385d15e7cae0cf9d',\n",
       "       '0xb194b2b8ec91a71c18f8483825234679299d146495a08db3bf3fb955e1d85a5fca77e88de93a74f4e32320fc922d3027'],\n",
       "      dtype='object')"
      ]
     },
     "execution_count": 4,
     "metadata": {},
     "output_type": "execute_result"
    }
   ],
   "source": [
    "tops = pdurs['pubkey'].value_counts()[:10].index\n",
    "tops"
   ]
  },
  {
   "cell_type": "code",
   "execution_count": 5,
   "metadata": {},
   "outputs": [],
   "source": [
    "pk_durs = {}\n",
    "for i in tops:\n",
    "    pk_durs[i] = pdurs[pdurs['pubkey']==i]"
   ]
  },
  {
   "cell_type": "code",
   "execution_count": 6,
   "metadata": {},
   "outputs": [
    {
     "data": {
      "image/png": "[encoded data removed]",
      "text/plain": [
       "<Figure size 504x360 with 1 Axes>"
      ]
     },
     "metadata": {
      "needs_background": "light"
     },
     "output_type": "display_data"
    }
   ],
   "source": [
    "f, ax = plt.subplots(figsize=(7,5))\n",
    "colors = plt.cm.copper(np.linspace(0, 1, 10))\n",
    "for i,pk in enumerate(pk_durs):\n",
    "    val = pk_durs[pk]\n",
    "    ax.plot(val['bytes'], val['decode_duration'], color=colors[i], marker=',', alpha=0.3, linestyle='None')\n",
    "ax.set_ylim(0, int(2e5))\n",
    "ax.set_xlim(0, int(5e5))\n",
    "ax.set_xticks(np.arange(0, int(5e5), int(1e5)))\n",
    "ax.set_xticklabels(np.arange(0, int(5e5), int(1e5)))\n",
    "ax.set_xlabel('execution payload size (bytes)', size=15)\n",
    "ax.set_ylabel('decode duration $(\\mu s)$', size=15)\n",
    "plt.show()"
   ]
  },
  {
   "cell_type": "code",
   "execution_count": 7,
   "metadata": {},
   "outputs": [
    {
     "data": {
      "text/plain": [
       "'0xb67eaa5efcfa1d17319c344e1e5167811afbfe7922a2cf01c9a361f465597a5dc3a5472bd98843bac88d2541a78eab08'"
      ]
     },
     "execution_count": 7,
     "metadata": {},
     "output_type": "execute_result"
    }
   ],
   "source": [
    "tops[2]"
   ]
  },
  {
   "cell_type": "code",
   "execution_count": 8,
   "metadata": {},
   "outputs": [
    {
     "data": {
      "text/plain": [
       "'0x978a35c39c41aadbe35ea29712bccffb117cc6ebcad4d86ea463d712af1dc80131d0c650dc29ba29ef27c881f43bd587'"
      ]
     },
     "execution_count": 8,
     "metadata": {},
     "output_type": "execute_result"
    }
   ],
   "source": [
    "tops[1]"
   ]
  },
  {
   "cell_type": "code",
   "execution_count": 22,
   "metadata": {},
   "outputs": [
    {
     "data": {
      "text/plain": [
       "(array([0.21308517]), -8002.659109032313)"
      ]
     },
     "execution_count": 22,
     "metadata": {},
     "output_type": "execute_result"
    }
   ],
   "source": [
    "X, y = np.reshape(val['bytes'].values, (-1,1)), val['decode_duration']\n",
    "reg = LinearRegression().fit(X,y)\n",
    "reg.score(X,y)\n",
    "reg.coef_, reg.intercept_"
   ]
  },
  {
   "cell_type": "code",
   "execution_count": 26,
   "metadata": {},
   "outputs": [
    {
     "data": {
      "image/png": "[encoded data removed]",
      "text/plain": [
       "<Figure size 504x360 with 1 Axes>"
      ]
     },
     "metadata": {
      "needs_background": "light"
     },
     "output_type": "display_data"
    }
   ],
   "source": [
    "f, ax = plt.subplots(figsize=(7,5))\n",
    "# colors = plt.cm.copper(np.linspace(0, 1, 10))\n",
    "val = pk_durs[tops[2]]\n",
    "X, y = np.reshape(val['bytes'].values, (-1,1)), val['decode_duration']\n",
    "reg = LinearRegression().fit(X,y)\n",
    "# reg.score(X,y)\n",
    "reg.coef_, reg.intercept_\n",
    "ax.plot(np.arange(0, 500000) * reg.coef_ + reg.intercept_, color='firebrick', linewidth=3)\n",
    "ax.plot(val['bytes'], val['decode_duration'], color='firebrick', marker='.', alpha=0.1, linestyle='None', \n",
    "        markersize=3, label='pubkey 1')\n",
    "\n",
    "val = pk_durs[tops[1]]\n",
    "X, y = np.reshape(val['bytes'].values, (-1,1)), val['decode_duration']\n",
    "reg = LinearRegression().fit(X,y)\n",
    "# reg.score(X,y)\n",
    "reg.coef_, reg.intercept_\n",
    "ax.plot(np.arange(0, 500000) * reg.coef_ + reg.intercept_, color='navy', linewidth=3)\n",
    "ax.plot(val['bytes'], val['decode_duration'], color='navy', marker='.', alpha=0.1, linestyle='None', \n",
    "        markersize=3, label='pubkey 2')\n",
    "ax.set_ylim(0, int(3e5))\n",
    "ax.set_xlim(0, int(5e5))\n",
    "# ax.set_xticks(np.arange(0, int(5e5), int(1e5)))\n",
    "# ax.set_xticklabels(np.arange(0, int(5e5), int(1e5)))\n",
    "ax.set_xlabel('execution payload size (bytes)', size=15)\n",
    "ax.set_ylabel('decode duration $(\\mu s)$', size=15)\n",
    "lgnd = ax.legend(markerscale=6)\n",
    "plt.show()"
   ]
  },
  {
   "cell_type": "code",
   "execution_count": 265,
   "metadata": {},
   "outputs": [],
   "source": [
    "pk1 = pk_durs[tops[2]]\n",
    "pk2 = pk_durs[tops[1]]"
   ]
  },
  {
   "cell_type": "code",
   "execution_count": 266,
   "metadata": {},
   "outputs": [],
   "source": [
    "normalized1 = pk1['decode_duration'] / pk1['bytes']\n",
    "normalized2 = pk2['decode_duration'] / pk2['bytes']"
   ]
  },
  {
   "cell_type": "code",
   "execution_count": 274,
   "metadata": {},
   "outputs": [
    {
     "data": {
      "text/plain": [
       "1.32258861178476"
      ]
     },
     "execution_count": 274,
     "metadata": {},
     "output_type": "execute_result"
    }
   ],
   "source": [
    "normalized1.mean()"
   ]
  },
  {
   "cell_type": "code",
   "execution_count": 273,
   "metadata": {},
   "outputs": [
    {
     "data": {
      "text/plain": [
       "0.17164546399480177"
      ]
     },
     "execution_count": 273,
     "metadata": {},
     "output_type": "execute_result"
    }
   ],
   "source": [
    "normalized2.mean()"
   ]
  },
  {
   "cell_type": "code",
   "execution_count": 267,
   "metadata": {},
   "outputs": [
    {
     "data": {
      "text/plain": [
       "(4280, 5133)"
      ]
     },
     "execution_count": 267,
     "metadata": {},
     "output_type": "execute_result"
    }
   ],
   "source": [
    "len(normalized1), len(normalized2)"
   ]
  },
  {
   "cell_type": "code",
   "execution_count": 276,
   "metadata": {},
   "outputs": [
    {
     "data": {
      "image/png": "[encoded data removed]",
      "text/plain": [
       "<Figure size 576x360 with 1 Axes>"
      ]
     },
     "metadata": {
      "needs_background": "light"
     },
     "output_type": "display_data"
    }
   ],
   "source": [
    "f, ax = plt.subplots(figsize=(8,5))\n",
    "bins = np.histogram(normalized1, bins=300)[1]\n",
    "ax.hist(normalized2, bins=bins, color='navy', alpha=0.9, density=True, \n",
    "        label='decode duration $(\\mu = {:0.3f})$'.format(normalized1.mean()))\n",
    "ax.hist(normalized1, bins=bins, color='firebrick', alpha=0.9, density=True, \n",
    "        label='decode duration $(\\mu = {:0.3f})$'.format(normalized2.mean()))\n",
    "ax.set_xlim(0, 4)\n",
    "ax.legend(loc=0)\n",
    "# ax.set_xlabel('duration $(\\mu s)$', size=14)\n",
    "# ax.set_title('non-optimistic block submission durations', size=16)\n",
    "plt.show()"
   ]
  },
  {
   "cell_type": "markdown",
   "metadata": {},
   "source": [
    "## compare single builder"
   ]
  },
  {
   "cell_type": "code",
   "execution_count": 53,
   "metadata": {},
   "outputs": [
    {
     "data": {
      "text/plain": [
       "(5918450, 6120050)"
      ]
     },
     "execution_count": 53,
     "metadata": {},
     "output_type": "execute_result"
    }
   ],
   "source": [
    "6019250 - 7200 * 14, 6019250 + 7200 * 14\n",
    "# 6019250 - 7200 * 7, 6019250\n",
    "# 6019250, 6019250 + 7200 * 7\n",
    "# 6019250 + 7200 * 7, 6019250 + 7200 * 14"
   ]
  },
  {
   "cell_type": "code",
   "execution_count": 91,
   "metadata": {},
   "outputs": [
    {
     "name": "stdout",
     "output_type": "stream",
     "text": [
      "start=6120050\n",
      "start=6078154\n",
      "start=6045954\n",
      "start=6028835\n",
      "start=6011609\n",
      "start=5995078\n",
      "start=5983269\n",
      "start=5957330\n",
      "start=5931503\n"
     ]
    },
    {
     "data": {
      "text/plain": [
       "1800"
      ]
     },
     "execution_count": 91,
     "metadata": {},
     "output_type": "execute_result"
    }
   ],
   "source": [
    "start = 6120050\n",
    "end = 5918450 # 14 days ago\n",
    "payload = {\n",
    "    'builder_pubkey': '0xb5d883565500910f3f10f0a2e3a031139d972117a3b67da191ff93ba00ba26502d9b65385b5bca5e7c587273e40f2319',\n",
    "}\n",
    "total_df = pd.DataFrame()\n",
    "while start > end:\n",
    "    print('start={}'.format(start))\n",
    "    payload['cursor'] = start\n",
    "    r = requests.get(\n",
    "#         'https://relay.ultrasound.money/relay/v1/data/bidtraces/proposer_payload_delivered',\n",
    "#         'https://agnostic-relay.net/relay/v1/data/bidtraces/proposer_payload_delivered',\n",
    "        'https://boost-relay.flashbots.net/relay/v1/data/bidtraces/proposer_payload_delivered',\n",
    "        params=payload\n",
    "    )\n",
    "    out_df = pd.DataFrame(json.loads(r.text))\n",
    "    total_df = total_df.append(out_df)\n",
    "    total_df = total_df.sort_values('slot').reset_index(drop=True)\n",
    "    start = int(total_df['slot'].min())\n",
    "len(total_df)"
   ]
  },
  {
   "cell_type": "code",
   "execution_count": 92,
   "metadata": {},
   "outputs": [
    {
     "data": {
      "text/html": [
       "<div>\n",
       "<style scoped>\n",
       "    .dataframe tbody tr th:only-of-type {\n",
       "        vertical-align: middle;\n",
       "    }\n",
       "\n",
       "    .dataframe tbody tr th {\n",
       "        vertical-align: top;\n",
       "    }\n",
       "\n",
       "    .dataframe thead th {\n",
       "        text-align: right;\n",
       "    }\n",
       "</style>\n",
       "<table border=\"1\" class=\"dataframe\">\n",
       "  <thead>\n",
       "    <tr style=\"text-align: right;\">\n",
       "      <th></th>\n",
       "      <th>slot</th>\n",
       "      <th>parent_hash</th>\n",
       "      <th>block_hash</th>\n",
       "      <th>builder_pubkey</th>\n",
       "      <th>proposer_pubkey</th>\n",
       "      <th>proposer_fee_recipient</th>\n",
       "      <th>gas_limit</th>\n",
       "      <th>gas_used</th>\n",
       "      <th>value</th>\n",
       "      <th>num_tx</th>\n",
       "      <th>block_number</th>\n",
       "    </tr>\n",
       "  </thead>\n",
       "  <tbody>\n",
       "    <tr>\n",
       "      <th>0</th>\n",
       "      <td>5906288</td>\n",
       "      <td>0x9efc61606e95257013619ce20d173830403117a2e5dd...</td>\n",
       "      <td>0x45865512e8619283d39ac8e4ec55bdfe8f7a8352e433...</td>\n",
       "      <td>0xb5d883565500910f3f10f0a2e3a031139d972117a3b6...</td>\n",
       "      <td>0x86cf472496e32a04ea818c98200634e5170b866b88c3...</td>\n",
       "      <td>0xcbfa884044546d5569e2abff3fb429301b61562a</td>\n",
       "      <td>30000000</td>\n",
       "      <td>23563742</td>\n",
       "      <td>43538471539681889</td>\n",
       "      <td>123</td>\n",
       "      <td>16735892</td>\n",
       "    </tr>\n",
       "    <tr>\n",
       "      <th>1</th>\n",
       "      <td>5906348</td>\n",
       "      <td>0x96e6a6a63ef80f8401de83091644061ea3a25def8cf8...</td>\n",
       "      <td>0x2694c8bff01e7b7084639e964dda132645b8f6e5e5fe...</td>\n",
       "      <td>0xb5d883565500910f3f10f0a2e3a031139d972117a3b6...</td>\n",
       "      <td>0x991bbf4bd8aa3cd52e242566146325286fb7c6c5ce3c...</td>\n",
       "      <td>0xe688b84b23f322a994a53dbf8e15fa82cdb71127</td>\n",
       "      <td>30000000</td>\n",
       "      <td>15905248</td>\n",
       "      <td>162506887935300025</td>\n",
       "      <td>139</td>\n",
       "      <td>16735952</td>\n",
       "    </tr>\n",
       "    <tr>\n",
       "      <th>2</th>\n",
       "      <td>5906728</td>\n",
       "      <td>0x9e532e545b1bec57f4e0ba89d8da1e8d0c5f75fec640...</td>\n",
       "      <td>0x0e51697198a9825845626fd4b4e6266e3dab52305321...</td>\n",
       "      <td>0xb5d883565500910f3f10f0a2e3a031139d972117a3b6...</td>\n",
       "      <td>0xb83292d8b37d1e3a1389834b295bf6388c929e4010e4...</td>\n",
       "      <td>0xf588c58f467db3711b558f5294de4900b535ce69</td>\n",
       "      <td>30000000</td>\n",
       "      <td>13677241</td>\n",
       "      <td>36612392919472856</td>\n",
       "      <td>138</td>\n",
       "      <td>16736327</td>\n",
       "    </tr>\n",
       "    <tr>\n",
       "      <th>3</th>\n",
       "      <td>5906750</td>\n",
       "      <td>0x37cc63d00b2260da8fa3d0a2d46ff4bde4e834ea31e8...</td>\n",
       "      <td>0xb647b6ac003e582a81f9bcc9a131c5dd83c9e0e24b94...</td>\n",
       "      <td>0xb5d883565500910f3f10f0a2e3a031139d972117a3b6...</td>\n",
       "      <td>0xb1908bdfb42d311503e3a1247c70f34de958ce1a288c...</td>\n",
       "      <td>0xeee27662c2b8eba3cd936a23f039f3189633e4c8</td>\n",
       "      <td>30000000</td>\n",
       "      <td>12469380</td>\n",
       "      <td>34852714177859339</td>\n",
       "      <td>118</td>\n",
       "      <td>16736349</td>\n",
       "    </tr>\n",
       "    <tr>\n",
       "      <th>4</th>\n",
       "      <td>5906994</td>\n",
       "      <td>0x54299a967445978e41d59ab6a58a43ddb82bdd3844b6...</td>\n",
       "      <td>0xaf846a48ae0bd1b0447cd8290b75c71bd8ef0e14c379...</td>\n",
       "      <td>0xb5d883565500910f3f10f0a2e3a031139d972117a3b6...</td>\n",
       "      <td>0x86e2284bef30536010afd267a34b2b8d384114d6e2a3...</td>\n",
       "      <td>0x388c818ca8b9251b393131c08a736a67ccb19297</td>\n",
       "      <td>30000000</td>\n",
       "      <td>16400179</td>\n",
       "      <td>71205256876223902</td>\n",
       "      <td>145</td>\n",
       "      <td>16736592</td>\n",
       "    </tr>\n",
       "  </tbody>\n",
       "</table>\n",
       "</div>"
      ],
      "text/plain": [
       "      slot                                        parent_hash  \\\n",
       "0  5906288  0x9efc61606e95257013619ce20d173830403117a2e5dd...   \n",
       "1  5906348  0x96e6a6a63ef80f8401de83091644061ea3a25def8cf8...   \n",
       "2  5906728  0x9e532e545b1bec57f4e0ba89d8da1e8d0c5f75fec640...   \n",
       "3  5906750  0x37cc63d00b2260da8fa3d0a2d46ff4bde4e834ea31e8...   \n",
       "4  5906994  0x54299a967445978e41d59ab6a58a43ddb82bdd3844b6...   \n",
       "\n",
       "                                          block_hash  \\\n",
       "0  0x45865512e8619283d39ac8e4ec55bdfe8f7a8352e433...   \n",
       "1  0x2694c8bff01e7b7084639e964dda132645b8f6e5e5fe...   \n",
       "2  0x0e51697198a9825845626fd4b4e6266e3dab52305321...   \n",
       "3  0xb647b6ac003e582a81f9bcc9a131c5dd83c9e0e24b94...   \n",
       "4  0xaf846a48ae0bd1b0447cd8290b75c71bd8ef0e14c379...   \n",
       "\n",
       "                                      builder_pubkey  \\\n",
       "0  0xb5d883565500910f3f10f0a2e3a031139d972117a3b6...   \n",
       "1  0xb5d883565500910f3f10f0a2e3a031139d972117a3b6...   \n",
       "2  0xb5d883565500910f3f10f0a2e3a031139d972117a3b6...   \n",
       "3  0xb5d883565500910f3f10f0a2e3a031139d972117a3b6...   \n",
       "4  0xb5d883565500910f3f10f0a2e3a031139d972117a3b6...   \n",
       "\n",
       "                                     proposer_pubkey  \\\n",
       "0  0x86cf472496e32a04ea818c98200634e5170b866b88c3...   \n",
       "1  0x991bbf4bd8aa3cd52e242566146325286fb7c6c5ce3c...   \n",
       "2  0xb83292d8b37d1e3a1389834b295bf6388c929e4010e4...   \n",
       "3  0xb1908bdfb42d311503e3a1247c70f34de958ce1a288c...   \n",
       "4  0x86e2284bef30536010afd267a34b2b8d384114d6e2a3...   \n",
       "\n",
       "                       proposer_fee_recipient gas_limit  gas_used  \\\n",
       "0  0xcbfa884044546d5569e2abff3fb429301b61562a  30000000  23563742   \n",
       "1  0xe688b84b23f322a994a53dbf8e15fa82cdb71127  30000000  15905248   \n",
       "2  0xf588c58f467db3711b558f5294de4900b535ce69  30000000  13677241   \n",
       "3  0xeee27662c2b8eba3cd936a23f039f3189633e4c8  30000000  12469380   \n",
       "4  0x388c818ca8b9251b393131c08a736a67ccb19297  30000000  16400179   \n",
       "\n",
       "                value num_tx block_number  \n",
       "0   43538471539681889    123     16735892  \n",
       "1  162506887935300025    139     16735952  \n",
       "2   36612392919472856    138     16736327  \n",
       "3   34852714177859339    118     16736349  \n",
       "4   71205256876223902    145     16736592  "
      ]
     },
     "execution_count": 92,
     "metadata": {},
     "output_type": "execute_result"
    }
   ],
   "source": [
    "fbs = total_df\n",
    "fbs.head()"
   ]
  },
  {
   "cell_type": "code",
   "execution_count": 90,
   "metadata": {},
   "outputs": [
    {
     "data": {
      "text/html": [
       "<div>\n",
       "<style scoped>\n",
       "    .dataframe tbody tr th:only-of-type {\n",
       "        vertical-align: middle;\n",
       "    }\n",
       "\n",
       "    .dataframe tbody tr th {\n",
       "        vertical-align: top;\n",
       "    }\n",
       "\n",
       "    .dataframe thead th {\n",
       "        text-align: right;\n",
       "    }\n",
       "</style>\n",
       "<table border=\"1\" class=\"dataframe\">\n",
       "  <thead>\n",
       "    <tr style=\"text-align: right;\">\n",
       "      <th></th>\n",
       "      <th>slot</th>\n",
       "      <th>parent_hash</th>\n",
       "      <th>block_hash</th>\n",
       "      <th>builder_pubkey</th>\n",
       "      <th>proposer_pubkey</th>\n",
       "      <th>proposer_fee_recipient</th>\n",
       "      <th>gas_limit</th>\n",
       "      <th>gas_used</th>\n",
       "      <th>value</th>\n",
       "      <th>num_tx</th>\n",
       "      <th>block_number</th>\n",
       "    </tr>\n",
       "  </thead>\n",
       "  <tbody>\n",
       "    <tr>\n",
       "      <th>0</th>\n",
       "      <td>5916491</td>\n",
       "      <td>0xd52fa0e358af2bf8a068bb662e20d94aab35e5ad959b...</td>\n",
       "      <td>0x372187aad0f0248f1f920199ab8ec18bd58505849aef...</td>\n",
       "      <td>0xb5d883565500910f3f10f0a2e3a031139d972117a3b6...</td>\n",
       "      <td>0x97a44bae77353efc880ce7bdd8b9a1e36318df52c828...</td>\n",
       "      <td>0x388c818ca8b9251b393131c08a736a67ccb19297</td>\n",
       "      <td>30000000</td>\n",
       "      <td>13532502</td>\n",
       "      <td>47289916604537270</td>\n",
       "      <td>111</td>\n",
       "      <td>16745956</td>\n",
       "    </tr>\n",
       "    <tr>\n",
       "      <th>1</th>\n",
       "      <td>5916627</td>\n",
       "      <td>0xd0fa0ae08992eff25de65732e5052c8953d3ace1b198...</td>\n",
       "      <td>0x871f7458c37060868416ba92259245f03eff524aa309...</td>\n",
       "      <td>0xb5d883565500910f3f10f0a2e3a031139d972117a3b6...</td>\n",
       "      <td>0x8054337e7a6685c6864e00278c4a1fd0bfd4d0d3e8b4...</td>\n",
       "      <td>0x388c818ca8b9251b393131c08a736a67ccb19297</td>\n",
       "      <td>30000000</td>\n",
       "      <td>11903787</td>\n",
       "      <td>37975283966225133</td>\n",
       "      <td>262</td>\n",
       "      <td>16746089</td>\n",
       "    </tr>\n",
       "    <tr>\n",
       "      <th>2</th>\n",
       "      <td>5916643</td>\n",
       "      <td>0xa5d30762f1b294a4edf469ae94088ef2002b6dcc8c7b...</td>\n",
       "      <td>0x95e5eb4b55dc81ca4e7628cd0a326b28b010fc5a53d3...</td>\n",
       "      <td>0xb5d883565500910f3f10f0a2e3a031139d972117a3b6...</td>\n",
       "      <td>0x8ce4be59e35ae8345bbfb28a14bd63342ac9440a26c2...</td>\n",
       "      <td>0x89dcbe15d44507ef7dc873f71daac94b43c1c669</td>\n",
       "      <td>30000000</td>\n",
       "      <td>7171873</td>\n",
       "      <td>25085120124520291</td>\n",
       "      <td>83</td>\n",
       "      <td>16746105</td>\n",
       "    </tr>\n",
       "    <tr>\n",
       "      <th>3</th>\n",
       "      <td>5916754</td>\n",
       "      <td>0xa59e74491ff2ce0c69ccf7010312b2b03c1ca07175b2...</td>\n",
       "      <td>0x0f11f8dbc8133b77035edc9936096f6d15873827e93a...</td>\n",
       "      <td>0xb5d883565500910f3f10f0a2e3a031139d972117a3b6...</td>\n",
       "      <td>0x8c4f1b1103333a907a44a58a6097200fc6caf1ad8110...</td>\n",
       "      <td>0x388c818ca8b9251b393131c08a736a67ccb19297</td>\n",
       "      <td>30000000</td>\n",
       "      <td>15364916</td>\n",
       "      <td>283028242228394456</td>\n",
       "      <td>154</td>\n",
       "      <td>16746216</td>\n",
       "    </tr>\n",
       "    <tr>\n",
       "      <th>4</th>\n",
       "      <td>5916812</td>\n",
       "      <td>0x98b74a7e82ba53604dda0665f99a8b44a4a96a3c5624...</td>\n",
       "      <td>0x6b693abdf15a7268ab2018eb94217b91624959b52b67...</td>\n",
       "      <td>0xb5d883565500910f3f10f0a2e3a031139d972117a3b6...</td>\n",
       "      <td>0xad2b531472fefb88e954ae3b719eb814d823a4ab0219...</td>\n",
       "      <td>0xe35bbafa0266089f95d745d348b468622805d82b</td>\n",
       "      <td>30000000</td>\n",
       "      <td>15735503</td>\n",
       "      <td>89535553800311005</td>\n",
       "      <td>165</td>\n",
       "      <td>16746274</td>\n",
       "    </tr>\n",
       "  </tbody>\n",
       "</table>\n",
       "</div>"
      ],
      "text/plain": [
       "      slot                                        parent_hash  \\\n",
       "0  5916491  0xd52fa0e358af2bf8a068bb662e20d94aab35e5ad959b...   \n",
       "1  5916627  0xd0fa0ae08992eff25de65732e5052c8953d3ace1b198...   \n",
       "2  5916643  0xa5d30762f1b294a4edf469ae94088ef2002b6dcc8c7b...   \n",
       "3  5916754  0xa59e74491ff2ce0c69ccf7010312b2b03c1ca07175b2...   \n",
       "4  5916812  0x98b74a7e82ba53604dda0665f99a8b44a4a96a3c5624...   \n",
       "\n",
       "                                          block_hash  \\\n",
       "0  0x372187aad0f0248f1f920199ab8ec18bd58505849aef...   \n",
       "1  0x871f7458c37060868416ba92259245f03eff524aa309...   \n",
       "2  0x95e5eb4b55dc81ca4e7628cd0a326b28b010fc5a53d3...   \n",
       "3  0x0f11f8dbc8133b77035edc9936096f6d15873827e93a...   \n",
       "4  0x6b693abdf15a7268ab2018eb94217b91624959b52b67...   \n",
       "\n",
       "                                      builder_pubkey  \\\n",
       "0  0xb5d883565500910f3f10f0a2e3a031139d972117a3b6...   \n",
       "1  0xb5d883565500910f3f10f0a2e3a031139d972117a3b6...   \n",
       "2  0xb5d883565500910f3f10f0a2e3a031139d972117a3b6...   \n",
       "3  0xb5d883565500910f3f10f0a2e3a031139d972117a3b6...   \n",
       "4  0xb5d883565500910f3f10f0a2e3a031139d972117a3b6...   \n",
       "\n",
       "                                     proposer_pubkey  \\\n",
       "0  0x97a44bae77353efc880ce7bdd8b9a1e36318df52c828...   \n",
       "1  0x8054337e7a6685c6864e00278c4a1fd0bfd4d0d3e8b4...   \n",
       "2  0x8ce4be59e35ae8345bbfb28a14bd63342ac9440a26c2...   \n",
       "3  0x8c4f1b1103333a907a44a58a6097200fc6caf1ad8110...   \n",
       "4  0xad2b531472fefb88e954ae3b719eb814d823a4ab0219...   \n",
       "\n",
       "                       proposer_fee_recipient gas_limit  gas_used  \\\n",
       "0  0x388c818ca8b9251b393131c08a736a67ccb19297  30000000  13532502   \n",
       "1  0x388c818ca8b9251b393131c08a736a67ccb19297  30000000  11903787   \n",
       "2  0x89dcbe15d44507ef7dc873f71daac94b43c1c669  30000000   7171873   \n",
       "3  0x388c818ca8b9251b393131c08a736a67ccb19297  30000000  15364916   \n",
       "4  0xe35bbafa0266089f95d745d348b468622805d82b  30000000  15735503   \n",
       "\n",
       "                value num_tx block_number  \n",
       "0   47289916604537270    111     16745956  \n",
       "1   37975283966225133    262     16746089  \n",
       "2   25085120124520291     83     16746105  \n",
       "3  283028242228394456    154     16746216  \n",
       "4   89535553800311005    165     16746274  "
      ]
     },
     "execution_count": 90,
     "metadata": {},
     "output_type": "execute_result"
    }
   ],
   "source": [
    "agn = total_df\n",
    "agn.head()"
   ]
  },
  {
   "cell_type": "code",
   "execution_count": 88,
   "metadata": {},
   "outputs": [
    {
     "data": {
      "text/html": [
       "<div>\n",
       "<style scoped>\n",
       "    .dataframe tbody tr th:only-of-type {\n",
       "        vertical-align: middle;\n",
       "    }\n",
       "\n",
       "    .dataframe tbody tr th {\n",
       "        vertical-align: top;\n",
       "    }\n",
       "\n",
       "    .dataframe thead th {\n",
       "        text-align: right;\n",
       "    }\n",
       "</style>\n",
       "<table border=\"1\" class=\"dataframe\">\n",
       "  <thead>\n",
       "    <tr style=\"text-align: right;\">\n",
       "      <th></th>\n",
       "      <th>slot</th>\n",
       "      <th>parent_hash</th>\n",
       "      <th>block_hash</th>\n",
       "      <th>builder_pubkey</th>\n",
       "      <th>proposer_pubkey</th>\n",
       "      <th>proposer_fee_recipient</th>\n",
       "      <th>gas_limit</th>\n",
       "      <th>gas_used</th>\n",
       "      <th>value</th>\n",
       "      <th>num_tx</th>\n",
       "      <th>block_number</th>\n",
       "    </tr>\n",
       "  </thead>\n",
       "  <tbody>\n",
       "    <tr>\n",
       "      <th>0</th>\n",
       "      <td>5911887</td>\n",
       "      <td>0xfa71ba6c5f292a2d8debfee25de1438b4274c2d19b4d...</td>\n",
       "      <td>0x6080da50c1ddc6140cd1a9335380bb70799f4f31bbf3...</td>\n",
       "      <td>0xb5d883565500910f3f10f0a2e3a031139d972117a3b6...</td>\n",
       "      <td>0x87f49d4c5c1590f7437ad76ea443869f6af93818fa7e...</td>\n",
       "      <td>0x388c818ca8b9251b393131c08a736a67ccb19297</td>\n",
       "      <td>30000000</td>\n",
       "      <td>11505140</td>\n",
       "      <td>66470279429311110</td>\n",
       "      <td>129</td>\n",
       "      <td>16741418</td>\n",
       "    </tr>\n",
       "    <tr>\n",
       "      <th>1</th>\n",
       "      <td>5911939</td>\n",
       "      <td>0xd8110dca8dbe595f117905b3fb1a1c5d4be051fb45ef...</td>\n",
       "      <td>0x5cfe2b489682c8849b946285a4867c5d290334a9871a...</td>\n",
       "      <td>0xb5d883565500910f3f10f0a2e3a031139d972117a3b6...</td>\n",
       "      <td>0x8dc070583a3e17bf6f2eb20c7761491985aa316e32c4...</td>\n",
       "      <td>0x0038598ecb3b308ebc6c6e2c635bacaa3c5298a3</td>\n",
       "      <td>30000000</td>\n",
       "      <td>15786798</td>\n",
       "      <td>51145643545553987</td>\n",
       "      <td>184</td>\n",
       "      <td>16741469</td>\n",
       "    </tr>\n",
       "    <tr>\n",
       "      <th>2</th>\n",
       "      <td>5911957</td>\n",
       "      <td>0xeb3d67fabcfa8071fae9e8c2ef30964a6c04d03f191f...</td>\n",
       "      <td>0xc7585d7924bec7bac4ff507d980dde9223e1cd2037b7...</td>\n",
       "      <td>0xb5d883565500910f3f10f0a2e3a031139d972117a3b6...</td>\n",
       "      <td>0xa16cc564e5d83b22a22b2d6da4867ee62583c1a340b5...</td>\n",
       "      <td>0x388c818ca8b9251b393131c08a736a67ccb19297</td>\n",
       "      <td>30000000</td>\n",
       "      <td>9711236</td>\n",
       "      <td>30335502170384884</td>\n",
       "      <td>153</td>\n",
       "      <td>16741487</td>\n",
       "    </tr>\n",
       "    <tr>\n",
       "      <th>3</th>\n",
       "      <td>5911979</td>\n",
       "      <td>0x066bc593f13bc7741fec5741373041657669ef32f330...</td>\n",
       "      <td>0x2cc112ed7169e646fa619870132a2bdd23ac37e00ae8...</td>\n",
       "      <td>0xb5d883565500910f3f10f0a2e3a031139d972117a3b6...</td>\n",
       "      <td>0x8f66b33eb8a07d67a28ab28624e767fbf5c328ce65d9...</td>\n",
       "      <td>0x388c818ca8b9251b393131c08a736a67ccb19297</td>\n",
       "      <td>30000000</td>\n",
       "      <td>18475710</td>\n",
       "      <td>60946012767826153</td>\n",
       "      <td>169</td>\n",
       "      <td>16741509</td>\n",
       "    </tr>\n",
       "    <tr>\n",
       "      <th>4</th>\n",
       "      <td>5911997</td>\n",
       "      <td>0xe3ccc4049898b05521361f6050a2af3275d9d940744e...</td>\n",
       "      <td>0x085cedb93d951ef7899c8546ec102c6c1529a033b019...</td>\n",
       "      <td>0xb5d883565500910f3f10f0a2e3a031139d972117a3b6...</td>\n",
       "      <td>0x819f896cadf6d425566141db3513eca9b041d6f5abba...</td>\n",
       "      <td>0x388c818ca8b9251b393131c08a736a67ccb19297</td>\n",
       "      <td>30000000</td>\n",
       "      <td>14840307</td>\n",
       "      <td>36457034696798354</td>\n",
       "      <td>140</td>\n",
       "      <td>16741527</td>\n",
       "    </tr>\n",
       "  </tbody>\n",
       "</table>\n",
       "</div>"
      ],
      "text/plain": [
       "      slot                                        parent_hash  \\\n",
       "0  5911887  0xfa71ba6c5f292a2d8debfee25de1438b4274c2d19b4d...   \n",
       "1  5911939  0xd8110dca8dbe595f117905b3fb1a1c5d4be051fb45ef...   \n",
       "2  5911957  0xeb3d67fabcfa8071fae9e8c2ef30964a6c04d03f191f...   \n",
       "3  5911979  0x066bc593f13bc7741fec5741373041657669ef32f330...   \n",
       "4  5911997  0xe3ccc4049898b05521361f6050a2af3275d9d940744e...   \n",
       "\n",
       "                                          block_hash  \\\n",
       "0  0x6080da50c1ddc6140cd1a9335380bb70799f4f31bbf3...   \n",
       "1  0x5cfe2b489682c8849b946285a4867c5d290334a9871a...   \n",
       "2  0xc7585d7924bec7bac4ff507d980dde9223e1cd2037b7...   \n",
       "3  0x2cc112ed7169e646fa619870132a2bdd23ac37e00ae8...   \n",
       "4  0x085cedb93d951ef7899c8546ec102c6c1529a033b019...   \n",
       "\n",
       "                                      builder_pubkey  \\\n",
       "0  0xb5d883565500910f3f10f0a2e3a031139d972117a3b6...   \n",
       "1  0xb5d883565500910f3f10f0a2e3a031139d972117a3b6...   \n",
       "2  0xb5d883565500910f3f10f0a2e3a031139d972117a3b6...   \n",
       "3  0xb5d883565500910f3f10f0a2e3a031139d972117a3b6...   \n",
       "4  0xb5d883565500910f3f10f0a2e3a031139d972117a3b6...   \n",
       "\n",
       "                                     proposer_pubkey  \\\n",
       "0  0x87f49d4c5c1590f7437ad76ea443869f6af93818fa7e...   \n",
       "1  0x8dc070583a3e17bf6f2eb20c7761491985aa316e32c4...   \n",
       "2  0xa16cc564e5d83b22a22b2d6da4867ee62583c1a340b5...   \n",
       "3  0x8f66b33eb8a07d67a28ab28624e767fbf5c328ce65d9...   \n",
       "4  0x819f896cadf6d425566141db3513eca9b041d6f5abba...   \n",
       "\n",
       "                       proposer_fee_recipient gas_limit  gas_used  \\\n",
       "0  0x388c818ca8b9251b393131c08a736a67ccb19297  30000000  11505140   \n",
       "1  0x0038598ecb3b308ebc6c6e2c635bacaa3c5298a3  30000000  15786798   \n",
       "2  0x388c818ca8b9251b393131c08a736a67ccb19297  30000000   9711236   \n",
       "3  0x388c818ca8b9251b393131c08a736a67ccb19297  30000000  18475710   \n",
       "4  0x388c818ca8b9251b393131c08a736a67ccb19297  30000000  14840307   \n",
       "\n",
       "               value num_tx block_number  \n",
       "0  66470279429311110    129     16741418  \n",
       "1  51145643545553987    184     16741469  \n",
       "2  30335502170384884    153     16741487  \n",
       "3  60946012767826153    169     16741509  \n",
       "4  36457034696798354    140     16741527  "
      ]
     },
     "execution_count": 88,
     "metadata": {},
     "output_type": "execute_result"
    }
   ],
   "source": [
    "usr = total_df\n",
    "usr.head()"
   ]
  },
  {
   "cell_type": "code",
   "execution_count": 9,
   "metadata": {},
   "outputs": [
    {
     "data": {
      "text/plain": [
       "(1600, 1400, 2600)"
      ]
     },
     "execution_count": 9,
     "metadata": {},
     "output_type": "execute_result"
    }
   ],
   "source": [
    "len(fbs), len(agn), len(usr)"
   ]
  },
  {
   "cell_type": "code",
   "execution_count": 10,
   "metadata": {},
   "outputs": [],
   "source": [
    "fbs['slot'] = pd.to_numeric(fbs['slot'])\n",
    "agn['slot'] = pd.to_numeric(agn['slot'])\n",
    "usr['slot'] = pd.to_numeric(usr['slot'])\n",
    "fbs['value'] = fbs['value'].astype(float)\n",
    "agn['value'] = agn['value'].astype(float)\n",
    "usr['value'] = usr['value'].astype(float)"
   ]
  },
  {
   "cell_type": "code",
   "execution_count": 17,
   "metadata": {},
   "outputs": [],
   "source": [
    "start = 6100517\n",
    "end = 5999717 \n",
    "hourly = np.arange(end, start, 1000)\n",
    "\n",
    "fbs_hourly = []\n",
    "agn_hourly = []\n",
    "usr_hourly = []\n",
    "for i in range(1,len(hourly)):\n",
    "    lb, ub = hourly[i-1], hourly[i]\n",
    "#     print(lb,ub)\n",
    "    fbs_hourly.append(len(fbs[(fbs['slot'] >= lb) & (fbs['slot'] < ub)]))\n",
    "    agn_hourly.append(len(agn[(agn['slot'] >= lb) & (agn['slot'] < ub)]))\n",
    "    usr_hourly.append(len(usr[(usr['slot'] >= lb) & (usr['slot'] < ub)]))\n",
    "fbs_hourly = np.asarray(fbs_hourly)\n",
    "agn_hourly = np.asarray(agn_hourly)\n",
    "usr_hourly = np.asarray(usr_hourly)"
   ]
  },
  {
   "cell_type": "code",
   "execution_count": 18,
   "metadata": {},
   "outputs": [
    {
     "data": {
      "text/plain": [
       "(100, 100, 100, 101)"
      ]
     },
     "execution_count": 18,
     "metadata": {},
     "output_type": "execute_result"
    }
   ],
   "source": [
    "len(fbs_hourly), len(agn_hourly), len(usr_hourly), len(hourly)"
   ]
  },
  {
   "cell_type": "code",
   "execution_count": 86,
   "metadata": {},
   "outputs": [],
   "source": [
    "out = pd.DataFrame()\n",
    "out['start_slot'] = hourly[1:]\n",
    "out['fbs'] = fbs_hourly\n",
    "out['agn'] = agn_hourly\n",
    "out['usr'] = usr_hourly"
   ]
  },
  {
   "cell_type": "code",
   "execution_count": 90,
   "metadata": {},
   "outputs": [
    {
     "data": {
      "text/html": [
       "<div>\n",
       "<style scoped>\n",
       "    .dataframe tbody tr th:only-of-type {\n",
       "        vertical-align: middle;\n",
       "    }\n",
       "\n",
       "    .dataframe tbody tr th {\n",
       "        vertical-align: top;\n",
       "    }\n",
       "\n",
       "    .dataframe thead th {\n",
       "        text-align: right;\n",
       "    }\n",
       "</style>\n",
       "<table border=\"1\" class=\"dataframe\">\n",
       "  <thead>\n",
       "    <tr style=\"text-align: right;\">\n",
       "      <th></th>\n",
       "      <th>start_slot</th>\n",
       "      <th>fbs</th>\n",
       "      <th>agn</th>\n",
       "      <th>usr</th>\n",
       "    </tr>\n",
       "  </thead>\n",
       "  <tbody>\n",
       "    <tr>\n",
       "      <th>106</th>\n",
       "      <td>6096017</td>\n",
       "      <td>8</td>\n",
       "      <td>7</td>\n",
       "      <td>10</td>\n",
       "    </tr>\n",
       "    <tr>\n",
       "      <th>107</th>\n",
       "      <td>6096917</td>\n",
       "      <td>11</td>\n",
       "      <td>9</td>\n",
       "      <td>10</td>\n",
       "    </tr>\n",
       "    <tr>\n",
       "      <th>108</th>\n",
       "      <td>6097817</td>\n",
       "      <td>6</td>\n",
       "      <td>10</td>\n",
       "      <td>4</td>\n",
       "    </tr>\n",
       "    <tr>\n",
       "      <th>109</th>\n",
       "      <td>6098717</td>\n",
       "      <td>7</td>\n",
       "      <td>9</td>\n",
       "      <td>7</td>\n",
       "    </tr>\n",
       "    <tr>\n",
       "      <th>110</th>\n",
       "      <td>6099617</td>\n",
       "      <td>6</td>\n",
       "      <td>6</td>\n",
       "      <td>11</td>\n",
       "    </tr>\n",
       "  </tbody>\n",
       "</table>\n",
       "</div>"
      ],
      "text/plain": [
       "     start_slot  fbs  agn  usr\n",
       "106     6096017    8    7   10\n",
       "107     6096917   11    9   10\n",
       "108     6097817    6   10    4\n",
       "109     6098717    7    9    7\n",
       "110     6099617    6    6   11"
      ]
     },
     "execution_count": 90,
     "metadata": {},
     "output_type": "execute_result"
    }
   ],
   "source": [
    "out.tail()"
   ]
  },
  {
   "cell_type": "code",
   "execution_count": 89,
   "metadata": {},
   "outputs": [],
   "source": [
    "out.to_csv(\"hourly.csv\")"
   ]
  },
  {
   "cell_type": "code",
   "execution_count": null,
   "metadata": {},
   "outputs": [],
   "source": [
    "start = 6100517\n",
    "end = 5999717 \n",
    "hourly = np.arange(end, start, 300)\n",
    "\n",
    "fbs_hourly_v = []\n",
    "agn_hourly_v = []\n",
    "usr_hourly_v = []\n",
    "for i in range(1,len(hourly)):\n",
    "    lb, ub = hourly[i-1], hourly[i]\n",
    "    sub = fbs[(fbs['slot'] >= lb) & (fbs['slot'] < ub)]\n",
    "    fbs_hourly_v.append([\n",
    "        fbs[(fbs['slot'] >= lb) & (fbs['slot'] < ub)]['value']\n",
    "    agn_hourly_v.append(len(agn[(agn['slot'] >= lb) & (agn['slot'] < ub)]))\n",
    "    usr_hourly_v.append(len(usr[(usr['slot'] >= lb) & (usr['slot'] < ub)]))\n",
    "fbs_hourly = np.asarray(fbs_hourly)\n",
    "agn_hourly = np.asarray(agn_hourly)\n",
    "usr_hourly = np.asarray(usr_hourly)"
   ]
  },
  {
   "cell_type": "code",
   "execution_count": 135,
   "metadata": {},
   "outputs": [
    {
     "data": {
      "text/plain": [
       "336"
      ]
     },
     "execution_count": 135,
     "metadata": {},
     "output_type": "execute_result"
    }
   ],
   "source": [
    "len(hourly)"
   ]
  },
  {
   "cell_type": "code",
   "execution_count": 19,
   "metadata": {},
   "outputs": [
    {
     "data": {
      "image/png": "[encoded data removed]",
      "text/plain": [
       "<Figure size 504x360 with 1 Axes>"
      ]
     },
     "metadata": {
      "needs_background": "light"
     },
     "output_type": "display_data"
    }
   ],
   "source": [
    "f, ax = plt.subplots(figsize=(7,5))\n",
    "ax.plot(hourly[1:], fbs_hourly, linewidth=2, color='olive', label='flashbots', alpha=0.5)\n",
    "ax.plot(hourly[1:], agn_hourly, linewidth=2, color='fuchsia', label='agnostic', alpha=0.5)\n",
    "ax.plot(hourly[1:], usr_hourly, linewidth=2, color='slateblue', label='ultra sound', alpha=0.5)\n",
    "ax.set_xlim(5999717, 5999717+7200*6)\n",
    "ax.legend()\n",
    "ax.set_xlabel('slot', size=14)\n",
    "ax.set_ylabel('payloads per hour', size=14)\n",
    "ax.set_title('hourly payloads for 0xb194b2', size=17)\n",
    "plt.show()"
   ]
  },
  {
   "cell_type": "code",
   "execution_count": null,
   "metadata": {},
   "outputs": [],
   "source": []
  },
  {
   "cell_type": "code",
   "execution_count": 167,
   "metadata": {},
   "outputs": [
    {
     "data": {
      "image/png": "[encoded data removed]",
      "text/plain": [
       "<Figure size 504x360 with 1 Axes>"
      ]
     },
     "metadata": {
      "needs_background": "light"
     },
     "output_type": "display_data"
    }
   ],
   "source": [
    "f, ax = plt.subplots(figsize=(7,5))\n",
    "ax.plot(fbs['slot'], fbs['value'].rolling(10).quantile(0.9), linewidth=2, color='olive', label='flashbots', alpha=0.5)\n",
    "ax.plot(agn['slot'], agn['value'].rolling(10).quantile(0.9), linewidth=2, color='fuchsia', label='agnostic', alpha=0.5)\n",
    "ax.plot(usr['slot'], usr['value'].rolling(10).quantile(0.9), linewidth=2, color='slateblue', label='ultra sound', alpha=0.5)\n",
    "ax.set_xlim(5999717, 5999717+7200*6)\n",
    "# ax.set_ylim(0, int(1e18))\n",
    "ax.legend()\n",
    "ax.set_xlabel('slot', size=14)\n",
    "ax.set_ylabel('median value', size=14)\n",
    "ax.set_title('rolling median value for 0xb194b2', size=17)\n",
    "plt.show()"
   ]
  },
  {
   "cell_type": "markdown",
   "metadata": {},
   "source": [
    "## builder within slot"
   ]
  },
  {
   "cell_type": "code",
   "execution_count": 86,
   "metadata": {},
   "outputs": [
    {
     "name": "stdout",
     "output_type": "stream",
     "text": [
      "start=6100517\n",
      "start=6091950\n",
      "start=6086103\n",
      "start=6080401\n",
      "start=6073574\n",
      "start=6065534\n",
      "start=6059014\n",
      "start=6054407\n",
      "start=6048796\n",
      "start=6042280\n",
      "start=6037431\n",
      "start=6032023\n",
      "start=6025126\n",
      "start=6019999\n",
      "start=6013297\n"
     ]
    },
    {
     "data": {
      "text/plain": [
       "3000"
      ]
     },
     "execution_count": 86,
     "metadata": {},
     "output_type": "execute_result"
    }
   ],
   "source": [
    "start = 6100517\n",
    "end = 5999717 # 14 days ago\n",
    "payload = {\n",
    "    'builder_pubkey': '0xb5d883565500910f3f10f0a2e3a031139d972117a3b67da191ff93ba00ba26502d9b65385b5bca5e7c587273e40f2319',\n",
    "}\n",
    "total_df = pd.DataFrame()\n",
    "while start > end:\n",
    "    print('start={}'.format(start))\n",
    "    payload['cursor'] = start\n",
    "    r = requests.get(\n",
    "        'https://relay.ultrasound.money/relay/v1/data/bidtraces/proposer_payload_delivered',\n",
    "#         'https://agnostic-relay.net/relay/v1/data/bidtraces/proposer_payload_delivered',\n",
    "#         'https://boost-relay.flashbots.net/relay/v1/data/bidtraces/proposer_payload_delivered',\n",
    "        params=payload\n",
    "    )\n",
    "    out_df = pd.DataFrame(json.loads(r.text))\n",
    "    total_df = total_df.append(out_df)\n",
    "    total_df = total_df.sort_values('slot').reset_index(drop=True)\n",
    "    start = int(total_df['slot'].min())\n",
    "len(total_df)"
   ]
  },
  {
   "cell_type": "code",
   "execution_count": 3,
   "metadata": {},
   "outputs": [
    {
     "data": {
      "text/html": [
       "<div>\n",
       "<style scoped>\n",
       "    .dataframe tbody tr th:only-of-type {\n",
       "        vertical-align: middle;\n",
       "    }\n",
       "\n",
       "    .dataframe tbody tr th {\n",
       "        vertical-align: top;\n",
       "    }\n",
       "\n",
       "    .dataframe thead th {\n",
       "        text-align: right;\n",
       "    }\n",
       "</style>\n",
       "<table border=\"1\" class=\"dataframe\">\n",
       "  <thead>\n",
       "    <tr style=\"text-align: right;\">\n",
       "      <th></th>\n",
       "      <th>slot</th>\n",
       "      <th>parent_hash</th>\n",
       "      <th>block_hash</th>\n",
       "      <th>builder_pubkey</th>\n",
       "      <th>proposer_pubkey</th>\n",
       "      <th>proposer_fee_recipient</th>\n",
       "      <th>gas_limit</th>\n",
       "      <th>gas_used</th>\n",
       "      <th>value</th>\n",
       "      <th>num_tx</th>\n",
       "      <th>block_number</th>\n",
       "    </tr>\n",
       "  </thead>\n",
       "  <tbody>\n",
       "    <tr>\n",
       "      <th>0</th>\n",
       "      <td>5991283</td>\n",
       "      <td>0x480e42d1aa78088090b4ea3fcb135a804f48439f9a53...</td>\n",
       "      <td>0x52384f2c7c0f1a31cea444d4e8e0f40d5c8f999e3c7c...</td>\n",
       "      <td>0xb194b2b8ec91a71c18f8483825234679299d146495a0...</td>\n",
       "      <td>0xac95bf5d4f6553c2ed154da97505dcba883b8b6ead36...</td>\n",
       "      <td>0x388c818ca8b9251b393131c08a736a67ccb19297</td>\n",
       "      <td>30000000</td>\n",
       "      <td>14144544</td>\n",
       "      <td>1032241691943322984</td>\n",
       "      <td>145</td>\n",
       "      <td>16819803</td>\n",
       "    </tr>\n",
       "    <tr>\n",
       "      <th>1</th>\n",
       "      <td>5991314</td>\n",
       "      <td>0x98d80977c4cd28b5443e9c4e112fc7314f60506866a9...</td>\n",
       "      <td>0xaa3212fa061a3890482ece0941fe52e7efacfcc5900e...</td>\n",
       "      <td>0xb194b2b8ec91a71c18f8483825234679299d146495a0...</td>\n",
       "      <td>0x8647aa613b3389b8766dbda66337ad3adb086118cc5b...</td>\n",
       "      <td>0x6d2e03b7effeae98bd302a9f836d0d6ab0002766</td>\n",
       "      <td>30000000</td>\n",
       "      <td>18479976</td>\n",
       "      <td>380530265510846604</td>\n",
       "      <td>180</td>\n",
       "      <td>16819834</td>\n",
       "    </tr>\n",
       "    <tr>\n",
       "      <th>2</th>\n",
       "      <td>5991353</td>\n",
       "      <td>0x1f067e92d6de0f6015b9764e64cbd45420266de1571b...</td>\n",
       "      <td>0x19206a643153c9a8aa836630de3f2680c727298ba225...</td>\n",
       "      <td>0xb194b2b8ec91a71c18f8483825234679299d146495a0...</td>\n",
       "      <td>0x910056c31d2e2be7139a2217b013b8aae5428cffec65...</td>\n",
       "      <td>0x388c818ca8b9251b393131c08a736a67ccb19297</td>\n",
       "      <td>30000000</td>\n",
       "      <td>12932371</td>\n",
       "      <td>298298206122585183</td>\n",
       "      <td>145</td>\n",
       "      <td>16819873</td>\n",
       "    </tr>\n",
       "    <tr>\n",
       "      <th>3</th>\n",
       "      <td>5991396</td>\n",
       "      <td>0xb0b6f505a9685ec283ddaad2bfdf89d60ed7d5858bcf...</td>\n",
       "      <td>0xf116d8e4d5bd0f3f8605528402757ff2e40da58ca779...</td>\n",
       "      <td>0xb194b2b8ec91a71c18f8483825234679299d146495a0...</td>\n",
       "      <td>0x8aa2ffa79109ab6c3406054c2a5d38e0295592134f4d...</td>\n",
       "      <td>0x388c818ca8b9251b393131c08a736a67ccb19297</td>\n",
       "      <td>30000000</td>\n",
       "      <td>26326049</td>\n",
       "      <td>302479987814998012</td>\n",
       "      <td>223</td>\n",
       "      <td>16819914</td>\n",
       "    </tr>\n",
       "    <tr>\n",
       "      <th>4</th>\n",
       "      <td>5991419</td>\n",
       "      <td>0xdcf7722eaca7b4063944265e70f6b214f2ae1b1b119b...</td>\n",
       "      <td>0xb74852ad3478bd5ede225dbaa5ec9e73f938f46a6ac1...</td>\n",
       "      <td>0xb194b2b8ec91a71c18f8483825234679299d146495a0...</td>\n",
       "      <td>0x864fdf3e347362d53e56416a9b90583afe6bc23c8a0b...</td>\n",
       "      <td>0x72a12caefc60ed89b87c2efcbce700e4a3fa9775</td>\n",
       "      <td>30000000</td>\n",
       "      <td>29978354</td>\n",
       "      <td>841100450029719214</td>\n",
       "      <td>328</td>\n",
       "      <td>16819937</td>\n",
       "    </tr>\n",
       "  </tbody>\n",
       "</table>\n",
       "</div>"
      ],
      "text/plain": [
       "      slot                                        parent_hash  \\\n",
       "0  5991283  0x480e42d1aa78088090b4ea3fcb135a804f48439f9a53...   \n",
       "1  5991314  0x98d80977c4cd28b5443e9c4e112fc7314f60506866a9...   \n",
       "2  5991353  0x1f067e92d6de0f6015b9764e64cbd45420266de1571b...   \n",
       "3  5991396  0xb0b6f505a9685ec283ddaad2bfdf89d60ed7d5858bcf...   \n",
       "4  5991419  0xdcf7722eaca7b4063944265e70f6b214f2ae1b1b119b...   \n",
       "\n",
       "                                          block_hash  \\\n",
       "0  0x52384f2c7c0f1a31cea444d4e8e0f40d5c8f999e3c7c...   \n",
       "1  0xaa3212fa061a3890482ece0941fe52e7efacfcc5900e...   \n",
       "2  0x19206a643153c9a8aa836630de3f2680c727298ba225...   \n",
       "3  0xf116d8e4d5bd0f3f8605528402757ff2e40da58ca779...   \n",
       "4  0xb74852ad3478bd5ede225dbaa5ec9e73f938f46a6ac1...   \n",
       "\n",
       "                                      builder_pubkey  \\\n",
       "0  0xb194b2b8ec91a71c18f8483825234679299d146495a0...   \n",
       "1  0xb194b2b8ec91a71c18f8483825234679299d146495a0...   \n",
       "2  0xb194b2b8ec91a71c18f8483825234679299d146495a0...   \n",
       "3  0xb194b2b8ec91a71c18f8483825234679299d146495a0...   \n",
       "4  0xb194b2b8ec91a71c18f8483825234679299d146495a0...   \n",
       "\n",
       "                                     proposer_pubkey  \\\n",
       "0  0xac95bf5d4f6553c2ed154da97505dcba883b8b6ead36...   \n",
       "1  0x8647aa613b3389b8766dbda66337ad3adb086118cc5b...   \n",
       "2  0x910056c31d2e2be7139a2217b013b8aae5428cffec65...   \n",
       "3  0x8aa2ffa79109ab6c3406054c2a5d38e0295592134f4d...   \n",
       "4  0x864fdf3e347362d53e56416a9b90583afe6bc23c8a0b...   \n",
       "\n",
       "                       proposer_fee_recipient gas_limit  gas_used  \\\n",
       "0  0x388c818ca8b9251b393131c08a736a67ccb19297  30000000  14144544   \n",
       "1  0x6d2e03b7effeae98bd302a9f836d0d6ab0002766  30000000  18479976   \n",
       "2  0x388c818ca8b9251b393131c08a736a67ccb19297  30000000  12932371   \n",
       "3  0x388c818ca8b9251b393131c08a736a67ccb19297  30000000  26326049   \n",
       "4  0x72a12caefc60ed89b87c2efcbce700e4a3fa9775  30000000  29978354   \n",
       "\n",
       "                 value num_tx block_number  \n",
       "0  1032241691943322984    145     16819803  \n",
       "1   380530265510846604    180     16819834  \n",
       "2   298298206122585183    145     16819873  \n",
       "3   302479987814998012    223     16819914  \n",
       "4   841100450029719214    328     16819937  "
      ]
     },
     "execution_count": 3,
     "metadata": {},
     "output_type": "execute_result"
    }
   ],
   "source": [
    "usr = total_df\n",
    "usr.head()"
   ]
  },
  {
   "cell_type": "code",
   "execution_count": 28,
   "metadata": {},
   "outputs": [],
   "source": [
    "usr['slot'] = pd.to_numeric(usr['slot'])\n",
    "usr['value'] = usr['value'].astype(float)"
   ]
  },
  {
   "cell_type": "code",
   "execution_count": 4,
   "metadata": {},
   "outputs": [],
   "source": [
    "payload = {\n",
    "    'builder_pubkey': '0xb5d883565500910f3f10f0a2e3a031139d972117a3b67da191ff93ba00ba26502d9b65385b5bca5e7c587273e40f2319',\n",
    "}\n",
    "payload['slot'] = 5991283\n",
    "r = requests.get(\n",
    "#     'https://relay.ultrasound.money/relay/v1/data/bidtraces/proposer_payload_delivered',\n",
    "    'https://agnostic-relay.net/relay/v1/data/bidtraces/builder_blocks_received',\n",
    "#     'https://boost-relay.flashbots.net/relay/v1/data/bidtraces/proposer_payload_delivered',\n",
    "    params=payload\n",
    ")"
   ]
  },
  {
   "cell_type": "code",
   "execution_count": 12,
   "metadata": {},
   "outputs": [
    {
     "name": "stdout",
     "output_type": "stream",
     "text": [
      "6100441\r"
     ]
    }
   ],
   "source": [
    "total_df = pd.DataFrame()\n",
    "slots = usr['slot'].values\n",
    "maxs = []\n",
    "for s in slots:\n",
    "    print(s, end='\\r')\n",
    "    payload['slot'] = s\n",
    "    r = requests.get(\n",
    "#         'https://relay.ultrasound.money/relay/v1/data/bidtraces/proposer_payload_delivered',\n",
    "        'https://agnostic-relay.net/relay/v1/data/bidtraces/builder_blocks_received',\n",
    "#         'https://boost-relay.flashbots.net/relay/v1/data/bidtraces/proposer_payload_delivered',\n",
    "        params=payload\n",
    "    )\n",
    "    out_df = pd.DataFrame(json.loads(r.text))\n",
    "    if len(out_df) > 0:\n",
    "        out_df['value'] = out_df['value'].astype(float)\n",
    "        maxs.append((s, out_df['value'].values.max()))\n",
    "maxs = np.asarray(maxs)"
   ]
  },
  {
   "cell_type": "code",
   "execution_count": 13,
   "metadata": {},
   "outputs": [],
   "source": [
    "agn_maxs = maxs"
   ]
  },
  {
   "cell_type": "code",
   "execution_count": 19,
   "metadata": {},
   "outputs": [
    {
     "data": {
      "text/plain": [
       "array([[5.99128300e+06, 1.03852226e+18],\n",
       "       [5.99131400e+06, 3.84038128e+17],\n",
       "       [5.99135300e+06, 2.98298206e+17],\n",
       "       ...,\n",
       "       [6.10019900e+06, 5.89557457e+16],\n",
       "       [6.10029600e+06, 2.76412611e+16],\n",
       "       [6.10044100e+06, 8.18430666e+16]])"
      ]
     },
     "execution_count": 19,
     "metadata": {},
     "output_type": "execute_result"
    }
   ],
   "source": [
    "agn_maxs = agn_maxs.astype(float)\n",
    "agn_maxs"
   ]
  },
  {
   "cell_type": "code",
   "execution_count": 21,
   "metadata": {},
   "outputs": [
    {
     "data": {
      "text/plain": [
       "5991283.0"
      ]
     },
     "execution_count": 21,
     "metadata": {},
     "output_type": "execute_result"
    }
   ],
   "source": [
    "agn_maxs[0][0]"
   ]
  },
  {
   "cell_type": "code",
   "execution_count": 31,
   "metadata": {},
   "outputs": [],
   "source": [
    "usr_maxs = []\n",
    "for v in agn_maxs:\n",
    "    slot = v[0]\n",
    "    usr_maxs.append(usr[usr['slot']==int(slot)]['value'].values.max())\n",
    "usr_maxs = np.asarray(usr_maxs)\n",
    "usr_maxs = usr_maxs.astype(float)"
   ]
  },
  {
   "cell_type": "code",
   "execution_count": 32,
   "metadata": {},
   "outputs": [
    {
     "data": {
      "text/plain": [
       "array([1.03224169e+18, 3.80530266e+17, 2.98298206e+17, ...,\n",
       "       5.83460814e+16, 2.33164045e+16, 8.05813382e+16])"
      ]
     },
     "execution_count": 32,
     "metadata": {},
     "output_type": "execute_result"
    }
   ],
   "source": [
    "usr_maxs"
   ]
  },
  {
   "cell_type": "code",
   "execution_count": 34,
   "metadata": {},
   "outputs": [
    {
     "data": {
      "text/plain": [
       "array([1.03852226e+18, 3.84038128e+17, 2.98298206e+17, ...,\n",
       "       5.89557457e+16, 2.76412611e+16, 8.18430666e+16])"
      ]
     },
     "execution_count": 34,
     "metadata": {},
     "output_type": "execute_result"
    }
   ],
   "source": [
    "agn_maxs[:,1]"
   ]
  },
  {
   "cell_type": "code",
   "execution_count": 35,
   "metadata": {},
   "outputs": [],
   "source": [
    "diffs = usr_maxs - agn_maxs[:,1]"
   ]
  },
  {
   "cell_type": "code",
   "execution_count": 37,
   "metadata": {},
   "outputs": [
    {
     "data": {
      "text/plain": [
       "2069"
      ]
     },
     "execution_count": 37,
     "metadata": {},
     "output_type": "execute_result"
    }
   ],
   "source": [
    "len(diffs)"
   ]
  },
  {
   "cell_type": "code",
   "execution_count": 46,
   "metadata": {},
   "outputs": [
    {
     "data": {
      "text/plain": [
       "-5490683827922150.0"
      ]
     },
     "execution_count": 46,
     "metadata": {},
     "output_type": "execute_result"
    }
   ],
   "source": [
    "diffs.mean()"
   ]
  },
  {
   "cell_type": "code",
   "execution_count": 45,
   "metadata": {},
   "outputs": [
    {
     "data": {
      "text/plain": [
       "0.0"
      ]
     },
     "execution_count": 45,
     "metadata": {},
     "output_type": "execute_result"
    }
   ],
   "source": [
    "np.quantile(diffs, 0.99)"
   ]
  },
  {
   "cell_type": "code",
   "execution_count": 40,
   "metadata": {},
   "outputs": [
    {
     "data": {
      "image/png": "[encoded data removed]",
      "text/plain": [
       "<Figure size 576x360 with 1 Axes>"
      ]
     },
     "metadata": {
      "needs_background": "light"
     },
     "output_type": "display_data"
    }
   ],
   "source": [
    "f, ax = plt.subplots(figsize=(8,5))\n",
    "\n",
    "bins = np.histogram(diffs, bins=100)[1]\n",
    "# ax.hist(mwins['diff'], bins, color='b', alpha=0.5, cumulative=0, density=True, label='pdf')\n",
    "ax.hist(diffs, bins, color='g', alpha=0.5, density=True, label='cdf')\n",
    "# linestyle = ['-', '--', ':']\n",
    "# for i, v in enumerate(percs):\n",
    "#     ax.axvline(v[1], label='p{}={:0.0f}'.format(v[0], v[1]), color='k', linestyle=linestyle[i], linewidth=3, alpha=0.7)\n",
    "\n",
    "# ax.set_xlim(0,int(1e6))\n",
    "ax.set_xlabel('duration $(\\mu s)$', size=14)\n",
    "ax.set_title('simulation duration; $\\mu={:0.0f}s$'.format(diffs.mean()), size=18)\n",
    "plt.legend(loc=4)\n",
    "plt.show()"
   ]
  },
  {
   "cell_type": "markdown",
   "metadata": {},
   "source": [
    "## throughput"
   ]
  },
  {
   "cell_type": "code",
   "execution_count": null,
   "metadata": {},
   "outputs": [],
   "source": [
    "5938086"
   ]
  },
  {
   "cell_type": "code",
   "execution_count": 41,
   "metadata": {},
   "outputs": [
    {
     "data": {
      "text/plain": [
       "(5918450, 5968850)"
      ]
     },
     "execution_count": 41,
     "metadata": {},
     "output_type": "execute_result"
    }
   ],
   "source": [
    "6019250 - 7200 * 14, 6019250 - 7200 * 7 \n",
    "# 6019250 - 7200 * 7, 6019250\n",
    "# 6019250, 6019250 + 7200 * 7\n",
    "# 6019250 + 7200 * 7, 6019250 + 7200 * 14"
   ]
  },
  {
   "cell_type": "code",
   "execution_count": 22,
   "metadata": {},
   "outputs": [
    {
     "data": {
      "text/plain": [
       "array([[10.        , 20.18205924, 29.58382902, 16.03256588, 34.20154586],\n",
       "       [11.        , 20.90406886, 23.44208834, 20.73817419, 34.9156686 ],\n",
       "       [12.        , 26.2026937 , 22.29499696, 22.6182173 , 28.88409204],\n",
       "       [13.        , 28.36805961, 22.46534   , 20.48606866, 28.68053173]])"
      ]
     },
     "execution_count": 22,
     "metadata": {},
     "output_type": "execute_result"
    }
   ],
   "source": [
    "dominance = pd.read_csv(\"frontier/optimistic_relay.csv\")\n",
    "dominance.values"
   ]
  },
  {
   "cell_type": "code",
   "execution_count": 23,
   "metadata": {},
   "outputs": [],
   "source": [
    "vals = np.swapaxes(dominance.values[:,1:], 0, 1)"
   ]
  },
  {
   "cell_type": "code",
   "execution_count": 24,
   "metadata": {},
   "outputs": [
    {
     "data": {
      "text/plain": [
       "Index(['ultrasound', 'flashbots', 'bloxroute (combined)', 'other'], dtype='object')"
      ]
     },
     "execution_count": 24,
     "metadata": {},
     "output_type": "execute_result"
    }
   ],
   "source": [
    "dominance.head().keys()[1:]"
   ]
  },
  {
   "cell_type": "code",
   "execution_count": null,
   "metadata": {},
   "outputs": [],
   "source": [
    "throughput = [13209362, 17808762, 26875851]"
   ]
  },
  {
   "cell_type": "code",
   "execution_count": 29,
   "metadata": {},
   "outputs": [
    {
     "data": {
      "text/plain": [
       "97.78625431905633"
      ]
     },
     "execution_count": 29,
     "metadata": {},
     "output_type": "execute_result"
    }
   ],
   "source": [
    "vals[1].sum()"
   ]
  },
  {
   "cell_type": "code",
   "execution_count": 40,
   "metadata": {},
   "outputs": [
    {
     "data": {
      "image/png": "[encoded data removed]",
      "text/plain": [
       "<Figure size 576x360 with 1 Axes>"
      ]
     },
     "metadata": {
      "needs_background": "light"
     },
     "output_type": "display_data"
    }
   ],
   "source": [
    "width = 0.5\n",
    "\n",
    "fig, ax = plt.subplots(figsize=(8,5))\n",
    "bottom = np.zeros(4)\n",
    "\n",
    "vals = np.swapaxes(dominance.values[:,1:], 0, 1)\n",
    "ax.bar(np.arange(4), vals[0], width=0.4, bottom=bottom, label='ultra sound')\n",
    "ax.bar(np.arange(4), vals[1], width=0.4, bottom=vals[0], label='flashbots')\n",
    "ax.bar(np.arange(4), vals[2], width=0.4, bottom=vals[1]+vals[0], label='bloxroute')\n",
    "ax.bar(np.arange(4), vals[3], width=0.4, bottom=vals[2]+vals[1]+vals[0], label='other')\n",
    "\n",
    "ax.set_xticks(np.arange(4))\n",
    "ax.set_xticklabels(['week 10','week 11','week 12','week 13'])\n",
    "# ax.bar(np.arange(4), vals[0], width=0.4, bottom=bottom)\n",
    "# ax.bar(np.arange(4), vals[0], width=0.4, bottom=bottom)\n",
    "\n",
    "# for v in dominance.values[:,1:]:\n",
    "#     print(v)\n",
    "#     p = ax.bar(species, weight_count, width, label=boolean, bottom=bottom)\n",
    "#     bottom += weight_count\n",
    "\n",
    "# ax.set_title(\"Number of penguins with above average body mass\")\n",
    "# ax.legend(loc=\"upper right\")\n",
    "\n",
    "plt.legend()\n",
    "plt.show()"
   ]
  },
  {
   "cell_type": "code",
   "execution_count": null,
   "metadata": {},
   "outputs": [],
   "source": [
    "f, ax = plt.subplots(figsize=(7,5))\n",
    "ax.plot(hourly[1:], fbs_hourly, , color='olive', label='flashbots', alpha=0.5)\n",
    "ax.plot(hourly[1:], agn_hourly, linewidth=2, color='fuchsia', label='agnostic', alpha=0.5)\n",
    "ax.plot(hourly[1:], usr_hourly, linewidth=2, color='slateblue', label='ultra sound', alpha=0.5)\n",
    "ax.set_xlim(5999717, 5999717+7200*6)\n",
    "ax.legend()\n",
    "ax.set_xlabel('slot', size=14)\n",
    "ax.set_ylabel('payloads per hour', size=14)\n",
    "ax.set_title('hourly payloads for 0xb194b2', size=17)\n",
    "plt.show()"
   ]
  },
  {
   "cell_type": "code",
   "execution_count": 52,
   "metadata": {},
   "outputs": [
    {
     "data": {
      "image/png": "[encoded data removed]",
      "text/plain": [
       "<Figure size 792x360 with 2 Axes>"
      ]
     },
     "metadata": {
      "needs_background": "light"
     },
     "output_type": "display_data"
    }
   ],
   "source": [
    "fig, axarr = plt.subplots(ncols=2, figsize=(11,5))\n",
    "\n",
    "ax = axarr[0]\n",
    "ax.axvline(6019250, color='r', linewidth=3, alpha=0.3, label='optimistic transition')\n",
    "ax.plot(hourly[1:], fbs_hourly, linewidth=1.6, color='olive', label='flashbots', alpha=0.7)\n",
    "ax.plot(hourly[1:], agn_hourly, linewidth=1.6, color='fuchsia', label='agnostic', alpha=0.7)\n",
    "ax.plot(hourly[1:], usr_hourly, linewidth=1.6, color='slateblue', label='ultra sound', alpha=0.7)\n",
    "ax.set_xlim(5999717, 5999717+7200*6)\n",
    "ax.set_xticks([6000000, 6025000, 6050000])\n",
    "ax.ticklabel_format(style='plain')\n",
    "ax.legend(loc='upper left')\n",
    "ax.set_xlabel('slot', size=14)\n",
    "ax.set_ylabel('payloads per hour', size=14)\n",
    "ax.set_title('hourly payloads for 0xb194b2', size=17)\n",
    "\n",
    "ax = axarr[1]\n",
    "width = 0.5\n",
    "bottom = np.zeros(4)\n",
    "\n",
    "vals = np.swapaxes(dominance.values[:,1:], 0, 1)\n",
    "ax.bar(np.arange(4), vals[0], width=0.4, bottom=bottom, label='ultra sound', color='teal')\n",
    "ax.bar(np.arange(4), vals[1], width=0.4, bottom=vals[0], label='flashbots', color='tomato')\n",
    "ax.axvline(1.5, color='r', linewidth=3, alpha=0.3, label='optimistic transition')\n",
    "ax.bar(np.arange(4), vals[2], width=0.4, bottom=vals[1]+vals[0], label='bloxroute', color='sandybrown')\n",
    "ax.bar(np.arange(4), vals[3], width=0.4, bottom=vals[2]+vals[1]+vals[0], label='other', color='mediumorchid')\n",
    "\n",
    "ax.set_xticks(np.arange(4))\n",
    "ax.set_xticklabels(['week 10','week 11','week 12','week 13'])\n",
    "ax.set_xlabel(\"weeks\", size=15)\n",
    "ax.set_title(\"weekly payloads delivered\", size=17)\n",
    "\n",
    "\n",
    "plt.legend(loc=\"upper left\")\n",
    "plt.show()"
   ]
  },
  {
   "cell_type": "code",
   "execution_count": 62,
   "metadata": {},
   "outputs": [
    {
     "data": {
      "text/plain": [
       "[5918450, 5968850, 6019250, 6069650, 6120050]"
      ]
     },
     "execution_count": 62,
     "metadata": {},
     "output_type": "execute_result"
    }
   ],
   "source": [
    "bounds = [6019250 - 7200 * 14, 6019250 - 7200 * 7, 6019250, 6019250 + 7200 * 7, 6019250 + 7200 * 14]\n",
    "bounds"
   ]
  },
  {
   "cell_type": "code",
   "execution_count": 114,
   "metadata": {},
   "outputs": [],
   "source": [
    "fbs['slot'] = pd.to_numeric(fbs['slot'])\n",
    "agn['slot'] = pd.to_numeric(agn['slot'])\n",
    "usr['slot'] = pd.to_numeric(usr['slot'])\n",
    "fbs['value'] = fbs['value'].astype(float)\n",
    "agn['value'] = agn['value'].astype(float)\n",
    "usr['value'] = usr['value'].astype(float)"
   ]
  },
  {
   "cell_type": "code",
   "execution_count": 94,
   "metadata": {},
   "outputs": [
    {
     "data": {
      "text/html": [
       "<div>\n",
       "<style scoped>\n",
       "    .dataframe tbody tr th:only-of-type {\n",
       "        vertical-align: middle;\n",
       "    }\n",
       "\n",
       "    .dataframe tbody tr th {\n",
       "        vertical-align: top;\n",
       "    }\n",
       "\n",
       "    .dataframe thead th {\n",
       "        text-align: right;\n",
       "    }\n",
       "</style>\n",
       "<table border=\"1\" class=\"dataframe\">\n",
       "  <thead>\n",
       "    <tr style=\"text-align: right;\">\n",
       "      <th></th>\n",
       "      <th>slot</th>\n",
       "      <th>parent_hash</th>\n",
       "      <th>block_hash</th>\n",
       "      <th>builder_pubkey</th>\n",
       "      <th>proposer_pubkey</th>\n",
       "      <th>proposer_fee_recipient</th>\n",
       "      <th>gas_limit</th>\n",
       "      <th>gas_used</th>\n",
       "      <th>value</th>\n",
       "      <th>num_tx</th>\n",
       "      <th>block_number</th>\n",
       "    </tr>\n",
       "  </thead>\n",
       "  <tbody>\n",
       "    <tr>\n",
       "      <th>0</th>\n",
       "      <td>5911887</td>\n",
       "      <td>0xfa71ba6c5f292a2d8debfee25de1438b4274c2d19b4d...</td>\n",
       "      <td>0x6080da50c1ddc6140cd1a9335380bb70799f4f31bbf3...</td>\n",
       "      <td>0xb5d883565500910f3f10f0a2e3a031139d972117a3b6...</td>\n",
       "      <td>0x87f49d4c5c1590f7437ad76ea443869f6af93818fa7e...</td>\n",
       "      <td>0x388c818ca8b9251b393131c08a736a67ccb19297</td>\n",
       "      <td>30000000</td>\n",
       "      <td>11505140</td>\n",
       "      <td>6.647028e+16</td>\n",
       "      <td>129</td>\n",
       "      <td>16741418</td>\n",
       "    </tr>\n",
       "    <tr>\n",
       "      <th>1</th>\n",
       "      <td>5911939</td>\n",
       "      <td>0xd8110dca8dbe595f117905b3fb1a1c5d4be051fb45ef...</td>\n",
       "      <td>0x5cfe2b489682c8849b946285a4867c5d290334a9871a...</td>\n",
       "      <td>0xb5d883565500910f3f10f0a2e3a031139d972117a3b6...</td>\n",
       "      <td>0x8dc070583a3e17bf6f2eb20c7761491985aa316e32c4...</td>\n",
       "      <td>0x0038598ecb3b308ebc6c6e2c635bacaa3c5298a3</td>\n",
       "      <td>30000000</td>\n",
       "      <td>15786798</td>\n",
       "      <td>5.114564e+16</td>\n",
       "      <td>184</td>\n",
       "      <td>16741469</td>\n",
       "    </tr>\n",
       "    <tr>\n",
       "      <th>2</th>\n",
       "      <td>5911957</td>\n",
       "      <td>0xeb3d67fabcfa8071fae9e8c2ef30964a6c04d03f191f...</td>\n",
       "      <td>0xc7585d7924bec7bac4ff507d980dde9223e1cd2037b7...</td>\n",
       "      <td>0xb5d883565500910f3f10f0a2e3a031139d972117a3b6...</td>\n",
       "      <td>0xa16cc564e5d83b22a22b2d6da4867ee62583c1a340b5...</td>\n",
       "      <td>0x388c818ca8b9251b393131c08a736a67ccb19297</td>\n",
       "      <td>30000000</td>\n",
       "      <td>9711236</td>\n",
       "      <td>3.033550e+16</td>\n",
       "      <td>153</td>\n",
       "      <td>16741487</td>\n",
       "    </tr>\n",
       "    <tr>\n",
       "      <th>3</th>\n",
       "      <td>5911979</td>\n",
       "      <td>0x066bc593f13bc7741fec5741373041657669ef32f330...</td>\n",
       "      <td>0x2cc112ed7169e646fa619870132a2bdd23ac37e00ae8...</td>\n",
       "      <td>0xb5d883565500910f3f10f0a2e3a031139d972117a3b6...</td>\n",
       "      <td>0x8f66b33eb8a07d67a28ab28624e767fbf5c328ce65d9...</td>\n",
       "      <td>0x388c818ca8b9251b393131c08a736a67ccb19297</td>\n",
       "      <td>30000000</td>\n",
       "      <td>18475710</td>\n",
       "      <td>6.094601e+16</td>\n",
       "      <td>169</td>\n",
       "      <td>16741509</td>\n",
       "    </tr>\n",
       "    <tr>\n",
       "      <th>4</th>\n",
       "      <td>5911997</td>\n",
       "      <td>0xe3ccc4049898b05521361f6050a2af3275d9d940744e...</td>\n",
       "      <td>0x085cedb93d951ef7899c8546ec102c6c1529a033b019...</td>\n",
       "      <td>0xb5d883565500910f3f10f0a2e3a031139d972117a3b6...</td>\n",
       "      <td>0x819f896cadf6d425566141db3513eca9b041d6f5abba...</td>\n",
       "      <td>0x388c818ca8b9251b393131c08a736a67ccb19297</td>\n",
       "      <td>30000000</td>\n",
       "      <td>14840307</td>\n",
       "      <td>3.645703e+16</td>\n",
       "      <td>140</td>\n",
       "      <td>16741527</td>\n",
       "    </tr>\n",
       "  </tbody>\n",
       "</table>\n",
       "</div>"
      ],
      "text/plain": [
       "      slot                                        parent_hash  \\\n",
       "0  5911887  0xfa71ba6c5f292a2d8debfee25de1438b4274c2d19b4d...   \n",
       "1  5911939  0xd8110dca8dbe595f117905b3fb1a1c5d4be051fb45ef...   \n",
       "2  5911957  0xeb3d67fabcfa8071fae9e8c2ef30964a6c04d03f191f...   \n",
       "3  5911979  0x066bc593f13bc7741fec5741373041657669ef32f330...   \n",
       "4  5911997  0xe3ccc4049898b05521361f6050a2af3275d9d940744e...   \n",
       "\n",
       "                                          block_hash  \\\n",
       "0  0x6080da50c1ddc6140cd1a9335380bb70799f4f31bbf3...   \n",
       "1  0x5cfe2b489682c8849b946285a4867c5d290334a9871a...   \n",
       "2  0xc7585d7924bec7bac4ff507d980dde9223e1cd2037b7...   \n",
       "3  0x2cc112ed7169e646fa619870132a2bdd23ac37e00ae8...   \n",
       "4  0x085cedb93d951ef7899c8546ec102c6c1529a033b019...   \n",
       "\n",
       "                                      builder_pubkey  \\\n",
       "0  0xb5d883565500910f3f10f0a2e3a031139d972117a3b6...   \n",
       "1  0xb5d883565500910f3f10f0a2e3a031139d972117a3b6...   \n",
       "2  0xb5d883565500910f3f10f0a2e3a031139d972117a3b6...   \n",
       "3  0xb5d883565500910f3f10f0a2e3a031139d972117a3b6...   \n",
       "4  0xb5d883565500910f3f10f0a2e3a031139d972117a3b6...   \n",
       "\n",
       "                                     proposer_pubkey  \\\n",
       "0  0x87f49d4c5c1590f7437ad76ea443869f6af93818fa7e...   \n",
       "1  0x8dc070583a3e17bf6f2eb20c7761491985aa316e32c4...   \n",
       "2  0xa16cc564e5d83b22a22b2d6da4867ee62583c1a340b5...   \n",
       "3  0x8f66b33eb8a07d67a28ab28624e767fbf5c328ce65d9...   \n",
       "4  0x819f896cadf6d425566141db3513eca9b041d6f5abba...   \n",
       "\n",
       "                       proposer_fee_recipient gas_limit  gas_used  \\\n",
       "0  0x388c818ca8b9251b393131c08a736a67ccb19297  30000000  11505140   \n",
       "1  0x0038598ecb3b308ebc6c6e2c635bacaa3c5298a3  30000000  15786798   \n",
       "2  0x388c818ca8b9251b393131c08a736a67ccb19297  30000000   9711236   \n",
       "3  0x388c818ca8b9251b393131c08a736a67ccb19297  30000000  18475710   \n",
       "4  0x388c818ca8b9251b393131c08a736a67ccb19297  30000000  14840307   \n",
       "\n",
       "          value num_tx block_number  \n",
       "0  6.647028e+16    129     16741418  \n",
       "1  5.114564e+16    184     16741469  \n",
       "2  3.033550e+16    153     16741487  \n",
       "3  6.094601e+16    169     16741509  \n",
       "4  3.645703e+16    140     16741527  "
      ]
     },
     "execution_count": 94,
     "metadata": {},
     "output_type": "execute_result"
    }
   ],
   "source": [
    "usr.head()"
   ]
  },
  {
   "cell_type": "code",
   "execution_count": 95,
   "metadata": {},
   "outputs": [
    {
     "data": {
      "text/plain": [
       "(5200, 3400, 1800)"
      ]
     },
     "execution_count": 95,
     "metadata": {},
     "output_type": "execute_result"
    }
   ],
   "source": [
    "len(usr), len(agn), len(fbs)"
   ]
  },
  {
   "cell_type": "code",
   "execution_count": 196,
   "metadata": {},
   "outputs": [
    {
     "name": "stdout",
     "output_type": "stream",
     "text": [
      "5918450 5968850\n",
      "2064\n",
      "5968850 6019250\n",
      "2936\n",
      "6019250 6069650\n",
      "2978\n",
      "6069650 6120050\n",
      "2142\n"
     ]
    }
   ],
   "source": [
    "res = []\n",
    "re2 = []\n",
    "for i in range(4):\n",
    "    lb, ub = bounds[i], bounds[i+1]\n",
    "    print(lb,ub)\n",
    "    res_2 = []\n",
    "    sub = usr[(usr['slot']>=bounds[i]) & (usr['slot']<bounds[i+1])]\n",
    "    usr_ct = len(sub)\n",
    "    sub = agn[(agn['slot']>=bounds[i]) & (agn['slot']<bounds[i+1])]\n",
    "    agn_ct = len(sub)\n",
    "    sub = fbs[(fbs['slot']>=bounds[i]) & (fbs['slot']<bounds[i+1])]\n",
    "    fbs_ct = len(sub)\n",
    "    total = usr_ct + agn_ct + fbs_ct\n",
    "    print(total)\n",
    "    res.append([usr_ct/total, agn_ct/total, fbs_ct/total])\n",
    "    re2.append([usr_ct, agn_ct, fbs_ct])\n",
    "res = np.asarray(res)"
   ]
  },
  {
   "cell_type": "code",
   "execution_count": 103,
   "metadata": {},
   "outputs": [
    {
     "data": {
      "text/html": [
       "<div>\n",
       "<style scoped>\n",
       "    .dataframe tbody tr th:only-of-type {\n",
       "        vertical-align: middle;\n",
       "    }\n",
       "\n",
       "    .dataframe tbody tr th {\n",
       "        vertical-align: top;\n",
       "    }\n",
       "\n",
       "    .dataframe thead th {\n",
       "        text-align: right;\n",
       "    }\n",
       "</style>\n",
       "<table border=\"1\" class=\"dataframe\">\n",
       "  <thead>\n",
       "    <tr style=\"text-align: right;\">\n",
       "      <th></th>\n",
       "      <th>slot</th>\n",
       "      <th>parent_hash</th>\n",
       "      <th>block_hash</th>\n",
       "      <th>builder_pubkey</th>\n",
       "      <th>proposer_pubkey</th>\n",
       "      <th>proposer_fee_recipient</th>\n",
       "      <th>gas_limit</th>\n",
       "      <th>gas_used</th>\n",
       "      <th>value</th>\n",
       "      <th>num_tx</th>\n",
       "      <th>block_number</th>\n",
       "    </tr>\n",
       "  </thead>\n",
       "  <tbody>\n",
       "    <tr>\n",
       "      <th>106</th>\n",
       "      <td>5918461</td>\n",
       "      <td>0x6a8f5e8b37e60f85bc4cb3c39ffaa1451ab0fa6408fb...</td>\n",
       "      <td>0xc0fc1d97ec9ca29364face306a6bd4db5e8563ebd8ae...</td>\n",
       "      <td>0xb5d883565500910f3f10f0a2e3a031139d972117a3b6...</td>\n",
       "      <td>0x9783604648df5b9bd16c88a17bec7e30ef4f33b6e70c...</td>\n",
       "      <td>0x388c818ca8b9251b393131c08a736a67ccb19297</td>\n",
       "      <td>30000000</td>\n",
       "      <td>12142692</td>\n",
       "      <td>4.589064e+16</td>\n",
       "      <td>141</td>\n",
       "      <td>16747904</td>\n",
       "    </tr>\n",
       "    <tr>\n",
       "      <th>107</th>\n",
       "      <td>5919176</td>\n",
       "      <td>0x0b8bd1618615ee3087ef505675cd9acec6540d5b1692...</td>\n",
       "      <td>0x956ec86d4bfd435da65f86b1bcebc4bebd4f383dce94...</td>\n",
       "      <td>0xb5d883565500910f3f10f0a2e3a031139d972117a3b6...</td>\n",
       "      <td>0xa73d8e51dd156379baf780d5e22f6a095c26d7188d87...</td>\n",
       "      <td>0x735063ad99269d8672f6b896290636d70970ee55</td>\n",
       "      <td>30000000</td>\n",
       "      <td>21405959</td>\n",
       "      <td>1.836484e+17</td>\n",
       "      <td>129</td>\n",
       "      <td>16748610</td>\n",
       "    </tr>\n",
       "    <tr>\n",
       "      <th>108</th>\n",
       "      <td>5919198</td>\n",
       "      <td>0x2a7e9d30f8bedca2a097166959f3c91e761fe7b49053...</td>\n",
       "      <td>0xdb294b863eacb13b55b9df29cb6b5e58a305effe86a5...</td>\n",
       "      <td>0xb5d883565500910f3f10f0a2e3a031139d972117a3b6...</td>\n",
       "      <td>0xace7ff399b99c5cf3398f8167358b9ba969fd61c7e52...</td>\n",
       "      <td>0xd4e96ef8eee8678dbff4d535e033ed1a4f7605b7</td>\n",
       "      <td>30000000</td>\n",
       "      <td>13672965</td>\n",
       "      <td>4.303615e+16</td>\n",
       "      <td>158</td>\n",
       "      <td>16748632</td>\n",
       "    </tr>\n",
       "    <tr>\n",
       "      <th>109</th>\n",
       "      <td>5919385</td>\n",
       "      <td>0x2ff259c06aa3b0947e3fd12c3874c5aabf248468cb49...</td>\n",
       "      <td>0x588ba8287b32132058013b07481066dfc8f9b0a8326b...</td>\n",
       "      <td>0xb5d883565500910f3f10f0a2e3a031139d972117a3b6...</td>\n",
       "      <td>0xb5c0da3ca9b141f3286dc6adf70811643ec3e1420eed...</td>\n",
       "      <td>0xe688b84b23f322a994a53dbf8e15fa82cdb71127</td>\n",
       "      <td>30000000</td>\n",
       "      <td>10255419</td>\n",
       "      <td>3.231881e+16</td>\n",
       "      <td>127</td>\n",
       "      <td>16748818</td>\n",
       "    </tr>\n",
       "    <tr>\n",
       "      <th>110</th>\n",
       "      <td>5919488</td>\n",
       "      <td>0x3f249831224a419ae68ad350fca420e4fcefc6564e1d...</td>\n",
       "      <td>0x7174a7658514f9f4c687c5ceb57554b7f8b23fbb51ae...</td>\n",
       "      <td>0xb5d883565500910f3f10f0a2e3a031139d972117a3b6...</td>\n",
       "      <td>0x8a251a12e60a21374d6cd1fb3127c9d92396068dc1ac...</td>\n",
       "      <td>0x1cedc0f3af8f9841b0a1f5c1a4ddc6e1a1629074</td>\n",
       "      <td>30000000</td>\n",
       "      <td>10005524</td>\n",
       "      <td>4.643159e+16</td>\n",
       "      <td>134</td>\n",
       "      <td>16748921</td>\n",
       "    </tr>\n",
       "    <tr>\n",
       "      <th>...</th>\n",
       "      <td>...</td>\n",
       "      <td>...</td>\n",
       "      <td>...</td>\n",
       "      <td>...</td>\n",
       "      <td>...</td>\n",
       "      <td>...</td>\n",
       "      <td>...</td>\n",
       "      <td>...</td>\n",
       "      <td>...</td>\n",
       "      <td>...</td>\n",
       "      <td>...</td>\n",
       "    </tr>\n",
       "    <tr>\n",
       "      <th>513</th>\n",
       "      <td>5968416</td>\n",
       "      <td>0xe8641867f7c8adadf5dd0f2b83cd8f5953c395dfdcda...</td>\n",
       "      <td>0xd0318a8003bd2f9f407b344e0c4924de8a1b58f860e0...</td>\n",
       "      <td>0xb5d883565500910f3f10f0a2e3a031139d972117a3b6...</td>\n",
       "      <td>0x9986d53ff6895a7e625b41a13c9a9e1623df5a294093...</td>\n",
       "      <td>0x66698822cf1f153ae76f973a5932a42e36244f02</td>\n",
       "      <td>30000000</td>\n",
       "      <td>13304597</td>\n",
       "      <td>2.347518e+16</td>\n",
       "      <td>141</td>\n",
       "      <td>16797214</td>\n",
       "    </tr>\n",
       "    <tr>\n",
       "      <th>514</th>\n",
       "      <td>5968593</td>\n",
       "      <td>0x8ee429e9486a6674f37c0925bd719118a24f5936b15f...</td>\n",
       "      <td>0xaec8bd1f452e9ee5e738ab60ff067fdda9f12dac4657...</td>\n",
       "      <td>0xb5d883565500910f3f10f0a2e3a031139d972117a3b6...</td>\n",
       "      <td>0xa71d1a2b4d8c7caed8979936556bddfd2b37f47a7591...</td>\n",
       "      <td>0x50969c69dfd02c25d8087a0815c9b1b2a6c655e9</td>\n",
       "      <td>30000000</td>\n",
       "      <td>11591614</td>\n",
       "      <td>7.764537e+16</td>\n",
       "      <td>149</td>\n",
       "      <td>16797387</td>\n",
       "    </tr>\n",
       "    <tr>\n",
       "      <th>515</th>\n",
       "      <td>5968690</td>\n",
       "      <td>0xeaa87adb3af35c1de0177374c920a08aff59d67a4e02...</td>\n",
       "      <td>0xf80d7e56b99df428db07a370a9b4b2cb9555bd117b01...</td>\n",
       "      <td>0xb5d883565500910f3f10f0a2e3a031139d972117a3b6...</td>\n",
       "      <td>0x867ea73542ad376855c5ab523539d89ceeb8c58ab837...</td>\n",
       "      <td>0xd4e96ef8eee8678dbff4d535e033ed1a4f7605b7</td>\n",
       "      <td>30000000</td>\n",
       "      <td>13194282</td>\n",
       "      <td>2.438614e+16</td>\n",
       "      <td>105</td>\n",
       "      <td>16797482</td>\n",
       "    </tr>\n",
       "    <tr>\n",
       "      <th>516</th>\n",
       "      <td>5968751</td>\n",
       "      <td>0x7f231c846e39fe3734e2405d765e87dcdd2062586d8a...</td>\n",
       "      <td>0xb62ed7774386adb674d18efdc2db654d0639a7fd6d4f...</td>\n",
       "      <td>0xb5d883565500910f3f10f0a2e3a031139d972117a3b6...</td>\n",
       "      <td>0xb1e10c122a4d93248ce895aa5083219da7ebb5c1d97b...</td>\n",
       "      <td>0xa1540553447ed45224d14e00a1e0ef36239c1ced</td>\n",
       "      <td>30000000</td>\n",
       "      <td>11655694</td>\n",
       "      <td>3.976537e+16</td>\n",
       "      <td>108</td>\n",
       "      <td>16797541</td>\n",
       "    </tr>\n",
       "    <tr>\n",
       "      <th>517</th>\n",
       "      <td>5968849</td>\n",
       "      <td>0x4a69aedc717554899c7e81756d6d28c426a9a03ad046...</td>\n",
       "      <td>0xe1aaa9f126475de29c337ac8f235a1cde4a548741952...</td>\n",
       "      <td>0xb5d883565500910f3f10f0a2e3a031139d972117a3b6...</td>\n",
       "      <td>0xa467bab8084cc9c1c91d0c739105d965939caf28e93f...</td>\n",
       "      <td>0x99e49c6c91640c1b217ae6006fcd8898122b4bfb</td>\n",
       "      <td>30000000</td>\n",
       "      <td>14820069</td>\n",
       "      <td>4.258108e+16</td>\n",
       "      <td>133</td>\n",
       "      <td>16797639</td>\n",
       "    </tr>\n",
       "  </tbody>\n",
       "</table>\n",
       "<p>412 rows × 11 columns</p>\n",
       "</div>"
      ],
      "text/plain": [
       "        slot                                        parent_hash  \\\n",
       "106  5918461  0x6a8f5e8b37e60f85bc4cb3c39ffaa1451ab0fa6408fb...   \n",
       "107  5919176  0x0b8bd1618615ee3087ef505675cd9acec6540d5b1692...   \n",
       "108  5919198  0x2a7e9d30f8bedca2a097166959f3c91e761fe7b49053...   \n",
       "109  5919385  0x2ff259c06aa3b0947e3fd12c3874c5aabf248468cb49...   \n",
       "110  5919488  0x3f249831224a419ae68ad350fca420e4fcefc6564e1d...   \n",
       "..       ...                                                ...   \n",
       "513  5968416  0xe8641867f7c8adadf5dd0f2b83cd8f5953c395dfdcda...   \n",
       "514  5968593  0x8ee429e9486a6674f37c0925bd719118a24f5936b15f...   \n",
       "515  5968690  0xeaa87adb3af35c1de0177374c920a08aff59d67a4e02...   \n",
       "516  5968751  0x7f231c846e39fe3734e2405d765e87dcdd2062586d8a...   \n",
       "517  5968849  0x4a69aedc717554899c7e81756d6d28c426a9a03ad046...   \n",
       "\n",
       "                                            block_hash  \\\n",
       "106  0xc0fc1d97ec9ca29364face306a6bd4db5e8563ebd8ae...   \n",
       "107  0x956ec86d4bfd435da65f86b1bcebc4bebd4f383dce94...   \n",
       "108  0xdb294b863eacb13b55b9df29cb6b5e58a305effe86a5...   \n",
       "109  0x588ba8287b32132058013b07481066dfc8f9b0a8326b...   \n",
       "110  0x7174a7658514f9f4c687c5ceb57554b7f8b23fbb51ae...   \n",
       "..                                                 ...   \n",
       "513  0xd0318a8003bd2f9f407b344e0c4924de8a1b58f860e0...   \n",
       "514  0xaec8bd1f452e9ee5e738ab60ff067fdda9f12dac4657...   \n",
       "515  0xf80d7e56b99df428db07a370a9b4b2cb9555bd117b01...   \n",
       "516  0xb62ed7774386adb674d18efdc2db654d0639a7fd6d4f...   \n",
       "517  0xe1aaa9f126475de29c337ac8f235a1cde4a548741952...   \n",
       "\n",
       "                                        builder_pubkey  \\\n",
       "106  0xb5d883565500910f3f10f0a2e3a031139d972117a3b6...   \n",
       "107  0xb5d883565500910f3f10f0a2e3a031139d972117a3b6...   \n",
       "108  0xb5d883565500910f3f10f0a2e3a031139d972117a3b6...   \n",
       "109  0xb5d883565500910f3f10f0a2e3a031139d972117a3b6...   \n",
       "110  0xb5d883565500910f3f10f0a2e3a031139d972117a3b6...   \n",
       "..                                                 ...   \n",
       "513  0xb5d883565500910f3f10f0a2e3a031139d972117a3b6...   \n",
       "514  0xb5d883565500910f3f10f0a2e3a031139d972117a3b6...   \n",
       "515  0xb5d883565500910f3f10f0a2e3a031139d972117a3b6...   \n",
       "516  0xb5d883565500910f3f10f0a2e3a031139d972117a3b6...   \n",
       "517  0xb5d883565500910f3f10f0a2e3a031139d972117a3b6...   \n",
       "\n",
       "                                       proposer_pubkey  \\\n",
       "106  0x9783604648df5b9bd16c88a17bec7e30ef4f33b6e70c...   \n",
       "107  0xa73d8e51dd156379baf780d5e22f6a095c26d7188d87...   \n",
       "108  0xace7ff399b99c5cf3398f8167358b9ba969fd61c7e52...   \n",
       "109  0xb5c0da3ca9b141f3286dc6adf70811643ec3e1420eed...   \n",
       "110  0x8a251a12e60a21374d6cd1fb3127c9d92396068dc1ac...   \n",
       "..                                                 ...   \n",
       "513  0x9986d53ff6895a7e625b41a13c9a9e1623df5a294093...   \n",
       "514  0xa71d1a2b4d8c7caed8979936556bddfd2b37f47a7591...   \n",
       "515  0x867ea73542ad376855c5ab523539d89ceeb8c58ab837...   \n",
       "516  0xb1e10c122a4d93248ce895aa5083219da7ebb5c1d97b...   \n",
       "517  0xa467bab8084cc9c1c91d0c739105d965939caf28e93f...   \n",
       "\n",
       "                         proposer_fee_recipient gas_limit  gas_used  \\\n",
       "106  0x388c818ca8b9251b393131c08a736a67ccb19297  30000000  12142692   \n",
       "107  0x735063ad99269d8672f6b896290636d70970ee55  30000000  21405959   \n",
       "108  0xd4e96ef8eee8678dbff4d535e033ed1a4f7605b7  30000000  13672965   \n",
       "109  0xe688b84b23f322a994a53dbf8e15fa82cdb71127  30000000  10255419   \n",
       "110  0x1cedc0f3af8f9841b0a1f5c1a4ddc6e1a1629074  30000000  10005524   \n",
       "..                                          ...       ...       ...   \n",
       "513  0x66698822cf1f153ae76f973a5932a42e36244f02  30000000  13304597   \n",
       "514  0x50969c69dfd02c25d8087a0815c9b1b2a6c655e9  30000000  11591614   \n",
       "515  0xd4e96ef8eee8678dbff4d535e033ed1a4f7605b7  30000000  13194282   \n",
       "516  0xa1540553447ed45224d14e00a1e0ef36239c1ced  30000000  11655694   \n",
       "517  0x99e49c6c91640c1b217ae6006fcd8898122b4bfb  30000000  14820069   \n",
       "\n",
       "            value num_tx block_number  \n",
       "106  4.589064e+16    141     16747904  \n",
       "107  1.836484e+17    129     16748610  \n",
       "108  4.303615e+16    158     16748632  \n",
       "109  3.231881e+16    127     16748818  \n",
       "110  4.643159e+16    134     16748921  \n",
       "..            ...    ...          ...  \n",
       "513  2.347518e+16    141     16797214  \n",
       "514  7.764537e+16    149     16797387  \n",
       "515  2.438614e+16    105     16797482  \n",
       "516  3.976537e+16    108     16797541  \n",
       "517  4.258108e+16    133     16797639  \n",
       "\n",
       "[412 rows x 11 columns]"
      ]
     },
     "execution_count": 103,
     "metadata": {},
     "output_type": "execute_result"
    }
   ],
   "source": [
    "fbs[(fbs['slot']>=5918450) & (fbs['slot']<5968850)]"
   ]
  },
  {
   "cell_type": "code",
   "execution_count": 116,
   "metadata": {},
   "outputs": [
    {
     "data": {
      "text/plain": [
       "array([[0.41085271, 0.38953488, 0.1996124 ],\n",
       "       [0.41689373, 0.39100817, 0.19209809],\n",
       "       [0.5802552 , 0.26259234, 0.15715245],\n",
       "       [0.58776844, 0.29551821, 0.11671335]])"
      ]
     },
     "execution_count": 116,
     "metadata": {},
     "output_type": "execute_result"
    }
   ],
   "source": [
    "res"
   ]
  },
  {
   "cell_type": "code",
   "execution_count": 117,
   "metadata": {},
   "outputs": [
    {
     "data": {
      "text/plain": [
       "(4, 3)"
      ]
     },
     "execution_count": 117,
     "metadata": {},
     "output_type": "execute_result"
    }
   ],
   "source": [
    "res.shape"
   ]
  },
  {
   "cell_type": "code",
   "execution_count": 122,
   "metadata": {},
   "outputs": [
    {
     "data": {
      "text/plain": [
       "array([0.41085271, 0.38953488, 0.1996124 ])"
      ]
     },
     "execution_count": 122,
     "metadata": {},
     "output_type": "execute_result"
    }
   ],
   "source": [
    "res[0]"
   ]
  },
  {
   "cell_type": "code",
   "execution_count": 198,
   "metadata": {},
   "outputs": [
    {
     "data": {
      "image/png": "[encoded data removed]",
      "text/plain": [
       "<Figure size 792x360 with 2 Axes>"
      ]
     },
     "metadata": {
      "needs_background": "light"
     },
     "output_type": "display_data"
    }
   ],
   "source": [
    "fig, axarr = plt.subplots(ncols=2, figsize=(11,5))\n",
    "\n",
    "ax = axarr[1]\n",
    "bottom = np.zeros(4)\n",
    "vals = np.swapaxes(res, 0, 1) * 100\n",
    "val2 = np.swapaxes(re2, 0, 1)\n",
    "rects = ax.bar(np.arange(4), vals[0], width=0.5, bottom=bottom, label='ultra sound', color='teal')\n",
    "ax.bar(np.arange(4), vals[2], width=0.5, bottom=vals[1]+vals[0], label='flashbots', color='tomato')\n",
    "ax.bar(np.arange(4), vals[1], width=0.5, bottom=vals[0], label='agnostic', color='sandybrown')\n",
    "ax.axvline(1.5, color='r', linewidth=3, alpha=0.3, label='optimistic ')\n",
    "ax.legend(loc='upper left', bbox_to_anchor=(1.01, 1.))\n",
    "ax.set_title('hourly payloads for 0xb5d8835', size=17)\n",
    "\n",
    "for i in range(4):\n",
    "    ax.annotate('{}'.format(val2[0,i]), color='white', xy=(i, vals[0,i]/2), xytext=(0,0),textcoords=\"offset points\", ha='center', va='bottom')\n",
    "for i in range(4):\n",
    "    ax.annotate('{}'.format(val2[1,i]), color='black', xy=(i, vals[0,i]+(vals[1,i])/2), xytext=(0,0),textcoords=\"offset points\", ha='center', va='bottom')\n",
    "for i in range(4):\n",
    "    ax.annotate('{}'.format(val2[2,i]), color='black', xy=(i, vals[0,i]+vals[1,i]+(vals[2,i])/2), xytext=(0,0),textcoords=\"offset points\", ha='center', va='bottom')\n",
    "\n",
    "\n",
    "ax = axarr[0]\n",
    "width = 0.5\n",
    "bottom = np.zeros(4)\n",
    "\n",
    "vals = np.swapaxes(dominance.values[:,1:], 0, 1)\n",
    "ax.bar(np.arange(4), vals[0], width=0.5, bottom=bottom, label='ultra sound', color='teal')\n",
    "ax.bar(np.arange(4), vals[1], width=0.5, bottom=vals[0], label='flashbots', color='tomato')\n",
    "ax.axvline(1.5, color='r', linewidth=3, alpha=0.3, label='optimistic')\n",
    "ax.bar(np.arange(4), vals[2], width=0.5, bottom=vals[1]+vals[0], label='bloxroute', color='sandybrown')\n",
    "ax.bar(np.arange(4), vals[3], width=0.5, bottom=vals[2]+vals[1]+vals[0], label='other', color='mediumorchid')\n",
    "ax.set_title(\"weekly payloads delivered\", size=17)\n",
    "ax.legend(loc='upper left', bbox_to_anchor=(1.01, 1.))\n",
    "\n",
    "for i in range(4):\n",
    "    ax.annotate('{:.1f}%'.format(vals[0,i]), color='white', xy=(i, vals[0,i]/2), xytext=(0,0),textcoords=\"offset points\", ha='center', va='bottom')\n",
    "for i in range(4):\n",
    "    ax.annotate('{:.1f}%'.format(vals[1,i]), color='black', xy=(i, vals[0,i]+(vals[1,i])/2), xytext=(0,0),textcoords=\"offset points\", ha='center', va='bottom')\n",
    "for i in range(4):\n",
    "    ax.annotate('{:.1f}%'.format(vals[2,i]), color='black', xy=(i, vals[0,i]+vals[1,i]+(vals[2,i])/2), xytext=(0,0),textcoords=\"offset points\", ha='center', va='bottom')\n",
    "for i in range(4):\n",
    "    ax.annotate('{:.1f}%'.format(vals[3,i]), color='black', xy=(i, vals[0,i]+vals[1,i]+vals[2,i]+(vals[3,i]/2)), xytext=(0,0), textcoords=\"offset points\", ha='center', va='bottom')\n",
    "\n",
    "for ax in axarr:\n",
    "    ax.set_xticks(np.arange(4))\n",
    "    ax.set_xticklabels(['week 10','week 11','week 12','week 13'])\n",
    "    ax.set_xlabel(\"weeks\", size=15)\n",
    "    ax.grid(alpha=0)\n",
    "    ax.set_yticks([])\n",
    "\n",
    "plt.subplots_adjust(wspace=0.43)\n",
    "plt.show()"
   ]
  },
  {
   "cell_type": "code",
   "execution_count": 61,
   "metadata": {},
   "outputs": [
    {
     "data": {
      "text/plain": [
       "(4000, 3800, 2800)"
      ]
     },
     "execution_count": 61,
     "metadata": {},
     "output_type": "execute_result"
    }
   ],
   "source": [
    "len(usr), len(fbs), len(agn)"
   ]
  },
  {
   "cell_type": "markdown",
   "metadata": {},
   "source": [
    "## value "
   ]
  },
  {
   "cell_type": "code",
   "execution_count": 5,
   "metadata": {},
   "outputs": [
    {
     "data": {
      "text/html": [
       "<div>\n",
       "<style scoped>\n",
       "    .dataframe tbody tr th:only-of-type {\n",
       "        vertical-align: middle;\n",
       "    }\n",
       "\n",
       "    .dataframe tbody tr th {\n",
       "        vertical-align: top;\n",
       "    }\n",
       "\n",
       "    .dataframe thead th {\n",
       "        text-align: right;\n",
       "    }\n",
       "</style>\n",
       "<table border=\"1\" class=\"dataframe\">\n",
       "  <thead>\n",
       "    <tr style=\"text-align: right;\">\n",
       "      <th></th>\n",
       "      <th>v</th>\n",
       "    </tr>\n",
       "  </thead>\n",
       "  <tbody>\n",
       "    <tr>\n",
       "      <th>0</th>\n",
       "      <td>4.680424e+16</td>\n",
       "    </tr>\n",
       "    <tr>\n",
       "      <th>1</th>\n",
       "      <td>3.539945e+16</td>\n",
       "    </tr>\n",
       "    <tr>\n",
       "      <th>2</th>\n",
       "      <td>3.101269e+16</td>\n",
       "    </tr>\n",
       "    <tr>\n",
       "      <th>3</th>\n",
       "      <td>2.728217e+16</td>\n",
       "    </tr>\n",
       "    <tr>\n",
       "      <th>4</th>\n",
       "      <td>4.462748e+16</td>\n",
       "    </tr>\n",
       "  </tbody>\n",
       "</table>\n",
       "</div>"
      ],
      "text/plain": [
       "              v\n",
       "0  4.680424e+16\n",
       "1  3.539945e+16\n",
       "2  3.101269e+16\n",
       "3  2.728217e+16\n",
       "4  4.462748e+16"
      ]
     },
     "execution_count": 5,
     "metadata": {},
     "output_type": "execute_result"
    }
   ],
   "source": [
    "vals = pd.read_csv('frontier/valuesdelivered.txt', names=['v'])\n",
    "vals['v'] = vals['v'].astype(float)\n",
    "vals.head()"
   ]
  },
  {
   "cell_type": "code",
   "execution_count": null,
   "metadata": {},
   "outputs": [],
   "source": [
    "vals[vals['v'] < float(1e18)]"
   ]
  },
  {
   "cell_type": "code",
   "execution_count": null,
   "metadata": {},
   "outputs": [],
   "source": [
    "fbs['value'] = fbs['value'].astype(float)"
   ]
  }
 ],
 "metadata": {
  "kernelspec": {
   "display_name": "Python 3",
   "language": "python",
   "name": "python3"
  },
  "language_info": {
   "codemirror_mode": {
    "name": "ipython",
    "version": 3
   },
   "file_extension": ".py",
   "mimetype": "text/x-python",
   "name": "python",
   "nbconvert_exporter": "python",
   "pygments_lexer": "ipython3",
   "version": "3.8.16"
  }
 },
 "nbformat": 4,
 "nbformat_minor": 4
}

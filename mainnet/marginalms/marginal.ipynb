{
 "cells": [
  {
   "cell_type": "code",
   "execution_count": 49,
   "metadata": {},
   "outputs": [],
   "source": [
    "import numpy as np\n",
    "import pandas as pd\n",
    "import matplotlib.pyplot as plt\n",
    "import json\n",
    "from datetime import datetime\n",
    "from tqdm import tqdm"
   ]
  },
  {
   "cell_type": "code",
   "execution_count": 4,
   "metadata": {},
   "outputs": [
    {
     "data": {
      "text/html": [
       "<div>\n",
       "<style scoped>\n",
       "    .dataframe tbody tr th:only-of-type {\n",
       "        vertical-align: middle;\n",
       "    }\n",
       "\n",
       "    .dataframe tbody tr th {\n",
       "        vertical-align: top;\n",
       "    }\n",
       "\n",
       "    .dataframe thead th {\n",
       "        text-align: right;\n",
       "    }\n",
       "</style>\n",
       "<table border=\"1\" class=\"dataframe\">\n",
       "  <thead>\n",
       "    <tr style=\"text-align: right;\">\n",
       "      <th></th>\n",
       "      <th>slot</th>\n",
       "      <th>value</th>\n",
       "      <th>inserted_at</th>\n",
       "      <th>pk</th>\n",
       "    </tr>\n",
       "  </thead>\n",
       "  <tbody>\n",
       "    <tr>\n",
       "      <th>0</th>\n",
       "      <td>5821700</td>\n",
       "      <td>2193666741541027</td>\n",
       "      <td>2023-02-18 01:40:12.533538</td>\n",
       "      <td>0xb0e77c</td>\n",
       "    </tr>\n",
       "    <tr>\n",
       "      <th>1</th>\n",
       "      <td>5821700</td>\n",
       "      <td>25022323400819027</td>\n",
       "      <td>2023-02-18 01:40:12.791141</td>\n",
       "      <td>0xb0e77c</td>\n",
       "    </tr>\n",
       "    <tr>\n",
       "      <th>2</th>\n",
       "      <td>5821700</td>\n",
       "      <td>12264946791501133</td>\n",
       "      <td>2023-02-18 01:40:12.883725</td>\n",
       "      <td>0xa1defa</td>\n",
       "    </tr>\n",
       "    <tr>\n",
       "      <th>3</th>\n",
       "      <td>5821700</td>\n",
       "      <td>1539784306473133</td>\n",
       "      <td>2023-02-18 01:40:12.888181</td>\n",
       "      <td>0xa1dead</td>\n",
       "    </tr>\n",
       "    <tr>\n",
       "      <th>4</th>\n",
       "      <td>5821700</td>\n",
       "      <td>944375132223133</td>\n",
       "      <td>2023-02-18 01:40:12.895380</td>\n",
       "      <td>0xaa1488</td>\n",
       "    </tr>\n",
       "  </tbody>\n",
       "</table>\n",
       "</div>"
      ],
      "text/plain": [
       "      slot              value                inserted_at        pk\n",
       "0  5821700   2193666741541027 2023-02-18 01:40:12.533538  0xb0e77c\n",
       "1  5821700  25022323400819027 2023-02-18 01:40:12.791141  0xb0e77c\n",
       "2  5821700  12264946791501133 2023-02-18 01:40:12.883725  0xa1defa\n",
       "3  5821700   1539784306473133 2023-02-18 01:40:12.888181  0xa1dead\n",
       "4  5821700    944375132223133 2023-02-18 01:40:12.895380  0xaa1488"
      ]
     },
     "execution_count": 4,
     "metadata": {},
     "output_type": "execute_result"
    }
   ],
   "source": [
    "wkhr = pd.read_csv(\"week-hour-submissions.csv\", names=['slot', 'value', 'inserted_at', 'pk'])\n",
    "wkhr['inserted_at'] = pd.to_datetime(wkhr.inserted_at, format=\"%Y-%m-%d%H:%M:%S.%f\")\n",
    "wkhr.head()"
   ]
  },
  {
   "cell_type": "code",
   "execution_count": 55,
   "metadata": {},
   "outputs": [
    {
     "data": {
      "text/plain": [
       "31339"
      ]
     },
     "execution_count": 55,
     "metadata": {},
     "output_type": "execute_result"
    }
   ],
   "source": [
    "len(wkhr)"
   ]
  },
  {
   "cell_type": "code",
   "execution_count": 5,
   "metadata": {},
   "outputs": [
    {
     "data": {
      "text/plain": [
       "Timestamp('2023-02-18 01:40:12.533538')"
      ]
     },
     "execution_count": 5,
     "metadata": {},
     "output_type": "execute_result"
    }
   ],
   "source": [
    "wkhr['inserted_at'][0]"
   ]
  },
  {
   "cell_type": "code",
   "execution_count": 56,
   "metadata": {},
   "outputs": [
    {
     "data": {
      "text/plain": [
       "50"
      ]
     },
     "execution_count": 56,
     "metadata": {},
     "output_type": "execute_result"
    }
   ],
   "source": [
    "slots = list(set(wkhr.slot.values))\n",
    "len(slots)"
   ]
  },
  {
   "cell_type": "code",
   "execution_count": 57,
   "metadata": {},
   "outputs": [
    {
     "data": {
      "text/plain": [
       "55"
      ]
     },
     "execution_count": 57,
     "metadata": {},
     "output_type": "execute_result"
    }
   ],
   "source": [
    "pks = list(set(wkhr.pk.values))\n",
    "len(pks)"
   ]
  },
  {
   "cell_type": "code",
   "execution_count": 97,
   "metadata": {},
   "outputs": [
    {
     "name": "stderr",
     "output_type": "stream",
     "text": [
      "100%|██████████| 50/50 [00:02<00:00, 23.17it/s]\n"
     ]
    }
   ],
   "source": [
    "pkWeiPerMus = {}\n",
    "for p in pks:\n",
    "    pkWeiPerMus[p] = []\n",
    "\n",
    "for sl in tqdm(slots[:]):\n",
    "    slotdf = wkhr[wkhr['slot']==sl]\n",
    "    for pk in pks[:]:\n",
    "        pkdf = slotdf[slotdf['pk']==pk]\n",
    "        vals = pkdf.value.values\n",
    "        inserted = pkdf.inserted_at.values\n",
    "        for i in range(len(vals)-1):\n",
    "            delta = vals[i] - vals[i-1]\n",
    "            if delta > 0:\n",
    "                timeDelta = int(inserted[i] - inserted[i-1]) / 1000 # ns -> mus\n",
    "                # print(delta, timeDelta, inserted[i], inserted[i-1])\n",
    "                pkWeiPerMus[pk].append(delta / timeDelta)"
   ]
  },
  {
   "cell_type": "code",
   "execution_count": 99,
   "metadata": {},
   "outputs": [
    {
     "data": {
      "text/plain": [
       "(23077,)"
      ]
     },
     "execution_count": 99,
     "metadata": {},
     "output_type": "execute_result"
    }
   ],
   "source": [
    "total = []\n",
    "for k in pkWeiPerMus.keys():\n",
    "    total.extend(pkWeiPerMus[k])\n",
    "total = np.asarray(total)\n",
    "total.shape"
   ]
  },
  {
   "cell_type": "code",
   "execution_count": 100,
   "metadata": {},
   "outputs": [
    {
     "data": {
      "text/plain": [
       "(20826,)"
      ]
     },
     "execution_count": 100,
     "metadata": {},
     "output_type": "execute_result"
    }
   ],
   "source": [
    "total = total[total > np.percentile(total, 5)]\n",
    "total = total[total < np.percentile(total, 95)]\n",
    "total.shape"
   ]
  },
  {
   "cell_type": "code",
   "execution_count": 106,
   "metadata": {},
   "outputs": [
    {
     "data": {
      "image/png": "[encoded data removed]",
      "text/plain": [
       "<Figure size 504x360 with 1 Axes>"
      ]
     },
     "metadata": {
      "needs_background": "light"
     },
     "output_type": "display_data"
    }
   ],
   "source": [
    "f, ax = plt.subplots(figsize=(7,5))\n",
    "\n",
    "ax.hist(total/int(1e9), bins=500, color='g', alpha=0.5, cumulative=1, density=True, label='cdf')\n",
    "ax.hist(total/int(1e9), bins=500, color='b', alpha=0.5, density=True, label='pdf')\n",
    "\n",
    "ax.set_xlim(-0.3, 20)\n",
    "ax.grid(alpha=0.3)\n",
    "ax.set_xlabel('gwei/$\\mu$s', size=16)\n",
    "ax.set_title('marginal utility of time, mean={:0.3f} gwei/$\\mu$s'.format(total.mean()/int(1e9)), size=18)\n",
    "ax.legend()\n",
    "plt.show()"
   ]
  },
  {
   "cell_type": "code",
   "execution_count": 108,
   "metadata": {},
   "outputs": [
    {
     "data": {
      "text/plain": [
       "261936000.0"
      ]
     },
     "execution_count": 108,
     "metadata": {},
     "output_type": "execute_result"
    }
   ],
   "source": [
    "3.638 * 1000 * 50 * 7200 * 0.2"
   ]
  },
  {
   "cell_type": "code",
   "execution_count": 33,
   "metadata": {},
   "outputs": [
    {
     "data": {
      "text/plain": [
       "314556.0"
      ]
     },
     "execution_count": 33,
     "metadata": {},
     "output_type": "execute_result"
    }
   ],
   "source": [
    "int(timeDelta) / 1000"
   ]
  },
  {
   "cell_type": "code",
   "execution_count": 22,
   "metadata": {},
   "outputs": [
    {
     "data": {
      "text/html": [
       "<div>\n",
       "<style scoped>\n",
       "    .dataframe tbody tr th:only-of-type {\n",
       "        vertical-align: middle;\n",
       "    }\n",
       "\n",
       "    .dataframe tbody tr th {\n",
       "        vertical-align: top;\n",
       "    }\n",
       "\n",
       "    .dataframe thead th {\n",
       "        text-align: right;\n",
       "    }\n",
       "</style>\n",
       "<table border=\"1\" class=\"dataframe\">\n",
       "  <thead>\n",
       "    <tr style=\"text-align: right;\">\n",
       "      <th></th>\n",
       "      <th>slot</th>\n",
       "      <th>value</th>\n",
       "      <th>inserted_at</th>\n",
       "      <th>pk</th>\n",
       "    </tr>\n",
       "  </thead>\n",
       "  <tbody>\n",
       "    <tr>\n",
       "      <th>196</th>\n",
       "      <td>5821700</td>\n",
       "      <td>67354169702000767</td>\n",
       "      <td>2023-02-18 01:40:19.168783</td>\n",
       "      <td>0xa4fb63</td>\n",
       "    </tr>\n",
       "    <tr>\n",
       "      <th>228</th>\n",
       "      <td>5821700</td>\n",
       "      <td>147773158952761149</td>\n",
       "      <td>2023-02-18 01:40:19.803748</td>\n",
       "      <td>0xa4fb63</td>\n",
       "    </tr>\n",
       "    <tr>\n",
       "      <th>252</th>\n",
       "      <td>5821700</td>\n",
       "      <td>166596908914320395</td>\n",
       "      <td>2023-02-18 01:40:20.241864</td>\n",
       "      <td>0xa4fb63</td>\n",
       "    </tr>\n",
       "    <tr>\n",
       "      <th>276</th>\n",
       "      <td>5821700</td>\n",
       "      <td>167024662914320395</td>\n",
       "      <td>2023-02-18 01:40:20.679674</td>\n",
       "      <td>0xa4fb63</td>\n",
       "    </tr>\n",
       "    <tr>\n",
       "      <th>304</th>\n",
       "      <td>5821700</td>\n",
       "      <td>166815370124124151</td>\n",
       "      <td>2023-02-18 01:40:21.084444</td>\n",
       "      <td>0xa4fb63</td>\n",
       "    </tr>\n",
       "    <tr>\n",
       "      <th>351</th>\n",
       "      <td>5821700</td>\n",
       "      <td>170327101842081803</td>\n",
       "      <td>2023-02-18 01:40:21.431722</td>\n",
       "      <td>0xa4fb63</td>\n",
       "    </tr>\n",
       "    <tr>\n",
       "      <th>398</th>\n",
       "      <td>5821700</td>\n",
       "      <td>178095813375566934</td>\n",
       "      <td>2023-02-18 01:40:21.923916</td>\n",
       "      <td>0xa4fb63</td>\n",
       "    </tr>\n",
       "    <tr>\n",
       "      <th>443</th>\n",
       "      <td>5821700</td>\n",
       "      <td>220171643966718279</td>\n",
       "      <td>2023-02-18 01:40:22.173799</td>\n",
       "      <td>0xa4fb63</td>\n",
       "    </tr>\n",
       "    <tr>\n",
       "      <th>473</th>\n",
       "      <td>5821700</td>\n",
       "      <td>234261312916737712</td>\n",
       "      <td>2023-02-18 01:40:22.423851</td>\n",
       "      <td>0xa4fb63</td>\n",
       "    </tr>\n",
       "    <tr>\n",
       "      <th>511</th>\n",
       "      <td>5821700</td>\n",
       "      <td>237451848280402352</td>\n",
       "      <td>2023-02-18 01:40:22.804680</td>\n",
       "      <td>0xa4fb63</td>\n",
       "    </tr>\n",
       "    <tr>\n",
       "      <th>559</th>\n",
       "      <td>5821700</td>\n",
       "      <td>282222920951921021</td>\n",
       "      <td>2023-02-18 01:40:23.203726</td>\n",
       "      <td>0xa4fb63</td>\n",
       "    </tr>\n",
       "    <tr>\n",
       "      <th>602</th>\n",
       "      <td>5821700</td>\n",
       "      <td>233672056483056993</td>\n",
       "      <td>2023-02-18 01:40:23.503620</td>\n",
       "      <td>0xa4fb63</td>\n",
       "    </tr>\n",
       "    <tr>\n",
       "      <th>635</th>\n",
       "      <td>5821700</td>\n",
       "      <td>279383776504524711</td>\n",
       "      <td>2023-02-18 01:40:23.818176</td>\n",
       "      <td>0xa4fb63</td>\n",
       "    </tr>\n",
       "    <tr>\n",
       "      <th>680</th>\n",
       "      <td>5821700</td>\n",
       "      <td>293660341748178566</td>\n",
       "      <td>2023-02-18 01:40:24.211423</td>\n",
       "      <td>0xa4fb63</td>\n",
       "    </tr>\n",
       "  </tbody>\n",
       "</table>\n",
       "</div>"
      ],
      "text/plain": [
       "        slot               value                inserted_at        pk\n",
       "196  5821700   67354169702000767 2023-02-18 01:40:19.168783  0xa4fb63\n",
       "228  5821700  147773158952761149 2023-02-18 01:40:19.803748  0xa4fb63\n",
       "252  5821700  166596908914320395 2023-02-18 01:40:20.241864  0xa4fb63\n",
       "276  5821700  167024662914320395 2023-02-18 01:40:20.679674  0xa4fb63\n",
       "304  5821700  166815370124124151 2023-02-18 01:40:21.084444  0xa4fb63\n",
       "351  5821700  170327101842081803 2023-02-18 01:40:21.431722  0xa4fb63\n",
       "398  5821700  178095813375566934 2023-02-18 01:40:21.923916  0xa4fb63\n",
       "443  5821700  220171643966718279 2023-02-18 01:40:22.173799  0xa4fb63\n",
       "473  5821700  234261312916737712 2023-02-18 01:40:22.423851  0xa4fb63\n",
       "511  5821700  237451848280402352 2023-02-18 01:40:22.804680  0xa4fb63\n",
       "559  5821700  282222920951921021 2023-02-18 01:40:23.203726  0xa4fb63\n",
       "602  5821700  233672056483056993 2023-02-18 01:40:23.503620  0xa4fb63\n",
       "635  5821700  279383776504524711 2023-02-18 01:40:23.818176  0xa4fb63\n",
       "680  5821700  293660341748178566 2023-02-18 01:40:24.211423  0xa4fb63"
      ]
     },
     "execution_count": 22,
     "metadata": {},
     "output_type": "execute_result"
    }
   ],
   "source": [
    "pkdf"
   ]
  }
 ],
 "metadata": {
  "kernelspec": {
   "display_name": "Python 3",
   "language": "python",
   "name": "python3"
  },
  "language_info": {
   "codemirror_mode": {
    "name": "ipython",
    "version": 3
   },
   "file_extension": ".py",
   "mimetype": "text/x-python",
   "name": "python",
   "nbconvert_exporter": "python",
   "pygments_lexer": "ipython3",
   "version": "3.8.16"
  }
 },
 "nbformat": 4,
 "nbformat_minor": 4
}

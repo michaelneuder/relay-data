{
 "cells": [
  {
   "cell_type": "code",
   "execution_count": 1,
   "metadata": {},
   "outputs": [],
   "source": [
    "import numpy as np\n",
    "import pandas as pd\n",
    "import matplotlib.pyplot as plt\n",
    "import json\n",
    "from datetime import datetime"
   ]
  },
  {
   "cell_type": "code",
   "execution_count": 2,
   "metadata": {},
   "outputs": [
    {
     "data": {
      "text/html": [
       "<div>\n",
       "<style scoped>\n",
       "    .dataframe tbody tr th:only-of-type {\n",
       "        vertical-align: middle;\n",
       "    }\n",
       "\n",
       "    .dataframe tbody tr th {\n",
       "        vertical-align: top;\n",
       "    }\n",
       "\n",
       "    .dataframe thead th {\n",
       "        text-align: right;\n",
       "    }\n",
       "</style>\n",
       "<table border=\"1\" class=\"dataframe\">\n",
       "  <thead>\n",
       "    <tr style=\"text-align: right;\">\n",
       "      <th></th>\n",
       "      <th>read_header_duration</th>\n",
       "      <th>read_duration</th>\n",
       "      <th>decode_duration</th>\n",
       "      <th>cache_read_duration</th>\n",
       "      <th>randao_lock_2_duration</th>\n",
       "      <th>simulation_duration</th>\n",
       "      <th>redis_update_duration</th>\n",
       "      <th>submission_duration</th>\n",
       "      <th>optimistic_submission</th>\n",
       "    </tr>\n",
       "  </thead>\n",
       "  <tbody>\n",
       "    <tr>\n",
       "      <th>0</th>\n",
       "      <td>57</td>\n",
       "      <td>255205</td>\n",
       "      <td>1655</td>\n",
       "      <td>420</td>\n",
       "      <td>5051</td>\n",
       "      <td>13</td>\n",
       "      <td>12004</td>\n",
       "      <td>274372</td>\n",
       "      <td>t</td>\n",
       "    </tr>\n",
       "    <tr>\n",
       "      <th>1</th>\n",
       "      <td>94</td>\n",
       "      <td>252915</td>\n",
       "      <td>1538</td>\n",
       "      <td>273</td>\n",
       "      <td>2489</td>\n",
       "      <td>14</td>\n",
       "      <td>7569</td>\n",
       "      <td>264826</td>\n",
       "      <td>t</td>\n",
       "    </tr>\n",
       "    <tr>\n",
       "      <th>2</th>\n",
       "      <td>77</td>\n",
       "      <td>258543</td>\n",
       "      <td>1380</td>\n",
       "      <td>321</td>\n",
       "      <td>2400</td>\n",
       "      <td>15</td>\n",
       "      <td>8539</td>\n",
       "      <td>271218</td>\n",
       "      <td>t</td>\n",
       "    </tr>\n",
       "    <tr>\n",
       "      <th>3</th>\n",
       "      <td>89</td>\n",
       "      <td>253895</td>\n",
       "      <td>1982</td>\n",
       "      <td>408</td>\n",
       "      <td>2509</td>\n",
       "      <td>14</td>\n",
       "      <td>8287</td>\n",
       "      <td>267115</td>\n",
       "      <td>t</td>\n",
       "    </tr>\n",
       "    <tr>\n",
       "      <th>4</th>\n",
       "      <td>37454</td>\n",
       "      <td>371602</td>\n",
       "      <td>2305</td>\n",
       "      <td>321</td>\n",
       "      <td>2685</td>\n",
       "      <td>15</td>\n",
       "      <td>8823</td>\n",
       "      <td>385800</td>\n",
       "      <td>t</td>\n",
       "    </tr>\n",
       "  </tbody>\n",
       "</table>\n",
       "</div>"
      ],
      "text/plain": [
       "   read_header_duration  read_duration  decode_duration  cache_read_duration  \\\n",
       "0                    57         255205             1655                  420   \n",
       "1                    94         252915             1538                  273   \n",
       "2                    77         258543             1380                  321   \n",
       "3                    89         253895             1982                  408   \n",
       "4                 37454         371602             2305                  321   \n",
       "\n",
       "   randao_lock_2_duration  simulation_duration  redis_update_duration  \\\n",
       "0                    5051                   13                  12004   \n",
       "1                    2489                   14                   7569   \n",
       "2                    2400                   15                   8539   \n",
       "3                    2509                   14                   8287   \n",
       "4                    2685                   15                   8823   \n",
       "\n",
       "   submission_duration optimistic_submission  \n",
       "0               274372                     t  \n",
       "1               264826                     t  \n",
       "2               271218                     t  \n",
       "3               267115                     t  \n",
       "4               385800                     t  "
      ]
     },
     "execution_count": 2,
     "metadata": {},
     "output_type": "execute_result"
    }
   ],
   "source": [
    "df = pd.read_csv('header_only.csv', delimiter=\"|\")\n",
    "df.head()"
   ]
  },
  {
   "cell_type": "code",
   "execution_count": 10,
   "metadata": {},
   "outputs": [
    {
     "name": "stdout",
     "output_type": "stream",
     "text": [
      "100381 & 125728 & 175633 & 418684 & \n",
      "61 & 81 & 139 & 15563 & \n",
      "1286 & 2515 & 6753 & 198932 & "
     ]
    }
   ],
   "source": [
    "for i in [50, 75, 90, 99]:\n",
    "    print(int(np.percentile(df['read_duration'], i)), end=' & ')\n",
    "print()\n",
    "for i in [50, 75, 90, 99]:\n",
    "    print(int(np.percentile(df['read_header_duration'], i)), end=' & ')\n",
    "print()\n",
    "for i in [50, 75, 90, 99]:\n",
    "    print(int(np.percentile(df['decode_duration'], i)), end=' & ')"
   ]
  }
 ],
 "metadata": {
  "kernelspec": {
   "display_name": "Python 3",
   "language": "python",
   "name": "python3"
  },
  "language_info": {
   "codemirror_mode": {
    "name": "ipython",
    "version": 3
   },
   "file_extension": ".py",
   "mimetype": "text/x-python",
   "name": "python",
   "nbconvert_exporter": "python",
   "pygments_lexer": "ipython3",
   "version": "3.8.16"
  }
 },
 "nbformat": 4,
 "nbformat_minor": 4
}

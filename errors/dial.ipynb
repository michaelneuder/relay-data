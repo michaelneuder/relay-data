{
 "cells": [
  {
   "cell_type": "code",
   "execution_count": 1,
   "metadata": {},
   "outputs": [],
   "source": [
    "import numpy as np\n",
    "import pandas as pd\n",
    "import matplotlib.pyplot as plt\n",
    "import json\n",
    "from datetime import datetime\n",
    "pd.set_option('display.width', 1000)\n",
    "import requests"
   ]
  },
  {
   "cell_type": "code",
   "execution_count": 12,
   "metadata": {},
   "outputs": [
    {
     "data": {
      "text/html": [
       "<div>\n",
       "<style scoped>\n",
       "    .dataframe tbody tr th:only-of-type {\n",
       "        vertical-align: middle;\n",
       "    }\n",
       "\n",
       "    .dataframe tbody tr th {\n",
       "        vertical-align: top;\n",
       "    }\n",
       "\n",
       "    .dataframe thead th {\n",
       "        text-align: right;\n",
       "    }\n",
       "</style>\n",
       "<table border=\"1\" class=\"dataframe\">\n",
       "  <thead>\n",
       "    <tr style=\"text-align: right;\">\n",
       "      <th></th>\n",
       "      <th>slot</th>\n",
       "      <th>builder_pubkey</th>\n",
       "      <th>sim_error</th>\n",
       "    </tr>\n",
       "  </thead>\n",
       "  <tbody>\n",
       "    <tr>\n",
       "      <th>0</th>\n",
       "      <td>5778361</td>\n",
       "      <td>0xa4fb63c2ceeee73d1f1711fadf1c5357ac98cecb999d...</td>\n",
       "      <td>Post\"http://prio-load-balancer:80\":dialtcp:loo...</td>\n",
       "    </tr>\n",
       "    <tr>\n",
       "      <th>1</th>\n",
       "      <td>5778361</td>\n",
       "      <td>0x96a59d355b1f65e270b29981dd113625732539e955a1...</td>\n",
       "      <td>Post\"http://prio-load-balancer:80\":dialtcp:loo...</td>\n",
       "    </tr>\n",
       "    <tr>\n",
       "      <th>2</th>\n",
       "      <td>5778361</td>\n",
       "      <td>0xb0e77c875ec24b1738fd062ccc4b184ae1cb57e968a0...</td>\n",
       "      <td>Post\"http://prio-load-balancer:80\":dialtcp:loo...</td>\n",
       "    </tr>\n",
       "    <tr>\n",
       "      <th>3</th>\n",
       "      <td>5778361</td>\n",
       "      <td>0xa4fb63c2ceeee73d1f1711fadf1c5357ac98cecb999d...</td>\n",
       "      <td>Post\"http://prio-load-balancer:80\":dialtcp:loo...</td>\n",
       "    </tr>\n",
       "    <tr>\n",
       "      <th>4</th>\n",
       "      <td>5778361</td>\n",
       "      <td>0xb3a4b137b0224321813151568035e4c0dd7af8a2523a...</td>\n",
       "      <td>Post\"http://prio-load-balancer:80\":dialtcp:loo...</td>\n",
       "    </tr>\n",
       "    <tr>\n",
       "      <th>5</th>\n",
       "      <td>5778361</td>\n",
       "      <td>0x8bc8d110f8b5207e7edc407e8fa033937ddfe8d2c6f1...</td>\n",
       "      <td>Post\"http://prio-load-balancer:80\":dialtcp:loo...</td>\n",
       "    </tr>\n",
       "    <tr>\n",
       "      <th>6</th>\n",
       "      <td>5778361</td>\n",
       "      <td>0xa4fb63c2ceeee73d1f1711fadf1c5357ac98cecb999d...</td>\n",
       "      <td>Post\"http://prio-load-balancer:80\":dialtcp:loo...</td>\n",
       "    </tr>\n",
       "    <tr>\n",
       "      <th>7</th>\n",
       "      <td>5778361</td>\n",
       "      <td>0x80c7311597316f871363f8395b6a8d056071d90d8eb2...</td>\n",
       "      <td>Post\"http://prio-load-balancer:80\":dialtcp:loo...</td>\n",
       "    </tr>\n",
       "    <tr>\n",
       "      <th>8</th>\n",
       "      <td>5778361</td>\n",
       "      <td>0x83d3495a2951065cf19c4d282afca0a635a39f6504bd...</td>\n",
       "      <td>Post\"http://prio-load-balancer:80\":dialtcp:loo...</td>\n",
       "    </tr>\n",
       "    <tr>\n",
       "      <th>9</th>\n",
       "      <td>5778361</td>\n",
       "      <td>0xa1defa73d675983a6972e8686360022c1ebc73395067...</td>\n",
       "      <td>Post\"http://prio-load-balancer:80\":dialtcp:loo...</td>\n",
       "    </tr>\n",
       "  </tbody>\n",
       "</table>\n",
       "</div>"
      ],
      "text/plain": [
       "      slot                                     builder_pubkey                                          sim_error\n",
       "0  5778361  0xa4fb63c2ceeee73d1f1711fadf1c5357ac98cecb999d...  Post\"http://prio-load-balancer:80\":dialtcp:loo...\n",
       "1  5778361  0x96a59d355b1f65e270b29981dd113625732539e955a1...  Post\"http://prio-load-balancer:80\":dialtcp:loo...\n",
       "2  5778361  0xb0e77c875ec24b1738fd062ccc4b184ae1cb57e968a0...  Post\"http://prio-load-balancer:80\":dialtcp:loo...\n",
       "3  5778361  0xa4fb63c2ceeee73d1f1711fadf1c5357ac98cecb999d...  Post\"http://prio-load-balancer:80\":dialtcp:loo...\n",
       "4  5778361  0xb3a4b137b0224321813151568035e4c0dd7af8a2523a...  Post\"http://prio-load-balancer:80\":dialtcp:loo...\n",
       "5  5778361  0x8bc8d110f8b5207e7edc407e8fa033937ddfe8d2c6f1...  Post\"http://prio-load-balancer:80\":dialtcp:loo...\n",
       "6  5778361  0xa4fb63c2ceeee73d1f1711fadf1c5357ac98cecb999d...  Post\"http://prio-load-balancer:80\":dialtcp:loo...\n",
       "7  5778361  0x80c7311597316f871363f8395b6a8d056071d90d8eb2...  Post\"http://prio-load-balancer:80\":dialtcp:loo...\n",
       "8  5778361  0x83d3495a2951065cf19c4d282afca0a635a39f6504bd...  Post\"http://prio-load-balancer:80\":dialtcp:loo...\n",
       "9  5778361  0xa1defa73d675983a6972e8686360022c1ebc73395067...  Post\"http://prio-load-balancer:80\":dialtcp:loo..."
      ]
     },
     "execution_count": 12,
     "metadata": {},
     "output_type": "execute_result"
    }
   ],
   "source": [
    "errs = pd.read_csv('rollout/tcpdial.txt', delimiter='|').sort_values('slot').reset_index(drop=True)\n",
    "errs.head(n=10)"
   ]
  },
  {
   "cell_type": "code",
   "execution_count": 17,
   "metadata": {},
   "outputs": [
    {
     "data": {
      "text/plain": [
       "5778361    161\n",
       "5780439     25\n",
       "5780445     34\n",
       "5780448     74\n",
       "5819682     25\n",
       "5819683     46\n",
       "5819684     45\n",
       "5819685     10\n",
       "5899665     34\n",
       "Name: slot, dtype: int64"
      ]
     },
     "execution_count": 17,
     "metadata": {},
     "output_type": "execute_result"
    }
   ],
   "source": [
    "errs['slot'].value_counts().sort_index()"
   ]
  }
 ],
 "metadata": {
  "kernelspec": {
   "display_name": "Python 3",
   "language": "python",
   "name": "python3"
  },
  "language_info": {
   "codemirror_mode": {
    "name": "ipython",
    "version": 3
   },
   "file_extension": ".py",
   "mimetype": "text/x-python",
   "name": "python",
   "nbconvert_exporter": "python",
   "pygments_lexer": "ipython3",
   "version": "3.8.16"
  }
 },
 "nbformat": 4,
 "nbformat_minor": 4
}

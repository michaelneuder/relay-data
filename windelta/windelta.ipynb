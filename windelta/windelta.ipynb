{
 "cells": [
  {
   "cell_type": "code",
   "execution_count": 2,
   "metadata": {},
   "outputs": [],
   "source": [
    "import numpy as np\n",
    "import pandas as pd\n",
    "import matplotlib.pyplot as plt\n",
    "import json\n",
    "from datetime import datetime\n",
    "plt.rcParams['axes.grid'] = True\n",
    "plt.rcParams['grid.alpha'] = 0.3\n",
    "plt.rcParams['axes.titlesize'] = 18"
   ]
  },
  {
   "cell_type": "code",
   "execution_count": 58,
   "metadata": {},
   "outputs": [
    {
     "data": {
      "text/html": [
       "<div>\n",
       "<style scoped>\n",
       "    .dataframe tbody tr th:only-of-type {\n",
       "        vertical-align: middle;\n",
       "    }\n",
       "\n",
       "    .dataframe tbody tr th {\n",
       "        vertical-align: top;\n",
       "    }\n",
       "\n",
       "    .dataframe thead th {\n",
       "        text-align: right;\n",
       "    }\n",
       "</style>\n",
       "<table border=\"1\" class=\"dataframe\">\n",
       "  <thead>\n",
       "    <tr style=\"text-align: right;\">\n",
       "      <th></th>\n",
       "      <th>inserted_at</th>\n",
       "      <th>slot</th>\n",
       "      <th>value</th>\n",
       "      <th>hash</th>\n",
       "    </tr>\n",
       "  </thead>\n",
       "  <tbody>\n",
       "    <tr>\n",
       "      <th>0</th>\n",
       "      <td>2023-02-24 15:50:23.680712</td>\n",
       "      <td>5869150</td>\n",
       "      <td>75454354173452880</td>\n",
       "      <td>0x9b3af2</td>\n",
       "    </tr>\n",
       "    <tr>\n",
       "      <th>1</th>\n",
       "      <td>2023-02-24 15:51:23.686856</td>\n",
       "      <td>5869155</td>\n",
       "      <td>138807147878308192</td>\n",
       "      <td>0x03d09f</td>\n",
       "    </tr>\n",
       "    <tr>\n",
       "      <th>2</th>\n",
       "      <td>2023-02-24 15:53:00.487982</td>\n",
       "      <td>5869163</td>\n",
       "      <td>50874348025890567</td>\n",
       "      <td>0xbf9969</td>\n",
       "    </tr>\n",
       "    <tr>\n",
       "      <th>3</th>\n",
       "      <td>2023-02-24 15:53:23.687311</td>\n",
       "      <td>5869165</td>\n",
       "      <td>39920149754212144</td>\n",
       "      <td>0x6ca72f</td>\n",
       "    </tr>\n",
       "    <tr>\n",
       "      <th>4</th>\n",
       "      <td>2023-02-24 15:55:24.006246</td>\n",
       "      <td>5869175</td>\n",
       "      <td>52699372202476983</td>\n",
       "      <td>0x56cc15</td>\n",
       "    </tr>\n",
       "  </tbody>\n",
       "</table>\n",
       "</div>"
      ],
      "text/plain": [
       "                 inserted_at     slot               value       hash\n",
       "0 2023-02-24 15:50:23.680712  5869150   75454354173452880   0x9b3af2\n",
       "1 2023-02-24 15:51:23.686856  5869155  138807147878308192   0x03d09f\n",
       "2 2023-02-24 15:53:00.487982  5869163   50874348025890567   0xbf9969\n",
       "3 2023-02-24 15:53:23.687311  5869165   39920149754212144   0x6ca72f\n",
       "4 2023-02-24 15:55:24.006246  5869175   52699372202476983   0x56cc15"
      ]
     },
     "execution_count": 58,
     "metadata": {},
     "output_type": "execute_result"
    }
   ],
   "source": [
    "winners = pd.read_csv('windelta.csv', delimiter='|')\n",
    "winners['inserted_at'] = pd.to_datetime(winners['inserted_at'], format=\"%Y-%m-%d %H:%M:%S.%f\")\n",
    "winners.head()"
   ]
  },
  {
   "cell_type": "code",
   "execution_count": 126,
   "metadata": {},
   "outputs": [
    {
     "data": {
      "text/html": [
       "<div>\n",
       "<style scoped>\n",
       "    .dataframe tbody tr th:only-of-type {\n",
       "        vertical-align: middle;\n",
       "    }\n",
       "\n",
       "    .dataframe tbody tr th {\n",
       "        vertical-align: top;\n",
       "    }\n",
       "\n",
       "    .dataframe thead th {\n",
       "        text-align: right;\n",
       "    }\n",
       "</style>\n",
       "<table border=\"1\" class=\"dataframe\">\n",
       "  <thead>\n",
       "    <tr style=\"text-align: right;\">\n",
       "      <th></th>\n",
       "      <th>inserted_at</th>\n",
       "      <th>slot</th>\n",
       "      <th>value</th>\n",
       "      <th>hash</th>\n",
       "      <th>slot_boundary</th>\n",
       "      <th>deltas_us</th>\n",
       "    </tr>\n",
       "  </thead>\n",
       "  <tbody>\n",
       "    <tr>\n",
       "      <th>0</th>\n",
       "      <td>2023-02-24 15:50:23.680712</td>\n",
       "      <td>5869150</td>\n",
       "      <td>75454354173452880</td>\n",
       "      <td>0x9b3af2</td>\n",
       "      <td>2023-02-24 15:50:24</td>\n",
       "      <td>319288</td>\n",
       "    </tr>\n",
       "    <tr>\n",
       "      <th>1</th>\n",
       "      <td>2023-02-24 15:51:23.686856</td>\n",
       "      <td>5869155</td>\n",
       "      <td>138807147878308192</td>\n",
       "      <td>0x03d09f</td>\n",
       "      <td>2023-02-24 15:51:24</td>\n",
       "      <td>313144</td>\n",
       "    </tr>\n",
       "    <tr>\n",
       "      <th>2</th>\n",
       "      <td>2023-02-24 15:53:00.487982</td>\n",
       "      <td>5869163</td>\n",
       "      <td>50874348025890567</td>\n",
       "      <td>0xbf9969</td>\n",
       "      <td>2023-02-24 15:53:00</td>\n",
       "      <td>-487982</td>\n",
       "    </tr>\n",
       "    <tr>\n",
       "      <th>3</th>\n",
       "      <td>2023-02-24 15:53:23.687311</td>\n",
       "      <td>5869165</td>\n",
       "      <td>39920149754212144</td>\n",
       "      <td>0x6ca72f</td>\n",
       "      <td>2023-02-24 15:53:24</td>\n",
       "      <td>312689</td>\n",
       "    </tr>\n",
       "    <tr>\n",
       "      <th>4</th>\n",
       "      <td>2023-02-24 15:55:24.006246</td>\n",
       "      <td>5869175</td>\n",
       "      <td>52699372202476983</td>\n",
       "      <td>0x56cc15</td>\n",
       "      <td>2023-02-24 15:55:24</td>\n",
       "      <td>-6246</td>\n",
       "    </tr>\n",
       "  </tbody>\n",
       "</table>\n",
       "</div>"
      ],
      "text/plain": [
       "                 inserted_at     slot               value       hash  \\\n",
       "0 2023-02-24 15:50:23.680712  5869150   75454354173452880   0x9b3af2   \n",
       "1 2023-02-24 15:51:23.686856  5869155  138807147878308192   0x03d09f   \n",
       "2 2023-02-24 15:53:00.487982  5869163   50874348025890567   0xbf9969   \n",
       "3 2023-02-24 15:53:23.687311  5869165   39920149754212144   0x6ca72f   \n",
       "4 2023-02-24 15:55:24.006246  5869175   52699372202476983   0x56cc15   \n",
       "\n",
       "        slot_boundary  deltas_us  \n",
       "0 2023-02-24 15:50:24     319288  \n",
       "1 2023-02-24 15:51:24     313144  \n",
       "2 2023-02-24 15:53:00    -487982  \n",
       "3 2023-02-24 15:53:24     312689  \n",
       "4 2023-02-24 15:55:24      -6246  "
      ]
     },
     "execution_count": 126,
     "metadata": {},
     "output_type": "execute_result"
    }
   ],
   "source": [
    "winners['slot_boundary'] = np.asarray([pd.Timestamp(x).round(freq='12S') for x in winners['inserted_at'].values])\n",
    "winners['deltas_us'] = [int((winners['slot_boundary'].values[i] - winners['inserted_at'].values[i]) / np.timedelta64(1, 'us')) for i in range(len(winners))]\n",
    "winners.head()"
   ]
  },
  {
   "cell_type": "code",
   "execution_count": 62,
   "metadata": {},
   "outputs": [],
   "source": [
    "# write file for winning hash and slots\n",
    "f = open('winninghashslots.txt', 'w')\n",
    "slots = winners['slot'].values\n",
    "hashes = winners['hash'].values\n",
    "for i in range(len(slots)):\n",
    "    f.write('{} {}\\n'.format(slots[i], hashes[i]))\n",
    "f.close()"
   ]
  },
  {
   "cell_type": "code",
   "execution_count": 127,
   "metadata": {},
   "outputs": [
    {
     "name": "stderr",
     "output_type": "stream",
     "text": [
      "No handles with labels found to put in legend.\n"
     ]
    },
    {
     "data": {
      "image/png": "[encoded data removed]",
      "text/plain": [
       "<Figure size 504x288 with 1 Axes>"
      ]
     },
     "metadata": {
      "needs_background": "light"
     },
     "output_type": "display_data"
    }
   ],
   "source": [
    "f, ax = plt.subplots(figsize=(7,4))\n",
    "ax.hist(-winners['deltas_us'].values, bins=200, color='r', alpha=0.5)\n",
    "ax.set_title('winning bid insertion relative to slot boundary', size=17)\n",
    "ax.legend()\n",
    "plt.show()"
   ]
  },
  {
   "cell_type": "code",
   "execution_count": 64,
   "metadata": {},
   "outputs": [
    {
     "data": {
      "text/html": [
       "<div>\n",
       "<style scoped>\n",
       "    .dataframe tbody tr th:only-of-type {\n",
       "        vertical-align: middle;\n",
       "    }\n",
       "\n",
       "    .dataframe tbody tr th {\n",
       "        vertical-align: top;\n",
       "    }\n",
       "\n",
       "    .dataframe thead th {\n",
       "        text-align: right;\n",
       "    }\n",
       "</style>\n",
       "<table border=\"1\" class=\"dataframe\">\n",
       "  <thead>\n",
       "    <tr style=\"text-align: right;\">\n",
       "      <th></th>\n",
       "      <th>inserted_at</th>\n",
       "      <th>slot</th>\n",
       "      <th>value</th>\n",
       "      <th>hash</th>\n",
       "      <th>slot_boundary</th>\n",
       "      <th>deltas_us</th>\n",
       "    </tr>\n",
       "  </thead>\n",
       "  <tbody>\n",
       "    <tr>\n",
       "      <th>0</th>\n",
       "      <td>2023-02-24 15:50:23.680712</td>\n",
       "      <td>5869150</td>\n",
       "      <td>75454354173452880</td>\n",
       "      <td>0x9b3af2</td>\n",
       "      <td>2023-02-24 15:50:24</td>\n",
       "      <td>319288</td>\n",
       "    </tr>\n",
       "  </tbody>\n",
       "</table>\n",
       "</div>"
      ],
      "text/plain": [
       "                 inserted_at     slot              value       hash  \\\n",
       "0 2023-02-24 15:50:23.680712  5869150  75454354173452880   0x9b3af2   \n",
       "\n",
       "        slot_boundary  deltas_us  \n",
       "0 2023-02-24 15:50:24     319288  "
      ]
     },
     "execution_count": 64,
     "metadata": {},
     "output_type": "execute_result"
    }
   ],
   "source": [
    "winners[winners['slot']==5869150]"
   ]
  },
  {
   "cell_type": "code",
   "execution_count": null,
   "metadata": {},
   "outputs": [],
   "source": [
    "# query 1:\n",
    " 5869150 | 75454354173452880 | 0x9b3af2 | 2023-02-24 15:50:22.90846 | 2023-02-24 15:50:22.813963\n",
    "# query 2:\n",
    " 5869150 | 84917981546849292 | 0xf4e541 | 2023-02-24 15:50:23.759636 | 2023-02-24 15:50:23.659157"
   ]
  },
  {
   "cell_type": "code",
   "execution_count": null,
   "metadata": {},
   "outputs": [],
   "source": [
    "1. winning block submitted at 15:50:22.90846\n",
    "2. getPayload delivered at    15:50:23.680712\n",
    "3. highest block submitted at 15:50:23.759636"
   ]
  },
  {
   "cell_type": "code",
   "execution_count": 67,
   "metadata": {},
   "outputs": [
    {
     "data": {
      "text/html": [
       "<div>\n",
       "<style scoped>\n",
       "    .dataframe tbody tr th:only-of-type {\n",
       "        vertical-align: middle;\n",
       "    }\n",
       "\n",
       "    .dataframe tbody tr th {\n",
       "        vertical-align: top;\n",
       "    }\n",
       "\n",
       "    .dataframe thead th {\n",
       "        text-align: right;\n",
       "    }\n",
       "</style>\n",
       "<table border=\"1\" class=\"dataframe\">\n",
       "  <thead>\n",
       "    <tr style=\"text-align: right;\">\n",
       "      <th></th>\n",
       "      <th>slot</th>\n",
       "      <th>value</th>\n",
       "      <th>hash</th>\n",
       "      <th>inserted_at</th>\n",
       "      <th>received_at</th>\n",
       "    </tr>\n",
       "  </thead>\n",
       "  <tbody>\n",
       "    <tr>\n",
       "      <th>0</th>\n",
       "      <td>5869150</td>\n",
       "      <td>75454354173452880</td>\n",
       "      <td>0x9b3af2</td>\n",
       "      <td>2023-02-24 15:50:22.908460</td>\n",
       "      <td>2023-02-24 15:50:22.813963</td>\n",
       "    </tr>\n",
       "    <tr>\n",
       "      <th>1</th>\n",
       "      <td>5869155</td>\n",
       "      <td>138807147878308192</td>\n",
       "      <td>0x03d09f</td>\n",
       "      <td>2023-02-24 15:51:23.445101</td>\n",
       "      <td>2023-02-24 15:51:23.168851</td>\n",
       "    </tr>\n",
       "    <tr>\n",
       "      <th>2</th>\n",
       "      <td>5869163</td>\n",
       "      <td>50874348025890567</td>\n",
       "      <td>0xbf9969</td>\n",
       "      <td>2023-02-24 15:52:59.260797</td>\n",
       "      <td>2023-02-24 15:52:58.900823</td>\n",
       "    </tr>\n",
       "    <tr>\n",
       "      <th>3</th>\n",
       "      <td>5869165</td>\n",
       "      <td>39920149754212144</td>\n",
       "      <td>0x6ca72f</td>\n",
       "      <td>2023-02-24 15:53:23.278979</td>\n",
       "      <td>2023-02-24 15:53:23.167940</td>\n",
       "    </tr>\n",
       "    <tr>\n",
       "      <th>4</th>\n",
       "      <td>5869175</td>\n",
       "      <td>52699372202476983</td>\n",
       "      <td>0x56cc15</td>\n",
       "      <td>2023-02-24 15:55:23.300688</td>\n",
       "      <td>2023-02-24 15:55:23.116930</td>\n",
       "    </tr>\n",
       "  </tbody>\n",
       "</table>\n",
       "</div>"
      ],
      "text/plain": [
       "      slot               value        hash                inserted_at  \\\n",
       "0  5869150   75454354173452880   0x9b3af2  2023-02-24 15:50:22.908460   \n",
       "1  5869155  138807147878308192   0x03d09f  2023-02-24 15:51:23.445101   \n",
       "2  5869163   50874348025890567   0xbf9969  2023-02-24 15:52:59.260797   \n",
       "3  5869165   39920149754212144   0x6ca72f  2023-02-24 15:53:23.278979   \n",
       "4  5869175   52699372202476983   0x56cc15  2023-02-24 15:55:23.300688   \n",
       "\n",
       "                 received_at  \n",
       "0 2023-02-24 15:50:22.813963  \n",
       "1 2023-02-24 15:51:23.168851  \n",
       "2 2023-02-24 15:52:58.900823  \n",
       "3 2023-02-24 15:53:23.167940  \n",
       "4 2023-02-24 15:55:23.116930  "
      ]
     },
     "execution_count": 67,
     "metadata": {},
     "output_type": "execute_result"
    }
   ],
   "source": [
    "winsubs = pd.read_csv('windelta1_res.txt', delimiter='|', names=['slot', 'value', 'hash', 'inserted_at', 'received_at'])\n",
    "winsubs['inserted_at'] = pd.to_datetime(winsubs['inserted_at'], format=\"%Y-%m-%d %H:%M:%S.%f\")\n",
    "winsubs['received_at'] = pd.to_datetime(winsubs['received_at'], format=\"%Y-%m-%d %H:%M:%S.%f\")\n",
    "winsubs.head()"
   ]
  },
  {
   "cell_type": "code",
   "execution_count": 68,
   "metadata": {},
   "outputs": [
    {
     "data": {
      "text/html": [
       "<div>\n",
       "<style scoped>\n",
       "    .dataframe tbody tr th:only-of-type {\n",
       "        vertical-align: middle;\n",
       "    }\n",
       "\n",
       "    .dataframe tbody tr th {\n",
       "        vertical-align: top;\n",
       "    }\n",
       "\n",
       "    .dataframe thead th {\n",
       "        text-align: right;\n",
       "    }\n",
       "</style>\n",
       "<table border=\"1\" class=\"dataframe\">\n",
       "  <thead>\n",
       "    <tr style=\"text-align: right;\">\n",
       "      <th></th>\n",
       "      <th>slot</th>\n",
       "      <th>value</th>\n",
       "      <th>hash</th>\n",
       "      <th>inserted_at</th>\n",
       "      <th>received_at</th>\n",
       "    </tr>\n",
       "  </thead>\n",
       "  <tbody>\n",
       "    <tr>\n",
       "      <th>0</th>\n",
       "      <td>5869150</td>\n",
       "      <td>84917981546849292</td>\n",
       "      <td>0xf4e541</td>\n",
       "      <td>2023-02-24 15:50:23.759636</td>\n",
       "      <td>2023-02-24 15:50:23.659157</td>\n",
       "    </tr>\n",
       "    <tr>\n",
       "      <th>1</th>\n",
       "      <td>5869155</td>\n",
       "      <td>138807147878308192</td>\n",
       "      <td>0x03d09f</td>\n",
       "      <td>2023-02-24 15:51:23.445101</td>\n",
       "      <td>2023-02-24 15:51:23.168851</td>\n",
       "    </tr>\n",
       "    <tr>\n",
       "      <th>2</th>\n",
       "      <td>5869163</td>\n",
       "      <td>50884848025890567</td>\n",
       "      <td>0x800744</td>\n",
       "      <td>2023-02-24 15:53:00.359119</td>\n",
       "      <td>2023-02-24 15:52:59.381302</td>\n",
       "    </tr>\n",
       "    <tr>\n",
       "      <th>3</th>\n",
       "      <td>5869165</td>\n",
       "      <td>40650663479468494</td>\n",
       "      <td>0x49bdca</td>\n",
       "      <td>2023-02-24 15:53:23.602052</td>\n",
       "      <td>2023-02-24 15:53:23.460386</td>\n",
       "    </tr>\n",
       "    <tr>\n",
       "      <th>4</th>\n",
       "      <td>5869175</td>\n",
       "      <td>103240680963313264</td>\n",
       "      <td>0xe1fbe7</td>\n",
       "      <td>2023-02-24 15:55:24.174456</td>\n",
       "      <td>2023-02-24 15:55:23.953573</td>\n",
       "    </tr>\n",
       "  </tbody>\n",
       "</table>\n",
       "</div>"
      ],
      "text/plain": [
       "      slot               value        hash                inserted_at  \\\n",
       "0  5869150   84917981546849292   0xf4e541  2023-02-24 15:50:23.759636   \n",
       "1  5869155  138807147878308192   0x03d09f  2023-02-24 15:51:23.445101   \n",
       "2  5869163   50884848025890567   0x800744  2023-02-24 15:53:00.359119   \n",
       "3  5869165   40650663479468494   0x49bdca  2023-02-24 15:53:23.602052   \n",
       "4  5869175  103240680963313264   0xe1fbe7  2023-02-24 15:55:24.174456   \n",
       "\n",
       "                 received_at  \n",
       "0 2023-02-24 15:50:23.659157  \n",
       "1 2023-02-24 15:51:23.168851  \n",
       "2 2023-02-24 15:52:59.381302  \n",
       "3 2023-02-24 15:53:23.460386  \n",
       "4 2023-02-24 15:55:23.953573  "
      ]
     },
     "execution_count": 68,
     "metadata": {},
     "output_type": "execute_result"
    }
   ],
   "source": [
    "highsubs = pd.read_csv('windelta2_res.txt', delimiter='|', names=['slot', 'value', 'hash', 'inserted_at', 'received_at'])\n",
    "highsubs['inserted_at'] = pd.to_datetime(highsubs['inserted_at'], format=\"%Y-%m-%d %H:%M:%S.%f\")\n",
    "highsubs['received_at'] = pd.to_datetime(highsubs['received_at'], format=\"%Y-%m-%d %H:%M:%S.%f\")\n",
    "highsubs.head()"
   ]
  },
  {
   "cell_type": "code",
   "execution_count": 70,
   "metadata": {},
   "outputs": [
    {
     "data": {
      "text/plain": [
       "(5723, 5723, 5723)"
      ]
     },
     "execution_count": 70,
     "metadata": {},
     "output_type": "execute_result"
    }
   ],
   "source": [
    "len(winsubs), len(highsubs)"
   ]
  },
  {
   "cell_type": "code",
   "execution_count": 79,
   "metadata": {},
   "outputs": [
    {
     "data": {
      "text/plain": [
       "array([ 851176.,       0., 1098322., ...,  467694.,  694876.,  537803.])"
      ]
     },
     "execution_count": 79,
     "metadata": {},
     "output_type": "execute_result"
    }
   ],
   "source": [
    "delta1 = (highsubs['inserted_at'].values - winsubs['inserted_at'].values)/np.timedelta64(1, 'us')\n",
    "delta1"
   ]
  },
  {
   "cell_type": "code",
   "execution_count": 93,
   "metadata": {},
   "outputs": [
    {
     "data": {
      "text/plain": [
       "array([  78924., -241755., -128863., ...,  243628.,  317187., 1024858.])"
      ]
     },
     "execution_count": 93,
     "metadata": {},
     "output_type": "execute_result"
    }
   ],
   "source": [
    "delta2 = (highsubs['inserted_at'].values - winners['inserted_at'].values)/np.timedelta64(1, 'us')\n",
    "delta2"
   ]
  },
  {
   "cell_type": "code",
   "execution_count": 94,
   "metadata": {},
   "outputs": [
    {
     "data": {
      "text/plain": [
       "array([ 772252.,  241755., 1227185., ...,  224066.,  377689., -487055.])"
      ]
     },
     "execution_count": 94,
     "metadata": {},
     "output_type": "execute_result"
    }
   ],
   "source": [
    "delta3 = (winners['inserted_at'].values - winsubs['inserted_at'].values)/np.timedelta64(1, 'us')\n",
    "delta3"
   ]
  },
  {
   "cell_type": "code",
   "execution_count": 125,
   "metadata": {},
   "outputs": [
    {
     "data": {
      "image/png": "[encoded data removed]",
      "text/plain": [
       "<Figure size 504x432 with 3 Axes>"
      ]
     },
     "metadata": {
      "needs_background": "light"
     },
     "output_type": "display_data"
    }
   ],
   "source": [
    "f, axarr = plt.subplots(nrows=3, figsize=(7,6))\n",
    "cts, bins = np.histogram(delta1[np.where((delta1 >= int(-2e6)) | (delta1 <= int(3e6)))], bins=500)\n",
    "axarr[0].hist(delta1[np.where((delta1 >= int(-2e6)) | (delta1 <= int(3e6)))], bins=bins, color='r', alpha=0.5)\n",
    "axarr[1].hist(delta2[np.where((delta2 >= int(-2e6)) | (delta2 <= int(3e6)))], bins=bins, color='b', alpha=0.5)\n",
    "axarr[2].hist(delta3[np.where((delta3 >= int(-2e6)) | (delta3 <= int(3e6)))], bins=bins, color='g', alpha=0.5)\n",
    "# ax.set_title('winning bid insertion relative to slot boundary', size=17)\n",
    "# ax.legend()\n",
    "for ax in axarr:\n",
    "    ax.set_xlim(int(-2e6), int(3e6))\n",
    "    ticks = [int(-2e6),int(-1e6),int(0),int(1e6),int(2e6),int(3e6)]\n",
    "    ax.set_xticks(ticks)\n",
    "    ax.set_ylabel('count', size=13)\n",
    "# for ax in axarr[:-1]:\n",
    "#     ax.set_xticklabels([])\n",
    "axarr[-1].set_xlabel('time delta $(\\mu s)$', size=13)\n",
    "axarr[0].set_title('max bid - winning bid', size=14)\n",
    "axarr[1].set_title('max bid - payload delivered', size=14)\n",
    "axarr[2].set_title('payload delivered - winning bid', size=14)\n",
    "plt.subplots_adjust(hspace=0.5)\n",
    "plt.show()"
   ]
  },
  {
   "cell_type": "code",
   "execution_count": 138,
   "metadata": {},
   "outputs": [
    {
     "data": {
      "text/plain": [
       "(481132.2184169142, 505281.0426349816)"
      ]
     },
     "execution_count": 138,
     "metadata": {},
     "output_type": "execute_result"
    }
   ],
   "source": [
    "subdelta1 = (highsubs['inserted_at'] - highsubs['received_at'])/np.timedelta64(1, 'us')\n",
    "subdelta2 = (winsubs['inserted_at'] - winsubs['received_at'])/np.timedelta64(1, 'us')\n",
    "subdelta1.mean(), subdelta2.mean()"
   ]
  },
  {
   "cell_type": "code",
   "execution_count": 139,
   "metadata": {},
   "outputs": [
    {
     "data": {
      "image/png": "[encoded data removed]",
      "text/plain": [
       "<Figure size 504x288 with 2 Axes>"
      ]
     },
     "metadata": {
      "needs_background": "light"
     },
     "output_type": "display_data"
    }
   ],
   "source": [
    "f, axarr = plt.subplots(nrows=2, figsize=(7,4))\n",
    "cts, bins = np.histogram(subdelta1, bins=500)\n",
    "axarr[0].hist(subdelta1, bins=bins, color='r', alpha=0.5)\n",
    "axarr[1].hist(subdelta2, bins=bins, color='b', alpha=0.5)\n",
    "# ax.set_title('winning bid insertion relative to slot boundary', size=17)\n",
    "# ax.legend()\n",
    "for ax in axarr:\n",
    "    ax.set_xlim(int(-10000), int(2e6))\n",
    "#     ticks = [int(-2e6),int(-1e6),int(0),int(1e6),int(2e6),int(3e6)]\n",
    "#     ax.set_xticks(ticks)\n",
    "#     ax.set_ylabel('count', size=13)\n",
    "# for ax in axarr[:-1]:\n",
    "#     ax.set_xticklabels([])\n",
    "axarr[-1].set_xlabel('time delta $(\\mu s)$', size=13)\n",
    "axarr[0].set_title('max bid, received - inserted', size=14)\n",
    "axarr[1].set_title('winning bid, received - inserted', size=14)\n",
    "plt.subplots_adjust(hspace=0.5)\n",
    "plt.show()"
   ]
  },
  {
   "cell_type": "code",
   "execution_count": 1,
   "metadata": {},
   "outputs": [],
   "source": [
    "### goerli"
   ]
  },
  {
   "cell_type": "code",
   "execution_count": 3,
   "metadata": {},
   "outputs": [
    {
     "data": {
      "text/html": [
       "<div>\n",
       "<style scoped>\n",
       "    .dataframe tbody tr th:only-of-type {\n",
       "        vertical-align: middle;\n",
       "    }\n",
       "\n",
       "    .dataframe tbody tr th {\n",
       "        vertical-align: top;\n",
       "    }\n",
       "\n",
       "    .dataframe thead th {\n",
       "        text-align: right;\n",
       "    }\n",
       "</style>\n",
       "<table border=\"1\" class=\"dataframe\">\n",
       "  <thead>\n",
       "    <tr style=\"text-align: right;\">\n",
       "      <th></th>\n",
       "      <th>inserted_at</th>\n",
       "      <th>slot</th>\n",
       "      <th>value</th>\n",
       "      <th>validated_at</th>\n",
       "      <th>hash</th>\n",
       "    </tr>\n",
       "  </thead>\n",
       "  <tbody>\n",
       "    <tr>\n",
       "      <th>0</th>\n",
       "      <td>2023-03-01 16:41:25.070741</td>\n",
       "      <td>5098407</td>\n",
       "      <td>97696261465091512</td>\n",
       "      <td>2023-03-01 16:41:25.059201</td>\n",
       "      <td>0xd595b8</td>\n",
       "    </tr>\n",
       "    <tr>\n",
       "      <th>1</th>\n",
       "      <td>2023-03-01 16:44:49.130714</td>\n",
       "      <td>5098424</td>\n",
       "      <td>103400729769131674</td>\n",
       "      <td>2023-03-01 16:44:49.116390</td>\n",
       "      <td>0x3e6d95</td>\n",
       "    </tr>\n",
       "    <tr>\n",
       "      <th>2</th>\n",
       "      <td>2023-03-01 16:55:00.827501</td>\n",
       "      <td>5098475</td>\n",
       "      <td>48068443193975000</td>\n",
       "      <td>2023-03-01 16:55:00.809381</td>\n",
       "      <td>0xe25c17</td>\n",
       "    </tr>\n",
       "    <tr>\n",
       "      <th>3</th>\n",
       "      <td>2023-03-01 17:17:00.820387</td>\n",
       "      <td>5098585</td>\n",
       "      <td>225507927158102455</td>\n",
       "      <td>2023-03-01 17:17:00.799422</td>\n",
       "      <td>0x731cd3</td>\n",
       "    </tr>\n",
       "    <tr>\n",
       "      <th>4</th>\n",
       "      <td>2023-03-01 17:51:48.553772</td>\n",
       "      <td>5098759</td>\n",
       "      <td>136243322469010438</td>\n",
       "      <td>2023-03-01 17:51:48.534220</td>\n",
       "      <td>0x1d5e76</td>\n",
       "    </tr>\n",
       "  </tbody>\n",
       "</table>\n",
       "</div>"
      ],
      "text/plain": [
       "                 inserted_at     slot               value  \\\n",
       "0 2023-03-01 16:41:25.070741  5098407   97696261465091512   \n",
       "1 2023-03-01 16:44:49.130714  5098424  103400729769131674   \n",
       "2 2023-03-01 16:55:00.827501  5098475   48068443193975000   \n",
       "3 2023-03-01 17:17:00.820387  5098585  225507927158102455   \n",
       "4 2023-03-01 17:51:48.553772  5098759  136243322469010438   \n",
       "\n",
       "                validated_at       hash  \n",
       "0 2023-03-01 16:41:25.059201   0xd595b8  \n",
       "1 2023-03-01 16:44:49.116390   0x3e6d95  \n",
       "2 2023-03-01 16:55:00.809381   0xe25c17  \n",
       "3 2023-03-01 17:17:00.799422   0x731cd3  \n",
       "4 2023-03-01 17:51:48.534220   0x1d5e76  "
      ]
     },
     "execution_count": 3,
     "metadata": {},
     "output_type": "execute_result"
    }
   ],
   "source": [
    "winners = pd.read_csv('goerli/windelta.csv', delimiter='|')\n",
    "winners['inserted_at'] = pd.to_datetime(winners['inserted_at'], format=\"%Y-%m-%d %H:%M:%S.%f\")\n",
    "winners['validated_at'] = pd.to_datetime(winners['validated_at'], format=\"%Y-%m-%d %H:%M:%S.%f\")\n",
    "winners.head()"
   ]
  },
  {
   "cell_type": "code",
   "execution_count": 5,
   "metadata": {},
   "outputs": [],
   "source": [
    "# write file for winning hash and slots\n",
    "f = open('goerli/winninghashslots.txt', 'w')\n",
    "slots = winners['slot'].values\n",
    "hashes = winners['hash'].values\n",
    "for i in range(len(slots)):\n",
    "    f.write('{} {}\\n'.format(slots[i], hashes[i]))\n",
    "f.close()"
   ]
  },
  {
   "cell_type": "code",
   "execution_count": 7,
   "metadata": {},
   "outputs": [
    {
     "data": {
      "text/html": [
       "<div>\n",
       "<style scoped>\n",
       "    .dataframe tbody tr th:only-of-type {\n",
       "        vertical-align: middle;\n",
       "    }\n",
       "\n",
       "    .dataframe tbody tr th {\n",
       "        vertical-align: top;\n",
       "    }\n",
       "\n",
       "    .dataframe thead th {\n",
       "        text-align: right;\n",
       "    }\n",
       "</style>\n",
       "<table border=\"1\" class=\"dataframe\">\n",
       "  <thead>\n",
       "    <tr style=\"text-align: right;\">\n",
       "      <th></th>\n",
       "      <th>slot</th>\n",
       "      <th>value</th>\n",
       "      <th>hash</th>\n",
       "      <th>inserted_at</th>\n",
       "      <th>received_at</th>\n",
       "    </tr>\n",
       "  </thead>\n",
       "  <tbody>\n",
       "    <tr>\n",
       "      <th>0</th>\n",
       "      <td>5098407</td>\n",
       "      <td>97696261465091512</td>\n",
       "      <td>0xd595b8</td>\n",
       "      <td>2023-03-01 16:41:24.024117</td>\n",
       "      <td>2023-03-01 16:41:23.891549</td>\n",
       "    </tr>\n",
       "    <tr>\n",
       "      <th>1</th>\n",
       "      <td>5098424</td>\n",
       "      <td>103400729769131674</td>\n",
       "      <td>0x3e6d95</td>\n",
       "      <td>2023-03-01 16:44:48.243999</td>\n",
       "      <td>2023-03-01 16:44:47.954834</td>\n",
       "    </tr>\n",
       "    <tr>\n",
       "      <th>2</th>\n",
       "      <td>5098475</td>\n",
       "      <td>48068443193975000</td>\n",
       "      <td>0xe25c17</td>\n",
       "      <td>2023-03-01 16:55:00.020312</td>\n",
       "      <td>2023-03-01 16:54:59.996190</td>\n",
       "    </tr>\n",
       "    <tr>\n",
       "      <th>3</th>\n",
       "      <td>5098585</td>\n",
       "      <td>225507927158102455</td>\n",
       "      <td>0x731cd3</td>\n",
       "      <td>2023-03-01 17:17:00.096959</td>\n",
       "      <td>2023-03-01 17:16:59.952715</td>\n",
       "    </tr>\n",
       "    <tr>\n",
       "      <th>4</th>\n",
       "      <td>5098759</td>\n",
       "      <td>136243322469010438</td>\n",
       "      <td>0x1d5e76</td>\n",
       "      <td>2023-03-01 17:51:47.457718</td>\n",
       "      <td>2023-03-01 17:51:47.282348</td>\n",
       "    </tr>\n",
       "  </tbody>\n",
       "</table>\n",
       "</div>"
      ],
      "text/plain": [
       "      slot               value        hash                inserted_at  \\\n",
       "0  5098407   97696261465091512   0xd595b8  2023-03-01 16:41:24.024117   \n",
       "1  5098424  103400729769131674   0x3e6d95  2023-03-01 16:44:48.243999   \n",
       "2  5098475   48068443193975000   0xe25c17  2023-03-01 16:55:00.020312   \n",
       "3  5098585  225507927158102455   0x731cd3  2023-03-01 17:17:00.096959   \n",
       "4  5098759  136243322469010438   0x1d5e76  2023-03-01 17:51:47.457718   \n",
       "\n",
       "                 received_at  \n",
       "0 2023-03-01 16:41:23.891549  \n",
       "1 2023-03-01 16:44:47.954834  \n",
       "2 2023-03-01 16:54:59.996190  \n",
       "3 2023-03-01 17:16:59.952715  \n",
       "4 2023-03-01 17:51:47.282348  "
      ]
     },
     "execution_count": 7,
     "metadata": {},
     "output_type": "execute_result"
    }
   ],
   "source": [
    "winsubs = pd.read_csv('goerli/windelta1_res.txt', delimiter='|', names=['slot', 'value', 'hash', 'inserted_at', 'received_at'])\n",
    "winsubs['inserted_at'] = pd.to_datetime(winsubs['inserted_at'], format=\"%Y-%m-%d %H:%M:%S.%f\")\n",
    "winsubs['received_at'] = pd.to_datetime(winsubs['received_at'], format=\"%Y-%m-%d %H:%M:%S.%f\")\n",
    "winsubs.head()"
   ]
  },
  {
   "cell_type": "code",
   "execution_count": 12,
   "metadata": {},
   "outputs": [
    {
     "data": {
      "text/html": [
       "<div>\n",
       "<style scoped>\n",
       "    .dataframe tbody tr th:only-of-type {\n",
       "        vertical-align: middle;\n",
       "    }\n",
       "\n",
       "    .dataframe tbody tr th {\n",
       "        vertical-align: top;\n",
       "    }\n",
       "\n",
       "    .dataframe thead th {\n",
       "        text-align: right;\n",
       "    }\n",
       "</style>\n",
       "<table border=\"1\" class=\"dataframe\">\n",
       "  <thead>\n",
       "    <tr style=\"text-align: right;\">\n",
       "      <th></th>\n",
       "      <th>slot</th>\n",
       "      <th>value</th>\n",
       "      <th>hash</th>\n",
       "      <th>inserted_at</th>\n",
       "      <th>received_at</th>\n",
       "    </tr>\n",
       "  </thead>\n",
       "  <tbody>\n",
       "    <tr>\n",
       "      <th>0</th>\n",
       "      <td>5098407</td>\n",
       "      <td>102928446376757512</td>\n",
       "      <td>0x4e48be</td>\n",
       "      <td>2023-03-01 16:41:25.346572</td>\n",
       "      <td>2023-03-01 16:41:24.744030</td>\n",
       "    </tr>\n",
       "    <tr>\n",
       "      <th>1</th>\n",
       "      <td>5098424</td>\n",
       "      <td>108805679656724229</td>\n",
       "      <td>0x85c7c0</td>\n",
       "      <td>2023-03-01 16:44:48.860728</td>\n",
       "      <td>2023-03-01 16:44:48.599066</td>\n",
       "    </tr>\n",
       "    <tr>\n",
       "      <th>2</th>\n",
       "      <td>5098475</td>\n",
       "      <td>62275469192329365</td>\n",
       "      <td>0x88d603</td>\n",
       "      <td>2023-03-01 16:55:00.525971</td>\n",
       "      <td>2023-03-01 16:55:00.500526</td>\n",
       "    </tr>\n",
       "    <tr>\n",
       "      <th>3</th>\n",
       "      <td>5098585</td>\n",
       "      <td>225507927158102455</td>\n",
       "      <td>0x731cd3</td>\n",
       "      <td>2023-03-01 17:17:00.096959</td>\n",
       "      <td>2023-03-01 17:16:59.952715</td>\n",
       "    </tr>\n",
       "    <tr>\n",
       "      <th>4</th>\n",
       "      <td>5098759</td>\n",
       "      <td>149764041439627214</td>\n",
       "      <td>0x032e4d</td>\n",
       "      <td>2023-03-01 17:51:48.452534</td>\n",
       "      <td>2023-03-01 17:51:48.308846</td>\n",
       "    </tr>\n",
       "  </tbody>\n",
       "</table>\n",
       "</div>"
      ],
      "text/plain": [
       "      slot               value        hash                inserted_at  \\\n",
       "0  5098407  102928446376757512   0x4e48be  2023-03-01 16:41:25.346572   \n",
       "1  5098424  108805679656724229   0x85c7c0  2023-03-01 16:44:48.860728   \n",
       "2  5098475   62275469192329365   0x88d603  2023-03-01 16:55:00.525971   \n",
       "3  5098585  225507927158102455   0x731cd3  2023-03-01 17:17:00.096959   \n",
       "4  5098759  149764041439627214   0x032e4d  2023-03-01 17:51:48.452534   \n",
       "\n",
       "                 received_at  \n",
       "0 2023-03-01 16:41:24.744030  \n",
       "1 2023-03-01 16:44:48.599066  \n",
       "2 2023-03-01 16:55:00.500526  \n",
       "3 2023-03-01 17:16:59.952715  \n",
       "4 2023-03-01 17:51:48.308846  "
      ]
     },
     "execution_count": 12,
     "metadata": {},
     "output_type": "execute_result"
    }
   ],
   "source": [
    "highsubs = pd.read_csv('goerli/windelta2_res.txt', delimiter='|', names=['slot', 'value', 'hash', 'inserted_at', 'received_at'])\n",
    "highsubs['inserted_at'] = pd.to_datetime(highsubs['inserted_at'], format=\"%Y-%m-%d %H:%M:%S.%f\")\n",
    "highsubs['received_at'] = pd.to_datetime(highsubs['received_at'], format=\"%Y-%m-%d %H:%M:%S.%f\")\n",
    "highsubs.head()"
   ]
  },
  {
   "cell_type": "code",
   "execution_count": 13,
   "metadata": {},
   "outputs": [
    {
     "data": {
      "text/plain": [
       "(38, 38, 38)"
      ]
     },
     "execution_count": 13,
     "metadata": {},
     "output_type": "execute_result"
    }
   ],
   "source": [
    "len(winsubs), len(highsubs), len(winners)"
   ]
  },
  {
   "cell_type": "code",
   "execution_count": 14,
   "metadata": {},
   "outputs": [
    {
     "data": {
      "text/plain": [
       "array([1322455.,  616729.,  505659.,       0.,  994816.,       0.,\n",
       "        566744.,  922799.,       0.,  601859.,  122122.,       0.,\n",
       "             0., 2081881., 1272824., 1198983.,  751635.,  232980.,\n",
       "        667444., 1183494.,  596021.,  988266.,       0.,  312619.,\n",
       "        611295.,  709781., 1518410.,  510632.,       0.,  652932.,\n",
       "        789040.,       0.,  832044.,  492280.,  497510.,  497927.,\n",
       "       1029902., 1003165.])"
      ]
     },
     "execution_count": 14,
     "metadata": {},
     "output_type": "execute_result"
    }
   ],
   "source": [
    "delta1 = (highsubs['inserted_at'].values - winsubs['inserted_at'].values)/np.timedelta64(1, 'us')\n",
    "delta1"
   ]
  },
  {
   "cell_type": "code",
   "execution_count": 15,
   "metadata": {},
   "outputs": [
    {
     "data": {
      "text/plain": [
       "array([ 2.758310e+05, -2.699860e+05, -3.015300e+05, -7.234280e+05,\n",
       "       -1.012380e+05, -8.483670e+05, -6.101210e+05,  4.201290e+05,\n",
       "       -4.585380e+05, -5.124600e+04, -4.228160e+05, -5.342310e+05,\n",
       "       -4.518950e+05,  5.779220e+05, -5.113100e+04, -1.634000e+03,\n",
       "       -1.022220e+05, -2.300427e+06,  1.273700e+04, -5.918200e+04,\n",
       "       -6.919200e+04,  1.284550e+05, -6.373820e+05, -4.817420e+05,\n",
       "        3.140000e+03, -4.063560e+05,  1.050620e+05, -1.160800e+05,\n",
       "       -2.148317e+06, -4.597700e+04, -5.087300e+04, -4.726430e+05,\n",
       "       -2.787350e+05, -4.430420e+05, -4.421050e+05, -4.767640e+05,\n",
       "       -2.534300e+04, -1.842200e+04])"
      ]
     },
     "execution_count": 15,
     "metadata": {},
     "output_type": "execute_result"
    }
   ],
   "source": [
    "delta2 = (highsubs['inserted_at'].values - winners['inserted_at'].values)/np.timedelta64(1, 'us')\n",
    "delta2"
   ]
  },
  {
   "cell_type": "code",
   "execution_count": 16,
   "metadata": {},
   "outputs": [
    {
     "data": {
      "text/plain": [
       "array([1046624.,  886715.,  807189.,  723428., 1096054.,  848367.,\n",
       "       1176865.,  502670.,  458538.,  653105.,  544938.,  534231.,\n",
       "        451895., 1503959., 1323955., 1200617.,  853857., 2533407.,\n",
       "        654707., 1242676.,  665213.,  859811.,  637382.,  794361.,\n",
       "        608155., 1116137., 1413348.,  626712., 2148317.,  698909.,\n",
       "        839913.,  472643., 1110779.,  935322.,  939615.,  974691.,\n",
       "       1055245., 1021587.])"
      ]
     },
     "execution_count": 16,
     "metadata": {},
     "output_type": "execute_result"
    }
   ],
   "source": [
    "delta3 = (winners['inserted_at'].values - winsubs['inserted_at'].values)/np.timedelta64(1, 'us')\n",
    "delta3"
   ]
  },
  {
   "cell_type": "code",
   "execution_count": 18,
   "metadata": {},
   "outputs": [
    {
     "data": {
      "image/png": "[encoded data removed]",
      "text/plain": [
       "<Figure size 504x432 with 3 Axes>"
      ]
     },
     "metadata": {
      "needs_background": "light"
     },
     "output_type": "display_data"
    }
   ],
   "source": [
    "f, axarr = plt.subplots(nrows=3, figsize=(7,6))\n",
    "cts, bins = np.histogram(delta1[np.where((delta1 >= int(-2e6)) | (delta1 <= int(3e6)))], bins=10)\n",
    "axarr[0].hist(delta1[np.where((delta1 >= int(-2e6)) | (delta1 <= int(3e6)))], bins=bins, color='r', alpha=0.5)\n",
    "axarr[1].hist(delta2[np.where((delta2 >= int(-2e6)) | (delta2 <= int(3e6)))], bins=bins, color='b', alpha=0.5)\n",
    "axarr[2].hist(delta3[np.where((delta3 >= int(-2e6)) | (delta3 <= int(3e6)))], bins=bins, color='g', alpha=0.5)\n",
    "# ax.set_title('winning bid insertion relative to slot boundary', size=17)\n",
    "# ax.legend()\n",
    "for ax in axarr:\n",
    "    ax.set_xlim(int(-2e6), int(3e6))\n",
    "    ticks = [int(-2e6),int(-1e6),int(0),int(1e6),int(2e6),int(3e6)]\n",
    "    ax.set_xticks(ticks)\n",
    "    ax.set_ylabel('count', size=13)\n",
    "# for ax in axarr[:-1]:\n",
    "#     ax.set_xticklabels([])\n",
    "axarr[-1].set_xlabel('time delta $(\\mu s)$', size=13)\n",
    "axarr[0].set_title('max bid - winning bid', size=14)\n",
    "axarr[1].set_title('max bid - payload delivered', size=14)\n",
    "axarr[2].set_title('payload delivered - winning bid', size=14)\n",
    "plt.subplots_adjust(hspace=0.5)\n",
    "plt.show()"
   ]
  },
  {
   "cell_type": "code",
   "execution_count": null,
   "metadata": {},
   "outputs": [],
   "source": []
  }
 ],
 "metadata": {
  "kernelspec": {
   "display_name": "Python 3",
   "language": "python",
   "name": "python3"
  },
  "language_info": {
   "codemirror_mode": {
    "name": "ipython",
    "version": 3
   },
   "file_extension": ".py",
   "mimetype": "text/x-python",
   "name": "python",
   "nbconvert_exporter": "python",
   "pygments_lexer": "ipython3",
   "version": "3.8.16"
  }
 },
 "nbformat": 4,
 "nbformat_minor": 4
}

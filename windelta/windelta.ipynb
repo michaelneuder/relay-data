{
 "cells": [
  {
   "cell_type": "code",
   "execution_count": 51,
   "metadata": {},
   "outputs": [],
   "source": [
    "import numpy as np\n",
    "import pandas as pd\n",
    "import matplotlib.pyplot as plt\n",
    "import json\n",
    "from datetime import datetime\n",
    "plt.rcParams['axes.grid'] = True\n",
    "plt.rcParams['grid.alpha'] = 0.3\n",
    "plt.rcParams['axes.titlesize'] = 18"
   ]
  },
  {
   "cell_type": "code",
   "execution_count": 58,
   "metadata": {},
   "outputs": [
    {
     "data": {
      "text/html": [
       "<div>\n",
       "<style scoped>\n",
       "    .dataframe tbody tr th:only-of-type {\n",
       "        vertical-align: middle;\n",
       "    }\n",
       "\n",
       "    .dataframe tbody tr th {\n",
       "        vertical-align: top;\n",
       "    }\n",
       "\n",
       "    .dataframe thead th {\n",
       "        text-align: right;\n",
       "    }\n",
       "</style>\n",
       "<table border=\"1\" class=\"dataframe\">\n",
       "  <thead>\n",
       "    <tr style=\"text-align: right;\">\n",
       "      <th></th>\n",
       "      <th>inserted_at</th>\n",
       "      <th>slot</th>\n",
       "      <th>value</th>\n",
       "      <th>hash</th>\n",
       "    </tr>\n",
       "  </thead>\n",
       "  <tbody>\n",
       "    <tr>\n",
       "      <th>0</th>\n",
       "      <td>2023-02-24 15:50:23.680712</td>\n",
       "      <td>5869150</td>\n",
       "      <td>75454354173452880</td>\n",
       "      <td>0x9b3af2</td>\n",
       "    </tr>\n",
       "    <tr>\n",
       "      <th>1</th>\n",
       "      <td>2023-02-24 15:51:23.686856</td>\n",
       "      <td>5869155</td>\n",
       "      <td>138807147878308192</td>\n",
       "      <td>0x03d09f</td>\n",
       "    </tr>\n",
       "    <tr>\n",
       "      <th>2</th>\n",
       "      <td>2023-02-24 15:53:00.487982</td>\n",
       "      <td>5869163</td>\n",
       "      <td>50874348025890567</td>\n",
       "      <td>0xbf9969</td>\n",
       "    </tr>\n",
       "    <tr>\n",
       "      <th>3</th>\n",
       "      <td>2023-02-24 15:53:23.687311</td>\n",
       "      <td>5869165</td>\n",
       "      <td>39920149754212144</td>\n",
       "      <td>0x6ca72f</td>\n",
       "    </tr>\n",
       "    <tr>\n",
       "      <th>4</th>\n",
       "      <td>2023-02-24 15:55:24.006246</td>\n",
       "      <td>5869175</td>\n",
       "      <td>52699372202476983</td>\n",
       "      <td>0x56cc15</td>\n",
       "    </tr>\n",
       "  </tbody>\n",
       "</table>\n",
       "</div>"
      ],
      "text/plain": [
       "                 inserted_at     slot               value       hash\n",
       "0 2023-02-24 15:50:23.680712  5869150   75454354173452880   0x9b3af2\n",
       "1 2023-02-24 15:51:23.686856  5869155  138807147878308192   0x03d09f\n",
       "2 2023-02-24 15:53:00.487982  5869163   50874348025890567   0xbf9969\n",
       "3 2023-02-24 15:53:23.687311  5869165   39920149754212144   0x6ca72f\n",
       "4 2023-02-24 15:55:24.006246  5869175   52699372202476983   0x56cc15"
      ]
     },
     "execution_count": 58,
     "metadata": {},
     "output_type": "execute_result"
    }
   ],
   "source": [
    "winners = pd.read_csv('windelta.csv', delimiter='|')\n",
    "winners['inserted_at'] = pd.to_datetime(winners['inserted_at'], format=\"%Y-%m-%d %H:%M:%S.%f\")\n",
    "winners.head()"
   ]
  },
  {
   "cell_type": "code",
   "execution_count": 59,
   "metadata": {},
   "outputs": [
    {
     "data": {
      "text/html": [
       "<div>\n",
       "<style scoped>\n",
       "    .dataframe tbody tr th:only-of-type {\n",
       "        vertical-align: middle;\n",
       "    }\n",
       "\n",
       "    .dataframe tbody tr th {\n",
       "        vertical-align: top;\n",
       "    }\n",
       "\n",
       "    .dataframe thead th {\n",
       "        text-align: right;\n",
       "    }\n",
       "</style>\n",
       "<table border=\"1\" class=\"dataframe\">\n",
       "  <thead>\n",
       "    <tr style=\"text-align: right;\">\n",
       "      <th></th>\n",
       "      <th>inserted_at</th>\n",
       "      <th>slot</th>\n",
       "      <th>value</th>\n",
       "      <th>hash</th>\n",
       "      <th>slot_boundary</th>\n",
       "      <th>deltas_us</th>\n",
       "    </tr>\n",
       "  </thead>\n",
       "  <tbody>\n",
       "    <tr>\n",
       "      <th>0</th>\n",
       "      <td>2023-02-24 15:50:23.680712</td>\n",
       "      <td>5869150</td>\n",
       "      <td>75454354173452880</td>\n",
       "      <td>0x9b3af2</td>\n",
       "      <td>2023-02-24 15:50:24</td>\n",
       "      <td>319288</td>\n",
       "    </tr>\n",
       "    <tr>\n",
       "      <th>1</th>\n",
       "      <td>2023-02-24 15:51:23.686856</td>\n",
       "      <td>5869155</td>\n",
       "      <td>138807147878308192</td>\n",
       "      <td>0x03d09f</td>\n",
       "      <td>2023-02-24 15:51:24</td>\n",
       "      <td>313144</td>\n",
       "    </tr>\n",
       "    <tr>\n",
       "      <th>2</th>\n",
       "      <td>2023-02-24 15:53:00.487982</td>\n",
       "      <td>5869163</td>\n",
       "      <td>50874348025890567</td>\n",
       "      <td>0xbf9969</td>\n",
       "      <td>2023-02-24 15:53:00</td>\n",
       "      <td>487982</td>\n",
       "    </tr>\n",
       "    <tr>\n",
       "      <th>3</th>\n",
       "      <td>2023-02-24 15:53:23.687311</td>\n",
       "      <td>5869165</td>\n",
       "      <td>39920149754212144</td>\n",
       "      <td>0x6ca72f</td>\n",
       "      <td>2023-02-24 15:53:24</td>\n",
       "      <td>312689</td>\n",
       "    </tr>\n",
       "    <tr>\n",
       "      <th>4</th>\n",
       "      <td>2023-02-24 15:55:24.006246</td>\n",
       "      <td>5869175</td>\n",
       "      <td>52699372202476983</td>\n",
       "      <td>0x56cc15</td>\n",
       "      <td>2023-02-24 15:55:24</td>\n",
       "      <td>6246</td>\n",
       "    </tr>\n",
       "  </tbody>\n",
       "</table>\n",
       "</div>"
      ],
      "text/plain": [
       "                 inserted_at     slot               value       hash  \\\n",
       "0 2023-02-24 15:50:23.680712  5869150   75454354173452880   0x9b3af2   \n",
       "1 2023-02-24 15:51:23.686856  5869155  138807147878308192   0x03d09f   \n",
       "2 2023-02-24 15:53:00.487982  5869163   50874348025890567   0xbf9969   \n",
       "3 2023-02-24 15:53:23.687311  5869165   39920149754212144   0x6ca72f   \n",
       "4 2023-02-24 15:55:24.006246  5869175   52699372202476983   0x56cc15   \n",
       "\n",
       "        slot_boundary  deltas_us  \n",
       "0 2023-02-24 15:50:24     319288  \n",
       "1 2023-02-24 15:51:24     313144  \n",
       "2 2023-02-24 15:53:00     487982  \n",
       "3 2023-02-24 15:53:24     312689  \n",
       "4 2023-02-24 15:55:24       6246  "
      ]
     },
     "execution_count": 59,
     "metadata": {},
     "output_type": "execute_result"
    }
   ],
   "source": [
    "winners['slot_boundary'] = np.asarray([pd.Timestamp(x).round(freq='12S') for x in winners['inserted_at'].values])\n",
    "winners['deltas_us'] = [int(abs(winners['slot_boundary'].values[i] - winners['inserted_at'].values[i]) / np.timedelta64(1, 'us')) for i in range(len(winners))]\n",
    "winners.head()"
   ]
  },
  {
   "cell_type": "code",
   "execution_count": 62,
   "metadata": {},
   "outputs": [],
   "source": [
    "# write file for winning hash and slots\n",
    "f = open('winninghashslots.txt', 'w')\n",
    "slots = winners['slot'].values\n",
    "hashes = winners['hash'].values\n",
    "for i in range(len(slots)):\n",
    "    f.write('{} {}\\n'.format(slots[i], hashes[i]))\n",
    "f.close()"
   ]
  },
  {
   "cell_type": "code",
   "execution_count": 56,
   "metadata": {},
   "outputs": [
    {
     "name": "stderr",
     "output_type": "stream",
     "text": [
      "No handles with labels found to put in legend.\n"
     ]
    },
    {
     "data": {
      "image/png": "[encoded data removed]",
      "text/plain": [
       "<Figure size 504x288 with 1 Axes>"
      ]
     },
     "metadata": {
      "needs_background": "light"
     },
     "output_type": "display_data"
    }
   ],
   "source": [
    "f, ax = plt.subplots(figsize=(7,4))\n",
    "ax.hist(-winners['deltas_us'].values, bins=200, color='r', alpha=0.5)\n",
    "ax.set_title('winning bid insertion relative to slot boundary', size=17)\n",
    "ax.legend()\n",
    "plt.show()"
   ]
  },
  {
   "cell_type": "code",
   "execution_count": null,
   "metadata": {},
   "outputs": [],
   "source": [
    "5871455 | 129950328944496910 | 0x9f932b | 2023-02-24 23:31:23.100975 | 2023-02-24 23:31:22.658242\n",
    "5871464 | 30299114148783804 | 0x2455e7 | 2023-02-24 23:33:11.288911 | 2023-02-24 23:33:11.091177"
   ]
  }
 ],
 "metadata": {
  "kernelspec": {
   "display_name": "Python 3",
   "language": "python",
   "name": "python3"
  },
  "language_info": {
   "codemirror_mode": {
    "name": "ipython",
    "version": 3
   },
   "file_extension": ".py",
   "mimetype": "text/x-python",
   "name": "python",
   "nbconvert_exporter": "python",
   "pygments_lexer": "ipython3",
   "version": "3.8.16"
  }
 },
 "nbformat": 4,
 "nbformat_minor": 4
}

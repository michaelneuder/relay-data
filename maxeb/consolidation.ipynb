{
 "cells": [
  {
   "cell_type": "code",
   "execution_count": 116,
   "metadata": {},
   "outputs": [],
   "source": [
    "import numpy as np\n",
    "import pandas as pd\n",
    "import matplotlib.pyplot as plt\n",
    "import json\n",
    "import requests\n",
    "import time\n",
    "import tqdm\n",
    "from datetime import datetime\n",
    "import scipy.stats as ss \n",
    "plt.rcParams['axes.grid'] = True\n",
    "plt.rcParams['grid.alpha'] = 0.3\n",
    "plt.rcParams['axes.titlesize'] = 18"
   ]
  },
  {
   "cell_type": "code",
   "execution_count": 67,
   "metadata": {},
   "outputs": [
    {
     "data": {
      "text/plain": [
       "(7333333.333333333, 14666666.666666668)"
      ]
     },
     "execution_count": 67,
     "metadata": {},
     "output_type": "execute_result"
    }
   ],
   "source": [
    "total_eth_staked = 22_000_000\n",
    "malicious_eth = total_eth_staked / 3\n",
    "good_eth = total_eth_staked - malicious_eth\n",
    "malicious_eth, good_eth"
   ]
  },
  {
   "cell_type": "code",
   "execution_count": 100,
   "metadata": {},
   "outputs": [
    {
     "data": {
      "text/plain": [
       "32768"
      ]
     },
     "execution_count": 100,
     "metadata": {},
     "output_type": "execute_result"
    }
   ],
   "source": [
    "2**15"
   ]
  },
  {
   "cell_type": "code",
   "execution_count": 101,
   "metadata": {},
   "outputs": [],
   "source": [
    "MAXEB = 32768"
   ]
  },
  {
   "cell_type": "code",
   "execution_count": 102,
   "metadata": {},
   "outputs": [
    {
     "data": {
      "text/plain": [
       "(224, 458333)"
      ]
     },
     "execution_count": 102,
     "metadata": {},
     "output_type": "execute_result"
    }
   ],
   "source": [
    "malicious_vals = round(malicious_eth / MAXEB)\n",
    "good_vals = round(good_eth / 32)\n",
    "malicious_vals, good_vals"
   ]
  },
  {
   "cell_type": "code",
   "execution_count": 103,
   "metadata": {},
   "outputs": [],
   "source": [
    "total_vals = np.asarray(['bad'] * malicious_vals + ['good'] * good_vals)"
   ]
  },
  {
   "cell_type": "code",
   "execution_count": 104,
   "metadata": {},
   "outputs": [
    {
     "data": {
      "text/plain": [
       "14329"
      ]
     },
     "execution_count": 104,
     "metadata": {},
     "output_type": "execute_result"
    }
   ],
   "source": [
    "att_committee_size = len(total_vals) // 32\n",
    "att_committee_size"
   ]
  },
  {
   "cell_type": "code",
   "execution_count": 105,
   "metadata": {},
   "outputs": [
    {
     "data": {
      "text/plain": [
       "32000"
      ]
     },
     "execution_count": 105,
     "metadata": {},
     "output_type": "execute_result"
    }
   ],
   "source": [
    "malicious_props = []\n",
    "for _ in range(1000):\n",
    "    np.random.shuffle(total_vals)\n",
    "    for i in range(32):\n",
    "        curr_committee = total_vals[i*att_committee_size:(i+1)*att_committee_size]\n",
    "        malicious_stake = MAXEB * np.count_nonzero(curr_committee == 'bad')\n",
    "        good_stake = 32 * np.count_nonzero(curr_committee == 'good')\n",
    "        total_stake = malicious_stake + good_stake\n",
    "        malicious_props.append(malicious_stake / total_stake)\n",
    "malicious_props = np.asarray(malicious_props)\n",
    "len(malicious_props)"
   ]
  },
  {
   "cell_type": "code",
   "execution_count": 106,
   "metadata": {},
   "outputs": [
    {
     "data": {
      "image/png": "[encoded data removed]",
      "text/plain": [
       "<Figure size 576x432 with 1 Axes>"
      ]
     },
     "metadata": {
      "needs_background": "light"
     },
     "output_type": "display_data"
    }
   ],
   "source": [
    "f, ax = plt.subplots(figsize=(8,6))\n",
    "ax.hist(malicious_props, bins=50, color='red', alpha=0.5)\n",
    "plt.show()"
   ]
  },
  {
   "cell_type": "code",
   "execution_count": 107,
   "metadata": {},
   "outputs": [
    {
     "name": "stdout",
     "output_type": "stream",
     "text": [
      "MAX_EFFECTIVE_BALANCE=32768\n",
      "q0.5 = 0.33355048859934855 \n",
      "q0.75 = 0.39157036029911624 \n",
      "q0.9 = 0.4169550877478725 \n",
      "q0.99 = 0.5003664793549963 \n",
      "q0.999 = 0.5337329380721243 \n"
     ]
    }
   ],
   "source": [
    "print(\"MAX_EFFECTIVE_BALANCE={}\".format(MAXEB))\n",
    "for q in [0.5, 0.75, 0.9, 0.99, 0.999]:\n",
    "    print(\"q{} = {}\".format(q, np.quantile(malicious_props, q)), end=' ')\n",
    "    print()"
   ]
  },
  {
   "cell_type": "code",
   "execution_count": null,
   "metadata": {},
   "outputs": [],
   "source": []
  },
  {
   "cell_type": "code",
   "execution_count": 121,
   "metadata": {},
   "outputs": [
    {
     "data": {
      "text/plain": [
       "(7333333.333333333, 14666666.666666668)"
      ]
     },
     "execution_count": 121,
     "metadata": {},
     "output_type": "execute_result"
    }
   ],
   "source": [
    "# closed form\n",
    "total_eth_staked = 22_000_000\n",
    "malicious_eth = total_eth_staked / 3\n",
    "good_eth = total_eth_staked - malicious_eth\n",
    "malicious_eth, good_eth"
   ]
  },
  {
   "cell_type": "code",
   "execution_count": 122,
   "metadata": {},
   "outputs": [],
   "source": [
    "MAXEB = 2048"
   ]
  },
  {
   "cell_type": "code",
   "execution_count": 123,
   "metadata": {},
   "outputs": [
    {
     "data": {
      "text/plain": [
       "(3581, 458333)"
      ]
     },
     "execution_count": 123,
     "metadata": {},
     "output_type": "execute_result"
    }
   ],
   "source": [
    "malicious_vals = round(malicious_eth / MAXEB)\n",
    "good_vals = round(good_eth / 32)\n",
    "total_vals = malicious_vals + good_vals\n",
    "malicious_vals, good_vals"
   ]
  },
  {
   "cell_type": "code",
   "execution_count": 124,
   "metadata": {},
   "outputs": [
    {
     "data": {
      "text/plain": [
       "14434"
      ]
     },
     "execution_count": 124,
     "metadata": {},
     "output_type": "execute_result"
    }
   ],
   "source": [
    "att_committee_size = total_vals // 32\n",
    "att_committee_size"
   ]
  },
  {
   "cell_type": "code",
   "execution_count": 125,
   "metadata": {},
   "outputs": [
    {
     "data": {
      "text/plain": [
       "0.007752525361863897"
      ]
     },
     "execution_count": 125,
     "metadata": {},
     "output_type": "execute_result"
    }
   ],
   "source": [
    "prob_malicious = malicious_vals / total_vals\n",
    "prob_malicious"
   ]
  },
  {
   "cell_type": "code",
   "execution_count": 126,
   "metadata": {},
   "outputs": [
    {
     "data": {
      "text/plain": [
       "223.0"
      ]
     },
     "execution_count": 126,
     "metadata": {},
     "output_type": "execute_result"
    }
   ],
   "source": [
    "num_malicious_needed = np.ceil(32 * att_committee_size / (MAXEB + 32))\n",
    "num_malicious_needed"
   ]
  },
  {
   "cell_type": "code",
   "execution_count": 127,
   "metadata": {},
   "outputs": [
    {
     "name": "stdout",
     "output_type": "stream",
     "text": [
      "probability of a malicious committee=1.1102230246251565e-16\n"
     ]
    }
   ],
   "source": [
    "prob_malicious = 1-ss.binom.cdf(num_malicious_needed-1, att_committee_size, prob_malicious)\n",
    "print(\"probability of a malicious committee={}\".format(prob_malicious))"
   ]
  },
  {
   "cell_type": "code",
   "execution_count": 128,
   "metadata": {},
   "outputs": [],
   "source": [
    "def getProbMalicious(maxeb):\n",
    "    total_eth_staked = 22_000_000\n",
    "    malicious_eth = total_eth_staked / 3\n",
    "    good_eth = total_eth_staked - malicious_eth\n",
    "    malicious_vals = round(malicious_eth / MAXEB)\n",
    "    good_vals = round(good_eth / 32)\n",
    "    total_vals = malicious_vals + good_vals\n",
    "    att_committee_size = total_vals // 32\n",
    "    prob_malicious = malicious_vals / total_vals\n",
    "    num_malicious_needed = np.ceil(32 * att_committee_size / (MAXEB + 32))\n",
    "    return 1-ss.binom.cdf(num_malicious_needed-1, att_committee_size, prob_malicious)"
   ]
  },
  {
   "cell_type": "code",
   "execution_count": 129,
   "metadata": {},
   "outputs": [
    {
     "data": {
      "text/plain": [
       "2048"
      ]
     },
     "execution_count": 129,
     "metadata": {},
     "output_type": "execute_result"
    }
   ],
   "source": [
    "2**11"
   ]
  },
  {
   "cell_type": "code",
   "execution_count": 131,
   "metadata": {},
   "outputs": [
    {
     "name": "stdout",
     "output_type": "stream",
     "text": [
      "MAXEB=256; probability of a malicious committee=1.1102230246251565e-16\n",
      "MAXEB=512; probability of a malicious committee=1.1102230246251565e-16\n",
      "MAXEB=1024; probability of a malicious committee=1.1102230246251565e-16\n",
      "MAXEB=2048; probability of a malicious committee=1.1102230246251565e-16\n",
      "MAXEB=4096; probability of a malicious committee=2.500766260737919e-11\n",
      "MAXEB=8192; probability of a malicious committee=1.946218190274074e-06\n",
      "MAXEB=16384; probability of a malicious committee=0.0006302720356745617\n",
      "MAXEB=32768; probability of a malicious committee=0.012784330850232672\n"
     ]
    }
   ],
   "source": [
    "for i in range(8, 16):\n",
    "    MAXEB = 2**i\n",
    "    print(\"MAXEB={}; probability of a malicious committee={}\".format(MAXEB, getProbMalicious(MAXEB)))"
   ]
  }
 ],
 "metadata": {
  "kernelspec": {
   "display_name": "Python 3",
   "language": "python",
   "name": "python3"
  },
  "language_info": {
   "codemirror_mode": {
    "name": "ipython",
    "version": 3
   },
   "file_extension": ".py",
   "mimetype": "text/x-python",
   "name": "python",
   "nbconvert_exporter": "python",
   "pygments_lexer": "ipython3",
   "version": "3.8.16"
  }
 },
 "nbformat": 4,
 "nbformat_minor": 4
}

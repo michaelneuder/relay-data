{
 "cells": [
  {
   "cell_type": "code",
   "execution_count": 1,
   "metadata": {},
   "outputs": [],
   "source": [
    "import numpy as np\n",
    "import pandas as pd\n",
    "import matplotlib.pyplot as plt\n",
    "import json\n",
    "import requests\n",
    "import time\n",
    "import tqdm\n",
    "from datetime import datetime\n",
    "plt.rcParams['axes.grid'] = True\n",
    "plt.rcParams['grid.alpha'] = 0.3\n",
    "plt.rcParams['axes.titlesize'] = 18"
   ]
  },
  {
   "cell_type": "code",
   "execution_count": 3,
   "metadata": {},
   "outputs": [
    {
     "data": {
      "text/plain": [
       "(7333333.333333333, 14666666.666666668)"
      ]
     },
     "execution_count": 3,
     "metadata": {},
     "output_type": "execute_result"
    }
   ],
   "source": [
    "total_eth_staked = 22_000_000\n",
    "malicious_eth = total_eth_staked / 3\n",
    "good_eth = total_eth_staked - malicious_eth\n",
    "malicious_eth, good_eth"
   ]
  },
  {
   "cell_type": "code",
   "execution_count": 6,
   "metadata": {},
   "outputs": [
    {
     "data": {
      "text/plain": [
       "(3581, 458333)"
      ]
     },
     "execution_count": 6,
     "metadata": {},
     "output_type": "execute_result"
    }
   ],
   "source": [
    "malicious_vals = round(malicious_eth / 2048)\n",
    "good_vals = round(good_eth / 32)\n",
    "malicious_vals, good_vals"
   ]
  },
  {
   "cell_type": "code",
   "execution_count": 10,
   "metadata": {},
   "outputs": [],
   "source": [
    "total_vals = np.asarray(['bad'] * malicious_vals + ['good'] * good_vals)"
   ]
  },
  {
   "cell_type": "code",
   "execution_count": 17,
   "metadata": {},
   "outputs": [
    {
     "data": {
      "text/plain": [
       "14434"
      ]
     },
     "execution_count": 17,
     "metadata": {},
     "output_type": "execute_result"
    }
   ],
   "source": [
    "att_committee_size = len(total_vals) // 32\n",
    "att_committee_size"
   ]
  },
  {
   "cell_type": "code",
   "execution_count": 59,
   "metadata": {},
   "outputs": [
    {
     "data": {
      "text/plain": [
       "32000"
      ]
     },
     "execution_count": 59,
     "metadata": {},
     "output_type": "execute_result"
    }
   ],
   "source": [
    "malicious_props = []\n",
    "for _ in range(1000):\n",
    "    np.random.shuffle(total_vals)\n",
    "    for i in range(32):\n",
    "        curr_committee = total_vals[i*att_committee_size:(i+1)*att_committee_size]\n",
    "        malicious_stake = 2048 * np.count_nonzero(curr_committee == 'bad')\n",
    "        good_stake = 32 * np.count_nonzero(curr_committee == 'good')\n",
    "        total_stake = malicious_stake + good_stake\n",
    "        malicious_props.append(malicious_stake / total_stake)\n",
    "malicious_props = np.asarray(malicious_props)\n",
    "len(malicious_props)"
   ]
  },
  {
   "cell_type": "code",
   "execution_count": 65,
   "metadata": {},
   "outputs": [
    {
     "data": {
      "image/png": "[encoded data removed]",
      "text/plain": [
       "<Figure size 576x432 with 1 Axes>"
      ]
     },
     "metadata": {
      "needs_background": "light"
     },
     "output_type": "display_data"
    }
   ],
   "source": [
    "f, ax = plt.subplots(figsize=(8,6))\n",
    "ax.hist(malicious_props, bins=50, color='red', alpha=0.5)\n",
    "plt.show()"
   ]
  },
  {
   "cell_type": "code",
   "execution_count": 66,
   "metadata": {},
   "outputs": [
    {
     "name": "stdout",
     "output_type": "stream",
     "text": [
      "q0.5 = 0.33355048859934855 \n",
      "q0.75 = 0.34727098627513564 \n",
      "q0.9 = 0.3585996682953068 \n",
      "q0.99 = 0.3784018780975567 \n",
      "q0.999 = 0.39373919513120637 \n"
     ]
    }
   ],
   "source": [
    "for q in [0.5, 0.75, 0.9, 0.99, 0.999]:\n",
    "    print(\"q{} = {}\".format(q, np.quantile(malicious_props, q)), end=' ')\n",
    "    print()"
   ]
  }
 ],
 "metadata": {
  "kernelspec": {
   "display_name": "Python 3",
   "language": "python",
   "name": "python3"
  },
  "language_info": {
   "codemirror_mode": {
    "name": "ipython",
    "version": 3
   },
   "file_extension": ".py",
   "mimetype": "text/x-python",
   "name": "python",
   "nbconvert_exporter": "python",
   "pygments_lexer": "ipython3",
   "version": "3.8.16"
  }
 },
 "nbformat": 4,
 "nbformat_minor": 4
}

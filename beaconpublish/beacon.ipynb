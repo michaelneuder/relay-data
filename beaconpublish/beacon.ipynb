{
 "cells": [
  {
   "cell_type": "code",
   "execution_count": 1,
   "metadata": {},
   "outputs": [],
   "source": [
    "import numpy as np\n",
    "import pandas as pd\n",
    "import matplotlib.pyplot as plt\n",
    "import json\n",
    "import requests\n",
    "import time\n",
    "from datetime import datetime\n",
    "plt.rcParams['axes.grid'] = True\n",
    "plt.rcParams['grid.alpha'] = 0.3\n",
    "plt.rcParams['axes.titlesize'] = 18"
   ]
  },
  {
   "cell_type": "code",
   "execution_count": 13,
   "metadata": {},
   "outputs": [
    {
     "data": {
      "text/plain": [
       "Index(['insertId', 'jsonPayload.blockHash', 'jsonPayload.blockNumber',\n",
       "       'jsonPayload.contentLength', 'jsonPayload.headSlot',\n",
       "       'jsonPayload.idArg', 'jsonPayload.level', 'jsonPayload.method',\n",
       "       'jsonPayload.mevBoostV', 'jsonPayload.msIntoSlot', 'jsonPayload.msg',\n",
       "       'jsonPayload.numTx', 'jsonPayload.pubkeyFromIndex',\n",
       "       'jsonPayload.requestTimestamp', 'jsonPayload.service',\n",
       "       'jsonPayload.slot', 'jsonPayload.slotStartSec',\n",
       "       'jsonPayload.timestampAfterPublishing',\n",
       "       'jsonPayload.timestampBeforePublishing', 'jsonPayload.ua',\n",
       "       'jsonPayload.version', 'labels.\"compute.googleapis.com/resource_name\"',\n",
       "       'labels.\"k8s-pod/app\"', 'labels.\"k8s-pod/pod-template-hash\"',\n",
       "       'labels.\"k8s-pod/project\"', 'logName', 'receiveLocation',\n",
       "       'receiveTimestamp', 'receivedLocation', 'resource.labels.cluster_name',\n",
       "       'resource.labels.container_name', 'resource.labels.location',\n",
       "       'resource.labels.namespace_name', 'resource.labels.pod_name',\n",
       "       'resource.labels.project_id', 'resource.type', 'severity', 'timestamp'],\n",
       "      dtype='object')"
      ]
     },
     "execution_count": 13,
     "metadata": {},
     "output_type": "execute_result"
    }
   ],
   "source": [
    "t = pd.read_csv('downloaded-logs-20230406-090719.csv', delimiter=',')\n",
    "t.keys()"
   ]
  },
  {
   "cell_type": "code",
   "execution_count": 14,
   "metadata": {},
   "outputs": [
    {
     "data": {
      "text/plain": [
       "1401"
      ]
     },
     "execution_count": 14,
     "metadata": {},
     "output_type": "execute_result"
    }
   ],
   "source": [
    "t = t[['jsonPayload.slot', 'jsonPayload.msIntoSlot', 'jsonPayload.timestampAfterPublishing', 'jsonPayload.timestampBeforePublishing', 'jsonPayload.requestTimestamp']]\n",
    "len(t)"
   ]
  },
  {
   "cell_type": "code",
   "execution_count": 15,
   "metadata": {},
   "outputs": [
    {
     "data": {
      "text/html": [
       "<div>\n",
       "<style scoped>\n",
       "    .dataframe tbody tr th:only-of-type {\n",
       "        vertical-align: middle;\n",
       "    }\n",
       "\n",
       "    .dataframe tbody tr th {\n",
       "        vertical-align: top;\n",
       "    }\n",
       "\n",
       "    .dataframe thead th {\n",
       "        text-align: right;\n",
       "    }\n",
       "</style>\n",
       "<table border=\"1\" class=\"dataframe\">\n",
       "  <thead>\n",
       "    <tr style=\"text-align: right;\">\n",
       "      <th></th>\n",
       "      <th>jsonPayload.slot</th>\n",
       "      <th>jsonPayload.msIntoSlot</th>\n",
       "      <th>jsonPayload.timestampAfterPublishing</th>\n",
       "      <th>jsonPayload.timestampBeforePublishing</th>\n",
       "      <th>jsonPayload.requestTimestamp</th>\n",
       "    </tr>\n",
       "  </thead>\n",
       "  <tbody>\n",
       "    <tr>\n",
       "      <th>0</th>\n",
       "      <td>6163533</td>\n",
       "      <td>791</td>\n",
       "      <td>1680786420156</td>\n",
       "      <td>1680786419805</td>\n",
       "      <td>1680786419791</td>\n",
       "    </tr>\n",
       "    <tr>\n",
       "      <th>1</th>\n",
       "      <td>6163533</td>\n",
       "      <td>791</td>\n",
       "      <td>1680786420156</td>\n",
       "      <td>1680786419805</td>\n",
       "      <td>1680786419791</td>\n",
       "    </tr>\n",
       "    <tr>\n",
       "      <th>2</th>\n",
       "      <td>6163533</td>\n",
       "      <td>791</td>\n",
       "      <td>1680786420156</td>\n",
       "      <td>1680786419805</td>\n",
       "      <td>1680786419791</td>\n",
       "    </tr>\n",
       "    <tr>\n",
       "      <th>3</th>\n",
       "      <td>6163527</td>\n",
       "      <td>1590</td>\n",
       "      <td>1680786348977</td>\n",
       "      <td>1680786348610</td>\n",
       "      <td>1680786348590</td>\n",
       "    </tr>\n",
       "    <tr>\n",
       "      <th>4</th>\n",
       "      <td>6163527</td>\n",
       "      <td>1590</td>\n",
       "      <td>1680786348977</td>\n",
       "      <td>1680786348610</td>\n",
       "      <td>1680786348590</td>\n",
       "    </tr>\n",
       "  </tbody>\n",
       "</table>\n",
       "</div>"
      ],
      "text/plain": [
       "   jsonPayload.slot  jsonPayload.msIntoSlot  \\\n",
       "0           6163533                     791   \n",
       "1           6163533                     791   \n",
       "2           6163533                     791   \n",
       "3           6163527                    1590   \n",
       "4           6163527                    1590   \n",
       "\n",
       "   jsonPayload.timestampAfterPublishing  \\\n",
       "0                         1680786420156   \n",
       "1                         1680786420156   \n",
       "2                         1680786420156   \n",
       "3                         1680786348977   \n",
       "4                         1680786348977   \n",
       "\n",
       "   jsonPayload.timestampBeforePublishing  jsonPayload.requestTimestamp  \n",
       "0                          1680786419805                 1680786419791  \n",
       "1                          1680786419805                 1680786419791  \n",
       "2                          1680786419805                 1680786419791  \n",
       "3                          1680786348610                 1680786348590  \n",
       "4                          1680786348610                 1680786348590  "
      ]
     },
     "execution_count": 15,
     "metadata": {},
     "output_type": "execute_result"
    }
   ],
   "source": [
    "t.head()"
   ]
  },
  {
   "cell_type": "code",
   "execution_count": 11,
   "metadata": {},
   "outputs": [
    {
     "data": {
      "image/png": "[encoded data removed]",
      "text/plain": [
       "<Figure size 576x360 with 1 Axes>"
      ]
     },
     "metadata": {
      "needs_background": "light"
     },
     "output_type": "display_data"
    }
   ],
   "source": [
    "f, ax = plt.subplots(figsize=(8,5))\n",
    "ax.hist(t['jsonPayload.timestampAfterPublishing']-t['jsonPayload.timestampBeforePublishing'], bins=300, color='k', alpha=0.7)\n",
    "ax.set_xlabel('beacon node publishing duration (ms)', size=15)\n",
    "plt.show()"
   ]
  },
  {
   "cell_type": "code",
   "execution_count": 20,
   "metadata": {},
   "outputs": [
    {
     "data": {
      "image/png": "[encoded data removed]",
      "text/plain": [
       "<Figure size 576x360 with 1 Axes>"
      ]
     },
     "metadata": {
      "needs_background": "light"
     },
     "output_type": "display_data"
    }
   ],
   "source": [
    "f, ax = plt.subplots(figsize=(8,5))\n",
    "ax.hist(t['jsonPayload.timestampAfterPublishing']-t['jsonPayload.requestTimestamp'], bins=800, color='k', alpha=0.7)\n",
    "ax.set_xlabel('request to publishing duration (ms)', size=15)\n",
    "ax.set_xlim(0,4000)\n",
    "plt.show()"
   ]
  },
  {
   "cell_type": "code",
   "execution_count": null,
   "metadata": {},
   "outputs": [],
   "source": [
    "publish_time = "
   ]
  },
  {
   "cell_type": "code",
   "execution_count": null,
   "metadata": {},
   "outputs": [],
   "source": []
  },
  {
   "cell_type": "code",
   "execution_count": 21,
   "metadata": {},
   "outputs": [],
   "source": [
    "# with 2 additional ts"
   ]
  },
  {
   "cell_type": "code",
   "execution_count": 43,
   "metadata": {},
   "outputs": [
    {
     "data": {
      "text/plain": [
       "Index(['insertId', 'jsonPayload.blockHash', 'jsonPayload.contentLength',\n",
       "       'jsonPayload.headSlot', 'jsonPayload.idArg', 'jsonPayload.level',\n",
       "       'jsonPayload.method', 'jsonPayload.mevBoostV', 'jsonPayload.msIntoSlot',\n",
       "       'jsonPayload.msg', 'jsonPayload.pubkeyFromIndex',\n",
       "       'jsonPayload.requestTimestamp', 'jsonPayload.service',\n",
       "       'jsonPayload.slot', 'jsonPayload.slotStartSec',\n",
       "       'jsonPayload.timestampAfterAlreadyDelivered',\n",
       "       'jsonPayload.timestampAfterBlocked',\n",
       "       'jsonPayload.timestampAfterPublishing',\n",
       "       'jsonPayload.timestampBeforePublishing', 'jsonPayload.ua',\n",
       "       'jsonPayload.version', 'labels.\"compute.googleapis.com/resource_name\"',\n",
       "       'labels.\"k8s-pod/app\"', 'labels.\"k8s-pod/pod-template-hash\"',\n",
       "       'labels.\"k8s-pod/project\"', 'logName', 'receiveLocation',\n",
       "       'receiveTimestamp', 'receivedLocation', 'resource.labels.cluster_name',\n",
       "       'resource.labels.container_name', 'resource.labels.location',\n",
       "       'resource.labels.namespace_name', 'resource.labels.pod_name',\n",
       "       'resource.labels.project_id', 'resource.type', 'severity', 'timestamp'],\n",
       "      dtype='object')"
      ]
     },
     "execution_count": 43,
     "metadata": {},
     "output_type": "execute_result"
    }
   ],
   "source": [
    "t = pd.read_csv('downloaded-logs-20230406-131001.csv', delimiter=',')\n",
    "t.keys()"
   ]
  },
  {
   "cell_type": "code",
   "execution_count": 44,
   "metadata": {},
   "outputs": [
    {
     "data": {
      "text/plain": [
       "157"
      ]
     },
     "execution_count": 44,
     "metadata": {},
     "output_type": "execute_result"
    }
   ],
   "source": [
    "t = t[['jsonPayload.slot', 'jsonPayload.msIntoSlot', 'jsonPayload.timestampAfterAlreadyDelivered','jsonPayload.timestampAfterBlocked', 'jsonPayload.timestampAfterPublishing', 'jsonPayload.timestampBeforePublishing', 'jsonPayload.requestTimestamp']]\n",
    "len(t)"
   ]
  },
  {
   "cell_type": "code",
   "execution_count": 45,
   "metadata": {},
   "outputs": [
    {
     "data": {
      "text/html": [
       "<div>\n",
       "<style scoped>\n",
       "    .dataframe tbody tr th:only-of-type {\n",
       "        vertical-align: middle;\n",
       "    }\n",
       "\n",
       "    .dataframe tbody tr th {\n",
       "        vertical-align: top;\n",
       "    }\n",
       "\n",
       "    .dataframe thead th {\n",
       "        text-align: right;\n",
       "    }\n",
       "</style>\n",
       "<table border=\"1\" class=\"dataframe\">\n",
       "  <thead>\n",
       "    <tr style=\"text-align: right;\">\n",
       "      <th></th>\n",
       "      <th>jsonPayload.slot</th>\n",
       "      <th>jsonPayload.msIntoSlot</th>\n",
       "      <th>jsonPayload.timestampAfterAlreadyDelivered</th>\n",
       "      <th>jsonPayload.timestampAfterBlocked</th>\n",
       "      <th>jsonPayload.timestampAfterPublishing</th>\n",
       "      <th>jsonPayload.timestampBeforePublishing</th>\n",
       "      <th>jsonPayload.requestTimestamp</th>\n",
       "    </tr>\n",
       "  </thead>\n",
       "  <tbody>\n",
       "    <tr>\n",
       "      <th>0</th>\n",
       "      <td>6164747</td>\n",
       "      <td>1161</td>\n",
       "      <td>1680800988168</td>\n",
       "      <td>1680800988167</td>\n",
       "      <td>1680800988519</td>\n",
       "      <td>1680800988176</td>\n",
       "      <td>1680800988161</td>\n",
       "    </tr>\n",
       "    <tr>\n",
       "      <th>1</th>\n",
       "      <td>6164746</td>\n",
       "      <td>964</td>\n",
       "      <td>1680800975972</td>\n",
       "      <td>1680800975971</td>\n",
       "      <td>1680800976302</td>\n",
       "      <td>1680800975988</td>\n",
       "      <td>1680800975964</td>\n",
       "    </tr>\n",
       "    <tr>\n",
       "      <th>2</th>\n",
       "      <td>6164744</td>\n",
       "      <td>990</td>\n",
       "      <td>1680800951997</td>\n",
       "      <td>1680800951997</td>\n",
       "      <td>1680800952280</td>\n",
       "      <td>1680800952003</td>\n",
       "      <td>1680800951990</td>\n",
       "    </tr>\n",
       "    <tr>\n",
       "      <th>3</th>\n",
       "      <td>6164739</td>\n",
       "      <td>1231</td>\n",
       "      <td>1680800892236</td>\n",
       "      <td>1680800892236</td>\n",
       "      <td>1680800892576</td>\n",
       "      <td>1680800892251</td>\n",
       "      <td>1680800892231</td>\n",
       "    </tr>\n",
       "    <tr>\n",
       "      <th>4</th>\n",
       "      <td>6164738</td>\n",
       "      <td>635</td>\n",
       "      <td>1680800879644</td>\n",
       "      <td>1680800879643</td>\n",
       "      <td>1680800879998</td>\n",
       "      <td>1680800879671</td>\n",
       "      <td>1680800879635</td>\n",
       "    </tr>\n",
       "    <tr>\n",
       "      <th>...</th>\n",
       "      <td>...</td>\n",
       "      <td>...</td>\n",
       "      <td>...</td>\n",
       "      <td>...</td>\n",
       "      <td>...</td>\n",
       "      <td>...</td>\n",
       "      <td>...</td>\n",
       "    </tr>\n",
       "    <tr>\n",
       "      <th>152</th>\n",
       "      <td>6164285</td>\n",
       "      <td>1055</td>\n",
       "      <td>1680795444060</td>\n",
       "      <td>1680795444060</td>\n",
       "      <td>1680795444434</td>\n",
       "      <td>1680795444075</td>\n",
       "      <td>1680795444055</td>\n",
       "    </tr>\n",
       "    <tr>\n",
       "      <th>153</th>\n",
       "      <td>6164282</td>\n",
       "      <td>558</td>\n",
       "      <td>1680795407568</td>\n",
       "      <td>1680795407568</td>\n",
       "      <td>1680795407867</td>\n",
       "      <td>1680795407574</td>\n",
       "      <td>1680795407558</td>\n",
       "    </tr>\n",
       "    <tr>\n",
       "      <th>154</th>\n",
       "      <td>6164280</td>\n",
       "      <td>667</td>\n",
       "      <td>1680795383678</td>\n",
       "      <td>1680795383677</td>\n",
       "      <td>1680795383951</td>\n",
       "      <td>1680795383686</td>\n",
       "      <td>1680795383667</td>\n",
       "    </tr>\n",
       "    <tr>\n",
       "      <th>155</th>\n",
       "      <td>6164279</td>\n",
       "      <td>1575</td>\n",
       "      <td>1680795372585</td>\n",
       "      <td>1680795372584</td>\n",
       "      <td>1680795372963</td>\n",
       "      <td>1680795372609</td>\n",
       "      <td>1680795372575</td>\n",
       "    </tr>\n",
       "    <tr>\n",
       "      <th>156</th>\n",
       "      <td>6164270</td>\n",
       "      <td>602</td>\n",
       "      <td>1680795263609</td>\n",
       "      <td>1680795263609</td>\n",
       "      <td>1680795263893</td>\n",
       "      <td>1680795263613</td>\n",
       "      <td>1680795263602</td>\n",
       "    </tr>\n",
       "  </tbody>\n",
       "</table>\n",
       "<p>157 rows × 7 columns</p>\n",
       "</div>"
      ],
      "text/plain": [
       "     jsonPayload.slot  jsonPayload.msIntoSlot  \\\n",
       "0             6164747                    1161   \n",
       "1             6164746                     964   \n",
       "2             6164744                     990   \n",
       "3             6164739                    1231   \n",
       "4             6164738                     635   \n",
       "..                ...                     ...   \n",
       "152           6164285                    1055   \n",
       "153           6164282                     558   \n",
       "154           6164280                     667   \n",
       "155           6164279                    1575   \n",
       "156           6164270                     602   \n",
       "\n",
       "     jsonPayload.timestampAfterAlreadyDelivered  \\\n",
       "0                                 1680800988168   \n",
       "1                                 1680800975972   \n",
       "2                                 1680800951997   \n",
       "3                                 1680800892236   \n",
       "4                                 1680800879644   \n",
       "..                                          ...   \n",
       "152                               1680795444060   \n",
       "153                               1680795407568   \n",
       "154                               1680795383678   \n",
       "155                               1680795372585   \n",
       "156                               1680795263609   \n",
       "\n",
       "     jsonPayload.timestampAfterBlocked  jsonPayload.timestampAfterPublishing  \\\n",
       "0                        1680800988167                         1680800988519   \n",
       "1                        1680800975971                         1680800976302   \n",
       "2                        1680800951997                         1680800952280   \n",
       "3                        1680800892236                         1680800892576   \n",
       "4                        1680800879643                         1680800879998   \n",
       "..                                 ...                                   ...   \n",
       "152                      1680795444060                         1680795444434   \n",
       "153                      1680795407568                         1680795407867   \n",
       "154                      1680795383677                         1680795383951   \n",
       "155                      1680795372584                         1680795372963   \n",
       "156                      1680795263609                         1680795263893   \n",
       "\n",
       "     jsonPayload.timestampBeforePublishing  jsonPayload.requestTimestamp  \n",
       "0                            1680800988176                 1680800988161  \n",
       "1                            1680800975988                 1680800975964  \n",
       "2                            1680800952003                 1680800951990  \n",
       "3                            1680800892251                 1680800892231  \n",
       "4                            1680800879671                 1680800879635  \n",
       "..                                     ...                           ...  \n",
       "152                          1680795444075                 1680795444055  \n",
       "153                          1680795407574                 1680795407558  \n",
       "154                          1680795383686                 1680795383667  \n",
       "155                          1680795372609                 1680795372575  \n",
       "156                          1680795263613                 1680795263602  \n",
       "\n",
       "[157 rows x 7 columns]"
      ]
     },
     "execution_count": 45,
     "metadata": {},
     "output_type": "execute_result"
    }
   ],
   "source": [
    "t"
   ]
  },
  {
   "cell_type": "code",
   "execution_count": 46,
   "metadata": {},
   "outputs": [],
   "source": [
    "res = pd.DataFrame()\n",
    "res['msIntoSlot'] = t['jsonPayload.msIntoSlot']\n",
    "res['blocked'] = t['jsonPayload.timestampAfterBlocked'] - t['jsonPayload.requestTimestamp']\n",
    "res['delivered'] = t['jsonPayload.timestampAfterAlreadyDelivered'] - t['jsonPayload.timestampAfterBlocked']\n",
    "res['fetch payload'] = t['jsonPayload.timestampBeforePublishing'] - t['jsonPayload.timestampAfterAlreadyDelivered']\n",
    "res['publish'] = t['jsonPayload.timestampAfterPublishing'] - t['jsonPayload.timestampBeforePublishing']\n"
   ]
  },
  {
   "cell_type": "code",
   "execution_count": 56,
   "metadata": {},
   "outputs": [
    {
     "data": {
      "text/plain": [
       "array([   6,    7,    7,    5,    8,    6,    6,    8,   11,    5,   24,\n",
       "          7,    7,   27,   25,    4,    5,    5,    7,    8,    6,    9,\n",
       "         29, 2578,    6,    7,   10,   17,    7,    4,    5,    7, 3846,\n",
       "          5,    9,    6,    7,   12,   10,    5,    5,   32,    6,    5,\n",
       "       1807,    5,    5,    7,    5,    6,    6, 2232,   11,    8,    7,\n",
       "          5,    6,   12,    5,    6,   13,    9,   11,   20,   10,    7,\n",
       "          5,    7,    6,    9,    9,    5,    6,    6,    7,    8,    4,\n",
       "        537,    5,    6,    5,   14,    5,    5,    6,    5,    6,    6,\n",
       "          8, 2173,   20,    6,   10,    9,    6,    6,    9,    6,    7,\n",
       "          4,    9,    8,    8,    8,    8,    5,    6,    5,    7,   14,\n",
       "         16,    5,    5,    8,   11,    7,    5,    9,    6,    5,    6,\n",
       "          5,   10,    5,    6,    5,    6,    5,    5,    5,    6,    5,\n",
       "          5,    5,    9,    7,    8,    6,    7,    6,    7,    6,    7,\n",
       "          8,    5,    6,   11,   10,    9,   40,    6,    6,    5,   10,\n",
       "         10,    9,    7])"
      ]
     },
     "execution_count": 56,
     "metadata": {},
     "output_type": "execute_result"
    }
   ],
   "source": [
    "res['blocked'].values"
   ]
  }
 ],
 "metadata": {
  "kernelspec": {
   "display_name": "Python 3",
   "language": "python",
   "name": "python3"
  },
  "language_info": {
   "codemirror_mode": {
    "name": "ipython",
    "version": 3
   },
   "file_extension": ".py",
   "mimetype": "text/x-python",
   "name": "python",
   "nbconvert_exporter": "python",
   "pygments_lexer": "ipython3",
   "version": "3.8.16"
  }
 },
 "nbformat": 4,
 "nbformat_minor": 4
}

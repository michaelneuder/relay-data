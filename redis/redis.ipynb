{
 "cells": [
  {
   "cell_type": "code",
   "execution_count": 39,
   "metadata": {},
   "outputs": [],
   "source": [
    "import numpy as np\n",
    "import pandas as pd\n",
    "import matplotlib.pyplot as plt\n",
    "import json\n",
    "import requests\n",
    "import time\n",
    "import tqdm\n",
    "from datetime import datetime\n",
    "from google.cloud.logging import DESCENDING, Client\n",
    "plt.rcParams['axes.grid'] = True\n",
    "plt.rcParams['grid.alpha'] = 0.3\n",
    "plt.rcParams['axes.titlesize'] = 18\n",
    "plt.rcParams['font.family'] = 'monospace'"
   ]
  },
  {
   "cell_type": "code",
   "execution_count": 83,
   "metadata": {},
   "outputs": [
    {
     "data": {
      "text/html": [
       "<div>\n",
       "<style scoped>\n",
       "    .dataframe tbody tr th:only-of-type {\n",
       "        vertical-align: middle;\n",
       "    }\n",
       "\n",
       "    .dataframe tbody tr th {\n",
       "        vertical-align: top;\n",
       "    }\n",
       "\n",
       "    .dataframe thead th {\n",
       "        text-align: right;\n",
       "    }\n",
       "</style>\n",
       "<table border=\"1\" class=\"dataframe\">\n",
       "  <thead>\n",
       "    <tr style=\"text-align: right;\">\n",
       "      <th></th>\n",
       "      <th>slot</th>\n",
       "      <th>received_at</th>\n",
       "      <th>eligible_at</th>\n",
       "      <th>optimistic_submission</th>\n",
       "      <th>decode_duration</th>\n",
       "      <th>prechecks_duration</th>\n",
       "      <th>simulation_duration</th>\n",
       "      <th>redis_update_duration</th>\n",
       "      <th>total_duration</th>\n",
       "      <th>sim_success</th>\n",
       "    </tr>\n",
       "  </thead>\n",
       "  <tbody>\n",
       "    <tr>\n",
       "      <th>0</th>\n",
       "      <td>6274009</td>\n",
       "      <td>2023-04-2121:22:10.874361</td>\n",
       "      <td>2023-04-2121:22:10.976478</td>\n",
       "      <td>f</td>\n",
       "      <td>6490</td>\n",
       "      <td>2763</td>\n",
       "      <td>78705</td>\n",
       "      <td>14164</td>\n",
       "      <td>102124</td>\n",
       "      <td>t</td>\n",
       "    </tr>\n",
       "    <tr>\n",
       "      <th>1</th>\n",
       "      <td>6274009</td>\n",
       "      <td>2023-04-2121:22:11.227392</td>\n",
       "      <td>2023-04-2121:22:11.248353</td>\n",
       "      <td>t</td>\n",
       "      <td>8317</td>\n",
       "      <td>2320</td>\n",
       "      <td>10</td>\n",
       "      <td>10314</td>\n",
       "      <td>20963</td>\n",
       "      <td>t</td>\n",
       "    </tr>\n",
       "    <tr>\n",
       "      <th>2</th>\n",
       "      <td>6274009</td>\n",
       "      <td>2023-04-2121:22:11.499971</td>\n",
       "      <td>2023-04-2121:22:11.520116</td>\n",
       "      <td>t</td>\n",
       "      <td>6930</td>\n",
       "      <td>2271</td>\n",
       "      <td>11</td>\n",
       "      <td>10932</td>\n",
       "      <td>20147</td>\n",
       "      <td>t</td>\n",
       "    </tr>\n",
       "    <tr>\n",
       "      <th>3</th>\n",
       "      <td>6274009</td>\n",
       "      <td>2023-04-2121:22:11.706185</td>\n",
       "      <td>2023-04-2121:22:11.731431</td>\n",
       "      <td>t</td>\n",
       "      <td>10329</td>\n",
       "      <td>2163</td>\n",
       "      <td>11</td>\n",
       "      <td>12744</td>\n",
       "      <td>25248</td>\n",
       "      <td>t</td>\n",
       "    </tr>\n",
       "    <tr>\n",
       "      <th>4</th>\n",
       "      <td>6274009</td>\n",
       "      <td>2023-04-2121:22:11.453326</td>\n",
       "      <td>2023-04-2121:22:11.481039</td>\n",
       "      <td>t</td>\n",
       "      <td>12990</td>\n",
       "      <td>3521</td>\n",
       "      <td>14</td>\n",
       "      <td>11189</td>\n",
       "      <td>27716</td>\n",
       "      <td>t</td>\n",
       "    </tr>\n",
       "  </tbody>\n",
       "</table>\n",
       "</div>"
      ],
      "text/plain": [
       "      slot                received_at                eligible_at  \\\n",
       "0  6274009  2023-04-2121:22:10.874361  2023-04-2121:22:10.976478   \n",
       "1  6274009  2023-04-2121:22:11.227392  2023-04-2121:22:11.248353   \n",
       "2  6274009  2023-04-2121:22:11.499971  2023-04-2121:22:11.520116   \n",
       "3  6274009  2023-04-2121:22:11.706185  2023-04-2121:22:11.731431   \n",
       "4  6274009  2023-04-2121:22:11.453326  2023-04-2121:22:11.481039   \n",
       "\n",
       "  optimistic_submission  decode_duration  prechecks_duration  \\\n",
       "0                     f             6490                2763   \n",
       "1                     t             8317                2320   \n",
       "2                     t             6930                2271   \n",
       "3                     t            10329                2163   \n",
       "4                     t            12990                3521   \n",
       "\n",
       "   simulation_duration  redis_update_duration  total_duration sim_success  \n",
       "0                78705                  14164          102124           t  \n",
       "1                   10                  10314           20963           t  \n",
       "2                   11                  10932           20147           t  \n",
       "3                   11                  12744           25248           t  \n",
       "4                   14                  11189           27716           t  "
      ]
     },
     "execution_count": 83,
     "metadata": {},
     "output_type": "execute_result"
    }
   ],
   "source": [
    "lhh = pd.read_csv('last13.csv', delimiter='|', \n",
    "                  names=['slot','received_at','eligible_at','optimistic_submission','decode_duration',\n",
    "                         'prechecks_duration','simulation_duration','redis_update_duration',\n",
    "                         'total_duration','sim_success'])\n",
    "lhh.head()"
   ]
  },
  {
   "cell_type": "code",
   "execution_count": 84,
   "metadata": {},
   "outputs": [
    {
     "data": {
      "text/plain": [
       "(-1.5030620619988635, -3, 0)"
      ]
     },
     "execution_count": 84,
     "metadata": {},
     "output_type": "execute_result"
    }
   ],
   "source": [
    "diffs = (lhh['decode_duration'] + lhh['prechecks_duration'] + lhh['simulation_duration'] + \\\n",
    " lhh['redis_update_duration'] - lhh['total_duration'])\n",
    "diffs.mean(), diffs.min(), diffs.max()"
   ]
  },
  {
   "cell_type": "code",
   "execution_count": 85,
   "metadata": {},
   "outputs": [
    {
     "data": {
      "text/plain": [
       "(12783, 3056)"
      ]
     },
     "execution_count": 85,
     "metadata": {},
     "output_type": "execute_result"
    }
   ],
   "source": [
    "len(lhh[lhh['optimistic_submission']=='t']), len(lhh[lhh['optimistic_submission']=='f'])"
   ]
  },
  {
   "cell_type": "code",
   "execution_count": 86,
   "metadata": {},
   "outputs": [],
   "source": [
    "opts = lhh[lhh['optimistic_submission']=='t']\n",
    "nops = lhh[lhh['optimistic_submission']=='f']"
   ]
  },
  {
   "cell_type": "code",
   "execution_count": 87,
   "metadata": {},
   "outputs": [
    {
     "name": "stdout",
     "output_type": "stream",
     "text": [
      "decode\\_duration & 10194 & 23477 & 97776 & 393434 \\\\\n",
      "prechecks\\_duration & 2578 & 3421 & 8032 & 274761 \\\\\n",
      "simulation\\_duration & 10 & 12 & 15 & 39 \\\\\n",
      "redis\\_update\\_duration & 8783 & 13343 & 33663 & 1264906 \\\\\n",
      "\\hline\n",
      "\\textbf{total\\_duration} & \\textbf{23916} & \\textbf{66586} & \\textbf{125868} & \\textbf{1797524} \\\\\n"
     ]
    }
   ],
   "source": [
    "printdf(opts)"
   ]
  },
  {
   "cell_type": "code",
   "execution_count": 67,
   "metadata": {},
   "outputs": [
    {
     "name": "stdout",
     "output_type": "stream",
     "text": [
      "decode\\_duration & 16043 & 59141 & 201531 & 2353783 \\\\\n",
      "prechecks\\_duration & 3195 & 18372 & 157218 & 774498 \\\\\n",
      "simulation\\_duration & 120175 & 176396 & 324453 & 1827215 \\\\\n",
      "redis\\_update\\_duration & 10712 & 42934 & 477523 & 2713960 \\\\\n",
      "\\hline\n",
      "\\textbf{total\\_duration} & \\textbf{177788} & \\textbf{354307} & \\textbf{1159703} & \\textbf{5423011} \\\\\n"
     ]
    }
   ],
   "source": [
    "printdf(nops)"
   ]
  },
  {
   "cell_type": "markdown",
   "metadata": {},
   "source": [
    "prechecks_duration\n",
    "redis_update_duration\n",
    "total_duration"
   ]
  },
  {
   "cell_type": "code",
   "execution_count": 61,
   "metadata": {},
   "outputs": [
    {
     "data": {
      "image/png": "[encoded data removed]",
      "text/plain": [
       "<Figure size 576x360 with 1 Axes>"
      ]
     },
     "metadata": {
      "needs_background": "light"
     },
     "output_type": "display_data"
    }
   ],
   "source": [
    "f, ax = plt.subplots(figsize=(8,5))\n",
    "# key = 'prechecks_duration'\n",
    "key = 'redis_update_duration'\n",
    "# key = 'total_duration'\n",
    "percs = [(int(i*100), np.quantile(opts[key], i)) for i in [.50, .90, .99]]\n",
    "\n",
    "ax.hist(opts[key], bins=500, color='sandybrown', alpha=0.9, cumulative=1,\n",
    "        density=True, label='cdf')\n",
    "linestyle = ['-', '--', ':']\n",
    "for i, v in enumerate(percs):\n",
    "    ax.axvline(v[1], label='p{}={:0.3f}'.format(v[0], v[1]), color='k', linestyle=linestyle[i], linewidth=3, alpha=0.7)\n",
    "\n",
    "ax.set_xlabel('duration $(\\mu s)$', size=14)\n",
    "ax.set_title('{}; $\\mu={:0.0f}$ $\\mu s$'.format(key, opts[key].mean()), size=18)\n",
    "plt.legend(loc=4)\n",
    "plt.show()"
   ]
  },
  {
   "cell_type": "code",
   "execution_count": 28,
   "metadata": {},
   "outputs": [
    {
     "data": {
      "image/png": "[encoded data removed]",
      "text/plain": [
       "<Figure size 576x360 with 1 Axes>"
      ]
     },
     "metadata": {
      "needs_background": "light"
     },
     "output_type": "display_data"
    }
   ],
   "source": [
    "f, ax = plt.subplots(figsize=(8,5))\n",
    "bins = np.histogram(opts_clipped['redis_update_duration'], bins=500)[1]\n",
    "ax.hist(opts_clipped['redis_update_duration'], bins=bins, color='black', alpha=0.9, density=True)\n",
    "\n",
    "ax.set_xlim(0, int(1e6))\n",
    "# ax.legend(loc=0)\n",
    "ax.set_xlabel('duration $(\\mu s)$', size=14)\n",
    "ax.set_title('optimistic total durations', size=16)\n",
    "# ax.set_title('total duration; $\\mu = {:0.0f}$'.format(nopts['total_duration'].values.mean()), size=18)\n",
    "plt.show()"
   ]
  },
  {
   "cell_type": "code",
   "execution_count": 14,
   "metadata": {},
   "outputs": [],
   "source": [
    "def printdf(df):\n",
    "    print('decode\\_duration & ', end='')\n",
    "    st = ''\n",
    "    for i in [50, 75, 90, 99]:\n",
    "        st += str(int(np.percentile(df['decode_duration'], i)))\n",
    "        st += \" & \"\n",
    "    print(st[:-3] + ' \\\\\\\\')\n",
    "    st = ''\n",
    "    print('prechecks\\_duration & ', end='')\n",
    "    for i in [50, 75, 90, 99]:\n",
    "        st += str(int(np.percentile(df['prechecks_duration'], i)))\n",
    "        st += \" & \"\n",
    "    print(st[:-3] + ' \\\\\\\\')\n",
    "    st = ''\n",
    "    print('simulation\\_duration & ', end='')\n",
    "    for i in [50, 75, 90, 99]:\n",
    "        st += str(int(np.percentile(df['simulation_duration'], i)))\n",
    "        st += \" & \"\n",
    "    print(st[:-3] + ' \\\\\\\\')\n",
    "    st = ''\n",
    "    print('redis\\_update\\_duration & ', end='')\n",
    "    for i in [50, 75, 90, 99]:\n",
    "        st += str(int(np.percentile(df['redis_update_duration'], i)))\n",
    "        st += \" & \"\n",
    "    print(st[:-3] + ' \\\\\\\\')\n",
    "    st = ''\n",
    "    print('\\\\hline')\n",
    "    print('\\\\textbf{total\\_duration} & ', end='')\n",
    "    for i in [50, 75, 90, 99]:\n",
    "        st += '\\\\textbf{{{}}}'.format(str(int(np.percentile(df['total_duration'], i))))\n",
    "        st += \" & \"\n",
    "    print(st[:-3] + ' \\\\\\\\')"
   ]
  },
  {
   "cell_type": "code",
   "execution_count": 12,
   "metadata": {},
   "outputs": [
    {
     "data": {
      "text/plain": [
       "45288"
      ]
     },
     "execution_count": 12,
     "metadata": {},
     "output_type": "execute_result"
    }
   ],
   "source": [
    "len(lhh[lhh['optimistic_submission']=='t'])"
   ]
  },
  {
   "cell_type": "code",
   "execution_count": 9,
   "metadata": {},
   "outputs": [
    {
     "name": "stdout",
     "output_type": "stream",
     "text": [
      "decode\\_duration & 13205 & 87762 & 221634 & 998024 \\\\\n",
      "prechecks\\_duration & 3356 & 64640 & 279932 & 981432 \\\\\n",
      "simulation\\_duration & 375 & 21847 & 161235 & 765575 \\\\\n",
      "redis\\_update\\_duration & 16022 & 314586 & 1323086 & 3977412 \\\\\n",
      "\\hline\n",
      "\\textbf{total\\_duration} & \\textbf{58891} & \\textbf{569184} & \\textbf{2219318} & \\textbf{5232605} \\\\\n"
     ]
    }
   ],
   "source": [
    "printdf(lhh[lhh['optimistic_submission']=='t'])"
   ]
  }
 ],
 "metadata": {
  "kernelspec": {
   "display_name": "Python 3",
   "language": "python",
   "name": "python3"
  },
  "language_info": {
   "codemirror_mode": {
    "name": "ipython",
    "version": 3
   },
   "file_extension": ".py",
   "mimetype": "text/x-python",
   "name": "python",
   "nbconvert_exporter": "python",
   "pygments_lexer": "ipython3",
   "version": "3.8.16"
  }
 },
 "nbformat": 4,
 "nbformat_minor": 4
}

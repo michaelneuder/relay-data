{
 "cells": [
  {
   "cell_type": "code",
   "execution_count": 2,
   "metadata": {},
   "outputs": [],
   "source": [
    "import numpy as np\n",
    "import pandas as pd\n",
    "import matplotlib.pyplot as plt\n",
    "import json\n",
    "import requests\n",
    "import time\n",
    "import tqdm\n",
    "from datetime import datetime\n",
    "from google.cloud.logging import DESCENDING, Client\n",
    "plt.rcParams['axes.grid'] = True\n",
    "plt.rcParams['grid.alpha'] = 0.3\n",
    "plt.rcParams['axes.titlesize'] = 18"
   ]
  },
  {
   "cell_type": "code",
   "execution_count": 3,
   "metadata": {},
   "outputs": [
    {
     "name": "stderr",
     "output_type": "stream",
     "text": [
      "/usr/local/lib/python3.8/site-packages/google/auth/_default.py:78: UserWarning: Your application has authenticated using end user credentials from Google Cloud SDK without a quota project. You might receive a \"quota exceeded\" or \"API not enabled\" error. See the following page for troubleshooting: https://cloud.google.com/docs/authentication/adc-troubleshooting/user-creds. \n",
      "  warnings.warn(_CLOUD_SDK_CREDENTIALS_WARNING)\n"
     ]
    }
   ],
   "source": [
    "client = Client(project='ultra-sound-relay')"
   ]
  },
  {
   "cell_type": "code",
   "execution_count": 72,
   "metadata": {},
   "outputs": [],
   "source": [
    "now = pd.Timestamp.now()\n",
    "pdFilter = 'jsonPayload.method=\"submitNewBlock\" AND \"received block from builder\" ' + \\\n",
    "           'AND jsonPayload.builderPubkey=\"0xa00000a975dffbd1ef61953ac6c90b52b70eb0188eb9d030774346c9248f81e875f7e8bc56c4bbbda297a9543cfa051d\" ' + \\\n",
    "           'AND timestamp>=' + '\\\"' + (now - pd.Timedelta('5h')).strftime('%Y-%m-%dT%H:%M:%S.%fZ') + '\\\" ' + \\\n",
    "           'AND timestamp<=' + '\\\"' + (now).strftime('%Y-%m-%dT%H:%M:%S.%fZ') + '\\\"'"
   ]
  },
  {
   "cell_type": "code",
   "execution_count": 73,
   "metadata": {},
   "outputs": [],
   "source": [
    "payloads = []\n",
    "for e in client.list_entries(filter_=pdFilter):\n",
    "    payloads.append(e.to_api_repr()['jsonPayload'])\n",
    "payloads = pd.DataFrame(payloads)"
   ]
  },
  {
   "cell_type": "code",
   "execution_count": 74,
   "metadata": {},
   "outputs": [],
   "source": [
    "payloads = pd.DataFrame(payloads)"
   ]
  },
  {
   "cell_type": "code",
   "execution_count": 75,
   "metadata": {},
   "outputs": [
    {
     "data": {
      "text/plain": [
       "(8654,\n",
       " Index(['proposerPubkey', 'timestampBeforeSignatureCheck', 'wasBidSavedInRedis',\n",
       "        'fastTrackValidation', 'timestampAfterBidUpdate', 'method',\n",
       "        'timestampRequestStart', 'prevTopBidValue', 'topBidValue',\n",
       "        'timestampAfterChecks1', 'slot', 'timestampBeforeAttributesCheck',\n",
       "        'payloadBytes', 'profilePrechecksUs', 'wasTopBidUpdated', 'parentHash',\n",
       "        'headSlot', 'version', 'profileRedisUpdateTopBidUs',\n",
       "        'profileRedisSavePayloadUs', 'profileSimUs', 'builderIsHighPrio',\n",
       "        'level', 'newBidIsTopBid', 'builderPubkey', 'value', 'profileTotalUs',\n",
       "        'reqContentType', 'timestampEligibleAt', 'blockHash',\n",
       "        'timestampBeforeValidation', 'timestampAfterDecoding', 'contentLength',\n",
       "        'profileDecodeUs', 'floorBidValue', 'service', 'reqIsGzip',\n",
       "        'profileRedisUs', 'timestampAfterSignatureCheck', 'numTx', 'msg',\n",
       "        'profileRedisUpdateFloorUs', 'cancellationEnabled', 'isLargeRequest',\n",
       "        'validationDurationMs', 'timestampAfterValidation'],\n",
       "       dtype='object'))"
      ]
     },
     "execution_count": 75,
     "metadata": {},
     "output_type": "execute_result"
    }
   ],
   "source": [
    "len(payloads), payloads.keys()"
   ]
  },
  {
   "cell_type": "code",
   "execution_count": 60,
   "metadata": {},
   "outputs": [
    {
     "data": {
      "text/plain": [
       "(0, 10059)"
      ]
     },
     "execution_count": 60,
     "metadata": {},
     "output_type": "execute_result"
    }
   ],
   "source": [
    "ssz = payloads[payloads['reqContentType'] == 'ssz']\n",
    "json = payloads[payloads['reqContentType'] == 'json']\n",
    "len(ssz), len(json)"
   ]
  },
  {
   "cell_type": "code",
   "execution_count": 61,
   "metadata": {},
   "outputs": [
    {
     "data": {
      "text/plain": [
       "(0, 10059)"
      ]
     },
     "execution_count": 61,
     "metadata": {},
     "output_type": "execute_result"
    }
   ],
   "source": [
    "bn = payloads[payloads['builderPubkey']=='0x8000008a03ebae7d8ab2f66659bd719a698b2e74097d1e423df85e0d58571140527c15052a36c19878018aaebe8a6fea']\n",
    "ssz = bn[bn['reqContentType'] == 'ssz']\n",
    "json = bn[bn['reqContentType'] == 'json']\n",
    "len(ssz), len(json)"
   ]
  },
  {
   "cell_type": "code",
   "execution_count": 76,
   "metadata": {},
   "outputs": [
    {
     "data": {
      "text/plain": [
       "(0, 8654)"
      ]
     },
     "execution_count": 76,
     "metadata": {},
     "output_type": "execute_result"
    }
   ],
   "source": [
    "bn2 = payloads[payloads['builderPubkey']=='0xa00000a975dffbd1ef61953ac6c90b52b70eb0188eb9d030774346c9248f81e875f7e8bc56c4bbbda297a9543cfa051d']\n",
    "ssz2 = bn2[bn2['reqContentType'] == 'ssz']\n",
    "json2 = bn2[bn2['reqContentType'] == 'json']\n",
    "len(ssz2), len(json2)"
   ]
  },
  {
   "cell_type": "code",
   "execution_count": 62,
   "metadata": {},
   "outputs": [
    {
     "data": {
      "text/plain": [
       "Text(0.5, 1.0, 'time to decode payload')"
      ]
     },
     "execution_count": 62,
     "metadata": {},
     "output_type": "execute_result"
    },
    {
     "data": {
      "image/png": "[encoded data removed]",
      "text/plain": [
       "<Figure size 576x360 with 1 Axes>"
      ]
     },
     "metadata": {
      "needs_background": "light"
     },
     "output_type": "display_data"
    }
   ],
   "source": [
    "f, ax = plt.subplots(figsize=(8,5))\n",
    "ax.boxplot([ssz.profileDecodeUs, json.profileDecodeUs])\n",
    "ax.set_xticklabels(['ssz', 'json'], size=14)\n",
    "ax.set_ylabel('decode duration ($\\mu$s)', size=14)\n",
    "ax.set_title('time to decode payload', size=16)"
   ]
  },
  {
   "cell_type": "code",
   "execution_count": 79,
   "metadata": {},
   "outputs": [
    {
     "data": {
      "image/png": "[encoded data removed]",
      "text/plain": [
       "<Figure size 576x360 with 1 Axes>"
      ]
     },
     "metadata": {
      "needs_background": "light"
     },
     "output_type": "display_data"
    }
   ],
   "source": [
    "f, ax = plt.subplots(figsize=(8,5))\n",
    "ax.hist(json.profileDecodeUs, bins=1000, color='r', alpha=0.4, label='0x8000008')\n",
    "ax.hist(json2.profileDecodeUs, bins=1000, color='b', alpha=0.4, label='0xa00000a')\n",
    "ax.set_xlim(0,500000)\n",
    "ax.legend()\n",
    "plt.show()"
   ]
  },
  {
   "cell_type": "code",
   "execution_count": 65,
   "metadata": {},
   "outputs": [
    {
     "name": "stdout",
     "output_type": "stream",
     "text": [
      "decode\\_duration & 100657 & 121408 & 242436 & 1342960 & \n"
     ]
    }
   ],
   "source": [
    "print('decode\\_duration & ', end='')\n",
    "st = ''\n",
    "for i in [50, 75, 90, 99]:\n",
    "    st += str(int(np.percentile(json.profileDecodeUs, i)))\n",
    "    st += \" & \"\n",
    "print(st)"
   ]
  },
  {
   "cell_type": "code",
   "execution_count": 40,
   "metadata": {},
   "outputs": [
    {
     "data": {
      "text/plain": [
       "Text(0.5, 1.0, 'time to decode payload')"
      ]
     },
     "execution_count": 40,
     "metadata": {},
     "output_type": "execute_result"
    },
    {
     "data": {
      "image/png": "[encoded data removed]",
      "text/plain": [
       "<Figure size 576x360 with 1 Axes>"
      ]
     },
     "metadata": {
      "needs_background": "light"
     },
     "output_type": "display_data"
    }
   ],
   "source": [
    "f, ax = plt.subplots(figsize=(8,5))\n",
    "ax.boxplot([ssz[ssz.reqIsGzip==False].profileDecodeUs, ssz[ssz.reqIsGzip==True].profileDecodeUs])\n",
    "ax.set_xticklabels(['ssz no gzip', 'ssz gzip'], size=14)\n",
    "ax.set_ylabel('decode duration ($\\mu$s)', size=14)\n",
    "ax.set_title('time to decode payload', size=16)"
   ]
  }
 ],
 "metadata": {
  "kernelspec": {
   "display_name": "Python 3",
   "language": "python",
   "name": "python3"
  },
  "language_info": {
   "codemirror_mode": {
    "name": "ipython",
    "version": 3
   },
   "file_extension": ".py",
   "mimetype": "text/x-python",
   "name": "python",
   "nbconvert_exporter": "python",
   "pygments_lexer": "ipython3",
   "version": "3.8.16"
  }
 },
 "nbformat": 4,
 "nbformat_minor": 4
}

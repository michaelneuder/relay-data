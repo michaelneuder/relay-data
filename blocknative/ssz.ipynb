{
 "cells": [
  {
   "cell_type": "code",
   "execution_count": 1,
   "metadata": {},
   "outputs": [],
   "source": [
    "import numpy as np\n",
    "import pandas as pd\n",
    "import matplotlib.pyplot as plt\n",
    "import json\n",
    "import requests\n",
    "import time\n",
    "import tqdm\n",
    "from datetime import datetime\n",
    "from google.cloud.logging import DESCENDING, Client\n",
    "plt.rcParams['axes.grid'] = True\n",
    "plt.rcParams['grid.alpha'] = 0.3\n",
    "plt.rcParams['axes.titlesize'] = 18"
   ]
  },
  {
   "cell_type": "code",
   "execution_count": 2,
   "metadata": {},
   "outputs": [
    {
     "name": "stderr",
     "output_type": "stream",
     "text": [
      "/usr/local/lib/python3.8/site-packages/google/auth/_default.py:78: UserWarning: Your application has authenticated using end user credentials from Google Cloud SDK without a quota project. You might receive a \"quota exceeded\" or \"API not enabled\" error. See the following page for troubleshooting: https://cloud.google.com/docs/authentication/adc-troubleshooting/user-creds. \n",
      "  warnings.warn(_CLOUD_SDK_CREDENTIALS_WARNING)\n"
     ]
    }
   ],
   "source": [
    "client = Client(project='ultra-sound-relay')"
   ]
  },
  {
   "cell_type": "code",
   "execution_count": 13,
   "metadata": {},
   "outputs": [],
   "source": [
    "now = pd.Timestamp.now()\n",
    "pdFilter = 'jsonPayload.method=\"submitNewBlock\" AND \"received block from builder\" ' + \\\n",
    "           'AND jsonPayload.builderPubkey=\"0x8000008a03ebae7d8ab2f66659bd719a698b2e74097d1e423df85e0d58571140527c15052a36c19878018aaebe8a6fea\" ' + \\\n",
    "           'AND timestamp>=' + '\\\"' + (now - pd.Timedelta('3h')).strftime('%Y-%m-%dT%H:%M:%S.%fZ') + '\\\" ' + \\\n",
    "           'AND timestamp<=' + '\\\"' + (now).strftime('%Y-%m-%dT%H:%M:%S.%fZ') + '\\\"'"
   ]
  },
  {
   "cell_type": "code",
   "execution_count": 14,
   "metadata": {},
   "outputs": [],
   "source": [
    "payloads = []\n",
    "for e in client.list_entries(filter_=pdFilter):\n",
    "    payloads.append(e.to_api_repr()['jsonPayload'])\n",
    "payloads = pd.DataFrame(payloads)"
   ]
  },
  {
   "cell_type": "code",
   "execution_count": 15,
   "metadata": {},
   "outputs": [],
   "source": [
    "payloads = pd.DataFrame(payloads)"
   ]
  },
  {
   "cell_type": "code",
   "execution_count": 16,
   "metadata": {},
   "outputs": [
    {
     "data": {
      "text/plain": [
       "(6237,\n",
       " Index(['timestampRequestStart', 'timestampAfterBidUpdate',\n",
       "        'wasBidSavedInRedis', 'fastTrackValidation', 'proposerPubkey', 'method',\n",
       "        'timestampBeforeSignatureCheck', 'prevTopBidValue', 'slot',\n",
       "        'timestampAfterChecks1', 'topBidValue',\n",
       "        'timestampBeforeAttributesCheck', 'payloadBytes', 'profilePrechecksUs',\n",
       "        'profileRedisUpdateFloorUs', 'parentHash', 'headSlot', 'version',\n",
       "        'profileRedisUpdateTopBidUs', 'profileRedisSavePayloadUs',\n",
       "        'profileSimUs', 'builderIsHighPrio', 'level', 'newBidIsTopBid',\n",
       "        'builderPubkey', 'profileTotalUs', 'value', 'reqContentType',\n",
       "        'timestampEligibleAt', 'blockHash', 'timestampBeforeValidation',\n",
       "        'timestampAfterDecoding', 'contentLength', 'profileDecodeUs',\n",
       "        'floorBidValue', 'timestampAfterSignatureCheck', 'reqIsGzip',\n",
       "        'cancellationEnabled', 'wasTopBidUpdated', 'numTx', 'msg', 'service',\n",
       "        'profileRedisUs', 'isLargeRequest', 'validationDurationMs',\n",
       "        'timestampAfterValidation'],\n",
       "       dtype='object'))"
      ]
     },
     "execution_count": 16,
     "metadata": {},
     "output_type": "execute_result"
    }
   ],
   "source": [
    "len(payloads), payloads.keys()"
   ]
  },
  {
   "cell_type": "code",
   "execution_count": 17,
   "metadata": {},
   "outputs": [
    {
     "data": {
      "text/plain": [
       "(0, 6237)"
      ]
     },
     "execution_count": 17,
     "metadata": {},
     "output_type": "execute_result"
    }
   ],
   "source": [
    "ssz = payloads[payloads['reqContentType'] == 'ssz']\n",
    "json = payloads[payloads['reqContentType'] == 'json']\n",
    "len(ssz), len(json)"
   ]
  },
  {
   "cell_type": "code",
   "execution_count": 18,
   "metadata": {},
   "outputs": [
    {
     "data": {
      "text/plain": [
       "(0, 6237)"
      ]
     },
     "execution_count": 18,
     "metadata": {},
     "output_type": "execute_result"
    }
   ],
   "source": [
    "bn = payloads[payloads['builderPubkey']=='0x8000008a03ebae7d8ab2f66659bd719a698b2e74097d1e423df85e0d58571140527c15052a36c19878018aaebe8a6fea']\n",
    "ssz = bn[bn['reqContentType'] == 'ssz']\n",
    "json = bn[bn['reqContentType'] == 'json']\n",
    "len(ssz), len(json)"
   ]
  },
  {
   "cell_type": "code",
   "execution_count": 11,
   "metadata": {},
   "outputs": [
    {
     "data": {
      "text/plain": [
       "(1147, 4257)"
      ]
     },
     "execution_count": 11,
     "metadata": {},
     "output_type": "execute_result"
    }
   ],
   "source": [
    "bn2 = payloads[payloads['builderPubkey']=='0xa00000a975dffbd1ef61953ac6c90b52b70eb0188eb9d030774346c9248f81e875f7e8bc56c4bbbda297a9543cfa051d']\n",
    "ssz2 = bn2[bn2['reqContentType'] == 'ssz']\n",
    "json2 = bn2[bn2['reqContentType'] == 'json']\n",
    "len(ssz2), len(json2)"
   ]
  },
  {
   "cell_type": "code",
   "execution_count": 29,
   "metadata": {},
   "outputs": [
    {
     "data": {
      "text/plain": [
       "Text(0.5, 1.0, 'time to decode payload')"
      ]
     },
     "execution_count": 29,
     "metadata": {},
     "output_type": "execute_result"
    },
    {
     "data": {
      "image/png": "[encoded data removed]",
      "text/plain": [
       "<Figure size 576x360 with 1 Axes>"
      ]
     },
     "metadata": {
      "needs_background": "light"
     },
     "output_type": "display_data"
    }
   ],
   "source": [
    "f, ax = plt.subplots(figsize=(8,5))\n",
    "ax.boxplot([ssz2.profileTotalUs, json2.profileTotalUs])\n",
    "ax.set_xticklabels(['ssz', 'json'], size=14)\n",
    "ax.set_ylabel('decode duration ($\\mu$s)', size=14)\n",
    "ax.set_title('time to decode payload', size=16)"
   ]
  },
  {
   "cell_type": "code",
   "execution_count": 25,
   "metadata": {},
   "outputs": [
    {
     "data": {
      "image/png": "[encoded data removed]",
      "text/plain": [
       "<Figure size 576x360 with 1 Axes>"
      ]
     },
     "metadata": {
      "needs_background": "light"
     },
     "output_type": "display_data"
    }
   ],
   "source": [
    "f, ax = plt.subplots(figsize=(8,5))\n",
    "ax.hist(json2.profileTotalUs, bins=1000, color='r', alpha=0.4, label='0xa00000a json')\n",
    "ax.hist(ssz2.profileTotalUs, bins=1000, color='b', alpha=0.4, label='0xa00000a ssz')\n",
    "ax.set_xlim(0,500000)\n",
    "ax.set_xlabel('decode duration us', size=15)\n",
    "ax.legend()\n",
    "plt.show()"
   ]
  },
  {
   "cell_type": "code",
   "execution_count": 30,
   "metadata": {},
   "outputs": [
    {
     "name": "stdout",
     "output_type": "stream",
     "text": [
      "ssz total\\_duration percentiles & 11995 & 112983 & 234254 & 4595191 & \n",
      "json total\\_duration percentiles & 99002 & 122810 & 193673 & 3049002 & \n"
     ]
    }
   ],
   "source": [
    "print('ssz total\\_duration percentiles & ', end='')\n",
    "st = ''\n",
    "for i in [50, 75, 90, 99]:\n",
    "    st += str(int(np.percentile(ssz2.profileTotalUs, i)))\n",
    "    st += \" & \"\n",
    "print(st)\n",
    "print('json total\\_duration percentiles & ', end='')\n",
    "st = ''\n",
    "for i in [50, 75, 90, 99]:\n",
    "    st += str(int(np.percentile(json2.profileTotalUs, i)))\n",
    "    st += \" & \"\n",
    "print(st)"
   ]
  },
  {
   "cell_type": "code",
   "execution_count": 40,
   "metadata": {},
   "outputs": [
    {
     "data": {
      "text/plain": [
       "Text(0.5, 1.0, 'time to decode payload')"
      ]
     },
     "execution_count": 40,
     "metadata": {},
     "output_type": "execute_result"
    },
    {
     "data": {
      "image/png": "[encoded data removed]",
      "text/plain": [
       "<Figure size 576x360 with 1 Axes>"
      ]
     },
     "metadata": {
      "needs_background": "light"
     },
     "output_type": "display_data"
    }
   ],
   "source": [
    "f, ax = plt.subplots(figsize=(8,5))\n",
    "ax.boxplot([ssz[ssz.reqIsGzip==False].profileDecodeUs, ssz[ssz.reqIsGzip==True].profileDecodeUs])\n",
    "ax.set_xticklabels(['ssz no gzip', 'ssz gzip'], size=14)\n",
    "ax.set_ylabel('decode duration ($\\mu$s)', size=14)\n",
    "ax.set_title('time to decode payload', size=16)"
   ]
  }
 ],
 "metadata": {
  "kernelspec": {
   "display_name": "Python 3",
   "language": "python",
   "name": "python3"
  },
  "language_info": {
   "codemirror_mode": {
    "name": "ipython",
    "version": 3
   },
   "file_extension": ".py",
   "mimetype": "text/x-python",
   "name": "python",
   "nbconvert_exporter": "python",
   "pygments_lexer": "ipython3",
   "version": "3.8.16"
  }
 },
 "nbformat": 4,
 "nbformat_minor": 4
}

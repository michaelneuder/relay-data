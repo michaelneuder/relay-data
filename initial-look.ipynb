{
 "cells": [
  {
   "cell_type": "code",
   "execution_count": 1,
   "metadata": {},
   "outputs": [],
   "source": [
    "import matplotlib.pyplot as plt\n",
    "import numpy as np\n",
    "import pandas as pd"
   ]
  },
  {
   "cell_type": "code",
   "execution_count": 3,
   "metadata": {},
   "outputs": [
    {
     "data": {
      "text/html": [
       "<div>\n",
       "<style scoped>\n",
       "    .dataframe tbody tr th:only-of-type {\n",
       "        vertical-align: middle;\n",
       "    }\n",
       "\n",
       "    .dataframe tbody tr th {\n",
       "        vertical-align: top;\n",
       "    }\n",
       "\n",
       "    .dataframe thead th {\n",
       "        text-align: right;\n",
       "    }\n",
       "</style>\n",
       "<table border=\"1\" class=\"dataframe\">\n",
       "  <thead>\n",
       "    <tr style=\"text-align: right;\">\n",
       "      <th></th>\n",
       "      <th>id</th>\n",
       "      <th>inserted_at</th>\n",
       "      <th>relay</th>\n",
       "      <th>epoch</th>\n",
       "      <th>slot</th>\n",
       "      <th>parent_hash</th>\n",
       "      <th>block_hash</th>\n",
       "      <th>builder_pubkey</th>\n",
       "      <th>proposer_pubkey</th>\n",
       "      <th>proposer_fee_recipient</th>\n",
       "      <th>...</th>\n",
       "      <th>value_delivered_diff_wei</th>\n",
       "      <th>value_delivered_diff_eth</th>\n",
       "      <th>block_coinbase_addr</th>\n",
       "      <th>coinbase_diff_wei</th>\n",
       "      <th>coinbase_diff_eth</th>\n",
       "      <th>block_coinbase_is_proposer</th>\n",
       "      <th>found_onchain</th>\n",
       "      <th>notes</th>\n",
       "      <th>slot_missed</th>\n",
       "      <th>extra_data</th>\n",
       "    </tr>\n",
       "  </thead>\n",
       "  <tbody>\n",
       "    <tr>\n",
       "      <th>0</th>\n",
       "      <td>6721506</td>\n",
       "      <td>2022-11-09 14:40:03.790383</td>\n",
       "      <td>boost-relay.flashbots.net</td>\n",
       "      <td>159324</td>\n",
       "      <td>5098398</td>\n",
       "      <td>0x454604426cdcd75952e250d58b97ccb7868450542091...</td>\n",
       "      <td>0x88e0598619cb50340372e216e0988e6691ed8f1df37a...</td>\n",
       "      <td>0x81beef03aafd3dd33ffd7deb337407142c80fea2690e...</td>\n",
       "      <td>0x845195de50be16d54fb744640996e715ca678a105683...</td>\n",
       "      <td>0x388c818ca8b9251b393131c08a736a67ccb19297</td>\n",
       "      <td>...</td>\n",
       "      <td>0</td>\n",
       "      <td>0.0</td>\n",
       "      <td>0xdafea492d9c6733ae3d56b7ed1adb60692c98bc5</td>\n",
       "      <td>0</td>\n",
       "      <td>0.000000</td>\n",
       "      <td>False</td>\n",
       "      <td>True</td>\n",
       "      <td>NaN</td>\n",
       "      <td>NaN</td>\n",
       "      <td>Illuminate Dmocratize Dstribute</td>\n",
       "    </tr>\n",
       "    <tr>\n",
       "      <th>1</th>\n",
       "      <td>6721515</td>\n",
       "      <td>2022-11-09 14:40:03.790383</td>\n",
       "      <td>boost-relay.flashbots.net</td>\n",
       "      <td>159324</td>\n",
       "      <td>5098385</td>\n",
       "      <td>0x364ff82d519b4a89e142e135eb7e3f80ac003b3f2ab9...</td>\n",
       "      <td>0xfda7526244edcaf4fc42185065887bec9ff1e94b5321...</td>\n",
       "      <td>0xb8fceec09779ff758918a849bfe8ab43cea79f6a9832...</td>\n",
       "      <td>0xb4bd3078dc2fd3113e5228e7ab5a2d5898dcb753c63c...</td>\n",
       "      <td>0xebec795c9c8bbd61ffc14a6662944748f299cacf</td>\n",
       "      <td>...</td>\n",
       "      <td>0</td>\n",
       "      <td>0.0</td>\n",
       "      <td>0x690b9a9e9aa1c9db991c7721a92d351db4fac990</td>\n",
       "      <td>-774107768399250</td>\n",
       "      <td>-0.000774</td>\n",
       "      <td>False</td>\n",
       "      <td>True</td>\n",
       "      <td>NaN</td>\n",
       "      <td>NaN</td>\n",
       "      <td>by builder0x69</td>\n",
       "    </tr>\n",
       "    <tr>\n",
       "      <th>2</th>\n",
       "      <td>7714819</td>\n",
       "      <td>2022-11-12 02:10:04.043218</td>\n",
       "      <td>boost-relay.flashbots.net</td>\n",
       "      <td>159882</td>\n",
       "      <td>5116233</td>\n",
       "      <td>0x8f5d37a1373b010f2eabfe20dd6e1c8901d4ef21cdc5...</td>\n",
       "      <td>0xfae4ffcac2c931ee58eb97fede619ebe8e93cba57cbd...</td>\n",
       "      <td>0xa1daf0ab37a9a204bc5925717f78a795fa2812f8fba8...</td>\n",
       "      <td>0xb0458c079a779b393291f9b369080bc5fe5771e7c6af...</td>\n",
       "      <td>0xffee087852cb4898e6c3532e776e68bc68b1143b</td>\n",
       "      <td>...</td>\n",
       "      <td>0</td>\n",
       "      <td>0.0</td>\n",
       "      <td>0x473780deaf4a2ac070bbba936b0cdefe7f267dfc</td>\n",
       "      <td>96413686440424</td>\n",
       "      <td>0.000096</td>\n",
       "      <td>False</td>\n",
       "      <td>True</td>\n",
       "      <td>NaN</td>\n",
       "      <td>NaN</td>\n",
       "      <td>geth go1.19.1 linux</td>\n",
       "    </tr>\n",
       "    <tr>\n",
       "      <th>3</th>\n",
       "      <td>8245906</td>\n",
       "      <td>2022-11-13 07:05:03.522215</td>\n",
       "      <td>boost-relay.flashbots.net</td>\n",
       "      <td>160153</td>\n",
       "      <td>5124923</td>\n",
       "      <td>0x57a96bf0c5d7fe10275aa6bc319302e5687b61d82ec8...</td>\n",
       "      <td>0x90f0b6640cbc9a785214f5aa536d147dd0ba85405df4...</td>\n",
       "      <td>0xa1dead01e65f0a0eee7b5170223f20c8f0cbf122eac3...</td>\n",
       "      <td>0x95f95ebde0fd5aef47bf68c0d555cf8071a4c5ef7399...</td>\n",
       "      <td>0x388c818ca8b9251b393131c08a736a67ccb19297</td>\n",
       "      <td>...</td>\n",
       "      <td>0</td>\n",
       "      <td>0.0</td>\n",
       "      <td>0xdafea492d9c6733ae3d56b7ed1adb60692c98bc5</td>\n",
       "      <td>0</td>\n",
       "      <td>0.000000</td>\n",
       "      <td>False</td>\n",
       "      <td>True</td>\n",
       "      <td>NaN</td>\n",
       "      <td>NaN</td>\n",
       "      <td>Illuminate Dmocratize Dstribute</td>\n",
       "    </tr>\n",
       "    <tr>\n",
       "      <th>4</th>\n",
       "      <td>8915258</td>\n",
       "      <td>2022-11-14 19:30:03.510215</td>\n",
       "      <td>boost-relay.flashbots.net</td>\n",
       "      <td>160495</td>\n",
       "      <td>5135844</td>\n",
       "      <td>0x0bb95bc54bf0cb27b792ef77bbf7d38ec27123873dc1...</td>\n",
       "      <td>0x190fea101b71328bbf33f5640728eb839261d46d6d55...</td>\n",
       "      <td>0xa971c4ee4ac5d47e0fb9e16be05981bfe51458f14c06...</td>\n",
       "      <td>0xad8bc16fd0ef36d852d23116c162d6c4e3f3184b4edd...</td>\n",
       "      <td>0xe688b84b23f322a994a53dbf8e15fa82cdb71127</td>\n",
       "      <td>...</td>\n",
       "      <td>0</td>\n",
       "      <td>0.0</td>\n",
       "      <td>0x690b9a9e9aa1c9db991c7721a92d351db4fac990</td>\n",
       "      <td>35994841469479</td>\n",
       "      <td>0.000036</td>\n",
       "      <td>False</td>\n",
       "      <td>True</td>\n",
       "      <td>NaN</td>\n",
       "      <td>NaN</td>\n",
       "      <td>builder0x69</td>\n",
       "    </tr>\n",
       "  </tbody>\n",
       "</table>\n",
       "<p>5 rows × 30 columns</p>\n",
       "</div>"
      ],
      "text/plain": [
       "        id                 inserted_at                      relay   epoch  \\\n",
       "0  6721506  2022-11-09 14:40:03.790383  boost-relay.flashbots.net  159324   \n",
       "1  6721515  2022-11-09 14:40:03.790383  boost-relay.flashbots.net  159324   \n",
       "2  7714819  2022-11-12 02:10:04.043218  boost-relay.flashbots.net  159882   \n",
       "3  8245906  2022-11-13 07:05:03.522215  boost-relay.flashbots.net  160153   \n",
       "4  8915258  2022-11-14 19:30:03.510215  boost-relay.flashbots.net  160495   \n",
       "\n",
       "      slot                                        parent_hash  \\\n",
       "0  5098398  0x454604426cdcd75952e250d58b97ccb7868450542091...   \n",
       "1  5098385  0x364ff82d519b4a89e142e135eb7e3f80ac003b3f2ab9...   \n",
       "2  5116233  0x8f5d37a1373b010f2eabfe20dd6e1c8901d4ef21cdc5...   \n",
       "3  5124923  0x57a96bf0c5d7fe10275aa6bc319302e5687b61d82ec8...   \n",
       "4  5135844  0x0bb95bc54bf0cb27b792ef77bbf7d38ec27123873dc1...   \n",
       "\n",
       "                                          block_hash  \\\n",
       "0  0x88e0598619cb50340372e216e0988e6691ed8f1df37a...   \n",
       "1  0xfda7526244edcaf4fc42185065887bec9ff1e94b5321...   \n",
       "2  0xfae4ffcac2c931ee58eb97fede619ebe8e93cba57cbd...   \n",
       "3  0x90f0b6640cbc9a785214f5aa536d147dd0ba85405df4...   \n",
       "4  0x190fea101b71328bbf33f5640728eb839261d46d6d55...   \n",
       "\n",
       "                                      builder_pubkey  \\\n",
       "0  0x81beef03aafd3dd33ffd7deb337407142c80fea2690e...   \n",
       "1  0xb8fceec09779ff758918a849bfe8ab43cea79f6a9832...   \n",
       "2  0xa1daf0ab37a9a204bc5925717f78a795fa2812f8fba8...   \n",
       "3  0xa1dead01e65f0a0eee7b5170223f20c8f0cbf122eac3...   \n",
       "4  0xa971c4ee4ac5d47e0fb9e16be05981bfe51458f14c06...   \n",
       "\n",
       "                                     proposer_pubkey  \\\n",
       "0  0x845195de50be16d54fb744640996e715ca678a105683...   \n",
       "1  0xb4bd3078dc2fd3113e5228e7ab5a2d5898dcb753c63c...   \n",
       "2  0xb0458c079a779b393291f9b369080bc5fe5771e7c6af...   \n",
       "3  0x95f95ebde0fd5aef47bf68c0d555cf8071a4c5ef7399...   \n",
       "4  0xad8bc16fd0ef36d852d23116c162d6c4e3f3184b4edd...   \n",
       "\n",
       "                       proposer_fee_recipient  ...  value_delivered_diff_wei  \\\n",
       "0  0x388c818ca8b9251b393131c08a736a67ccb19297  ...                         0   \n",
       "1  0xebec795c9c8bbd61ffc14a6662944748f299cacf  ...                         0   \n",
       "2  0xffee087852cb4898e6c3532e776e68bc68b1143b  ...                         0   \n",
       "3  0x388c818ca8b9251b393131c08a736a67ccb19297  ...                         0   \n",
       "4  0xe688b84b23f322a994a53dbf8e15fa82cdb71127  ...                         0   \n",
       "\n",
       "   value_delivered_diff_eth                         block_coinbase_addr  \\\n",
       "0                       0.0  0xdafea492d9c6733ae3d56b7ed1adb60692c98bc5   \n",
       "1                       0.0  0x690b9a9e9aa1c9db991c7721a92d351db4fac990   \n",
       "2                       0.0  0x473780deaf4a2ac070bbba936b0cdefe7f267dfc   \n",
       "3                       0.0  0xdafea492d9c6733ae3d56b7ed1adb60692c98bc5   \n",
       "4                       0.0  0x690b9a9e9aa1c9db991c7721a92d351db4fac990   \n",
       "\n",
       "   coinbase_diff_wei  coinbase_diff_eth  block_coinbase_is_proposer  \\\n",
       "0                  0           0.000000                       False   \n",
       "1   -774107768399250          -0.000774                       False   \n",
       "2     96413686440424           0.000096                       False   \n",
       "3                  0           0.000000                       False   \n",
       "4     35994841469479           0.000036                       False   \n",
       "\n",
       "  found_onchain notes slot_missed                       extra_data  \n",
       "0          True   NaN         NaN  Illuminate Dmocratize Dstribute  \n",
       "1          True   NaN         NaN                   by builder0x69  \n",
       "2          True   NaN         NaN              geth go1.19.1 linux  \n",
       "3          True   NaN         NaN  Illuminate Dmocratize Dstribute  \n",
       "4          True   NaN         NaN                      builder0x69  \n",
       "\n",
       "[5 rows x 30 columns]"
      ]
     },
     "execution_count": 3,
     "metadata": {},
     "output_type": "execute_result"
    }
   ],
   "source": [
    "df = pd.read_csv(\"/Users/michaelneuder/Desktop/mainnet_data_api_payload_delivered.csv\")\n",
    "df.head()"
   ]
  },
  {
   "cell_type": "code",
   "execution_count": 4,
   "metadata": {},
   "outputs": [
    {
     "data": {
      "text/plain": [
       "785634"
      ]
     },
     "execution_count": 4,
     "metadata": {},
     "output_type": "execute_result"
    }
   ],
   "source": [
    "len(df)"
   ]
  },
  {
   "cell_type": "code",
   "execution_count": 6,
   "metadata": {},
   "outputs": [
    {
     "data": {
      "text/plain": [
       "177328"
      ]
     },
     "execution_count": 6,
     "metadata": {},
     "output_type": "execute_result"
    }
   ],
   "source": [
    "len(df[df['extra_data'] == \"Illuminate Dmocratize Dstribute\"])"
   ]
  },
  {
   "cell_type": "code",
   "execution_count": 9,
   "metadata": {},
   "outputs": [],
   "source": [
    "times = df['inserted_at'].values\n",
    "slots = df['slot'].values"
   ]
  },
  {
   "cell_type": "code",
   "execution_count": 11,
   "metadata": {},
   "outputs": [
    {
     "data": {
      "text/plain": [
       "array(['2022-11-09 14:40:03.790383', '2022-11-09 14:40:03.790383',\n",
       "       '2022-11-12 02:10:04.043218', ..., '2022-11-09 14:40:08.36741',\n",
       "       '2022-11-12 02:10:04.043218', '2022-11-15 15:25:03.901328'],\n",
       "      dtype=object)"
      ]
     },
     "execution_count": 11,
     "metadata": {},
     "output_type": "execute_result"
    }
   ],
   "source": [
    "times"
   ]
  },
  {
   "cell_type": "code",
   "execution_count": 16,
   "metadata": {},
   "outputs": [
    {
     "data": {
      "text/plain": [
       "[<matplotlib.lines.Line2D at 0x1479cf8b0>]"
      ]
     },
     "execution_count": 16,
     "metadata": {},
     "output_type": "execute_result"
    },
    {
     "data": {
      "image/png": "[encoded data removed]",
      "text/plain": [
       "<Figure size 720x360 with 1 Axes>"
      ]
     },
     "metadata": {
      "needs_background": "light"
     },
     "output_type": "display_data"
    }
   ],
   "source": [
    "f, ax = plt.subplots(figsize=(10,5))\n",
    "ax.plot(np.arange(len(slots[::1000])), slots[::1000], 'b.')"
   ]
  },
  {
   "cell_type": "code",
   "execution_count": 17,
   "metadata": {},
   "outputs": [],
   "source": [
    "dfSlot = df.sort_values('slot')"
   ]
  },
  {
   "cell_type": "code",
   "execution_count": 18,
   "metadata": {},
   "outputs": [],
   "source": [
    "times = dfSlot['inserted_at'].values\n",
    "slots = dfSlot['slot'].values"
   ]
  },
  {
   "cell_type": "code",
   "execution_count": 19,
   "metadata": {},
   "outputs": [
    {
     "data": {
      "text/plain": [
       "array(['2022-10-18 17:30:38.217199', '2022-10-18 17:29:53.327595',\n",
       "       '2022-10-18 17:30:19.217192', ..., '2023-02-03 21:45:08.956883',\n",
       "       '2023-02-03 21:45:03.568715', '2023-02-03 21:45:03.568715'],\n",
       "      dtype=object)"
      ]
     },
     "execution_count": 19,
     "metadata": {},
     "output_type": "execute_result"
    }
   ],
   "source": [
    "times"
   ]
  },
  {
   "cell_type": "code",
   "execution_count": 20,
   "metadata": {},
   "outputs": [
    {
     "data": {
      "text/plain": [
       "[<matplotlib.lines.Line2D at 0x147a2f310>]"
      ]
     },
     "execution_count": 20,
     "metadata": {},
     "output_type": "execute_result"
    },
    {
     "data": {
      "image/png": "[encoded data removed]",
      "text/plain": [
       "<Figure size 720x360 with 1 Axes>"
      ]
     },
     "metadata": {
      "needs_background": "light"
     },
     "output_type": "display_data"
    }
   ],
   "source": [
    "f, ax = plt.subplots(figsize=(10,5))\n",
    "ax.plot(np.arange(len(slots[::1000])), slots[::1000], 'b.')"
   ]
  },
  {
   "cell_type": "code",
   "execution_count": 22,
   "metadata": {},
   "outputs": [
    {
     "data": {
      "text/plain": [
       "Index(['id', 'inserted_at', 'relay', 'epoch', 'slot', 'parent_hash',\n",
       "       'block_hash', 'builder_pubkey', 'proposer_pubkey',\n",
       "       'proposer_fee_recipient', 'gas_limit', 'gas_used', 'value_claimed_wei',\n",
       "       'num_tx', 'block_number', 'value_claimed_eth', 'value_check_ok',\n",
       "       'value_check_method', 'value_delivered_wei', 'value_delivered_eth',\n",
       "       'value_delivered_diff_wei', 'value_delivered_diff_eth',\n",
       "       'block_coinbase_addr', 'coinbase_diff_wei', 'coinbase_diff_eth',\n",
       "       'block_coinbase_is_proposer', 'found_onchain', 'notes', 'slot_missed',\n",
       "       'extra_data'],\n",
       "      dtype='object')"
      ]
     },
     "execution_count": 22,
     "metadata": {},
     "output_type": "execute_result"
    }
   ],
   "source": [
    "dfSlot.keys()"
   ]
  },
  {
   "cell_type": "code",
   "execution_count": 29,
   "metadata": {},
   "outputs": [
    {
     "data": {
      "text/plain": [
       "array([29896167, 29979382, 11311816, ..., 11253352, 16388868, 22176527])"
      ]
     },
     "execution_count": 29,
     "metadata": {},
     "output_type": "execute_result"
    }
   ],
   "source": [
    "gas = dfSlot['gas_used'].values\n",
    "gas"
   ]
  },
  {
   "cell_type": "code",
   "execution_count": 30,
   "metadata": {},
   "outputs": [
    {
     "data": {
      "text/plain": [
       "[<matplotlib.lines.Line2D at 0x1487d4eb0>]"
      ]
     },
     "execution_count": 30,
     "metadata": {},
     "output_type": "execute_result"
    },
    {
     "data": {
      "image/png": "[encoded data removed]",
      "text/plain": [
       "<Figure size 720x360 with 1 Axes>"
      ]
     },
     "metadata": {
      "needs_background": "light"
     },
     "output_type": "display_data"
    }
   ],
   "source": [
    "f, ax = plt.subplots(figsize=(10,5))\n",
    "ax.plot(np.arange(len(gas[::1000])), gas[::1000], 'b.')"
   ]
  },
  {
   "cell_type": "code",
   "execution_count": 32,
   "metadata": {},
   "outputs": [
    {
     "data": {
      "text/plain": [
       "array([364.,  nan,  nan, ..., 107., 152., 227.])"
      ]
     },
     "execution_count": 32,
     "metadata": {},
     "output_type": "execute_result"
    }
   ],
   "source": [
    "numTx = dfSlot['num_tx'].values\n",
    "numTx"
   ]
  },
  {
   "cell_type": "code",
   "execution_count": 34,
   "metadata": {},
   "outputs": [
    {
     "data": {
      "text/plain": [
       "[<matplotlib.lines.Line2D at 0x147a9aca0>]"
      ]
     },
     "execution_count": 34,
     "metadata": {},
     "output_type": "execute_result"
    },
    {
     "data": {
      "image/png": "[encoded data removed]",
      "text/plain": [
       "<Figure size 720x360 with 1 Axes>"
      ]
     },
     "metadata": {
      "needs_background": "light"
     },
     "output_type": "display_data"
    }
   ],
   "source": [
    "f, ax = plt.subplots(figsize=(10,5))\n",
    "ax.plot(np.arange(len(numTx[::1000])), numTx[::1000], 'b.')"
   ]
  },
  {
   "cell_type": "code",
   "execution_count": 35,
   "metadata": {},
   "outputs": [
    {
     "data": {
      "text/plain": [
       "[<matplotlib.lines.Line2D at 0x148f13c10>]"
      ]
     },
     "execution_count": 35,
     "metadata": {},
     "output_type": "execute_result"
    },
    {
     "data": {
      "image/png": "[encoded data removed]",
      "text/plain": [
       "<Figure size 720x720 with 1 Axes>"
      ]
     },
     "metadata": {
      "needs_background": "light"
     },
     "output_type": "display_data"
    }
   ],
   "source": [
    "f, ax = plt.subplots(figsize=(10,10))\n",
    "ax.plot(gas[::1000], numTx[::1000], 'b.')"
   ]
  },
  {
   "cell_type": "code",
   "execution_count": 49,
   "metadata": {},
   "outputs": [
    {
     "data": {
      "text/plain": [
       "1"
      ]
     },
     "execution_count": 49,
     "metadata": {},
     "output_type": "execute_result"
    }
   ],
   "source": [
    "dfHighGas = df[df['gas_used'] > int(2.9999e7)]\n",
    "dfHighGasLowTx = dfHighGas[dfHighGas['num_tx'] < 20]\n",
    "len(dfHighGasLowTx)"
   ]
  },
  {
   "cell_type": "code",
   "execution_count": 52,
   "metadata": {},
   "outputs": [
    {
     "data": {
      "text/plain": [
       "Index(['id', 'inserted_at', 'relay', 'epoch', 'slot', 'parent_hash',\n",
       "       'block_hash', 'builder_pubkey', 'proposer_pubkey',\n",
       "       'proposer_fee_recipient', 'gas_limit', 'gas_used', 'value_claimed_wei',\n",
       "       'num_tx', 'block_number', 'value_claimed_eth', 'value_check_ok',\n",
       "       'value_check_method', 'value_delivered_wei', 'value_delivered_eth',\n",
       "       'value_delivered_diff_wei', 'value_delivered_diff_eth',\n",
       "       'block_coinbase_addr', 'coinbase_diff_wei', 'coinbase_diff_eth',\n",
       "       'block_coinbase_is_proposer', 'found_onchain', 'notes', 'slot_missed',\n",
       "       'extra_data'],\n",
       "      dtype='object')"
      ]
     },
     "execution_count": 52,
     "metadata": {},
     "output_type": "execute_result"
    }
   ],
   "source": [
    "df.keys()"
   ]
  },
  {
   "cell_type": "code",
   "execution_count": 51,
   "metadata": {},
   "outputs": [
    {
     "data": {
      "text/plain": [
       "array([19479, '2022-10-18 15:33:36.437311', 'boost-relay.flashbots.net',\n",
       "       153060, 4897945,\n",
       "       '0x2d3307daa2b2f20785e57db79c6b1b55b2d06a5fdcee74f93a616b3fa152f2bf',\n",
       "       '0x326fb5f483d617524f779a2d0a37c751b2fc820e513de5aca88c2300b2949001',\n",
       "       '0xa1defa73d675983a6972e8686360022c1ebc73395067dd1908f7ac76a526a19ac75e4f03ccab6788c54fdb81ff84fc1b',\n",
       "       '0x8216e250764183035b341a7ab0e9b7b5b0b6572a37edb415998445ebdd018fa17b363268b0148f9be710e0febed39c4f',\n",
       "       '0xffd22b84fb1d46ef74ed6530b2635be61340f347', 30000000, 29999683,\n",
       "       '82721255499526779', 5.0, 15733822.0, 0.08272126, True,\n",
       "       'balanceDiff', '82721255499526779', 0.08272126, '0', 0.0,\n",
       "       '0xdafea492d9c6733ae3d56b7ed1adb60692c98bc5', '0', 0.0, False, nan,\n",
       "       nan, nan, 'Illuminate Dmocratize Dstribute'], dtype=object)"
      ]
     },
     "execution_count": 51,
     "metadata": {},
     "output_type": "execute_result"
    }
   ],
   "source": [
    "dfHighGasLowTx.values[0]"
   ]
  }
 ],
 "metadata": {
  "kernelspec": {
   "display_name": "Python 3",
   "language": "python",
   "name": "python3"
  },
  "language_info": {
   "codemirror_mode": {
    "name": "ipython",
    "version": 3
   },
   "file_extension": ".py",
   "mimetype": "text/x-python",
   "name": "python",
   "nbconvert_exporter": "python",
   "pygments_lexer": "ipython3",
   "version": "3.8.16"
  }
 },
 "nbformat": 4,
 "nbformat_minor": 4
}

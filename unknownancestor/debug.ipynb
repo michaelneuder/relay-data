{
 "cells": [
  {
   "cell_type": "code",
   "execution_count": 1,
   "metadata": {},
   "outputs": [],
   "source": [
    "import numpy as np\n",
    "from tqdm import tqdm\n",
    "import requests\n",
    "import pandas as pd\n",
    "import matplotlib.pyplot as plt\n",
    "import json\n",
    "from datetime import datetime\n",
    "from sklearn.linear_model import LinearRegression\n",
    "plt.rcParams['axes.grid'] = True\n",
    "plt.rcParams['grid.alpha'] = 0.3\n",
    "plt.rcParams['axes.titlesize'] = 18"
   ]
  },
  {
   "cell_type": "code",
   "execution_count": 2,
   "metadata": {},
   "outputs": [
    {
     "data": {
      "text/html": [
       "<div>\n",
       "<style scoped>\n",
       "    .dataframe tbody tr th:only-of-type {\n",
       "        vertical-align: middle;\n",
       "    }\n",
       "\n",
       "    .dataframe tbody tr th {\n",
       "        vertical-align: top;\n",
       "    }\n",
       "\n",
       "    .dataframe thead th {\n",
       "        text-align: right;\n",
       "    }\n",
       "</style>\n",
       "<table border=\"1\" class=\"dataframe\">\n",
       "  <thead>\n",
       "    <tr style=\"text-align: right;\">\n",
       "      <th></th>\n",
       "      <th>insertId</th>\n",
       "      <th>jsonPayload.blockHash</th>\n",
       "      <th>jsonPayload.builderEntry</th>\n",
       "      <th>jsonPayload.builderPubkey</th>\n",
       "      <th>jsonPayload.contentLength</th>\n",
       "      <th>jsonPayload.duration</th>\n",
       "      <th>jsonPayload.error</th>\n",
       "      <th>jsonPayload.\"gzip-req\"</th>\n",
       "      <th>jsonPayload.level</th>\n",
       "      <th>jsonPayload.method</th>\n",
       "      <th>...</th>\n",
       "      <th>receivedLocation</th>\n",
       "      <th>resource.labels.cluster_name</th>\n",
       "      <th>resource.labels.container_name</th>\n",
       "      <th>resource.labels.location</th>\n",
       "      <th>resource.labels.namespace_name</th>\n",
       "      <th>resource.labels.pod_name</th>\n",
       "      <th>resource.labels.project_id</th>\n",
       "      <th>resource.type</th>\n",
       "      <th>severity</th>\n",
       "      <th>timestamp</th>\n",
       "    </tr>\n",
       "  </thead>\n",
       "  <tbody>\n",
       "    <tr>\n",
       "      <th>0</th>\n",
       "      <td>xgh77v0tplpzq928</td>\n",
       "      <td>0x1be4076fcdf6692bcc25476c9fff68da0f5645ab0db8...</td>\n",
       "      <td>NaN</td>\n",
       "      <td>NaN</td>\n",
       "      <td>NaN</td>\n",
       "      <td>NaN</td>\n",
       "      <td>NaN</td>\n",
       "      <td>NaN</td>\n",
       "      <td>info</td>\n",
       "      <td>getHeader</td>\n",
       "      <td>...</td>\n",
       "      <td>NaN</td>\n",
       "      <td>midori</td>\n",
       "      <td>proposer-api</td>\n",
       "      <td>europe-west1-b</td>\n",
       "      <td>default</td>\n",
       "      <td>proposer-api-78c4486fb8-qblzz</td>\n",
       "      <td>ultra-sound-relay</td>\n",
       "      <td>k8s_container</td>\n",
       "      <td>INFO</td>\n",
       "      <td>2023-03-28T08:12:09Z</td>\n",
       "    </tr>\n",
       "    <tr>\n",
       "      <th>1</th>\n",
       "      <td>mv3ixuee7li7nsw6</td>\n",
       "      <td>0x1be4076fcdf6692bcc25476c9fff68da0f5645ab0db8...</td>\n",
       "      <td>NaN</td>\n",
       "      <td>NaN</td>\n",
       "      <td>NaN</td>\n",
       "      <td>NaN</td>\n",
       "      <td>NaN</td>\n",
       "      <td>NaN</td>\n",
       "      <td>info</td>\n",
       "      <td>getHeader</td>\n",
       "      <td>...</td>\n",
       "      <td>NaN</td>\n",
       "      <td>midori</td>\n",
       "      <td>proposer-api</td>\n",
       "      <td>europe-west1-b</td>\n",
       "      <td>default</td>\n",
       "      <td>proposer-api-78c4486fb8-qblzz</td>\n",
       "      <td>ultra-sound-relay</td>\n",
       "      <td>k8s_container</td>\n",
       "      <td>INFO</td>\n",
       "      <td>2023-03-28T08:12:09Z</td>\n",
       "    </tr>\n",
       "    <tr>\n",
       "      <th>2</th>\n",
       "      <td>b0d6osjd1pc7p8by</td>\n",
       "      <td>0x1be4076fcdf6692bcc25476c9fff68da0f5645ab0db8...</td>\n",
       "      <td>NaN</td>\n",
       "      <td>NaN</td>\n",
       "      <td>NaN</td>\n",
       "      <td>NaN</td>\n",
       "      <td>NaN</td>\n",
       "      <td>NaN</td>\n",
       "      <td>info</td>\n",
       "      <td>getHeader</td>\n",
       "      <td>...</td>\n",
       "      <td>NaN</td>\n",
       "      <td>midori</td>\n",
       "      <td>proposer-api</td>\n",
       "      <td>europe-west1-b</td>\n",
       "      <td>default</td>\n",
       "      <td>proposer-api-78c4486fb8-qblzz</td>\n",
       "      <td>ultra-sound-relay</td>\n",
       "      <td>k8s_container</td>\n",
       "      <td>INFO</td>\n",
       "      <td>2023-03-28T08:12:09Z</td>\n",
       "    </tr>\n",
       "    <tr>\n",
       "      <th>3</th>\n",
       "      <td>46erkii6l8nxz46v</td>\n",
       "      <td>0x1be4076fcdf6692bcc25476c9fff68da0f5645ab0db8...</td>\n",
       "      <td>NaN</td>\n",
       "      <td>NaN</td>\n",
       "      <td>NaN</td>\n",
       "      <td>NaN</td>\n",
       "      <td>NaN</td>\n",
       "      <td>NaN</td>\n",
       "      <td>info</td>\n",
       "      <td>getHeader</td>\n",
       "      <td>...</td>\n",
       "      <td>NaN</td>\n",
       "      <td>midori</td>\n",
       "      <td>proposer-api</td>\n",
       "      <td>europe-west1-b</td>\n",
       "      <td>default</td>\n",
       "      <td>proposer-api-78c4486fb8-xxbhn</td>\n",
       "      <td>ultra-sound-relay</td>\n",
       "      <td>k8s_container</td>\n",
       "      <td>INFO</td>\n",
       "      <td>2023-03-28T08:12:09Z</td>\n",
       "    </tr>\n",
       "    <tr>\n",
       "      <th>4</th>\n",
       "      <td>1xkptwdgeis2uylt</td>\n",
       "      <td>0x1be4076fcdf6692bcc25476c9fff68da0f5645ab0db8...</td>\n",
       "      <td>NaN</td>\n",
       "      <td>NaN</td>\n",
       "      <td>NaN</td>\n",
       "      <td>NaN</td>\n",
       "      <td>NaN</td>\n",
       "      <td>NaN</td>\n",
       "      <td>info</td>\n",
       "      <td>getHeader</td>\n",
       "      <td>...</td>\n",
       "      <td>NaN</td>\n",
       "      <td>midori</td>\n",
       "      <td>proposer-api</td>\n",
       "      <td>europe-west1-b</td>\n",
       "      <td>default</td>\n",
       "      <td>proposer-api-78c4486fb8-xxbhn</td>\n",
       "      <td>ultra-sound-relay</td>\n",
       "      <td>k8s_container</td>\n",
       "      <td>INFO</td>\n",
       "      <td>2023-03-28T08:12:09Z</td>\n",
       "    </tr>\n",
       "  </tbody>\n",
       "</table>\n",
       "<p>5 rows × 41 columns</p>\n",
       "</div>"
      ],
      "text/plain": [
       "           insertId                              jsonPayload.blockHash  \\\n",
       "0  xgh77v0tplpzq928  0x1be4076fcdf6692bcc25476c9fff68da0f5645ab0db8...   \n",
       "1  mv3ixuee7li7nsw6  0x1be4076fcdf6692bcc25476c9fff68da0f5645ab0db8...   \n",
       "2  b0d6osjd1pc7p8by  0x1be4076fcdf6692bcc25476c9fff68da0f5645ab0db8...   \n",
       "3  46erkii6l8nxz46v  0x1be4076fcdf6692bcc25476c9fff68da0f5645ab0db8...   \n",
       "4  1xkptwdgeis2uylt  0x1be4076fcdf6692bcc25476c9fff68da0f5645ab0db8...   \n",
       "\n",
       "   jsonPayload.builderEntry jsonPayload.builderPubkey  \\\n",
       "0                       NaN                       NaN   \n",
       "1                       NaN                       NaN   \n",
       "2                       NaN                       NaN   \n",
       "3                       NaN                       NaN   \n",
       "4                       NaN                       NaN   \n",
       "\n",
       "   jsonPayload.contentLength  jsonPayload.duration jsonPayload.error  \\\n",
       "0                        NaN                   NaN               NaN   \n",
       "1                        NaN                   NaN               NaN   \n",
       "2                        NaN                   NaN               NaN   \n",
       "3                        NaN                   NaN               NaN   \n",
       "4                        NaN                   NaN               NaN   \n",
       "\n",
       "  jsonPayload.\"gzip-req\" jsonPayload.level jsonPayload.method  ...  \\\n",
       "0                    NaN              info          getHeader  ...   \n",
       "1                    NaN              info          getHeader  ...   \n",
       "2                    NaN              info          getHeader  ...   \n",
       "3                    NaN              info          getHeader  ...   \n",
       "4                    NaN              info          getHeader  ...   \n",
       "\n",
       "  receivedLocation resource.labels.cluster_name  \\\n",
       "0              NaN                       midori   \n",
       "1              NaN                       midori   \n",
       "2              NaN                       midori   \n",
       "3              NaN                       midori   \n",
       "4              NaN                       midori   \n",
       "\n",
       "   resource.labels.container_name resource.labels.location  \\\n",
       "0                    proposer-api           europe-west1-b   \n",
       "1                    proposer-api           europe-west1-b   \n",
       "2                    proposer-api           europe-west1-b   \n",
       "3                    proposer-api           europe-west1-b   \n",
       "4                    proposer-api           europe-west1-b   \n",
       "\n",
       "  resource.labels.namespace_name       resource.labels.pod_name  \\\n",
       "0                        default  proposer-api-78c4486fb8-qblzz   \n",
       "1                        default  proposer-api-78c4486fb8-qblzz   \n",
       "2                        default  proposer-api-78c4486fb8-qblzz   \n",
       "3                        default  proposer-api-78c4486fb8-xxbhn   \n",
       "4                        default  proposer-api-78c4486fb8-xxbhn   \n",
       "\n",
       "  resource.labels.project_id  resource.type severity             timestamp  \n",
       "0          ultra-sound-relay  k8s_container     INFO  2023-03-28T08:12:09Z  \n",
       "1          ultra-sound-relay  k8s_container     INFO  2023-03-28T08:12:09Z  \n",
       "2          ultra-sound-relay  k8s_container     INFO  2023-03-28T08:12:09Z  \n",
       "3          ultra-sound-relay  k8s_container     INFO  2023-03-28T08:12:09Z  \n",
       "4          ultra-sound-relay  k8s_container     INFO  2023-03-28T08:12:09Z  \n",
       "\n",
       "[5 rows x 41 columns]"
      ]
     },
     "execution_count": 2,
     "metadata": {},
     "output_type": "execute_result"
    }
   ],
   "source": [
    "lg = pd.read_csv('logs-6097258.csv')\n",
    "lg.head()"
   ]
  },
  {
   "cell_type": "code",
   "execution_count": 6,
   "metadata": {},
   "outputs": [
    {
     "data": {
      "text/plain": [
       "Index(['insertId', 'jsonPayload.blockHash', 'jsonPayload.builderEntry',\n",
       "       'jsonPayload.builderPubkey', 'jsonPayload.contentLength',\n",
       "       'jsonPayload.duration', 'jsonPayload.error', 'jsonPayload.\"gzip-req\"',\n",
       "       'jsonPayload.level', 'jsonPayload.method', 'jsonPayload.mevBoostV',\n",
       "       'jsonPayload.msg', 'jsonPayload.numWaiting',\n",
       "       'jsonPayload.optBlocksInFlight', 'jsonPayload.parentHash',\n",
       "       'jsonPayload.profile', 'jsonPayload.proposerPubkey',\n",
       "       'jsonPayload.pubkey', 'jsonPayload.service', 'jsonPayload.slot',\n",
       "       'jsonPayload.tx', 'jsonPayload.ua', 'jsonPayload.value',\n",
       "       'jsonPayload.version', 'labels.\"compute.googleapis.com/resource_name\"',\n",
       "       'labels.\"k8s-pod/app\"', 'labels.\"k8s-pod/pod-template-hash\"',\n",
       "       'labels.\"k8s-pod/project\"', 'logName', 'receiveLocation',\n",
       "       'receiveTimestamp', 'receivedLocation', 'resource.labels.cluster_name',\n",
       "       'resource.labels.container_name', 'resource.labels.location',\n",
       "       'resource.labels.namespace_name', 'resource.labels.pod_name',\n",
       "       'resource.labels.project_id', 'resource.type', 'severity', 'timestamp'],\n",
       "      dtype='object')"
      ]
     },
     "execution_count": 6,
     "metadata": {},
     "output_type": "execute_result"
    }
   ],
   "source": [
    "lg.keys()"
   ]
  },
  {
   "cell_type": "code",
   "execution_count": 11,
   "metadata": {},
   "outputs": [
    {
     "name": "stderr",
     "output_type": "stream",
     "text": [
      "<ipython-input-11-627953695e6a>:2: SettingWithCopyWarning: \n",
      "A value is trying to be set on a copy of a slice from a DataFrame.\n",
      "Try using .loc[row_indexer,col_indexer] = value instead\n",
      "\n",
      "See the caveats in the documentation: https://pandas.pydata.org/pandas-docs/stable/user_guide/indexing.html#returning-a-view-versus-a-copy\n",
      "  bu['timestamp'] = pd.to_datetime(bu['timestamp'], format=\"%Y-%m-%dT%H:%M:%SZ\")\n"
     ]
    },
    {
     "data": {
      "text/html": [
       "<div>\n",
       "<style scoped>\n",
       "    .dataframe tbody tr th:only-of-type {\n",
       "        vertical-align: middle;\n",
       "    }\n",
       "\n",
       "    .dataframe tbody tr th {\n",
       "        vertical-align: top;\n",
       "    }\n",
       "\n",
       "    .dataframe thead th {\n",
       "        text-align: right;\n",
       "    }\n",
       "</style>\n",
       "<table border=\"1\" class=\"dataframe\">\n",
       "  <thead>\n",
       "    <tr style=\"text-align: right;\">\n",
       "      <th></th>\n",
       "      <th>insertId</th>\n",
       "      <th>jsonPayload.blockHash</th>\n",
       "      <th>jsonPayload.builderEntry</th>\n",
       "      <th>jsonPayload.builderPubkey</th>\n",
       "      <th>jsonPayload.contentLength</th>\n",
       "      <th>jsonPayload.duration</th>\n",
       "      <th>jsonPayload.error</th>\n",
       "      <th>jsonPayload.\"gzip-req\"</th>\n",
       "      <th>jsonPayload.level</th>\n",
       "      <th>jsonPayload.method</th>\n",
       "      <th>...</th>\n",
       "      <th>receivedLocation</th>\n",
       "      <th>resource.labels.cluster_name</th>\n",
       "      <th>resource.labels.container_name</th>\n",
       "      <th>resource.labels.location</th>\n",
       "      <th>resource.labels.namespace_name</th>\n",
       "      <th>resource.labels.pod_name</th>\n",
       "      <th>resource.labels.project_id</th>\n",
       "      <th>resource.type</th>\n",
       "      <th>severity</th>\n",
       "      <th>timestamp</th>\n",
       "    </tr>\n",
       "  </thead>\n",
       "  <tbody>\n",
       "    <tr>\n",
       "      <th>24</th>\n",
       "      <td>u5e69ev5f6t3b4tb</td>\n",
       "      <td>0xa50384243959534c0df2d48b92df118beacb0a7c4c40...</td>\n",
       "      <td>NaN</td>\n",
       "      <td>0x96a59d355b1f65e270b29981dd113625732539e955a1...</td>\n",
       "      <td>114145.0</td>\n",
       "      <td>0.147590</td>\n",
       "      <td>NaN</td>\n",
       "      <td>NaN</td>\n",
       "      <td>info</td>\n",
       "      <td>submitNewBlock</td>\n",
       "      <td>...</td>\n",
       "      <td>NaN</td>\n",
       "      <td>midori</td>\n",
       "      <td>builder-api</td>\n",
       "      <td>europe-west1-b</td>\n",
       "      <td>default</td>\n",
       "      <td>builder-api-855d777575-qg8hk</td>\n",
       "      <td>ultra-sound-relay</td>\n",
       "      <td>k8s_container</td>\n",
       "      <td>INFO</td>\n",
       "      <td>2023-03-28 08:12:00</td>\n",
       "    </tr>\n",
       "    <tr>\n",
       "      <th>38</th>\n",
       "      <td>i998nzon8hg70j5l</td>\n",
       "      <td>0xa50384243959534c0df2d48b92df118beacb0a7c4c40...</td>\n",
       "      <td>NaN</td>\n",
       "      <td>0x96a59d355b1f65e270b29981dd113625732539e955a1...</td>\n",
       "      <td>114145.0</td>\n",
       "      <td>NaN</td>\n",
       "      <td>NaN</td>\n",
       "      <td>NaN</td>\n",
       "      <td>info</td>\n",
       "      <td>submitNewBlock</td>\n",
       "      <td>...</td>\n",
       "      <td>NaN</td>\n",
       "      <td>midori</td>\n",
       "      <td>builder-api</td>\n",
       "      <td>europe-west1-b</td>\n",
       "      <td>default</td>\n",
       "      <td>builder-api-855d777575-qg8hk</td>\n",
       "      <td>ultra-sound-relay</td>\n",
       "      <td>k8s_container</td>\n",
       "      <td>INFO</td>\n",
       "      <td>2023-03-28 08:12:00</td>\n",
       "    </tr>\n",
       "    <tr>\n",
       "      <th>39</th>\n",
       "      <td>i80p2e8xqreobv0j</td>\n",
       "      <td>0xc4ceebd39a0edf295eb1fdebe703acaf14b997350d1b...</td>\n",
       "      <td>NaN</td>\n",
       "      <td>0xb9b50821ec5f01bb19ec75e0f22264fa9369436544b6...</td>\n",
       "      <td>354748.0</td>\n",
       "      <td>0.026027</td>\n",
       "      <td>simulation failed: unknown ancestor</td>\n",
       "      <td>NaN</td>\n",
       "      <td>error</td>\n",
       "      <td>submitNewBlock</td>\n",
       "      <td>...</td>\n",
       "      <td>NaN</td>\n",
       "      <td>midori</td>\n",
       "      <td>builder-api</td>\n",
       "      <td>europe-west1-b</td>\n",
       "      <td>default</td>\n",
       "      <td>builder-api-855d777575-tfd4b</td>\n",
       "      <td>ultra-sound-relay</td>\n",
       "      <td>k8s_container</td>\n",
       "      <td>ERROR</td>\n",
       "      <td>2023-03-28 08:12:00</td>\n",
       "    </tr>\n",
       "    <tr>\n",
       "      <th>47</th>\n",
       "      <td>bty6xr0a8p12kpsl</td>\n",
       "      <td>0xc32f801823fe4bff466f9b76bd013aadb360d08a6df8...</td>\n",
       "      <td>NaN</td>\n",
       "      <td>0x8efc1675ffb449abc00a6ad8a2808cdf798d96fbb979...</td>\n",
       "      <td>356522.0</td>\n",
       "      <td>0.139426</td>\n",
       "      <td>NaN</td>\n",
       "      <td>NaN</td>\n",
       "      <td>info</td>\n",
       "      <td>submitNewBlock</td>\n",
       "      <td>...</td>\n",
       "      <td>NaN</td>\n",
       "      <td>midori</td>\n",
       "      <td>builder-api</td>\n",
       "      <td>europe-west1-b</td>\n",
       "      <td>default</td>\n",
       "      <td>builder-api-855d777575-l79gt</td>\n",
       "      <td>ultra-sound-relay</td>\n",
       "      <td>k8s_container</td>\n",
       "      <td>INFO</td>\n",
       "      <td>2023-03-28 08:12:00</td>\n",
       "    </tr>\n",
       "    <tr>\n",
       "      <th>59</th>\n",
       "      <td>41n6t22ly4cb5hq7</td>\n",
       "      <td>0x1be4076fcdf6692bcc25476c9fff68da0f5645ab0db8...</td>\n",
       "      <td>NaN</td>\n",
       "      <td>0xa971c4ee4ac5d47e0fb9e16be05981bfe51458f14c06...</td>\n",
       "      <td>382372.0</td>\n",
       "      <td>NaN</td>\n",
       "      <td>NaN</td>\n",
       "      <td>NaN</td>\n",
       "      <td>info</td>\n",
       "      <td>submitNewBlock</td>\n",
       "      <td>...</td>\n",
       "      <td>NaN</td>\n",
       "      <td>midori</td>\n",
       "      <td>builder-api</td>\n",
       "      <td>europe-west1-b</td>\n",
       "      <td>default</td>\n",
       "      <td>builder-api-855d777575-qg8hk</td>\n",
       "      <td>ultra-sound-relay</td>\n",
       "      <td>k8s_container</td>\n",
       "      <td>INFO</td>\n",
       "      <td>2023-03-28 08:12:00</td>\n",
       "    </tr>\n",
       "  </tbody>\n",
       "</table>\n",
       "<p>5 rows × 41 columns</p>\n",
       "</div>"
      ],
      "text/plain": [
       "            insertId                              jsonPayload.blockHash  \\\n",
       "24  u5e69ev5f6t3b4tb  0xa50384243959534c0df2d48b92df118beacb0a7c4c40...   \n",
       "38  i998nzon8hg70j5l  0xa50384243959534c0df2d48b92df118beacb0a7c4c40...   \n",
       "39  i80p2e8xqreobv0j  0xc4ceebd39a0edf295eb1fdebe703acaf14b997350d1b...   \n",
       "47  bty6xr0a8p12kpsl  0xc32f801823fe4bff466f9b76bd013aadb360d08a6df8...   \n",
       "59  41n6t22ly4cb5hq7  0x1be4076fcdf6692bcc25476c9fff68da0f5645ab0db8...   \n",
       "\n",
       "    jsonPayload.builderEntry  \\\n",
       "24                       NaN   \n",
       "38                       NaN   \n",
       "39                       NaN   \n",
       "47                       NaN   \n",
       "59                       NaN   \n",
       "\n",
       "                            jsonPayload.builderPubkey  \\\n",
       "24  0x96a59d355b1f65e270b29981dd113625732539e955a1...   \n",
       "38  0x96a59d355b1f65e270b29981dd113625732539e955a1...   \n",
       "39  0xb9b50821ec5f01bb19ec75e0f22264fa9369436544b6...   \n",
       "47  0x8efc1675ffb449abc00a6ad8a2808cdf798d96fbb979...   \n",
       "59  0xa971c4ee4ac5d47e0fb9e16be05981bfe51458f14c06...   \n",
       "\n",
       "    jsonPayload.contentLength  jsonPayload.duration  \\\n",
       "24                   114145.0              0.147590   \n",
       "38                   114145.0                   NaN   \n",
       "39                   354748.0              0.026027   \n",
       "47                   356522.0              0.139426   \n",
       "59                   382372.0                   NaN   \n",
       "\n",
       "                      jsonPayload.error jsonPayload.\"gzip-req\"  \\\n",
       "24                                  NaN                    NaN   \n",
       "38                                  NaN                    NaN   \n",
       "39  simulation failed: unknown ancestor                    NaN   \n",
       "47                                  NaN                    NaN   \n",
       "59                                  NaN                    NaN   \n",
       "\n",
       "   jsonPayload.level jsonPayload.method  ... receivedLocation  \\\n",
       "24              info     submitNewBlock  ...              NaN   \n",
       "38              info     submitNewBlock  ...              NaN   \n",
       "39             error     submitNewBlock  ...              NaN   \n",
       "47              info     submitNewBlock  ...              NaN   \n",
       "59              info     submitNewBlock  ...              NaN   \n",
       "\n",
       "   resource.labels.cluster_name  resource.labels.container_name  \\\n",
       "24                       midori                     builder-api   \n",
       "38                       midori                     builder-api   \n",
       "39                       midori                     builder-api   \n",
       "47                       midori                     builder-api   \n",
       "59                       midori                     builder-api   \n",
       "\n",
       "   resource.labels.location resource.labels.namespace_name  \\\n",
       "24           europe-west1-b                        default   \n",
       "38           europe-west1-b                        default   \n",
       "39           europe-west1-b                        default   \n",
       "47           europe-west1-b                        default   \n",
       "59           europe-west1-b                        default   \n",
       "\n",
       "        resource.labels.pod_name resource.labels.project_id  resource.type  \\\n",
       "24  builder-api-855d777575-qg8hk          ultra-sound-relay  k8s_container   \n",
       "38  builder-api-855d777575-qg8hk          ultra-sound-relay  k8s_container   \n",
       "39  builder-api-855d777575-tfd4b          ultra-sound-relay  k8s_container   \n",
       "47  builder-api-855d777575-l79gt          ultra-sound-relay  k8s_container   \n",
       "59  builder-api-855d777575-qg8hk          ultra-sound-relay  k8s_container   \n",
       "\n",
       "   severity           timestamp  \n",
       "24     INFO 2023-03-28 08:12:00  \n",
       "38     INFO 2023-03-28 08:12:00  \n",
       "39    ERROR 2023-03-28 08:12:00  \n",
       "47     INFO 2023-03-28 08:12:00  \n",
       "59     INFO 2023-03-28 08:12:00  \n",
       "\n",
       "[5 rows x 41 columns]"
      ]
     },
     "execution_count": 11,
     "metadata": {},
     "output_type": "execute_result"
    }
   ],
   "source": [
    "bu = lg[(lg['labels.\"k8s-pod/app\"']=='builder-api') & (lg['jsonPayload.method']=='submitNewBlock')]\n",
    "bu['timestamp'] = pd.to_datetime(bu['timestamp'], format=\"%Y-%m-%dT%H:%M:%SZ\")\n",
    "bu.head()"
   ]
  },
  {
   "cell_type": "code",
   "execution_count": 21,
   "metadata": {},
   "outputs": [
    {
     "data": {
      "text/plain": [
       "24                                     NaN\n",
       "38                                     NaN\n",
       "39     simulation failed: unknown ancestor\n",
       "47                                     NaN\n",
       "59                                     NaN\n",
       "                      ...                 \n",
       "878                                    NaN\n",
       "879                                    NaN\n",
       "883                                    NaN\n",
       "884                                    NaN\n",
       "885                                    NaN\n",
       "Name: jsonPayload.error, Length: 558, dtype: object"
      ]
     },
     "execution_count": 21,
     "metadata": {},
     "output_type": "execute_result"
    }
   ],
   "source": [
    "bu['jsonPayload.error']"
   ]
  },
  {
   "cell_type": "code",
   "execution_count": 22,
   "metadata": {},
   "outputs": [
    {
     "data": {
      "text/plain": [
       "235"
      ]
     },
     "execution_count": 22,
     "metadata": {},
     "output_type": "execute_result"
    }
   ],
   "source": [
    "errs = bu[bu['jsonPayload.error'] == 'simulation failed: unknown ancestor']\n",
    "len(errs)"
   ]
  },
  {
   "cell_type": "code",
   "execution_count": 23,
   "metadata": {},
   "outputs": [
    {
     "data": {
      "text/plain": [
       "2023-03-28 08:11:58    107\n",
       "2023-03-28 08:11:59     64\n",
       "2023-03-28 08:11:57     63\n",
       "2023-03-28 08:12:00      1\n",
       "Name: timestamp, dtype: int64"
      ]
     },
     "execution_count": 23,
     "metadata": {},
     "output_type": "execute_result"
    }
   ],
   "source": [
    "errs['timestamp'].value_counts()"
   ]
  },
  {
   "cell_type": "code",
   "execution_count": 26,
   "metadata": {},
   "outputs": [
    {
     "data": {
      "text/plain": [
       "0xff540a481885da0916af298748638eb6e5e72ad24fed69ffe93cb434bc690dcd    235\n",
       "Name: jsonPayload.parentHash, dtype: int64"
      ]
     },
     "execution_count": 26,
     "metadata": {},
     "output_type": "execute_result"
    }
   ],
   "source": [
    "errs['jsonPayload.parentHash'].value_counts()"
   ]
  },
  {
   "cell_type": "code",
   "execution_count": 24,
   "metadata": {},
   "outputs": [
    {
     "data": {
      "text/plain": [
       "112"
      ]
     },
     "execution_count": 24,
     "metadata": {},
     "output_type": "execute_result"
    }
   ],
   "source": [
    "sucs = bu[bu['jsonPayload.msg'] == 'block validation successful']\n",
    "len(sucs)"
   ]
  },
  {
   "cell_type": "code",
   "execution_count": 25,
   "metadata": {},
   "outputs": [
    {
     "data": {
      "text/plain": [
       "2023-03-28 08:11:58    50\n",
       "2023-03-28 08:11:59    38\n",
       "2023-03-28 08:11:57    21\n",
       "2023-03-28 08:12:00     3\n",
       "Name: timestamp, dtype: int64"
      ]
     },
     "execution_count": 25,
     "metadata": {},
     "output_type": "execute_result"
    }
   ],
   "source": [
    "sucs['timestamp'].value_counts()"
   ]
  },
  {
   "cell_type": "code",
   "execution_count": 27,
   "metadata": {},
   "outputs": [
    {
     "data": {
      "text/plain": [
       "0xff540a481885da0916af298748638eb6e5e72ad24fed69ffe93cb434bc690dcd    112\n",
       "Name: jsonPayload.parentHash, dtype: int64"
      ]
     },
     "execution_count": 27,
     "metadata": {},
     "output_type": "execute_result"
    }
   ],
   "source": [
    "sucs['jsonPayload.parentHash'].value_counts()"
   ]
  },
  {
   "cell_type": "code",
   "execution_count": null,
   "metadata": {},
   "outputs": [],
   "source": [
    "sucs[]"
   ]
  },
  {
   "cell_type": "code",
   "execution_count": 10,
   "metadata": {},
   "outputs": [
    {
     "data": {
      "text/plain": [
       "558"
      ]
     },
     "execution_count": 10,
     "metadata": {},
     "output_type": "execute_result"
    }
   ],
   "source": [
    "len(bu)"
   ]
  }
 ],
 "metadata": {
  "kernelspec": {
   "display_name": "Python 3",
   "language": "python",
   "name": "python3"
  },
  "language_info": {
   "codemirror_mode": {
    "name": "ipython",
    "version": 3
   },
   "file_extension": ".py",
   "mimetype": "text/x-python",
   "name": "python",
   "nbconvert_exporter": "python",
   "pygments_lexer": "ipython3",
   "version": "3.8.16"
  }
 },
 "nbformat": 4,
 "nbformat_minor": 4
}

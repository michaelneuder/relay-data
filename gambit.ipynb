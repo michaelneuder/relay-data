{
 "cells": [
  {
   "cell_type": "code",
   "execution_count": 1,
   "metadata": {},
   "outputs": [],
   "source": [
    "import numpy as np\n",
    "import pandas as pd\n",
    "import matplotlib.pyplot as plt\n",
    "import json\n",
    "import requests\n",
    "import time\n",
    "import tqdm\n",
    "from datetime import datetime\n",
    "from google.cloud.logging import DESCENDING, Client\n",
    "plt.rcParams['axes.grid'] = True\n",
    "plt.rcParams['grid.alpha'] = 0.3\n",
    "plt.rcParams['axes.titlesize'] = 18\n",
    "plt.rcParams['font.family'] = 'monospace'"
   ]
  },
  {
   "cell_type": "code",
   "execution_count": 3,
   "metadata": {},
   "outputs": [
    {
     "data": {
      "text/html": [
       "<div>\n",
       "<style scoped>\n",
       "    .dataframe tbody tr th:only-of-type {\n",
       "        vertical-align: middle;\n",
       "    }\n",
       "\n",
       "    .dataframe tbody tr th {\n",
       "        vertical-align: top;\n",
       "    }\n",
       "\n",
       "    .dataframe thead th {\n",
       "        text-align: right;\n",
       "    }\n",
       "</style>\n",
       "<table border=\"1\" class=\"dataframe\">\n",
       "  <thead>\n",
       "    <tr style=\"text-align: right;\">\n",
       "      <th></th>\n",
       "      <th>slot</th>\n",
       "      <th>received_at</th>\n",
       "      <th>eligible_at</th>\n",
       "      <th>optimistic_submission</th>\n",
       "      <th>decode_duration</th>\n",
       "      <th>prechecks_duration</th>\n",
       "      <th>simulation_duration</th>\n",
       "      <th>redis_update_duration</th>\n",
       "      <th>total_duration</th>\n",
       "      <th>sim_success</th>\n",
       "    </tr>\n",
       "  </thead>\n",
       "  <tbody>\n",
       "    <tr>\n",
       "      <th>0</th>\n",
       "      <td>6280474</td>\n",
       "      <td>2023-04-2218:55:04.514129</td>\n",
       "      <td>2023-04-2218:55:04.714534</td>\n",
       "      <td>f</td>\n",
       "      <td>37443</td>\n",
       "      <td>2140</td>\n",
       "      <td>145631</td>\n",
       "      <td>15192</td>\n",
       "      <td>200407</td>\n",
       "      <td>t</td>\n",
       "    </tr>\n",
       "    <tr>\n",
       "      <th>1</th>\n",
       "      <td>6280508</td>\n",
       "      <td>2023-04-2219:01:53.376427</td>\n",
       "      <td>2023-04-2219:01:53.558599</td>\n",
       "      <td>f</td>\n",
       "      <td>26500</td>\n",
       "      <td>2310</td>\n",
       "      <td>144325</td>\n",
       "      <td>9039</td>\n",
       "      <td>182174</td>\n",
       "      <td>t</td>\n",
       "    </tr>\n",
       "    <tr>\n",
       "      <th>2</th>\n",
       "      <td>6280493</td>\n",
       "      <td>2023-04-2218:58:52.144012</td>\n",
       "      <td>2023-04-2218:58:52.33658</td>\n",
       "      <td>f</td>\n",
       "      <td>25788</td>\n",
       "      <td>2096</td>\n",
       "      <td>155831</td>\n",
       "      <td>8854</td>\n",
       "      <td>192570</td>\n",
       "      <td>t</td>\n",
       "    </tr>\n",
       "    <tr>\n",
       "      <th>3</th>\n",
       "      <td>6280502</td>\n",
       "      <td>2023-04-2219:00:40.170439</td>\n",
       "      <td>2023-04-2219:00:40.327336</td>\n",
       "      <td>f</td>\n",
       "      <td>9828</td>\n",
       "      <td>2202</td>\n",
       "      <td>140775</td>\n",
       "      <td>4094</td>\n",
       "      <td>156900</td>\n",
       "      <td>t</td>\n",
       "    </tr>\n",
       "    <tr>\n",
       "      <th>4</th>\n",
       "      <td>6280480</td>\n",
       "      <td>2023-04-2218:56:21.280912</td>\n",
       "      <td>2023-04-2218:56:21.417584</td>\n",
       "      <td>f</td>\n",
       "      <td>16412</td>\n",
       "      <td>2207</td>\n",
       "      <td>97175</td>\n",
       "      <td>20879</td>\n",
       "      <td>136674</td>\n",
       "      <td>t</td>\n",
       "    </tr>\n",
       "  </tbody>\n",
       "</table>\n",
       "</div>"
      ],
      "text/plain": [
       "      slot                received_at                eligible_at  \\\n",
       "0  6280474  2023-04-2218:55:04.514129  2023-04-2218:55:04.714534   \n",
       "1  6280508  2023-04-2219:01:53.376427  2023-04-2219:01:53.558599   \n",
       "2  6280493  2023-04-2218:58:52.144012   2023-04-2218:58:52.33658   \n",
       "3  6280502  2023-04-2219:00:40.170439  2023-04-2219:00:40.327336   \n",
       "4  6280480  2023-04-2218:56:21.280912  2023-04-2218:56:21.417584   \n",
       "\n",
       "  optimistic_submission  decode_duration  prechecks_duration  \\\n",
       "0                     f            37443                2140   \n",
       "1                     f            26500                2310   \n",
       "2                     f            25788                2096   \n",
       "3                     f             9828                2202   \n",
       "4                     f            16412                2207   \n",
       "\n",
       "   simulation_duration  redis_update_duration  total_duration sim_success  \n",
       "0               145631                  15192          200407           t  \n",
       "1               144325                   9039          182174           t  \n",
       "2               155831                   8854          192570           t  \n",
       "3               140775                   4094          156900           t  \n",
       "4                97175                  20879          136674           t  "
      ]
     },
     "execution_count": 3,
     "metadata": {},
     "output_type": "execute_result"
    }
   ],
   "source": [
    "gb = pd.read_csv('gambit.txt', delimiter='|', \n",
    "                  names=['slot','received_at','eligible_at','optimistic_submission','decode_duration',\n",
    "                         'prechecks_duration','simulation_duration','redis_update_duration',\n",
    "                         'total_duration','sim_success'])\n",
    "gb.head()"
   ]
  },
  {
   "cell_type": "code",
   "execution_count": 5,
   "metadata": {},
   "outputs": [
    {
     "data": {
      "text/plain": [
       "(-1.494059405940594, -3, 0)"
      ]
     },
     "execution_count": 5,
     "metadata": {},
     "output_type": "execute_result"
    }
   ],
   "source": [
    "diffs = (gb['decode_duration'] + gb['prechecks_duration'] + gb['simulation_duration'] + \\\n",
    " gb['redis_update_duration'] - gb['total_duration'])\n",
    "diffs.mean(), diffs.min(), diffs.max()"
   ]
  },
  {
   "cell_type": "code",
   "execution_count": 6,
   "metadata": {},
   "outputs": [
    {
     "name": "stdout",
     "output_type": "stream",
     "text": [
      "decode\\_duration & 19783 & 58904 & 280625 & 1414331 \\\\\n",
      "prechecks\\_duration & 2474 & 7166 & 202985 & 1189157 \\\\\n",
      "simulation\\_duration & 139121 & 201392 & 575156 & 2064596 \\\\\n",
      "redis\\_update\\_duration & 9099 & 23170 & 598570 & 2458301 \\\\\n",
      "\\hline\n",
      "\\textbf{total\\_duration} & \\textbf{177137} & \\textbf{354040} & \\textbf{2049770} & \\textbf{4792342} \\\\\n"
     ]
    }
   ],
   "source": [
    "printdf(gb)"
   ]
  },
  {
   "cell_type": "code",
   "execution_count": 4,
   "metadata": {},
   "outputs": [],
   "source": [
    "def printdf(df):\n",
    "    print('decode\\_duration & ', end='')\n",
    "    st = ''\n",
    "    for i in [50, 75, 90, 99]:\n",
    "        st += str(int(np.percentile(df['decode_duration'], i)))\n",
    "        st += \" & \"\n",
    "    print(st[:-3] + ' \\\\\\\\')\n",
    "    st = ''\n",
    "    print('prechecks\\_duration & ', end='')\n",
    "    for i in [50, 75, 90, 99]:\n",
    "        st += str(int(np.percentile(df['prechecks_duration'], i)))\n",
    "        st += \" & \"\n",
    "    print(st[:-3] + ' \\\\\\\\')\n",
    "    st = ''\n",
    "    print('simulation\\_duration & ', end='')\n",
    "    for i in [50, 75, 90, 99]:\n",
    "        st += str(int(np.percentile(df['simulation_duration'], i)))\n",
    "        st += \" & \"\n",
    "    print(st[:-3] + ' \\\\\\\\')\n",
    "    st = ''\n",
    "    print('redis\\_update\\_duration & ', end='')\n",
    "    for i in [50, 75, 90, 99]:\n",
    "        st += str(int(np.percentile(df['redis_update_duration'], i)))\n",
    "        st += \" & \"\n",
    "    print(st[:-3] + ' \\\\\\\\')\n",
    "    st = ''\n",
    "    print('\\\\hline')\n",
    "    print('\\\\textbf{total\\_duration} & ', end='')\n",
    "    for i in [50, 75, 90, 99]:\n",
    "        st += '\\\\textbf{{{}}}'.format(str(int(np.percentile(df['total_duration'], i))))\n",
    "        st += \" & \"\n",
    "    print(st[:-3] + ' \\\\\\\\')"
   ]
  },
  {
   "cell_type": "code",
   "execution_count": null,
   "metadata": {},
   "outputs": [],
   "source": []
  }
 ],
 "metadata": {
  "kernelspec": {
   "display_name": "Python 3",
   "language": "python",
   "name": "python3"
  },
  "language_info": {
   "codemirror_mode": {
    "name": "ipython",
    "version": 3
   },
   "file_extension": ".py",
   "mimetype": "text/x-python",
   "name": "python",
   "nbconvert_exporter": "python",
   "pygments_lexer": "ipython3",
   "version": "3.8.16"
  }
 },
 "nbformat": 4,
 "nbformat_minor": 4
}

{
 "cells": [
  {
   "cell_type": "code",
   "execution_count": 2,
   "metadata": {},
   "outputs": [],
   "source": [
    "import numpy as np\n",
    "import pandas as pd\n",
    "import matplotlib.pyplot as plt\n",
    "import json\n",
    "from datetime import datetime\n",
    "plt.rcParams['axes.grid'] = True\n",
    "plt.rcParams['grid.alpha'] = 0.3\n",
    "plt.rcParams['axes.titlesize'] = 18"
   ]
  },
  {
   "cell_type": "code",
   "execution_count": 7,
   "metadata": {},
   "outputs": [],
   "source": [
    "def read(file):\n",
    "    res = pd.read_csv(file, delimiter=\"|\", \n",
    "                  names=['slot', 'received_at', 'eligible_at', 'optimistic', 'decode_duration',\n",
    "                         'prechecks_duration', 'simulation_duration', 'redis_update_duration', 'total_duration'])\n",
    "    res['received_at'] = pd.to_datetime(res['received_at'], format=\"%Y-%m-%d%H:%M:%S.%f\")\n",
    "    res['eligible_at'] = pd.to_datetime(res['eligible_at'], format=\"%Y-%m-%d%H:%M:%S.%f\")\n",
    "    return res"
   ]
  },
  {
   "cell_type": "code",
   "execution_count": 8,
   "metadata": {},
   "outputs": [],
   "source": [
    "b1b = read('manta0xb1b.txt')\n",
    "b5a = read('manta0xb5a.txt')\n",
    "a0d = read('manta0xa0d.txt')"
   ]
  },
  {
   "cell_type": "code",
   "execution_count": 9,
   "metadata": {},
   "outputs": [
    {
     "data": {
      "text/plain": [
       "(188400, 174080, 170777)"
      ]
     },
     "execution_count": 9,
     "metadata": {},
     "output_type": "execute_result"
    }
   ],
   "source": [
    "len(b1b), len(b5a), len(a0d)"
   ]
  },
  {
   "cell_type": "code",
   "execution_count": 26,
   "metadata": {},
   "outputs": [
    {
     "data": {
      "text/plain": [
       "(78434.05158174098, 239359.19604204962, 245769.84670066813)"
      ]
     },
     "execution_count": 26,
     "metadata": {},
     "output_type": "execute_result"
    }
   ],
   "source": [
    "b1b['redis_update_duration'].mean(), b5a['total_duration'].mean(), a0d['total_duration'].mean()"
   ]
  },
  {
   "cell_type": "code",
   "execution_count": 27,
   "metadata": {},
   "outputs": [
    {
     "data": {
      "text/plain": [
       "1884.0"
      ]
     },
     "execution_count": 27,
     "metadata": {},
     "output_type": "execute_result"
    }
   ],
   "source": [
    "len(b1b)*0.01"
   ]
  },
  {
   "cell_type": "code",
   "execution_count": 10,
   "metadata": {},
   "outputs": [
    {
     "data": {
      "text/html": [
       "<div>\n",
       "<style scoped>\n",
       "    .dataframe tbody tr th:only-of-type {\n",
       "        vertical-align: middle;\n",
       "    }\n",
       "\n",
       "    .dataframe tbody tr th {\n",
       "        vertical-align: top;\n",
       "    }\n",
       "\n",
       "    .dataframe thead th {\n",
       "        text-align: right;\n",
       "    }\n",
       "</style>\n",
       "<table border=\"1\" class=\"dataframe\">\n",
       "  <thead>\n",
       "    <tr style=\"text-align: right;\">\n",
       "      <th></th>\n",
       "      <th>slot</th>\n",
       "      <th>received_at</th>\n",
       "      <th>eligible_at</th>\n",
       "      <th>optimistic</th>\n",
       "      <th>decode_duration</th>\n",
       "      <th>prechecks_duration</th>\n",
       "      <th>simulation_duration</th>\n",
       "      <th>redis_update_duration</th>\n",
       "      <th>total_duration</th>\n",
       "    </tr>\n",
       "  </thead>\n",
       "  <tbody>\n",
       "    <tr>\n",
       "      <th>0</th>\n",
       "      <td>6069555</td>\n",
       "      <td>2023-03-24 11:51:24.018092</td>\n",
       "      <td>2023-03-24 11:51:24.191383</td>\n",
       "      <td>t</td>\n",
       "      <td>109519</td>\n",
       "      <td>47079</td>\n",
       "      <td>2</td>\n",
       "      <td>16688</td>\n",
       "      <td>173290</td>\n",
       "    </tr>\n",
       "    <tr>\n",
       "      <th>1</th>\n",
       "      <td>6069555</td>\n",
       "      <td>2023-03-24 11:51:20.431738</td>\n",
       "      <td>2023-03-24 11:51:20.546625</td>\n",
       "      <td>t</td>\n",
       "      <td>107643</td>\n",
       "      <td>1311</td>\n",
       "      <td>7</td>\n",
       "      <td>5924</td>\n",
       "      <td>114887</td>\n",
       "    </tr>\n",
       "    <tr>\n",
       "      <th>2</th>\n",
       "      <td>6069555</td>\n",
       "      <td>2023-03-24 11:51:20.670680</td>\n",
       "      <td>2023-03-24 11:51:20.783678</td>\n",
       "      <td>t</td>\n",
       "      <td>103079</td>\n",
       "      <td>2019</td>\n",
       "      <td>2</td>\n",
       "      <td>7896</td>\n",
       "      <td>112997</td>\n",
       "    </tr>\n",
       "    <tr>\n",
       "      <th>3</th>\n",
       "      <td>6069555</td>\n",
       "      <td>2023-03-24 11:51:20.941261</td>\n",
       "      <td>2023-03-24 11:51:21.058628</td>\n",
       "      <td>t</td>\n",
       "      <td>109373</td>\n",
       "      <td>1673</td>\n",
       "      <td>9</td>\n",
       "      <td>6309</td>\n",
       "      <td>117367</td>\n",
       "    </tr>\n",
       "    <tr>\n",
       "      <th>4</th>\n",
       "      <td>6069555</td>\n",
       "      <td>2023-03-24 11:51:21.651532</td>\n",
       "      <td>2023-03-24 11:51:21.765917</td>\n",
       "      <td>t</td>\n",
       "      <td>101931</td>\n",
       "      <td>1764</td>\n",
       "      <td>8</td>\n",
       "      <td>10680</td>\n",
       "      <td>114385</td>\n",
       "    </tr>\n",
       "  </tbody>\n",
       "</table>\n",
       "</div>"
      ],
      "text/plain": [
       "      slot                received_at                eligible_at optimistic  \\\n",
       "0  6069555 2023-03-24 11:51:24.018092 2023-03-24 11:51:24.191383          t   \n",
       "1  6069555 2023-03-24 11:51:20.431738 2023-03-24 11:51:20.546625          t   \n",
       "2  6069555 2023-03-24 11:51:20.670680 2023-03-24 11:51:20.783678          t   \n",
       "3  6069555 2023-03-24 11:51:20.941261 2023-03-24 11:51:21.058628          t   \n",
       "4  6069555 2023-03-24 11:51:21.651532 2023-03-24 11:51:21.765917          t   \n",
       "\n",
       "   decode_duration  prechecks_duration  simulation_duration  \\\n",
       "0           109519               47079                    2   \n",
       "1           107643                1311                    7   \n",
       "2           103079                2019                    2   \n",
       "3           109373                1673                    9   \n",
       "4           101931                1764                    8   \n",
       "\n",
       "   redis_update_duration  total_duration  \n",
       "0                  16688          173290  \n",
       "1                   5924          114887  \n",
       "2                   7896          112997  \n",
       "3                   6309          117367  \n",
       "4                  10680          114385  "
      ]
     },
     "execution_count": 10,
     "metadata": {},
     "output_type": "execute_result"
    }
   ],
   "source": [
    "b1b.head()"
   ]
  },
  {
   "cell_type": "code",
   "execution_count": 29,
   "metadata": {},
   "outputs": [],
   "source": [
    "b1b_plt = b1b[b1b['total_duration'] < np.quantile(b1b['total_duration'].values, 0.99)]\n",
    "b5a_plt = b5a[b5a['total_duration'] < np.quantile(b5a['total_duration'].values, 0.99)]\n",
    "a0d_plt = a0d[a0d['total_duration'] < np.quantile(a0d['total_duration'].values, 0.99)]"
   ]
  },
  {
   "cell_type": "code",
   "execution_count": 36,
   "metadata": {},
   "outputs": [
    {
     "data": {
      "image/png": "[encoded data removed]",
      "text/plain": [
       "<Figure size 576x360 with 1 Axes>"
      ]
     },
     "metadata": {
      "needs_background": "light"
     },
     "output_type": "display_data"
    }
   ],
   "source": [
    "f, ax = plt.subplots(figsize=(8,5))\n",
    "bins = np.histogram(b1b_plt['total_duration'], bins=1000)[1]\n",
    "ax.hist(b1b_plt['decode_duration'], bins=bins, color='black', alpha=0.9, density=True, \n",
    "        label='0xb1b $(\\mu = {:0.0f})$'.format(b1b['total_duration'].values.mean()))\n",
    "ax.hist(b5a_plt['decode_duration'], bins=bins, color='black', alpha=0.6, density=True, \n",
    "        label='0xb5a $(\\mu = {:0.0f})$'.format(b5a['total_duration'].values.mean()))\n",
    "ax.hist(a0d_plt['decode_duration'], bins=bins, color='black', alpha=0.3, density=True, \n",
    "        label='0xa0d $(\\mu = {:0.0f})$'.format(a0d['total_duration'].values.mean()))\n",
    "ax.set_xlim(0, int(1e6))\n",
    "ax.legend(loc=0)\n",
    "ax.set_xlabel('duration $(\\mu s)$', size=14)\n",
    "ax.set_title('optimistic block submission durations', size=16)\n",
    "# ax.set_title('total duration; $\\mu = {:0.0f}$'.format(nopts['total_duration'].values.mean()), size=18)\n",
    "plt.show()"
   ]
  },
  {
   "cell_type": "code",
   "execution_count": 18,
   "metadata": {},
   "outputs": [
    {
     "name": "stdout",
     "output_type": "stream",
     "text": [
      "decode\\_duration & 107481 & 140666 & 216731 & 492392 \\\\\n",
      "prechecks\\_duration & 1842 & 2886 & 25565 & 510335 \\\\\n",
      "simulation\\_duration & 8 & 10 & 12 & 74 \\\\\n",
      "redis\\_update\\_duration & 8012 & 15027 & 99126 & 1733371 \\\\\n",
      "\\hline\n",
      "\\textbf{total\\_duration} & \\textbf{122740} & \\textbf{180084} & \\textbf{387015} & \\textbf{2599757} \\\\\n"
     ]
    }
   ],
   "source": [
    "printdf(a0d)"
   ]
  },
  {
   "cell_type": "code",
   "execution_count": 14,
   "metadata": {},
   "outputs": [],
   "source": [
    "def printdf(df):\n",
    "    print('decode\\_duration & ', end='')\n",
    "    st = ''\n",
    "    for i in [50, 75, 90, 99]:\n",
    "        st += str(int(np.percentile(df['decode_duration'], i)))\n",
    "        st += \" & \"\n",
    "    print(st[:-3] + ' \\\\\\\\')\n",
    "    st = ''\n",
    "    print('prechecks\\_duration & ', end='')\n",
    "    for i in [50, 75, 90, 99]:\n",
    "        st += str(int(np.percentile(df['prechecks_duration'], i)))\n",
    "        st += \" & \"\n",
    "    print(st[:-3] + ' \\\\\\\\')\n",
    "    st = ''\n",
    "    print('simulation\\_duration & ', end='')\n",
    "    for i in [50, 75, 90, 99]:\n",
    "        st += str(int(np.percentile(df['simulation_duration'], i)))\n",
    "        st += \" & \"\n",
    "    print(st[:-3] + ' \\\\\\\\')\n",
    "    st = ''\n",
    "    print('redis\\_update\\_duration & ', end='')\n",
    "    for i in [50, 75, 90, 99]:\n",
    "        st += str(int(np.percentile(df['redis_update_duration'], i)))\n",
    "        st += \" & \"\n",
    "    print(st[:-3] + ' \\\\\\\\')\n",
    "    st = ''\n",
    "    print('\\\\hline')\n",
    "    print('\\\\textbf{total\\_duration} & ', end='')\n",
    "    for i in [50, 75, 90, 99]:\n",
    "        st += '\\\\textbf{{{}}}'.format(str(int(np.percentile(df['total_duration'], i))))\n",
    "        st += \" & \"\n",
    "    print(st[:-3] + ' \\\\\\\\')"
   ]
  },
  {
   "cell_type": "code",
   "execution_count": null,
   "metadata": {},
   "outputs": [],
   "source": []
  }
 ],
 "metadata": {
  "kernelspec": {
   "display_name": "Python 3",
   "language": "python",
   "name": "python3"
  },
  "language_info": {
   "codemirror_mode": {
    "name": "ipython",
    "version": 3
   },
   "file_extension": ".py",
   "mimetype": "text/x-python",
   "name": "python",
   "nbconvert_exporter": "python",
   "pygments_lexer": "ipython3",
   "version": "3.8.16"
  }
 },
 "nbformat": 4,
 "nbformat_minor": 4
}

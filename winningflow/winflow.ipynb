{
 "cells": [
  {
   "cell_type": "code",
   "execution_count": 1,
   "metadata": {},
   "outputs": [],
   "source": [
    "import numpy as np\n",
    "import pandas as pd\n",
    "import matplotlib.pyplot as plt\n",
    "import json\n",
    "from datetime import datetime\n",
    "plt.rcParams['axes.grid'] = True\n",
    "plt.rcParams['grid.alpha'] = 0.3\n",
    "plt.rcParams['axes.titlesize'] = 18"
   ]
  },
  {
   "cell_type": "code",
   "execution_count": 2,
   "metadata": {},
   "outputs": [
    {
     "data": {
      "text/html": [
       "<div>\n",
       "<style scoped>\n",
       "    .dataframe tbody tr th:only-of-type {\n",
       "        vertical-align: middle;\n",
       "    }\n",
       "\n",
       "    .dataframe tbody tr th {\n",
       "        vertical-align: top;\n",
       "    }\n",
       "\n",
       "    .dataframe thead th {\n",
       "        text-align: right;\n",
       "    }\n",
       "</style>\n",
       "<table border=\"1\" class=\"dataframe\">\n",
       "  <thead>\n",
       "    <tr style=\"text-align: right;\">\n",
       "      <th></th>\n",
       "      <th>slot</th>\n",
       "      <th>block_number</th>\n",
       "    </tr>\n",
       "  </thead>\n",
       "  <tbody>\n",
       "    <tr>\n",
       "      <th>0</th>\n",
       "      <td>6043994</td>\n",
       "      <td>16871910</td>\n",
       "    </tr>\n",
       "    <tr>\n",
       "      <th>1</th>\n",
       "      <td>6043988</td>\n",
       "      <td>16871904</td>\n",
       "    </tr>\n",
       "    <tr>\n",
       "      <th>2</th>\n",
       "      <td>6043998</td>\n",
       "      <td>16871914</td>\n",
       "    </tr>\n",
       "    <tr>\n",
       "      <th>3</th>\n",
       "      <td>6044000</td>\n",
       "      <td>16871916</td>\n",
       "    </tr>\n",
       "    <tr>\n",
       "      <th>4</th>\n",
       "      <td>6044002</td>\n",
       "      <td>16871918</td>\n",
       "    </tr>\n",
       "  </tbody>\n",
       "</table>\n",
       "</div>"
      ],
      "text/plain": [
       "      slot  block_number\n",
       "0  6043994      16871910\n",
       "1  6043988      16871904\n",
       "2  6043998      16871914\n",
       "3  6044000      16871916\n",
       "4  6044002      16871918"
      ]
     },
     "execution_count": 2,
     "metadata": {},
     "output_type": "execute_result"
    }
   ],
   "source": [
    "el = pd.read_csv('eligible.txt', delimiter='|', names=['slot','block_number'])\n",
    "el.head()"
   ]
  },
  {
   "cell_type": "code",
   "execution_count": 3,
   "metadata": {},
   "outputs": [
    {
     "data": {
      "text/plain": [
       "(4230, 0.5875)"
      ]
     },
     "execution_count": 3,
     "metadata": {},
     "output_type": "execute_result"
    }
   ],
   "source": [
    "len(el), len(el)/7200"
   ]
  },
  {
   "cell_type": "code",
   "execution_count": null,
   "metadata": {
    "scrolled": true
   },
   "outputs": [],
   "source": [
    "payload = \"\\'[\"\n",
    "for i in el['block_number'].values[4000:]:\n",
    "    template = '\"jsonrpc\":\"2.0\",\"method\":\"eth_getBlockByNumber\",\"params\":[\"0x{:02x}\",false],\"id\":0'.format(i)\n",
    "    payload += \"{\"\n",
    "    payload += template\n",
    "    payload += \"},\"\n",
    "payload=payload[:-1]\n",
    "payload += \"]\\'\""
   ]
  },
  {
   "cell_type": "code",
   "execution_count": null,
   "metadata": {
    "scrolled": false
   },
   "outputs": [],
   "source": [
    "url = 'curl https://eth-mainnet.g.alchemy.com/v2/cnHeH_ifD-29lrdBoGTMISiDgmrF9ZBz -X POST -H \"Content-Type: application/json\" -s -d'\n",
    "req = \"{} {}\".format(url, payload)"
   ]
  },
  {
   "cell_type": "code",
   "execution_count": null,
   "metadata": {
    "scrolled": false
   },
   "outputs": [],
   "source": [
    "print(req, end='')\n",
    "print('| jq -jr \\'.[] | .result[\"number\"], \" \", .result[\"hash\"], \"\\\\n\"\\' > 4.txt')"
   ]
  },
  {
   "cell_type": "code",
   "execution_count": null,
   "metadata": {},
   "outputs": [],
   "source": []
  },
  {
   "cell_type": "code",
   "execution_count": 4,
   "metadata": {},
   "outputs": [
    {
     "data": {
      "text/html": [
       "<div>\n",
       "<style scoped>\n",
       "    .dataframe tbody tr th:only-of-type {\n",
       "        vertical-align: middle;\n",
       "    }\n",
       "\n",
       "    .dataframe tbody tr th {\n",
       "        vertical-align: top;\n",
       "    }\n",
       "\n",
       "    .dataframe thead th {\n",
       "        text-align: right;\n",
       "    }\n",
       "</style>\n",
       "<table border=\"1\" class=\"dataframe\">\n",
       "  <thead>\n",
       "    <tr style=\"text-align: right;\">\n",
       "      <th></th>\n",
       "      <th>slot</th>\n",
       "      <th>block_hash</th>\n",
       "      <th>builder_pubkey</th>\n",
       "      <th>received_at</th>\n",
       "      <th>eligible_at</th>\n",
       "    </tr>\n",
       "  </thead>\n",
       "  <tbody>\n",
       "    <tr>\n",
       "      <th>0</th>\n",
       "      <td>16871904</td>\n",
       "      <td>0x1445938da29fcecc6f5e2d08511531cedca70079973d...</td>\n",
       "      <td>0x81babeec8c9f2bb9c329fd8a3b176032fe0ab5f3b92a...</td>\n",
       "      <td>2023-03-20 22:37:58.620013</td>\n",
       "      <td>2023-03-20 22:37:58.914306</td>\n",
       "    </tr>\n",
       "    <tr>\n",
       "      <th>1</th>\n",
       "      <td>16871910</td>\n",
       "      <td>0x5f2be5f888663e9e60c24f06ab728cdd01871f5e51e3...</td>\n",
       "      <td>0xb5d883565500910f3f10f0a2e3a031139d972117a3b6...</td>\n",
       "      <td>2023-03-20 22:39:11.966011</td>\n",
       "      <td>2023-03-20 22:39:11.989962</td>\n",
       "    </tr>\n",
       "    <tr>\n",
       "      <th>2</th>\n",
       "      <td>16871914</td>\n",
       "      <td>0x235dae41a768108b682b9158acd2c01472c0ea317ae6...</td>\n",
       "      <td>0x82ba7cadcdfc1b156ba2c48c1c627428ba917858e62c...</td>\n",
       "      <td>2023-03-20 22:39:59.073824</td>\n",
       "      <td>2023-03-20 22:39:59.249626</td>\n",
       "    </tr>\n",
       "    <tr>\n",
       "      <th>3</th>\n",
       "      <td>16871916</td>\n",
       "      <td>0xd50312a2137a7c210a69b6a48c8d94f3c516c65538ea...</td>\n",
       "      <td>0xa971c4ee4ac5d47e0fb9e16be05981bfe51458f14c06...</td>\n",
       "      <td>2023-03-20 22:40:23.338373</td>\n",
       "      <td>2023-03-20 22:40:23.416462</td>\n",
       "    </tr>\n",
       "    <tr>\n",
       "      <th>4</th>\n",
       "      <td>16871918</td>\n",
       "      <td>0xf41e4339b5bde7b244fafe1014471a1f1005064131ae...</td>\n",
       "      <td>0x81beef03aafd3dd33ffd7deb337407142c80fea2690e...</td>\n",
       "      <td>2023-03-20 22:40:46.543002</td>\n",
       "      <td>2023-03-20 22:40:46.955778</td>\n",
       "    </tr>\n",
       "  </tbody>\n",
       "</table>\n",
       "</div>"
      ],
      "text/plain": [
       "       slot                                         block_hash  \\\n",
       "0  16871904  0x1445938da29fcecc6f5e2d08511531cedca70079973d...   \n",
       "1  16871910  0x5f2be5f888663e9e60c24f06ab728cdd01871f5e51e3...   \n",
       "2  16871914  0x235dae41a768108b682b9158acd2c01472c0ea317ae6...   \n",
       "3  16871916  0xd50312a2137a7c210a69b6a48c8d94f3c516c65538ea...   \n",
       "4  16871918  0xf41e4339b5bde7b244fafe1014471a1f1005064131ae...   \n",
       "\n",
       "                                      builder_pubkey  \\\n",
       "0  0x81babeec8c9f2bb9c329fd8a3b176032fe0ab5f3b92a...   \n",
       "1  0xb5d883565500910f3f10f0a2e3a031139d972117a3b6...   \n",
       "2  0x82ba7cadcdfc1b156ba2c48c1c627428ba917858e62c...   \n",
       "3  0xa971c4ee4ac5d47e0fb9e16be05981bfe51458f14c06...   \n",
       "4  0x81beef03aafd3dd33ffd7deb337407142c80fea2690e...   \n",
       "\n",
       "                 received_at                eligible_at  \n",
       "0 2023-03-20 22:37:58.620013 2023-03-20 22:37:58.914306  \n",
       "1 2023-03-20 22:39:11.966011 2023-03-20 22:39:11.989962  \n",
       "2 2023-03-20 22:39:59.073824 2023-03-20 22:39:59.249626  \n",
       "3 2023-03-20 22:40:23.338373 2023-03-20 22:40:23.416462  \n",
       "4 2023-03-20 22:40:46.543002 2023-03-20 22:40:46.955778  "
      ]
     },
     "execution_count": 4,
     "metadata": {},
     "output_type": "execute_result"
    }
   ],
   "source": [
    "seen = pd.read_csv('seen.txt', delimiter='|', names=['slot','block_hash','builder_pubkey','received_at','eligible_at'])\n",
    "seen['received_at'] = pd.to_datetime(seen['received_at'], format=\"%Y-%m-%d%H:%M:%S.%f\", errors = 'coerce')\n",
    "seen['eligible_at'] = pd.to_datetime(seen['eligible_at'], format=\"%Y-%m-%d%H:%M:%S.%f\", errors = 'coerce')\n",
    "seen.head()"
   ]
  },
  {
   "cell_type": "code",
   "execution_count": 5,
   "metadata": {},
   "outputs": [
    {
     "data": {
      "text/html": [
       "<div>\n",
       "<style scoped>\n",
       "    .dataframe tbody tr th:only-of-type {\n",
       "        vertical-align: middle;\n",
       "    }\n",
       "\n",
       "    .dataframe tbody tr th {\n",
       "        vertical-align: top;\n",
       "    }\n",
       "\n",
       "    .dataframe thead th {\n",
       "        text-align: right;\n",
       "    }\n",
       "</style>\n",
       "<table border=\"1\" class=\"dataframe\">\n",
       "  <thead>\n",
       "    <tr style=\"text-align: right;\">\n",
       "      <th></th>\n",
       "      <th>builder_pubkey</th>\n",
       "      <th>optimistic</th>\n",
       "    </tr>\n",
       "  </thead>\n",
       "  <tbody>\n",
       "    <tr>\n",
       "      <th>0</th>\n",
       "      <td>0xb066a09b52c583db4c8bb1eba3c629f20b96d6f9a355...</td>\n",
       "      <td>t</td>\n",
       "    </tr>\n",
       "    <tr>\n",
       "      <th>1</th>\n",
       "      <td>0x8dde59a0d40b9a77b901fc40bee1116acf643b2b6065...</td>\n",
       "      <td>t</td>\n",
       "    </tr>\n",
       "    <tr>\n",
       "      <th>2</th>\n",
       "      <td>0xb5d883565500910f3f10f0a2e3a031139d972117a3b6...</td>\n",
       "      <td>t</td>\n",
       "    </tr>\n",
       "    <tr>\n",
       "      <th>3</th>\n",
       "      <td>0xaec4ec48c2ec03c418c599622980184e926f0de3c9ce...</td>\n",
       "      <td>t</td>\n",
       "    </tr>\n",
       "    <tr>\n",
       "      <th>4</th>\n",
       "      <td>0x96a59d355b1f65e270b29981dd113625732539e955a1...</td>\n",
       "      <td>t</td>\n",
       "    </tr>\n",
       "  </tbody>\n",
       "</table>\n",
       "</div>"
      ],
      "text/plain": [
       "                                      builder_pubkey optimistic\n",
       "0  0xb066a09b52c583db4c8bb1eba3c629f20b96d6f9a355...          t\n",
       "1  0x8dde59a0d40b9a77b901fc40bee1116acf643b2b6065...          t\n",
       "2  0xb5d883565500910f3f10f0a2e3a031139d972117a3b6...          t\n",
       "3  0xaec4ec48c2ec03c418c599622980184e926f0de3c9ce...          t\n",
       "4  0x96a59d355b1f65e270b29981dd113625732539e955a1...          t"
      ]
     },
     "execution_count": 5,
     "metadata": {},
     "output_type": "execute_result"
    }
   ],
   "source": [
    "builders = pd.read_csv('builders.txt', delimiter=\"|\", names=['builder_pubkey'])\n",
    "builders['optimistic'] = 't'\n",
    "builders.head()"
   ]
  },
  {
   "cell_type": "code",
   "execution_count": 6,
   "metadata": {},
   "outputs": [
    {
     "data": {
      "text/html": [
       "<div>\n",
       "<style scoped>\n",
       "    .dataframe tbody tr th:only-of-type {\n",
       "        vertical-align: middle;\n",
       "    }\n",
       "\n",
       "    .dataframe tbody tr th {\n",
       "        vertical-align: top;\n",
       "    }\n",
       "\n",
       "    .dataframe thead th {\n",
       "        text-align: right;\n",
       "    }\n",
       "</style>\n",
       "<table border=\"1\" class=\"dataframe\">\n",
       "  <thead>\n",
       "    <tr style=\"text-align: right;\">\n",
       "      <th></th>\n",
       "      <th>slot</th>\n",
       "      <th>block_hash</th>\n",
       "      <th>builder_pubkey</th>\n",
       "      <th>received_at</th>\n",
       "      <th>eligible_at</th>\n",
       "      <th>optimistic</th>\n",
       "    </tr>\n",
       "  </thead>\n",
       "  <tbody>\n",
       "    <tr>\n",
       "      <th>0</th>\n",
       "      <td>16871904</td>\n",
       "      <td>0x1445938da29fcecc6f5e2d08511531cedca70079973d...</td>\n",
       "      <td>0x81babeec8c9f2bb9c329fd8a3b176032fe0ab5f3b92a...</td>\n",
       "      <td>2023-03-20 22:37:58.620013</td>\n",
       "      <td>2023-03-20 22:37:58.914306</td>\n",
       "      <td>NaN</td>\n",
       "    </tr>\n",
       "    <tr>\n",
       "      <th>1</th>\n",
       "      <td>16871910</td>\n",
       "      <td>0x5f2be5f888663e9e60c24f06ab728cdd01871f5e51e3...</td>\n",
       "      <td>0xb5d883565500910f3f10f0a2e3a031139d972117a3b6...</td>\n",
       "      <td>2023-03-20 22:39:11.966011</td>\n",
       "      <td>2023-03-20 22:39:11.989962</td>\n",
       "      <td>t</td>\n",
       "    </tr>\n",
       "    <tr>\n",
       "      <th>2</th>\n",
       "      <td>16871914</td>\n",
       "      <td>0x235dae41a768108b682b9158acd2c01472c0ea317ae6...</td>\n",
       "      <td>0x82ba7cadcdfc1b156ba2c48c1c627428ba917858e62c...</td>\n",
       "      <td>2023-03-20 22:39:59.073824</td>\n",
       "      <td>2023-03-20 22:39:59.249626</td>\n",
       "      <td>t</td>\n",
       "    </tr>\n",
       "    <tr>\n",
       "      <th>3</th>\n",
       "      <td>16871916</td>\n",
       "      <td>0xd50312a2137a7c210a69b6a48c8d94f3c516c65538ea...</td>\n",
       "      <td>0xa971c4ee4ac5d47e0fb9e16be05981bfe51458f14c06...</td>\n",
       "      <td>2023-03-20 22:40:23.338373</td>\n",
       "      <td>2023-03-20 22:40:23.416462</td>\n",
       "      <td>t</td>\n",
       "    </tr>\n",
       "    <tr>\n",
       "      <th>4</th>\n",
       "      <td>16871918</td>\n",
       "      <td>0xf41e4339b5bde7b244fafe1014471a1f1005064131ae...</td>\n",
       "      <td>0x81beef03aafd3dd33ffd7deb337407142c80fea2690e...</td>\n",
       "      <td>2023-03-20 22:40:46.543002</td>\n",
       "      <td>2023-03-20 22:40:46.955778</td>\n",
       "      <td>NaN</td>\n",
       "    </tr>\n",
       "  </tbody>\n",
       "</table>\n",
       "</div>"
      ],
      "text/plain": [
       "       slot                                         block_hash  \\\n",
       "0  16871904  0x1445938da29fcecc6f5e2d08511531cedca70079973d...   \n",
       "1  16871910  0x5f2be5f888663e9e60c24f06ab728cdd01871f5e51e3...   \n",
       "2  16871914  0x235dae41a768108b682b9158acd2c01472c0ea317ae6...   \n",
       "3  16871916  0xd50312a2137a7c210a69b6a48c8d94f3c516c65538ea...   \n",
       "4  16871918  0xf41e4339b5bde7b244fafe1014471a1f1005064131ae...   \n",
       "\n",
       "                                      builder_pubkey  \\\n",
       "0  0x81babeec8c9f2bb9c329fd8a3b176032fe0ab5f3b92a...   \n",
       "1  0xb5d883565500910f3f10f0a2e3a031139d972117a3b6...   \n",
       "2  0x82ba7cadcdfc1b156ba2c48c1c627428ba917858e62c...   \n",
       "3  0xa971c4ee4ac5d47e0fb9e16be05981bfe51458f14c06...   \n",
       "4  0x81beef03aafd3dd33ffd7deb337407142c80fea2690e...   \n",
       "\n",
       "                 received_at                eligible_at optimistic  \n",
       "0 2023-03-20 22:37:58.620013 2023-03-20 22:37:58.914306        NaN  \n",
       "1 2023-03-20 22:39:11.966011 2023-03-20 22:39:11.989962          t  \n",
       "2 2023-03-20 22:39:59.073824 2023-03-20 22:39:59.249626          t  \n",
       "3 2023-03-20 22:40:23.338373 2023-03-20 22:40:23.416462          t  \n",
       "4 2023-03-20 22:40:46.543002 2023-03-20 22:40:46.955778        NaN  "
      ]
     },
     "execution_count": 6,
     "metadata": {},
     "output_type": "execute_result"
    }
   ],
   "source": [
    "seen_bld = seen.merge(builders, on='builder_pubkey', how='left')\n",
    "seen_bld.head()"
   ]
  },
  {
   "cell_type": "code",
   "execution_count": 7,
   "metadata": {},
   "outputs": [
    {
     "data": {
      "text/plain": [
       "(4230, 544)"
      ]
     },
     "execution_count": 7,
     "metadata": {},
     "output_type": "execute_result"
    }
   ],
   "source": [
    "len(seen_bld), len(seen_bld[seen_bld['builder_pubkey'].isnull()])"
   ]
  },
  {
   "cell_type": "code",
   "execution_count": 8,
   "metadata": {},
   "outputs": [
    {
     "data": {
      "text/plain": [
       "(3686, 0.8713947990543736)"
      ]
     },
     "execution_count": 8,
     "metadata": {},
     "output_type": "execute_result"
    }
   ],
   "source": [
    "(4230-544),(4230-544)/4230"
   ]
  },
  {
   "cell_type": "code",
   "execution_count": 9,
   "metadata": {},
   "outputs": [
    {
     "data": {
      "text/html": [
       "<div>\n",
       "<style scoped>\n",
       "    .dataframe tbody tr th:only-of-type {\n",
       "        vertical-align: middle;\n",
       "    }\n",
       "\n",
       "    .dataframe tbody tr th {\n",
       "        vertical-align: top;\n",
       "    }\n",
       "\n",
       "    .dataframe thead th {\n",
       "        text-align: right;\n",
       "    }\n",
       "</style>\n",
       "<table border=\"1\" class=\"dataframe\">\n",
       "  <thead>\n",
       "    <tr style=\"text-align: right;\">\n",
       "      <th></th>\n",
       "      <th>slot</th>\n",
       "      <th>block_hash</th>\n",
       "      <th>relayed</th>\n",
       "    </tr>\n",
       "  </thead>\n",
       "  <tbody>\n",
       "    <tr>\n",
       "      <th>0</th>\n",
       "      <td>6043988</td>\n",
       "      <td>0x1445938da29fcecc6f5e2d08511531cedca70079973d...</td>\n",
       "      <td>t</td>\n",
       "    </tr>\n",
       "    <tr>\n",
       "      <th>1</th>\n",
       "      <td>6044000</td>\n",
       "      <td>0xd50312a2137a7c210a69b6a48c8d94f3c516c65538ea...</td>\n",
       "      <td>t</td>\n",
       "    </tr>\n",
       "    <tr>\n",
       "      <th>2</th>\n",
       "      <td>6044002</td>\n",
       "      <td>0xf41e4339b5bde7b244fafe1014471a1f1005064131ae...</td>\n",
       "      <td>t</td>\n",
       "    </tr>\n",
       "    <tr>\n",
       "      <th>3</th>\n",
       "      <td>6044006</td>\n",
       "      <td>0x9e408ab3305fcbd834c8bc0ac29498632f98f64b29d2...</td>\n",
       "      <td>t</td>\n",
       "    </tr>\n",
       "    <tr>\n",
       "      <th>4</th>\n",
       "      <td>6044007</td>\n",
       "      <td>0x1b8ae200a35cbcd6fffac0f2d3b4eac4bb1c22f01465...</td>\n",
       "      <td>t</td>\n",
       "    </tr>\n",
       "  </tbody>\n",
       "</table>\n",
       "</div>"
      ],
      "text/plain": [
       "      slot                                         block_hash relayed\n",
       "0  6043988  0x1445938da29fcecc6f5e2d08511531cedca70079973d...       t\n",
       "1  6044000  0xd50312a2137a7c210a69b6a48c8d94f3c516c65538ea...       t\n",
       "2  6044002  0xf41e4339b5bde7b244fafe1014471a1f1005064131ae...       t\n",
       "3  6044006  0x9e408ab3305fcbd834c8bc0ac29498632f98f64b29d2...       t\n",
       "4  6044007  0x1b8ae200a35cbcd6fffac0f2d3b4eac4bb1c22f01465...       t"
      ]
     },
     "execution_count": 9,
     "metadata": {},
     "output_type": "execute_result"
    }
   ],
   "source": [
    "relayed = pd.read_csv('relayed.txt', delimiter=\"|\", names=['slot','block_hash'])\n",
    "relayed['relayed'] = 't'\n",
    "relayed.head()"
   ]
  },
  {
   "cell_type": "code",
   "execution_count": 10,
   "metadata": {},
   "outputs": [
    {
     "data": {
      "text/html": [
       "<div>\n",
       "<style scoped>\n",
       "    .dataframe tbody tr th:only-of-type {\n",
       "        vertical-align: middle;\n",
       "    }\n",
       "\n",
       "    .dataframe tbody tr th {\n",
       "        vertical-align: top;\n",
       "    }\n",
       "\n",
       "    .dataframe thead th {\n",
       "        text-align: right;\n",
       "    }\n",
       "</style>\n",
       "<table border=\"1\" class=\"dataframe\">\n",
       "  <thead>\n",
       "    <tr style=\"text-align: right;\">\n",
       "      <th></th>\n",
       "      <th>slot_x</th>\n",
       "      <th>block_hash</th>\n",
       "      <th>builder_pubkey</th>\n",
       "      <th>received_at</th>\n",
       "      <th>eligible_at</th>\n",
       "      <th>optimistic</th>\n",
       "      <th>slot_y</th>\n",
       "      <th>relayed</th>\n",
       "    </tr>\n",
       "  </thead>\n",
       "  <tbody>\n",
       "    <tr>\n",
       "      <th>0</th>\n",
       "      <td>16871904</td>\n",
       "      <td>0x1445938da29fcecc6f5e2d08511531cedca70079973d...</td>\n",
       "      <td>0x81babeec8c9f2bb9c329fd8a3b176032fe0ab5f3b92a...</td>\n",
       "      <td>2023-03-20 22:37:58.620013</td>\n",
       "      <td>2023-03-20 22:37:58.914306</td>\n",
       "      <td>NaN</td>\n",
       "      <td>6043988.0</td>\n",
       "      <td>t</td>\n",
       "    </tr>\n",
       "    <tr>\n",
       "      <th>1</th>\n",
       "      <td>16871910</td>\n",
       "      <td>0x5f2be5f888663e9e60c24f06ab728cdd01871f5e51e3...</td>\n",
       "      <td>0xb5d883565500910f3f10f0a2e3a031139d972117a3b6...</td>\n",
       "      <td>2023-03-20 22:39:11.966011</td>\n",
       "      <td>2023-03-20 22:39:11.989962</td>\n",
       "      <td>t</td>\n",
       "      <td>NaN</td>\n",
       "      <td>NaN</td>\n",
       "    </tr>\n",
       "    <tr>\n",
       "      <th>2</th>\n",
       "      <td>16871914</td>\n",
       "      <td>0x235dae41a768108b682b9158acd2c01472c0ea317ae6...</td>\n",
       "      <td>0x82ba7cadcdfc1b156ba2c48c1c627428ba917858e62c...</td>\n",
       "      <td>2023-03-20 22:39:59.073824</td>\n",
       "      <td>2023-03-20 22:39:59.249626</td>\n",
       "      <td>t</td>\n",
       "      <td>NaN</td>\n",
       "      <td>NaN</td>\n",
       "    </tr>\n",
       "    <tr>\n",
       "      <th>3</th>\n",
       "      <td>16871916</td>\n",
       "      <td>0xd50312a2137a7c210a69b6a48c8d94f3c516c65538ea...</td>\n",
       "      <td>0xa971c4ee4ac5d47e0fb9e16be05981bfe51458f14c06...</td>\n",
       "      <td>2023-03-20 22:40:23.338373</td>\n",
       "      <td>2023-03-20 22:40:23.416462</td>\n",
       "      <td>t</td>\n",
       "      <td>6044000.0</td>\n",
       "      <td>t</td>\n",
       "    </tr>\n",
       "    <tr>\n",
       "      <th>4</th>\n",
       "      <td>16871918</td>\n",
       "      <td>0xf41e4339b5bde7b244fafe1014471a1f1005064131ae...</td>\n",
       "      <td>0x81beef03aafd3dd33ffd7deb337407142c80fea2690e...</td>\n",
       "      <td>2023-03-20 22:40:46.543002</td>\n",
       "      <td>2023-03-20 22:40:46.955778</td>\n",
       "      <td>NaN</td>\n",
       "      <td>6044002.0</td>\n",
       "      <td>t</td>\n",
       "    </tr>\n",
       "  </tbody>\n",
       "</table>\n",
       "</div>"
      ],
      "text/plain": [
       "     slot_x                                         block_hash  \\\n",
       "0  16871904  0x1445938da29fcecc6f5e2d08511531cedca70079973d...   \n",
       "1  16871910  0x5f2be5f888663e9e60c24f06ab728cdd01871f5e51e3...   \n",
       "2  16871914  0x235dae41a768108b682b9158acd2c01472c0ea317ae6...   \n",
       "3  16871916  0xd50312a2137a7c210a69b6a48c8d94f3c516c65538ea...   \n",
       "4  16871918  0xf41e4339b5bde7b244fafe1014471a1f1005064131ae...   \n",
       "\n",
       "                                      builder_pubkey  \\\n",
       "0  0x81babeec8c9f2bb9c329fd8a3b176032fe0ab5f3b92a...   \n",
       "1  0xb5d883565500910f3f10f0a2e3a031139d972117a3b6...   \n",
       "2  0x82ba7cadcdfc1b156ba2c48c1c627428ba917858e62c...   \n",
       "3  0xa971c4ee4ac5d47e0fb9e16be05981bfe51458f14c06...   \n",
       "4  0x81beef03aafd3dd33ffd7deb337407142c80fea2690e...   \n",
       "\n",
       "                 received_at                eligible_at optimistic     slot_y  \\\n",
       "0 2023-03-20 22:37:58.620013 2023-03-20 22:37:58.914306        NaN  6043988.0   \n",
       "1 2023-03-20 22:39:11.966011 2023-03-20 22:39:11.989962          t        NaN   \n",
       "2 2023-03-20 22:39:59.073824 2023-03-20 22:39:59.249626          t        NaN   \n",
       "3 2023-03-20 22:40:23.338373 2023-03-20 22:40:23.416462          t  6044000.0   \n",
       "4 2023-03-20 22:40:46.543002 2023-03-20 22:40:46.955778        NaN  6044002.0   \n",
       "\n",
       "  relayed  \n",
       "0       t  \n",
       "1     NaN  \n",
       "2     NaN  \n",
       "3       t  \n",
       "4       t  "
      ]
     },
     "execution_count": 10,
     "metadata": {},
     "output_type": "execute_result"
    }
   ],
   "source": [
    "seen_relayed = seen_bld.merge(relayed, on='block_hash', how='left')\n",
    "seen_relayed.head()"
   ]
  },
  {
   "cell_type": "code",
   "execution_count": 11,
   "metadata": {},
   "outputs": [
    {
     "data": {
      "text/html": [
       "<div>\n",
       "<style scoped>\n",
       "    .dataframe tbody tr th:only-of-type {\n",
       "        vertical-align: middle;\n",
       "    }\n",
       "\n",
       "    .dataframe tbody tr th {\n",
       "        vertical-align: top;\n",
       "    }\n",
       "\n",
       "    .dataframe thead th {\n",
       "        text-align: right;\n",
       "    }\n",
       "</style>\n",
       "<table border=\"1\" class=\"dataframe\">\n",
       "  <thead>\n",
       "    <tr style=\"text-align: right;\">\n",
       "      <th></th>\n",
       "      <th>slot_x</th>\n",
       "      <th>block_hash</th>\n",
       "      <th>builder_pubkey</th>\n",
       "      <th>received_at</th>\n",
       "      <th>eligible_at</th>\n",
       "      <th>optimistic</th>\n",
       "      <th>slot_y</th>\n",
       "      <th>relayed</th>\n",
       "    </tr>\n",
       "  </thead>\n",
       "  <tbody>\n",
       "    <tr>\n",
       "      <th>0</th>\n",
       "      <td>16871904</td>\n",
       "      <td>0x1445938da29fcecc6f5e2d08511531cedca70079973d...</td>\n",
       "      <td>0x81babeec8c9f2bb9c329fd8a3b176032fe0ab5f3b92a...</td>\n",
       "      <td>2023-03-20 22:37:58.620013</td>\n",
       "      <td>2023-03-20 22:37:58.914306</td>\n",
       "      <td>NaN</td>\n",
       "      <td>6043988.0</td>\n",
       "      <td>t</td>\n",
       "    </tr>\n",
       "    <tr>\n",
       "      <th>1</th>\n",
       "      <td>16871910</td>\n",
       "      <td>0x5f2be5f888663e9e60c24f06ab728cdd01871f5e51e3...</td>\n",
       "      <td>0xb5d883565500910f3f10f0a2e3a031139d972117a3b6...</td>\n",
       "      <td>2023-03-20 22:39:11.966011</td>\n",
       "      <td>2023-03-20 22:39:11.989962</td>\n",
       "      <td>t</td>\n",
       "      <td>NaN</td>\n",
       "      <td>NaN</td>\n",
       "    </tr>\n",
       "    <tr>\n",
       "      <th>2</th>\n",
       "      <td>16871914</td>\n",
       "      <td>0x235dae41a768108b682b9158acd2c01472c0ea317ae6...</td>\n",
       "      <td>0x82ba7cadcdfc1b156ba2c48c1c627428ba917858e62c...</td>\n",
       "      <td>2023-03-20 22:39:59.073824</td>\n",
       "      <td>2023-03-20 22:39:59.249626</td>\n",
       "      <td>t</td>\n",
       "      <td>NaN</td>\n",
       "      <td>NaN</td>\n",
       "    </tr>\n",
       "    <tr>\n",
       "      <th>3</th>\n",
       "      <td>16871916</td>\n",
       "      <td>0xd50312a2137a7c210a69b6a48c8d94f3c516c65538ea...</td>\n",
       "      <td>0xa971c4ee4ac5d47e0fb9e16be05981bfe51458f14c06...</td>\n",
       "      <td>2023-03-20 22:40:23.338373</td>\n",
       "      <td>2023-03-20 22:40:23.416462</td>\n",
       "      <td>t</td>\n",
       "      <td>6044000.0</td>\n",
       "      <td>t</td>\n",
       "    </tr>\n",
       "    <tr>\n",
       "      <th>4</th>\n",
       "      <td>16871918</td>\n",
       "      <td>0xf41e4339b5bde7b244fafe1014471a1f1005064131ae...</td>\n",
       "      <td>0x81beef03aafd3dd33ffd7deb337407142c80fea2690e...</td>\n",
       "      <td>2023-03-20 22:40:46.543002</td>\n",
       "      <td>2023-03-20 22:40:46.955778</td>\n",
       "      <td>NaN</td>\n",
       "      <td>6044002.0</td>\n",
       "      <td>t</td>\n",
       "    </tr>\n",
       "    <tr>\n",
       "      <th>...</th>\n",
       "      <td>...</td>\n",
       "      <td>...</td>\n",
       "      <td>...</td>\n",
       "      <td>...</td>\n",
       "      <td>...</td>\n",
       "      <td>...</td>\n",
       "      <td>...</td>\n",
       "      <td>...</td>\n",
       "    </tr>\n",
       "    <tr>\n",
       "      <th>4225</th>\n",
       "      <td>16879018</td>\n",
       "      <td>0x4e094bb4cda8ed9b24e7dccf0100f75de445d0fdd848...</td>\n",
       "      <td>0xb5d883565500910f3f10f0a2e3a031139d972117a3b6...</td>\n",
       "      <td>2023-03-21 22:37:11.232860</td>\n",
       "      <td>2023-03-21 22:37:11.261067</td>\n",
       "      <td>t</td>\n",
       "      <td>6051184.0</td>\n",
       "      <td>t</td>\n",
       "    </tr>\n",
       "    <tr>\n",
       "      <th>4226</th>\n",
       "      <td>16879019</td>\n",
       "      <td>0xe85ba81eae693128a60b542f6a801796c8f380afe515...</td>\n",
       "      <td>0x83d3495a2951065cf19c4d282afca0a635a39f6504bd...</td>\n",
       "      <td>2023-03-21 22:37:23.234242</td>\n",
       "      <td>2023-03-21 22:37:23.378112</td>\n",
       "      <td>t</td>\n",
       "      <td>NaN</td>\n",
       "      <td>NaN</td>\n",
       "    </tr>\n",
       "    <tr>\n",
       "      <th>4227</th>\n",
       "      <td>16879020</td>\n",
       "      <td>0xc2fc0e3120f302eb8df33523fbe2fb311d8fb9b6e313...</td>\n",
       "      <td>0x96a59d355b1f65e270b29981dd113625732539e955a1...</td>\n",
       "      <td>2023-03-21 22:37:35.711665</td>\n",
       "      <td>2023-03-21 22:37:35.730443</td>\n",
       "      <td>t</td>\n",
       "      <td>NaN</td>\n",
       "      <td>NaN</td>\n",
       "    </tr>\n",
       "    <tr>\n",
       "      <th>4228</th>\n",
       "      <td>16879021</td>\n",
       "      <td>0x861436af52620088f1c2dac5f05f69574965c4ab43ab...</td>\n",
       "      <td>0x96a59d355b1f65e270b29981dd113625732539e955a1...</td>\n",
       "      <td>2023-03-21 22:37:47.079153</td>\n",
       "      <td>2023-03-21 22:37:48.006876</td>\n",
       "      <td>t</td>\n",
       "      <td>NaN</td>\n",
       "      <td>NaN</td>\n",
       "    </tr>\n",
       "    <tr>\n",
       "      <th>4229</th>\n",
       "      <td>16879022</td>\n",
       "      <td>0x61bd6b84bc1f5ce40e91e5fed860c2c9fb51ecb32643...</td>\n",
       "      <td>0x96a59d355b1f65e270b29981dd113625732539e955a1...</td>\n",
       "      <td>2023-03-21 22:37:58.993760</td>\n",
       "      <td>2023-03-21 22:37:59.084569</td>\n",
       "      <td>t</td>\n",
       "      <td>6051188.0</td>\n",
       "      <td>t</td>\n",
       "    </tr>\n",
       "  </tbody>\n",
       "</table>\n",
       "<p>3686 rows × 8 columns</p>\n",
       "</div>"
      ],
      "text/plain": [
       "        slot_x                                         block_hash  \\\n",
       "0     16871904  0x1445938da29fcecc6f5e2d08511531cedca70079973d...   \n",
       "1     16871910  0x5f2be5f888663e9e60c24f06ab728cdd01871f5e51e3...   \n",
       "2     16871914  0x235dae41a768108b682b9158acd2c01472c0ea317ae6...   \n",
       "3     16871916  0xd50312a2137a7c210a69b6a48c8d94f3c516c65538ea...   \n",
       "4     16871918  0xf41e4339b5bde7b244fafe1014471a1f1005064131ae...   \n",
       "...        ...                                                ...   \n",
       "4225  16879018  0x4e094bb4cda8ed9b24e7dccf0100f75de445d0fdd848...   \n",
       "4226  16879019  0xe85ba81eae693128a60b542f6a801796c8f380afe515...   \n",
       "4227  16879020  0xc2fc0e3120f302eb8df33523fbe2fb311d8fb9b6e313...   \n",
       "4228  16879021  0x861436af52620088f1c2dac5f05f69574965c4ab43ab...   \n",
       "4229  16879022  0x61bd6b84bc1f5ce40e91e5fed860c2c9fb51ecb32643...   \n",
       "\n",
       "                                         builder_pubkey  \\\n",
       "0     0x81babeec8c9f2bb9c329fd8a3b176032fe0ab5f3b92a...   \n",
       "1     0xb5d883565500910f3f10f0a2e3a031139d972117a3b6...   \n",
       "2     0x82ba7cadcdfc1b156ba2c48c1c627428ba917858e62c...   \n",
       "3     0xa971c4ee4ac5d47e0fb9e16be05981bfe51458f14c06...   \n",
       "4     0x81beef03aafd3dd33ffd7deb337407142c80fea2690e...   \n",
       "...                                                 ...   \n",
       "4225  0xb5d883565500910f3f10f0a2e3a031139d972117a3b6...   \n",
       "4226  0x83d3495a2951065cf19c4d282afca0a635a39f6504bd...   \n",
       "4227  0x96a59d355b1f65e270b29981dd113625732539e955a1...   \n",
       "4228  0x96a59d355b1f65e270b29981dd113625732539e955a1...   \n",
       "4229  0x96a59d355b1f65e270b29981dd113625732539e955a1...   \n",
       "\n",
       "                    received_at                eligible_at optimistic  \\\n",
       "0    2023-03-20 22:37:58.620013 2023-03-20 22:37:58.914306        NaN   \n",
       "1    2023-03-20 22:39:11.966011 2023-03-20 22:39:11.989962          t   \n",
       "2    2023-03-20 22:39:59.073824 2023-03-20 22:39:59.249626          t   \n",
       "3    2023-03-20 22:40:23.338373 2023-03-20 22:40:23.416462          t   \n",
       "4    2023-03-20 22:40:46.543002 2023-03-20 22:40:46.955778        NaN   \n",
       "...                         ...                        ...        ...   \n",
       "4225 2023-03-21 22:37:11.232860 2023-03-21 22:37:11.261067          t   \n",
       "4226 2023-03-21 22:37:23.234242 2023-03-21 22:37:23.378112          t   \n",
       "4227 2023-03-21 22:37:35.711665 2023-03-21 22:37:35.730443          t   \n",
       "4228 2023-03-21 22:37:47.079153 2023-03-21 22:37:48.006876          t   \n",
       "4229 2023-03-21 22:37:58.993760 2023-03-21 22:37:59.084569          t   \n",
       "\n",
       "         slot_y relayed  \n",
       "0     6043988.0       t  \n",
       "1           NaN     NaN  \n",
       "2           NaN     NaN  \n",
       "3     6044000.0       t  \n",
       "4     6044002.0       t  \n",
       "...         ...     ...  \n",
       "4225  6051184.0       t  \n",
       "4226        NaN     NaN  \n",
       "4227        NaN     NaN  \n",
       "4228        NaN     NaN  \n",
       "4229  6051188.0       t  \n",
       "\n",
       "[3686 rows x 8 columns]"
      ]
     },
     "execution_count": 11,
     "metadata": {},
     "output_type": "execute_result"
    }
   ],
   "source": [
    "seen_relayed_nn = seen_relayed[seen_relayed['builder_pubkey'].notna()]\n",
    "seen_relayed_nn"
   ]
  },
  {
   "cell_type": "code",
   "execution_count": 12,
   "metadata": {},
   "outputs": [
    {
     "data": {
      "text/plain": [
       "(2002, 1684)"
      ]
     },
     "execution_count": 12,
     "metadata": {},
     "output_type": "execute_result"
    }
   ],
   "source": [
    "len(seen_relayed_nn[seen_relayed_nn['relayed'].notna()]), len(seen_relayed_nn[seen_relayed_nn['relayed'].isna()]) "
   ]
  },
  {
   "cell_type": "code",
   "execution_count": null,
   "metadata": {},
   "outputs": [],
   "source": [
    "# 2002     relayed blocks in the 24 hours\n",
    "# 1684 not-relayed blocks in the 24"
   ]
  },
  {
   "cell_type": "code",
   "execution_count": 217,
   "metadata": {},
   "outputs": [
    {
     "data": {
      "text/plain": [
       "(0.5431361909929463, 0.4568638090070537)"
      ]
     },
     "execution_count": 217,
     "metadata": {},
     "output_type": "execute_result"
    }
   ],
   "source": [
    "2002/3686, 1684/3686"
   ]
  },
  {
   "cell_type": "code",
   "execution_count": 13,
   "metadata": {},
   "outputs": [
    {
     "data": {
      "text/plain": [
       "74"
      ]
     },
     "execution_count": 13,
     "metadata": {},
     "output_type": "execute_result"
    }
   ],
   "source": [
    "np.count_nonzero(seen_relayed_nn[seen_relayed_nn['eligible_at'].isna()].relayed.values != 't')"
   ]
  },
  {
   "cell_type": "code",
   "execution_count": 18,
   "metadata": {},
   "outputs": [
    {
     "data": {
      "text/plain": [
       "0x83d3495a2951065cf19c4d282afca0a635a39f6504bd76282ed0138fe28680ec60fa3fd149e6d27a94a7d90e7b1fb640    25\n",
       "0x945fc51bf63613257792926c9155d7ae32db73155dc13bdfe61cd476f1fd2297b66601e8721b723cef11e4e6682e9d87     9\n",
       "0x978a35c39c41aadbe35ea29712bccffb117cc6ebcad4d86ea463d712af1dc80131d0c650dc29ba29ef27c881f43bd587     8\n",
       "0xb5d883565500910f3f10f0a2e3a031139d972117a3b67da191ff93ba00ba26502d9b65385b5bca5e7c587273e40f2319     7\n",
       "0x96a59d355b1f65e270b29981dd113625732539e955a1beeecbc471dd0196c4804574ff871d47ed34ff6d921061e9fc27     5\n",
       "0x8bc8d110f8b5207e7edc407e8fa033937ddfe8d2c6f18c12a6171400eb6e04d49238ba2b0a95e633d15558e6a706fbe4     4\n",
       "0x81beef03aafd3dd33ffd7deb337407142c80fea2690e5b3190cfc01bde5753f28982a7857c96172a75a234cb7bcb994f     3\n",
       "0xb194b2b8ec91a71c18f8483825234679299d146495a08db3bf3fb955e1d85a5fca77e88de93a74f4e32320fc922d3027     3\n",
       "0xa0d0dbdf7b5eda08c921dee5da7c78c34c9685db3e39e81eb91da94af29eaa50f1468813c86503bf41b4b51bf772800e     3\n",
       "0xa1dead01e65f0a0eee7b5170223f20c8f0cbf122eac3324d61afbdb33a8885ff8cab2ef514ac2c7698ae0d6289ef27fc     3\n",
       "0xb5a688d26d7858b38c44f44568d68fb94f112fc834cd225d32dc52f0277c2007babc861f6f157a6fc6c1dc25bf409046     2\n",
       "0x81babeec8c9f2bb9c329fd8a3b176032fe0ab5f3b92a3f44d4575a231c7bd9c31d10b6328ef68ed1e8c02a3dbc8e80f9     2\n",
       "0xa4fb63c2ceeee73d1f1711fadf1c5357ac98cecb999d053be613f469a48f7416999a4da35dd60a7824478661399e6772     2\n",
       "0xa971c4ee4ac5d47e0fb9e16be05981bfe51458f14c06b7a020304099c23d2d9952d4254cc50f291c385d15e7cae0cf9d     2\n",
       "0xb1b734b8dd42b4744dc98ea330c3d9da64b7afc050afed96875593c73937d530a773e35ddc4b480f9d2e1d5ba452a469     1\n",
       "Name: builder_pubkey, dtype: int64"
      ]
     },
     "execution_count": 18,
     "metadata": {},
     "output_type": "execute_result"
    }
   ],
   "source": [
    "seen_relayed_nn[seen_relayed_nn['eligible_at'].isna()]['builder_pubkey'].value_counts()"
   ]
  },
  {
   "cell_type": "code",
   "execution_count": 19,
   "metadata": {},
   "outputs": [
    {
     "data": {
      "text/plain": [
       "42"
      ]
     },
     "execution_count": 19,
     "metadata": {},
     "output_type": "execute_result"
    }
   ],
   "source": [
    "25+9+8"
   ]
  },
  {
   "cell_type": "code",
   "execution_count": 178,
   "metadata": {},
   "outputs": [],
   "source": [
    "# 74 blocks where we never marked the winning bid as eligible."
   ]
  },
  {
   "cell_type": "code",
   "execution_count": 180,
   "metadata": {},
   "outputs": [
    {
     "data": {
      "text/html": [
       "<div>\n",
       "<style scoped>\n",
       "    .dataframe tbody tr th:only-of-type {\n",
       "        vertical-align: middle;\n",
       "    }\n",
       "\n",
       "    .dataframe tbody tr th {\n",
       "        vertical-align: top;\n",
       "    }\n",
       "\n",
       "    .dataframe thead th {\n",
       "        text-align: right;\n",
       "    }\n",
       "</style>\n",
       "<table border=\"1\" class=\"dataframe\">\n",
       "  <thead>\n",
       "    <tr style=\"text-align: right;\">\n",
       "      <th></th>\n",
       "      <th>slot_x</th>\n",
       "      <th>block_hash</th>\n",
       "      <th>builder_pubkey</th>\n",
       "      <th>received_at</th>\n",
       "      <th>eligible_at</th>\n",
       "      <th>optimistic</th>\n",
       "      <th>slot_y</th>\n",
       "      <th>relayed</th>\n",
       "    </tr>\n",
       "  </thead>\n",
       "  <tbody>\n",
       "    <tr>\n",
       "      <th>1</th>\n",
       "      <td>16871910</td>\n",
       "      <td>0x5f2be5f888663e9e60c24f06ab728cdd01871f5e51e3...</td>\n",
       "      <td>0xb5d883565500910f3f10f0a2e3a031139d972117a3b6...</td>\n",
       "      <td>2023-03-20 22:39:11.966011</td>\n",
       "      <td>2023-03-20 22:39:11.989962</td>\n",
       "      <td>t</td>\n",
       "      <td>NaN</td>\n",
       "      <td>NaN</td>\n",
       "    </tr>\n",
       "    <tr>\n",
       "      <th>2</th>\n",
       "      <td>16871914</td>\n",
       "      <td>0x235dae41a768108b682b9158acd2c01472c0ea317ae6...</td>\n",
       "      <td>0x82ba7cadcdfc1b156ba2c48c1c627428ba917858e62c...</td>\n",
       "      <td>2023-03-20 22:39:59.073824</td>\n",
       "      <td>2023-03-20 22:39:59.249626</td>\n",
       "      <td>t</td>\n",
       "      <td>NaN</td>\n",
       "      <td>NaN</td>\n",
       "    </tr>\n",
       "    <tr>\n",
       "      <th>6</th>\n",
       "      <td>16871920</td>\n",
       "      <td>0x152f6d281058cd2c959639c62c7ce61110cf3186d20f...</td>\n",
       "      <td>0x8b8edce58fafe098763e4fabdeb318d347f9238845f2...</td>\n",
       "      <td>2023-03-20 22:41:11.139076</td>\n",
       "      <td>2023-03-20 22:41:12.440683</td>\n",
       "      <td>NaN</td>\n",
       "      <td>NaN</td>\n",
       "      <td>NaN</td>\n",
       "    </tr>\n",
       "    <tr>\n",
       "      <th>12</th>\n",
       "      <td>16871930</td>\n",
       "      <td>0x6b74e0664669f3d274455e403ca6b88b59d7f7ed72fb...</td>\n",
       "      <td>0xb194b2b8ec91a71c18f8483825234679299d146495a0...</td>\n",
       "      <td>2023-03-20 22:43:11.404505</td>\n",
       "      <td>2023-03-20 22:43:11.435239</td>\n",
       "      <td>t</td>\n",
       "      <td>NaN</td>\n",
       "      <td>NaN</td>\n",
       "    </tr>\n",
       "    <tr>\n",
       "      <th>13</th>\n",
       "      <td>16871932</td>\n",
       "      <td>0xa8efda74a42966933427a63ae915f00f05c931a45414...</td>\n",
       "      <td>0x81beef03aafd3dd33ffd7deb337407142c80fea2690e...</td>\n",
       "      <td>2023-03-20 22:43:34.875975</td>\n",
       "      <td>2023-03-20 22:43:35.703212</td>\n",
       "      <td>NaN</td>\n",
       "      <td>NaN</td>\n",
       "      <td>NaN</td>\n",
       "    </tr>\n",
       "    <tr>\n",
       "      <th>...</th>\n",
       "      <td>...</td>\n",
       "      <td>...</td>\n",
       "      <td>...</td>\n",
       "      <td>...</td>\n",
       "      <td>...</td>\n",
       "      <td>...</td>\n",
       "      <td>...</td>\n",
       "      <td>...</td>\n",
       "    </tr>\n",
       "    <tr>\n",
       "      <th>4218</th>\n",
       "      <td>16879007</td>\n",
       "      <td>0xf9487801495a1eda65e44b647e0d0cc6c920ef1b732b...</td>\n",
       "      <td>0xa0d0dbdf7b5eda08c921dee5da7c78c34c9685db3e39...</td>\n",
       "      <td>2023-03-21 22:34:58.036606</td>\n",
       "      <td>2023-03-21 22:34:58.137933</td>\n",
       "      <td>t</td>\n",
       "      <td>NaN</td>\n",
       "      <td>NaN</td>\n",
       "    </tr>\n",
       "    <tr>\n",
       "      <th>4220</th>\n",
       "      <td>16879009</td>\n",
       "      <td>0xc6f22051acf0072454e1c2eca2ff6f96ac34cf998627...</td>\n",
       "      <td>0x978a35c39c41aadbe35ea29712bccffb117cc6ebcad4...</td>\n",
       "      <td>2023-03-21 22:35:23.103121</td>\n",
       "      <td>2023-03-21 22:35:23.849945</td>\n",
       "      <td>t</td>\n",
       "      <td>NaN</td>\n",
       "      <td>NaN</td>\n",
       "    </tr>\n",
       "    <tr>\n",
       "      <th>4226</th>\n",
       "      <td>16879019</td>\n",
       "      <td>0xe85ba81eae693128a60b542f6a801796c8f380afe515...</td>\n",
       "      <td>0x83d3495a2951065cf19c4d282afca0a635a39f6504bd...</td>\n",
       "      <td>2023-03-21 22:37:23.234242</td>\n",
       "      <td>2023-03-21 22:37:23.378112</td>\n",
       "      <td>t</td>\n",
       "      <td>NaN</td>\n",
       "      <td>NaN</td>\n",
       "    </tr>\n",
       "    <tr>\n",
       "      <th>4227</th>\n",
       "      <td>16879020</td>\n",
       "      <td>0xc2fc0e3120f302eb8df33523fbe2fb311d8fb9b6e313...</td>\n",
       "      <td>0x96a59d355b1f65e270b29981dd113625732539e955a1...</td>\n",
       "      <td>2023-03-21 22:37:35.711665</td>\n",
       "      <td>2023-03-21 22:37:35.730443</td>\n",
       "      <td>t</td>\n",
       "      <td>NaN</td>\n",
       "      <td>NaN</td>\n",
       "    </tr>\n",
       "    <tr>\n",
       "      <th>4228</th>\n",
       "      <td>16879021</td>\n",
       "      <td>0x861436af52620088f1c2dac5f05f69574965c4ab43ab...</td>\n",
       "      <td>0x96a59d355b1f65e270b29981dd113625732539e955a1...</td>\n",
       "      <td>2023-03-21 22:37:47.079153</td>\n",
       "      <td>2023-03-21 22:37:48.006876</td>\n",
       "      <td>t</td>\n",
       "      <td>NaN</td>\n",
       "      <td>NaN</td>\n",
       "    </tr>\n",
       "  </tbody>\n",
       "</table>\n",
       "<p>1610 rows × 8 columns</p>\n",
       "</div>"
      ],
      "text/plain": [
       "        slot_x                                         block_hash  \\\n",
       "1     16871910  0x5f2be5f888663e9e60c24f06ab728cdd01871f5e51e3...   \n",
       "2     16871914  0x235dae41a768108b682b9158acd2c01472c0ea317ae6...   \n",
       "6     16871920  0x152f6d281058cd2c959639c62c7ce61110cf3186d20f...   \n",
       "12    16871930  0x6b74e0664669f3d274455e403ca6b88b59d7f7ed72fb...   \n",
       "13    16871932  0xa8efda74a42966933427a63ae915f00f05c931a45414...   \n",
       "...        ...                                                ...   \n",
       "4218  16879007  0xf9487801495a1eda65e44b647e0d0cc6c920ef1b732b...   \n",
       "4220  16879009  0xc6f22051acf0072454e1c2eca2ff6f96ac34cf998627...   \n",
       "4226  16879019  0xe85ba81eae693128a60b542f6a801796c8f380afe515...   \n",
       "4227  16879020  0xc2fc0e3120f302eb8df33523fbe2fb311d8fb9b6e313...   \n",
       "4228  16879021  0x861436af52620088f1c2dac5f05f69574965c4ab43ab...   \n",
       "\n",
       "                                         builder_pubkey  \\\n",
       "1     0xb5d883565500910f3f10f0a2e3a031139d972117a3b6...   \n",
       "2     0x82ba7cadcdfc1b156ba2c48c1c627428ba917858e62c...   \n",
       "6     0x8b8edce58fafe098763e4fabdeb318d347f9238845f2...   \n",
       "12    0xb194b2b8ec91a71c18f8483825234679299d146495a0...   \n",
       "13    0x81beef03aafd3dd33ffd7deb337407142c80fea2690e...   \n",
       "...                                                 ...   \n",
       "4218  0xa0d0dbdf7b5eda08c921dee5da7c78c34c9685db3e39...   \n",
       "4220  0x978a35c39c41aadbe35ea29712bccffb117cc6ebcad4...   \n",
       "4226  0x83d3495a2951065cf19c4d282afca0a635a39f6504bd...   \n",
       "4227  0x96a59d355b1f65e270b29981dd113625732539e955a1...   \n",
       "4228  0x96a59d355b1f65e270b29981dd113625732539e955a1...   \n",
       "\n",
       "                    received_at                eligible_at optimistic  slot_y  \\\n",
       "1    2023-03-20 22:39:11.966011 2023-03-20 22:39:11.989962          t     NaN   \n",
       "2    2023-03-20 22:39:59.073824 2023-03-20 22:39:59.249626          t     NaN   \n",
       "6    2023-03-20 22:41:11.139076 2023-03-20 22:41:12.440683        NaN     NaN   \n",
       "12   2023-03-20 22:43:11.404505 2023-03-20 22:43:11.435239          t     NaN   \n",
       "13   2023-03-20 22:43:34.875975 2023-03-20 22:43:35.703212        NaN     NaN   \n",
       "...                         ...                        ...        ...     ...   \n",
       "4218 2023-03-21 22:34:58.036606 2023-03-21 22:34:58.137933          t     NaN   \n",
       "4220 2023-03-21 22:35:23.103121 2023-03-21 22:35:23.849945          t     NaN   \n",
       "4226 2023-03-21 22:37:23.234242 2023-03-21 22:37:23.378112          t     NaN   \n",
       "4227 2023-03-21 22:37:35.711665 2023-03-21 22:37:35.730443          t     NaN   \n",
       "4228 2023-03-21 22:37:47.079153 2023-03-21 22:37:48.006876          t     NaN   \n",
       "\n",
       "     relayed  \n",
       "1        NaN  \n",
       "2        NaN  \n",
       "6        NaN  \n",
       "12       NaN  \n",
       "13       NaN  \n",
       "...      ...  \n",
       "4218     NaN  \n",
       "4220     NaN  \n",
       "4226     NaN  \n",
       "4227     NaN  \n",
       "4228     NaN  \n",
       "\n",
       "[1610 rows x 8 columns]"
      ]
     },
     "execution_count": 180,
     "metadata": {},
     "output_type": "execute_result"
    }
   ],
   "source": [
    "seen_not_relayed = seen_relayed_nn[seen_relayed_nn['eligible_at'].notna()]\n",
    "seen_not_relayed = seen_not_relayed[seen_not_relayed['relayed'].isna()]\n",
    "seen_not_relayed"
   ]
  },
  {
   "cell_type": "code",
   "execution_count": 182,
   "metadata": {},
   "outputs": [
    {
     "data": {
      "text/plain": [
       "({'0x80c7311597316f871363f8395b6a8d056071d90d8eb27defd14759e8522786061b13728623452740ba05055f5ba9d3d5',\n",
       "  '0x81babeec8c9f2bb9c329fd8a3b176032fe0ab5f3b92a3f44d4575a231c7bd9c31d10b6328ef68ed1e8c02a3dbc8e80f9',\n",
       "  '0x81beef03aafd3dd33ffd7deb337407142c80fea2690e5b3190cfc01bde5753f28982a7857c96172a75a234cb7bcb994f',\n",
       "  '0x89551cb5def7a710d58c3f3c0b234266df9cab138d6bd79e58b03c3681030751f1aab2e2b08a706e2aba6db23ee1fb8b',\n",
       "  '0x8b8edce58fafe098763e4fabdeb318d347f9238845f22c507e813186ea7d44adecd3028f9288048f9ad3bc7c7c735fba',\n",
       "  '0x8ed74896fb129ac7f48d6a2908400044103b65d5c4e8f63feafd849f90fc174a4b71206a51b9453c12292bab3a92a4a2',\n",
       "  '0x94aa4ee318f39b56547a253700917982f4b737a49fc3f99ce08fa715e488e673d88a60f7d2cf9145a05127f17dcb7c67',\n",
       "  '0x965a05a1ba338f4bbbb97407d70659f4cea2146d83ac5da6c2f3de824713c927dcba706f35322d65764912e7756103e2',\n",
       "  '0x976e63c505050e25b70b39238990c78ddf0948685eb8c5687d17ba5089541f37dd3c45999f2db449eac298b1d4856013',\n",
       "  '0xa1dead01e65f0a0eee7b5170223f20c8f0cbf122eac3324d61afbdb33a8885ff8cab2ef514ac2c7698ae0d6289ef27fc',\n",
       "  '0xb8fceec09779ff758918a849bfe8ab43cea79f6a98320af0af5b030f6a7850fcc5883cb965d02efb10eed1ffa987e899'},\n",
       " 467)"
      ]
     },
     "execution_count": 182,
     "metadata": {},
     "output_type": "execute_result"
    }
   ],
   "source": [
    "seen_not_relayed_nopt = seen_not_relayed[seen_not_relayed['optimistic'].isna()]\n",
    "set(seen_not_relayed_nopt.builder_pubkey), len(seen_not_relayed_nopt)"
   ]
  },
  {
   "cell_type": "code",
   "execution_count": 219,
   "metadata": {},
   "outputs": [
    {
     "data": {
      "text/plain": [
       "0.29006211180124225"
      ]
     },
     "execution_count": 219,
     "metadata": {},
     "output_type": "execute_result"
    }
   ],
   "source": [
    "467/1610"
   ]
  },
  {
   "cell_type": "code",
   "execution_count": 209,
   "metadata": {},
   "outputs": [
    {
     "data": {
      "text/plain": [
       "description\n",
       "flashbots      388\n",
       "bloxroute       68\n",
       "payload          4\n",
       "0x69             4\n",
       "eth-builder      3\n",
       "dtype: int64"
      ]
     },
     "execution_count": 209,
     "metadata": {},
     "output_type": "execute_result"
    }
   ],
   "source": [
    "all_builders = pd.read_csv('allbuilders.txt', delimiter='|', names=['builder_pubkey', 'description'])\n",
    "seen_not_relayed_nopt_desc = seen_not_relayed_nopt.merge(all_builders, on='builder_pubkey', how='left')\n",
    "seen_not_relayed_nopt_desc[['description']].value_counts()"
   ]
  },
  {
   "cell_type": "code",
   "execution_count": 188,
   "metadata": {},
   "outputs": [
    {
     "data": {
      "text/plain": [
       "1143"
      ]
     },
     "execution_count": 188,
     "metadata": {},
     "output_type": "execute_result"
    }
   ],
   "source": [
    "seen_not_relayed_opt = seen_not_relayed[seen_not_relayed['optimistic'].notna()]\n",
    "len(seen_not_relayed_opt)"
   ]
  },
  {
   "cell_type": "code",
   "execution_count": 189,
   "metadata": {},
   "outputs": [
    {
     "data": {
      "text/html": [
       "<div>\n",
       "<style scoped>\n",
       "    .dataframe tbody tr th:only-of-type {\n",
       "        vertical-align: middle;\n",
       "    }\n",
       "\n",
       "    .dataframe tbody tr th {\n",
       "        vertical-align: top;\n",
       "    }\n",
       "\n",
       "    .dataframe thead th {\n",
       "        text-align: right;\n",
       "    }\n",
       "</style>\n",
       "<table border=\"1\" class=\"dataframe\">\n",
       "  <thead>\n",
       "    <tr style=\"text-align: right;\">\n",
       "      <th></th>\n",
       "      <th>slot_x</th>\n",
       "      <th>block_hash</th>\n",
       "      <th>builder_pubkey</th>\n",
       "      <th>received_at</th>\n",
       "      <th>eligible_at</th>\n",
       "      <th>optimistic</th>\n",
       "      <th>slot_y</th>\n",
       "      <th>relayed</th>\n",
       "    </tr>\n",
       "  </thead>\n",
       "  <tbody>\n",
       "    <tr>\n",
       "      <th>1</th>\n",
       "      <td>16871910</td>\n",
       "      <td>0x5f2be5f888663e9e60c24f06ab728cdd01871f5e51e3...</td>\n",
       "      <td>0xb5d883565500910f3f10f0a2e3a031139d972117a3b6...</td>\n",
       "      <td>2023-03-20 22:39:11.966011</td>\n",
       "      <td>2023-03-20 22:39:11.989962</td>\n",
       "      <td>t</td>\n",
       "      <td>NaN</td>\n",
       "      <td>NaN</td>\n",
       "    </tr>\n",
       "    <tr>\n",
       "      <th>2</th>\n",
       "      <td>16871914</td>\n",
       "      <td>0x235dae41a768108b682b9158acd2c01472c0ea317ae6...</td>\n",
       "      <td>0x82ba7cadcdfc1b156ba2c48c1c627428ba917858e62c...</td>\n",
       "      <td>2023-03-20 22:39:59.073824</td>\n",
       "      <td>2023-03-20 22:39:59.249626</td>\n",
       "      <td>t</td>\n",
       "      <td>NaN</td>\n",
       "      <td>NaN</td>\n",
       "    </tr>\n",
       "    <tr>\n",
       "      <th>12</th>\n",
       "      <td>16871930</td>\n",
       "      <td>0x6b74e0664669f3d274455e403ca6b88b59d7f7ed72fb...</td>\n",
       "      <td>0xb194b2b8ec91a71c18f8483825234679299d146495a0...</td>\n",
       "      <td>2023-03-20 22:43:11.404505</td>\n",
       "      <td>2023-03-20 22:43:11.435239</td>\n",
       "      <td>t</td>\n",
       "      <td>NaN</td>\n",
       "      <td>NaN</td>\n",
       "    </tr>\n",
       "    <tr>\n",
       "      <th>16</th>\n",
       "      <td>16871935</td>\n",
       "      <td>0x4f2343fb49205c75b3673f8e4ba3f7fbfcf3f3ef0fa0...</td>\n",
       "      <td>0x978a35c39c41aadbe35ea29712bccffb117cc6ebcad4...</td>\n",
       "      <td>2023-03-20 22:44:11.114526</td>\n",
       "      <td>2023-03-20 22:44:11.151341</td>\n",
       "      <td>t</td>\n",
       "      <td>NaN</td>\n",
       "      <td>NaN</td>\n",
       "    </tr>\n",
       "    <tr>\n",
       "      <th>17</th>\n",
       "      <td>16871936</td>\n",
       "      <td>0xf8374b63942074ccbb0f67cdeac690f167ad74ec81c5...</td>\n",
       "      <td>0xa0d0dbdf7b5eda08c921dee5da7c78c34c9685db3e39...</td>\n",
       "      <td>2023-03-20 22:44:23.225864</td>\n",
       "      <td>2023-03-20 22:44:23.452943</td>\n",
       "      <td>t</td>\n",
       "      <td>NaN</td>\n",
       "      <td>NaN</td>\n",
       "    </tr>\n",
       "  </tbody>\n",
       "</table>\n",
       "</div>"
      ],
      "text/plain": [
       "      slot_x                                         block_hash  \\\n",
       "1   16871910  0x5f2be5f888663e9e60c24f06ab728cdd01871f5e51e3...   \n",
       "2   16871914  0x235dae41a768108b682b9158acd2c01472c0ea317ae6...   \n",
       "12  16871930  0x6b74e0664669f3d274455e403ca6b88b59d7f7ed72fb...   \n",
       "16  16871935  0x4f2343fb49205c75b3673f8e4ba3f7fbfcf3f3ef0fa0...   \n",
       "17  16871936  0xf8374b63942074ccbb0f67cdeac690f167ad74ec81c5...   \n",
       "\n",
       "                                       builder_pubkey  \\\n",
       "1   0xb5d883565500910f3f10f0a2e3a031139d972117a3b6...   \n",
       "2   0x82ba7cadcdfc1b156ba2c48c1c627428ba917858e62c...   \n",
       "12  0xb194b2b8ec91a71c18f8483825234679299d146495a0...   \n",
       "16  0x978a35c39c41aadbe35ea29712bccffb117cc6ebcad4...   \n",
       "17  0xa0d0dbdf7b5eda08c921dee5da7c78c34c9685db3e39...   \n",
       "\n",
       "                  received_at                eligible_at optimistic  slot_y  \\\n",
       "1  2023-03-20 22:39:11.966011 2023-03-20 22:39:11.989962          t     NaN   \n",
       "2  2023-03-20 22:39:59.073824 2023-03-20 22:39:59.249626          t     NaN   \n",
       "12 2023-03-20 22:43:11.404505 2023-03-20 22:43:11.435239          t     NaN   \n",
       "16 2023-03-20 22:44:11.114526 2023-03-20 22:44:11.151341          t     NaN   \n",
       "17 2023-03-20 22:44:23.225864 2023-03-20 22:44:23.452943          t     NaN   \n",
       "\n",
       "   relayed  \n",
       "1      NaN  \n",
       "2      NaN  \n",
       "12     NaN  \n",
       "16     NaN  \n",
       "17     NaN  "
      ]
     },
     "execution_count": 189,
     "metadata": {},
     "output_type": "execute_result"
    }
   ],
   "source": [
    "seen_not_relayed_opt.head()"
   ]
  },
  {
   "cell_type": "code",
   "execution_count": 190,
   "metadata": {},
   "outputs": [
    {
     "name": "stderr",
     "output_type": "stream",
     "text": [
      "<ipython-input-190-66b840e58df0>:1: SettingWithCopyWarning: \n",
      "A value is trying to be set on a copy of a slice from a DataFrame.\n",
      "Try using .loc[row_indexer,col_indexer] = value instead\n",
      "\n",
      "See the caveats in the documentation: https://pandas.pydata.org/pandas-docs/stable/user_guide/indexing.html#returning-a-view-versus-a-copy\n",
      "  seen_not_relayed_opt['slot_boundary'] = np.asarray([pd.Timestamp(x).round(freq='12S') for x in seen_not_relayed_opt['received_at'].values])\n"
     ]
    },
    {
     "data": {
      "text/html": [
       "<div>\n",
       "<style scoped>\n",
       "    .dataframe tbody tr th:only-of-type {\n",
       "        vertical-align: middle;\n",
       "    }\n",
       "\n",
       "    .dataframe tbody tr th {\n",
       "        vertical-align: top;\n",
       "    }\n",
       "\n",
       "    .dataframe thead th {\n",
       "        text-align: right;\n",
       "    }\n",
       "</style>\n",
       "<table border=\"1\" class=\"dataframe\">\n",
       "  <thead>\n",
       "    <tr style=\"text-align: right;\">\n",
       "      <th></th>\n",
       "      <th>slot_x</th>\n",
       "      <th>block_hash</th>\n",
       "      <th>builder_pubkey</th>\n",
       "      <th>received_at</th>\n",
       "      <th>eligible_at</th>\n",
       "      <th>optimistic</th>\n",
       "      <th>slot_y</th>\n",
       "      <th>relayed</th>\n",
       "      <th>slot_boundary</th>\n",
       "    </tr>\n",
       "  </thead>\n",
       "  <tbody>\n",
       "    <tr>\n",
       "      <th>1</th>\n",
       "      <td>16871910</td>\n",
       "      <td>0x5f2be5f888663e9e60c24f06ab728cdd01871f5e51e3...</td>\n",
       "      <td>0xb5d883565500910f3f10f0a2e3a031139d972117a3b6...</td>\n",
       "      <td>2023-03-20 22:39:11.966011</td>\n",
       "      <td>2023-03-20 22:39:11.989962</td>\n",
       "      <td>t</td>\n",
       "      <td>NaN</td>\n",
       "      <td>NaN</td>\n",
       "      <td>2023-03-20 22:39:12</td>\n",
       "    </tr>\n",
       "    <tr>\n",
       "      <th>2</th>\n",
       "      <td>16871914</td>\n",
       "      <td>0x235dae41a768108b682b9158acd2c01472c0ea317ae6...</td>\n",
       "      <td>0x82ba7cadcdfc1b156ba2c48c1c627428ba917858e62c...</td>\n",
       "      <td>2023-03-20 22:39:59.073824</td>\n",
       "      <td>2023-03-20 22:39:59.249626</td>\n",
       "      <td>t</td>\n",
       "      <td>NaN</td>\n",
       "      <td>NaN</td>\n",
       "      <td>2023-03-20 22:40:00</td>\n",
       "    </tr>\n",
       "    <tr>\n",
       "      <th>12</th>\n",
       "      <td>16871930</td>\n",
       "      <td>0x6b74e0664669f3d274455e403ca6b88b59d7f7ed72fb...</td>\n",
       "      <td>0xb194b2b8ec91a71c18f8483825234679299d146495a0...</td>\n",
       "      <td>2023-03-20 22:43:11.404505</td>\n",
       "      <td>2023-03-20 22:43:11.435239</td>\n",
       "      <td>t</td>\n",
       "      <td>NaN</td>\n",
       "      <td>NaN</td>\n",
       "      <td>2023-03-20 22:43:12</td>\n",
       "    </tr>\n",
       "    <tr>\n",
       "      <th>16</th>\n",
       "      <td>16871935</td>\n",
       "      <td>0x4f2343fb49205c75b3673f8e4ba3f7fbfcf3f3ef0fa0...</td>\n",
       "      <td>0x978a35c39c41aadbe35ea29712bccffb117cc6ebcad4...</td>\n",
       "      <td>2023-03-20 22:44:11.114526</td>\n",
       "      <td>2023-03-20 22:44:11.151341</td>\n",
       "      <td>t</td>\n",
       "      <td>NaN</td>\n",
       "      <td>NaN</td>\n",
       "      <td>2023-03-20 22:44:12</td>\n",
       "    </tr>\n",
       "    <tr>\n",
       "      <th>17</th>\n",
       "      <td>16871936</td>\n",
       "      <td>0xf8374b63942074ccbb0f67cdeac690f167ad74ec81c5...</td>\n",
       "      <td>0xa0d0dbdf7b5eda08c921dee5da7c78c34c9685db3e39...</td>\n",
       "      <td>2023-03-20 22:44:23.225864</td>\n",
       "      <td>2023-03-20 22:44:23.452943</td>\n",
       "      <td>t</td>\n",
       "      <td>NaN</td>\n",
       "      <td>NaN</td>\n",
       "      <td>2023-03-20 22:44:24</td>\n",
       "    </tr>\n",
       "  </tbody>\n",
       "</table>\n",
       "</div>"
      ],
      "text/plain": [
       "      slot_x                                         block_hash  \\\n",
       "1   16871910  0x5f2be5f888663e9e60c24f06ab728cdd01871f5e51e3...   \n",
       "2   16871914  0x235dae41a768108b682b9158acd2c01472c0ea317ae6...   \n",
       "12  16871930  0x6b74e0664669f3d274455e403ca6b88b59d7f7ed72fb...   \n",
       "16  16871935  0x4f2343fb49205c75b3673f8e4ba3f7fbfcf3f3ef0fa0...   \n",
       "17  16871936  0xf8374b63942074ccbb0f67cdeac690f167ad74ec81c5...   \n",
       "\n",
       "                                       builder_pubkey  \\\n",
       "1   0xb5d883565500910f3f10f0a2e3a031139d972117a3b6...   \n",
       "2   0x82ba7cadcdfc1b156ba2c48c1c627428ba917858e62c...   \n",
       "12  0xb194b2b8ec91a71c18f8483825234679299d146495a0...   \n",
       "16  0x978a35c39c41aadbe35ea29712bccffb117cc6ebcad4...   \n",
       "17  0xa0d0dbdf7b5eda08c921dee5da7c78c34c9685db3e39...   \n",
       "\n",
       "                  received_at                eligible_at optimistic  slot_y  \\\n",
       "1  2023-03-20 22:39:11.966011 2023-03-20 22:39:11.989962          t     NaN   \n",
       "2  2023-03-20 22:39:59.073824 2023-03-20 22:39:59.249626          t     NaN   \n",
       "12 2023-03-20 22:43:11.404505 2023-03-20 22:43:11.435239          t     NaN   \n",
       "16 2023-03-20 22:44:11.114526 2023-03-20 22:44:11.151341          t     NaN   \n",
       "17 2023-03-20 22:44:23.225864 2023-03-20 22:44:23.452943          t     NaN   \n",
       "\n",
       "   relayed       slot_boundary  \n",
       "1      NaN 2023-03-20 22:39:12  \n",
       "2      NaN 2023-03-20 22:40:00  \n",
       "12     NaN 2023-03-20 22:43:12  \n",
       "16     NaN 2023-03-20 22:44:12  \n",
       "17     NaN 2023-03-20 22:44:24  "
      ]
     },
     "execution_count": 190,
     "metadata": {},
     "output_type": "execute_result"
    }
   ],
   "source": [
    "seen_not_relayed_opt['slot_boundary'] = np.asarray([pd.Timestamp(x).round(freq='12S') for x in seen_not_relayed_opt['received_at'].values])\n",
    "seen_not_relayed_opt.head()"
   ]
  },
  {
   "cell_type": "code",
   "execution_count": 192,
   "metadata": {},
   "outputs": [
    {
     "name": "stderr",
     "output_type": "stream",
     "text": [
      "<ipython-input-192-6296413597ec>:1: SettingWithCopyWarning: \n",
      "A value is trying to be set on a copy of a slice from a DataFrame.\n",
      "Try using .loc[row_indexer,col_indexer] = value instead\n",
      "\n",
      "See the caveats in the documentation: https://pandas.pydata.org/pandas-docs/stable/user_guide/indexing.html#returning-a-view-versus-a-copy\n",
      "  seen_not_relayed_opt['diff'] = [v.total_seconds() for v in seen_not_relayed_opt['slot_boundary'] - seen_not_relayed_opt['eligible_at']]\n"
     ]
    }
   ],
   "source": [
    "seen_not_relayed_opt['diff'] = [v.total_seconds() for v in seen_not_relayed_opt['slot_boundary'] - seen_not_relayed_opt['eligible_at']]"
   ]
  },
  {
   "cell_type": "code",
   "execution_count": 195,
   "metadata": {},
   "outputs": [
    {
     "data": {
      "text/plain": [
       "1       0.010038\n",
       "2       0.750374\n",
       "12      0.564761\n",
       "16      0.848659\n",
       "17      0.547057\n",
       "          ...   \n",
       "4218    1.862067\n",
       "4220    0.150055\n",
       "4226    0.621888\n",
       "4227    0.269557\n",
       "4228   -0.006876\n",
       "Name: diff, Length: 1143, dtype: float64"
      ]
     },
     "execution_count": 195,
     "metadata": {},
     "output_type": "execute_result"
    }
   ],
   "source": [
    "seen_not_relayed_opt['diff']"
   ]
  },
  {
   "cell_type": "code",
   "execution_count": 210,
   "metadata": {},
   "outputs": [
    {
     "data": {
      "image/png": "[encoded data removed]",
      "text/plain": [
       "<Figure size 576x360 with 1 Axes>"
      ]
     },
     "metadata": {
      "needs_background": "light"
     },
     "output_type": "display_data"
    }
   ],
   "source": [
    "f, ax = plt.subplots(figsize=(8,5))\n",
    "ax.hist(seen_not_relayed_opt['diff'], bins=100, color='red', alpha=0.3)\n",
    "ax.set_xlabel('boundary - eligible at', size=14)\n",
    "plt.show()"
   ]
  },
  {
   "cell_type": "code",
   "execution_count": 230,
   "metadata": {},
   "outputs": [
    {
     "data": {
      "text/plain": [
       "(0.656855, 0.6352542292213473)"
      ]
     },
     "execution_count": 230,
     "metadata": {},
     "output_type": "execute_result"
    }
   ],
   "source": [
    "np.percentile(seen_not_relayed_opt['diff'].values, 50), seen_not_relayed_opt['diff'].values.mean()"
   ]
  },
  {
   "cell_type": "code",
   "execution_count": 201,
   "metadata": {},
   "outputs": [
    {
     "data": {
      "text/plain": [
       "(965, 178)"
      ]
     },
     "execution_count": 201,
     "metadata": {},
     "output_type": "execute_result"
    }
   ],
   "source": [
    "len(seen_not_relayed_opt[seen_not_relayed_opt['diff']>0]), len(seen_not_relayed_opt[seen_not_relayed_opt['diff']<-0])"
   ]
  },
  {
   "cell_type": "code",
   "execution_count": 220,
   "metadata": {},
   "outputs": [
    {
     "data": {
      "text/plain": [
       "0.8442694663167104"
      ]
     },
     "execution_count": 220,
     "metadata": {},
     "output_type": "execute_result"
    }
   ],
   "source": [
    "965/1143"
   ]
  },
  {
   "cell_type": "code",
   "execution_count": 213,
   "metadata": {},
   "outputs": [
    {
     "data": {
      "text/html": [
       "<div>\n",
       "<style scoped>\n",
       "    .dataframe tbody tr th:only-of-type {\n",
       "        vertical-align: middle;\n",
       "    }\n",
       "\n",
       "    .dataframe tbody tr th {\n",
       "        vertical-align: top;\n",
       "    }\n",
       "\n",
       "    .dataframe thead th {\n",
       "        text-align: right;\n",
       "    }\n",
       "</style>\n",
       "<table border=\"1\" class=\"dataframe\">\n",
       "  <thead>\n",
       "    <tr style=\"text-align: right;\">\n",
       "      <th></th>\n",
       "      <th>slot_x</th>\n",
       "      <th>block_hash</th>\n",
       "      <th>builder_pubkey</th>\n",
       "      <th>received_at</th>\n",
       "      <th>eligible_at</th>\n",
       "      <th>optimistic</th>\n",
       "      <th>slot_y</th>\n",
       "      <th>relayed</th>\n",
       "      <th>slot_boundary</th>\n",
       "      <th>diff</th>\n",
       "    </tr>\n",
       "  </thead>\n",
       "  <tbody>\n",
       "    <tr>\n",
       "      <th>23</th>\n",
       "      <td>16871946</td>\n",
       "      <td>0x1aebd10d7676bb43579a2856d2d89a0f58cc31b6e6b0...</td>\n",
       "      <td>0x978a35c39c41aadbe35ea29712bccffb117cc6ebcad4...</td>\n",
       "      <td>2023-03-20 22:46:23.687108</td>\n",
       "      <td>2023-03-20 22:46:25.257527</td>\n",
       "      <td>t</td>\n",
       "      <td>NaN</td>\n",
       "      <td>NaN</td>\n",
       "      <td>2023-03-20 22:46:24</td>\n",
       "      <td>-1.257527</td>\n",
       "    </tr>\n",
       "    <tr>\n",
       "      <th>67</th>\n",
       "      <td>16872009</td>\n",
       "      <td>0x09411e91adfbe339bacd1b1c52a49b23fe7236fa9993...</td>\n",
       "      <td>0x83d3495a2951065cf19c4d282afca0a635a39f6504bd...</td>\n",
       "      <td>2023-03-20 22:58:59.489507</td>\n",
       "      <td>2023-03-20 22:59:00.401482</td>\n",
       "      <td>t</td>\n",
       "      <td>NaN</td>\n",
       "      <td>NaN</td>\n",
       "      <td>2023-03-20 22:59:00</td>\n",
       "      <td>-0.401482</td>\n",
       "    </tr>\n",
       "    <tr>\n",
       "      <th>90</th>\n",
       "      <td>16872044</td>\n",
       "      <td>0x626e4d1c7527d8a433b01bf32b4b024b7e0885bf296d...</td>\n",
       "      <td>0x83d3495a2951065cf19c4d282afca0a635a39f6504bd...</td>\n",
       "      <td>2023-03-20 23:05:59.238486</td>\n",
       "      <td>2023-03-20 23:06:00.740722</td>\n",
       "      <td>t</td>\n",
       "      <td>NaN</td>\n",
       "      <td>NaN</td>\n",
       "      <td>2023-03-20 23:06:00</td>\n",
       "      <td>-0.740722</td>\n",
       "    </tr>\n",
       "    <tr>\n",
       "      <th>223</th>\n",
       "      <td>16872255</td>\n",
       "      <td>0x0bc4f97e24ab87e1c645326cac47efd8604937e062d4...</td>\n",
       "      <td>0xa4fb63c2ceeee73d1f1711fadf1c5357ac98cecb999d...</td>\n",
       "      <td>2023-03-20 23:48:34.996172</td>\n",
       "      <td>2023-03-20 23:48:36.000708</td>\n",
       "      <td>t</td>\n",
       "      <td>NaN</td>\n",
       "      <td>NaN</td>\n",
       "      <td>2023-03-20 23:48:36</td>\n",
       "      <td>-0.000708</td>\n",
       "    </tr>\n",
       "    <tr>\n",
       "      <th>245</th>\n",
       "      <td>16872295</td>\n",
       "      <td>0x5ef6248300bbe1a12bddfe72a01b8d4bb15111e395e2...</td>\n",
       "      <td>0xa31892c0466813868f0cd8d3255dab5f84ae1a6d4a28...</td>\n",
       "      <td>2023-03-20 23:56:35.227067</td>\n",
       "      <td>2023-03-20 23:56:36.073640</td>\n",
       "      <td>t</td>\n",
       "      <td>NaN</td>\n",
       "      <td>NaN</td>\n",
       "      <td>2023-03-20 23:56:36</td>\n",
       "      <td>-0.073640</td>\n",
       "    </tr>\n",
       "  </tbody>\n",
       "</table>\n",
       "</div>"
      ],
      "text/plain": [
       "       slot_x                                         block_hash  \\\n",
       "23   16871946  0x1aebd10d7676bb43579a2856d2d89a0f58cc31b6e6b0...   \n",
       "67   16872009  0x09411e91adfbe339bacd1b1c52a49b23fe7236fa9993...   \n",
       "90   16872044  0x626e4d1c7527d8a433b01bf32b4b024b7e0885bf296d...   \n",
       "223  16872255  0x0bc4f97e24ab87e1c645326cac47efd8604937e062d4...   \n",
       "245  16872295  0x5ef6248300bbe1a12bddfe72a01b8d4bb15111e395e2...   \n",
       "\n",
       "                                        builder_pubkey  \\\n",
       "23   0x978a35c39c41aadbe35ea29712bccffb117cc6ebcad4...   \n",
       "67   0x83d3495a2951065cf19c4d282afca0a635a39f6504bd...   \n",
       "90   0x83d3495a2951065cf19c4d282afca0a635a39f6504bd...   \n",
       "223  0xa4fb63c2ceeee73d1f1711fadf1c5357ac98cecb999d...   \n",
       "245  0xa31892c0466813868f0cd8d3255dab5f84ae1a6d4a28...   \n",
       "\n",
       "                   received_at                eligible_at optimistic  slot_y  \\\n",
       "23  2023-03-20 22:46:23.687108 2023-03-20 22:46:25.257527          t     NaN   \n",
       "67  2023-03-20 22:58:59.489507 2023-03-20 22:59:00.401482          t     NaN   \n",
       "90  2023-03-20 23:05:59.238486 2023-03-20 23:06:00.740722          t     NaN   \n",
       "223 2023-03-20 23:48:34.996172 2023-03-20 23:48:36.000708          t     NaN   \n",
       "245 2023-03-20 23:56:35.227067 2023-03-20 23:56:36.073640          t     NaN   \n",
       "\n",
       "    relayed       slot_boundary      diff  \n",
       "23      NaN 2023-03-20 22:46:24 -1.257527  \n",
       "67      NaN 2023-03-20 22:59:00 -0.401482  \n",
       "90      NaN 2023-03-20 23:06:00 -0.740722  \n",
       "223     NaN 2023-03-20 23:48:36 -0.000708  \n",
       "245     NaN 2023-03-20 23:56:36 -0.073640  "
      ]
     },
     "execution_count": 213,
     "metadata": {},
     "output_type": "execute_result"
    }
   ],
   "source": [
    "snr = seen_not_relayed_opt[seen_not_relayed_opt['received_at'] < seen_not_relayed_opt['slot_boundary']\n",
    "snr = snr[snr['slot_boundary'] < snr['eligible_at']]\n",
    "snr.head()"
   ]
  },
  {
   "cell_type": "code",
   "execution_count": 221,
   "metadata": {},
   "outputs": [
    {
     "data": {
      "text/plain": [
       "(143, 0.8033707865168539)"
      ]
     },
     "execution_count": 221,
     "metadata": {},
     "output_type": "execute_result"
    }
   ],
   "source": [
    "len(snr), 143/178"
   ]
  },
  {
   "cell_type": "code",
   "execution_count": 203,
   "metadata": {},
   "outputs": [
    {
     "data": {
      "text/html": [
       "<div>\n",
       "<style scoped>\n",
       "    .dataframe tbody tr th:only-of-type {\n",
       "        vertical-align: middle;\n",
       "    }\n",
       "\n",
       "    .dataframe tbody tr th {\n",
       "        vertical-align: top;\n",
       "    }\n",
       "\n",
       "    .dataframe thead th {\n",
       "        text-align: right;\n",
       "    }\n",
       "</style>\n",
       "<table border=\"1\" class=\"dataframe\">\n",
       "  <thead>\n",
       "    <tr style=\"text-align: right;\">\n",
       "      <th></th>\n",
       "      <th>eligible_at</th>\n",
       "      <th>slot_boundary</th>\n",
       "    </tr>\n",
       "  </thead>\n",
       "  <tbody>\n",
       "    <tr>\n",
       "      <th>1</th>\n",
       "      <td>2023-03-20 22:39:11.989962</td>\n",
       "      <td>2023-03-20 22:39:12</td>\n",
       "    </tr>\n",
       "    <tr>\n",
       "      <th>2</th>\n",
       "      <td>2023-03-20 22:39:59.249626</td>\n",
       "      <td>2023-03-20 22:40:00</td>\n",
       "    </tr>\n",
       "    <tr>\n",
       "      <th>12</th>\n",
       "      <td>2023-03-20 22:43:11.435239</td>\n",
       "      <td>2023-03-20 22:43:12</td>\n",
       "    </tr>\n",
       "    <tr>\n",
       "      <th>16</th>\n",
       "      <td>2023-03-20 22:44:11.151341</td>\n",
       "      <td>2023-03-20 22:44:12</td>\n",
       "    </tr>\n",
       "    <tr>\n",
       "      <th>17</th>\n",
       "      <td>2023-03-20 22:44:23.452943</td>\n",
       "      <td>2023-03-20 22:44:24</td>\n",
       "    </tr>\n",
       "    <tr>\n",
       "      <th>...</th>\n",
       "      <td>...</td>\n",
       "      <td>...</td>\n",
       "    </tr>\n",
       "    <tr>\n",
       "      <th>4218</th>\n",
       "      <td>2023-03-21 22:34:58.137933</td>\n",
       "      <td>2023-03-21 22:35:00</td>\n",
       "    </tr>\n",
       "    <tr>\n",
       "      <th>4220</th>\n",
       "      <td>2023-03-21 22:35:23.849945</td>\n",
       "      <td>2023-03-21 22:35:24</td>\n",
       "    </tr>\n",
       "    <tr>\n",
       "      <th>4226</th>\n",
       "      <td>2023-03-21 22:37:23.378112</td>\n",
       "      <td>2023-03-21 22:37:24</td>\n",
       "    </tr>\n",
       "    <tr>\n",
       "      <th>4227</th>\n",
       "      <td>2023-03-21 22:37:35.730443</td>\n",
       "      <td>2023-03-21 22:37:36</td>\n",
       "    </tr>\n",
       "    <tr>\n",
       "      <th>4228</th>\n",
       "      <td>2023-03-21 22:37:48.006876</td>\n",
       "      <td>2023-03-21 22:37:48</td>\n",
       "    </tr>\n",
       "  </tbody>\n",
       "</table>\n",
       "<p>1143 rows × 2 columns</p>\n",
       "</div>"
      ],
      "text/plain": [
       "                    eligible_at       slot_boundary\n",
       "1    2023-03-20 22:39:11.989962 2023-03-20 22:39:12\n",
       "2    2023-03-20 22:39:59.249626 2023-03-20 22:40:00\n",
       "12   2023-03-20 22:43:11.435239 2023-03-20 22:43:12\n",
       "16   2023-03-20 22:44:11.151341 2023-03-20 22:44:12\n",
       "17   2023-03-20 22:44:23.452943 2023-03-20 22:44:24\n",
       "...                         ...                 ...\n",
       "4218 2023-03-21 22:34:58.137933 2023-03-21 22:35:00\n",
       "4220 2023-03-21 22:35:23.849945 2023-03-21 22:35:24\n",
       "4226 2023-03-21 22:37:23.378112 2023-03-21 22:37:24\n",
       "4227 2023-03-21 22:37:35.730443 2023-03-21 22:37:36\n",
       "4228 2023-03-21 22:37:48.006876 2023-03-21 22:37:48\n",
       "\n",
       "[1143 rows x 2 columns]"
      ]
     },
     "execution_count": 203,
     "metadata": {},
     "output_type": "execute_result"
    }
   ],
   "source": [
    "seen_not_relayed_opt[['eligible_at', 'slot_boundary']]"
   ]
  },
  {
   "cell_type": "code",
   "execution_count": 224,
   "metadata": {},
   "outputs": [
    {
     "data": {
      "text/plain": [
       "35"
      ]
     },
     "execution_count": 224,
     "metadata": {},
     "output_type": "execute_result"
    }
   ],
   "source": [
    "len(seen_not_relayed_opt[seen_not_relayed_opt['received_at'] > seen_not_relayed_opt['slot_boundary']])"
   ]
  },
  {
   "cell_type": "code",
   "execution_count": 231,
   "metadata": {},
   "outputs": [
    {
     "data": {
      "text/html": [
       "<div>\n",
       "<style scoped>\n",
       "    .dataframe tbody tr th:only-of-type {\n",
       "        vertical-align: middle;\n",
       "    }\n",
       "\n",
       "    .dataframe tbody tr th {\n",
       "        vertical-align: top;\n",
       "    }\n",
       "\n",
       "    .dataframe thead th {\n",
       "        text-align: right;\n",
       "    }\n",
       "</style>\n",
       "<table border=\"1\" class=\"dataframe\">\n",
       "  <thead>\n",
       "    <tr style=\"text-align: right;\">\n",
       "      <th></th>\n",
       "      <th>slot_x</th>\n",
       "      <th>block_hash</th>\n",
       "      <th>builder_pubkey</th>\n",
       "      <th>received_at</th>\n",
       "      <th>eligible_at</th>\n",
       "      <th>optimistic</th>\n",
       "      <th>slot_y</th>\n",
       "      <th>relayed</th>\n",
       "      <th>slot_boundary</th>\n",
       "      <th>diff</th>\n",
       "    </tr>\n",
       "  </thead>\n",
       "  <tbody>\n",
       "    <tr>\n",
       "      <th>1</th>\n",
       "      <td>16871910</td>\n",
       "      <td>0x5f2be5f888663e9e60c24f06ab728cdd01871f5e51e3...</td>\n",
       "      <td>0xb5d883565500910f3f10f0a2e3a031139d972117a3b6...</td>\n",
       "      <td>2023-03-20 22:39:11.966011</td>\n",
       "      <td>2023-03-20 22:39:11.989962</td>\n",
       "      <td>t</td>\n",
       "      <td>NaN</td>\n",
       "      <td>NaN</td>\n",
       "      <td>2023-03-20 22:39:12</td>\n",
       "      <td>0.010038</td>\n",
       "    </tr>\n",
       "    <tr>\n",
       "      <th>2</th>\n",
       "      <td>16871914</td>\n",
       "      <td>0x235dae41a768108b682b9158acd2c01472c0ea317ae6...</td>\n",
       "      <td>0x82ba7cadcdfc1b156ba2c48c1c627428ba917858e62c...</td>\n",
       "      <td>2023-03-20 22:39:59.073824</td>\n",
       "      <td>2023-03-20 22:39:59.249626</td>\n",
       "      <td>t</td>\n",
       "      <td>NaN</td>\n",
       "      <td>NaN</td>\n",
       "      <td>2023-03-20 22:40:00</td>\n",
       "      <td>0.750374</td>\n",
       "    </tr>\n",
       "    <tr>\n",
       "      <th>12</th>\n",
       "      <td>16871930</td>\n",
       "      <td>0x6b74e0664669f3d274455e403ca6b88b59d7f7ed72fb...</td>\n",
       "      <td>0xb194b2b8ec91a71c18f8483825234679299d146495a0...</td>\n",
       "      <td>2023-03-20 22:43:11.404505</td>\n",
       "      <td>2023-03-20 22:43:11.435239</td>\n",
       "      <td>t</td>\n",
       "      <td>NaN</td>\n",
       "      <td>NaN</td>\n",
       "      <td>2023-03-20 22:43:12</td>\n",
       "      <td>0.564761</td>\n",
       "    </tr>\n",
       "    <tr>\n",
       "      <th>16</th>\n",
       "      <td>16871935</td>\n",
       "      <td>0x4f2343fb49205c75b3673f8e4ba3f7fbfcf3f3ef0fa0...</td>\n",
       "      <td>0x978a35c39c41aadbe35ea29712bccffb117cc6ebcad4...</td>\n",
       "      <td>2023-03-20 22:44:11.114526</td>\n",
       "      <td>2023-03-20 22:44:11.151341</td>\n",
       "      <td>t</td>\n",
       "      <td>NaN</td>\n",
       "      <td>NaN</td>\n",
       "      <td>2023-03-20 22:44:12</td>\n",
       "      <td>0.848659</td>\n",
       "    </tr>\n",
       "    <tr>\n",
       "      <th>17</th>\n",
       "      <td>16871936</td>\n",
       "      <td>0xf8374b63942074ccbb0f67cdeac690f167ad74ec81c5...</td>\n",
       "      <td>0xa0d0dbdf7b5eda08c921dee5da7c78c34c9685db3e39...</td>\n",
       "      <td>2023-03-20 22:44:23.225864</td>\n",
       "      <td>2023-03-20 22:44:23.452943</td>\n",
       "      <td>t</td>\n",
       "      <td>NaN</td>\n",
       "      <td>NaN</td>\n",
       "      <td>2023-03-20 22:44:24</td>\n",
       "      <td>0.547057</td>\n",
       "    </tr>\n",
       "    <tr>\n",
       "      <th>...</th>\n",
       "      <td>...</td>\n",
       "      <td>...</td>\n",
       "      <td>...</td>\n",
       "      <td>...</td>\n",
       "      <td>...</td>\n",
       "      <td>...</td>\n",
       "      <td>...</td>\n",
       "      <td>...</td>\n",
       "      <td>...</td>\n",
       "      <td>...</td>\n",
       "    </tr>\n",
       "    <tr>\n",
       "      <th>4218</th>\n",
       "      <td>16879007</td>\n",
       "      <td>0xf9487801495a1eda65e44b647e0d0cc6c920ef1b732b...</td>\n",
       "      <td>0xa0d0dbdf7b5eda08c921dee5da7c78c34c9685db3e39...</td>\n",
       "      <td>2023-03-21 22:34:58.036606</td>\n",
       "      <td>2023-03-21 22:34:58.137933</td>\n",
       "      <td>t</td>\n",
       "      <td>NaN</td>\n",
       "      <td>NaN</td>\n",
       "      <td>2023-03-21 22:35:00</td>\n",
       "      <td>1.862067</td>\n",
       "    </tr>\n",
       "    <tr>\n",
       "      <th>4220</th>\n",
       "      <td>16879009</td>\n",
       "      <td>0xc6f22051acf0072454e1c2eca2ff6f96ac34cf998627...</td>\n",
       "      <td>0x978a35c39c41aadbe35ea29712bccffb117cc6ebcad4...</td>\n",
       "      <td>2023-03-21 22:35:23.103121</td>\n",
       "      <td>2023-03-21 22:35:23.849945</td>\n",
       "      <td>t</td>\n",
       "      <td>NaN</td>\n",
       "      <td>NaN</td>\n",
       "      <td>2023-03-21 22:35:24</td>\n",
       "      <td>0.150055</td>\n",
       "    </tr>\n",
       "    <tr>\n",
       "      <th>4226</th>\n",
       "      <td>16879019</td>\n",
       "      <td>0xe85ba81eae693128a60b542f6a801796c8f380afe515...</td>\n",
       "      <td>0x83d3495a2951065cf19c4d282afca0a635a39f6504bd...</td>\n",
       "      <td>2023-03-21 22:37:23.234242</td>\n",
       "      <td>2023-03-21 22:37:23.378112</td>\n",
       "      <td>t</td>\n",
       "      <td>NaN</td>\n",
       "      <td>NaN</td>\n",
       "      <td>2023-03-21 22:37:24</td>\n",
       "      <td>0.621888</td>\n",
       "    </tr>\n",
       "    <tr>\n",
       "      <th>4227</th>\n",
       "      <td>16879020</td>\n",
       "      <td>0xc2fc0e3120f302eb8df33523fbe2fb311d8fb9b6e313...</td>\n",
       "      <td>0x96a59d355b1f65e270b29981dd113625732539e955a1...</td>\n",
       "      <td>2023-03-21 22:37:35.711665</td>\n",
       "      <td>2023-03-21 22:37:35.730443</td>\n",
       "      <td>t</td>\n",
       "      <td>NaN</td>\n",
       "      <td>NaN</td>\n",
       "      <td>2023-03-21 22:37:36</td>\n",
       "      <td>0.269557</td>\n",
       "    </tr>\n",
       "    <tr>\n",
       "      <th>4228</th>\n",
       "      <td>16879021</td>\n",
       "      <td>0x861436af52620088f1c2dac5f05f69574965c4ab43ab...</td>\n",
       "      <td>0x96a59d355b1f65e270b29981dd113625732539e955a1...</td>\n",
       "      <td>2023-03-21 22:37:47.079153</td>\n",
       "      <td>2023-03-21 22:37:48.006876</td>\n",
       "      <td>t</td>\n",
       "      <td>NaN</td>\n",
       "      <td>NaN</td>\n",
       "      <td>2023-03-21 22:37:48</td>\n",
       "      <td>-0.006876</td>\n",
       "    </tr>\n",
       "  </tbody>\n",
       "</table>\n",
       "<p>1143 rows × 10 columns</p>\n",
       "</div>"
      ],
      "text/plain": [
       "        slot_x                                         block_hash  \\\n",
       "1     16871910  0x5f2be5f888663e9e60c24f06ab728cdd01871f5e51e3...   \n",
       "2     16871914  0x235dae41a768108b682b9158acd2c01472c0ea317ae6...   \n",
       "12    16871930  0x6b74e0664669f3d274455e403ca6b88b59d7f7ed72fb...   \n",
       "16    16871935  0x4f2343fb49205c75b3673f8e4ba3f7fbfcf3f3ef0fa0...   \n",
       "17    16871936  0xf8374b63942074ccbb0f67cdeac690f167ad74ec81c5...   \n",
       "...        ...                                                ...   \n",
       "4218  16879007  0xf9487801495a1eda65e44b647e0d0cc6c920ef1b732b...   \n",
       "4220  16879009  0xc6f22051acf0072454e1c2eca2ff6f96ac34cf998627...   \n",
       "4226  16879019  0xe85ba81eae693128a60b542f6a801796c8f380afe515...   \n",
       "4227  16879020  0xc2fc0e3120f302eb8df33523fbe2fb311d8fb9b6e313...   \n",
       "4228  16879021  0x861436af52620088f1c2dac5f05f69574965c4ab43ab...   \n",
       "\n",
       "                                         builder_pubkey  \\\n",
       "1     0xb5d883565500910f3f10f0a2e3a031139d972117a3b6...   \n",
       "2     0x82ba7cadcdfc1b156ba2c48c1c627428ba917858e62c...   \n",
       "12    0xb194b2b8ec91a71c18f8483825234679299d146495a0...   \n",
       "16    0x978a35c39c41aadbe35ea29712bccffb117cc6ebcad4...   \n",
       "17    0xa0d0dbdf7b5eda08c921dee5da7c78c34c9685db3e39...   \n",
       "...                                                 ...   \n",
       "4218  0xa0d0dbdf7b5eda08c921dee5da7c78c34c9685db3e39...   \n",
       "4220  0x978a35c39c41aadbe35ea29712bccffb117cc6ebcad4...   \n",
       "4226  0x83d3495a2951065cf19c4d282afca0a635a39f6504bd...   \n",
       "4227  0x96a59d355b1f65e270b29981dd113625732539e955a1...   \n",
       "4228  0x96a59d355b1f65e270b29981dd113625732539e955a1...   \n",
       "\n",
       "                    received_at                eligible_at optimistic  slot_y  \\\n",
       "1    2023-03-20 22:39:11.966011 2023-03-20 22:39:11.989962          t     NaN   \n",
       "2    2023-03-20 22:39:59.073824 2023-03-20 22:39:59.249626          t     NaN   \n",
       "12   2023-03-20 22:43:11.404505 2023-03-20 22:43:11.435239          t     NaN   \n",
       "16   2023-03-20 22:44:11.114526 2023-03-20 22:44:11.151341          t     NaN   \n",
       "17   2023-03-20 22:44:23.225864 2023-03-20 22:44:23.452943          t     NaN   \n",
       "...                         ...                        ...        ...     ...   \n",
       "4218 2023-03-21 22:34:58.036606 2023-03-21 22:34:58.137933          t     NaN   \n",
       "4220 2023-03-21 22:35:23.103121 2023-03-21 22:35:23.849945          t     NaN   \n",
       "4226 2023-03-21 22:37:23.234242 2023-03-21 22:37:23.378112          t     NaN   \n",
       "4227 2023-03-21 22:37:35.711665 2023-03-21 22:37:35.730443          t     NaN   \n",
       "4228 2023-03-21 22:37:47.079153 2023-03-21 22:37:48.006876          t     NaN   \n",
       "\n",
       "     relayed       slot_boundary      diff  \n",
       "1        NaN 2023-03-20 22:39:12  0.010038  \n",
       "2        NaN 2023-03-20 22:40:00  0.750374  \n",
       "12       NaN 2023-03-20 22:43:12  0.564761  \n",
       "16       NaN 2023-03-20 22:44:12  0.848659  \n",
       "17       NaN 2023-03-20 22:44:24  0.547057  \n",
       "...      ...                 ...       ...  \n",
       "4218     NaN 2023-03-21 22:35:00  1.862067  \n",
       "4220     NaN 2023-03-21 22:35:24  0.150055  \n",
       "4226     NaN 2023-03-21 22:37:24  0.621888  \n",
       "4227     NaN 2023-03-21 22:37:36  0.269557  \n",
       "4228     NaN 2023-03-21 22:37:48 -0.006876  \n",
       "\n",
       "[1143 rows x 10 columns]"
      ]
     },
     "execution_count": 231,
     "metadata": {},
     "output_type": "execute_result"
    }
   ],
   "source": [
    "seen_not_relayed_opt"
   ]
  },
  {
   "cell_type": "markdown",
   "metadata": {},
   "source": [
    "## with durations "
   ]
  },
  {
   "cell_type": "code",
   "execution_count": 234,
   "metadata": {
    "scrolled": true
   },
   "outputs": [
    {
     "data": {
      "text/html": [
       "<div>\n",
       "<style scoped>\n",
       "    .dataframe tbody tr th:only-of-type {\n",
       "        vertical-align: middle;\n",
       "    }\n",
       "\n",
       "    .dataframe tbody tr th {\n",
       "        vertical-align: top;\n",
       "    }\n",
       "\n",
       "    .dataframe thead th {\n",
       "        text-align: right;\n",
       "    }\n",
       "</style>\n",
       "<table border=\"1\" class=\"dataframe\">\n",
       "  <thead>\n",
       "    <tr style=\"text-align: right;\">\n",
       "      <th></th>\n",
       "      <th>block</th>\n",
       "      <th>block_hash</th>\n",
       "      <th>builder_pubkey</th>\n",
       "      <th>received_at</th>\n",
       "      <th>eligible_at</th>\n",
       "      <th>is_optimistic</th>\n",
       "      <th>total_duration</th>\n",
       "    </tr>\n",
       "  </thead>\n",
       "  <tbody>\n",
       "    <tr>\n",
       "      <th>0</th>\n",
       "      <td>16871904</td>\n",
       "      <td>0x1445938da29fcecc6f5e2d08511531cedca70079973d...</td>\n",
       "      <td>0x81babeec8c9f2bb9c329fd8a3b176032fe0ab5f3b92a...</td>\n",
       "      <td>2023-03-20 22:37:58.620013</td>\n",
       "      <td>2023-03-20 22:37:58.914306</td>\n",
       "      <td>f</td>\n",
       "      <td>294292.0</td>\n",
       "    </tr>\n",
       "    <tr>\n",
       "      <th>1</th>\n",
       "      <td>16871910</td>\n",
       "      <td>0x5f2be5f888663e9e60c24f06ab728cdd01871f5e51e3...</td>\n",
       "      <td>0xb5d883565500910f3f10f0a2e3a031139d972117a3b6...</td>\n",
       "      <td>2023-03-20 22:39:11.966011</td>\n",
       "      <td>2023-03-20 22:39:11.989962</td>\n",
       "      <td>t</td>\n",
       "      <td>23950.0</td>\n",
       "    </tr>\n",
       "    <tr>\n",
       "      <th>2</th>\n",
       "      <td>16871914</td>\n",
       "      <td>0x235dae41a768108b682b9158acd2c01472c0ea317ae6...</td>\n",
       "      <td>0x82ba7cadcdfc1b156ba2c48c1c627428ba917858e62c...</td>\n",
       "      <td>2023-03-20 22:39:59.073824</td>\n",
       "      <td>2023-03-20 22:39:59.249626</td>\n",
       "      <td>t</td>\n",
       "      <td>175801.0</td>\n",
       "    </tr>\n",
       "    <tr>\n",
       "      <th>3</th>\n",
       "      <td>16871916</td>\n",
       "      <td>0xd50312a2137a7c210a69b6a48c8d94f3c516c65538ea...</td>\n",
       "      <td>0xa971c4ee4ac5d47e0fb9e16be05981bfe51458f14c06...</td>\n",
       "      <td>2023-03-20 22:40:23.338373</td>\n",
       "      <td>2023-03-20 22:40:23.416462</td>\n",
       "      <td>t</td>\n",
       "      <td>78088.0</td>\n",
       "    </tr>\n",
       "    <tr>\n",
       "      <th>4</th>\n",
       "      <td>16871918</td>\n",
       "      <td>0xf41e4339b5bde7b244fafe1014471a1f1005064131ae...</td>\n",
       "      <td>0x81beef03aafd3dd33ffd7deb337407142c80fea2690e...</td>\n",
       "      <td>2023-03-20 22:40:46.543002</td>\n",
       "      <td>2023-03-20 22:40:46.955778</td>\n",
       "      <td>f</td>\n",
       "      <td>412775.0</td>\n",
       "    </tr>\n",
       "  </tbody>\n",
       "</table>\n",
       "</div>"
      ],
      "text/plain": [
       "      block                                         block_hash  \\\n",
       "0  16871904  0x1445938da29fcecc6f5e2d08511531cedca70079973d...   \n",
       "1  16871910  0x5f2be5f888663e9e60c24f06ab728cdd01871f5e51e3...   \n",
       "2  16871914  0x235dae41a768108b682b9158acd2c01472c0ea317ae6...   \n",
       "3  16871916  0xd50312a2137a7c210a69b6a48c8d94f3c516c65538ea...   \n",
       "4  16871918  0xf41e4339b5bde7b244fafe1014471a1f1005064131ae...   \n",
       "\n",
       "                                      builder_pubkey  \\\n",
       "0  0x81babeec8c9f2bb9c329fd8a3b176032fe0ab5f3b92a...   \n",
       "1  0xb5d883565500910f3f10f0a2e3a031139d972117a3b6...   \n",
       "2  0x82ba7cadcdfc1b156ba2c48c1c627428ba917858e62c...   \n",
       "3  0xa971c4ee4ac5d47e0fb9e16be05981bfe51458f14c06...   \n",
       "4  0x81beef03aafd3dd33ffd7deb337407142c80fea2690e...   \n",
       "\n",
       "                 received_at                eligible_at is_optimistic  \\\n",
       "0 2023-03-20 22:37:58.620013 2023-03-20 22:37:58.914306             f   \n",
       "1 2023-03-20 22:39:11.966011 2023-03-20 22:39:11.989962             t   \n",
       "2 2023-03-20 22:39:59.073824 2023-03-20 22:39:59.249626             t   \n",
       "3 2023-03-20 22:40:23.338373 2023-03-20 22:40:23.416462             t   \n",
       "4 2023-03-20 22:40:46.543002 2023-03-20 22:40:46.955778             f   \n",
       "\n",
       "   total_duration  \n",
       "0        294292.0  \n",
       "1         23950.0  \n",
       "2        175801.0  \n",
       "3         78088.0  \n",
       "4        412775.0  "
      ]
     },
     "execution_count": 234,
     "metadata": {},
     "output_type": "execute_result"
    }
   ],
   "source": [
    "seen_dur = pd.read_csv('seen_duration.txt', delimiter='|', names=['block','block_hash','builder_pubkey','received_at','eligible_at','is_optimistic','total_duration'])\n",
    "seen_dur['received_at'] = pd.to_datetime(seen_dur['received_at'], format=\"%Y-%m-%d%H:%M:%S.%f\", errors = 'coerce')\n",
    "seen_dur['eligible_at'] = pd.to_datetime(seen_dur['eligible_at'], format=\"%Y-%m-%d%H:%M:%S.%f\", errors = 'coerce')\n",
    "seen_dur.head()"
   ]
  },
  {
   "cell_type": "code",
   "execution_count": 235,
   "metadata": {},
   "outputs": [
    {
     "data": {
      "text/html": [
       "<div>\n",
       "<style scoped>\n",
       "    .dataframe tbody tr th:only-of-type {\n",
       "        vertical-align: middle;\n",
       "    }\n",
       "\n",
       "    .dataframe tbody tr th {\n",
       "        vertical-align: top;\n",
       "    }\n",
       "\n",
       "    .dataframe thead th {\n",
       "        text-align: right;\n",
       "    }\n",
       "</style>\n",
       "<table border=\"1\" class=\"dataframe\">\n",
       "  <thead>\n",
       "    <tr style=\"text-align: right;\">\n",
       "      <th></th>\n",
       "      <th>block</th>\n",
       "      <th>block_hash</th>\n",
       "      <th>builder_pubkey</th>\n",
       "      <th>received_at</th>\n",
       "      <th>eligible_at</th>\n",
       "      <th>is_optimistic</th>\n",
       "      <th>total_duration</th>\n",
       "      <th>slot</th>\n",
       "      <th>relayed</th>\n",
       "    </tr>\n",
       "  </thead>\n",
       "  <tbody>\n",
       "    <tr>\n",
       "      <th>0</th>\n",
       "      <td>16871904</td>\n",
       "      <td>0x1445938da29fcecc6f5e2d08511531cedca70079973d...</td>\n",
       "      <td>0x81babeec8c9f2bb9c329fd8a3b176032fe0ab5f3b92a...</td>\n",
       "      <td>2023-03-20 22:37:58.620013</td>\n",
       "      <td>2023-03-20 22:37:58.914306</td>\n",
       "      <td>f</td>\n",
       "      <td>294292.0</td>\n",
       "      <td>6043988.0</td>\n",
       "      <td>t</td>\n",
       "    </tr>\n",
       "    <tr>\n",
       "      <th>1</th>\n",
       "      <td>16871910</td>\n",
       "      <td>0x5f2be5f888663e9e60c24f06ab728cdd01871f5e51e3...</td>\n",
       "      <td>0xb5d883565500910f3f10f0a2e3a031139d972117a3b6...</td>\n",
       "      <td>2023-03-20 22:39:11.966011</td>\n",
       "      <td>2023-03-20 22:39:11.989962</td>\n",
       "      <td>t</td>\n",
       "      <td>23950.0</td>\n",
       "      <td>NaN</td>\n",
       "      <td>NaN</td>\n",
       "    </tr>\n",
       "    <tr>\n",
       "      <th>2</th>\n",
       "      <td>16871914</td>\n",
       "      <td>0x235dae41a768108b682b9158acd2c01472c0ea317ae6...</td>\n",
       "      <td>0x82ba7cadcdfc1b156ba2c48c1c627428ba917858e62c...</td>\n",
       "      <td>2023-03-20 22:39:59.073824</td>\n",
       "      <td>2023-03-20 22:39:59.249626</td>\n",
       "      <td>t</td>\n",
       "      <td>175801.0</td>\n",
       "      <td>NaN</td>\n",
       "      <td>NaN</td>\n",
       "    </tr>\n",
       "    <tr>\n",
       "      <th>3</th>\n",
       "      <td>16871916</td>\n",
       "      <td>0xd50312a2137a7c210a69b6a48c8d94f3c516c65538ea...</td>\n",
       "      <td>0xa971c4ee4ac5d47e0fb9e16be05981bfe51458f14c06...</td>\n",
       "      <td>2023-03-20 22:40:23.338373</td>\n",
       "      <td>2023-03-20 22:40:23.416462</td>\n",
       "      <td>t</td>\n",
       "      <td>78088.0</td>\n",
       "      <td>6044000.0</td>\n",
       "      <td>t</td>\n",
       "    </tr>\n",
       "    <tr>\n",
       "      <th>4</th>\n",
       "      <td>16871918</td>\n",
       "      <td>0xf41e4339b5bde7b244fafe1014471a1f1005064131ae...</td>\n",
       "      <td>0x81beef03aafd3dd33ffd7deb337407142c80fea2690e...</td>\n",
       "      <td>2023-03-20 22:40:46.543002</td>\n",
       "      <td>2023-03-20 22:40:46.955778</td>\n",
       "      <td>f</td>\n",
       "      <td>412775.0</td>\n",
       "      <td>6044002.0</td>\n",
       "      <td>t</td>\n",
       "    </tr>\n",
       "  </tbody>\n",
       "</table>\n",
       "</div>"
      ],
      "text/plain": [
       "      block                                         block_hash  \\\n",
       "0  16871904  0x1445938da29fcecc6f5e2d08511531cedca70079973d...   \n",
       "1  16871910  0x5f2be5f888663e9e60c24f06ab728cdd01871f5e51e3...   \n",
       "2  16871914  0x235dae41a768108b682b9158acd2c01472c0ea317ae6...   \n",
       "3  16871916  0xd50312a2137a7c210a69b6a48c8d94f3c516c65538ea...   \n",
       "4  16871918  0xf41e4339b5bde7b244fafe1014471a1f1005064131ae...   \n",
       "\n",
       "                                      builder_pubkey  \\\n",
       "0  0x81babeec8c9f2bb9c329fd8a3b176032fe0ab5f3b92a...   \n",
       "1  0xb5d883565500910f3f10f0a2e3a031139d972117a3b6...   \n",
       "2  0x82ba7cadcdfc1b156ba2c48c1c627428ba917858e62c...   \n",
       "3  0xa971c4ee4ac5d47e0fb9e16be05981bfe51458f14c06...   \n",
       "4  0x81beef03aafd3dd33ffd7deb337407142c80fea2690e...   \n",
       "\n",
       "                 received_at                eligible_at is_optimistic  \\\n",
       "0 2023-03-20 22:37:58.620013 2023-03-20 22:37:58.914306             f   \n",
       "1 2023-03-20 22:39:11.966011 2023-03-20 22:39:11.989962             t   \n",
       "2 2023-03-20 22:39:59.073824 2023-03-20 22:39:59.249626             t   \n",
       "3 2023-03-20 22:40:23.338373 2023-03-20 22:40:23.416462             t   \n",
       "4 2023-03-20 22:40:46.543002 2023-03-20 22:40:46.955778             f   \n",
       "\n",
       "   total_duration       slot relayed  \n",
       "0        294292.0  6043988.0       t  \n",
       "1         23950.0        NaN     NaN  \n",
       "2        175801.0        NaN     NaN  \n",
       "3         78088.0  6044000.0       t  \n",
       "4        412775.0  6044002.0       t  "
      ]
     },
     "execution_count": 235,
     "metadata": {},
     "output_type": "execute_result"
    }
   ],
   "source": [
    "seen_dur_relayed = seen_dur.merge(relayed, on='block_hash', how='left')\n",
    "seen_dur_relayed.head()"
   ]
  },
  {
   "cell_type": "code",
   "execution_count": 236,
   "metadata": {},
   "outputs": [
    {
     "data": {
      "text/plain": [
       "4230"
      ]
     },
     "execution_count": 236,
     "metadata": {},
     "output_type": "execute_result"
    }
   ],
   "source": [
    "len(seen_dur_relayed)"
   ]
  },
  {
   "cell_type": "code",
   "execution_count": 237,
   "metadata": {},
   "outputs": [
    {
     "data": {
      "text/plain": [
       "3686"
      ]
     },
     "execution_count": 237,
     "metadata": {},
     "output_type": "execute_result"
    }
   ],
   "source": [
    "seen_dur_relayed_nn = seen_dur_relayed[seen_dur_relayed['builder_pubkey'].notna()]\n",
    "len(seen_dur_relayed_nn)"
   ]
  },
  {
   "cell_type": "code",
   "execution_count": 239,
   "metadata": {},
   "outputs": [
    {
     "data": {
      "text/plain": [
       "(2002, 1684)"
      ]
     },
     "execution_count": 239,
     "metadata": {},
     "output_type": "execute_result"
    }
   ],
   "source": [
    "len(seen_dur_relayed_nn[seen_relayed_nn['relayed'].notna()]), len(seen_dur_relayed_nn[seen_relayed_nn['relayed'].isna()]) "
   ]
  },
  {
   "cell_type": "code",
   "execution_count": null,
   "metadata": {},
   "outputs": [],
   "source": [
    "# 2002     relayed blocks in the 24 hours\n",
    "# 1684 not-relayed blocks in the 24"
   ]
  },
  {
   "cell_type": "code",
   "execution_count": 217,
   "metadata": {},
   "outputs": [
    {
     "data": {
      "text/plain": [
       "(0.5431361909929463, 0.4568638090070537)"
      ]
     },
     "execution_count": 217,
     "metadata": {},
     "output_type": "execute_result"
    }
   ],
   "source": [
    "2002/3686, 1684/3686"
   ]
  },
  {
   "cell_type": "code",
   "execution_count": 241,
   "metadata": {},
   "outputs": [
    {
     "data": {
      "text/plain": [
       "74"
      ]
     },
     "execution_count": 241,
     "metadata": {},
     "output_type": "execute_result"
    }
   ],
   "source": [
    "np.count_nonzero(seen_dur_relayed_nn[seen_dur_relayed_nn['eligible_at'].isna()].relayed.values != 't')"
   ]
  },
  {
   "cell_type": "code",
   "execution_count": 178,
   "metadata": {},
   "outputs": [],
   "source": [
    "# 74 blocks where we never marked the winning bid as eligible."
   ]
  },
  {
   "cell_type": "code",
   "execution_count": 243,
   "metadata": {},
   "outputs": [
    {
     "data": {
      "text/html": [
       "<div>\n",
       "<style scoped>\n",
       "    .dataframe tbody tr th:only-of-type {\n",
       "        vertical-align: middle;\n",
       "    }\n",
       "\n",
       "    .dataframe tbody tr th {\n",
       "        vertical-align: top;\n",
       "    }\n",
       "\n",
       "    .dataframe thead th {\n",
       "        text-align: right;\n",
       "    }\n",
       "</style>\n",
       "<table border=\"1\" class=\"dataframe\">\n",
       "  <thead>\n",
       "    <tr style=\"text-align: right;\">\n",
       "      <th></th>\n",
       "      <th>block</th>\n",
       "      <th>block_hash</th>\n",
       "      <th>builder_pubkey</th>\n",
       "      <th>received_at</th>\n",
       "      <th>eligible_at</th>\n",
       "      <th>is_optimistic</th>\n",
       "      <th>total_duration</th>\n",
       "      <th>slot</th>\n",
       "      <th>relayed</th>\n",
       "    </tr>\n",
       "  </thead>\n",
       "  <tbody>\n",
       "    <tr>\n",
       "      <th>1</th>\n",
       "      <td>16871910</td>\n",
       "      <td>0x5f2be5f888663e9e60c24f06ab728cdd01871f5e51e3...</td>\n",
       "      <td>0xb5d883565500910f3f10f0a2e3a031139d972117a3b6...</td>\n",
       "      <td>2023-03-20 22:39:11.966011</td>\n",
       "      <td>2023-03-20 22:39:11.989962</td>\n",
       "      <td>t</td>\n",
       "      <td>23950.0</td>\n",
       "      <td>NaN</td>\n",
       "      <td>NaN</td>\n",
       "    </tr>\n",
       "    <tr>\n",
       "      <th>2</th>\n",
       "      <td>16871914</td>\n",
       "      <td>0x235dae41a768108b682b9158acd2c01472c0ea317ae6...</td>\n",
       "      <td>0x82ba7cadcdfc1b156ba2c48c1c627428ba917858e62c...</td>\n",
       "      <td>2023-03-20 22:39:59.073824</td>\n",
       "      <td>2023-03-20 22:39:59.249626</td>\n",
       "      <td>t</td>\n",
       "      <td>175801.0</td>\n",
       "      <td>NaN</td>\n",
       "      <td>NaN</td>\n",
       "    </tr>\n",
       "    <tr>\n",
       "      <th>6</th>\n",
       "      <td>16871920</td>\n",
       "      <td>0x152f6d281058cd2c959639c62c7ce61110cf3186d20f...</td>\n",
       "      <td>0x8b8edce58fafe098763e4fabdeb318d347f9238845f2...</td>\n",
       "      <td>2023-03-20 22:41:11.139076</td>\n",
       "      <td>2023-03-20 22:41:12.440683</td>\n",
       "      <td>f</td>\n",
       "      <td>1301606.0</td>\n",
       "      <td>NaN</td>\n",
       "      <td>NaN</td>\n",
       "    </tr>\n",
       "    <tr>\n",
       "      <th>12</th>\n",
       "      <td>16871930</td>\n",
       "      <td>0x6b74e0664669f3d274455e403ca6b88b59d7f7ed72fb...</td>\n",
       "      <td>0xb194b2b8ec91a71c18f8483825234679299d146495a0...</td>\n",
       "      <td>2023-03-20 22:43:11.404505</td>\n",
       "      <td>2023-03-20 22:43:11.435239</td>\n",
       "      <td>t</td>\n",
       "      <td>30733.0</td>\n",
       "      <td>NaN</td>\n",
       "      <td>NaN</td>\n",
       "    </tr>\n",
       "    <tr>\n",
       "      <th>13</th>\n",
       "      <td>16871932</td>\n",
       "      <td>0xa8efda74a42966933427a63ae915f00f05c931a45414...</td>\n",
       "      <td>0x81beef03aafd3dd33ffd7deb337407142c80fea2690e...</td>\n",
       "      <td>2023-03-20 22:43:34.875975</td>\n",
       "      <td>2023-03-20 22:43:35.703212</td>\n",
       "      <td>f</td>\n",
       "      <td>827236.0</td>\n",
       "      <td>NaN</td>\n",
       "      <td>NaN</td>\n",
       "    </tr>\n",
       "    <tr>\n",
       "      <th>...</th>\n",
       "      <td>...</td>\n",
       "      <td>...</td>\n",
       "      <td>...</td>\n",
       "      <td>...</td>\n",
       "      <td>...</td>\n",
       "      <td>...</td>\n",
       "      <td>...</td>\n",
       "      <td>...</td>\n",
       "      <td>...</td>\n",
       "    </tr>\n",
       "    <tr>\n",
       "      <th>4218</th>\n",
       "      <td>16879007</td>\n",
       "      <td>0xf9487801495a1eda65e44b647e0d0cc6c920ef1b732b...</td>\n",
       "      <td>0xa0d0dbdf7b5eda08c921dee5da7c78c34c9685db3e39...</td>\n",
       "      <td>2023-03-21 22:34:58.036606</td>\n",
       "      <td>2023-03-21 22:34:58.137933</td>\n",
       "      <td>t</td>\n",
       "      <td>101326.0</td>\n",
       "      <td>NaN</td>\n",
       "      <td>NaN</td>\n",
       "    </tr>\n",
       "    <tr>\n",
       "      <th>4220</th>\n",
       "      <td>16879009</td>\n",
       "      <td>0xc6f22051acf0072454e1c2eca2ff6f96ac34cf998627...</td>\n",
       "      <td>0x978a35c39c41aadbe35ea29712bccffb117cc6ebcad4...</td>\n",
       "      <td>2023-03-21 22:35:23.103121</td>\n",
       "      <td>2023-03-21 22:35:23.849945</td>\n",
       "      <td>t</td>\n",
       "      <td>746824.0</td>\n",
       "      <td>NaN</td>\n",
       "      <td>NaN</td>\n",
       "    </tr>\n",
       "    <tr>\n",
       "      <th>4226</th>\n",
       "      <td>16879019</td>\n",
       "      <td>0xe85ba81eae693128a60b542f6a801796c8f380afe515...</td>\n",
       "      <td>0x83d3495a2951065cf19c4d282afca0a635a39f6504bd...</td>\n",
       "      <td>2023-03-21 22:37:23.234242</td>\n",
       "      <td>2023-03-21 22:37:23.378112</td>\n",
       "      <td>t</td>\n",
       "      <td>143870.0</td>\n",
       "      <td>NaN</td>\n",
       "      <td>NaN</td>\n",
       "    </tr>\n",
       "    <tr>\n",
       "      <th>4227</th>\n",
       "      <td>16879020</td>\n",
       "      <td>0xc2fc0e3120f302eb8df33523fbe2fb311d8fb9b6e313...</td>\n",
       "      <td>0x96a59d355b1f65e270b29981dd113625732539e955a1...</td>\n",
       "      <td>2023-03-21 22:37:35.711665</td>\n",
       "      <td>2023-03-21 22:37:35.730443</td>\n",
       "      <td>t</td>\n",
       "      <td>18778.0</td>\n",
       "      <td>NaN</td>\n",
       "      <td>NaN</td>\n",
       "    </tr>\n",
       "    <tr>\n",
       "      <th>4228</th>\n",
       "      <td>16879021</td>\n",
       "      <td>0x861436af52620088f1c2dac5f05f69574965c4ab43ab...</td>\n",
       "      <td>0x96a59d355b1f65e270b29981dd113625732539e955a1...</td>\n",
       "      <td>2023-03-21 22:37:47.079153</td>\n",
       "      <td>2023-03-21 22:37:48.006876</td>\n",
       "      <td>t</td>\n",
       "      <td>927723.0</td>\n",
       "      <td>NaN</td>\n",
       "      <td>NaN</td>\n",
       "    </tr>\n",
       "  </tbody>\n",
       "</table>\n",
       "<p>1610 rows × 9 columns</p>\n",
       "</div>"
      ],
      "text/plain": [
       "         block                                         block_hash  \\\n",
       "1     16871910  0x5f2be5f888663e9e60c24f06ab728cdd01871f5e51e3...   \n",
       "2     16871914  0x235dae41a768108b682b9158acd2c01472c0ea317ae6...   \n",
       "6     16871920  0x152f6d281058cd2c959639c62c7ce61110cf3186d20f...   \n",
       "12    16871930  0x6b74e0664669f3d274455e403ca6b88b59d7f7ed72fb...   \n",
       "13    16871932  0xa8efda74a42966933427a63ae915f00f05c931a45414...   \n",
       "...        ...                                                ...   \n",
       "4218  16879007  0xf9487801495a1eda65e44b647e0d0cc6c920ef1b732b...   \n",
       "4220  16879009  0xc6f22051acf0072454e1c2eca2ff6f96ac34cf998627...   \n",
       "4226  16879019  0xe85ba81eae693128a60b542f6a801796c8f380afe515...   \n",
       "4227  16879020  0xc2fc0e3120f302eb8df33523fbe2fb311d8fb9b6e313...   \n",
       "4228  16879021  0x861436af52620088f1c2dac5f05f69574965c4ab43ab...   \n",
       "\n",
       "                                         builder_pubkey  \\\n",
       "1     0xb5d883565500910f3f10f0a2e3a031139d972117a3b6...   \n",
       "2     0x82ba7cadcdfc1b156ba2c48c1c627428ba917858e62c...   \n",
       "6     0x8b8edce58fafe098763e4fabdeb318d347f9238845f2...   \n",
       "12    0xb194b2b8ec91a71c18f8483825234679299d146495a0...   \n",
       "13    0x81beef03aafd3dd33ffd7deb337407142c80fea2690e...   \n",
       "...                                                 ...   \n",
       "4218  0xa0d0dbdf7b5eda08c921dee5da7c78c34c9685db3e39...   \n",
       "4220  0x978a35c39c41aadbe35ea29712bccffb117cc6ebcad4...   \n",
       "4226  0x83d3495a2951065cf19c4d282afca0a635a39f6504bd...   \n",
       "4227  0x96a59d355b1f65e270b29981dd113625732539e955a1...   \n",
       "4228  0x96a59d355b1f65e270b29981dd113625732539e955a1...   \n",
       "\n",
       "                    received_at                eligible_at is_optimistic  \\\n",
       "1    2023-03-20 22:39:11.966011 2023-03-20 22:39:11.989962             t   \n",
       "2    2023-03-20 22:39:59.073824 2023-03-20 22:39:59.249626             t   \n",
       "6    2023-03-20 22:41:11.139076 2023-03-20 22:41:12.440683             f   \n",
       "12   2023-03-20 22:43:11.404505 2023-03-20 22:43:11.435239             t   \n",
       "13   2023-03-20 22:43:34.875975 2023-03-20 22:43:35.703212             f   \n",
       "...                         ...                        ...           ...   \n",
       "4218 2023-03-21 22:34:58.036606 2023-03-21 22:34:58.137933             t   \n",
       "4220 2023-03-21 22:35:23.103121 2023-03-21 22:35:23.849945             t   \n",
       "4226 2023-03-21 22:37:23.234242 2023-03-21 22:37:23.378112             t   \n",
       "4227 2023-03-21 22:37:35.711665 2023-03-21 22:37:35.730443             t   \n",
       "4228 2023-03-21 22:37:47.079153 2023-03-21 22:37:48.006876             t   \n",
       "\n",
       "      total_duration  slot relayed  \n",
       "1            23950.0   NaN     NaN  \n",
       "2           175801.0   NaN     NaN  \n",
       "6          1301606.0   NaN     NaN  \n",
       "12           30733.0   NaN     NaN  \n",
       "13          827236.0   NaN     NaN  \n",
       "...              ...   ...     ...  \n",
       "4218        101326.0   NaN     NaN  \n",
       "4220        746824.0   NaN     NaN  \n",
       "4226        143870.0   NaN     NaN  \n",
       "4227         18778.0   NaN     NaN  \n",
       "4228        927723.0   NaN     NaN  \n",
       "\n",
       "[1610 rows x 9 columns]"
      ]
     },
     "execution_count": 243,
     "metadata": {},
     "output_type": "execute_result"
    }
   ],
   "source": [
    "seen_dur_not_relayed = seen_dur_relayed_nn[seen_relayed_nn['eligible_at'].notna()]\n",
    "seen_dur_not_relayed = seen_dur_not_relayed[seen_dur_not_relayed['relayed'].isna()]\n",
    "seen_dur_not_relayed"
   ]
  },
  {
   "cell_type": "code",
   "execution_count": 245,
   "metadata": {},
   "outputs": [
    {
     "data": {
      "text/plain": [
       "({'0x80c7311597316f871363f8395b6a8d056071d90d8eb27defd14759e8522786061b13728623452740ba05055f5ba9d3d5',\n",
       "  '0x81babeec8c9f2bb9c329fd8a3b176032fe0ab5f3b92a3f44d4575a231c7bd9c31d10b6328ef68ed1e8c02a3dbc8e80f9',\n",
       "  '0x81beef03aafd3dd33ffd7deb337407142c80fea2690e5b3190cfc01bde5753f28982a7857c96172a75a234cb7bcb994f',\n",
       "  '0x89551cb5def7a710d58c3f3c0b234266df9cab138d6bd79e58b03c3681030751f1aab2e2b08a706e2aba6db23ee1fb8b',\n",
       "  '0x8b8edce58fafe098763e4fabdeb318d347f9238845f22c507e813186ea7d44adecd3028f9288048f9ad3bc7c7c735fba',\n",
       "  '0x8bc8d110f8b5207e7edc407e8fa033937ddfe8d2c6f18c12a6171400eb6e04d49238ba2b0a95e633d15558e6a706fbe4',\n",
       "  '0x8ed74896fb129ac7f48d6a2908400044103b65d5c4e8f63feafd849f90fc174a4b71206a51b9453c12292bab3a92a4a2',\n",
       "  '0x945fc51bf63613257792926c9155d7ae32db73155dc13bdfe61cd476f1fd2297b66601e8721b723cef11e4e6682e9d87',\n",
       "  '0x94aa4ee318f39b56547a253700917982f4b737a49fc3f99ce08fa715e488e673d88a60f7d2cf9145a05127f17dcb7c67',\n",
       "  '0x965a05a1ba338f4bbbb97407d70659f4cea2146d83ac5da6c2f3de824713c927dcba706f35322d65764912e7756103e2',\n",
       "  '0x96a59d355b1f65e270b29981dd113625732539e955a1beeecbc471dd0196c4804574ff871d47ed34ff6d921061e9fc27',\n",
       "  '0x976e63c505050e25b70b39238990c78ddf0948685eb8c5687d17ba5089541f37dd3c45999f2db449eac298b1d4856013',\n",
       "  '0x978a35c39c41aadbe35ea29712bccffb117cc6ebcad4d86ea463d712af1dc80131d0c650dc29ba29ef27c881f43bd587',\n",
       "  '0xa0d0dbdf7b5eda08c921dee5da7c78c34c9685db3e39e81eb91da94af29eaa50f1468813c86503bf41b4b51bf772800e',\n",
       "  '0xa1dead01e65f0a0eee7b5170223f20c8f0cbf122eac3324d61afbdb33a8885ff8cab2ef514ac2c7698ae0d6289ef27fc',\n",
       "  '0xa4fb63c2ceeee73d1f1711fadf1c5357ac98cecb999d053be613f469a48f7416999a4da35dd60a7824478661399e6772',\n",
       "  '0xa971c4ee4ac5d47e0fb9e16be05981bfe51458f14c06b7a020304099c23d2d9952d4254cc50f291c385d15e7cae0cf9d',\n",
       "  '0xab847befe59b5effffa12f47acf44cbf8ef875e7c891a4ee9e9c483254cf9a55f5ed688e43ff5bc6cd9276e99091921b',\n",
       "  '0xaec4ec48c2ec03c418c599622980184e926f0de3c9ceab15fc059d617fa0eafe7a0c62126a4657faf596a1b211eec347',\n",
       "  '0xb194b2b8ec91a71c18f8483825234679299d146495a08db3bf3fb955e1d85a5fca77e88de93a74f4e32320fc922d3027',\n",
       "  '0xb5a688d26d7858b38c44f44568d68fb94f112fc834cd225d32dc52f0277c2007babc861f6f157a6fc6c1dc25bf409046',\n",
       "  '0xb5d883565500910f3f10f0a2e3a031139d972117a3b67da191ff93ba00ba26502d9b65385b5bca5e7c587273e40f2319',\n",
       "  '0xb67eaa5efcfa1d17319c344e1e5167811afbfe7922a2cf01c9a361f465597a5dc3a5472bd98843bac88d2541a78eab08',\n",
       "  '0xb8fceec09779ff758918a849bfe8ab43cea79f6a98320af0af5b030f6a7850fcc5883cb965d02efb10eed1ffa987e899'},\n",
       " 511)"
      ]
     },
     "execution_count": 245,
     "metadata": {},
     "output_type": "execute_result"
    }
   ],
   "source": [
    "seen_not_relayed_nopt = seen_dur_not_relayed[seen_dur_not_relayed['is_optimistic'] == 'f']\n",
    "set(seen_not_relayed_nopt.builder_pubkey), len(seen_not_relayed_nopt)"
   ]
  },
  {
   "cell_type": "code",
   "execution_count": 219,
   "metadata": {},
   "outputs": [
    {
     "data": {
      "text/plain": [
       "0.29006211180124225"
      ]
     },
     "execution_count": 219,
     "metadata": {},
     "output_type": "execute_result"
    }
   ],
   "source": [
    "467/1610"
   ]
  },
  {
   "cell_type": "code",
   "execution_count": 246,
   "metadata": {},
   "outputs": [
    {
     "data": {
      "text/plain": [
       "description\n",
       "flashbots      388\n",
       "bloxroute       68\n",
       "beaver          18\n",
       "0x69            17\n",
       "manta            5\n",
       "rsync            4\n",
       "payload          4\n",
       "rickastley       3\n",
       "eth-builder      3\n",
       "titan            1\n",
       "dtype: int64"
      ]
     },
     "execution_count": 246,
     "metadata": {},
     "output_type": "execute_result"
    }
   ],
   "source": [
    "all_builders = pd.read_csv('allbuilders.txt', delimiter='|', names=['builder_pubkey', 'description'])\n",
    "seen_not_relayed_nopt_desc = seen_not_relayed_nopt.merge(all_builders, on='builder_pubkey', how='left')\n",
    "seen_not_relayed_nopt_desc[['description']].value_counts()"
   ]
  },
  {
   "cell_type": "code",
   "execution_count": 249,
   "metadata": {},
   "outputs": [
    {
     "data": {
      "text/plain": [
       "1099"
      ]
     },
     "execution_count": 249,
     "metadata": {},
     "output_type": "execute_result"
    }
   ],
   "source": [
    "seen_dur_not_relayed_opt = seen_dur_not_relayed[seen_dur_not_relayed['is_optimistic'] == 't']\n",
    "len(seen_dur_not_relayed_opt)"
   ]
  },
  {
   "cell_type": "code",
   "execution_count": 250,
   "metadata": {},
   "outputs": [
    {
     "data": {
      "text/html": [
       "<div>\n",
       "<style scoped>\n",
       "    .dataframe tbody tr th:only-of-type {\n",
       "        vertical-align: middle;\n",
       "    }\n",
       "\n",
       "    .dataframe tbody tr th {\n",
       "        vertical-align: top;\n",
       "    }\n",
       "\n",
       "    .dataframe thead th {\n",
       "        text-align: right;\n",
       "    }\n",
       "</style>\n",
       "<table border=\"1\" class=\"dataframe\">\n",
       "  <thead>\n",
       "    <tr style=\"text-align: right;\">\n",
       "      <th></th>\n",
       "      <th>block</th>\n",
       "      <th>block_hash</th>\n",
       "      <th>builder_pubkey</th>\n",
       "      <th>received_at</th>\n",
       "      <th>eligible_at</th>\n",
       "      <th>is_optimistic</th>\n",
       "      <th>total_duration</th>\n",
       "      <th>slot</th>\n",
       "      <th>relayed</th>\n",
       "    </tr>\n",
       "  </thead>\n",
       "  <tbody>\n",
       "    <tr>\n",
       "      <th>1</th>\n",
       "      <td>16871910</td>\n",
       "      <td>0x5f2be5f888663e9e60c24f06ab728cdd01871f5e51e3...</td>\n",
       "      <td>0xb5d883565500910f3f10f0a2e3a031139d972117a3b6...</td>\n",
       "      <td>2023-03-20 22:39:11.966011</td>\n",
       "      <td>2023-03-20 22:39:11.989962</td>\n",
       "      <td>t</td>\n",
       "      <td>23950.0</td>\n",
       "      <td>NaN</td>\n",
       "      <td>NaN</td>\n",
       "    </tr>\n",
       "    <tr>\n",
       "      <th>2</th>\n",
       "      <td>16871914</td>\n",
       "      <td>0x235dae41a768108b682b9158acd2c01472c0ea317ae6...</td>\n",
       "      <td>0x82ba7cadcdfc1b156ba2c48c1c627428ba917858e62c...</td>\n",
       "      <td>2023-03-20 22:39:59.073824</td>\n",
       "      <td>2023-03-20 22:39:59.249626</td>\n",
       "      <td>t</td>\n",
       "      <td>175801.0</td>\n",
       "      <td>NaN</td>\n",
       "      <td>NaN</td>\n",
       "    </tr>\n",
       "    <tr>\n",
       "      <th>12</th>\n",
       "      <td>16871930</td>\n",
       "      <td>0x6b74e0664669f3d274455e403ca6b88b59d7f7ed72fb...</td>\n",
       "      <td>0xb194b2b8ec91a71c18f8483825234679299d146495a0...</td>\n",
       "      <td>2023-03-20 22:43:11.404505</td>\n",
       "      <td>2023-03-20 22:43:11.435239</td>\n",
       "      <td>t</td>\n",
       "      <td>30733.0</td>\n",
       "      <td>NaN</td>\n",
       "      <td>NaN</td>\n",
       "    </tr>\n",
       "    <tr>\n",
       "      <th>16</th>\n",
       "      <td>16871935</td>\n",
       "      <td>0x4f2343fb49205c75b3673f8e4ba3f7fbfcf3f3ef0fa0...</td>\n",
       "      <td>0x978a35c39c41aadbe35ea29712bccffb117cc6ebcad4...</td>\n",
       "      <td>2023-03-20 22:44:11.114526</td>\n",
       "      <td>2023-03-20 22:44:11.151341</td>\n",
       "      <td>t</td>\n",
       "      <td>36815.0</td>\n",
       "      <td>NaN</td>\n",
       "      <td>NaN</td>\n",
       "    </tr>\n",
       "    <tr>\n",
       "      <th>17</th>\n",
       "      <td>16871936</td>\n",
       "      <td>0xf8374b63942074ccbb0f67cdeac690f167ad74ec81c5...</td>\n",
       "      <td>0xa0d0dbdf7b5eda08c921dee5da7c78c34c9685db3e39...</td>\n",
       "      <td>2023-03-20 22:44:23.225864</td>\n",
       "      <td>2023-03-20 22:44:23.452943</td>\n",
       "      <td>t</td>\n",
       "      <td>227078.0</td>\n",
       "      <td>NaN</td>\n",
       "      <td>NaN</td>\n",
       "    </tr>\n",
       "  </tbody>\n",
       "</table>\n",
       "</div>"
      ],
      "text/plain": [
       "       block                                         block_hash  \\\n",
       "1   16871910  0x5f2be5f888663e9e60c24f06ab728cdd01871f5e51e3...   \n",
       "2   16871914  0x235dae41a768108b682b9158acd2c01472c0ea317ae6...   \n",
       "12  16871930  0x6b74e0664669f3d274455e403ca6b88b59d7f7ed72fb...   \n",
       "16  16871935  0x4f2343fb49205c75b3673f8e4ba3f7fbfcf3f3ef0fa0...   \n",
       "17  16871936  0xf8374b63942074ccbb0f67cdeac690f167ad74ec81c5...   \n",
       "\n",
       "                                       builder_pubkey  \\\n",
       "1   0xb5d883565500910f3f10f0a2e3a031139d972117a3b6...   \n",
       "2   0x82ba7cadcdfc1b156ba2c48c1c627428ba917858e62c...   \n",
       "12  0xb194b2b8ec91a71c18f8483825234679299d146495a0...   \n",
       "16  0x978a35c39c41aadbe35ea29712bccffb117cc6ebcad4...   \n",
       "17  0xa0d0dbdf7b5eda08c921dee5da7c78c34c9685db3e39...   \n",
       "\n",
       "                  received_at                eligible_at is_optimistic  \\\n",
       "1  2023-03-20 22:39:11.966011 2023-03-20 22:39:11.989962             t   \n",
       "2  2023-03-20 22:39:59.073824 2023-03-20 22:39:59.249626             t   \n",
       "12 2023-03-20 22:43:11.404505 2023-03-20 22:43:11.435239             t   \n",
       "16 2023-03-20 22:44:11.114526 2023-03-20 22:44:11.151341             t   \n",
       "17 2023-03-20 22:44:23.225864 2023-03-20 22:44:23.452943             t   \n",
       "\n",
       "    total_duration  slot relayed  \n",
       "1          23950.0   NaN     NaN  \n",
       "2         175801.0   NaN     NaN  \n",
       "12         30733.0   NaN     NaN  \n",
       "16         36815.0   NaN     NaN  \n",
       "17        227078.0   NaN     NaN  "
      ]
     },
     "execution_count": 250,
     "metadata": {},
     "output_type": "execute_result"
    }
   ],
   "source": [
    "seen_dur_not_relayed_opt.head()"
   ]
  },
  {
   "cell_type": "code",
   "execution_count": 251,
   "metadata": {},
   "outputs": [
    {
     "name": "stderr",
     "output_type": "stream",
     "text": [
      "<ipython-input-251-a6982dfb64d5>:1: SettingWithCopyWarning: \n",
      "A value is trying to be set on a copy of a slice from a DataFrame.\n",
      "Try using .loc[row_indexer,col_indexer] = value instead\n",
      "\n",
      "See the caveats in the documentation: https://pandas.pydata.org/pandas-docs/stable/user_guide/indexing.html#returning-a-view-versus-a-copy\n",
      "  seen_dur_not_relayed_opt['slot_boundary'] = np.asarray([pd.Timestamp(x).round(freq='12S') for x in seen_dur_not_relayed_opt['received_at'].values])\n"
     ]
    },
    {
     "data": {
      "text/html": [
       "<div>\n",
       "<style scoped>\n",
       "    .dataframe tbody tr th:only-of-type {\n",
       "        vertical-align: middle;\n",
       "    }\n",
       "\n",
       "    .dataframe tbody tr th {\n",
       "        vertical-align: top;\n",
       "    }\n",
       "\n",
       "    .dataframe thead th {\n",
       "        text-align: right;\n",
       "    }\n",
       "</style>\n",
       "<table border=\"1\" class=\"dataframe\">\n",
       "  <thead>\n",
       "    <tr style=\"text-align: right;\">\n",
       "      <th></th>\n",
       "      <th>block</th>\n",
       "      <th>block_hash</th>\n",
       "      <th>builder_pubkey</th>\n",
       "      <th>received_at</th>\n",
       "      <th>eligible_at</th>\n",
       "      <th>is_optimistic</th>\n",
       "      <th>total_duration</th>\n",
       "      <th>slot</th>\n",
       "      <th>relayed</th>\n",
       "      <th>slot_boundary</th>\n",
       "    </tr>\n",
       "  </thead>\n",
       "  <tbody>\n",
       "    <tr>\n",
       "      <th>1</th>\n",
       "      <td>16871910</td>\n",
       "      <td>0x5f2be5f888663e9e60c24f06ab728cdd01871f5e51e3...</td>\n",
       "      <td>0xb5d883565500910f3f10f0a2e3a031139d972117a3b6...</td>\n",
       "      <td>2023-03-20 22:39:11.966011</td>\n",
       "      <td>2023-03-20 22:39:11.989962</td>\n",
       "      <td>t</td>\n",
       "      <td>23950.0</td>\n",
       "      <td>NaN</td>\n",
       "      <td>NaN</td>\n",
       "      <td>2023-03-20 22:39:12</td>\n",
       "    </tr>\n",
       "    <tr>\n",
       "      <th>2</th>\n",
       "      <td>16871914</td>\n",
       "      <td>0x235dae41a768108b682b9158acd2c01472c0ea317ae6...</td>\n",
       "      <td>0x82ba7cadcdfc1b156ba2c48c1c627428ba917858e62c...</td>\n",
       "      <td>2023-03-20 22:39:59.073824</td>\n",
       "      <td>2023-03-20 22:39:59.249626</td>\n",
       "      <td>t</td>\n",
       "      <td>175801.0</td>\n",
       "      <td>NaN</td>\n",
       "      <td>NaN</td>\n",
       "      <td>2023-03-20 22:40:00</td>\n",
       "    </tr>\n",
       "    <tr>\n",
       "      <th>12</th>\n",
       "      <td>16871930</td>\n",
       "      <td>0x6b74e0664669f3d274455e403ca6b88b59d7f7ed72fb...</td>\n",
       "      <td>0xb194b2b8ec91a71c18f8483825234679299d146495a0...</td>\n",
       "      <td>2023-03-20 22:43:11.404505</td>\n",
       "      <td>2023-03-20 22:43:11.435239</td>\n",
       "      <td>t</td>\n",
       "      <td>30733.0</td>\n",
       "      <td>NaN</td>\n",
       "      <td>NaN</td>\n",
       "      <td>2023-03-20 22:43:12</td>\n",
       "    </tr>\n",
       "    <tr>\n",
       "      <th>16</th>\n",
       "      <td>16871935</td>\n",
       "      <td>0x4f2343fb49205c75b3673f8e4ba3f7fbfcf3f3ef0fa0...</td>\n",
       "      <td>0x978a35c39c41aadbe35ea29712bccffb117cc6ebcad4...</td>\n",
       "      <td>2023-03-20 22:44:11.114526</td>\n",
       "      <td>2023-03-20 22:44:11.151341</td>\n",
       "      <td>t</td>\n",
       "      <td>36815.0</td>\n",
       "      <td>NaN</td>\n",
       "      <td>NaN</td>\n",
       "      <td>2023-03-20 22:44:12</td>\n",
       "    </tr>\n",
       "    <tr>\n",
       "      <th>17</th>\n",
       "      <td>16871936</td>\n",
       "      <td>0xf8374b63942074ccbb0f67cdeac690f167ad74ec81c5...</td>\n",
       "      <td>0xa0d0dbdf7b5eda08c921dee5da7c78c34c9685db3e39...</td>\n",
       "      <td>2023-03-20 22:44:23.225864</td>\n",
       "      <td>2023-03-20 22:44:23.452943</td>\n",
       "      <td>t</td>\n",
       "      <td>227078.0</td>\n",
       "      <td>NaN</td>\n",
       "      <td>NaN</td>\n",
       "      <td>2023-03-20 22:44:24</td>\n",
       "    </tr>\n",
       "  </tbody>\n",
       "</table>\n",
       "</div>"
      ],
      "text/plain": [
       "       block                                         block_hash  \\\n",
       "1   16871910  0x5f2be5f888663e9e60c24f06ab728cdd01871f5e51e3...   \n",
       "2   16871914  0x235dae41a768108b682b9158acd2c01472c0ea317ae6...   \n",
       "12  16871930  0x6b74e0664669f3d274455e403ca6b88b59d7f7ed72fb...   \n",
       "16  16871935  0x4f2343fb49205c75b3673f8e4ba3f7fbfcf3f3ef0fa0...   \n",
       "17  16871936  0xf8374b63942074ccbb0f67cdeac690f167ad74ec81c5...   \n",
       "\n",
       "                                       builder_pubkey  \\\n",
       "1   0xb5d883565500910f3f10f0a2e3a031139d972117a3b6...   \n",
       "2   0x82ba7cadcdfc1b156ba2c48c1c627428ba917858e62c...   \n",
       "12  0xb194b2b8ec91a71c18f8483825234679299d146495a0...   \n",
       "16  0x978a35c39c41aadbe35ea29712bccffb117cc6ebcad4...   \n",
       "17  0xa0d0dbdf7b5eda08c921dee5da7c78c34c9685db3e39...   \n",
       "\n",
       "                  received_at                eligible_at is_optimistic  \\\n",
       "1  2023-03-20 22:39:11.966011 2023-03-20 22:39:11.989962             t   \n",
       "2  2023-03-20 22:39:59.073824 2023-03-20 22:39:59.249626             t   \n",
       "12 2023-03-20 22:43:11.404505 2023-03-20 22:43:11.435239             t   \n",
       "16 2023-03-20 22:44:11.114526 2023-03-20 22:44:11.151341             t   \n",
       "17 2023-03-20 22:44:23.225864 2023-03-20 22:44:23.452943             t   \n",
       "\n",
       "    total_duration  slot relayed       slot_boundary  \n",
       "1          23950.0   NaN     NaN 2023-03-20 22:39:12  \n",
       "2         175801.0   NaN     NaN 2023-03-20 22:40:00  \n",
       "12         30733.0   NaN     NaN 2023-03-20 22:43:12  \n",
       "16         36815.0   NaN     NaN 2023-03-20 22:44:12  \n",
       "17        227078.0   NaN     NaN 2023-03-20 22:44:24  "
      ]
     },
     "execution_count": 251,
     "metadata": {},
     "output_type": "execute_result"
    }
   ],
   "source": [
    "seen_dur_not_relayed_opt['slot_boundary'] = np.asarray([pd.Timestamp(x).round(freq='12S') for x in seen_dur_not_relayed_opt['received_at'].values])\n",
    "seen_dur_not_relayed_opt.head()"
   ]
  },
  {
   "cell_type": "code",
   "execution_count": 252,
   "metadata": {},
   "outputs": [
    {
     "name": "stderr",
     "output_type": "stream",
     "text": [
      "<ipython-input-252-a52f39ce3091>:1: SettingWithCopyWarning: \n",
      "A value is trying to be set on a copy of a slice from a DataFrame.\n",
      "Try using .loc[row_indexer,col_indexer] = value instead\n",
      "\n",
      "See the caveats in the documentation: https://pandas.pydata.org/pandas-docs/stable/user_guide/indexing.html#returning-a-view-versus-a-copy\n",
      "  seen_dur_not_relayed_opt['diff'] = [v.total_seconds() for v in seen_dur_not_relayed_opt['slot_boundary'] - seen_dur_not_relayed_opt['eligible_at']]\n"
     ]
    }
   ],
   "source": [
    "seen_dur_not_relayed_opt['diff'] = [v.total_seconds() for v in seen_dur_not_relayed_opt['slot_boundary'] - seen_dur_not_relayed_opt['eligible_at']]"
   ]
  },
  {
   "cell_type": "code",
   "execution_count": 254,
   "metadata": {},
   "outputs": [
    {
     "data": {
      "text/plain": [
       "1       0.010038\n",
       "2       0.750374\n",
       "12      0.564761\n",
       "16      0.848659\n",
       "17      0.547057\n",
       "          ...   \n",
       "4218    1.862067\n",
       "4220    0.150055\n",
       "4226    0.621888\n",
       "4227    0.269557\n",
       "4228   -0.006876\n",
       "Name: diff, Length: 1099, dtype: float64"
      ]
     },
     "execution_count": 254,
     "metadata": {},
     "output_type": "execute_result"
    }
   ],
   "source": [
    "seen_dur_not_relayed_opt['diff']"
   ]
  },
  {
   "cell_type": "code",
   "execution_count": 255,
   "metadata": {},
   "outputs": [
    {
     "data": {
      "image/png": "[encoded data removed]",
      "text/plain": [
       "<Figure size 576x360 with 1 Axes>"
      ]
     },
     "metadata": {
      "needs_background": "light"
     },
     "output_type": "display_data"
    }
   ],
   "source": [
    "f, ax = plt.subplots(figsize=(8,5))\n",
    "ax.hist(seen_dur_not_relayed_opt['diff'], bins=100, color='red', alpha=0.3)\n",
    "ax.set_xlabel('boundary - eligible at', size=14)\n",
    "plt.show()"
   ]
  },
  {
   "cell_type": "code",
   "execution_count": 256,
   "metadata": {},
   "outputs": [
    {
     "data": {
      "text/plain": [
       "(0.684543, 0.6541851637852594)"
      ]
     },
     "execution_count": 256,
     "metadata": {},
     "output_type": "execute_result"
    }
   ],
   "source": [
    "np.percentile(seen_dur_not_relayed_opt['diff'].values, 50), seen_dur_not_relayed_opt['diff'].values.mean()"
   ]
  },
  {
   "cell_type": "code",
   "execution_count": 257,
   "metadata": {},
   "outputs": [
    {
     "data": {
      "text/plain": [
       "(938, 161)"
      ]
     },
     "execution_count": 257,
     "metadata": {},
     "output_type": "execute_result"
    }
   ],
   "source": [
    "len(seen_dur_not_relayed_opt[seen_dur_not_relayed_opt['diff']>0]), len(seen_dur_not_relayed_opt[seen_dur_not_relayed_opt['diff']<-0])"
   ]
  },
  {
   "cell_type": "code",
   "execution_count": 259,
   "metadata": {},
   "outputs": [
    {
     "data": {
      "text/plain": [
       "(1099, 0.8535031847133758, 0.1464968152866242)"
      ]
     },
     "execution_count": 259,
     "metadata": {},
     "output_type": "execute_result"
    }
   ],
   "source": [
    "938+161, 938/1099, 161/1099"
   ]
  },
  {
   "cell_type": "code",
   "execution_count": 261,
   "metadata": {},
   "outputs": [
    {
     "data": {
      "text/html": [
       "<div>\n",
       "<style scoped>\n",
       "    .dataframe tbody tr th:only-of-type {\n",
       "        vertical-align: middle;\n",
       "    }\n",
       "\n",
       "    .dataframe tbody tr th {\n",
       "        vertical-align: top;\n",
       "    }\n",
       "\n",
       "    .dataframe thead th {\n",
       "        text-align: right;\n",
       "    }\n",
       "</style>\n",
       "<table border=\"1\" class=\"dataframe\">\n",
       "  <thead>\n",
       "    <tr style=\"text-align: right;\">\n",
       "      <th></th>\n",
       "      <th>block</th>\n",
       "      <th>block_hash</th>\n",
       "      <th>builder_pubkey</th>\n",
       "      <th>received_at</th>\n",
       "      <th>eligible_at</th>\n",
       "      <th>is_optimistic</th>\n",
       "      <th>total_duration</th>\n",
       "      <th>slot</th>\n",
       "      <th>relayed</th>\n",
       "      <th>slot_boundary</th>\n",
       "      <th>diff</th>\n",
       "    </tr>\n",
       "  </thead>\n",
       "  <tbody>\n",
       "    <tr>\n",
       "      <th>23</th>\n",
       "      <td>16871946</td>\n",
       "      <td>0x1aebd10d7676bb43579a2856d2d89a0f58cc31b6e6b0...</td>\n",
       "      <td>0x978a35c39c41aadbe35ea29712bccffb117cc6ebcad4...</td>\n",
       "      <td>2023-03-20 22:46:23.687108</td>\n",
       "      <td>2023-03-20 22:46:25.257527</td>\n",
       "      <td>t</td>\n",
       "      <td>1570419.0</td>\n",
       "      <td>NaN</td>\n",
       "      <td>NaN</td>\n",
       "      <td>2023-03-20 22:46:24</td>\n",
       "      <td>-1.257527</td>\n",
       "    </tr>\n",
       "    <tr>\n",
       "      <th>67</th>\n",
       "      <td>16872009</td>\n",
       "      <td>0x09411e91adfbe339bacd1b1c52a49b23fe7236fa9993...</td>\n",
       "      <td>0x83d3495a2951065cf19c4d282afca0a635a39f6504bd...</td>\n",
       "      <td>2023-03-20 22:58:59.489507</td>\n",
       "      <td>2023-03-20 22:59:00.401482</td>\n",
       "      <td>t</td>\n",
       "      <td>911975.0</td>\n",
       "      <td>NaN</td>\n",
       "      <td>NaN</td>\n",
       "      <td>2023-03-20 22:59:00</td>\n",
       "      <td>-0.401482</td>\n",
       "    </tr>\n",
       "    <tr>\n",
       "      <th>90</th>\n",
       "      <td>16872044</td>\n",
       "      <td>0x626e4d1c7527d8a433b01bf32b4b024b7e0885bf296d...</td>\n",
       "      <td>0x83d3495a2951065cf19c4d282afca0a635a39f6504bd...</td>\n",
       "      <td>2023-03-20 23:05:59.238486</td>\n",
       "      <td>2023-03-20 23:06:00.740722</td>\n",
       "      <td>t</td>\n",
       "      <td>1502236.0</td>\n",
       "      <td>NaN</td>\n",
       "      <td>NaN</td>\n",
       "      <td>2023-03-20 23:06:00</td>\n",
       "      <td>-0.740722</td>\n",
       "    </tr>\n",
       "    <tr>\n",
       "      <th>223</th>\n",
       "      <td>16872255</td>\n",
       "      <td>0x0bc4f97e24ab87e1c645326cac47efd8604937e062d4...</td>\n",
       "      <td>0xa4fb63c2ceeee73d1f1711fadf1c5357ac98cecb999d...</td>\n",
       "      <td>2023-03-20 23:48:34.996172</td>\n",
       "      <td>2023-03-20 23:48:36.000708</td>\n",
       "      <td>t</td>\n",
       "      <td>1004536.0</td>\n",
       "      <td>NaN</td>\n",
       "      <td>NaN</td>\n",
       "      <td>2023-03-20 23:48:36</td>\n",
       "      <td>-0.000708</td>\n",
       "    </tr>\n",
       "    <tr>\n",
       "      <th>245</th>\n",
       "      <td>16872295</td>\n",
       "      <td>0x5ef6248300bbe1a12bddfe72a01b8d4bb15111e395e2...</td>\n",
       "      <td>0xa31892c0466813868f0cd8d3255dab5f84ae1a6d4a28...</td>\n",
       "      <td>2023-03-20 23:56:35.227067</td>\n",
       "      <td>2023-03-20 23:56:36.073640</td>\n",
       "      <td>t</td>\n",
       "      <td>846572.0</td>\n",
       "      <td>NaN</td>\n",
       "      <td>NaN</td>\n",
       "      <td>2023-03-20 23:56:36</td>\n",
       "      <td>-0.073640</td>\n",
       "    </tr>\n",
       "  </tbody>\n",
       "</table>\n",
       "</div>"
      ],
      "text/plain": [
       "        block                                         block_hash  \\\n",
       "23   16871946  0x1aebd10d7676bb43579a2856d2d89a0f58cc31b6e6b0...   \n",
       "67   16872009  0x09411e91adfbe339bacd1b1c52a49b23fe7236fa9993...   \n",
       "90   16872044  0x626e4d1c7527d8a433b01bf32b4b024b7e0885bf296d...   \n",
       "223  16872255  0x0bc4f97e24ab87e1c645326cac47efd8604937e062d4...   \n",
       "245  16872295  0x5ef6248300bbe1a12bddfe72a01b8d4bb15111e395e2...   \n",
       "\n",
       "                                        builder_pubkey  \\\n",
       "23   0x978a35c39c41aadbe35ea29712bccffb117cc6ebcad4...   \n",
       "67   0x83d3495a2951065cf19c4d282afca0a635a39f6504bd...   \n",
       "90   0x83d3495a2951065cf19c4d282afca0a635a39f6504bd...   \n",
       "223  0xa4fb63c2ceeee73d1f1711fadf1c5357ac98cecb999d...   \n",
       "245  0xa31892c0466813868f0cd8d3255dab5f84ae1a6d4a28...   \n",
       "\n",
       "                   received_at                eligible_at is_optimistic  \\\n",
       "23  2023-03-20 22:46:23.687108 2023-03-20 22:46:25.257527             t   \n",
       "67  2023-03-20 22:58:59.489507 2023-03-20 22:59:00.401482             t   \n",
       "90  2023-03-20 23:05:59.238486 2023-03-20 23:06:00.740722             t   \n",
       "223 2023-03-20 23:48:34.996172 2023-03-20 23:48:36.000708             t   \n",
       "245 2023-03-20 23:56:35.227067 2023-03-20 23:56:36.073640             t   \n",
       "\n",
       "     total_duration  slot relayed       slot_boundary      diff  \n",
       "23        1570419.0   NaN     NaN 2023-03-20 22:46:24 -1.257527  \n",
       "67         911975.0   NaN     NaN 2023-03-20 22:59:00 -0.401482  \n",
       "90        1502236.0   NaN     NaN 2023-03-20 23:06:00 -0.740722  \n",
       "223       1004536.0   NaN     NaN 2023-03-20 23:48:36 -0.000708  \n",
       "245        846572.0   NaN     NaN 2023-03-20 23:56:36 -0.073640  "
      ]
     },
     "execution_count": 261,
     "metadata": {},
     "output_type": "execute_result"
    }
   ],
   "source": [
    "snr = seen_dur_not_relayed_opt[seen_dur_not_relayed_opt['received_at'] < seen_dur_not_relayed_opt['slot_boundary']]\n",
    "snr = snr[snr['slot_boundary'] < snr['eligible_at']]\n",
    "snr.head()"
   ]
  },
  {
   "cell_type": "code",
   "execution_count": 262,
   "metadata": {},
   "outputs": [
    {
     "data": {
      "text/plain": [
       "128"
      ]
     },
     "execution_count": 262,
     "metadata": {},
     "output_type": "execute_result"
    }
   ],
   "source": [
    "len(snr)"
   ]
  },
  {
   "cell_type": "code",
   "execution_count": 263,
   "metadata": {},
   "outputs": [
    {
     "data": {
      "text/plain": [
       "1099"
      ]
     },
     "execution_count": 263,
     "metadata": {},
     "output_type": "execute_result"
    }
   ],
   "source": [
    "len(seen_dur_not_relayed_opt)"
   ]
  },
  {
   "cell_type": "code",
   "execution_count": 267,
   "metadata": {},
   "outputs": [
    {
     "data": {
      "text/plain": [
       "989"
      ]
     },
     "execution_count": 267,
     "metadata": {},
     "output_type": "execute_result"
    }
   ],
   "source": [
    "durs = seen_dur_not_relayed_opt['total_duration'].values\n",
    "durs = durs[durs < np.percentile(durs,90)]\n",
    "len(durs)"
   ]
  },
  {
   "cell_type": "code",
   "execution_count": 269,
   "metadata": {},
   "outputs": [
    {
     "data": {
      "image/png": "[encoded data removed]",
      "text/plain": [
       "<Figure size 576x360 with 1 Axes>"
      ]
     },
     "metadata": {
      "needs_background": "light"
     },
     "output_type": "display_data"
    }
   ],
   "source": [
    "f, ax = plt.subplots(figsize=(8,5))\n",
    "ax.hist(durs, bins=100, color='green', alpha=0.7)\n",
    "ax.set_xlabel('total duration $(\\mu s)$', size=14)\n",
    "plt.show()"
   ]
  },
  {
   "cell_type": "code",
   "execution_count": 271,
   "metadata": {},
   "outputs": [
    {
     "data": {
      "text/plain": [
       "509"
      ]
     },
     "execution_count": 271,
     "metadata": {},
     "output_type": "execute_result"
    }
   ],
   "source": [
    "len(durs[durs>70000])"
   ]
  }
 ],
 "metadata": {
  "kernelspec": {
   "display_name": "Python 3",
   "language": "python",
   "name": "python3"
  },
  "language_info": {
   "codemirror_mode": {
    "name": "ipython",
    "version": 3
   },
   "file_extension": ".py",
   "mimetype": "text/x-python",
   "name": "python",
   "nbconvert_exporter": "python",
   "pygments_lexer": "ipython3",
   "version": "3.8.16"
  }
 },
 "nbformat": 4,
 "nbformat_minor": 4
}

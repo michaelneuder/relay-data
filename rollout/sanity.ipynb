{
 "cells": [
  {
   "cell_type": "code",
   "execution_count": 1,
   "metadata": {},
   "outputs": [],
   "source": [
    "import numpy as np\n",
    "import pandas as pd\n",
    "import matplotlib.pyplot as plt\n",
    "import json\n",
    "from datetime import datetime"
   ]
  },
  {
   "cell_type": "code",
   "execution_count": 2,
   "metadata": {},
   "outputs": [
    {
     "data": {
      "text/html": [
       "<div>\n",
       "<style scoped>\n",
       "    .dataframe tbody tr th:only-of-type {\n",
       "        vertical-align: middle;\n",
       "    }\n",
       "\n",
       "    .dataframe tbody tr th {\n",
       "        vertical-align: top;\n",
       "    }\n",
       "\n",
       "    .dataframe thead th {\n",
       "        text-align: right;\n",
       "    }\n",
       "</style>\n",
       "<table border=\"1\" class=\"dataframe\">\n",
       "  <thead>\n",
       "    <tr style=\"text-align: right;\">\n",
       "      <th></th>\n",
       "      <th>optimistic_submission</th>\n",
       "      <th>decode_duration</th>\n",
       "      <th>prechecks_duration</th>\n",
       "      <th>simulation_duration</th>\n",
       "      <th>redis_update_duration</th>\n",
       "      <th>total_duration</th>\n",
       "    </tr>\n",
       "  </thead>\n",
       "  <tbody>\n",
       "    <tr>\n",
       "      <th>0</th>\n",
       "      <td>f</td>\n",
       "      <td>405846</td>\n",
       "      <td>602814</td>\n",
       "      <td>890236</td>\n",
       "      <td>1702454</td>\n",
       "      <td>3601350</td>\n",
       "    </tr>\n",
       "    <tr>\n",
       "      <th>1</th>\n",
       "      <td>f</td>\n",
       "      <td>797038</td>\n",
       "      <td>309763</td>\n",
       "      <td>1288231</td>\n",
       "      <td>714995</td>\n",
       "      <td>3110028</td>\n",
       "    </tr>\n",
       "    <tr>\n",
       "      <th>2</th>\n",
       "      <td>f</td>\n",
       "      <td>605719</td>\n",
       "      <td>895151</td>\n",
       "      <td>299141</td>\n",
       "      <td>1899639</td>\n",
       "      <td>3699652</td>\n",
       "    </tr>\n",
       "    <tr>\n",
       "      <th>3</th>\n",
       "      <td>f</td>\n",
       "      <td>900908</td>\n",
       "      <td>1010939</td>\n",
       "      <td>691876</td>\n",
       "      <td>596738</td>\n",
       "      <td>3200462</td>\n",
       "    </tr>\n",
       "    <tr>\n",
       "      <th>4</th>\n",
       "      <td>f</td>\n",
       "      <td>1211691</td>\n",
       "      <td>790386</td>\n",
       "      <td>410057</td>\n",
       "      <td>500726</td>\n",
       "      <td>2912862</td>\n",
       "    </tr>\n",
       "  </tbody>\n",
       "</table>\n",
       "</div>"
      ],
      "text/plain": [
       "  optimistic_submission  decode_duration  prechecks_duration  \\\n",
       "0                     f           405846              602814   \n",
       "1                     f           797038              309763   \n",
       "2                     f           605719              895151   \n",
       "3                     f           900908             1010939   \n",
       "4                     f          1211691              790386   \n",
       "\n",
       "   simulation_duration  redis_update_duration  total_duration  \n",
       "0               890236                1702454         3601350  \n",
       "1              1288231                 714995         3110028  \n",
       "2               299141                1899639         3699652  \n",
       "3               691876                 596738         3200462  \n",
       "4               410057                 500726         2912862  "
      ]
     },
     "execution_count": 2,
     "metadata": {},
     "output_type": "execute_result"
    }
   ],
   "source": [
    "df = pd.read_csv('goerli.txt', delimiter=\"|\")\n",
    "df.head()"
   ]
  },
  {
   "cell_type": "code",
   "execution_count": 3,
   "metadata": {},
   "outputs": [
    {
     "data": {
      "text/plain": [
       "(60669, 36559, 97228)"
      ]
     },
     "execution_count": 3,
     "metadata": {},
     "output_type": "execute_result"
    }
   ],
   "source": [
    "len(df[df['optimistic_submission']=='f']),len(df[df['optimistic_submission']=='t']), len(df)"
   ]
  },
  {
   "cell_type": "code",
   "execution_count": 4,
   "metadata": {},
   "outputs": [],
   "source": [
    "opts = df[df['optimistic_submission']=='t']\n",
    "nopts = df[df['optimistic_submission']=='f']"
   ]
  },
  {
   "cell_type": "code",
   "execution_count": 5,
   "metadata": {},
   "outputs": [
    {
     "name": "stdout",
     "output_type": "stream",
     "text": [
      "21266 & 121611 & 181491 & 471613 & \n",
      "2865 & 3336 & 5275 & 265803 & \n",
      "12 & 14 & 19 & 39 & \n",
      "7343 & 10693 & 85062 & 1401017 & \n",
      "38551 & 147598 & 273117 & 1995852 & "
     ]
    }
   ],
   "source": [
    "for i in [50, 75, 90, 99]:\n",
    "    print(int(np.percentile(opts['decode_duration'], i)), end=' & ')\n",
    "print()\n",
    "for i in [50, 75, 90, 99]:\n",
    "    print(int(np.percentile(opts['prechecks_duration'], i)), end=' & ')\n",
    "print()\n",
    "for i in [50, 75, 90, 99]:\n",
    "    print(int(np.percentile(opts['simulation_duration'], i)), end=' & ')\n",
    "print()\n",
    "for i in [50, 75, 90, 99]:\n",
    "    print(int(np.percentile(opts['redis_update_duration'], i)), end=' & ')\n",
    "print()\n",
    "for i in [50, 75, 90, 99]:\n",
    "    print(int(np.percentile(opts['total_duration'], i)), end=' & ')"
   ]
  },
  {
   "cell_type": "code",
   "execution_count": 6,
   "metadata": {},
   "outputs": [
    {
     "name": "stdout",
     "output_type": "stream",
     "text": [
      "94895 & 150280 & 397757 & 1500414 & \n",
      "3106 & 11779 & 261653 & 996594 & \n",
      "47986 & 97060 & 284517 & 1099797 & \n",
      "10568 & 102975 & 818523 & 3307596 & \n",
      "170773 & 400994 & 2005783 & 5691560 & "
     ]
    }
   ],
   "source": [
    "for i in [50, 75, 90, 99]:\n",
    "    print(int(np.percentile(nopts['decode_duration'], i)), end=' & ')\n",
    "print()\n",
    "for i in [50, 75, 90, 99]:\n",
    "    print(int(np.percentile(nopts['prechecks_duration'], i)), end=' & ')\n",
    "print()\n",
    "for i in [50, 75, 90, 99]:\n",
    "    print(int(np.percentile(nopts['simulation_duration'], i)), end=' & ')\n",
    "print()\n",
    "for i in [50, 75, 90, 99]:\n",
    "    print(int(np.percentile(nopts['redis_update_duration'], i)), end=' & ')\n",
    "print()\n",
    "for i in [50, 75, 90, 99]:\n",
    "    print(int(np.percentile(nopts['total_duration'], i)), end=' & ')"
   ]
  }
 ],
 "metadata": {
  "kernelspec": {
   "display_name": "Python 3",
   "language": "python",
   "name": "python3"
  },
  "language_info": {
   "codemirror_mode": {
    "name": "ipython",
    "version": 3
   },
   "file_extension": ".py",
   "mimetype": "text/x-python",
   "name": "python",
   "nbconvert_exporter": "python",
   "pygments_lexer": "ipython3",
   "version": "3.8.16"
  }
 },
 "nbformat": 4,
 "nbformat_minor": 4
}

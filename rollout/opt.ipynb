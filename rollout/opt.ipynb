{
 "cells": [
  {
   "cell_type": "code",
   "execution_count": 1,
   "metadata": {},
   "outputs": [],
   "source": [
    "import numpy as np\n",
    "import pandas as pd\n",
    "import matplotlib.pyplot as plt\n",
    "import json\n",
    "from datetime import datetime\n",
    "plt.rcParams['axes.grid'] = True\n",
    "plt.rcParams['grid.alpha'] = 0.3\n",
    "plt.rcParams['axes.titlesize'] = 18"
   ]
  },
  {
   "cell_type": "code",
   "execution_count": 2,
   "metadata": {},
   "outputs": [
    {
     "data": {
      "text/html": [
       "<div>\n",
       "<style scoped>\n",
       "    .dataframe tbody tr th:only-of-type {\n",
       "        vertical-align: middle;\n",
       "    }\n",
       "\n",
       "    .dataframe tbody tr th {\n",
       "        vertical-align: top;\n",
       "    }\n",
       "\n",
       "    .dataframe thead th {\n",
       "        text-align: right;\n",
       "    }\n",
       "</style>\n",
       "<table border=\"1\" class=\"dataframe\">\n",
       "  <thead>\n",
       "    <tr style=\"text-align: right;\">\n",
       "      <th></th>\n",
       "      <th>received_at</th>\n",
       "      <th>optimistic_submission</th>\n",
       "      <th>decode_duration</th>\n",
       "      <th>prechecks_duration</th>\n",
       "      <th>simulation_duration</th>\n",
       "      <th>redis_update_duration</th>\n",
       "      <th>total_duration</th>\n",
       "      <th>substring</th>\n",
       "      <th>slot_boundary</th>\n",
       "    </tr>\n",
       "  </thead>\n",
       "  <tbody>\n",
       "    <tr>\n",
       "      <th>0</th>\n",
       "      <td>2023-03-13 17:57:45.774553</td>\n",
       "      <td>f</td>\n",
       "      <td>12410</td>\n",
       "      <td>1786</td>\n",
       "      <td>75578</td>\n",
       "      <td>6903</td>\n",
       "      <td>96678</td>\n",
       "      <td>0x978a35</td>\n",
       "      <td>2023-03-13 17:57:48</td>\n",
       "    </tr>\n",
       "    <tr>\n",
       "      <th>1</th>\n",
       "      <td>2023-03-13 17:57:45.698805</td>\n",
       "      <td>f</td>\n",
       "      <td>89843</td>\n",
       "      <td>1617</td>\n",
       "      <td>105741</td>\n",
       "      <td>6568</td>\n",
       "      <td>203771</td>\n",
       "      <td>0xa82f9a</td>\n",
       "      <td>2023-03-13 17:57:48</td>\n",
       "    </tr>\n",
       "    <tr>\n",
       "      <th>2</th>\n",
       "      <td>2023-03-13 17:57:45.810121</td>\n",
       "      <td>f</td>\n",
       "      <td>7900</td>\n",
       "      <td>1768</td>\n",
       "      <td>96445</td>\n",
       "      <td>7302</td>\n",
       "      <td>113417</td>\n",
       "      <td>0x84b02b</td>\n",
       "      <td>2023-03-13 17:57:48</td>\n",
       "    </tr>\n",
       "    <tr>\n",
       "      <th>3</th>\n",
       "      <td>2023-03-13 17:57:43.602490</td>\n",
       "      <td>f</td>\n",
       "      <td>90470</td>\n",
       "      <td>1353</td>\n",
       "      <td>98227</td>\n",
       "      <td>5276</td>\n",
       "      <td>195328</td>\n",
       "      <td>0xa1dead</td>\n",
       "      <td>2023-03-13 17:57:48</td>\n",
       "    </tr>\n",
       "    <tr>\n",
       "      <th>4</th>\n",
       "      <td>2023-03-13 17:57:43.675843</td>\n",
       "      <td>f</td>\n",
       "      <td>87590</td>\n",
       "      <td>1465</td>\n",
       "      <td>101181</td>\n",
       "      <td>5469</td>\n",
       "      <td>195707</td>\n",
       "      <td>0xa85807</td>\n",
       "      <td>2023-03-13 17:57:48</td>\n",
       "    </tr>\n",
       "  </tbody>\n",
       "</table>\n",
       "</div>"
      ],
      "text/plain": [
       "                 received_at optimistic_submission  decode_duration  \\\n",
       "0 2023-03-13 17:57:45.774553                     f            12410   \n",
       "1 2023-03-13 17:57:45.698805                     f            89843   \n",
       "2 2023-03-13 17:57:45.810121                     f             7900   \n",
       "3 2023-03-13 17:57:43.602490                     f            90470   \n",
       "4 2023-03-13 17:57:43.675843                     f            87590   \n",
       "\n",
       "   prechecks_duration  simulation_duration  redis_update_duration  \\\n",
       "0                1786                75578                   6903   \n",
       "1                1617               105741                   6568   \n",
       "2                1768                96445                   7302   \n",
       "3                1353                98227                   5276   \n",
       "4                1465               101181                   5469   \n",
       "\n",
       "   total_duration substring       slot_boundary  \n",
       "0           96678  0x978a35 2023-03-13 17:57:48  \n",
       "1          203771  0xa82f9a 2023-03-13 17:57:48  \n",
       "2          113417  0x84b02b 2023-03-13 17:57:48  \n",
       "3          195328  0xa1dead 2023-03-13 17:57:48  \n",
       "4          195707  0xa85807 2023-03-13 17:57:48  "
      ]
     },
     "execution_count": 2,
     "metadata": {},
     "output_type": "execute_result"
    }
   ],
   "source": [
    "nopts = pd.read_csv('big/noptsubs.txt', delimiter=\"|\")\n",
    "nopts['received_at'] = pd.to_datetime(nopts['received_at'], format=\"%Y-%m-%d%H:%M:%S.%f\")\n",
    "nopts['slot_boundary'] = np.asarray([pd.Timestamp(x).round(freq='12S') for x in nopts['received_at'].values])\n",
    "\n",
    "nopts.head()"
   ]
  },
  {
   "cell_type": "code",
   "execution_count": 3,
   "metadata": {},
   "outputs": [
    {
     "data": {
      "text/html": [
       "<div>\n",
       "<style scoped>\n",
       "    .dataframe tbody tr th:only-of-type {\n",
       "        vertical-align: middle;\n",
       "    }\n",
       "\n",
       "    .dataframe tbody tr th {\n",
       "        vertical-align: top;\n",
       "    }\n",
       "\n",
       "    .dataframe thead th {\n",
       "        text-align: right;\n",
       "    }\n",
       "</style>\n",
       "<table border=\"1\" class=\"dataframe\">\n",
       "  <thead>\n",
       "    <tr style=\"text-align: right;\">\n",
       "      <th></th>\n",
       "      <th>received_at</th>\n",
       "      <th>optimistic_submission</th>\n",
       "      <th>decode_duration</th>\n",
       "      <th>prechecks_duration</th>\n",
       "      <th>simulation_duration</th>\n",
       "      <th>redis_update_duration</th>\n",
       "      <th>total_duration</th>\n",
       "      <th>substring</th>\n",
       "      <th>slot_boundary</th>\n",
       "    </tr>\n",
       "  </thead>\n",
       "  <tbody>\n",
       "    <tr>\n",
       "      <th>0</th>\n",
       "      <td>2023-03-17 12:12:33.673550</td>\n",
       "      <td>t</td>\n",
       "      <td>12062</td>\n",
       "      <td>1407</td>\n",
       "      <td>11</td>\n",
       "      <td>5999</td>\n",
       "      <td>19481</td>\n",
       "      <td>0xb33333</td>\n",
       "      <td>2023-03-17 12:12:36</td>\n",
       "    </tr>\n",
       "    <tr>\n",
       "      <th>1</th>\n",
       "      <td>2023-03-17 12:12:20.659166</td>\n",
       "      <td>t</td>\n",
       "      <td>101735</td>\n",
       "      <td>1449</td>\n",
       "      <td>7</td>\n",
       "      <td>5578</td>\n",
       "      <td>108770</td>\n",
       "      <td>0x83d349</td>\n",
       "      <td>2023-03-17 12:12:24</td>\n",
       "    </tr>\n",
       "    <tr>\n",
       "      <th>2</th>\n",
       "      <td>2023-03-17 12:12:20.822450</td>\n",
       "      <td>t</td>\n",
       "      <td>11241</td>\n",
       "      <td>2096</td>\n",
       "      <td>10</td>\n",
       "      <td>6061</td>\n",
       "      <td>19409</td>\n",
       "      <td>0x978a35</td>\n",
       "      <td>2023-03-17 12:12:24</td>\n",
       "    </tr>\n",
       "    <tr>\n",
       "      <th>3</th>\n",
       "      <td>2023-03-17 12:12:21.083129</td>\n",
       "      <td>t</td>\n",
       "      <td>135937</td>\n",
       "      <td>1408</td>\n",
       "      <td>10</td>\n",
       "      <td>8629</td>\n",
       "      <td>145986</td>\n",
       "      <td>0x83d349</td>\n",
       "      <td>2023-03-17 12:12:24</td>\n",
       "    </tr>\n",
       "    <tr>\n",
       "      <th>4</th>\n",
       "      <td>2023-03-17 12:12:22.254343</td>\n",
       "      <td>t</td>\n",
       "      <td>234029</td>\n",
       "      <td>1672</td>\n",
       "      <td>7</td>\n",
       "      <td>5794</td>\n",
       "      <td>241504</td>\n",
       "      <td>0x83d349</td>\n",
       "      <td>2023-03-17 12:12:24</td>\n",
       "    </tr>\n",
       "  </tbody>\n",
       "</table>\n",
       "</div>"
      ],
      "text/plain": [
       "                 received_at optimistic_submission  decode_duration  \\\n",
       "0 2023-03-17 12:12:33.673550                     t            12062   \n",
       "1 2023-03-17 12:12:20.659166                     t           101735   \n",
       "2 2023-03-17 12:12:20.822450                     t            11241   \n",
       "3 2023-03-17 12:12:21.083129                     t           135937   \n",
       "4 2023-03-17 12:12:22.254343                     t           234029   \n",
       "\n",
       "   prechecks_duration  simulation_duration  redis_update_duration  \\\n",
       "0                1407                   11                   5999   \n",
       "1                1449                    7                   5578   \n",
       "2                2096                   10                   6061   \n",
       "3                1408                   10                   8629   \n",
       "4                1672                    7                   5794   \n",
       "\n",
       "   total_duration substring       slot_boundary  \n",
       "0           19481  0xb33333 2023-03-17 12:12:36  \n",
       "1          108770  0x83d349 2023-03-17 12:12:24  \n",
       "2           19409  0x978a35 2023-03-17 12:12:24  \n",
       "3          145986  0x83d349 2023-03-17 12:12:24  \n",
       "4          241504  0x83d349 2023-03-17 12:12:24  "
      ]
     },
     "execution_count": 3,
     "metadata": {},
     "output_type": "execute_result"
    }
   ],
   "source": [
    "opts = pd.read_csv('big/optsubs.txt', delimiter=\"|\")\n",
    "opts['received_at'] = pd.to_datetime(opts['received_at'], format=\"%Y-%m-%d%H:%M:%S.%f\")\n",
    "opts['slot_boundary'] = np.asarray([pd.Timestamp(x).round(freq='12S') for x in opts['received_at'].values])\n",
    "\n",
    "opts.head()"
   ]
  },
  {
   "cell_type": "code",
   "execution_count": 4,
   "metadata": {},
   "outputs": [
    {
     "data": {
      "text/plain": [
       "(1000000, 912063)"
      ]
     },
     "execution_count": 4,
     "metadata": {},
     "output_type": "execute_result"
    }
   ],
   "source": [
    "len(nopts), len(opts)"
   ]
  },
  {
   "cell_type": "code",
   "execution_count": 5,
   "metadata": {},
   "outputs": [
    {
     "data": {
      "text/plain": [
       "1153253.32"
      ]
     },
     "execution_count": 5,
     "metadata": {},
     "output_type": "execute_result"
    }
   ],
   "source": [
    "np.percentile(opts['total_duration'].values, 99)"
   ]
  },
  {
   "cell_type": "code",
   "execution_count": 6,
   "metadata": {},
   "outputs": [],
   "source": [
    "bdo = opts[opts['total_duration'] < np.percentile(opts['total_duration'].values, 99)]['total_duration'].values\n",
    "bdn = nopts[nopts['total_duration'] < np.percentile(nopts['total_duration'].values, 99)]['total_duration'].values"
   ]
  },
  {
   "cell_type": "code",
   "execution_count": 7,
   "metadata": {},
   "outputs": [
    {
     "data": {
      "text/plain": [
       "(990000, 902942)"
      ]
     },
     "execution_count": 7,
     "metadata": {},
     "output_type": "execute_result"
    }
   ],
   "source": [
    "len(bdn), len(bdo)"
   ]
  },
  {
   "cell_type": "code",
   "execution_count": 9,
   "metadata": {},
   "outputs": [
    {
     "data": {
      "image/png": "[encoded data removed]",
      "text/plain": [
       "<Figure size 864x504 with 1 Axes>"
      ]
     },
     "metadata": {
      "needs_background": "light"
     },
     "output_type": "display_data"
    }
   ],
   "source": [
    "f, ax = plt.subplots(figsize=(12,7))\n",
    "\n",
    "bins = np.histogram(bdn, bins=1000)[1]\n",
    "ax.hist(bdo, bins, color='purple', alpha=0.7, density=False, label='optimistic')\n",
    "ax.hist(bdn, bins, color='g', alpha=0.7, density=False, label='non-optimistic')\n",
    "ax.set_xlim(0,float(0.5e6))\n",
    "ax.set_xlabel('total submission duration $\\mu s$', size=16)\n",
    "ax.set_ylabel('frequency', size=16)\n",
    "ax.set_title('optimistic vs non-optimsitic submission durations', size=18)\n",
    "plt.legend()\n",
    "plt.show()"
   ]
  },
  {
   "cell_type": "code",
   "execution_count": 58,
   "metadata": {},
   "outputs": [],
   "source": [
    "pks = set(opts['substring'])"
   ]
  },
  {
   "cell_type": "code",
   "execution_count": 10,
   "metadata": {},
   "outputs": [
    {
     "data": {
      "text/html": [
       "<div>\n",
       "<style scoped>\n",
       "    .dataframe tbody tr th:only-of-type {\n",
       "        vertical-align: middle;\n",
       "    }\n",
       "\n",
       "    .dataframe tbody tr th {\n",
       "        vertical-align: top;\n",
       "    }\n",
       "\n",
       "    .dataframe thead th {\n",
       "        text-align: right;\n",
       "    }\n",
       "</style>\n",
       "<table border=\"1\" class=\"dataframe\">\n",
       "  <thead>\n",
       "    <tr style=\"text-align: right;\">\n",
       "      <th></th>\n",
       "      <th>substring</th>\n",
       "      <th>is_optimistic</th>\n",
       "      <th>is_high_prio</th>\n",
       "      <th>collateral</th>\n",
       "      <th>builder_id</th>\n",
       "      <th>description</th>\n",
       "    </tr>\n",
       "  </thead>\n",
       "  <tbody>\n",
       "    <tr>\n",
       "      <th>0</th>\n",
       "      <td>0xaec4ec</td>\n",
       "      <td>t</td>\n",
       "      <td>t</td>\n",
       "      <td>1000000000000000000</td>\n",
       "      <td>beaverbuild</td>\n",
       "      <td>beaver</td>\n",
       "    </tr>\n",
       "    <tr>\n",
       "      <th>1</th>\n",
       "      <td>0x96a59d</td>\n",
       "      <td>t</td>\n",
       "      <td>t</td>\n",
       "      <td>1000000000000000000</td>\n",
       "      <td>beaverbuild</td>\n",
       "      <td>beaver</td>\n",
       "    </tr>\n",
       "    <tr>\n",
       "      <th>2</th>\n",
       "      <td>0xb5d883</td>\n",
       "      <td>t</td>\n",
       "      <td>t</td>\n",
       "      <td>1000000000000000000</td>\n",
       "      <td>beaverbuild</td>\n",
       "      <td>beaver</td>\n",
       "    </tr>\n",
       "    <tr>\n",
       "      <th>3</th>\n",
       "      <td>0x8dde59</td>\n",
       "      <td>t</td>\n",
       "      <td>t</td>\n",
       "      <td>1000000000000000000</td>\n",
       "      <td>beaverbuild</td>\n",
       "      <td>beaver</td>\n",
       "    </tr>\n",
       "    <tr>\n",
       "      <th>4</th>\n",
       "      <td>0x8c344f</td>\n",
       "      <td>t</td>\n",
       "      <td>t</td>\n",
       "      <td>1000000000000000000</td>\n",
       "      <td>bob</td>\n",
       "      <td>bob</td>\n",
       "    </tr>\n",
       "  </tbody>\n",
       "</table>\n",
       "</div>"
      ],
      "text/plain": [
       "  substring is_optimistic is_high_prio           collateral   builder_id  \\\n",
       "0  0xaec4ec             t            t  1000000000000000000  beaverbuild   \n",
       "1  0x96a59d             t            t  1000000000000000000  beaverbuild   \n",
       "2  0xb5d883             t            t  1000000000000000000  beaverbuild   \n",
       "3  0x8dde59             t            t  1000000000000000000  beaverbuild   \n",
       "4  0x8c344f             t            t  1000000000000000000          bob   \n",
       "\n",
       "  description  \n",
       "0      beaver  \n",
       "1      beaver  \n",
       "2      beaver  \n",
       "3      beaver  \n",
       "4         bob  "
      ]
     },
     "execution_count": 10,
     "metadata": {},
     "output_type": "execute_result"
    }
   ],
   "source": [
    "builders = pd.read_csv('big/builders.txt', delimiter=\"|\")\n",
    "builders.head()"
   ]
  },
  {
   "cell_type": "code",
   "execution_count": 11,
   "metadata": {},
   "outputs": [
    {
     "data": {
      "text/html": [
       "<div>\n",
       "<style scoped>\n",
       "    .dataframe tbody tr th:only-of-type {\n",
       "        vertical-align: middle;\n",
       "    }\n",
       "\n",
       "    .dataframe tbody tr th {\n",
       "        vertical-align: top;\n",
       "    }\n",
       "\n",
       "    .dataframe thead th {\n",
       "        text-align: right;\n",
       "    }\n",
       "</style>\n",
       "<table border=\"1\" class=\"dataframe\">\n",
       "  <thead>\n",
       "    <tr style=\"text-align: right;\">\n",
       "      <th></th>\n",
       "      <th>substring</th>\n",
       "      <th>builder_id</th>\n",
       "    </tr>\n",
       "  </thead>\n",
       "  <tbody>\n",
       "    <tr>\n",
       "      <th>0</th>\n",
       "      <td>0xaec4ec</td>\n",
       "      <td>beaverbuild</td>\n",
       "    </tr>\n",
       "    <tr>\n",
       "      <th>1</th>\n",
       "      <td>0x96a59d</td>\n",
       "      <td>beaverbuild</td>\n",
       "    </tr>\n",
       "    <tr>\n",
       "      <th>2</th>\n",
       "      <td>0xb5d883</td>\n",
       "      <td>beaverbuild</td>\n",
       "    </tr>\n",
       "    <tr>\n",
       "      <th>3</th>\n",
       "      <td>0x8dde59</td>\n",
       "      <td>beaverbuild</td>\n",
       "    </tr>\n",
       "    <tr>\n",
       "      <th>4</th>\n",
       "      <td>0x8c344f</td>\n",
       "      <td>bob</td>\n",
       "    </tr>\n",
       "  </tbody>\n",
       "</table>\n",
       "</div>"
      ],
      "text/plain": [
       "  substring   builder_id\n",
       "0  0xaec4ec  beaverbuild\n",
       "1  0x96a59d  beaverbuild\n",
       "2  0xb5d883  beaverbuild\n",
       "3  0x8dde59  beaverbuild\n",
       "4  0x8c344f          bob"
      ]
     },
     "execution_count": 11,
     "metadata": {},
     "output_type": "execute_result"
    }
   ],
   "source": [
    "descriptions = builders[['substring', 'builder_id']].copy()\n",
    "descriptions.head()"
   ]
  },
  {
   "cell_type": "code",
   "execution_count": 12,
   "metadata": {},
   "outputs": [
    {
     "data": {
      "text/html": [
       "<div>\n",
       "<style scoped>\n",
       "    .dataframe tbody tr th:only-of-type {\n",
       "        vertical-align: middle;\n",
       "    }\n",
       "\n",
       "    .dataframe tbody tr th {\n",
       "        vertical-align: top;\n",
       "    }\n",
       "\n",
       "    .dataframe thead th {\n",
       "        text-align: right;\n",
       "    }\n",
       "</style>\n",
       "<table border=\"1\" class=\"dataframe\">\n",
       "  <thead>\n",
       "    <tr style=\"text-align: right;\">\n",
       "      <th></th>\n",
       "      <th>received_at</th>\n",
       "      <th>optimistic_submission</th>\n",
       "      <th>decode_duration</th>\n",
       "      <th>prechecks_duration</th>\n",
       "      <th>simulation_duration</th>\n",
       "      <th>redis_update_duration</th>\n",
       "      <th>total_duration</th>\n",
       "      <th>substring</th>\n",
       "      <th>slot_boundary</th>\n",
       "      <th>builder_id</th>\n",
       "    </tr>\n",
       "  </thead>\n",
       "  <tbody>\n",
       "    <tr>\n",
       "      <th>0</th>\n",
       "      <td>2023-03-17 12:12:33.673550</td>\n",
       "      <td>t</td>\n",
       "      <td>12062</td>\n",
       "      <td>1407</td>\n",
       "      <td>11</td>\n",
       "      <td>5999</td>\n",
       "      <td>19481</td>\n",
       "      <td>0xb33333</td>\n",
       "      <td>2023-03-17 12:12:36</td>\n",
       "      <td>smithbot</td>\n",
       "    </tr>\n",
       "    <tr>\n",
       "      <th>1</th>\n",
       "      <td>2023-03-17 12:12:20.659166</td>\n",
       "      <td>t</td>\n",
       "      <td>101735</td>\n",
       "      <td>1449</td>\n",
       "      <td>7</td>\n",
       "      <td>5578</td>\n",
       "      <td>108770</td>\n",
       "      <td>0x83d349</td>\n",
       "      <td>2023-03-17 12:12:24</td>\n",
       "      <td>rsync</td>\n",
       "    </tr>\n",
       "    <tr>\n",
       "      <th>2</th>\n",
       "      <td>2023-03-17 12:12:20.822450</td>\n",
       "      <td>t</td>\n",
       "      <td>11241</td>\n",
       "      <td>2096</td>\n",
       "      <td>10</td>\n",
       "      <td>6061</td>\n",
       "      <td>19409</td>\n",
       "      <td>0x978a35</td>\n",
       "      <td>2023-03-17 12:12:24</td>\n",
       "      <td>rsync</td>\n",
       "    </tr>\n",
       "    <tr>\n",
       "      <th>3</th>\n",
       "      <td>2023-03-17 12:12:21.083129</td>\n",
       "      <td>t</td>\n",
       "      <td>135937</td>\n",
       "      <td>1408</td>\n",
       "      <td>10</td>\n",
       "      <td>8629</td>\n",
       "      <td>145986</td>\n",
       "      <td>0x83d349</td>\n",
       "      <td>2023-03-17 12:12:24</td>\n",
       "      <td>rsync</td>\n",
       "    </tr>\n",
       "    <tr>\n",
       "      <th>4</th>\n",
       "      <td>2023-03-17 12:12:22.254343</td>\n",
       "      <td>t</td>\n",
       "      <td>234029</td>\n",
       "      <td>1672</td>\n",
       "      <td>7</td>\n",
       "      <td>5794</td>\n",
       "      <td>241504</td>\n",
       "      <td>0x83d349</td>\n",
       "      <td>2023-03-17 12:12:24</td>\n",
       "      <td>rsync</td>\n",
       "    </tr>\n",
       "  </tbody>\n",
       "</table>\n",
       "</div>"
      ],
      "text/plain": [
       "                 received_at optimistic_submission  decode_duration  \\\n",
       "0 2023-03-17 12:12:33.673550                     t            12062   \n",
       "1 2023-03-17 12:12:20.659166                     t           101735   \n",
       "2 2023-03-17 12:12:20.822450                     t            11241   \n",
       "3 2023-03-17 12:12:21.083129                     t           135937   \n",
       "4 2023-03-17 12:12:22.254343                     t           234029   \n",
       "\n",
       "   prechecks_duration  simulation_duration  redis_update_duration  \\\n",
       "0                1407                   11                   5999   \n",
       "1                1449                    7                   5578   \n",
       "2                2096                   10                   6061   \n",
       "3                1408                   10                   8629   \n",
       "4                1672                    7                   5794   \n",
       "\n",
       "   total_duration substring       slot_boundary builder_id  \n",
       "0           19481  0xb33333 2023-03-17 12:12:36   smithbot  \n",
       "1          108770  0x83d349 2023-03-17 12:12:24      rsync  \n",
       "2           19409  0x978a35 2023-03-17 12:12:24      rsync  \n",
       "3          145986  0x83d349 2023-03-17 12:12:24      rsync  \n",
       "4          241504  0x83d349 2023-03-17 12:12:24      rsync  "
      ]
     },
     "execution_count": 12,
     "metadata": {},
     "output_type": "execute_result"
    }
   ],
   "source": [
    "opts_builders = opts.merge(descriptions, on='substring', how='left')\n",
    "opts_builders.head()"
   ]
  },
  {
   "cell_type": "code",
   "execution_count": 13,
   "metadata": {},
   "outputs": [
    {
     "data": {
      "text/plain": [
       "{'Titan',\n",
       " 'beaverbuild',\n",
       " 'bob',\n",
       " 'builder0x69',\n",
       " 'finest',\n",
       " 'manta',\n",
       " 'rsync',\n",
       " 'smithbot'}"
      ]
     },
     "execution_count": 13,
     "metadata": {},
     "output_type": "execute_result"
    }
   ],
   "source": [
    "buids = set(opts_builders['builder_id'])\n",
    "buids.remove('BuildAI')\n",
    "buids"
   ]
  },
  {
   "cell_type": "code",
   "execution_count": 14,
   "metadata": {},
   "outputs": [],
   "source": [
    "bdo = opts_builders[opts_builders['total_duration'] < np.percentile(opts_builders['total_duration'].values, 99)]"
   ]
  },
  {
   "cell_type": "code",
   "execution_count": 15,
   "metadata": {},
   "outputs": [
    {
     "data": {
      "text/plain": [
       "240433"
      ]
     },
     "execution_count": 15,
     "metadata": {},
     "output_type": "execute_result"
    }
   ],
   "source": [
    "len(bdo[bdo['builder_id']=='builder0x69'])"
   ]
  },
  {
   "cell_type": "code",
   "execution_count": 123,
   "metadata": {},
   "outputs": [],
   "source": [
    "bins = np.histogram(bdo[bdo['builder_id']=='builder0x69']['total_duration'].values, bins=500)[1]"
   ]
  },
  {
   "cell_type": "code",
   "execution_count": 124,
   "metadata": {},
   "outputs": [],
   "source": [
    "colors = plt.cm.copper(np.linspace(0, 1, 8))"
   ]
  },
  {
   "cell_type": "code",
   "execution_count": 126,
   "metadata": {},
   "outputs": [
    {
     "name": "stdout",
     "output_type": "stream",
     "text": [
      "0 0 builder0x69\n",
      "240433\n",
      "1 0 rsync\n",
      "180995\n",
      "2 0 finest\n",
      "3424\n",
      "3 0 beaverbuild\n",
      "165737\n",
      "0 1 manta\n",
      "51876\n",
      "1 1 Titan\n",
      "57681\n",
      "2 1 smithbot\n",
      "41480\n",
      "3 1 bob\n",
      "160512\n"
     ]
    },
    {
     "data": {
      "image/png": "[encoded data removed]",
      "text/plain": [
       "<Figure size 1080x360 with 8 Axes>"
      ]
     },
     "metadata": {
      "needs_background": "light"
     },
     "output_type": "display_data"
    }
   ],
   "source": [
    "f, axarr = plt.subplots(nrows=2,ncols=4, figsize=(15,5))\n",
    "\n",
    "for i, b in enumerate(buids):\n",
    "    print(i % 4, i//4, b)\n",
    "    r,c = i//4, i%4\n",
    "    vals = bdo[bdo['builder_id']==b]['total_duration'].values\n",
    "    print(len(vals))\n",
    "    axarr[r,c].hist(\n",
    "        vals,\n",
    "        bins=bins,\n",
    "        color=colors[i],\n",
    "        alpha=0.7,\n",
    "        density=False,\n",
    "        label=b\n",
    "    )\n",
    "    if r == 1:\n",
    "        axarr[r,c].set_xlabel('submission duration $(\\mu s)$', size=12)\n",
    "    axarr[r,c].set_xlim(0,float(0.5e6))\n",
    "    axarr[r,c].set_title(b, size=14)\n",
    "    axarr[r,c].set_xticks([0, 250000, 500000])\n",
    "plt.subplots_adjust(hspace=.3)\n",
    "plt.subplots_adjust(wspace=.3)\n",
    "plt.show()\n"
   ]
  },
  {
   "cell_type": "code",
   "execution_count": 34,
   "metadata": {},
   "outputs": [],
   "source": [
    "def printdf(df):\n",
    "    print('decode\\_duration & ', end='')\n",
    "    st = ''\n",
    "    for i in [50, 75, 90, 99]:\n",
    "        st += str(int(np.percentile(df['decode_duration'], i)))\n",
    "        st += \" & \"\n",
    "    print(st[:-3] + ' \\\\\\\\')\n",
    "    st = ''\n",
    "    print('prechecks\\_duration & ', end='')\n",
    "    for i in [50, 75, 90, 99]:\n",
    "        st += str(int(np.percentile(df['prechecks_duration'], i)))\n",
    "        st += \" & \"\n",
    "    print(st[:-3] + ' \\\\\\\\')\n",
    "    st = ''\n",
    "    print('simulation\\_duration & ', end='')\n",
    "    for i in [50, 75, 90, 99]:\n",
    "        st += str(int(np.percentile(df['simulation_duration'], i)))\n",
    "        st += \" & \"\n",
    "    print(st[:-3] + ' \\\\\\\\')\n",
    "    st = ''\n",
    "    print('redis\\_update\\_duration & ', end='')\n",
    "    for i in [50, 75, 90, 99]:\n",
    "        st += str(int(np.percentile(df['redis_update_duration'], i)))\n",
    "        st += \" & \"\n",
    "    print(st[:-3] + ' \\\\\\\\')\n",
    "    st = ''\n",
    "    print('total\\_duration & ', end='')\n",
    "    for i in [50, 75, 90, 99]:\n",
    "        st += str(int(np.percentile(df['total_duration'], i)))\n",
    "        st += \" & \"\n",
    "    print(st[:-3] + ' \\\\\\\\')"
   ]
  },
  {
   "cell_type": "code",
   "execution_count": 116,
   "metadata": {},
   "outputs": [
    {
     "name": "stdout",
     "output_type": "stream",
     "text": [
      "decode\\_duration & 85020 & 101600 & 146920 & 304896 \\\\\n",
      "prechecks\\_duration & 1698 & 2207 & 7363 & 316881 \\\\\n",
      "simulation\\_duration & 113377 & 148299 & 218973 & 744570 \\\\\n",
      "redis\\_update\\_duration & 6206 & 8859 & 31508 & 567347 \\\\\n",
      "total\\_duration & 204528 & 285357 & 464722 & 1486526 \\\\\n"
     ]
    }
   ],
   "source": [
    "printdf(nopts)"
   ]
  },
  {
   "cell_type": "code",
   "execution_count": 117,
   "metadata": {},
   "outputs": [
    {
     "name": "stdout",
     "output_type": "stream",
     "text": [
      "decode\\_duration & 16566 & 91327 & 134511 & 326649 \\\\\n",
      "prechecks\\_duration & 1717 & 2317 & 4940 & 479328 \\\\\n",
      "simulation\\_duration & 8 & 10 & 12 & 28 \\\\\n",
      "redis\\_update\\_duration & 6911 & 10756 & 25583 & 443122 \\\\\n",
      "total\\_duration & 30597 & 109495 & 191159 & 1153253 \\\\\n"
     ]
    }
   ],
   "source": [
    "printdf(opts_builders)"
   ]
  },
  {
   "cell_type": "code",
   "execution_count": 36,
   "metadata": {},
   "outputs": [
    {
     "data": {
      "text/html": [
       "<div>\n",
       "<style scoped>\n",
       "    .dataframe tbody tr th:only-of-type {\n",
       "        vertical-align: middle;\n",
       "    }\n",
       "\n",
       "    .dataframe tbody tr th {\n",
       "        vertical-align: top;\n",
       "    }\n",
       "\n",
       "    .dataframe thead th {\n",
       "        text-align: right;\n",
       "    }\n",
       "</style>\n",
       "<table border=\"1\" class=\"dataframe\">\n",
       "  <thead>\n",
       "    <tr style=\"text-align: right;\">\n",
       "      <th></th>\n",
       "      <th>substring</th>\n",
       "      <th>received_at</th>\n",
       "      <th>optimistic_submission</th>\n",
       "      <th>decode_duration</th>\n",
       "      <th>prechecks_duration</th>\n",
       "      <th>simulation_duration</th>\n",
       "      <th>redis_update_duration</th>\n",
       "      <th>total_duration</th>\n",
       "      <th>slot</th>\n",
       "      <th>block_hash</th>\n",
       "      <th>slot_boundary</th>\n",
       "      <th>diff</th>\n",
       "    </tr>\n",
       "  </thead>\n",
       "  <tbody>\n",
       "    <tr>\n",
       "      <th>0</th>\n",
       "      <td>0x8bc8d1</td>\n",
       "      <td>2023-03-13 17:57:45.774553</td>\n",
       "      <td>f</td>\n",
       "      <td>9581</td>\n",
       "      <td>1291</td>\n",
       "      <td>89316</td>\n",
       "      <td>5942</td>\n",
       "      <td>106133</td>\n",
       "      <td>5992187</td>\n",
       "      <td>0xf19358e829a0bd231a45e47fdf66a64573c75bb849c7...</td>\n",
       "      <td>2023-03-13 17:57:48</td>\n",
       "      <td>2.225447</td>\n",
       "    </tr>\n",
       "    <tr>\n",
       "      <th>1</th>\n",
       "      <td>0xb5d883</td>\n",
       "      <td>2023-03-13 17:57:45.698805</td>\n",
       "      <td>f</td>\n",
       "      <td>7618</td>\n",
       "      <td>1631</td>\n",
       "      <td>69939</td>\n",
       "      <td>5873</td>\n",
       "      <td>85062</td>\n",
       "      <td>5992228</td>\n",
       "      <td>0x9f7b42578928ea022cad8cfee2d5814182a456704470...</td>\n",
       "      <td>2023-03-13 17:57:48</td>\n",
       "      <td>2.301195</td>\n",
       "    </tr>\n",
       "    <tr>\n",
       "      <th>2</th>\n",
       "      <td>0x81babe</td>\n",
       "      <td>2023-03-13 17:57:45.810121</td>\n",
       "      <td>f</td>\n",
       "      <td>90865</td>\n",
       "      <td>3028</td>\n",
       "      <td>100385</td>\n",
       "      <td>6604</td>\n",
       "      <td>200883</td>\n",
       "      <td>5992188</td>\n",
       "      <td>0x9d4008e6922000d26a4c690de8a4ad989b916f408110...</td>\n",
       "      <td>2023-03-13 17:57:48</td>\n",
       "      <td>2.189879</td>\n",
       "    </tr>\n",
       "    <tr>\n",
       "      <th>3</th>\n",
       "      <td>0xb5d883</td>\n",
       "      <td>2023-03-13 17:57:43.602490</td>\n",
       "      <td>f</td>\n",
       "      <td>12264</td>\n",
       "      <td>1423</td>\n",
       "      <td>88255</td>\n",
       "      <td>19044</td>\n",
       "      <td>120988</td>\n",
       "      <td>5992190</td>\n",
       "      <td>0x6339f22bd451ed670644cfeff5502d9a8052520a2865...</td>\n",
       "      <td>2023-03-13 17:57:48</td>\n",
       "      <td>4.397510</td>\n",
       "    </tr>\n",
       "    <tr>\n",
       "      <th>4</th>\n",
       "      <td>0xb5d883</td>\n",
       "      <td>2023-03-13 17:57:43.675843</td>\n",
       "      <td>f</td>\n",
       "      <td>10573</td>\n",
       "      <td>2102</td>\n",
       "      <td>131210</td>\n",
       "      <td>8006</td>\n",
       "      <td>151892</td>\n",
       "      <td>5992191</td>\n",
       "      <td>0xf950dc49936dc56d9755a9f324389ec776bb2d303f19...</td>\n",
       "      <td>2023-03-13 17:57:48</td>\n",
       "      <td>4.324157</td>\n",
       "    </tr>\n",
       "  </tbody>\n",
       "</table>\n",
       "</div>"
      ],
      "text/plain": [
       "  substring                received_at optimistic_submission  decode_duration  \\\n",
       "0  0x8bc8d1 2023-03-13 17:57:45.774553                     f             9581   \n",
       "1  0xb5d883 2023-03-13 17:57:45.698805                     f             7618   \n",
       "2  0x81babe 2023-03-13 17:57:45.810121                     f            90865   \n",
       "3  0xb5d883 2023-03-13 17:57:43.602490                     f            12264   \n",
       "4  0xb5d883 2023-03-13 17:57:43.675843                     f            10573   \n",
       "\n",
       "   prechecks_duration  simulation_duration  redis_update_duration  \\\n",
       "0                1291                89316                   5942   \n",
       "1                1631                69939                   5873   \n",
       "2                3028               100385                   6604   \n",
       "3                1423                88255                  19044   \n",
       "4                2102               131210                   8006   \n",
       "\n",
       "   total_duration     slot                                         block_hash  \\\n",
       "0          106133  5992187  0xf19358e829a0bd231a45e47fdf66a64573c75bb849c7...   \n",
       "1           85062  5992228  0x9f7b42578928ea022cad8cfee2d5814182a456704470...   \n",
       "2          200883  5992188  0x9d4008e6922000d26a4c690de8a4ad989b916f408110...   \n",
       "3          120988  5992190  0x6339f22bd451ed670644cfeff5502d9a8052520a2865...   \n",
       "4          151892  5992191  0xf950dc49936dc56d9755a9f324389ec776bb2d303f19...   \n",
       "\n",
       "        slot_boundary      diff  \n",
       "0 2023-03-13 17:57:48  2.225447  \n",
       "1 2023-03-13 17:57:48  2.301195  \n",
       "2 2023-03-13 17:57:48  2.189879  \n",
       "3 2023-03-13 17:57:48  4.397510  \n",
       "4 2023-03-13 17:57:48  4.324157  "
      ]
     },
     "execution_count": 36,
     "metadata": {},
     "output_type": "execute_result"
    }
   ],
   "source": [
    "winners = pd.read_csv('big/winningsubs.txt', delimiter=\"|\")\n",
    "winners['received_at'] = pd.to_datetime(nopts['received_at'], format=\"%Y-%m-%d%H:%M:%S.%f\")\n",
    "winners['slot_boundary'] = np.asarray([pd.Timestamp(x).round(freq='12S') for x in winners['received_at'].values])\n",
    "winners['diff'] = [v.total_seconds() for v in winners['slot_boundary'] - winners['received_at']]\n",
    "\n",
    "winners.head()"
   ]
  },
  {
   "cell_type": "code",
   "execution_count": 134,
   "metadata": {},
   "outputs": [],
   "source": [
    "wo = winners[winners['optimistic_submission']=='t']\n",
    "wn = winners[winners['optimistic_submission']=='f']"
   ]
  },
  {
   "cell_type": "code",
   "execution_count": 135,
   "metadata": {},
   "outputs": [
    {
     "data": {
      "text/plain": [
       "(1029, 6875)"
      ]
     },
     "execution_count": 135,
     "metadata": {},
     "output_type": "execute_result"
    }
   ],
   "source": [
    "len(wo), len(wn)"
   ]
  },
  {
   "cell_type": "code",
   "execution_count": 151,
   "metadata": {},
   "outputs": [
    {
     "data": {
      "image/png": "[encoded data removed]",
      "text/plain": [
       "<Figure size 576x360 with 1 Axes>"
      ]
     },
     "metadata": {
      "needs_background": "light"
     },
     "output_type": "display_data"
    }
   ],
   "source": [
    "f, ax = plt.subplots(figsize=(8,5))\n",
    "\n",
    "bins = np.histogram(wn['diff'], bins=200)[1]\n",
    "ax.hist(wn['diff'], bins, color='g', alpha=0.7, density=True, label='non-optimistic')\n",
    "ax.hist(wo['diff'], bins, color='purple', alpha=0.7, density=True, label='optimistic')\n",
    "# ax.set_xlim(0,float(1e6))\n",
    "ax.set_xlabel('difference $(s)$', size=14)\n",
    "ax.set_ylabel('density', size=14)\n",
    "ax.set_title('slot boundary - winning bid arrival', size=18)\n",
    "plt.legend()\n",
    "plt.show()"
   ]
  },
  {
   "cell_type": "code",
   "execution_count": null,
   "metadata": {},
   "outputs": [],
   "source": []
  },
  {
   "cell_type": "code",
   "execution_count": 16,
   "metadata": {},
   "outputs": [],
   "source": [
    "opts_builders = opts.merge(descriptions, on='substring', how='left')\n",
    "nopts_builders = nopts.merge(descriptions, on='substring', how='left')"
   ]
  },
  {
   "cell_type": "code",
   "execution_count": 17,
   "metadata": {},
   "outputs": [],
   "source": [
    "bdo = opts_builders[opts_builders['total_duration'] < np.percentile(opts_builders['total_duration'].values, 99)]\n",
    "bdn = nopts_builders[nopts_builders['total_duration'] < np.percentile(nopts_builders['total_duration'].values, 99)]"
   ]
  },
  {
   "cell_type": "code",
   "execution_count": 18,
   "metadata": {},
   "outputs": [
    {
     "data": {
      "text/plain": [
       "(180995, 141899)"
      ]
     },
     "execution_count": 18,
     "metadata": {},
     "output_type": "execute_result"
    }
   ],
   "source": [
    "# rsync specifically\n",
    "len(bdo[bdo['builder_id']=='rsync']), len(bdn[bdn['builder_id']=='rsync'])"
   ]
  },
  {
   "cell_type": "code",
   "execution_count": 19,
   "metadata": {},
   "outputs": [],
   "source": [
    "rsync_o = bdo[bdo['builder_id']=='rsync']\n",
    "rsync_n = bdn[bdn['builder_id']=='rsync']"
   ]
  },
  {
   "cell_type": "code",
   "execution_count": 20,
   "metadata": {},
   "outputs": [
    {
     "data": {
      "text/plain": [
       "({'0x83d349', '0x945fc5', '0x978a35'}, {'0x83d349', '0x945fc5', '0x978a35'})"
      ]
     },
     "execution_count": 20,
     "metadata": {},
     "output_type": "execute_result"
    }
   ],
   "source": [
    "set(rsync_o.substring), set(rsync_n.substring)"
   ]
  },
  {
   "cell_type": "code",
   "execution_count": 21,
   "metadata": {},
   "outputs": [
    {
     "name": "stdout",
     "output_type": "stream",
     "text": [
      "0x978a35- optimistic submissions: 108945 - non-optimistic submissions: 79613\n",
      "0x83d349- optimistic submissions: 52285 - non-optimistic submissions: 44626\n",
      "0x945fc5- optimistic submissions: 19765 - non-optimistic submissions: 17660\n"
     ]
    }
   ],
   "source": [
    "for b in set(rsync_o.substring):\n",
    "    vals_o = rsync_o[rsync_o['substring']==b]['total_duration'].values\n",
    "    vals_n = rsync_n[rsync_n['substring']==b]['total_duration'].values\n",
    "    print(b + \"- optimistic submissions: \" + str(len(vals_o)) + \" - non-optimistic submissions: \" + str(len(vals_n)))"
   ]
  },
  {
   "cell_type": "code",
   "execution_count": 22,
   "metadata": {},
   "outputs": [],
   "source": [
    "bins = np.histogram(rsync_o[rsync_o['substring']=='0x83d349']['total_duration'].values, bins=500)[1]"
   ]
  },
  {
   "cell_type": "code",
   "execution_count": 33,
   "metadata": {},
   "outputs": [
    {
     "name": "stdout",
     "output_type": "stream",
     "text": [
      "201887.8677460157 339080.17185730464\n",
      "42225.76240304741 177926.21853214927\n"
     ]
    },
    {
     "data": {
      "image/png": "[encoded data removed]",
      "text/plain": [
       "<Figure size 936x360 with 2 Axes>"
      ]
     },
     "metadata": {
      "needs_background": "light"
     },
     "output_type": "display_data"
    }
   ],
   "source": [
    "f, axarr = plt.subplots(nrows=1,ncols=2, figsize=(13,5))\n",
    "\n",
    "for i, b in enumerate(['0x945fc5', '0x978a35']):\n",
    "    vals_o = rsync_o[rsync_o['substring']==b]['total_duration'].values\n",
    "    vals_n = rsync_n[rsync_n['substring']==b]['total_duration'].values\n",
    "    print(vals_o.mean(), vals_n.mean())\n",
    "    axarr[i].hist(\n",
    "        vals_o,\n",
    "        bins=bins,\n",
    "        color='saddlebrown',\n",
    "        alpha=0.7,\n",
    "        density=False,\n",
    "        label='optimistic'\n",
    "    )\n",
    "    axarr[i].hist(\n",
    "        vals_n,\n",
    "        bins=bins,\n",
    "        color='rebeccapurple',\n",
    "        alpha=0.7,\n",
    "        density=False,\n",
    "        label='non-optimistic'\n",
    "    )\n",
    "    axarr[i].legend()\n",
    "\n",
    "    axarr[i].set_xlabel(\"submission duration $(\\mu s)$\", size=14)\n",
    "axarr[0].set_ylabel(\"frequency\", size=14)\n",
    "axarr[0].set_title(\"pubkey a\", size=16)\n",
    "axarr[1].set_title(\"pubkey b\", size=16)\n",
    "plt.show()\n"
   ]
  },
  {
   "cell_type": "code",
   "execution_count": 28,
   "metadata": {},
   "outputs": [
    {
     "data": {
      "image/png": "[encoded data removed]",
      "text/plain": [
       "<Figure size 1080x360 with 3 Axes>"
      ]
     },
     "metadata": {
      "needs_background": "light"
     },
     "output_type": "display_data"
    }
   ],
   "source": [
    "f, axarr = plt.subplots(nrows=1,ncols=3, figsize=(15,5))\n",
    "\n",
    "for i, b in enumerate(['0x83d349', '0x945fc5', '0x978a35']):\n",
    "    vals_o = rsync_o[rsync_o['substring']==b]['total_duration'].values\n",
    "    vals_n = rsync_n[rsync_n['substring']==b]['total_duration'].values\n",
    "    axarr[i].hist(\n",
    "        vals_o,\n",
    "        bins=bins,\n",
    "        color='saddlebrown',\n",
    "        alpha=0.7,\n",
    "        density=False,\n",
    "        label='optimistic; n={}'.format(len(vals_o))\n",
    "    )\n",
    "    axarr[i].hist(\n",
    "        vals_n,\n",
    "        bins=bins,\n",
    "        color='rebeccapurple',\n",
    "        alpha=0.7,\n",
    "        density=False,\n",
    "        label='non-optimistic; n={}'.format(len(vals_n))\n",
    "    )\n",
    "    axarr[i].legend()\n",
    "    axarr[i].set_title(\"pubkey={}\".format(b), size=16)\n",
    "    axarr[i].set_xlabel(\"submission duration $(\\mu s)$\", size=14)\n",
    "axarr[0].set_ylabel(\"frequency\", size=14)\n",
    "plt.show()\n"
   ]
  },
  {
   "cell_type": "code",
   "execution_count": 32,
   "metadata": {},
   "outputs": [],
   "source": [
    "def printRow(df, colname, printname):\n",
    "    print('{} & '.format(printname), end='')\n",
    "    st = ''\n",
    "    for i in [50, 75, 90, 99]:\n",
    "        st += str(int(np.percentile(df[colname], i)))\n",
    "        st += \" & \"\n",
    "    print(st[:-3] + ' \\\\\\\\')"
   ]
  },
  {
   "cell_type": "code",
   "execution_count": null,
   "metadata": {},
   "outputs": [],
   "source": [
    "for i, b in enumerate(['0x83d349', '0x945fc5', '0x978a35']):\n",
    "    o = rsync_o[rsync_o['substring']==b]\n",
    "    n = rsync_n[rsync_n['substring']==b]\n",
    "    printRow(o, 'decode_duration', 'opt decode\\_duration')\n",
    "    printRow(n, 'decode_duration', 'nopt decode\\_duration')\n",
    "    print(\"\\hline\")\n",
    "    printRow(o, 'prechecks_duration', 'opt prechecks\\_duration')\n",
    "    printRow(n, 'prechecks_duration', 'nopt prechecks\\_duration')\n",
    "    print(\"\\hline\")\n",
    "    printRow(o, 'simulation_duration', 'opt simulation\\_duration')\n",
    "    printRow(n, 'simulation_duration', 'nopt simulation\\_duration')\n",
    "    print(\"\\hline\")\n",
    "    printRow(o, 'redis_update_duration', 'opt redis\\_update\\_duration')\n",
    "    printRow(n, 'redis_update_duration', 'nopt redis\\_update\\_duration')\n",
    "    print(\"\\hline\")\n",
    "    print(\"\\hline\")\n",
    "    printRow(o, 'total_duration', 'opt total\\_duration')\n",
    "    printRow(n, 'total_duration', 'nopt total\\_duration')\n",
    "    print(\"\\hline\")\n",
    "    \n",
    "    \n",
    "    \n",
    "    print(b)\n",
    "#     printdf(o)\n",
    "#     printdf(n)"
   ]
  },
  {
   "cell_type": "code",
   "execution_count": 37,
   "metadata": {},
   "outputs": [
    {
     "data": {
      "text/html": [
       "<div>\n",
       "<style scoped>\n",
       "    .dataframe tbody tr th:only-of-type {\n",
       "        vertical-align: middle;\n",
       "    }\n",
       "\n",
       "    .dataframe tbody tr th {\n",
       "        vertical-align: top;\n",
       "    }\n",
       "\n",
       "    .dataframe thead th {\n",
       "        text-align: right;\n",
       "    }\n",
       "</style>\n",
       "<table border=\"1\" class=\"dataframe\">\n",
       "  <thead>\n",
       "    <tr style=\"text-align: right;\">\n",
       "      <th></th>\n",
       "      <th>substring</th>\n",
       "      <th>received_at</th>\n",
       "      <th>optimistic_submission</th>\n",
       "      <th>decode_duration</th>\n",
       "      <th>prechecks_duration</th>\n",
       "      <th>simulation_duration</th>\n",
       "      <th>redis_update_duration</th>\n",
       "      <th>total_duration</th>\n",
       "      <th>slot</th>\n",
       "      <th>block_hash</th>\n",
       "      <th>slot_boundary</th>\n",
       "      <th>diff</th>\n",
       "      <th>builder_id</th>\n",
       "    </tr>\n",
       "  </thead>\n",
       "  <tbody>\n",
       "    <tr>\n",
       "      <th>0</th>\n",
       "      <td>0x8bc8d1</td>\n",
       "      <td>2023-03-13 17:57:45.774553</td>\n",
       "      <td>f</td>\n",
       "      <td>9581</td>\n",
       "      <td>1291</td>\n",
       "      <td>89316</td>\n",
       "      <td>5942</td>\n",
       "      <td>106133</td>\n",
       "      <td>5992187</td>\n",
       "      <td>0xf19358e829a0bd231a45e47fdf66a64573c75bb849c7...</td>\n",
       "      <td>2023-03-13 17:57:48</td>\n",
       "      <td>2.225447</td>\n",
       "      <td>NaN</td>\n",
       "    </tr>\n",
       "    <tr>\n",
       "      <th>1</th>\n",
       "      <td>0xb5d883</td>\n",
       "      <td>2023-03-13 17:57:45.698805</td>\n",
       "      <td>f</td>\n",
       "      <td>7618</td>\n",
       "      <td>1631</td>\n",
       "      <td>69939</td>\n",
       "      <td>5873</td>\n",
       "      <td>85062</td>\n",
       "      <td>5992228</td>\n",
       "      <td>0x9f7b42578928ea022cad8cfee2d5814182a456704470...</td>\n",
       "      <td>2023-03-13 17:57:48</td>\n",
       "      <td>2.301195</td>\n",
       "      <td>beaverbuild</td>\n",
       "    </tr>\n",
       "    <tr>\n",
       "      <th>2</th>\n",
       "      <td>0x81babe</td>\n",
       "      <td>2023-03-13 17:57:45.810121</td>\n",
       "      <td>f</td>\n",
       "      <td>90865</td>\n",
       "      <td>3028</td>\n",
       "      <td>100385</td>\n",
       "      <td>6604</td>\n",
       "      <td>200883</td>\n",
       "      <td>5992188</td>\n",
       "      <td>0x9d4008e6922000d26a4c690de8a4ad989b916f408110...</td>\n",
       "      <td>2023-03-13 17:57:48</td>\n",
       "      <td>2.189879</td>\n",
       "      <td>NaN</td>\n",
       "    </tr>\n",
       "    <tr>\n",
       "      <th>3</th>\n",
       "      <td>0xb5d883</td>\n",
       "      <td>2023-03-13 17:57:43.602490</td>\n",
       "      <td>f</td>\n",
       "      <td>12264</td>\n",
       "      <td>1423</td>\n",
       "      <td>88255</td>\n",
       "      <td>19044</td>\n",
       "      <td>120988</td>\n",
       "      <td>5992190</td>\n",
       "      <td>0x6339f22bd451ed670644cfeff5502d9a8052520a2865...</td>\n",
       "      <td>2023-03-13 17:57:48</td>\n",
       "      <td>4.397510</td>\n",
       "      <td>beaverbuild</td>\n",
       "    </tr>\n",
       "    <tr>\n",
       "      <th>4</th>\n",
       "      <td>0xb5d883</td>\n",
       "      <td>2023-03-13 17:57:43.675843</td>\n",
       "      <td>f</td>\n",
       "      <td>10573</td>\n",
       "      <td>2102</td>\n",
       "      <td>131210</td>\n",
       "      <td>8006</td>\n",
       "      <td>151892</td>\n",
       "      <td>5992191</td>\n",
       "      <td>0xf950dc49936dc56d9755a9f324389ec776bb2d303f19...</td>\n",
       "      <td>2023-03-13 17:57:48</td>\n",
       "      <td>4.324157</td>\n",
       "      <td>beaverbuild</td>\n",
       "    </tr>\n",
       "  </tbody>\n",
       "</table>\n",
       "</div>"
      ],
      "text/plain": [
       "  substring                received_at optimistic_submission  decode_duration  \\\n",
       "0  0x8bc8d1 2023-03-13 17:57:45.774553                     f             9581   \n",
       "1  0xb5d883 2023-03-13 17:57:45.698805                     f             7618   \n",
       "2  0x81babe 2023-03-13 17:57:45.810121                     f            90865   \n",
       "3  0xb5d883 2023-03-13 17:57:43.602490                     f            12264   \n",
       "4  0xb5d883 2023-03-13 17:57:43.675843                     f            10573   \n",
       "\n",
       "   prechecks_duration  simulation_duration  redis_update_duration  \\\n",
       "0                1291                89316                   5942   \n",
       "1                1631                69939                   5873   \n",
       "2                3028               100385                   6604   \n",
       "3                1423                88255                  19044   \n",
       "4                2102               131210                   8006   \n",
       "\n",
       "   total_duration     slot                                         block_hash  \\\n",
       "0          106133  5992187  0xf19358e829a0bd231a45e47fdf66a64573c75bb849c7...   \n",
       "1           85062  5992228  0x9f7b42578928ea022cad8cfee2d5814182a456704470...   \n",
       "2          200883  5992188  0x9d4008e6922000d26a4c690de8a4ad989b916f408110...   \n",
       "3          120988  5992190  0x6339f22bd451ed670644cfeff5502d9a8052520a2865...   \n",
       "4          151892  5992191  0xf950dc49936dc56d9755a9f324389ec776bb2d303f19...   \n",
       "\n",
       "        slot_boundary      diff   builder_id  \n",
       "0 2023-03-13 17:57:48  2.225447          NaN  \n",
       "1 2023-03-13 17:57:48  2.301195  beaverbuild  \n",
       "2 2023-03-13 17:57:48  2.189879          NaN  \n",
       "3 2023-03-13 17:57:48  4.397510  beaverbuild  \n",
       "4 2023-03-13 17:57:48  4.324157  beaverbuild  "
      ]
     },
     "execution_count": 37,
     "metadata": {},
     "output_type": "execute_result"
    }
   ],
   "source": [
    "winners_builders = winners.merge(descriptions, on='substring', how='left')\n",
    "winners_builders.head()"
   ]
  },
  {
   "cell_type": "code",
   "execution_count": 48,
   "metadata": {},
   "outputs": [],
   "source": [
    "w = winners_builders[winners_builders['total_duration'] < np.percentile(winners_builders['total_duration'].values, 99)]"
   ]
  },
  {
   "cell_type": "code",
   "execution_count": 49,
   "metadata": {},
   "outputs": [
    {
     "data": {
      "text/plain": [
       "1118"
      ]
     },
     "execution_count": 49,
     "metadata": {},
     "output_type": "execute_result"
    }
   ],
   "source": [
    "# rsync specifically\n",
    "len(w[w['builder_id']=='rsync'])"
   ]
  },
  {
   "cell_type": "code",
   "execution_count": 51,
   "metadata": {},
   "outputs": [
    {
     "data": {
      "text/plain": [
       "(178, 940)"
      ]
     },
     "execution_count": 51,
     "metadata": {},
     "output_type": "execute_result"
    }
   ],
   "source": [
    "rsync_w = w[w['builder_id']=='rsync']\n",
    "rsync_o = rsync_w[rsync_w['optimistic_submission']=='t']\n",
    "rsync_n = rsync_w[rsync_w['optimistic_submission']=='f']\n",
    "len(rsync_o), len(rsync_n)"
   ]
  },
  {
   "cell_type": "code",
   "execution_count": 64,
   "metadata": {},
   "outputs": [
    {
     "data": {
      "text/plain": [
       "(1.4777672808510638, 4.730991315280895)"
      ]
     },
     "execution_count": 64,
     "metadata": {},
     "output_type": "execute_result"
    }
   ],
   "source": [
    "rsync_n['diff'].mean(),rsync_o['diff'].var()"
   ]
  },
  {
   "cell_type": "code",
   "execution_count": 52,
   "metadata": {},
   "outputs": [
    {
     "data": {
      "text/plain": [
       "({'0x83d349', '0x945fc5', '0x978a35'}, {'0x83d349', '0x945fc5', '0x978a35'})"
      ]
     },
     "execution_count": 52,
     "metadata": {},
     "output_type": "execute_result"
    }
   ],
   "source": [
    "set(rsync_o.substring), set(rsync_n.substring)"
   ]
  },
  {
   "cell_type": "code",
   "execution_count": 30,
   "metadata": {},
   "outputs": [],
   "source": [
    "def printRowFloat(df, colname, printname):\n",
    "    print('{} & '.format(printname), end='')\n",
    "    st = ''\n",
    "    for i in [50, 75, 90, 99]:\n",
    "        st += str(np.percentile(df[colname], i))\n",
    "        st += \" & \"\n",
    "    print(st[:-3] + ' \\\\\\\\')"
   ]
  },
  {
   "cell_type": "code",
   "execution_count": 57,
   "metadata": {},
   "outputs": [
    {
     "name": "stdout",
     "output_type": "stream",
     "text": [
      "diff & 2.053 & 3.15205475 & 3.9004609 & 5.255568759999999 \\\\\n",
      "diff & 1.784135 & 2.9993024999999998 & 4.005310800000001 & 5.87933984 \\\\\n",
      "0x978a35- optimistic submissions: 138 - non-optimistic submissions: 715\n",
      "diff & 2.603325 & 3.2045315 & 3.8618388 & 4.23556038 \\\\\n",
      "diff & 1.777883 & 2.6232805 & 3.1306578 & 3.8156700199999998 \\\\\n",
      "0x945fc5- optimistic submissions: 7 - non-optimistic submissions: 27\n",
      "diff & 2.454892 & 3.071774 & 3.6179276000000002 & 4.6877216399999995 \\\\\n",
      "diff & 1.724374 & 2.7729645 & 3.8491559000000004 & 5.219483080000001 \\\\\n",
      "0x83d349- optimistic submissions: 33 - non-optimistic submissions: 198\n"
     ]
    }
   ],
   "source": [
    "for b in set(rsync_o.substring):\n",
    "    vals_o = rsync_o[rsync_o['substring']==b]\n",
    "    vals_n = rsync_n[rsync_n['substring']==b]\n",
    "    printRowFloat(vals_o, 'diff', 'diff')\n",
    "    printRowFloat(vals_n, 'diff', 'diff')\n",
    "    print(b + \"- optimistic submissions: \" + str(len(vals_o)) + \" - non-optimistic submissions: \" + str(len(vals_n)))\n",
    "    "
   ]
  },
  {
   "cell_type": "code",
   "execution_count": 65,
   "metadata": {},
   "outputs": [
    {
     "data": {
      "text/plain": [
       "(138, 715)"
      ]
     },
     "execution_count": 65,
     "metadata": {},
     "output_type": "execute_result"
    }
   ],
   "source": [
    "vals_o = rsync_o[rsync_o['substring']=='0x978a35']\n",
    "vals_n = rsync_n[rsync_n['substring']=='0x978a35']\n",
    "len(vals_o), len(vals_n)"
   ]
  },
  {
   "cell_type": "code",
   "execution_count": 67,
   "metadata": {},
   "outputs": [
    {
     "data": {
      "image/png": "[encoded data removed]",
      "text/plain": [
       "<Figure size 576x360 with 1 Axes>"
      ]
     },
     "metadata": {
      "needs_background": "light"
     },
     "output_type": "display_data"
    }
   ],
   "source": [
    "f, ax = plt.subplots(figsize=(8,5))\n",
    "\n",
    "bins = np.histogram(vals_n['diff'], bins=50)[1]\n",
    "ax.hist(vals_n['diff'], bins, color='g', alpha=0.7, density=True, label='non-optimistic')\n",
    "ax.hist(vals_o['diff'], bins, color='purple', alpha=0.7, density=True, label='optimistic')\n",
    "# ax.set_xlim(0,float(1e6))\n",
    "ax.set_xlabel('difference $(s)$', size=14)\n",
    "ax.set_ylabel('density', size=14)\n",
    "ax.set_title('slot boundary - winning bid arrival', size=18)\n",
    "plt.legend()\n",
    "plt.show()"
   ]
  },
  {
   "cell_type": "code",
   "execution_count": null,
   "metadata": {},
   "outputs": [],
   "source": []
  },
  {
   "cell_type": "code",
   "execution_count": 9,
   "metadata": {},
   "outputs": [],
   "source": [
    "opts_builders = opts.merge(descriptions, on='substring', how='left')\n",
    "nopts_builders = nopts.merge(descriptions, on='substring', how='left')"
   ]
  },
  {
   "cell_type": "code",
   "execution_count": 10,
   "metadata": {},
   "outputs": [],
   "source": [
    "bdo = opts_builders[opts_builders['total_duration'] < np.percentile(opts_builders['total_duration'].values, 99)]\n",
    "bdn = nopts_builders[nopts_builders['total_duration'] < np.percentile(nopts_builders['total_duration'].values, 99)]"
   ]
  },
  {
   "cell_type": "code",
   "execution_count": 11,
   "metadata": {},
   "outputs": [
    {
     "data": {
      "text/plain": [
       "(240433, 114160)"
      ]
     },
     "execution_count": 11,
     "metadata": {},
     "output_type": "execute_result"
    }
   ],
   "source": [
    "# rsync specifically\n",
    "len(bdo[bdo['builder_id']=='builder0x69']), len(bdn[bdn['builder_id']=='builder0x69'])"
   ]
  },
  {
   "cell_type": "code",
   "execution_count": 12,
   "metadata": {},
   "outputs": [],
   "source": [
    "b69_o = bdo[bdo['builder_id']=='builder0x69']\n",
    "b69_n = bdn[bdn['builder_id']=='builder0x69']"
   ]
  },
  {
   "cell_type": "code",
   "execution_count": 13,
   "metadata": {},
   "outputs": [
    {
     "data": {
      "text/plain": [
       "({'0xa4fb63', '0xa971c4', '0xb194b2'}, {'0xa4fb63', '0xa971c4', '0xb194b2'})"
      ]
     },
     "execution_count": 13,
     "metadata": {},
     "output_type": "execute_result"
    }
   ],
   "source": [
    "set(b69_o.substring), set(b69_n.substring)"
   ]
  },
  {
   "cell_type": "code",
   "execution_count": 14,
   "metadata": {},
   "outputs": [
    {
     "name": "stdout",
     "output_type": "stream",
     "text": [
      "0xa4fb63- optimistic submissions: 83790 - non-optimistic submissions: 50918\n",
      "0xa971c4- optimistic submissions: 64273 - non-optimistic submissions: 39125\n",
      "0xb194b2- optimistic submissions: 92370 - non-optimistic submissions: 24117\n"
     ]
    }
   ],
   "source": [
    "for b in set(b69_o.substring):\n",
    "    vals_o = b69_o[b69_o['substring']==b]['total_duration'].values\n",
    "    vals_n = b69_n[b69_n['substring']==b]['total_duration'].values\n",
    "    print(b + \"- optimistic submissions: \" + str(len(vals_o)) + \" - non-optimistic submissions: \" + str(len(vals_n)))"
   ]
  },
  {
   "cell_type": "code",
   "execution_count": 21,
   "metadata": {},
   "outputs": [],
   "source": [
    "bins = np.histogram(b69_o[b69_o['substring']=='0xa4fb63']['total_duration'].values, bins=500)[1]"
   ]
  },
  {
   "cell_type": "code",
   "execution_count": 28,
   "metadata": {},
   "outputs": [
    {
     "ename": "AttributeError",
     "evalue": "module 'matplotlib.pyplot' has no attribute 's'",
     "output_type": "error",
     "traceback": [
      "\u001b[0;31m---------------------------------------------------------------------------\u001b[0m",
      "\u001b[0;31mAttributeError\u001b[0m                            Traceback (most recent call last)",
      "\u001b[0;32m<ipython-input-28-007bbfc9169a>\u001b[0m in \u001b[0;36m<module>\u001b[0;34m\u001b[0m\n\u001b[1;32m     26\u001b[0m     \u001b[0maxarr\u001b[0m\u001b[0;34m[\u001b[0m\u001b[0mi\u001b[0m\u001b[0;34m]\u001b[0m\u001b[0;34m.\u001b[0m\u001b[0mset_xticks\u001b[0m\u001b[0;34m(\u001b[0m\u001b[0;34m[\u001b[0m\u001b[0;36m0\u001b[0m\u001b[0;34m,\u001b[0m \u001b[0mint\u001b[0m\u001b[0;34m(\u001b[0m\u001b[0;36m1e5\u001b[0m\u001b[0;34m)\u001b[0m\u001b[0;34m,\u001b[0m \u001b[0mint\u001b[0m\u001b[0;34m(\u001b[0m\u001b[0;36m2e5\u001b[0m\u001b[0;34m)\u001b[0m\u001b[0;34m,\u001b[0m \u001b[0mint\u001b[0m\u001b[0;34m(\u001b[0m\u001b[0;36m3e5\u001b[0m\u001b[0;34m)\u001b[0m\u001b[0;34m,\u001b[0m \u001b[0mint\u001b[0m\u001b[0;34m(\u001b[0m\u001b[0;36m4e5\u001b[0m\u001b[0;34m)\u001b[0m\u001b[0;34m]\u001b[0m\u001b[0;34m)\u001b[0m\u001b[0;34m\u001b[0m\u001b[0;34m\u001b[0m\u001b[0m\n\u001b[1;32m     27\u001b[0m \u001b[0maxarr\u001b[0m\u001b[0;34m[\u001b[0m\u001b[0;36m0\u001b[0m\u001b[0;34m]\u001b[0m\u001b[0;34m.\u001b[0m\u001b[0mset_ylabel\u001b[0m\u001b[0;34m(\u001b[0m\u001b[0;34m\"frequency\"\u001b[0m\u001b[0;34m,\u001b[0m \u001b[0msize\u001b[0m\u001b[0;34m=\u001b[0m\u001b[0;36m14\u001b[0m\u001b[0;34m)\u001b[0m\u001b[0;34m\u001b[0m\u001b[0;34m\u001b[0m\u001b[0m\n\u001b[0;32m---> 28\u001b[0;31m \u001b[0mplt\u001b[0m\u001b[0;34m.\u001b[0m\u001b[0ms\u001b[0m\u001b[0;34m\u001b[0m\u001b[0;34m\u001b[0m\u001b[0m\n\u001b[0m\u001b[1;32m     29\u001b[0m \u001b[0mplt\u001b[0m\u001b[0;34m.\u001b[0m\u001b[0mshow\u001b[0m\u001b[0;34m(\u001b[0m\u001b[0;34m)\u001b[0m\u001b[0;34m\u001b[0m\u001b[0;34m\u001b[0m\u001b[0m\n",
      "\u001b[0;31mAttributeError\u001b[0m: module 'matplotlib.pyplot' has no attribute 's'"
     ]
    },
    {
     "data": {
      "image/png": "[encoded data removed]",
      "text/plain": [
       "<Figure size 1080x360 with 3 Axes>"
      ]
     },
     "metadata": {
      "needs_background": "light"
     },
     "output_type": "display_data"
    }
   ],
   "source": [
    "f, axarr = plt.subplots(nrows=1,ncols=3, figsize=(15,5))\n",
    "\n",
    "for i, b in enumerate(['0xa4fb63', '0xa971c4', '0xb194b2']):\n",
    "    vals_o = b69_o[b69_o['substring']==b]['total_duration'].values\n",
    "    vals_n = b69_n[b69_n['substring']==b]['total_duration'].values\n",
    "    axarr[i].hist(\n",
    "        vals_o,\n",
    "        bins=bins,\n",
    "        color='saddlebrown',\n",
    "        alpha=0.7,\n",
    "        density=False,\n",
    "        label='optimistic; n={}'.format(len(vals_o))\n",
    "    )\n",
    "    axarr[i].hist(\n",
    "        vals_n,\n",
    "        bins=bins,\n",
    "        color='rebeccapurple',\n",
    "        alpha=0.7,\n",
    "        density=False,\n",
    "        label='non-optimistic; n={}'.format(len(vals_n))\n",
    "    )\n",
    "    axarr[i].legend()\n",
    "    axarr[i].set_title(\"pubkey={}\".format(b), size=16)\n",
    "    axarr[i].set_xlabel(\"submission duration $(\\mu s)$\", size=14)\n",
    "    axarr[i].set_xlim(0,float(0.4e6))\n",
    "    axarr[i].set_xticks([0, int(1e5), int(2e5), int(3e5), int(4e5)])\n",
    "axarr[0].set_ylabel(\"frequency\", size=14)\n",
    "plt.show()"
   ]
  },
  {
   "cell_type": "code",
   "execution_count": 34,
   "metadata": {},
   "outputs": [
    {
     "name": "stdout",
     "output_type": "stream",
     "text": [
      "opt total\\_duration & 22242 & 33337 & 62791 & 538920 \\\\\n",
      "non-opt total\\_duration & 146754 & 193392 & 319290 & 798933 \\\\\n"
     ]
    }
   ],
   "source": [
    "printRow(b69_o, 'total_duration', 'opt total\\_duration')\n",
    "printRow(b69_n, 'total_duration', 'non-opt total\\_duration')"
   ]
  },
  {
   "cell_type": "code",
   "execution_count": 38,
   "metadata": {},
   "outputs": [],
   "source": [
    "w = winners_builders"
   ]
  },
  {
   "cell_type": "code",
   "execution_count": 39,
   "metadata": {},
   "outputs": [
    {
     "data": {
      "text/plain": [
       "1760"
      ]
     },
     "execution_count": 39,
     "metadata": {},
     "output_type": "execute_result"
    }
   ],
   "source": [
    "# rsync specifically\n",
    "len(w[w['builder_id']=='builder0x69'])"
   ]
  },
  {
   "cell_type": "code",
   "execution_count": 41,
   "metadata": {},
   "outputs": [
    {
     "data": {
      "text/plain": [
       "(372, 1388)"
      ]
     },
     "execution_count": 41,
     "metadata": {},
     "output_type": "execute_result"
    }
   ],
   "source": [
    "b6_w = w[w['builder_id']=='builder0x69']\n",
    "b6_o = b6_w[b6_w['optimistic_submission']=='t']\n",
    "b6_n = b6_w[b6_w['optimistic_submission']=='f']\n",
    "len(b6_o), len(b6_n)"
   ]
  },
  {
   "cell_type": "code",
   "execution_count": 44,
   "metadata": {},
   "outputs": [
    {
     "data": {
      "text/plain": [
       "(1.315574258064516, 1.4672644747838617)"
      ]
     },
     "execution_count": 44,
     "metadata": {},
     "output_type": "execute_result"
    }
   ],
   "source": [
    "b6_o['diff'].mean(),b6_n['diff'].mean()"
   ]
  },
  {
   "cell_type": "code",
   "execution_count": 45,
   "metadata": {},
   "outputs": [
    {
     "data": {
      "text/plain": [
       "({'0xa4fb63', '0xa971c4', '0xb194b2'}, {'0xa4fb63', '0xa971c4', '0xb194b2'})"
      ]
     },
     "execution_count": 45,
     "metadata": {},
     "output_type": "execute_result"
    }
   ],
   "source": [
    "set(b6_o.substring), set(b6_n.substring)"
   ]
  },
  {
   "cell_type": "code",
   "execution_count": 46,
   "metadata": {},
   "outputs": [],
   "source": [
    "def printRowFloat(df, colname, printname):\n",
    "    print('{} & '.format(printname), end='')\n",
    "    st = ''\n",
    "    for i in [50, 75, 90, 99]:\n",
    "        st += str(np.percentile(df[colname], i))\n",
    "        st += \" & \"\n",
    "    print(st[:-3] + ' \\\\\\\\')"
   ]
  },
  {
   "cell_type": "code",
   "execution_count": 47,
   "metadata": {},
   "outputs": [
    {
     "name": "stdout",
     "output_type": "stream",
     "text": [
      "diff & 1.5769385 & 2.7717349999999996 & 3.6261997 & 5.4597417 \\\\\n",
      "diff & 1.708495 & 2.849221 & 3.9373518 & 5.47265374 \\\\\n",
      "0xa4fb63- optimistic submissions: 104 - non-optimistic submissions: 715\n",
      "diff & 2.1424425 & 3.2718930000000004 & 4.0007011 & 5.36099103 \\\\\n",
      "diff & 1.8233395 & 2.7437345000000004 & 3.8088831999999995 & 5.3265338 \\\\\n",
      "0xa971c4- optimistic submissions: 62 - non-optimistic submissions: 394\n",
      "diff & 2.0262325 & 3.0090152499999996 & 4.2665635 & 5.818006999999999 \\\\\n",
      "diff & 1.571709 & 2.7714515000000004 & 3.833510000000001 & 5.602034859999991 \\\\\n",
      "0xb194b2- optimistic submissions: 206 - non-optimistic submissions: 279\n"
     ]
    }
   ],
   "source": [
    "for b in set(b6_o.substring):\n",
    "    vals_o = b6_o[b6_o['substring']==b]\n",
    "    vals_n = b6_n[b6_n['substring']==b]\n",
    "    printRowFloat(vals_o, 'diff', 'diff')\n",
    "    printRowFloat(vals_n, 'diff', 'diff')\n",
    "    print(b + \"- optimistic submissions: \" + str(len(vals_o)) + \" - non-optimistic submissions: \" + str(len(vals_n)))\n",
    "    "
   ]
  },
  {
   "cell_type": "code",
   "execution_count": 48,
   "metadata": {},
   "outputs": [
    {
     "name": "stdout",
     "output_type": "stream",
     "text": [
      "opt diff & 1.9302709999999998 & 3.0546249999999997 & 4.077335900000002 & 5.726438600000003 \\\\\n",
      "nopt diff & 1.7389139999999998 & 2.77739825 & 3.8898919 & 5.503619629999998 \\\\\n"
     ]
    }
   ],
   "source": [
    "printRowFloat(b6_o, 'diff', 'opt diff')\n",
    "printRowFloat(b6_n, 'diff', 'nopt diff')"
   ]
  },
  {
   "cell_type": "code",
   "execution_count": null,
   "metadata": {},
   "outputs": [],
   "source": []
  },
  {
   "cell_type": "code",
   "execution_count": 49,
   "metadata": {},
   "outputs": [
    {
     "data": {
      "text/html": [
       "<div>\n",
       "<style scoped>\n",
       "    .dataframe tbody tr th:only-of-type {\n",
       "        vertical-align: middle;\n",
       "    }\n",
       "\n",
       "    .dataframe tbody tr th {\n",
       "        vertical-align: top;\n",
       "    }\n",
       "\n",
       "    .dataframe thead th {\n",
       "        text-align: right;\n",
       "    }\n",
       "</style>\n",
       "<table border=\"1\" class=\"dataframe\">\n",
       "  <thead>\n",
       "    <tr style=\"text-align: right;\">\n",
       "      <th></th>\n",
       "      <th>received_at</th>\n",
       "      <th>optimistic_submission</th>\n",
       "      <th>decode_duration</th>\n",
       "      <th>prechecks_duration</th>\n",
       "      <th>simulation_duration</th>\n",
       "      <th>redis_update_duration</th>\n",
       "      <th>total_duration</th>\n",
       "      <th>substring</th>\n",
       "      <th>slot_boundary</th>\n",
       "      <th>builder_id</th>\n",
       "    </tr>\n",
       "  </thead>\n",
       "  <tbody>\n",
       "    <tr>\n",
       "      <th>0</th>\n",
       "      <td>2023-03-17 12:12:33.673550</td>\n",
       "      <td>t</td>\n",
       "      <td>12062</td>\n",
       "      <td>1407</td>\n",
       "      <td>11</td>\n",
       "      <td>5999</td>\n",
       "      <td>19481</td>\n",
       "      <td>0xb33333</td>\n",
       "      <td>2023-03-17 12:12:36</td>\n",
       "      <td>smithbot</td>\n",
       "    </tr>\n",
       "    <tr>\n",
       "      <th>1</th>\n",
       "      <td>2023-03-17 12:12:20.659166</td>\n",
       "      <td>t</td>\n",
       "      <td>101735</td>\n",
       "      <td>1449</td>\n",
       "      <td>7</td>\n",
       "      <td>5578</td>\n",
       "      <td>108770</td>\n",
       "      <td>0x83d349</td>\n",
       "      <td>2023-03-17 12:12:24</td>\n",
       "      <td>rsync</td>\n",
       "    </tr>\n",
       "    <tr>\n",
       "      <th>2</th>\n",
       "      <td>2023-03-17 12:12:20.822450</td>\n",
       "      <td>t</td>\n",
       "      <td>11241</td>\n",
       "      <td>2096</td>\n",
       "      <td>10</td>\n",
       "      <td>6061</td>\n",
       "      <td>19409</td>\n",
       "      <td>0x978a35</td>\n",
       "      <td>2023-03-17 12:12:24</td>\n",
       "      <td>rsync</td>\n",
       "    </tr>\n",
       "    <tr>\n",
       "      <th>3</th>\n",
       "      <td>2023-03-17 12:12:21.083129</td>\n",
       "      <td>t</td>\n",
       "      <td>135937</td>\n",
       "      <td>1408</td>\n",
       "      <td>10</td>\n",
       "      <td>8629</td>\n",
       "      <td>145986</td>\n",
       "      <td>0x83d349</td>\n",
       "      <td>2023-03-17 12:12:24</td>\n",
       "      <td>rsync</td>\n",
       "    </tr>\n",
       "    <tr>\n",
       "      <th>4</th>\n",
       "      <td>2023-03-17 12:12:22.254343</td>\n",
       "      <td>t</td>\n",
       "      <td>234029</td>\n",
       "      <td>1672</td>\n",
       "      <td>7</td>\n",
       "      <td>5794</td>\n",
       "      <td>241504</td>\n",
       "      <td>0x83d349</td>\n",
       "      <td>2023-03-17 12:12:24</td>\n",
       "      <td>rsync</td>\n",
       "    </tr>\n",
       "  </tbody>\n",
       "</table>\n",
       "</div>"
      ],
      "text/plain": [
       "                 received_at optimistic_submission  decode_duration  \\\n",
       "0 2023-03-17 12:12:33.673550                     t            12062   \n",
       "1 2023-03-17 12:12:20.659166                     t           101735   \n",
       "2 2023-03-17 12:12:20.822450                     t            11241   \n",
       "3 2023-03-17 12:12:21.083129                     t           135937   \n",
       "4 2023-03-17 12:12:22.254343                     t           234029   \n",
       "\n",
       "   prechecks_duration  simulation_duration  redis_update_duration  \\\n",
       "0                1407                   11                   5999   \n",
       "1                1449                    7                   5578   \n",
       "2                2096                   10                   6061   \n",
       "3                1408                   10                   8629   \n",
       "4                1672                    7                   5794   \n",
       "\n",
       "   total_duration substring       slot_boundary builder_id  \n",
       "0           19481  0xb33333 2023-03-17 12:12:36   smithbot  \n",
       "1          108770  0x83d349 2023-03-17 12:12:24      rsync  \n",
       "2           19409  0x978a35 2023-03-17 12:12:24      rsync  \n",
       "3          145986  0x83d349 2023-03-17 12:12:24      rsync  \n",
       "4          241504  0x83d349 2023-03-17 12:12:24      rsync  "
      ]
     },
     "execution_count": 49,
     "metadata": {},
     "output_type": "execute_result"
    }
   ],
   "source": [
    "opts_builders = opts.merge(descriptions, on='substring', how='left')\n",
    "opts_builders.head()"
   ]
  },
  {
   "cell_type": "code",
   "execution_count": 50,
   "metadata": {},
   "outputs": [
    {
     "data": {
      "text/html": [
       "<div>\n",
       "<style scoped>\n",
       "    .dataframe tbody tr th:only-of-type {\n",
       "        vertical-align: middle;\n",
       "    }\n",
       "\n",
       "    .dataframe tbody tr th {\n",
       "        vertical-align: top;\n",
       "    }\n",
       "\n",
       "    .dataframe thead th {\n",
       "        text-align: right;\n",
       "    }\n",
       "</style>\n",
       "<table border=\"1\" class=\"dataframe\">\n",
       "  <thead>\n",
       "    <tr style=\"text-align: right;\">\n",
       "      <th></th>\n",
       "      <th>received_at</th>\n",
       "      <th>optimistic_submission</th>\n",
       "      <th>decode_duration</th>\n",
       "      <th>prechecks_duration</th>\n",
       "      <th>simulation_duration</th>\n",
       "      <th>redis_update_duration</th>\n",
       "      <th>total_duration</th>\n",
       "      <th>substring</th>\n",
       "      <th>slot_boundary</th>\n",
       "      <th>builder_id</th>\n",
       "    </tr>\n",
       "  </thead>\n",
       "  <tbody>\n",
       "    <tr>\n",
       "      <th>0</th>\n",
       "      <td>2023-03-13 17:57:45.774553</td>\n",
       "      <td>f</td>\n",
       "      <td>12410</td>\n",
       "      <td>1786</td>\n",
       "      <td>75578</td>\n",
       "      <td>6903</td>\n",
       "      <td>96678</td>\n",
       "      <td>0x978a35</td>\n",
       "      <td>2023-03-13 17:57:48</td>\n",
       "      <td>rsync</td>\n",
       "    </tr>\n",
       "    <tr>\n",
       "      <th>1</th>\n",
       "      <td>2023-03-13 17:57:45.698805</td>\n",
       "      <td>f</td>\n",
       "      <td>89843</td>\n",
       "      <td>1617</td>\n",
       "      <td>105741</td>\n",
       "      <td>6568</td>\n",
       "      <td>203771</td>\n",
       "      <td>0xa82f9a</td>\n",
       "      <td>2023-03-13 17:57:48</td>\n",
       "      <td>NaN</td>\n",
       "    </tr>\n",
       "    <tr>\n",
       "      <th>2</th>\n",
       "      <td>2023-03-13 17:57:45.810121</td>\n",
       "      <td>f</td>\n",
       "      <td>7900</td>\n",
       "      <td>1768</td>\n",
       "      <td>96445</td>\n",
       "      <td>7302</td>\n",
       "      <td>113417</td>\n",
       "      <td>0x84b02b</td>\n",
       "      <td>2023-03-13 17:57:48</td>\n",
       "      <td>NaN</td>\n",
       "    </tr>\n",
       "    <tr>\n",
       "      <th>3</th>\n",
       "      <td>2023-03-13 17:57:43.602490</td>\n",
       "      <td>f</td>\n",
       "      <td>90470</td>\n",
       "      <td>1353</td>\n",
       "      <td>98227</td>\n",
       "      <td>5276</td>\n",
       "      <td>195328</td>\n",
       "      <td>0xa1dead</td>\n",
       "      <td>2023-03-13 17:57:48</td>\n",
       "      <td>NaN</td>\n",
       "    </tr>\n",
       "    <tr>\n",
       "      <th>4</th>\n",
       "      <td>2023-03-13 17:57:43.675843</td>\n",
       "      <td>f</td>\n",
       "      <td>87590</td>\n",
       "      <td>1465</td>\n",
       "      <td>101181</td>\n",
       "      <td>5469</td>\n",
       "      <td>195707</td>\n",
       "      <td>0xa85807</td>\n",
       "      <td>2023-03-13 17:57:48</td>\n",
       "      <td>NaN</td>\n",
       "    </tr>\n",
       "  </tbody>\n",
       "</table>\n",
       "</div>"
      ],
      "text/plain": [
       "                 received_at optimistic_submission  decode_duration  \\\n",
       "0 2023-03-13 17:57:45.774553                     f            12410   \n",
       "1 2023-03-13 17:57:45.698805                     f            89843   \n",
       "2 2023-03-13 17:57:45.810121                     f             7900   \n",
       "3 2023-03-13 17:57:43.602490                     f            90470   \n",
       "4 2023-03-13 17:57:43.675843                     f            87590   \n",
       "\n",
       "   prechecks_duration  simulation_duration  redis_update_duration  \\\n",
       "0                1786                75578                   6903   \n",
       "1                1617               105741                   6568   \n",
       "2                1768                96445                   7302   \n",
       "3                1353                98227                   5276   \n",
       "4                1465               101181                   5469   \n",
       "\n",
       "   total_duration substring       slot_boundary builder_id  \n",
       "0           96678  0x978a35 2023-03-13 17:57:48      rsync  \n",
       "1          203771  0xa82f9a 2023-03-13 17:57:48        NaN  \n",
       "2          113417  0x84b02b 2023-03-13 17:57:48        NaN  \n",
       "3          195328  0xa1dead 2023-03-13 17:57:48        NaN  \n",
       "4          195707  0xa85807 2023-03-13 17:57:48        NaN  "
      ]
     },
     "execution_count": 50,
     "metadata": {},
     "output_type": "execute_result"
    }
   ],
   "source": [
    "nopts_builders = nopts.merge(descriptions, on='substring', how='left')\n",
    "nopts_builders.head()"
   ]
  },
  {
   "cell_type": "code",
   "execution_count": 77,
   "metadata": {},
   "outputs": [
    {
     "data": {
      "text/plain": [
       "{'BuildAI', 'beaverbuild', 'bob', 'builder0x69', 'finest', 'manta', 'rsync'}"
      ]
     },
     "execution_count": 77,
     "metadata": {},
     "output_type": "execute_result"
    }
   ],
   "source": [
    "buids = set(descriptions['builder_id'])\n",
    "buids.remove('Titan')\n",
    "buids.remove('rickastley')\n",
    "buids.remove('smithbot')\n",
    "buids"
   ]
  },
  {
   "cell_type": "code",
   "execution_count": 78,
   "metadata": {},
   "outputs": [],
   "source": [
    "pkMap = {}\n",
    "for b in buids:\n",
    "    pkMap[b] = descriptions[descriptions['builder_id']==b]['substring'].values"
   ]
  },
  {
   "cell_type": "code",
   "execution_count": 79,
   "metadata": {},
   "outputs": [
    {
     "data": {
      "text/plain": [
       "{'builder0x69': array(['0xa4fb63', '0xb194b2', '0xa971c4'], dtype=object),\n",
       " 'beaverbuild': array(['0xaec4ec', '0x96a59d', '0xb5d883', '0x8dde59'], dtype=object),\n",
       " 'bob': array(['0x8c344f', '0x8d6e6c', '0xa31892', '0x91afe2', '0x987ff8'],\n",
       "       dtype=object),\n",
       " 'finest': array(['0x984357'], dtype=object),\n",
       " 'manta': array(['0xb1b734', '0xa0d0db', '0xb5a688'], dtype=object),\n",
       " 'rsync': array(['0x978a35', '0x945fc5', '0x83d349'], dtype=object),\n",
       " 'BuildAI': array(['0x82ba7c'], dtype=object)}"
      ]
     },
     "execution_count": 79,
     "metadata": {},
     "output_type": "execute_result"
    }
   ],
   "source": [
    "pkMap"
   ]
  },
  {
   "cell_type": "code",
   "execution_count": 94,
   "metadata": {},
   "outputs": [
    {
     "name": "stdout",
     "output_type": "stream",
     "text": [
      "\\multirow{3}{*}{builder0x69}\n",
      "& \\texttt{0xa4fb63} & 201046 & 60055 & 3.348 \\\\\n",
      "& \\texttt{0xb194b2} & 209878 & 58176 & 3.608 \\\\\n",
      "& \\texttt{0xa971c4} & 209154 & 62613 & 3.340 \\\\\n",
      "\\hline\n",
      "\\multirow{4}{*}{beaverbuild}\n",
      "& \\texttt{0xaec4ec} & 211693 & 65415 & 3.236 \\\\\n",
      "& \\texttt{0x96a59d} & 215846 & 61802 & 3.493 \\\\\n",
      "& \\texttt{0xb5d883} & 216438 & 62436 & 3.467 \\\\\n",
      "& \\texttt{0x8dde59} & 197262 & 61691 & 3.198 \\\\\n",
      "\\hline\n",
      "\\multirow{5}{*}{bob}\n",
      "& \\texttt{0x8c344f} & 235667 & 58777 & 4.009 \\\\\n",
      "& \\texttt{0x8d6e6c} & 357966 & 144760 & 2.473 \\\\\n",
      "& \\texttt{0xa31892} & 236578 & 57214 & 4.135 \\\\\n",
      "& \\texttt{0x91afe2} & 397859 & 159900 & 2.488 \\\\\n",
      "& \\texttt{0x987ff8} & 355329 & 142946 & 2.486 \\\\\n",
      "\\hline\n",
      "\\multirow{1}{*}{finest}\n",
      "& \\texttt{0x984357} & 394545 & 122656 & 3.217 \\\\\n",
      "\\hline\n",
      "\\multirow{3}{*}{manta}\n",
      "& \\texttt{0xb1b734} & 312012 & 159892 & 1.951 \\\\\n",
      "& \\texttt{0xa0d0db} & 313213 & 165333 & 1.894 \\\\\n",
      "& \\texttt{0xb5a688} & 309250 & 161053 & 1.920 \\\\\n",
      "\\hline\n",
      "\\multirow{3}{*}{rsync}\n",
      "& \\texttt{0x978a35} & 189193 & 54275 & 3.486 \\\\\n",
      "& \\texttt{0x945fc5} & 362080 & 225248 & 1.607 \\\\\n",
      "& \\texttt{0x83d349} & 337905 & 205378 & 1.645 \\\\\n",
      "\\hline\n",
      "\\multirow{1}{*}{BuildAI}\n",
      "& \\texttt{0x82ba7c} & 402615 & 257947 & 1.561 \\\\\n",
      "\\hline\n"
     ]
    }
   ],
   "source": [
    "for k in pkMap:\n",
    "    vs = pkMap[k]\n",
    "#     print(k)\n",
    "    print(\"\\\\multirow{{{}}}{{*}}{{{}}}\".format(len(vs),k))\n",
    "    for v in vs:\n",
    "        opts_mean = opts_builders[opts_builders['substring']==v]['total_duration'].values.mean()\n",
    "        nopt_mean = nopts_builders[nopts_builders['substring']==v]['total_duration'].values.mean()\n",
    "        print(\"& \\\\texttt{{{}}} & {} & {} & {:0.3f} \\\\\\\\\".format(v,int(nopt_mean),int(opts_mean),nopt_mean/opts_mean))\n",
    "    print(\"\\\\hline\")\n",
    "        "
   ]
  },
  {
   "cell_type": "code",
   "execution_count": null,
   "metadata": {},
   "outputs": [],
   "source": []
  },
  {
   "cell_type": "code",
   "execution_count": 6,
   "metadata": {},
   "outputs": [],
   "source": [
    "# decode durations specifically"
   ]
  },
  {
   "cell_type": "code",
   "execution_count": 8,
   "metadata": {},
   "outputs": [
    {
     "data": {
      "text/plain": [
       "326649.0"
      ]
     },
     "execution_count": 8,
     "metadata": {},
     "output_type": "execute_result"
    }
   ],
   "source": [
    "np.percentile(opts['decode_duration'].values, 99)"
   ]
  },
  {
   "cell_type": "code",
   "execution_count": 9,
   "metadata": {},
   "outputs": [],
   "source": [
    "bdo = opts[opts['decode_duration'] < np.percentile(opts['decode_duration'].values, 99)]['decode_duration'].values\n",
    "bdn = nopts[nopts['decode_duration'] < np.percentile(nopts['decode_duration'].values, 99)]['decode_duration'].values"
   ]
  },
  {
   "cell_type": "code",
   "execution_count": 10,
   "metadata": {},
   "outputs": [
    {
     "data": {
      "text/plain": [
       "(989999, 902941)"
      ]
     },
     "execution_count": 10,
     "metadata": {},
     "output_type": "execute_result"
    }
   ],
   "source": [
    "len(bdn), len(bdo)"
   ]
  },
  {
   "cell_type": "code",
   "execution_count": 13,
   "metadata": {},
   "outputs": [
    {
     "data": {
      "image/png": "[encoded data removed]",
      "text/plain": [
       "<Figure size 864x504 with 1 Axes>"
      ]
     },
     "metadata": {
      "needs_background": "light"
     },
     "output_type": "display_data"
    }
   ],
   "source": [
    "f, ax = plt.subplots(figsize=(12,7))\n",
    "\n",
    "bins = np.histogram(bdn, bins=1000)[1]\n",
    "ax.hist(bdo, bins, color='purple', alpha=0.7, density=True, label='optimistic')\n",
    "ax.hist(bdn, bins, color='g', alpha=0.7, density=True, label='non-optimistic')\n",
    "ax.set_xlim(0,float(0.5e6))\n",
    "ax.set_xlabel('total submission duration $\\mu s$', size=16)\n",
    "ax.set_ylabel('frequency', size=16)\n",
    "ax.set_title('optimistic vs non-optimsitic decode durations', size=18)\n",
    "plt.legend()\n",
    "plt.show()"
   ]
  },
  {
   "cell_type": "code",
   "execution_count": 14,
   "metadata": {},
   "outputs": [],
   "source": [
    "pks = set(opts['substring'])"
   ]
  },
  {
   "cell_type": "code",
   "execution_count": 15,
   "metadata": {},
   "outputs": [
    {
     "data": {
      "text/html": [
       "<div>\n",
       "<style scoped>\n",
       "    .dataframe tbody tr th:only-of-type {\n",
       "        vertical-align: middle;\n",
       "    }\n",
       "\n",
       "    .dataframe tbody tr th {\n",
       "        vertical-align: top;\n",
       "    }\n",
       "\n",
       "    .dataframe thead th {\n",
       "        text-align: right;\n",
       "    }\n",
       "</style>\n",
       "<table border=\"1\" class=\"dataframe\">\n",
       "  <thead>\n",
       "    <tr style=\"text-align: right;\">\n",
       "      <th></th>\n",
       "      <th>substring</th>\n",
       "      <th>is_optimistic</th>\n",
       "      <th>is_high_prio</th>\n",
       "      <th>collateral</th>\n",
       "      <th>builder_id</th>\n",
       "      <th>description</th>\n",
       "    </tr>\n",
       "  </thead>\n",
       "  <tbody>\n",
       "    <tr>\n",
       "      <th>0</th>\n",
       "      <td>0xaec4ec</td>\n",
       "      <td>t</td>\n",
       "      <td>t</td>\n",
       "      <td>1000000000000000000</td>\n",
       "      <td>beaverbuild</td>\n",
       "      <td>beaver</td>\n",
       "    </tr>\n",
       "    <tr>\n",
       "      <th>1</th>\n",
       "      <td>0x96a59d</td>\n",
       "      <td>t</td>\n",
       "      <td>t</td>\n",
       "      <td>1000000000000000000</td>\n",
       "      <td>beaverbuild</td>\n",
       "      <td>beaver</td>\n",
       "    </tr>\n",
       "    <tr>\n",
       "      <th>2</th>\n",
       "      <td>0xb5d883</td>\n",
       "      <td>t</td>\n",
       "      <td>t</td>\n",
       "      <td>1000000000000000000</td>\n",
       "      <td>beaverbuild</td>\n",
       "      <td>beaver</td>\n",
       "    </tr>\n",
       "    <tr>\n",
       "      <th>3</th>\n",
       "      <td>0x8dde59</td>\n",
       "      <td>t</td>\n",
       "      <td>t</td>\n",
       "      <td>1000000000000000000</td>\n",
       "      <td>beaverbuild</td>\n",
       "      <td>beaver</td>\n",
       "    </tr>\n",
       "    <tr>\n",
       "      <th>4</th>\n",
       "      <td>0x8c344f</td>\n",
       "      <td>t</td>\n",
       "      <td>t</td>\n",
       "      <td>1000000000000000000</td>\n",
       "      <td>bob</td>\n",
       "      <td>bob</td>\n",
       "    </tr>\n",
       "  </tbody>\n",
       "</table>\n",
       "</div>"
      ],
      "text/plain": [
       "  substring is_optimistic is_high_prio           collateral   builder_id  \\\n",
       "0  0xaec4ec             t            t  1000000000000000000  beaverbuild   \n",
       "1  0x96a59d             t            t  1000000000000000000  beaverbuild   \n",
       "2  0xb5d883             t            t  1000000000000000000  beaverbuild   \n",
       "3  0x8dde59             t            t  1000000000000000000  beaverbuild   \n",
       "4  0x8c344f             t            t  1000000000000000000          bob   \n",
       "\n",
       "  description  \n",
       "0      beaver  \n",
       "1      beaver  \n",
       "2      beaver  \n",
       "3      beaver  \n",
       "4         bob  "
      ]
     },
     "execution_count": 15,
     "metadata": {},
     "output_type": "execute_result"
    }
   ],
   "source": [
    "builders = pd.read_csv('big/builders.txt', delimiter=\"|\")\n",
    "builders.head()"
   ]
  },
  {
   "cell_type": "code",
   "execution_count": 16,
   "metadata": {},
   "outputs": [
    {
     "data": {
      "text/html": [
       "<div>\n",
       "<style scoped>\n",
       "    .dataframe tbody tr th:only-of-type {\n",
       "        vertical-align: middle;\n",
       "    }\n",
       "\n",
       "    .dataframe tbody tr th {\n",
       "        vertical-align: top;\n",
       "    }\n",
       "\n",
       "    .dataframe thead th {\n",
       "        text-align: right;\n",
       "    }\n",
       "</style>\n",
       "<table border=\"1\" class=\"dataframe\">\n",
       "  <thead>\n",
       "    <tr style=\"text-align: right;\">\n",
       "      <th></th>\n",
       "      <th>substring</th>\n",
       "      <th>builder_id</th>\n",
       "    </tr>\n",
       "  </thead>\n",
       "  <tbody>\n",
       "    <tr>\n",
       "      <th>0</th>\n",
       "      <td>0xaec4ec</td>\n",
       "      <td>beaverbuild</td>\n",
       "    </tr>\n",
       "    <tr>\n",
       "      <th>1</th>\n",
       "      <td>0x96a59d</td>\n",
       "      <td>beaverbuild</td>\n",
       "    </tr>\n",
       "    <tr>\n",
       "      <th>2</th>\n",
       "      <td>0xb5d883</td>\n",
       "      <td>beaverbuild</td>\n",
       "    </tr>\n",
       "    <tr>\n",
       "      <th>3</th>\n",
       "      <td>0x8dde59</td>\n",
       "      <td>beaverbuild</td>\n",
       "    </tr>\n",
       "    <tr>\n",
       "      <th>4</th>\n",
       "      <td>0x8c344f</td>\n",
       "      <td>bob</td>\n",
       "    </tr>\n",
       "  </tbody>\n",
       "</table>\n",
       "</div>"
      ],
      "text/plain": [
       "  substring   builder_id\n",
       "0  0xaec4ec  beaverbuild\n",
       "1  0x96a59d  beaverbuild\n",
       "2  0xb5d883  beaverbuild\n",
       "3  0x8dde59  beaverbuild\n",
       "4  0x8c344f          bob"
      ]
     },
     "execution_count": 16,
     "metadata": {},
     "output_type": "execute_result"
    }
   ],
   "source": [
    "descriptions = builders[['substring', 'builder_id']].copy()\n",
    "descriptions.head()"
   ]
  },
  {
   "cell_type": "code",
   "execution_count": 17,
   "metadata": {},
   "outputs": [
    {
     "data": {
      "text/html": [
       "<div>\n",
       "<style scoped>\n",
       "    .dataframe tbody tr th:only-of-type {\n",
       "        vertical-align: middle;\n",
       "    }\n",
       "\n",
       "    .dataframe tbody tr th {\n",
       "        vertical-align: top;\n",
       "    }\n",
       "\n",
       "    .dataframe thead th {\n",
       "        text-align: right;\n",
       "    }\n",
       "</style>\n",
       "<table border=\"1\" class=\"dataframe\">\n",
       "  <thead>\n",
       "    <tr style=\"text-align: right;\">\n",
       "      <th></th>\n",
       "      <th>received_at</th>\n",
       "      <th>optimistic_submission</th>\n",
       "      <th>decode_duration</th>\n",
       "      <th>prechecks_duration</th>\n",
       "      <th>simulation_duration</th>\n",
       "      <th>redis_update_duration</th>\n",
       "      <th>total_duration</th>\n",
       "      <th>substring</th>\n",
       "      <th>slot_boundary</th>\n",
       "      <th>builder_id</th>\n",
       "    </tr>\n",
       "  </thead>\n",
       "  <tbody>\n",
       "    <tr>\n",
       "      <th>0</th>\n",
       "      <td>2023-03-17 12:12:33.673550</td>\n",
       "      <td>t</td>\n",
       "      <td>12062</td>\n",
       "      <td>1407</td>\n",
       "      <td>11</td>\n",
       "      <td>5999</td>\n",
       "      <td>19481</td>\n",
       "      <td>0xb33333</td>\n",
       "      <td>2023-03-17 12:12:36</td>\n",
       "      <td>smithbot</td>\n",
       "    </tr>\n",
       "    <tr>\n",
       "      <th>1</th>\n",
       "      <td>2023-03-17 12:12:20.659166</td>\n",
       "      <td>t</td>\n",
       "      <td>101735</td>\n",
       "      <td>1449</td>\n",
       "      <td>7</td>\n",
       "      <td>5578</td>\n",
       "      <td>108770</td>\n",
       "      <td>0x83d349</td>\n",
       "      <td>2023-03-17 12:12:24</td>\n",
       "      <td>rsync</td>\n",
       "    </tr>\n",
       "    <tr>\n",
       "      <th>2</th>\n",
       "      <td>2023-03-17 12:12:20.822450</td>\n",
       "      <td>t</td>\n",
       "      <td>11241</td>\n",
       "      <td>2096</td>\n",
       "      <td>10</td>\n",
       "      <td>6061</td>\n",
       "      <td>19409</td>\n",
       "      <td>0x978a35</td>\n",
       "      <td>2023-03-17 12:12:24</td>\n",
       "      <td>rsync</td>\n",
       "    </tr>\n",
       "    <tr>\n",
       "      <th>3</th>\n",
       "      <td>2023-03-17 12:12:21.083129</td>\n",
       "      <td>t</td>\n",
       "      <td>135937</td>\n",
       "      <td>1408</td>\n",
       "      <td>10</td>\n",
       "      <td>8629</td>\n",
       "      <td>145986</td>\n",
       "      <td>0x83d349</td>\n",
       "      <td>2023-03-17 12:12:24</td>\n",
       "      <td>rsync</td>\n",
       "    </tr>\n",
       "    <tr>\n",
       "      <th>4</th>\n",
       "      <td>2023-03-17 12:12:22.254343</td>\n",
       "      <td>t</td>\n",
       "      <td>234029</td>\n",
       "      <td>1672</td>\n",
       "      <td>7</td>\n",
       "      <td>5794</td>\n",
       "      <td>241504</td>\n",
       "      <td>0x83d349</td>\n",
       "      <td>2023-03-17 12:12:24</td>\n",
       "      <td>rsync</td>\n",
       "    </tr>\n",
       "  </tbody>\n",
       "</table>\n",
       "</div>"
      ],
      "text/plain": [
       "                 received_at optimistic_submission  decode_duration  \\\n",
       "0 2023-03-17 12:12:33.673550                     t            12062   \n",
       "1 2023-03-17 12:12:20.659166                     t           101735   \n",
       "2 2023-03-17 12:12:20.822450                     t            11241   \n",
       "3 2023-03-17 12:12:21.083129                     t           135937   \n",
       "4 2023-03-17 12:12:22.254343                     t           234029   \n",
       "\n",
       "   prechecks_duration  simulation_duration  redis_update_duration  \\\n",
       "0                1407                   11                   5999   \n",
       "1                1449                    7                   5578   \n",
       "2                2096                   10                   6061   \n",
       "3                1408                   10                   8629   \n",
       "4                1672                    7                   5794   \n",
       "\n",
       "   total_duration substring       slot_boundary builder_id  \n",
       "0           19481  0xb33333 2023-03-17 12:12:36   smithbot  \n",
       "1          108770  0x83d349 2023-03-17 12:12:24      rsync  \n",
       "2           19409  0x978a35 2023-03-17 12:12:24      rsync  \n",
       "3          145986  0x83d349 2023-03-17 12:12:24      rsync  \n",
       "4          241504  0x83d349 2023-03-17 12:12:24      rsync  "
      ]
     },
     "execution_count": 17,
     "metadata": {},
     "output_type": "execute_result"
    }
   ],
   "source": [
    "opts_builders = opts.merge(descriptions, on='substring', how='left')\n",
    "opts_builders.head()"
   ]
  },
  {
   "cell_type": "code",
   "execution_count": 18,
   "metadata": {},
   "outputs": [
    {
     "data": {
      "text/plain": [
       "{'Titan',\n",
       " 'beaverbuild',\n",
       " 'bob',\n",
       " 'builder0x69',\n",
       " 'finest',\n",
       " 'manta',\n",
       " 'rsync',\n",
       " 'smithbot'}"
      ]
     },
     "execution_count": 18,
     "metadata": {},
     "output_type": "execute_result"
    }
   ],
   "source": [
    "buids = set(opts_builders['builder_id'])\n",
    "buids.remove('BuildAI')\n",
    "buids"
   ]
  },
  {
   "cell_type": "code",
   "execution_count": 21,
   "metadata": {},
   "outputs": [],
   "source": [
    "bdo = opts_builders[opts_builders['decode_duration'] < np.percentile(opts_builders['decode_duration'].values, 99)]"
   ]
  },
  {
   "cell_type": "code",
   "execution_count": 22,
   "metadata": {},
   "outputs": [
    {
     "data": {
      "text/plain": [
       "242036"
      ]
     },
     "execution_count": 22,
     "metadata": {},
     "output_type": "execute_result"
    }
   ],
   "source": [
    "len(bdo[bdo['builder_id']=='builder0x69'])"
   ]
  },
  {
   "cell_type": "code",
   "execution_count": 24,
   "metadata": {},
   "outputs": [],
   "source": [
    "bins = np.histogram(bdo[bdo['builder_id']=='builder0x69']['decode_duration'].values, bins=500)[1]"
   ]
  },
  {
   "cell_type": "code",
   "execution_count": 25,
   "metadata": {},
   "outputs": [],
   "source": [
    "colors = plt.cm.copper(np.linspace(0, 1, 8))"
   ]
  },
  {
   "cell_type": "code",
   "execution_count": 26,
   "metadata": {},
   "outputs": [
    {
     "name": "stdout",
     "output_type": "stream",
     "text": [
      "0 0 bob\n",
      "161982\n",
      "1 0 builder0x69\n",
      "242036\n",
      "2 0 finest\n",
      "3480\n",
      "3 0 beaverbuild\n",
      "167112\n",
      "0 1 manta\n",
      "51640\n",
      "1 1 rsync\n",
      "178475\n",
      "2 1 smithbot\n",
      "41718\n",
      "3 1 Titan\n",
      "55741\n"
     ]
    },
    {
     "data": {
      "image/png": "[encoded data removed]",
      "text/plain": [
       "<Figure size 1080x360 with 8 Axes>"
      ]
     },
     "metadata": {
      "needs_background": "light"
     },
     "output_type": "display_data"
    }
   ],
   "source": [
    "f, axarr = plt.subplots(nrows=2,ncols=4, figsize=(15,5))\n",
    "\n",
    "for i, b in enumerate(buids):\n",
    "    print(i % 4, i//4, b)\n",
    "    r,c = i//4, i%4\n",
    "    vals = bdo[bdo['builder_id']==b]['decode_duration'].values\n",
    "    print(len(vals))\n",
    "    axarr[r,c].hist(\n",
    "        vals,\n",
    "        bins=bins,\n",
    "        color=colors[i],\n",
    "        alpha=0.7,\n",
    "        density=False,\n",
    "        label=b\n",
    "    )\n",
    "    if r == 1:\n",
    "        axarr[r,c].set_xlabel('submission duration $(\\mu s)$', size=12)\n",
    "    axarr[r,c].set_xlim(0,float(0.5e6))\n",
    "    axarr[r,c].set_title(b, size=14)\n",
    "    axarr[r,c].set_xticks([0, 250000, 500000])\n",
    "plt.subplots_adjust(hspace=.3)\n",
    "plt.subplots_adjust(wspace=.3)\n",
    "plt.show()\n"
   ]
  },
  {
   "cell_type": "code",
   "execution_count": null,
   "metadata": {},
   "outputs": [],
   "source": []
  }
 ],
 "metadata": {
  "kernelspec": {
   "display_name": "Python 3",
   "language": "python",
   "name": "python3"
  },
  "language_info": {
   "codemirror_mode": {
    "name": "ipython",
    "version": 3
   },
   "file_extension": ".py",
   "mimetype": "text/x-python",
   "name": "python",
   "nbconvert_exporter": "python",
   "pygments_lexer": "ipython3",
   "version": "3.8.16"
  }
 },
 "nbformat": 4,
 "nbformat_minor": 4
}

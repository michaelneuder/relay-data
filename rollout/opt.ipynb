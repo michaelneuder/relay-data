{
 "cells": [
  {
   "cell_type": "code",
   "execution_count": 1,
   "metadata": {},
   "outputs": [],
   "source": [
    "import numpy as np\n",
    "import pandas as pd\n",
    "import matplotlib.pyplot as plt\n",
    "import json\n",
    "from datetime import datetime\n",
    "plt.rcParams['axes.grid'] = True\n",
    "plt.rcParams['grid.alpha'] = 0.3\n",
    "plt.rcParams['axes.titlesize'] = 18"
   ]
  },
  {
   "cell_type": "code",
   "execution_count": 2,
   "metadata": {},
   "outputs": [
    {
     "data": {
      "text/html": [
       "<div>\n",
       "<style scoped>\n",
       "    .dataframe tbody tr th:only-of-type {\n",
       "        vertical-align: middle;\n",
       "    }\n",
       "\n",
       "    .dataframe tbody tr th {\n",
       "        vertical-align: top;\n",
       "    }\n",
       "\n",
       "    .dataframe thead th {\n",
       "        text-align: right;\n",
       "    }\n",
       "</style>\n",
       "<table border=\"1\" class=\"dataframe\">\n",
       "  <thead>\n",
       "    <tr style=\"text-align: right;\">\n",
       "      <th></th>\n",
       "      <th>received_at</th>\n",
       "      <th>optimistic_submission</th>\n",
       "      <th>decode_duration</th>\n",
       "      <th>prechecks_duration</th>\n",
       "      <th>simulation_duration</th>\n",
       "      <th>redis_update_duration</th>\n",
       "      <th>total_duration</th>\n",
       "      <th>substring</th>\n",
       "      <th>slot_boundary</th>\n",
       "    </tr>\n",
       "  </thead>\n",
       "  <tbody>\n",
       "    <tr>\n",
       "      <th>0</th>\n",
       "      <td>2023-03-13 17:57:45.774553</td>\n",
       "      <td>f</td>\n",
       "      <td>12410</td>\n",
       "      <td>1786</td>\n",
       "      <td>75578</td>\n",
       "      <td>6903</td>\n",
       "      <td>96678</td>\n",
       "      <td>0x978a35</td>\n",
       "      <td>2023-03-13 17:57:48</td>\n",
       "    </tr>\n",
       "    <tr>\n",
       "      <th>1</th>\n",
       "      <td>2023-03-13 17:57:45.698805</td>\n",
       "      <td>f</td>\n",
       "      <td>89843</td>\n",
       "      <td>1617</td>\n",
       "      <td>105741</td>\n",
       "      <td>6568</td>\n",
       "      <td>203771</td>\n",
       "      <td>0xa82f9a</td>\n",
       "      <td>2023-03-13 17:57:48</td>\n",
       "    </tr>\n",
       "    <tr>\n",
       "      <th>2</th>\n",
       "      <td>2023-03-13 17:57:45.810121</td>\n",
       "      <td>f</td>\n",
       "      <td>7900</td>\n",
       "      <td>1768</td>\n",
       "      <td>96445</td>\n",
       "      <td>7302</td>\n",
       "      <td>113417</td>\n",
       "      <td>0x84b02b</td>\n",
       "      <td>2023-03-13 17:57:48</td>\n",
       "    </tr>\n",
       "    <tr>\n",
       "      <th>3</th>\n",
       "      <td>2023-03-13 17:57:43.602490</td>\n",
       "      <td>f</td>\n",
       "      <td>90470</td>\n",
       "      <td>1353</td>\n",
       "      <td>98227</td>\n",
       "      <td>5276</td>\n",
       "      <td>195328</td>\n",
       "      <td>0xa1dead</td>\n",
       "      <td>2023-03-13 17:57:48</td>\n",
       "    </tr>\n",
       "    <tr>\n",
       "      <th>4</th>\n",
       "      <td>2023-03-13 17:57:43.675843</td>\n",
       "      <td>f</td>\n",
       "      <td>87590</td>\n",
       "      <td>1465</td>\n",
       "      <td>101181</td>\n",
       "      <td>5469</td>\n",
       "      <td>195707</td>\n",
       "      <td>0xa85807</td>\n",
       "      <td>2023-03-13 17:57:48</td>\n",
       "    </tr>\n",
       "  </tbody>\n",
       "</table>\n",
       "</div>"
      ],
      "text/plain": [
       "                 received_at optimistic_submission  decode_duration  \\\n",
       "0 2023-03-13 17:57:45.774553                     f            12410   \n",
       "1 2023-03-13 17:57:45.698805                     f            89843   \n",
       "2 2023-03-13 17:57:45.810121                     f             7900   \n",
       "3 2023-03-13 17:57:43.602490                     f            90470   \n",
       "4 2023-03-13 17:57:43.675843                     f            87590   \n",
       "\n",
       "   prechecks_duration  simulation_duration  redis_update_duration  \\\n",
       "0                1786                75578                   6903   \n",
       "1                1617               105741                   6568   \n",
       "2                1768                96445                   7302   \n",
       "3                1353                98227                   5276   \n",
       "4                1465               101181                   5469   \n",
       "\n",
       "   total_duration substring       slot_boundary  \n",
       "0           96678  0x978a35 2023-03-13 17:57:48  \n",
       "1          203771  0xa82f9a 2023-03-13 17:57:48  \n",
       "2          113417  0x84b02b 2023-03-13 17:57:48  \n",
       "3          195328  0xa1dead 2023-03-13 17:57:48  \n",
       "4          195707  0xa85807 2023-03-13 17:57:48  "
      ]
     },
     "execution_count": 2,
     "metadata": {},
     "output_type": "execute_result"
    }
   ],
   "source": [
    "nopts = pd.read_csv('big/noptsubs.txt', delimiter=\"|\")\n",
    "nopts['received_at'] = pd.to_datetime(nopts['received_at'], format=\"%Y-%m-%d%H:%M:%S.%f\")\n",
    "nopts['slot_boundary'] = np.asarray([pd.Timestamp(x).round(freq='12S') for x in nopts['received_at'].values])\n",
    "\n",
    "nopts.head()"
   ]
  },
  {
   "cell_type": "code",
   "execution_count": 3,
   "metadata": {},
   "outputs": [
    {
     "data": {
      "text/html": [
       "<div>\n",
       "<style scoped>\n",
       "    .dataframe tbody tr th:only-of-type {\n",
       "        vertical-align: middle;\n",
       "    }\n",
       "\n",
       "    .dataframe tbody tr th {\n",
       "        vertical-align: top;\n",
       "    }\n",
       "\n",
       "    .dataframe thead th {\n",
       "        text-align: right;\n",
       "    }\n",
       "</style>\n",
       "<table border=\"1\" class=\"dataframe\">\n",
       "  <thead>\n",
       "    <tr style=\"text-align: right;\">\n",
       "      <th></th>\n",
       "      <th>received_at</th>\n",
       "      <th>optimistic_submission</th>\n",
       "      <th>decode_duration</th>\n",
       "      <th>prechecks_duration</th>\n",
       "      <th>simulation_duration</th>\n",
       "      <th>redis_update_duration</th>\n",
       "      <th>total_duration</th>\n",
       "      <th>substring</th>\n",
       "      <th>slot_boundary</th>\n",
       "    </tr>\n",
       "  </thead>\n",
       "  <tbody>\n",
       "    <tr>\n",
       "      <th>0</th>\n",
       "      <td>2023-03-17 12:12:33.673550</td>\n",
       "      <td>t</td>\n",
       "      <td>12062</td>\n",
       "      <td>1407</td>\n",
       "      <td>11</td>\n",
       "      <td>5999</td>\n",
       "      <td>19481</td>\n",
       "      <td>0xb33333</td>\n",
       "      <td>2023-03-17 12:12:36</td>\n",
       "    </tr>\n",
       "    <tr>\n",
       "      <th>1</th>\n",
       "      <td>2023-03-17 12:12:20.659166</td>\n",
       "      <td>t</td>\n",
       "      <td>101735</td>\n",
       "      <td>1449</td>\n",
       "      <td>7</td>\n",
       "      <td>5578</td>\n",
       "      <td>108770</td>\n",
       "      <td>0x83d349</td>\n",
       "      <td>2023-03-17 12:12:24</td>\n",
       "    </tr>\n",
       "    <tr>\n",
       "      <th>2</th>\n",
       "      <td>2023-03-17 12:12:20.822450</td>\n",
       "      <td>t</td>\n",
       "      <td>11241</td>\n",
       "      <td>2096</td>\n",
       "      <td>10</td>\n",
       "      <td>6061</td>\n",
       "      <td>19409</td>\n",
       "      <td>0x978a35</td>\n",
       "      <td>2023-03-17 12:12:24</td>\n",
       "    </tr>\n",
       "    <tr>\n",
       "      <th>3</th>\n",
       "      <td>2023-03-17 12:12:21.083129</td>\n",
       "      <td>t</td>\n",
       "      <td>135937</td>\n",
       "      <td>1408</td>\n",
       "      <td>10</td>\n",
       "      <td>8629</td>\n",
       "      <td>145986</td>\n",
       "      <td>0x83d349</td>\n",
       "      <td>2023-03-17 12:12:24</td>\n",
       "    </tr>\n",
       "    <tr>\n",
       "      <th>4</th>\n",
       "      <td>2023-03-17 12:12:22.254343</td>\n",
       "      <td>t</td>\n",
       "      <td>234029</td>\n",
       "      <td>1672</td>\n",
       "      <td>7</td>\n",
       "      <td>5794</td>\n",
       "      <td>241504</td>\n",
       "      <td>0x83d349</td>\n",
       "      <td>2023-03-17 12:12:24</td>\n",
       "    </tr>\n",
       "  </tbody>\n",
       "</table>\n",
       "</div>"
      ],
      "text/plain": [
       "                 received_at optimistic_submission  decode_duration  \\\n",
       "0 2023-03-17 12:12:33.673550                     t            12062   \n",
       "1 2023-03-17 12:12:20.659166                     t           101735   \n",
       "2 2023-03-17 12:12:20.822450                     t            11241   \n",
       "3 2023-03-17 12:12:21.083129                     t           135937   \n",
       "4 2023-03-17 12:12:22.254343                     t           234029   \n",
       "\n",
       "   prechecks_duration  simulation_duration  redis_update_duration  \\\n",
       "0                1407                   11                   5999   \n",
       "1                1449                    7                   5578   \n",
       "2                2096                   10                   6061   \n",
       "3                1408                   10                   8629   \n",
       "4                1672                    7                   5794   \n",
       "\n",
       "   total_duration substring       slot_boundary  \n",
       "0           19481  0xb33333 2023-03-17 12:12:36  \n",
       "1          108770  0x83d349 2023-03-17 12:12:24  \n",
       "2           19409  0x978a35 2023-03-17 12:12:24  \n",
       "3          145986  0x83d349 2023-03-17 12:12:24  \n",
       "4          241504  0x83d349 2023-03-17 12:12:24  "
      ]
     },
     "execution_count": 3,
     "metadata": {},
     "output_type": "execute_result"
    }
   ],
   "source": [
    "opts = pd.read_csv('big/optsubs.txt', delimiter=\"|\")\n",
    "opts['received_at'] = pd.to_datetime(opts['received_at'], format=\"%Y-%m-%d%H:%M:%S.%f\")\n",
    "opts['slot_boundary'] = np.asarray([pd.Timestamp(x).round(freq='12S') for x in opts['received_at'].values])\n",
    "\n",
    "opts.head()"
   ]
  },
  {
   "cell_type": "code",
   "execution_count": 4,
   "metadata": {},
   "outputs": [
    {
     "data": {
      "text/plain": [
       "(1000000, 912063)"
      ]
     },
     "execution_count": 4,
     "metadata": {},
     "output_type": "execute_result"
    }
   ],
   "source": [
    "len(nopts), len(opts)"
   ]
  },
  {
   "cell_type": "code",
   "execution_count": 112,
   "metadata": {},
   "outputs": [
    {
     "data": {
      "text/plain": [
       "1153253.32"
      ]
     },
     "execution_count": 112,
     "metadata": {},
     "output_type": "execute_result"
    }
   ],
   "source": [
    "np.percentile(opts['total_duration'].values, 99)"
   ]
  },
  {
   "cell_type": "code",
   "execution_count": 113,
   "metadata": {},
   "outputs": [],
   "source": [
    "bdo = opts[opts['total_duration'] < np.percentile(opts['total_duration'].values, 99)]['total_duration'].values\n",
    "bdn = nopts[nopts['total_duration'] < np.percentile(nopts['total_duration'].values, 99)]['total_duration'].values"
   ]
  },
  {
   "cell_type": "code",
   "execution_count": 114,
   "metadata": {},
   "outputs": [
    {
     "data": {
      "text/plain": [
       "(990000, 902942)"
      ]
     },
     "execution_count": 114,
     "metadata": {},
     "output_type": "execute_result"
    }
   ],
   "source": [
    "len(bdn), len(bdo)"
   ]
  },
  {
   "cell_type": "code",
   "execution_count": 115,
   "metadata": {},
   "outputs": [
    {
     "data": {
      "image/png": "[encoded data removed]",
      "text/plain": [
       "<Figure size 576x360 with 1 Axes>"
      ]
     },
     "metadata": {
      "needs_background": "light"
     },
     "output_type": "display_data"
    }
   ],
   "source": [
    "f, ax = plt.subplots(figsize=(8,5))\n",
    "\n",
    "bins = np.histogram(bdn, bins=1000)[1]\n",
    "ax.hist(bdo, bins, color='purple', alpha=0.7, density=False, label='optimistic')\n",
    "ax.hist(bdn, bins, color='g', alpha=0.7, density=False, label='non-optimistic')\n",
    "ax.set_xlim(0,float(0.5e6))\n",
    "ax.set_xlabel('total submission duration $\\mu s$', size=14)\n",
    "ax.set_ylabel('frequency', size=14)\n",
    "ax.set_title('optimistic vs non-optimsitic submission durations', size=18)\n",
    "plt.legend()\n",
    "plt.show()"
   ]
  },
  {
   "cell_type": "code",
   "execution_count": 58,
   "metadata": {},
   "outputs": [],
   "source": [
    "pks = set(opts['substring'])"
   ]
  },
  {
   "cell_type": "code",
   "execution_count": 6,
   "metadata": {},
   "outputs": [
    {
     "data": {
      "text/html": [
       "<div>\n",
       "<style scoped>\n",
       "    .dataframe tbody tr th:only-of-type {\n",
       "        vertical-align: middle;\n",
       "    }\n",
       "\n",
       "    .dataframe tbody tr th {\n",
       "        vertical-align: top;\n",
       "    }\n",
       "\n",
       "    .dataframe thead th {\n",
       "        text-align: right;\n",
       "    }\n",
       "</style>\n",
       "<table border=\"1\" class=\"dataframe\">\n",
       "  <thead>\n",
       "    <tr style=\"text-align: right;\">\n",
       "      <th></th>\n",
       "      <th>substring</th>\n",
       "      <th>is_optimistic</th>\n",
       "      <th>is_high_prio</th>\n",
       "      <th>collateral</th>\n",
       "      <th>builder_id</th>\n",
       "      <th>description</th>\n",
       "    </tr>\n",
       "  </thead>\n",
       "  <tbody>\n",
       "    <tr>\n",
       "      <th>0</th>\n",
       "      <td>0xaec4ec</td>\n",
       "      <td>t</td>\n",
       "      <td>t</td>\n",
       "      <td>1000000000000000000</td>\n",
       "      <td>beaverbuild</td>\n",
       "      <td>beaver</td>\n",
       "    </tr>\n",
       "    <tr>\n",
       "      <th>1</th>\n",
       "      <td>0x96a59d</td>\n",
       "      <td>t</td>\n",
       "      <td>t</td>\n",
       "      <td>1000000000000000000</td>\n",
       "      <td>beaverbuild</td>\n",
       "      <td>beaver</td>\n",
       "    </tr>\n",
       "    <tr>\n",
       "      <th>2</th>\n",
       "      <td>0xb5d883</td>\n",
       "      <td>t</td>\n",
       "      <td>t</td>\n",
       "      <td>1000000000000000000</td>\n",
       "      <td>beaverbuild</td>\n",
       "      <td>beaver</td>\n",
       "    </tr>\n",
       "    <tr>\n",
       "      <th>3</th>\n",
       "      <td>0x8dde59</td>\n",
       "      <td>t</td>\n",
       "      <td>t</td>\n",
       "      <td>1000000000000000000</td>\n",
       "      <td>beaverbuild</td>\n",
       "      <td>beaver</td>\n",
       "    </tr>\n",
       "    <tr>\n",
       "      <th>4</th>\n",
       "      <td>0x8c344f</td>\n",
       "      <td>t</td>\n",
       "      <td>t</td>\n",
       "      <td>1000000000000000000</td>\n",
       "      <td>bob</td>\n",
       "      <td>bob</td>\n",
       "    </tr>\n",
       "  </tbody>\n",
       "</table>\n",
       "</div>"
      ],
      "text/plain": [
       "  substring is_optimistic is_high_prio           collateral   builder_id  \\\n",
       "0  0xaec4ec             t            t  1000000000000000000  beaverbuild   \n",
       "1  0x96a59d             t            t  1000000000000000000  beaverbuild   \n",
       "2  0xb5d883             t            t  1000000000000000000  beaverbuild   \n",
       "3  0x8dde59             t            t  1000000000000000000  beaverbuild   \n",
       "4  0x8c344f             t            t  1000000000000000000          bob   \n",
       "\n",
       "  description  \n",
       "0      beaver  \n",
       "1      beaver  \n",
       "2      beaver  \n",
       "3      beaver  \n",
       "4         bob  "
      ]
     },
     "execution_count": 6,
     "metadata": {},
     "output_type": "execute_result"
    }
   ],
   "source": [
    "builders = pd.read_csv('big/builders.txt', delimiter=\"|\")\n",
    "builders.head()"
   ]
  },
  {
   "cell_type": "code",
   "execution_count": 7,
   "metadata": {},
   "outputs": [
    {
     "data": {
      "text/html": [
       "<div>\n",
       "<style scoped>\n",
       "    .dataframe tbody tr th:only-of-type {\n",
       "        vertical-align: middle;\n",
       "    }\n",
       "\n",
       "    .dataframe tbody tr th {\n",
       "        vertical-align: top;\n",
       "    }\n",
       "\n",
       "    .dataframe thead th {\n",
       "        text-align: right;\n",
       "    }\n",
       "</style>\n",
       "<table border=\"1\" class=\"dataframe\">\n",
       "  <thead>\n",
       "    <tr style=\"text-align: right;\">\n",
       "      <th></th>\n",
       "      <th>substring</th>\n",
       "      <th>builder_id</th>\n",
       "    </tr>\n",
       "  </thead>\n",
       "  <tbody>\n",
       "    <tr>\n",
       "      <th>0</th>\n",
       "      <td>0xaec4ec</td>\n",
       "      <td>beaverbuild</td>\n",
       "    </tr>\n",
       "    <tr>\n",
       "      <th>1</th>\n",
       "      <td>0x96a59d</td>\n",
       "      <td>beaverbuild</td>\n",
       "    </tr>\n",
       "    <tr>\n",
       "      <th>2</th>\n",
       "      <td>0xb5d883</td>\n",
       "      <td>beaverbuild</td>\n",
       "    </tr>\n",
       "    <tr>\n",
       "      <th>3</th>\n",
       "      <td>0x8dde59</td>\n",
       "      <td>beaverbuild</td>\n",
       "    </tr>\n",
       "    <tr>\n",
       "      <th>4</th>\n",
       "      <td>0x8c344f</td>\n",
       "      <td>bob</td>\n",
       "    </tr>\n",
       "  </tbody>\n",
       "</table>\n",
       "</div>"
      ],
      "text/plain": [
       "  substring   builder_id\n",
       "0  0xaec4ec  beaverbuild\n",
       "1  0x96a59d  beaverbuild\n",
       "2  0xb5d883  beaverbuild\n",
       "3  0x8dde59  beaverbuild\n",
       "4  0x8c344f          bob"
      ]
     },
     "execution_count": 7,
     "metadata": {},
     "output_type": "execute_result"
    }
   ],
   "source": [
    "descriptions = builders[['substring', 'builder_id']].copy()\n",
    "descriptions.head()"
   ]
  },
  {
   "cell_type": "code",
   "execution_count": 8,
   "metadata": {},
   "outputs": [
    {
     "data": {
      "text/html": [
       "<div>\n",
       "<style scoped>\n",
       "    .dataframe tbody tr th:only-of-type {\n",
       "        vertical-align: middle;\n",
       "    }\n",
       "\n",
       "    .dataframe tbody tr th {\n",
       "        vertical-align: top;\n",
       "    }\n",
       "\n",
       "    .dataframe thead th {\n",
       "        text-align: right;\n",
       "    }\n",
       "</style>\n",
       "<table border=\"1\" class=\"dataframe\">\n",
       "  <thead>\n",
       "    <tr style=\"text-align: right;\">\n",
       "      <th></th>\n",
       "      <th>received_at</th>\n",
       "      <th>optimistic_submission</th>\n",
       "      <th>decode_duration</th>\n",
       "      <th>prechecks_duration</th>\n",
       "      <th>simulation_duration</th>\n",
       "      <th>redis_update_duration</th>\n",
       "      <th>total_duration</th>\n",
       "      <th>substring</th>\n",
       "      <th>slot_boundary</th>\n",
       "      <th>builder_id</th>\n",
       "    </tr>\n",
       "  </thead>\n",
       "  <tbody>\n",
       "    <tr>\n",
       "      <th>0</th>\n",
       "      <td>2023-03-17 12:12:33.673550</td>\n",
       "      <td>t</td>\n",
       "      <td>12062</td>\n",
       "      <td>1407</td>\n",
       "      <td>11</td>\n",
       "      <td>5999</td>\n",
       "      <td>19481</td>\n",
       "      <td>0xb33333</td>\n",
       "      <td>2023-03-17 12:12:36</td>\n",
       "      <td>smithbot</td>\n",
       "    </tr>\n",
       "    <tr>\n",
       "      <th>1</th>\n",
       "      <td>2023-03-17 12:12:20.659166</td>\n",
       "      <td>t</td>\n",
       "      <td>101735</td>\n",
       "      <td>1449</td>\n",
       "      <td>7</td>\n",
       "      <td>5578</td>\n",
       "      <td>108770</td>\n",
       "      <td>0x83d349</td>\n",
       "      <td>2023-03-17 12:12:24</td>\n",
       "      <td>rsync</td>\n",
       "    </tr>\n",
       "    <tr>\n",
       "      <th>2</th>\n",
       "      <td>2023-03-17 12:12:20.822450</td>\n",
       "      <td>t</td>\n",
       "      <td>11241</td>\n",
       "      <td>2096</td>\n",
       "      <td>10</td>\n",
       "      <td>6061</td>\n",
       "      <td>19409</td>\n",
       "      <td>0x978a35</td>\n",
       "      <td>2023-03-17 12:12:24</td>\n",
       "      <td>rsync</td>\n",
       "    </tr>\n",
       "    <tr>\n",
       "      <th>3</th>\n",
       "      <td>2023-03-17 12:12:21.083129</td>\n",
       "      <td>t</td>\n",
       "      <td>135937</td>\n",
       "      <td>1408</td>\n",
       "      <td>10</td>\n",
       "      <td>8629</td>\n",
       "      <td>145986</td>\n",
       "      <td>0x83d349</td>\n",
       "      <td>2023-03-17 12:12:24</td>\n",
       "      <td>rsync</td>\n",
       "    </tr>\n",
       "    <tr>\n",
       "      <th>4</th>\n",
       "      <td>2023-03-17 12:12:22.254343</td>\n",
       "      <td>t</td>\n",
       "      <td>234029</td>\n",
       "      <td>1672</td>\n",
       "      <td>7</td>\n",
       "      <td>5794</td>\n",
       "      <td>241504</td>\n",
       "      <td>0x83d349</td>\n",
       "      <td>2023-03-17 12:12:24</td>\n",
       "      <td>rsync</td>\n",
       "    </tr>\n",
       "  </tbody>\n",
       "</table>\n",
       "</div>"
      ],
      "text/plain": [
       "                 received_at optimistic_submission  decode_duration  \\\n",
       "0 2023-03-17 12:12:33.673550                     t            12062   \n",
       "1 2023-03-17 12:12:20.659166                     t           101735   \n",
       "2 2023-03-17 12:12:20.822450                     t            11241   \n",
       "3 2023-03-17 12:12:21.083129                     t           135937   \n",
       "4 2023-03-17 12:12:22.254343                     t           234029   \n",
       "\n",
       "   prechecks_duration  simulation_duration  redis_update_duration  \\\n",
       "0                1407                   11                   5999   \n",
       "1                1449                    7                   5578   \n",
       "2                2096                   10                   6061   \n",
       "3                1408                   10                   8629   \n",
       "4                1672                    7                   5794   \n",
       "\n",
       "   total_duration substring       slot_boundary builder_id  \n",
       "0           19481  0xb33333 2023-03-17 12:12:36   smithbot  \n",
       "1          108770  0x83d349 2023-03-17 12:12:24      rsync  \n",
       "2           19409  0x978a35 2023-03-17 12:12:24      rsync  \n",
       "3          145986  0x83d349 2023-03-17 12:12:24      rsync  \n",
       "4          241504  0x83d349 2023-03-17 12:12:24      rsync  "
      ]
     },
     "execution_count": 8,
     "metadata": {},
     "output_type": "execute_result"
    }
   ],
   "source": [
    "opts_builders = opts.merge(descriptions, on='substring', how='left')\n",
    "opts_builders.head()"
   ]
  },
  {
   "cell_type": "code",
   "execution_count": 9,
   "metadata": {},
   "outputs": [
    {
     "data": {
      "text/plain": [
       "{'Titan',\n",
       " 'beaverbuild',\n",
       " 'bob',\n",
       " 'builder0x69',\n",
       " 'finest',\n",
       " 'manta',\n",
       " 'rsync',\n",
       " 'smithbot'}"
      ]
     },
     "execution_count": 9,
     "metadata": {},
     "output_type": "execute_result"
    }
   ],
   "source": [
    "buids = set(opts_builders['builder_id'])\n",
    "buids.remove('BuildAI')\n",
    "buids"
   ]
  },
  {
   "cell_type": "code",
   "execution_count": 10,
   "metadata": {},
   "outputs": [],
   "source": [
    "bdo = opts_builders[opts_builders['total_duration'] < np.percentile(opts_builders['total_duration'].values, 99)]"
   ]
  },
  {
   "cell_type": "code",
   "execution_count": 11,
   "metadata": {},
   "outputs": [
    {
     "data": {
      "text/plain": [
       "240433"
      ]
     },
     "execution_count": 11,
     "metadata": {},
     "output_type": "execute_result"
    }
   ],
   "source": [
    "len(bdo[bdo['builder_id']=='builder0x69'])"
   ]
  },
  {
   "cell_type": "code",
   "execution_count": 123,
   "metadata": {},
   "outputs": [],
   "source": [
    "bins = np.histogram(bdo[bdo['builder_id']=='builder0x69']['total_duration'].values, bins=500)[1]"
   ]
  },
  {
   "cell_type": "code",
   "execution_count": 124,
   "metadata": {},
   "outputs": [],
   "source": [
    "colors = plt.cm.copper(np.linspace(0, 1, 8))"
   ]
  },
  {
   "cell_type": "code",
   "execution_count": 126,
   "metadata": {},
   "outputs": [
    {
     "name": "stdout",
     "output_type": "stream",
     "text": [
      "0 0 builder0x69\n",
      "240433\n",
      "1 0 rsync\n",
      "180995\n",
      "2 0 finest\n",
      "3424\n",
      "3 0 beaverbuild\n",
      "165737\n",
      "0 1 manta\n",
      "51876\n",
      "1 1 Titan\n",
      "57681\n",
      "2 1 smithbot\n",
      "41480\n",
      "3 1 bob\n",
      "160512\n"
     ]
    },
    {
     "data": {
      "image/png": "[encoded data removed]",
      "text/plain": [
       "<Figure size 1080x360 with 8 Axes>"
      ]
     },
     "metadata": {
      "needs_background": "light"
     },
     "output_type": "display_data"
    }
   ],
   "source": [
    "f, axarr = plt.subplots(nrows=2,ncols=4, figsize=(15,5))\n",
    "\n",
    "for i, b in enumerate(buids):\n",
    "    print(i % 4, i//4, b)\n",
    "    r,c = i//4, i%4\n",
    "    vals = bdo[bdo['builder_id']==b]['total_duration'].values\n",
    "    print(len(vals))\n",
    "    axarr[r,c].hist(\n",
    "        vals,\n",
    "        bins=bins,\n",
    "        color=colors[i],\n",
    "        alpha=0.7,\n",
    "        density=False,\n",
    "        label=b\n",
    "    )\n",
    "    if r == 1:\n",
    "        axarr[r,c].set_xlabel('submission duration $(\\mu s)$', size=12)\n",
    "    axarr[r,c].set_xlim(0,float(0.5e6))\n",
    "    axarr[r,c].set_title(b, size=14)\n",
    "    axarr[r,c].set_xticks([0, 250000, 500000])\n",
    "plt.subplots_adjust(hspace=.3)\n",
    "plt.subplots_adjust(wspace=.3)\n",
    "plt.show()\n"
   ]
  },
  {
   "cell_type": "code",
   "execution_count": 34,
   "metadata": {},
   "outputs": [],
   "source": [
    "def printdf(df):\n",
    "    print('decode\\_duration & ', end='')\n",
    "    st = ''\n",
    "    for i in [50, 75, 90, 99]:\n",
    "        st += str(int(np.percentile(df['decode_duration'], i)))\n",
    "        st += \" & \"\n",
    "    print(st[:-3] + ' \\\\\\\\')\n",
    "    st = ''\n",
    "    print('prechecks\\_duration & ', end='')\n",
    "    for i in [50, 75, 90, 99]:\n",
    "        st += str(int(np.percentile(df['prechecks_duration'], i)))\n",
    "        st += \" & \"\n",
    "    print(st[:-3] + ' \\\\\\\\')\n",
    "    st = ''\n",
    "    print('simulation\\_duration & ', end='')\n",
    "    for i in [50, 75, 90, 99]:\n",
    "        st += str(int(np.percentile(df['simulation_duration'], i)))\n",
    "        st += \" & \"\n",
    "    print(st[:-3] + ' \\\\\\\\')\n",
    "    st = ''\n",
    "    print('redis\\_update\\_duration & ', end='')\n",
    "    for i in [50, 75, 90, 99]:\n",
    "        st += str(int(np.percentile(df['redis_update_duration'], i)))\n",
    "        st += \" & \"\n",
    "    print(st[:-3] + ' \\\\\\\\')\n",
    "    st = ''\n",
    "    print('total\\_duration & ', end='')\n",
    "    for i in [50, 75, 90, 99]:\n",
    "        st += str(int(np.percentile(df['total_duration'], i)))\n",
    "        st += \" & \"\n",
    "    print(st[:-3] + ' \\\\\\\\')"
   ]
  },
  {
   "cell_type": "code",
   "execution_count": 116,
   "metadata": {},
   "outputs": [
    {
     "name": "stdout",
     "output_type": "stream",
     "text": [
      "decode\\_duration & 85020 & 101600 & 146920 & 304896 \\\\\n",
      "prechecks\\_duration & 1698 & 2207 & 7363 & 316881 \\\\\n",
      "simulation\\_duration & 113377 & 148299 & 218973 & 744570 \\\\\n",
      "redis\\_update\\_duration & 6206 & 8859 & 31508 & 567347 \\\\\n",
      "total\\_duration & 204528 & 285357 & 464722 & 1486526 \\\\\n"
     ]
    }
   ],
   "source": [
    "printdf(nopts)"
   ]
  },
  {
   "cell_type": "code",
   "execution_count": 117,
   "metadata": {},
   "outputs": [
    {
     "name": "stdout",
     "output_type": "stream",
     "text": [
      "decode\\_duration & 16566 & 91327 & 134511 & 326649 \\\\\n",
      "prechecks\\_duration & 1717 & 2317 & 4940 & 479328 \\\\\n",
      "simulation\\_duration & 8 & 10 & 12 & 28 \\\\\n",
      "redis\\_update\\_duration & 6911 & 10756 & 25583 & 443122 \\\\\n",
      "total\\_duration & 30597 & 109495 & 191159 & 1153253 \\\\\n"
     ]
    }
   ],
   "source": [
    "printdf(opts_builders)"
   ]
  },
  {
   "cell_type": "code",
   "execution_count": 45,
   "metadata": {},
   "outputs": [
    {
     "data": {
      "text/html": [
       "<div>\n",
       "<style scoped>\n",
       "    .dataframe tbody tr th:only-of-type {\n",
       "        vertical-align: middle;\n",
       "    }\n",
       "\n",
       "    .dataframe tbody tr th {\n",
       "        vertical-align: top;\n",
       "    }\n",
       "\n",
       "    .dataframe thead th {\n",
       "        text-align: right;\n",
       "    }\n",
       "</style>\n",
       "<table border=\"1\" class=\"dataframe\">\n",
       "  <thead>\n",
       "    <tr style=\"text-align: right;\">\n",
       "      <th></th>\n",
       "      <th>substring</th>\n",
       "      <th>received_at</th>\n",
       "      <th>optimistic_submission</th>\n",
       "      <th>decode_duration</th>\n",
       "      <th>prechecks_duration</th>\n",
       "      <th>simulation_duration</th>\n",
       "      <th>redis_update_duration</th>\n",
       "      <th>total_duration</th>\n",
       "      <th>slot</th>\n",
       "      <th>block_hash</th>\n",
       "      <th>slot_boundary</th>\n",
       "      <th>diff</th>\n",
       "    </tr>\n",
       "  </thead>\n",
       "  <tbody>\n",
       "    <tr>\n",
       "      <th>0</th>\n",
       "      <td>0x8bc8d1</td>\n",
       "      <td>2023-03-13 17:57:45.774553</td>\n",
       "      <td>f</td>\n",
       "      <td>9581</td>\n",
       "      <td>1291</td>\n",
       "      <td>89316</td>\n",
       "      <td>5942</td>\n",
       "      <td>106133</td>\n",
       "      <td>5992187</td>\n",
       "      <td>0xf19358e829a0bd231a45e47fdf66a64573c75bb849c7...</td>\n",
       "      <td>2023-03-13 17:57:48</td>\n",
       "      <td>2.225447</td>\n",
       "    </tr>\n",
       "    <tr>\n",
       "      <th>1</th>\n",
       "      <td>0xb5d883</td>\n",
       "      <td>2023-03-13 17:57:45.698805</td>\n",
       "      <td>f</td>\n",
       "      <td>7618</td>\n",
       "      <td>1631</td>\n",
       "      <td>69939</td>\n",
       "      <td>5873</td>\n",
       "      <td>85062</td>\n",
       "      <td>5992228</td>\n",
       "      <td>0x9f7b42578928ea022cad8cfee2d5814182a456704470...</td>\n",
       "      <td>2023-03-13 17:57:48</td>\n",
       "      <td>2.301195</td>\n",
       "    </tr>\n",
       "    <tr>\n",
       "      <th>2</th>\n",
       "      <td>0x81babe</td>\n",
       "      <td>2023-03-13 17:57:45.810121</td>\n",
       "      <td>f</td>\n",
       "      <td>90865</td>\n",
       "      <td>3028</td>\n",
       "      <td>100385</td>\n",
       "      <td>6604</td>\n",
       "      <td>200883</td>\n",
       "      <td>5992188</td>\n",
       "      <td>0x9d4008e6922000d26a4c690de8a4ad989b916f408110...</td>\n",
       "      <td>2023-03-13 17:57:48</td>\n",
       "      <td>2.189879</td>\n",
       "    </tr>\n",
       "    <tr>\n",
       "      <th>3</th>\n",
       "      <td>0xb5d883</td>\n",
       "      <td>2023-03-13 17:57:43.602490</td>\n",
       "      <td>f</td>\n",
       "      <td>12264</td>\n",
       "      <td>1423</td>\n",
       "      <td>88255</td>\n",
       "      <td>19044</td>\n",
       "      <td>120988</td>\n",
       "      <td>5992190</td>\n",
       "      <td>0x6339f22bd451ed670644cfeff5502d9a8052520a2865...</td>\n",
       "      <td>2023-03-13 17:57:48</td>\n",
       "      <td>4.397510</td>\n",
       "    </tr>\n",
       "    <tr>\n",
       "      <th>4</th>\n",
       "      <td>0xb5d883</td>\n",
       "      <td>2023-03-13 17:57:43.675843</td>\n",
       "      <td>f</td>\n",
       "      <td>10573</td>\n",
       "      <td>2102</td>\n",
       "      <td>131210</td>\n",
       "      <td>8006</td>\n",
       "      <td>151892</td>\n",
       "      <td>5992191</td>\n",
       "      <td>0xf950dc49936dc56d9755a9f324389ec776bb2d303f19...</td>\n",
       "      <td>2023-03-13 17:57:48</td>\n",
       "      <td>4.324157</td>\n",
       "    </tr>\n",
       "  </tbody>\n",
       "</table>\n",
       "</div>"
      ],
      "text/plain": [
       "  substring                received_at optimistic_submission  decode_duration  \\\n",
       "0  0x8bc8d1 2023-03-13 17:57:45.774553                     f             9581   \n",
       "1  0xb5d883 2023-03-13 17:57:45.698805                     f             7618   \n",
       "2  0x81babe 2023-03-13 17:57:45.810121                     f            90865   \n",
       "3  0xb5d883 2023-03-13 17:57:43.602490                     f            12264   \n",
       "4  0xb5d883 2023-03-13 17:57:43.675843                     f            10573   \n",
       "\n",
       "   prechecks_duration  simulation_duration  redis_update_duration  \\\n",
       "0                1291                89316                   5942   \n",
       "1                1631                69939                   5873   \n",
       "2                3028               100385                   6604   \n",
       "3                1423                88255                  19044   \n",
       "4                2102               131210                   8006   \n",
       "\n",
       "   total_duration     slot                                         block_hash  \\\n",
       "0          106133  5992187  0xf19358e829a0bd231a45e47fdf66a64573c75bb849c7...   \n",
       "1           85062  5992228  0x9f7b42578928ea022cad8cfee2d5814182a456704470...   \n",
       "2          200883  5992188  0x9d4008e6922000d26a4c690de8a4ad989b916f408110...   \n",
       "3          120988  5992190  0x6339f22bd451ed670644cfeff5502d9a8052520a2865...   \n",
       "4          151892  5992191  0xf950dc49936dc56d9755a9f324389ec776bb2d303f19...   \n",
       "\n",
       "        slot_boundary      diff  \n",
       "0 2023-03-13 17:57:48  2.225447  \n",
       "1 2023-03-13 17:57:48  2.301195  \n",
       "2 2023-03-13 17:57:48  2.189879  \n",
       "3 2023-03-13 17:57:48  4.397510  \n",
       "4 2023-03-13 17:57:48  4.324157  "
      ]
     },
     "execution_count": 45,
     "metadata": {},
     "output_type": "execute_result"
    }
   ],
   "source": [
    "winners = pd.read_csv('big/winningsubs.txt', delimiter=\"|\")\n",
    "winners['received_at'] = pd.to_datetime(nopts['received_at'], format=\"%Y-%m-%d%H:%M:%S.%f\")\n",
    "winners['slot_boundary'] = np.asarray([pd.Timestamp(x).round(freq='12S') for x in winners['received_at'].values])\n",
    "winners['diff'] = [v.total_seconds() for v in winners['slot_boundary'] - winners['received_at']]\n",
    "\n",
    "winners.head()"
   ]
  },
  {
   "cell_type": "code",
   "execution_count": 134,
   "metadata": {},
   "outputs": [],
   "source": [
    "wo = winners[winners['optimistic_submission']=='t']\n",
    "wn = winners[winners['optimistic_submission']=='f']"
   ]
  },
  {
   "cell_type": "code",
   "execution_count": 135,
   "metadata": {},
   "outputs": [
    {
     "data": {
      "text/plain": [
       "(1029, 6875)"
      ]
     },
     "execution_count": 135,
     "metadata": {},
     "output_type": "execute_result"
    }
   ],
   "source": [
    "len(wo), len(wn)"
   ]
  },
  {
   "cell_type": "code",
   "execution_count": 151,
   "metadata": {},
   "outputs": [
    {
     "data": {
      "image/png": "[encoded data removed]",
      "text/plain": [
       "<Figure size 576x360 with 1 Axes>"
      ]
     },
     "metadata": {
      "needs_background": "light"
     },
     "output_type": "display_data"
    }
   ],
   "source": [
    "f, ax = plt.subplots(figsize=(8,5))\n",
    "\n",
    "bins = np.histogram(wn['diff'], bins=200)[1]\n",
    "ax.hist(wn['diff'], bins, color='g', alpha=0.7, density=True, label='non-optimistic')\n",
    "ax.hist(wo['diff'], bins, color='purple', alpha=0.7, density=True, label='optimistic')\n",
    "# ax.set_xlim(0,float(1e6))\n",
    "ax.set_xlabel('difference $(s)$', size=14)\n",
    "ax.set_ylabel('density', size=14)\n",
    "ax.set_title('slot boundary - winning bid arrival', size=18)\n",
    "plt.legend()\n",
    "plt.show()"
   ]
  },
  {
   "cell_type": "code",
   "execution_count": null,
   "metadata": {},
   "outputs": [],
   "source": []
  },
  {
   "cell_type": "code",
   "execution_count": 16,
   "metadata": {},
   "outputs": [],
   "source": [
    "opts_builders = opts.merge(descriptions, on='substring', how='left')\n",
    "nopts_builders = nopts.merge(descriptions, on='substring', how='left')"
   ]
  },
  {
   "cell_type": "code",
   "execution_count": 18,
   "metadata": {},
   "outputs": [],
   "source": [
    "bdo = opts_builders[opts_builders['total_duration'] < np.percentile(opts_builders['total_duration'].values, 99)]\n",
    "bdn = nopts_builders[nopts_builders['total_duration'] < np.percentile(nopts_builders['total_duration'].values, 99)]"
   ]
  },
  {
   "cell_type": "code",
   "execution_count": 19,
   "metadata": {},
   "outputs": [
    {
     "data": {
      "text/plain": [
       "(180995, 141899)"
      ]
     },
     "execution_count": 19,
     "metadata": {},
     "output_type": "execute_result"
    }
   ],
   "source": [
    "# rsync specifically\n",
    "len(bdo[bdo['builder_id']=='rsync']), len(bdn[bdn['builder_id']=='rsync'])"
   ]
  },
  {
   "cell_type": "code",
   "execution_count": 20,
   "metadata": {},
   "outputs": [],
   "source": [
    "rsync_o = bdo[bdo['builder_id']=='rsync']\n",
    "rsync_n = bdn[bdn['builder_id']=='rsync']"
   ]
  },
  {
   "cell_type": "code",
   "execution_count": 22,
   "metadata": {},
   "outputs": [
    {
     "data": {
      "text/plain": [
       "({'0x83d349', '0x945fc5', '0x978a35'}, {'0x83d349', '0x945fc5', '0x978a35'})"
      ]
     },
     "execution_count": 22,
     "metadata": {},
     "output_type": "execute_result"
    }
   ],
   "source": [
    "set(rsync_o.substring), set(rsync_n.substring)"
   ]
  },
  {
   "cell_type": "code",
   "execution_count": 27,
   "metadata": {},
   "outputs": [
    {
     "name": "stdout",
     "output_type": "stream",
     "text": [
      "0x978a35 108945 79613\n",
      "0x945fc5 19765 17660\n",
      "0x83d349 52285 44626\n"
     ]
    }
   ],
   "source": [
    "for b in set(rsync_o.substring):\n",
    "    vals_o = rsync_o[rsync_o['substring']==b]['total_duration'].values\n",
    "    vals_n = rsync_n[rsync_n['substring']==b]['total_duration'].values\n",
    "    print(b + \"- optimistic submissions: \" + str(len(vals_o)) + \" - non-optimistic submissions: \" + str(len(vals_n)))"
   ]
  },
  {
   "cell_type": "code",
   "execution_count": 23,
   "metadata": {},
   "outputs": [],
   "source": [
    "bins = np.histogram(rsync_o[rsync_o['substring']=='0x83d349']['total_duration'].values, bins=500)[1]"
   ]
  },
  {
   "cell_type": "code",
   "execution_count": 32,
   "metadata": {},
   "outputs": [
    {
     "data": {
      "image/png": "[encoded data removed]",
      "text/plain": [
       "<Figure size 1080x360 with 3 Axes>"
      ]
     },
     "metadata": {
      "needs_background": "light"
     },
     "output_type": "display_data"
    }
   ],
   "source": [
    "f, axarr = plt.subplots(nrows=1,ncols=3, figsize=(15,5))\n",
    "\n",
    "for i, b in enumerate(['0x83d349', '0x945fc5', '0x978a35']):\n",
    "    vals_o = rsync_o[rsync_o['substring']==b]['total_duration'].values\n",
    "    vals_n = rsync_n[rsync_n['substring']==b]['total_duration'].values\n",
    "    axarr[i].hist(\n",
    "        vals_o,\n",
    "        bins=bins,\n",
    "        color='saddlebrown',\n",
    "        alpha=0.7,\n",
    "        density=False,\n",
    "        label='optimistic; n={}'.format(len(vals_o))\n",
    "    )\n",
    "    axarr[i].hist(\n",
    "        vals_n,\n",
    "        bins=bins,\n",
    "        color='rebeccapurple',\n",
    "        alpha=0.7,\n",
    "        density=False,\n",
    "        label='non-optimistic; n={}'.format(len(vals_n))\n",
    "    )\n",
    "    axarr[i].legend()\n",
    "    axarr[i].set_title(\"pubkey={}\".format(b), size=16)\n",
    "    axarr[i].set_xlabel(\"submission duration $(\\mu s)$\", size=14)\n",
    "axarr[0].set_ylabel(\"frequency\", size=14)\n",
    "plt.show()\n"
   ]
  },
  {
   "cell_type": "code",
   "execution_count": 41,
   "metadata": {},
   "outputs": [],
   "source": [
    "def printRow(df, colname, printname):\n",
    "    print('{} & '.format(printname), end='')\n",
    "    st = ''\n",
    "    for i in [50, 75, 90, 99]:\n",
    "        st += str(int(np.percentile(df[colname], i)))\n",
    "        st += \" & \"\n",
    "    print(st[:-3] + ' \\\\\\\\')"
   ]
  },
  {
   "cell_type": "code",
   "execution_count": 44,
   "metadata": {},
   "outputs": [
    {
     "name": "stdout",
     "output_type": "stream",
     "text": [
      "opt decode\\_duration & 133851 & 188651 & 279483 & 383609 \\\\\n",
      "nopt decode\\_duration & 128749 & 173194 & 238692 & 357607 \\\\\n",
      "\\hline\n",
      "opt prechecks\\_duration & 1691 & 2204 & 4084 & 278953 \\\\\n",
      "nopt prechecks\\_duration & 1714 & 2234 & 5123 & 248486 \\\\\n",
      "\\hline\n",
      "opt simulation\\_duration & 8 & 10 & 12 & 28 \\\\\n",
      "nopt simulation\\_duration & 119695 & 150397 & 197415 & 337017 \\\\\n",
      "\\hline\n",
      "opt redis\\_update\\_duration & 7053 & 10669 & 22964 & 171890 \\\\\n",
      "nopt redis\\_update\\_duration & 6660 & 9356 & 30972 & 389202 \\\\\n",
      "\\hline\n",
      "\\hline\n",
      "opt total\\_duration & 147898 & 214160 & 321527 & 655172 \\\\\n",
      "nopt total\\_duration & 272448 & 355282 & 499065 & 960468 \\\\\n",
      "\\hline\n",
      "0x83d349\n",
      "opt decode\\_duration & 146065 & 219275 & 304803 & 393104 \\\\\n",
      "nopt decode\\_duration & 133809 & 190046 & 256656 & 369193 \\\\\n",
      "\\hline\n",
      "opt prechecks\\_duration & 1772 & 2461 & 4817 & 256775 \\\\\n",
      "nopt prechecks\\_duration & 1790 & 2498 & 7131 & 255428 \\\\\n",
      "\\hline\n",
      "opt simulation\\_duration & 8 & 10 & 13 & 28 \\\\\n",
      "nopt simulation\\_duration & 123874 & 157884 & 209633 & 360796 \\\\\n",
      "\\hline\n",
      "opt redis\\_update\\_duration & 7775 & 12595 & 32628 & 211422 \\\\\n",
      "nopt redis\\_update\\_duration & 7089 & 10555 & 56018 & 399039 \\\\\n",
      "\\hline\n",
      "\\hline\n",
      "opt total\\_duration & 165255 & 249488 & 341079 & 676947 \\\\\n",
      "nopt total\\_duration & 287583 & 388218 & 538259 & 1000538 \\\\\n",
      "\\hline\n",
      "0x945fc5\n",
      "opt decode\\_duration & 14497 & 21532 & 32493 & 71951 \\\\\n",
      "nopt decode\\_duration & 14217 & 19745 & 28775 & 63818 \\\\\n",
      "\\hline\n",
      "opt prechecks\\_duration & 1658 & 2063 & 3393 & 271604 \\\\\n",
      "nopt prechecks\\_duration & 1679 & 2062 & 3652 & 217540 \\\\\n",
      "\\hline\n",
      "opt simulation\\_duration & 8 & 10 & 12 & 27 \\\\\n",
      "nopt simulation\\_duration & 115343 & 143098 & 184363 & 315357 \\\\\n",
      "\\hline\n",
      "opt redis\\_update\\_duration & 6635 & 9647 & 18032 & 138566 \\\\\n",
      "nopt redis\\_update\\_duration & 6463 & 8888 & 22400 & 366265 \\\\\n",
      "\\hline\n",
      "\\hline\n",
      "opt total\\_duration & 23830 & 35886 & 58321 & 438686 \\\\\n",
      "nopt total\\_duration & 142579 & 182722 & 283218 & 717917 \\\\\n",
      "\\hline\n",
      "0x978a35\n"
     ]
    }
   ],
   "source": [
    "for i, b in enumerate(['0x83d349', '0x945fc5', '0x978a35']):\n",
    "    o = rsync_o[rsync_o['substring']==b]\n",
    "    n = rsync_n[rsync_n['substring']==b]\n",
    "    printRow(o, 'decode_duration', 'opt decode\\_duration')\n",
    "    printRow(n, 'decode_duration', 'nopt decode\\_duration')\n",
    "    print(\"\\hline\")\n",
    "    printRow(o, 'prechecks_duration', 'opt prechecks\\_duration')\n",
    "    printRow(n, 'prechecks_duration', 'nopt prechecks\\_duration')\n",
    "    print(\"\\hline\")\n",
    "    printRow(o, 'simulation_duration', 'opt simulation\\_duration')\n",
    "    printRow(n, 'simulation_duration', 'nopt simulation\\_duration')\n",
    "    print(\"\\hline\")\n",
    "    printRow(o, 'redis_update_duration', 'opt redis\\_update\\_duration')\n",
    "    printRow(n, 'redis_update_duration', 'nopt redis\\_update\\_duration')\n",
    "    print(\"\\hline\")\n",
    "    print(\"\\hline\")\n",
    "    printRow(o, 'total_duration', 'opt total\\_duration')\n",
    "    printRow(n, 'total_duration', 'nopt total\\_duration')\n",
    "    print(\"\\hline\")\n",
    "    \n",
    "    \n",
    "    \n",
    "    print(b)\n",
    "#     printdf(o)\n",
    "#     printdf(n)"
   ]
  },
  {
   "cell_type": "code",
   "execution_count": 47,
   "metadata": {},
   "outputs": [
    {
     "data": {
      "text/html": [
       "<div>\n",
       "<style scoped>\n",
       "    .dataframe tbody tr th:only-of-type {\n",
       "        vertical-align: middle;\n",
       "    }\n",
       "\n",
       "    .dataframe tbody tr th {\n",
       "        vertical-align: top;\n",
       "    }\n",
       "\n",
       "    .dataframe thead th {\n",
       "        text-align: right;\n",
       "    }\n",
       "</style>\n",
       "<table border=\"1\" class=\"dataframe\">\n",
       "  <thead>\n",
       "    <tr style=\"text-align: right;\">\n",
       "      <th></th>\n",
       "      <th>substring</th>\n",
       "      <th>received_at</th>\n",
       "      <th>optimistic_submission</th>\n",
       "      <th>decode_duration</th>\n",
       "      <th>prechecks_duration</th>\n",
       "      <th>simulation_duration</th>\n",
       "      <th>redis_update_duration</th>\n",
       "      <th>total_duration</th>\n",
       "      <th>slot</th>\n",
       "      <th>block_hash</th>\n",
       "      <th>slot_boundary</th>\n",
       "      <th>diff</th>\n",
       "      <th>builder_id</th>\n",
       "    </tr>\n",
       "  </thead>\n",
       "  <tbody>\n",
       "    <tr>\n",
       "      <th>0</th>\n",
       "      <td>0x8bc8d1</td>\n",
       "      <td>2023-03-13 17:57:45.774553</td>\n",
       "      <td>f</td>\n",
       "      <td>9581</td>\n",
       "      <td>1291</td>\n",
       "      <td>89316</td>\n",
       "      <td>5942</td>\n",
       "      <td>106133</td>\n",
       "      <td>5992187</td>\n",
       "      <td>0xf19358e829a0bd231a45e47fdf66a64573c75bb849c7...</td>\n",
       "      <td>2023-03-13 17:57:48</td>\n",
       "      <td>2.225447</td>\n",
       "      <td>NaN</td>\n",
       "    </tr>\n",
       "    <tr>\n",
       "      <th>1</th>\n",
       "      <td>0xb5d883</td>\n",
       "      <td>2023-03-13 17:57:45.698805</td>\n",
       "      <td>f</td>\n",
       "      <td>7618</td>\n",
       "      <td>1631</td>\n",
       "      <td>69939</td>\n",
       "      <td>5873</td>\n",
       "      <td>85062</td>\n",
       "      <td>5992228</td>\n",
       "      <td>0x9f7b42578928ea022cad8cfee2d5814182a456704470...</td>\n",
       "      <td>2023-03-13 17:57:48</td>\n",
       "      <td>2.301195</td>\n",
       "      <td>beaverbuild</td>\n",
       "    </tr>\n",
       "    <tr>\n",
       "      <th>2</th>\n",
       "      <td>0x81babe</td>\n",
       "      <td>2023-03-13 17:57:45.810121</td>\n",
       "      <td>f</td>\n",
       "      <td>90865</td>\n",
       "      <td>3028</td>\n",
       "      <td>100385</td>\n",
       "      <td>6604</td>\n",
       "      <td>200883</td>\n",
       "      <td>5992188</td>\n",
       "      <td>0x9d4008e6922000d26a4c690de8a4ad989b916f408110...</td>\n",
       "      <td>2023-03-13 17:57:48</td>\n",
       "      <td>2.189879</td>\n",
       "      <td>NaN</td>\n",
       "    </tr>\n",
       "    <tr>\n",
       "      <th>3</th>\n",
       "      <td>0xb5d883</td>\n",
       "      <td>2023-03-13 17:57:43.602490</td>\n",
       "      <td>f</td>\n",
       "      <td>12264</td>\n",
       "      <td>1423</td>\n",
       "      <td>88255</td>\n",
       "      <td>19044</td>\n",
       "      <td>120988</td>\n",
       "      <td>5992190</td>\n",
       "      <td>0x6339f22bd451ed670644cfeff5502d9a8052520a2865...</td>\n",
       "      <td>2023-03-13 17:57:48</td>\n",
       "      <td>4.397510</td>\n",
       "      <td>beaverbuild</td>\n",
       "    </tr>\n",
       "    <tr>\n",
       "      <th>4</th>\n",
       "      <td>0xb5d883</td>\n",
       "      <td>2023-03-13 17:57:43.675843</td>\n",
       "      <td>f</td>\n",
       "      <td>10573</td>\n",
       "      <td>2102</td>\n",
       "      <td>131210</td>\n",
       "      <td>8006</td>\n",
       "      <td>151892</td>\n",
       "      <td>5992191</td>\n",
       "      <td>0xf950dc49936dc56d9755a9f324389ec776bb2d303f19...</td>\n",
       "      <td>2023-03-13 17:57:48</td>\n",
       "      <td>4.324157</td>\n",
       "      <td>beaverbuild</td>\n",
       "    </tr>\n",
       "  </tbody>\n",
       "</table>\n",
       "</div>"
      ],
      "text/plain": [
       "  substring                received_at optimistic_submission  decode_duration  \\\n",
       "0  0x8bc8d1 2023-03-13 17:57:45.774553                     f             9581   \n",
       "1  0xb5d883 2023-03-13 17:57:45.698805                     f             7618   \n",
       "2  0x81babe 2023-03-13 17:57:45.810121                     f            90865   \n",
       "3  0xb5d883 2023-03-13 17:57:43.602490                     f            12264   \n",
       "4  0xb5d883 2023-03-13 17:57:43.675843                     f            10573   \n",
       "\n",
       "   prechecks_duration  simulation_duration  redis_update_duration  \\\n",
       "0                1291                89316                   5942   \n",
       "1                1631                69939                   5873   \n",
       "2                3028               100385                   6604   \n",
       "3                1423                88255                  19044   \n",
       "4                2102               131210                   8006   \n",
       "\n",
       "   total_duration     slot                                         block_hash  \\\n",
       "0          106133  5992187  0xf19358e829a0bd231a45e47fdf66a64573c75bb849c7...   \n",
       "1           85062  5992228  0x9f7b42578928ea022cad8cfee2d5814182a456704470...   \n",
       "2          200883  5992188  0x9d4008e6922000d26a4c690de8a4ad989b916f408110...   \n",
       "3          120988  5992190  0x6339f22bd451ed670644cfeff5502d9a8052520a2865...   \n",
       "4          151892  5992191  0xf950dc49936dc56d9755a9f324389ec776bb2d303f19...   \n",
       "\n",
       "        slot_boundary      diff   builder_id  \n",
       "0 2023-03-13 17:57:48  2.225447          NaN  \n",
       "1 2023-03-13 17:57:48  2.301195  beaverbuild  \n",
       "2 2023-03-13 17:57:48  2.189879          NaN  \n",
       "3 2023-03-13 17:57:48  4.397510  beaverbuild  \n",
       "4 2023-03-13 17:57:48  4.324157  beaverbuild  "
      ]
     },
     "execution_count": 47,
     "metadata": {},
     "output_type": "execute_result"
    }
   ],
   "source": [
    "winners_builders = winners.merge(descriptions, on='substring', how='left')\n",
    "winners_builders.head()"
   ]
  },
  {
   "cell_type": "code",
   "execution_count": 48,
   "metadata": {},
   "outputs": [],
   "source": [
    "w = winners_builders[winners_builders['total_duration'] < np.percentile(winners_builders['total_duration'].values, 99)]"
   ]
  },
  {
   "cell_type": "code",
   "execution_count": 49,
   "metadata": {},
   "outputs": [
    {
     "data": {
      "text/plain": [
       "1118"
      ]
     },
     "execution_count": 49,
     "metadata": {},
     "output_type": "execute_result"
    }
   ],
   "source": [
    "# rsync specifically\n",
    "len(w[w['builder_id']=='rsync'])"
   ]
  },
  {
   "cell_type": "code",
   "execution_count": 51,
   "metadata": {},
   "outputs": [
    {
     "data": {
      "text/plain": [
       "(178, 940)"
      ]
     },
     "execution_count": 51,
     "metadata": {},
     "output_type": "execute_result"
    }
   ],
   "source": [
    "rsync_w = w[w['builder_id']=='rsync']\n",
    "rsync_o = rsync_w[rsync_w['optimistic_submission']=='t']\n",
    "rsync_n = rsync_w[rsync_w['optimistic_submission']=='f']\n",
    "len(rsync_o), len(rsync_n)"
   ]
  },
  {
   "cell_type": "code",
   "execution_count": 64,
   "metadata": {},
   "outputs": [
    {
     "data": {
      "text/plain": [
       "(1.4777672808510638, 4.730991315280895)"
      ]
     },
     "execution_count": 64,
     "metadata": {},
     "output_type": "execute_result"
    }
   ],
   "source": [
    "rsync_n['diff'].mean(),rsync_o['diff'].var()"
   ]
  },
  {
   "cell_type": "code",
   "execution_count": 52,
   "metadata": {},
   "outputs": [
    {
     "data": {
      "text/plain": [
       "({'0x83d349', '0x945fc5', '0x978a35'}, {'0x83d349', '0x945fc5', '0x978a35'})"
      ]
     },
     "execution_count": 52,
     "metadata": {},
     "output_type": "execute_result"
    }
   ],
   "source": [
    "set(rsync_o.substring), set(rsync_n.substring)"
   ]
  },
  {
   "cell_type": "code",
   "execution_count": 55,
   "metadata": {},
   "outputs": [],
   "source": [
    "def printRowFloat(df, colname, printname):\n",
    "    print('{} & '.format(printname), end='')\n",
    "    st = ''\n",
    "    for i in [50, 75, 90, 99]:\n",
    "        st += str(np.percentile(df[colname], i))\n",
    "        st += \" & \"\n",
    "    print(st[:-3] + ' \\\\\\\\')"
   ]
  },
  {
   "cell_type": "code",
   "execution_count": 57,
   "metadata": {},
   "outputs": [
    {
     "name": "stdout",
     "output_type": "stream",
     "text": [
      "diff & 2.053 & 3.15205475 & 3.9004609 & 5.255568759999999 \\\\\n",
      "diff & 1.784135 & 2.9993024999999998 & 4.005310800000001 & 5.87933984 \\\\\n",
      "0x978a35- optimistic submissions: 138 - non-optimistic submissions: 715\n",
      "diff & 2.603325 & 3.2045315 & 3.8618388 & 4.23556038 \\\\\n",
      "diff & 1.777883 & 2.6232805 & 3.1306578 & 3.8156700199999998 \\\\\n",
      "0x945fc5- optimistic submissions: 7 - non-optimistic submissions: 27\n",
      "diff & 2.454892 & 3.071774 & 3.6179276000000002 & 4.6877216399999995 \\\\\n",
      "diff & 1.724374 & 2.7729645 & 3.8491559000000004 & 5.219483080000001 \\\\\n",
      "0x83d349- optimistic submissions: 33 - non-optimistic submissions: 198\n"
     ]
    }
   ],
   "source": [
    "for b in set(rsync_o.substring):\n",
    "    vals_o = rsync_o[rsync_o['substring']==b]\n",
    "    vals_n = rsync_n[rsync_n['substring']==b]\n",
    "    printRowFloat(vals_o, 'diff', 'diff')\n",
    "    printRowFloat(vals_n, 'diff', 'diff')\n",
    "    print(b + \"- optimistic submissions: \" + str(len(vals_o)) + \" - non-optimistic submissions: \" + str(len(vals_n)))\n",
    "    "
   ]
  },
  {
   "cell_type": "code",
   "execution_count": 65,
   "metadata": {},
   "outputs": [
    {
     "data": {
      "text/plain": [
       "(138, 715)"
      ]
     },
     "execution_count": 65,
     "metadata": {},
     "output_type": "execute_result"
    }
   ],
   "source": [
    "vals_o = rsync_o[rsync_o['substring']=='0x978a35']\n",
    "vals_n = rsync_n[rsync_n['substring']=='0x978a35']\n",
    "len(vals_o), len(vals_n)"
   ]
  },
  {
   "cell_type": "code",
   "execution_count": 67,
   "metadata": {},
   "outputs": [
    {
     "data": {
      "image/png": "[encoded data removed]",
      "text/plain": [
       "<Figure size 576x360 with 1 Axes>"
      ]
     },
     "metadata": {
      "needs_background": "light"
     },
     "output_type": "display_data"
    }
   ],
   "source": [
    "f, ax = plt.subplots(figsize=(8,5))\n",
    "\n",
    "bins = np.histogram(vals_n['diff'], bins=50)[1]\n",
    "ax.hist(vals_n['diff'], bins, color='g', alpha=0.7, density=True, label='non-optimistic')\n",
    "ax.hist(vals_o['diff'], bins, color='purple', alpha=0.7, density=True, label='optimistic')\n",
    "# ax.set_xlim(0,float(1e6))\n",
    "ax.set_xlabel('difference $(s)$', size=14)\n",
    "ax.set_ylabel('density', size=14)\n",
    "ax.set_title('slot boundary - winning bid arrival', size=18)\n",
    "plt.legend()\n",
    "plt.show()"
   ]
  },
  {
   "cell_type": "code",
   "execution_count": null,
   "metadata": {},
   "outputs": [],
   "source": []
  },
  {
   "cell_type": "code",
   "execution_count": null,
   "metadata": {},
   "outputs": [],
   "source": []
  },
  {
   "cell_type": "code",
   "execution_count": null,
   "metadata": {},
   "outputs": [],
   "source": []
  }
 ],
 "metadata": {
  "kernelspec": {
   "display_name": "Python 3",
   "language": "python",
   "name": "python3"
  },
  "language_info": {
   "codemirror_mode": {
    "name": "ipython",
    "version": 3
   },
   "file_extension": ".py",
   "mimetype": "text/x-python",
   "name": "python",
   "nbconvert_exporter": "python",
   "pygments_lexer": "ipython3",
   "version": "3.8.16"
  }
 },
 "nbformat": 4,
 "nbformat_minor": 4
}
